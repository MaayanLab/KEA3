{
 "cells": [
  {
   "cell_type": "code",
   "execution_count": 1,
   "metadata": {
    "collapsed": true
   },
   "outputs": [],
   "source": [
    "import pandas as pd\n",
    "import numpy as np"
   ]
  },
  {
   "cell_type": "code",
   "execution_count": 4,
   "metadata": {
    "collapsed": true
   },
   "outputs": [],
   "source": [
    "def GMT_to_SIG(gmt):\n",
    "    with open(gmt, 'r') as openfile:\n",
    "        gmt_data = [x.strip().split('\\t') for x in openfile.readlines()]\n",
    "        \n",
    "    gmt_dict = {x[0]: x[2:] for x in gmt_data}\n",
    "                \n",
    "    sig = pd.DataFrame([[x[0], y] for x in gmt_data for y in x[2:]])\n",
    "\n",
    "    #Insert first four columns for .sig file format (NaNs)\n",
    "    sig.insert(1, 'NA-1', str(np.nan))\n",
    "    sig.insert(2, 'NA-2', str(np.nan))\n",
    "    sig.insert(3, 'NA-3', str(np.nan))\n",
    "    sig.insert(4, 'NA-4', str(np.nan))\n",
    "                \n",
    "    #Insert first four columns for .sig file format (NaNs)\n",
    "    sig.insert(6, 'NA-5', str(np.nan))\n",
    "    sig.insert(7, 'NA-6', str(np.nan))\n",
    "    sig.insert(8, 'NA-7', str(np.nan))\n",
    "    sig.insert(9, 'NA-8', str(np.nan))\n",
    "                \n",
    "    #Insert column corresponding to sign \n",
    "    sig.insert(10, 'Sign', str(np.nan))\n",
    "                \n",
    "    #Insert column specifying interaction type as unknown\n",
    "    sig.insert(11, 'Interaction', str(np.nan))\n",
    "\n",
    "    #Insert column specifying interaction type as unknown\n",
    "    sig.insert(12, 'PubMed', str(np.nan))\n",
    "\n",
    "    #Create dictionary 'sigd' with index numbers as keys\n",
    "    sigd = dict([(key, '') for key in sig.index])\n",
    "\n",
    "    # loop through rows with iterrows()\n",
    "    for index, rowData in sig.iterrows():\n",
    "        line = ('\\t'.join(rowData))\n",
    "        sigd[index] = line\n",
    "\n",
    "    gmt_name = gmt.split(\".\", 2)[0]\n",
    "\n",
    "    #Transfer tab-separated info into a new txt file\n",
    "    #Make sure to include in ReadMe corresponding column names\n",
    "    with open('%s.sig' %gmt_name, 'w') as openfile:\n",
    "        for index in sigd:\n",
    "            openfile.write(str(sigd[index]) + '\\n')\n",
    "\n",
    "    sig = pd.read_table(\"%s.sig\" %gmt_name)\n",
    "\n",
    "    return sig"
   ]
  }
 ],
 "metadata": {
  "kernelspec": {
   "display_name": "Python 3",
   "language": "python",
   "name": "python3"
  },
  "language_info": {
   "codemirror_mode": {
    "name": "ipython",
    "version": 3
   },
   "file_extension": ".py",
   "mimetype": "text/x-python",
   "name": "python",
   "nbconvert_exporter": "python",
   "pygments_lexer": "ipython3",
   "version": "3.6.1"
  }
 },
 "nbformat": 4,
 "nbformat_minor": 2
}
