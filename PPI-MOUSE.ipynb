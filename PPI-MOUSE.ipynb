{
 "cells": [
  {
   "cell_type": "code",
   "execution_count": 7,
   "metadata": {
    "collapsed": true
   },
   "outputs": [],
   "source": [
    "import numpy as np \n",
    "import pandas as pd\n",
    "import urllib.request \n",
    "import requests, io\n",
    "import urllib, re, string\n",
    "import datetime"
   ]
  },
  {
   "cell_type": "code",
   "execution_count": 8,
   "metadata": {
    "collapsed": true
   },
   "outputs": [],
   "source": [
    "pd.set_option('display.notebook_repr_html', True)\n",
    "\n",
    "def _repr_latex_(self):\n",
    "    return \"\\centering{%s}\" % self.to_latex()\n",
    "\n",
    "pd.DataFrame._repr_latex_ = _repr_latex_  # monkey patch pandas DataFrame"
   ]
  },
  {
   "cell_type": "markdown",
   "metadata": {},
   "source": [
    "Data Collected 1/23/2016  \n",
    "\n",
    "https://urldefense.proofpoint.com/v2/url?u=http-3A__mint.bio.uniroma2.it_mitab_MINT-5FMiTab.txt&d=DwIGaQ&c=shNJtf5dKgNcPZ6Yh64b-A&r=FzzxHcpcdpeEl2SeS4RngXJfR5R4cEV8N2xULwaH8LE&m=H47AkOYhsWJidY3BTdZQzbIarlSka87imDJ8Qn9e6GY&s=Bv-GMiHdQIC4fRHi4JERcK71UMdrk1EvTGoRMpquPiM&e=  (Mint) \n",
    "\n",
    "Data Collected 1/25/2016  \n",
    "\n",
    "https://urldefense.proofpoint.com/v2/url?u=https-3A__thebiogrid.org_downloads_archives_Release-2520Archive_BIOGRID-2D3.4.144_BIOGRID-2DALL-2D3.4.144.mitab.zip&d=DwIGaQ&c=shNJtf5dKgNcPZ6Yh64b-A&r=FzzxHcpcdpeEl2SeS4RngXJfR5R4cEV8N2xULwaH8LE&m=H47AkOYhsWJidY3BTdZQzbIarlSka87imDJ8Qn9e6GY&s=mI2tEi0k6-2vBnUAJ8GD2-TCPVdPWzpMbje_637goZs&e=  (BioGrid)  \n",
    "https://urldefense.proofpoint.com/v2/url?u=http-3A__www.innatedb.com_download_interactions_innatedb-5Fppi.mitab.gz&d=DwIGaQ&c=shNJtf5dKgNcPZ6Yh64b-A&r=FzzxHcpcdpeEl2SeS4RngXJfR5R4cEV8N2xULwaH8LE&m=H47AkOYhsWJidY3BTdZQzbIarlSka87imDJ8Qn9e6GY&s=M4I-F00djsSBy83R9CVNADb-OMwpiel94VVNTR-murY&e=  (InnateDB)  \n",
    "https://urldefense.proofpoint.com/v2/url?u=http-3A__dip.doe-2Dmbi.ucla.edu_dip_File.cgi-3FFN-3D2016_tab25_dip20160731.txt&d=DwIGaQ&c=shNJtf5dKgNcPZ6Yh64b-A&r=FzzxHcpcdpeEl2SeS4RngXJfR5R4cEV8N2xULwaH8LE&m=H47AkOYhsWJidY3BTdZQzbIarlSka87imDJ8Qn9e6GY&s=D7qKgclA4IbvfDjbxccL8LSG3UsPa7AU4ant8b8qXWo&e=  (DIP)\n",
    "\n",
    "Data Collected 1/26/2016   \n",
    "https://urldefense.proofpoint.com/v2/url?u=http-3A__mentha.uniroma2.it_doDownload.php-3Ffile-3Dorganisms_9606.zip&d=DwIGaQ&c=shNJtf5dKgNcPZ6Yh64b-A&r=FzzxHcpcdpeEl2SeS4RngXJfR5R4cEV8N2xULwaH8LE&m=H47AkOYhsWJidY3BTdZQzbIarlSka87imDJ8Qn9e6GY&s=RMnXZik8FZh0xdEL4OZPLacO9h0pmWzSKsHvkFp3Jt4&e=  (mentha)  \n",
    "https://urldefense.proofpoint.com/v2/url?u=http-3A__www.ebi.ac.uk_intact_downloads&d=DwIGaQ&c=shNJtf5dKgNcPZ6Yh64b-A&r=FzzxHcpcdpeEl2SeS4RngXJfR5R4cEV8N2xULwaH8LE&m=H47AkOYhsWJidY3BTdZQzbIarlSka87imDJ8Qn9e6GY&s=F7QsaA5RcDLVV_g_n7uDXIrPdh-SJk3JYZjYAE8HzO4&e=  (IntAct)  "
   ]
  },
  {
   "cell_type": "code",
   "execution_count": 9,
   "metadata": {
    "collapsed": true
   },
   "outputs": [],
   "source": [
    "def concatliketerms(df):\n",
    "    \n",
    "    df.sort_values(by='Protein A (gene name)', inplace=True)    \n",
    "    df.reset_index(inplace=True)\n",
    "    df.drop('index', axis=1, inplace=True)\n",
    "    oldSize = df.shape\n",
    "    newSize = 0\n",
    "    j = 1\n",
    "    while oldSize != newSize:\n",
    "        df.reset_index(inplace=True)\n",
    "        df.drop('index', axis=1, inplace=True)\n",
    "        df.sort_values(by='Protein A (gene name)', inplace=True) \n",
    "        # concattonate like terms and remove duplicates\n",
    "        i = 1\n",
    "        end = len(df.index)-1\n",
    "        for index in df.index:\n",
    "            if i % 100 == 0:\n",
    "                print('\\r', 'Loop '+ str(j)+': ' +str(i)+' Out of '+ str(len(df.index)), end=' ', flush=True)\n",
    "            if index in df.index.values and index != end:\n",
    "                if df.ix[index, 'Protein A (gene name)'] == df.ix[index+1, 'Protein A (gene name)']:\n",
    "                    if df.ix[index, 'Protein B (gene name)'] == df.ix[index+1, 'Protein B (gene name)']:\n",
    "                        df.ix[index, 'PubMed ID'] = str(df.ix[index, 'PubMed ID']) +'|'+str(df.ix[index+1, 'PubMed ID'])\n",
    "                        df.ix[index, 'Source databases'] = df.ix[index, 'Source databases'] +'|'+df.ix[index+1, 'Source databases']\n",
    "                        df.drop(index+1, axis=0, inplace=True)\n",
    "            i += 1\n",
    "        j += 1\n",
    "        oldSize = newSize\n",
    "        newSize = df.shape"
   ]
  },
  {
   "cell_type": "code",
   "execution_count": 10,
   "metadata": {
    "collapsed": true
   },
   "outputs": [],
   "source": [
    "# column identifiers for initial data (as taken from respective metadata)\n",
    "col_name = ['Unique identifier for interactor A',\n",
    "      'Unique identifier for interactor B',\n",
    "      'Alternative identifier for interactor A',\n",
    "      'Alternative identifier for interactor B',\n",
    "      'Protein A (gene name)',\n",
    "      'Protein B (gene name)',\n",
    "      'Interaction detection methods',\n",
    "      'First author',\n",
    "      'PubMed ID',\n",
    "      'NCBI Taxonomy identifier for interactor A',\n",
    "      'NCBI Taxonomy identifier for interactor B',\n",
    "      'Interaction types',\n",
    "      'Source databases', \n",
    "      'Interaction identifier(s)',\n",
    "      'Confidence score']"
   ]
  },
  {
   "cell_type": "markdown",
   "metadata": {},
   "source": [
    "#### Read mint data from url and creat file"
   ]
  },
  {
   "cell_type": "code",
   "execution_count": 11,
   "metadata": {
    "collapsed": true
   },
   "outputs": [],
   "source": [
    "##read in data from Mint and write to file (only needs to be proformed once)\n",
    "# content=urllib.request.urlopen('https://urldefense.proofpoint.com/v2/url?u=http-3A__mint.bio.uniroma2.it_mitab_MINT-5FMiTab.txt&d=DwIGaQ&c=shNJtf5dKgNcPZ6Yh64b-A&r=FzzxHcpcdpeEl2SeS4RngXJfR5R4cEV8N2xULwaH8LE&m=H47AkOYhsWJidY3BTdZQzbIarlSka87imDJ8Qn9e6GY&s=Bv-GMiHdQIC4fRHi4JERcK71UMdrk1EvTGoRMpquPiM&e= ') \n",
    "\n",
    "# target = open('mint.tsv', 'wb')\n",
    "# for line in content:\n",
    "#     target.write(line)\n",
    "# target.close()"
   ]
  },
  {
   "cell_type": "markdown",
   "metadata": {},
   "source": [
    "## Mint Data"
   ]
  },
  {
   "cell_type": "code",
   "execution_count": 12,
   "metadata": {},
   "outputs": [
    {
     "ename": "FileNotFoundError",
     "evalue": "File b'/Users/moshesilverstein/Desktop/PPI Library/Input/mint.tsv' does not exist",
     "output_type": "error",
     "traceback": [
      "\u001b[0;31m---------------------------------------------------------------------------\u001b[0m",
      "\u001b[0;31mFileNotFoundError\u001b[0m                         Traceback (most recent call last)",
      "\u001b[0;32m<ipython-input-12-252762d40986>\u001b[0m in \u001b[0;36m<module>\u001b[0;34m()\u001b[0m\n\u001b[0;32m----> 1\u001b[0;31m \u001b[0mmint_df\u001b[0m \u001b[0;34m=\u001b[0m \u001b[0mpd\u001b[0m\u001b[0;34m.\u001b[0m\u001b[0mread_csv\u001b[0m\u001b[0;34m(\u001b[0m\u001b[0;34m'/Users/moshesilverstein/Desktop/PPI Library/Input/mint.tsv'\u001b[0m\u001b[0;34m,\u001b[0m \u001b[0msep\u001b[0m\u001b[0;34m=\u001b[0m\u001b[0;34m'\\t'\u001b[0m\u001b[0;34m,\u001b[0m \u001b[0mindex_col\u001b[0m\u001b[0;34m=\u001b[0m\u001b[0;32mFalse\u001b[0m\u001b[0;34m,\u001b[0m \u001b[0mheader\u001b[0m\u001b[0;34m=\u001b[0m\u001b[0;32mNone\u001b[0m\u001b[0;34m)\u001b[0m\u001b[0;34m\u001b[0m\u001b[0m\n\u001b[0m",
      "\u001b[0;32m/home/maayanlab/anaconda3/lib/python3.6/site-packages/pandas/io/parsers.py\u001b[0m in \u001b[0;36mparser_f\u001b[0;34m(filepath_or_buffer, sep, delimiter, header, names, index_col, usecols, squeeze, prefix, mangle_dupe_cols, dtype, engine, converters, true_values, false_values, skipinitialspace, skiprows, nrows, na_values, keep_default_na, na_filter, verbose, skip_blank_lines, parse_dates, infer_datetime_format, keep_date_col, date_parser, dayfirst, iterator, chunksize, compression, thousands, decimal, lineterminator, quotechar, quoting, escapechar, comment, encoding, dialect, tupleize_cols, error_bad_lines, warn_bad_lines, skipfooter, skip_footer, doublequote, delim_whitespace, as_recarray, compact_ints, use_unsigned, low_memory, buffer_lines, memory_map, float_precision)\u001b[0m\n\u001b[1;32m    653\u001b[0m                     skip_blank_lines=skip_blank_lines)\n\u001b[1;32m    654\u001b[0m \u001b[0;34m\u001b[0m\u001b[0m\n\u001b[0;32m--> 655\u001b[0;31m         \u001b[0;32mreturn\u001b[0m \u001b[0m_read\u001b[0m\u001b[0;34m(\u001b[0m\u001b[0mfilepath_or_buffer\u001b[0m\u001b[0;34m,\u001b[0m \u001b[0mkwds\u001b[0m\u001b[0;34m)\u001b[0m\u001b[0;34m\u001b[0m\u001b[0m\n\u001b[0m\u001b[1;32m    656\u001b[0m \u001b[0;34m\u001b[0m\u001b[0m\n\u001b[1;32m    657\u001b[0m     \u001b[0mparser_f\u001b[0m\u001b[0;34m.\u001b[0m\u001b[0m__name__\u001b[0m \u001b[0;34m=\u001b[0m \u001b[0mname\u001b[0m\u001b[0;34m\u001b[0m\u001b[0m\n",
      "\u001b[0;32m/home/maayanlab/anaconda3/lib/python3.6/site-packages/pandas/io/parsers.py\u001b[0m in \u001b[0;36m_read\u001b[0;34m(filepath_or_buffer, kwds)\u001b[0m\n\u001b[1;32m    403\u001b[0m \u001b[0;34m\u001b[0m\u001b[0m\n\u001b[1;32m    404\u001b[0m     \u001b[0;31m# Create the parser.\u001b[0m\u001b[0;34m\u001b[0m\u001b[0;34m\u001b[0m\u001b[0m\n\u001b[0;32m--> 405\u001b[0;31m     \u001b[0mparser\u001b[0m \u001b[0;34m=\u001b[0m \u001b[0mTextFileReader\u001b[0m\u001b[0;34m(\u001b[0m\u001b[0mfilepath_or_buffer\u001b[0m\u001b[0;34m,\u001b[0m \u001b[0;34m**\u001b[0m\u001b[0mkwds\u001b[0m\u001b[0;34m)\u001b[0m\u001b[0;34m\u001b[0m\u001b[0m\n\u001b[0m\u001b[1;32m    406\u001b[0m \u001b[0;34m\u001b[0m\u001b[0m\n\u001b[1;32m    407\u001b[0m     \u001b[0;32mif\u001b[0m \u001b[0mchunksize\u001b[0m \u001b[0;32mor\u001b[0m \u001b[0miterator\u001b[0m\u001b[0;34m:\u001b[0m\u001b[0;34m\u001b[0m\u001b[0m\n",
      "\u001b[0;32m/home/maayanlab/anaconda3/lib/python3.6/site-packages/pandas/io/parsers.py\u001b[0m in \u001b[0;36m__init__\u001b[0;34m(self, f, engine, **kwds)\u001b[0m\n\u001b[1;32m    760\u001b[0m             \u001b[0mself\u001b[0m\u001b[0;34m.\u001b[0m\u001b[0moptions\u001b[0m\u001b[0;34m[\u001b[0m\u001b[0;34m'has_index_names'\u001b[0m\u001b[0;34m]\u001b[0m \u001b[0;34m=\u001b[0m \u001b[0mkwds\u001b[0m\u001b[0;34m[\u001b[0m\u001b[0;34m'has_index_names'\u001b[0m\u001b[0;34m]\u001b[0m\u001b[0;34m\u001b[0m\u001b[0m\n\u001b[1;32m    761\u001b[0m \u001b[0;34m\u001b[0m\u001b[0m\n\u001b[0;32m--> 762\u001b[0;31m         \u001b[0mself\u001b[0m\u001b[0;34m.\u001b[0m\u001b[0m_make_engine\u001b[0m\u001b[0;34m(\u001b[0m\u001b[0mself\u001b[0m\u001b[0;34m.\u001b[0m\u001b[0mengine\u001b[0m\u001b[0;34m)\u001b[0m\u001b[0;34m\u001b[0m\u001b[0m\n\u001b[0m\u001b[1;32m    763\u001b[0m \u001b[0;34m\u001b[0m\u001b[0m\n\u001b[1;32m    764\u001b[0m     \u001b[0;32mdef\u001b[0m \u001b[0mclose\u001b[0m\u001b[0;34m(\u001b[0m\u001b[0mself\u001b[0m\u001b[0;34m)\u001b[0m\u001b[0;34m:\u001b[0m\u001b[0;34m\u001b[0m\u001b[0m\n",
      "\u001b[0;32m/home/maayanlab/anaconda3/lib/python3.6/site-packages/pandas/io/parsers.py\u001b[0m in \u001b[0;36m_make_engine\u001b[0;34m(self, engine)\u001b[0m\n\u001b[1;32m    964\u001b[0m     \u001b[0;32mdef\u001b[0m \u001b[0m_make_engine\u001b[0m\u001b[0;34m(\u001b[0m\u001b[0mself\u001b[0m\u001b[0;34m,\u001b[0m \u001b[0mengine\u001b[0m\u001b[0;34m=\u001b[0m\u001b[0;34m'c'\u001b[0m\u001b[0;34m)\u001b[0m\u001b[0;34m:\u001b[0m\u001b[0;34m\u001b[0m\u001b[0m\n\u001b[1;32m    965\u001b[0m         \u001b[0;32mif\u001b[0m \u001b[0mengine\u001b[0m \u001b[0;34m==\u001b[0m \u001b[0;34m'c'\u001b[0m\u001b[0;34m:\u001b[0m\u001b[0;34m\u001b[0m\u001b[0m\n\u001b[0;32m--> 966\u001b[0;31m             \u001b[0mself\u001b[0m\u001b[0;34m.\u001b[0m\u001b[0m_engine\u001b[0m \u001b[0;34m=\u001b[0m \u001b[0mCParserWrapper\u001b[0m\u001b[0;34m(\u001b[0m\u001b[0mself\u001b[0m\u001b[0;34m.\u001b[0m\u001b[0mf\u001b[0m\u001b[0;34m,\u001b[0m \u001b[0;34m**\u001b[0m\u001b[0mself\u001b[0m\u001b[0;34m.\u001b[0m\u001b[0moptions\u001b[0m\u001b[0;34m)\u001b[0m\u001b[0;34m\u001b[0m\u001b[0m\n\u001b[0m\u001b[1;32m    967\u001b[0m         \u001b[0;32melse\u001b[0m\u001b[0;34m:\u001b[0m\u001b[0;34m\u001b[0m\u001b[0m\n\u001b[1;32m    968\u001b[0m             \u001b[0;32mif\u001b[0m \u001b[0mengine\u001b[0m \u001b[0;34m==\u001b[0m \u001b[0;34m'python'\u001b[0m\u001b[0;34m:\u001b[0m\u001b[0;34m\u001b[0m\u001b[0m\n",
      "\u001b[0;32m/home/maayanlab/anaconda3/lib/python3.6/site-packages/pandas/io/parsers.py\u001b[0m in \u001b[0;36m__init__\u001b[0;34m(self, src, **kwds)\u001b[0m\n\u001b[1;32m   1580\u001b[0m         \u001b[0mkwds\u001b[0m\u001b[0;34m[\u001b[0m\u001b[0;34m'allow_leading_cols'\u001b[0m\u001b[0;34m]\u001b[0m \u001b[0;34m=\u001b[0m \u001b[0mself\u001b[0m\u001b[0;34m.\u001b[0m\u001b[0mindex_col\u001b[0m \u001b[0;32mis\u001b[0m \u001b[0;32mnot\u001b[0m \u001b[0;32mFalse\u001b[0m\u001b[0;34m\u001b[0m\u001b[0m\n\u001b[1;32m   1581\u001b[0m \u001b[0;34m\u001b[0m\u001b[0m\n\u001b[0;32m-> 1582\u001b[0;31m         \u001b[0mself\u001b[0m\u001b[0;34m.\u001b[0m\u001b[0m_reader\u001b[0m \u001b[0;34m=\u001b[0m \u001b[0mparsers\u001b[0m\u001b[0;34m.\u001b[0m\u001b[0mTextReader\u001b[0m\u001b[0;34m(\u001b[0m\u001b[0msrc\u001b[0m\u001b[0;34m,\u001b[0m \u001b[0;34m**\u001b[0m\u001b[0mkwds\u001b[0m\u001b[0;34m)\u001b[0m\u001b[0;34m\u001b[0m\u001b[0m\n\u001b[0m\u001b[1;32m   1583\u001b[0m \u001b[0;34m\u001b[0m\u001b[0m\n\u001b[1;32m   1584\u001b[0m         \u001b[0;31m# XXX\u001b[0m\u001b[0;34m\u001b[0m\u001b[0;34m\u001b[0m\u001b[0m\n",
      "\u001b[0;32mpandas/_libs/parsers.pyx\u001b[0m in \u001b[0;36mpandas._libs.parsers.TextReader.__cinit__ (pandas/_libs/parsers.c:4209)\u001b[0;34m()\u001b[0m\n",
      "\u001b[0;32mpandas/_libs/parsers.pyx\u001b[0m in \u001b[0;36mpandas._libs.parsers.TextReader._setup_parser_source (pandas/_libs/parsers.c:8873)\u001b[0;34m()\u001b[0m\n",
      "\u001b[0;31mFileNotFoundError\u001b[0m: File b'/Users/moshesilverstein/Desktop/PPI Library/Input/mint.tsv' does not exist"
     ]
    }
   ],
   "source": [
    "mint_df = pd.read_csv('/Users/moshesilverstein/Desktop/PPI Library/Input/mint.tsv', sep='\\t', index_col=False, header=None)"
   ]
  },
  {
   "cell_type": "code",
   "execution_count": null,
   "metadata": {
    "collapsed": true
   },
   "outputs": [],
   "source": [
    "# assign names to columns from meta data\n",
    "for i in np.arange(len(col_name)):\n",
    "    mint_df.rename(columns={i:col_name[i]}, inplace=True)"
   ]
  },
  {
   "cell_type": "code",
   "execution_count": null,
   "metadata": {
    "collapsed": true
   },
   "outputs": [],
   "source": [
    "# get only human (or mouse) data\n",
    "n = mint_df['Protein A (gene name)'].values\n",
    "b = [i for i,item in enumerate(n) if \"mouse\" in item]\n",
    "mint_df = mint_df.ix[b]"
   ]
  },
  {
   "cell_type": "code",
   "execution_count": null,
   "metadata": {
    "collapsed": true
   },
   "outputs": [],
   "source": [
    "mint_df =  mint_df.reset_index().drop('index', axis=1)\n",
    "\n",
    "# get only human (or mouse) data\n",
    "n = mint_df['Protein B (gene name)'].values\n",
    "b = [i for i,item in enumerate(n) if \"mouse\" in item]\n",
    "mint_df = mint_df.ix[b]"
   ]
  },
  {
   "cell_type": "code",
   "execution_count": null,
   "metadata": {
    "collapsed": true
   },
   "outputs": [],
   "source": [
    "# select only relevent data\n",
    "mint_df = mint_df[['Protein A (gene name)', 'Protein B (gene name)', 'PubMed ID', 'Source databases']]"
   ]
  },
  {
   "cell_type": "code",
   "execution_count": null,
   "metadata": {
    "collapsed": true
   },
   "outputs": [],
   "source": [
    "# change column one to just show gene name\n",
    "#i = 1\n",
    "lst = []\n",
    "for name in mint_df['Protein A (gene name)']:\n",
    "    #print('\\r', i, end=' ', flush=True)\n",
    "    name = str(name)\n",
    "    if '(gene name)' in name:\n",
    "        temp = name.split('|')\n",
    "        for ID in temp:\n",
    "            if '(gene name)' in ID:\n",
    "                lst.append(ID.split(':')[1].split('(')[0])\n",
    "                break\n",
    "\n",
    "    else:\n",
    "        lst.append(np.nan)\n",
    "    \n",
    "    #i += 1\n",
    "mint_df['Protein A (gene name)'] = lst"
   ]
  },
  {
   "cell_type": "code",
   "execution_count": null,
   "metadata": {
    "collapsed": true
   },
   "outputs": [],
   "source": [
    "# change column two to just show gene name\n",
    "#i = 1\n",
    "lst = []\n",
    "for name in mint_df['Protein B (gene name)']:\n",
    "    #print('\\r', i, end=' ', flush=True)\n",
    "    name = str(name)\n",
    "    if '(gene name)' in name:\n",
    "        temp = name.split('|')\n",
    "        for ID in temp:\n",
    "            if '(gene name)' in ID:\n",
    "                lst.append(ID.split(':')[1].split('(')[0])\n",
    "                break\n",
    "\n",
    "    else:\n",
    "        lst.append(np.nan)\n",
    "    \n",
    "    #i += 1\n",
    "mint_df['Protein B (gene name)'] = lst"
   ]
  },
  {
   "cell_type": "code",
   "execution_count": null,
   "metadata": {
    "collapsed": true
   },
   "outputs": [],
   "source": [
    "# drop data for which no gene name is provited (or ensamble ID)\n",
    "mint_df.dropna(how='any', inplace=True, axis=0)"
   ]
  },
  {
   "cell_type": "code",
   "execution_count": null,
   "metadata": {
    "collapsed": true
   },
   "outputs": [],
   "source": [
    "lst = []\n",
    "\n",
    "for pub in mint_df['PubMed ID']:\n",
    "    pub = str(pub)\n",
    "    pub = pub.split('|')[1].split(':')[1]\n",
    "    lst.append(pub)\n",
    "mint_df['PubMed ID'] = lst"
   ]
  },
  {
   "cell_type": "code",
   "execution_count": null,
   "metadata": {
    "collapsed": true
   },
   "outputs": [],
   "source": [
    "mint_df.drop_duplicates(inplace=True)"
   ]
  },
  {
   "cell_type": "code",
   "execution_count": null,
   "metadata": {
    "collapsed": true
   },
   "outputs": [],
   "source": [
    "mint_uf_df = mint_df.copy()"
   ]
  },
  {
   "cell_type": "code",
   "execution_count": null,
   "metadata": {},
   "outputs": [],
   "source": [
    "concatliketerms(mint_uf_df)"
   ]
  },
  {
   "cell_type": "code",
   "execution_count": null,
   "metadata": {
    "collapsed": true
   },
   "outputs": [],
   "source": []
  },
  {
   "cell_type": "code",
   "execution_count": null,
   "metadata": {
    "collapsed": true
   },
   "outputs": [],
   "source": [
    "filename = '/Users/moshesilverstein/Desktop/PPI Library/Output/IndividualResources/Unfiltered/ppi_network_mint_mouse_unfiltered_%s.tsv'% str(datetime.date.today()).replace('-', '_')\n",
    "mint_df.to_csv(filename, sep='\\t', index=False) "
   ]
  },
  {
   "cell_type": "code",
   "execution_count": null,
   "metadata": {
    "collapsed": true
   },
   "outputs": [],
   "source": [
    "filename = '/Users/moshesilverstein/Desktop/PPI Library/Output/IndividualResources/Unfiltered/ppi_network_mint_mouse_unfiltered_%s.tsv.gz'% str(datetime.date.today()).replace('-', '_')\n",
    "mint_df.to_csv(filename, sep='\\t', index=False, compression='gzip') "
   ]
  },
  {
   "cell_type": "code",
   "execution_count": null,
   "metadata": {},
   "outputs": [],
   "source": [
    "# drop any data that was published with more then 10 PPI's per publication\n",
    "i = 1\n",
    "lst = []\n",
    "for pub in mint_df['PubMed ID'].values:\n",
    "    print('\\r', str(i)+' Out of '+ str(len(mint_df['PubMed ID'].values)), end=' ', flush=True)\n",
    "    lst.append(mint_df[mint_df['PubMed ID'] == pub].shape[0] <= 10)\n",
    "    i +=1\n",
    "\n",
    "mint_df = mint_df[lst]"
   ]
  },
  {
   "cell_type": "code",
   "execution_count": null,
   "metadata": {
    "collapsed": true
   },
   "outputs": [],
   "source": [
    "# Drop data for which there is no PubMed ID\n",
    "lst = []\n",
    "for value in mint_df['PubMed ID']:\n",
    "    if 'unassigned' in value:\n",
    "        lst.append(True)\n",
    "    else:\n",
    "        lst.append(False)\n",
    "\n",
    "mint_df = mint_df.drop(mint_df[lst].index)"
   ]
  },
  {
   "cell_type": "code",
   "execution_count": null,
   "metadata": {
    "collapsed": true
   },
   "outputs": [],
   "source": [
    "# Drop any data missing information\n",
    "mint_df.dropna(inplace=True)"
   ]
  },
  {
   "cell_type": "code",
   "execution_count": null,
   "metadata": {},
   "outputs": [],
   "source": [
    "concatliketerms(mint_df)"
   ]
  },
  {
   "cell_type": "code",
   "execution_count": null,
   "metadata": {
    "collapsed": true
   },
   "outputs": [],
   "source": [
    "filename = '/Users/moshesilverstein/Desktop/PPI Library/Output/IndividualResources/Filtered/ppi_network_mint_mouse_filtered_%s.tsv'% strhttps://urldefense.proofpoint.com/v2/url?u=http-3A__-28datetime.date.today&d=DwIGaQ&c=shNJtf5dKgNcPZ6Yh64b-A&r=FzzxHcpcdpeEl2SeS4RngXJfR5R4cEV8N2xULwaH8LE&m=H47AkOYhsWJidY3BTdZQzbIarlSka87imDJ8Qn9e6GY&s=0AXIrr2R1Ws2uctDrGSv2BrKSII9GfdeCfYYet-im-Y&e= ()).replace('-', '_')\n",
    "mint_df.to_csv(filename, sep='\\t', index=False) "
   ]
  },
  {
   "cell_type": "code",
   "execution_count": null,
   "metadata": {
    "collapsed": true
   },
   "outputs": [],
   "source": [
    "filename = '/Users/moshesilverstein/Desktop/PPI Library/Output/IndividualResources/Filtered/ppi_network_mint_mouse_filtered_%s.tsv.gz'% strhttps://urldefense.proofpoint.com/v2/url?u=http-3A__-28datetime.date.today&d=DwIGaQ&c=shNJtf5dKgNcPZ6Yh64b-A&r=FzzxHcpcdpeEl2SeS4RngXJfR5R4cEV8N2xULwaH8LE&m=H47AkOYhsWJidY3BTdZQzbIarlSka87imDJ8Qn9e6GY&s=0AXIrr2R1Ws2uctDrGSv2BrKSII9GfdeCfYYet-im-Y&e= ()).replace('-', '_')\n",
    "mint_df.to_csv(filename, sep='\\t', index=False, compression='gzip') "
   ]
  },
  {
   "cell_type": "markdown",
   "metadata": {},
   "source": [
    "## BioGrid Data"
   ]
  },
  {
   "cell_type": "code",
   "execution_count": null,
   "metadata": {
    "collapsed": true
   },
   "outputs": [],
   "source": [
    "biogrid_df =https://urldefense.proofpoint.com/v2/url?u=http-3A__pd.re&d=DwIGaQ&c=shNJtf5dKgNcPZ6Yh64b-A&r=FzzxHcpcdpeEl2SeS4RngXJfR5R4cEV8N2xULwaH8LE&m=H47AkOYhsWJidY3BTdZQzbIarlSka87imDJ8Qn9e6GY&s=kUtB02_d29l-AX62DWgGfOrrMBgeV15cPbw0hAtCi7Y&e= ad_csv('/Users/moshesilverstein/Desktop/PPI Library/Input/BIOGRID-ALL-3.4.144.mitab.txt', sep='\\t', index_col=False)"
   ]
  },
  {
   "cell_type": "code",
   "execution_count": null,
   "metadata": {
    "collapsed": true
   },
   "outputs": [],
   "source": [
    "# get only human (or mouse) data\n",
    "n = biogrid_df['Taxid Interactor A'].values\n",
    "b = [i for i,item in enumerate(n) if \"taxid:10090\" in item] #taxid:9606 for human, taxid:10090 for mouse\n",
    "biogrid_df = biogrid_df.ix[b]"
   ]
  },
  {
   "cell_type": "code",
   "execution_count": null,
   "metadata": {
    "collapsed": true
   },
   "outputs": [],
   "source": [
    "biogrid_df =  biogrid_df.reset_index().drop('index', axis=1)\n",
    "\n",
    "# get only human (or mouse) data\n",
    "n = biogrid_df['Taxid Interactor B'].values\n",
    "b = [i for i,item in enumerate(n) if \"taxid:10090\" in item] #taxid:9606 for human, taxid:10090 for mouse\n",
    "biogrid_df = biogrid_df.ix[b]"
   ]
  },
  {
   "cell_type": "code",
   "execution_count": null,
   "metadata": {
    "collapsed": true
   },
   "outputs": [],
   "source": [
    "# select only relevent data\n",
    "biogrid_df = biogrid_df[['Alt IDs Interactor A', 'Alt IDs Interactor B', 'Publication Identifiers', 'Source Database']]"
   ]
  },
  {
   "cell_type": "code",
   "execution_count": null,
   "metadata": {
    "collapsed": true
   },
   "outputs": [],
   "source": [
    "# rename columns for consistency\n",
    "biogrid_df.rename(columns={'Alt IDs Interactor A': 'Protein A (gene name)', 'Alt IDs Interactor B':'Protein B (gene name)', 'Publication Identifiers':'PubMed ID', 'Source Database':'Source databases'}, inplace=True)"
   ]
  },
  {
   "cell_type": "code",
   "execution_count": null,
   "metadata": {},
   "outputs": [],
   "source": [
    "# change column one to just show gene name\n",
    "i = 1\n",
    "lst = []\n",
    "for name in biogrid_df['Protein A (gene name)']:\n",
    "    if i % 100 == 0:\n",
    "        print('\\r', i, end=' ', flush=True)\n",
    "    name = str(name) \n",
    "    if name != 'nan':\n",
    "        lst.append(name.split('|')[1].split(':')[1])\n",
    "    else:\n",
    "        lst.appendhttps://urldefense.proofpoint.com/v2/url?u=http-3A__-28np.na&d=DwIGaQ&c=shNJtf5dKgNcPZ6Yh64b-A&r=FzzxHcpcdpeEl2SeS4RngXJfR5R4cEV8N2xULwaH8LE&m=H47AkOYhsWJidY3BTdZQzbIarlSka87imDJ8Qn9e6GY&s=7WM6dIU5B2DmwOyR_-PTnzSdk60Ct63WnSExIongu-A&e= n)\n",
    "    i += 1\n",
    "biogrid_df['Protein A (gene name)'] = lst"
   ]
  },
  {
   "cell_type": "code",
   "execution_count": null,
   "metadata": {},
   "outputs": [],
   "source": [
    "# change column two to just show gene name\n",
    "i = 1\n",
    "lst = []\n",
    "for name in biogrid_df['Protein B (gene name)']:\n",
    "    if i % 100 == 0:\n",
    "        print('\\r', i, end=' ', flush=True)\n",
    "    name = str(name) \n",
    "    if name != 'nan':\n",
    "        lst.append(name.split('|')[1].split(':')[1])\n",
    "    else:\n",
    "        lst.appendhttps://urldefense.proofpoint.com/v2/url?u=http-3A__-28np.na&d=DwIGaQ&c=shNJtf5dKgNcPZ6Yh64b-A&r=FzzxHcpcdpeEl2SeS4RngXJfR5R4cEV8N2xULwaH8LE&m=H47AkOYhsWJidY3BTdZQzbIarlSka87imDJ8Qn9e6GY&s=7WM6dIU5B2DmwOyR_-PTnzSdk60Ct63WnSExIongu-A&e= n)\n",
    "    i += 1\n",
    "biogrid_df['Protein B (gene name)'] = lst"
   ]
  },
  {
   "cell_type": "code",
   "execution_count": null,
   "metadata": {
    "collapsed": true
   },
   "outputs": [],
   "source": [
    "# drop data for which no gene name is provited (or ensamble ID)\n",
    "biogrid_df.dropna(how='any', inplace=True, axis=0)"
   ]
  },
  {
   "cell_type": "code",
   "execution_count": null,
   "metadata": {
    "collapsed": true
   },
   "outputs": [],
   "source": [
    "# Get Only PubMed ID for publication identifier\n",
    "lst = []\n",
    "\n",
    "for pub in biogrid_df['PubMed ID']:\n",
    "    pub = str(pub)\n",
    "    pub = pub.split(':')[1]\n",
    "    lst.append(pub)\n",
    "biogrid_df['PubMed ID'] = lst"
   ]
  },
  {
   "cell_type": "code",
   "execution_count": null,
   "metadata": {
    "collapsed": true
   },
   "outputs": [],
   "source": [
    "biogrid_df.drop_duplicates(inplace=True)"
   ]
  },
  {
   "cell_type": "code",
   "execution_count": null,
   "metadata": {
    "collapsed": true
   },
   "outputs": [],
   "source": [
    "# uf = unfiltered\n",
    "biogrid_uf_df = biogrid_df.copy()"
   ]
  },
  {
   "cell_type": "code",
   "execution_count": null,
   "metadata": {},
   "outputs": [],
   "source": [
    "concatliketerms(biogrid_uf_df)"
   ]
  },
  {
   "cell_type": "code",
   "execution_count": null,
   "metadata": {
    "collapsed": true
   },
   "outputs": [],
   "source": [
    "filename = '/Users/moshesilverstein/Desktop/PPI Library/Output/IndividualResources/Unfiltered/ppi_network_biogrid_mouse_unfiltered_%s.tsv'% strhttps://urldefense.proofpoint.com/v2/url?u=http-3A__-28datetime.date.today&d=DwIGaQ&c=shNJtf5dKgNcPZ6Yh64b-A&r=FzzxHcpcdpeEl2SeS4RngXJfR5R4cEV8N2xULwaH8LE&m=H47AkOYhsWJidY3BTdZQzbIarlSka87imDJ8Qn9e6GY&s=0AXIrr2R1Ws2uctDrGSv2BrKSII9GfdeCfYYet-im-Y&e= ()).replace('-', '_')\n",
    "biogrid_uf_df.to_csv(filename, sep='\\t', index=False) "
   ]
  },
  {
   "cell_type": "code",
   "execution_count": null,
   "metadata": {
    "collapsed": true
   },
   "outputs": [],
   "source": [
    "filename = '/Users/moshesilverstein/Desktop/PPI Library/Output/IndividualResources/Unfiltered/ppi_network_biogrid_mouse_unfiltered_%s.tsv.gz'% strhttps://urldefense.proofpoint.com/v2/url?u=http-3A__-28datetime.date.today&d=DwIGaQ&c=shNJtf5dKgNcPZ6Yh64b-A&r=FzzxHcpcdpeEl2SeS4RngXJfR5R4cEV8N2xULwaH8LE&m=H47AkOYhsWJidY3BTdZQzbIarlSka87imDJ8Qn9e6GY&s=0AXIrr2R1Ws2uctDrGSv2BrKSII9GfdeCfYYet-im-Y&e= ()).replace('-', '_')\n",
    "biogrid_uf_df.to_csv(filename, sep='\\t', index=False, compression='gzip')"
   ]
  },
  {
   "cell_type": "code",
   "execution_count": null,
   "metadata": {},
   "outputs": [],
   "source": [
    "# drop any data that was published with more then 10 PPI's per publication\n",
    "i = 1\n",
    "for pub in biogrid_df['PubMed ID'].unique():\n",
    "    if i % 100 == 0:\n",
    "        print('\\r', str(i)+' Out of '+ str(len(biogrid_df['PubMed ID'].unique())), end=' ', flush=True)\n",
    "    if biogrid_df[biogrid_df['PubMed ID'] == pub].shape[0] > 10:\n",
    "        biogrid_df.drop(biogrid_df[biogrid_df['PubMed ID'] == pub].index.tolist(), inplace=True)\n",
    "    i +=1"
   ]
  },
  {
   "cell_type": "code",
   "execution_count": null,
   "metadata": {},
   "outputs": [],
   "source": [
    "biogrid_df.shape"
   ]
  },
  {
   "cell_type": "code",
   "execution_count": null,
   "metadata": {
    "collapsed": true
   },
   "outputs": [],
   "source": [
    "lst = []\n",
    "for value in biogrid_df['PubMed ID']:\n",
    "    if 'unassigned' in value:\n",
    "        lst.append(True)\n",
    "    else:\n",
    "        lst.append(False)\n",
    "\n",
    "biogrid_df = biogrid_df.drop(biogrid_df[lst].index)"
   ]
  },
  {
   "cell_type": "code",
   "execution_count": null,
   "metadata": {
    "collapsed": true
   },
   "outputs": [],
   "source": [
    "biogrid_df.dropna(inplace=True)"
   ]
  },
  {
   "cell_type": "code",
   "execution_count": null,
   "metadata": {},
   "outputs": [],
   "source": [
    "concatliketerms(biogrid_df)"
   ]
  },
  {
   "cell_type": "code",
   "execution_count": null,
   "metadata": {
    "collapsed": true
   },
   "outputs": [],
   "source": [
    "filename = '/Users/moshesilverstein/Desktop/PPI Library/Output/IndividualResources/Filtered/ppi_network_biogrid_mouse_filtered_%s.tsv'% str(datetime.date.today()).replace('-', '_')\n",
    "biogrid_df.to_csv(filename, sep='\\t', index=False) "
   ]
  },
  {
   "cell_type": "code",
   "execution_count": null,
   "metadata": {
    "collapsed": true
   },
   "outputs": [],
   "source": [
    "filename = '/Users/moshesilverstein/Desktop/PPI Library/Output/IndividualResources/Filtered/ppi_network_biogrid_mouse_filtered_%s.tsv.gz'% str(datetime.date.today()).replace('-', '_')\n",
    "biogrid_df.to_csv(filename, sep='\\t', index=False, compression='gzip')"
   ]
  },
  {
   "cell_type": "markdown",
   "metadata": {},
   "source": [
    "## InnateDB Data"
   ]
  },
  {
   "cell_type": "code",
   "execution_count": null,
   "metadata": {
    "collapsed": true
   },
   "outputs": [],
   "source": [
    "innatedb_df = pd.read_csv('/Users/moshesilverstein/Desktop/PPI Library/Input/innatedb_ppi.mitab', sep='\\t', index_col=False)"
   ]
  },
  {
   "cell_type": "code",
   "execution_count": null,
   "metadata": {
    "collapsed": true
   },
   "outputs": [],
   "source": [
    "# get only human (or mouse) data\n",
    "n = innatedb_df['ncbi_taxid_A'].values\n",
    "b = [i for i,item in enumerate(n) if \"Mouse\" in item]\n",
    "innatedb_df = innatedb_df.ix[b]"
   ]
  },
  {
   "cell_type": "code",
   "execution_count": null,
   "metadata": {
    "collapsed": true
   },
   "outputs": [],
   "source": [
    "innatedb_df =  innatedb_df.reset_index().drop('index', axis=1)\n",
    "\n",
    "# get only human (or mouse) data\n",
    "n = innatedb_df['ncbi_taxid_B'].values\n",
    "b = [i for i,item in enumerate(n) if \"Mouse\" in item]\n",
    "innatedb_df = innatedb_df.ix[b]"
   ]
  },
  {
   "cell_type": "code",
   "execution_count": null,
   "metadata": {
    "collapsed": true
   },
   "outputs": [],
   "source": [
    "innatedb_df = innatedb_df[['alias_A', 'alias_B', 'pmid', 'source_database']]"
   ]
  },
  {
   "cell_type": "code",
   "execution_count": null,
   "metadata": {
    "collapsed": true
   },
   "outputs": [],
   "source": [
    "innatedb_df.rename(columns={'alias_A': 'Protein A (gene name)', 'alias_B':'Protein B (gene name)', 'pmid':'PubMed ID', 'source_database':'Source databases'}, inplace=True)"
   ]
  },
  {
   "cell_type": "code",
   "execution_count": null,
   "metadata": {
    "collapsed": true
   },
   "outputs": [],
   "source": [
    "# change column one to just show gene name\n",
    "#i = 1\n",
    "lst = []\n",
    "for name in innatedb_df['Protein A (gene name)']:\n",
    "    #print('\\r', i, end=' ', flush=True)\n",
    "    name = str(name) \n",
    "    if name != 'nan':\n",
    "        lst.append(name.split('|')[-1].split(\":\")[1].split('(')[0])\n",
    "    else:\n",
    "        lst.append(np.nan)\n",
    "    #i += 1\n",
    "innatedb_df['Protein A (gene name)'] = lst"
   ]
  },
  {
   "cell_type": "code",
   "execution_count": null,
   "metadata": {
    "collapsed": true
   },
   "outputs": [],
   "source": [
    "# change column two to just show gene name\n",
    "#i = 1\n",
    "lst = []\n",
    "for name in innatedb_df['Protein B (gene name)']:\n",
    "    #print('\\r', i, end=' ', flush=True)\n",
    "    name = str(name) \n",
    "    if name != 'nan':\n",
    "        lst.append(name.split('|')[-1].split(\":\")[1].split('(')[0])\n",
    "    else:\n",
    "        lst.append(np.nan)\n",
    "    #i += 1\n",
    "innatedb_df['Protein B (gene name)'] = lst"
   ]
  },
  {
   "cell_type": "code",
   "execution_count": null,
   "metadata": {
    "collapsed": true
   },
   "outputs": [],
   "source": [
    "# drop data for which no gene name is provited (or ensamble ID)\n",
    "innatedb_df.dropna(how='any', inplace=True, axis=0)"
   ]
  },
  {
   "cell_type": "code",
   "execution_count": null,
   "metadata": {
    "collapsed": true
   },
   "outputs": [],
   "source": [
    "lst = []\n",
    "\n",
    "for pub in innatedb_df['PubMed ID']:\n",
    "    pub = str(pub)\n",
    "    pub = pub.split(':')[1]\n",
    "    lst.append(pub)\n",
    "innatedb_df['PubMed ID'] = lst"
   ]
  },
  {
   "cell_type": "code",
   "execution_count": null,
   "metadata": {
    "collapsed": true
   },
   "outputs": [],
   "source": [
    "innatedb_df.drop_duplicates(inplace=True)"
   ]
  },
  {
   "cell_type": "code",
   "execution_count": null,
   "metadata": {
    "collapsed": true
   },
   "outputs": [],
   "source": [
    "innatedb_uf_df = innatedb_df.copy()"
   ]
  },
  {
   "cell_type": "code",
   "execution_count": null,
   "metadata": {},
   "outputs": [],
   "source": [
    "concatliketerms(innatedb_uf_df)"
   ]
  },
  {
   "cell_type": "code",
   "execution_count": null,
   "metadata": {
    "collapsed": true
   },
   "outputs": [],
   "source": [
    "filename = '/Users/moshesilverstein/Desktop/PPI Library/Output/IndividualResources/Unfiltered/ppi_network_innatedb_mouse_unfiltered_%s.tsv'% str(datetime.date.today()).replace('-', '_')\n",
    "innatedb_uf_df.to_csv(filename, sep='\\t', index=False) "
   ]
  },
  {
   "cell_type": "code",
   "execution_count": null,
   "metadata": {
    "collapsed": true
   },
   "outputs": [],
   "source": [
    "filename = '/Users/moshesilverstein/Desktop/PPI Library/Output/IndividualResources/Unfiltered/ppi_network_innatedb_mouse_unfiltered_%s.tsv.gz'% str(datetime.date.today()).replace('-', '_')\n",
    "innatedb_uf_df.to_csv(filename, sep='\\t', index=False, compression='gzip') "
   ]
  },
  {
   "cell_type": "code",
   "execution_count": null,
   "metadata": {},
   "outputs": [],
   "source": [
    "innatedb_df.shape"
   ]
  },
  {
   "cell_type": "code",
   "execution_count": null,
   "metadata": {},
   "outputs": [],
   "source": [
    "# drop any data that was published with more then 10 PPI's per publication\n",
    "i = 1\n",
    "for pub in innatedb_df['PubMed ID'].unique():\n",
    "    if i % 100 == 0:\n",
    "        print('\\r', str(i)+' Out of '+ str(len(innatedb_df['PubMed ID'].unique())), end=' ', flush=True)\n",
    "    if innatedb_df[innatedb_df['PubMed ID'] == pub].shape[0] > 10:\n",
    "        innatedb_df.drop(innatedb_df[innatedb_df['PubMed ID'] == pub].index.tolist(), inplace=True)\n",
    "    i +=1"
   ]
  },
  {
   "cell_type": "code",
   "execution_count": null,
   "metadata": {
    "collapsed": true
   },
   "outputs": [],
   "source": [
    "lst = []\n",
    "for value in innatedb_df['PubMed ID']:\n",
    "    if 'unassigned' in value:\n",
    "        lst.append(True)\n",
    "    else:\n",
    "        lst.append(False)\n",
    "\n",
    "innatedb_df = innatedb_df.drop(innatedb_df[lst].index)"
   ]
  },
  {
   "cell_type": "code",
   "execution_count": null,
   "metadata": {
    "collapsed": true
   },
   "outputs": [],
   "source": [
    "innatedb_df.dropna(inplace=True)"
   ]
  },
  {
   "cell_type": "code",
   "execution_count": null,
   "metadata": {},
   "outputs": [],
   "source": [
    "concatliketerms(innatedb_df)"
   ]
  },
  {
   "cell_type": "code",
   "execution_count": null,
   "metadata": {
    "collapsed": true
   },
   "outputs": [],
   "source": [
    "filename = '/Users/moshesilverstein/Desktop/PPI Library/Output/IndividualResources/Filtered/ppi_network_innatedb_mouse_filtered_%s.tsv'% str(datetime.date.today()).replace('-', '_')\n",
    "innatedb_df.to_csv(filename, sep='\\t', index=False) "
   ]
  },
  {
   "cell_type": "code",
   "execution_count": null,
   "metadata": {
    "collapsed": true
   },
   "outputs": [],
   "source": [
    "filename = '/Users/moshesilverstein/Desktop/PPI Library/Output/IndividualResources/Filtered/ppi_network_innatedb_mouse_filtered_%s.tsv.gz'% str(datetime.date.today()).replace('-', '_')\n",
    "innatedb_df.to_csv(filename, sep='\\t', index=False, compression='gzip') "
   ]
  },
  {
   "cell_type": "markdown",
   "metadata": {},
   "source": [
    "## DIP DATA"
   ]
  },
  {
   "cell_type": "code",
   "execution_count": null,
   "metadata": {
    "collapsed": true
   },
   "outputs": [],
   "source": [
    "dip_df = pd.read_csv('/Users/moshesilverstein/Desktop/PPI Library/Input/dip20160731.txt', sep='\\t', index_col=False)"
   ]
  },
  {
   "cell_type": "code",
   "execution_count": null,
   "metadata": {
    "collapsed": true
   },
   "outputs": [],
   "source": [
    "# get only human (or mouse) data\n",
    "n = dip_df['Taxid interactor A'].values\n",
    "b = [i for i,item in enumerate(n) if \"Mus musculus\" in item]\n",
    "dip_df = dip_df.ix[b]"
   ]
  },
  {
   "cell_type": "code",
   "execution_count": null,
   "metadata": {
    "collapsed": true
   },
   "outputs": [],
   "source": [
    "dip_df =  dip_df.reset_index().drop('index', axis=1)\n",
    "\n",
    "# get only human (or mouse) data\n",
    "n = dip_df['Taxid interactor B'].values\n",
    "b = [i for i,item in enumerate(n) if \"Mus musculus\" in item]\n",
    "dip_df = dip_df.ix[b]"
   ]
  },
  {
   "cell_type": "code",
   "execution_count": null,
   "metadata": {
    "collapsed": true
   },
   "outputs": [],
   "source": [
    "dip_df = dip_df[['ID interactor A', 'ID interactor B', 'Publication Identifier(s)', 'Source database(s)']]"
   ]
  },
  {
   "cell_type": "code",
   "execution_count": null,
   "metadata": {
    "collapsed": true
   },
   "outputs": [],
   "source": [
    "dip_df.rename(columns={'ID interactor A': 'Protein A (gene name)', 'ID interactor B':'Protein B (gene name)', 'Publication Identifier(s)':'PubMed ID', 'Source database(s)':'Source databases'}, inplace=True)"
   ]
  },
  {
   "cell_type": "markdown",
   "metadata": {},
   "source": [
    "#### mapping table to convert labels from uniprot to ncbi names"
   ]
  },
  {
   "cell_type": "code",
   "execution_count": null,
   "metadata": {
    "collapsed": true
   },
   "outputs": [],
   "source": [
    "mapping_df = pd.read_csv('/Users/moshesilverstein/Desktop/PPI Library/Doc and Mapping/MOUSE_10090_idmapping.dat', sep='\\t', index_col=False, names=['UniProtKB-AC', 'ID_type', 'ID'])"
   ]
  },
  {
   "cell_type": "code",
   "execution_count": null,
   "metadata": {
    "collapsed": true
   },
   "outputs": [],
   "source": [
    "mapping_df = mapping_df[mapping_df['ID_type']=='Gene_Name']"
   ]
  },
  {
   "cell_type": "code",
   "execution_count": null,
   "metadata": {
    "collapsed": true
   },
   "outputs": [],
   "source": [
    "mapping_df.set_index('UniProtKB-AC', inplace=True)"
   ]
  },
  {
   "cell_type": "code",
   "execution_count": null,
   "metadata": {
    "collapsed": true
   },
   "outputs": [],
   "source": [
    "mapping_df = mapping_df[~mapping_df.index.duplicated(keep='first')]"
   ]
  },
  {
   "cell_type": "code",
   "execution_count": null,
   "metadata": {
    "collapsed": true
   },
   "outputs": [],
   "source": [
    "# change column one to just show gene name\n",
    "for index in dip_df.index:\n",
    "    found = re.search('uniprotkb:......', dip_df.ix[index, 'Protein A (gene name)'])\n",
    "    if found:\n",
    "        name = found.group(0).split(':')[1]\n",
    "        if name in mapping_df.index.values:\n",
    "            dip_df.ix[index, 'Protein A (gene name)'] = mapping_df.ix[name, 'ID']\n",
    "        else:\n",
    "            dip_df.ix[index, 'Protein A (gene name)'] = np.nan\n",
    "    else:\n",
    "        dip_df.ix[index, 'Protein A (gene name)'] = np.nan"
   ]
  },
  {
   "cell_type": "code",
   "execution_count": null,
   "metadata": {
    "collapsed": true
   },
   "outputs": [],
   "source": [
    "# change column two to just show gene name\n",
    "for index in dip_df.index:\n",
    "    found = re.search('uniprotkb:......', dip_df.ix[index, 'Protein B (gene name)'])\n",
    "    if found:\n",
    "        name = found.group(0).split(':')[1]\n",
    "        if name in mapping_df.index.values:\n",
    "            dip_df.ix[index, 'Protein B (gene name)'] = mapping_df.ix[name, 'ID']\n",
    "        else:\n",
    "            dip_df.ix[index, 'Protein B (gene name)'] = np.nan\n",
    "    else:\n",
    "        dip_df.ix[index, 'Protein B (gene name)'] = np.nan"
   ]
  },
  {
   "cell_type": "code",
   "execution_count": null,
   "metadata": {
    "collapsed": true
   },
   "outputs": [],
   "source": [
    "lst = []\n",
    "\n",
    "for pub in dip_df['PubMed ID']:\n",
    "    pub = str(pub)\n",
    "    pub = pub.split('|')[0].split(':')[1]\n",
    "    lst.append(pub)\n",
    "dip_df['PubMed ID'] = lst"
   ]
  },
  {
   "cell_type": "code",
   "execution_count": null,
   "metadata": {
    "collapsed": true
   },
   "outputs": [],
   "source": [
    "dip_df.drop_duplicates(inplace=True)"
   ]
  },
  {
   "cell_type": "code",
   "execution_count": null,
   "metadata": {
    "collapsed": true
   },
   "outputs": [],
   "source": [
    "dip_uf_df = dip_df.copy()"
   ]
  },
  {
   "cell_type": "code",
   "execution_count": null,
   "metadata": {},
   "outputs": [],
   "source": [
    "concatliketerms(dip_uf_df)"
   ]
  },
  {
   "cell_type": "code",
   "execution_count": null,
   "metadata": {
    "collapsed": true
   },
   "outputs": [],
   "source": [
    "filename = '/Users/moshesilverstein/Desktop/PPI Library/Output/IndividualResources/Unfiltered/ppi_network_dip_mouse_unfiltered_%s.tsv'% str(datetime.date.today()).replace('-', '_')\n",
    "dip_uf_df.to_csv(filename, sep='\\t', index=False) "
   ]
  },
  {
   "cell_type": "code",
   "execution_count": null,
   "metadata": {
    "collapsed": true
   },
   "outputs": [],
   "source": [
    "filename = '/Users/moshesilverstein/Desktop/PPI Library/Output/IndividualResources/Unfiltered/ppi_network_dip_mouse_unfiltered_%s.tsv.gz'% str(datetime.date.today()).replace('-', '_')\n",
    "dip_uf_df.to_csv(filename, sep='\\t', index=False, compression='gzip') "
   ]
  },
  {
   "cell_type": "code",
   "execution_count": null,
   "metadata": {},
   "outputs": [],
   "source": [
    "# drop any data that was published with more then 10 PPI's per publication\n",
    "i = 1\n",
    "for pub in dip_df['PubMed ID'].unique():\n",
    "    if i % 100 == 0:\n",
    "        print('\\r', str(i)+' Out of '+ str(len(dip_df['PubMed ID'].unique())), end=' ', flush=True)\n",
    "    if dip_df[dip_df['PubMed ID'] == pub].shape[0] > 10:\n",
    "        dip_df.drop(dip_df[dip_df['PubMed ID'] == pub].index.tolist(), inplace=True)\n",
    "    i +=1"
   ]
  },
  {
   "cell_type": "code",
   "execution_count": null,
   "metadata": {
    "collapsed": true
   },
   "outputs": [],
   "source": [
    "lst = []\n",
    "for value in dip_df['PubMed ID']:\n",
    "    if 'unassigned' in value:\n",
    "        lst.append(True)\n",
    "    else:\n",
    "        lst.append(False)\n",
    "\n",
    "dip_df = dip_df.drop(dip_df[lst].index)"
   ]
  },
  {
   "cell_type": "code",
   "execution_count": null,
   "metadata": {
    "collapsed": true
   },
   "outputs": [],
   "source": [
    "dip_df.dropna(inplace=True)"
   ]
  },
  {
   "cell_type": "code",
   "execution_count": null,
   "metadata": {
    "collapsed": true
   },
   "outputs": [],
   "source": [
    "#mapping_df.head()"
   ]
  },
  {
   "cell_type": "code",
   "execution_count": null,
   "metadata": {},
   "outputs": [],
   "source": [
    "concatliketerms(dip_df)"
   ]
  },
  {
   "cell_type": "code",
   "execution_count": null,
   "metadata": {
    "collapsed": true
   },
   "outputs": [],
   "source": [
    "filename = '/Users/moshesilverstein/Desktop/PPI Library/Output/IndividualResources/Filtered/ppi_network_dip_mouse_filtered_%s.tsv'% str(datetime.date.today()).replace('-', '_')\n",
    "dip_df.to_csv(filename, sep='\\t', index=False) "
   ]
  },
  {
   "cell_type": "code",
   "execution_count": null,
   "metadata": {
    "collapsed": true
   },
   "outputs": [],
   "source": [
    "filename = '/Users/moshesilverstein/Desktop/PPI Library/Output/IndividualResources/Filtered/ppi_network_dip_mouse_filtered_%s.tsv.gz'% str(datetime.date.today()).replace('-', '_')\n",
    "dip_df.to_csv(filename, sep='\\t', index=False, compression='gzip')"
   ]
  },
  {
   "cell_type": "markdown",
   "metadata": {},
   "source": [
    "## mentha data"
   ]
  },
  {
   "cell_type": "code",
   "execution_count": null,
   "metadata": {
    "collapsed": true
   },
   "outputs": [],
   "source": [
    "mentha_df = pd.read_csv('/Users/moshesilverstein/Desktop/PPI Library/Input/mentha_mouse', sep=';')"
   ]
  },
  {
   "cell_type": "code",
   "execution_count": null,
   "metadata": {
    "collapsed": true
   },
   "outputs": [],
   "source": [
    "mentha_df = mentha_df[['Gene A', 'Gene B', 'PMID']]"
   ]
  },
  {
   "cell_type": "code",
   "execution_count": null,
   "metadata": {
    "collapsed": true
   },
   "outputs": [],
   "source": [
    "mentha_df['Source databases'] = '(mentha)'"
   ]
  },
  {
   "cell_type": "code",
   "execution_count": null,
   "metadata": {
    "collapsed": true
   },
   "outputs": [],
   "source": [
    "mentha_df.rename(columns={'Gene A': 'Protein A (gene name)', 'Gene B':'Protein B (gene name)', 'PMID':'PubMed ID'}, inplace=True)"
   ]
  },
  {
   "cell_type": "code",
   "execution_count": null,
   "metadata": {},
   "outputs": [],
   "source": [
    "i = 1\n",
    "for index in mentha_df.index:\n",
    "    if i % 100 == 0:\n",
    "        print('\\r', str(i)+' Out of '+ str(len(mentha_df.index)), end=' ', flush=True)\n",
    "    mentha_df.ix[index, 'PubMed ID'] = '|'.join(mentha_df.ix[index, 'PubMed ID'].split(' ')[0:-1])\n",
    "    i +=1"
   ]
  },
  {
   "cell_type": "code",
   "execution_count": null,
   "metadata": {
    "collapsed": true
   },
   "outputs": [],
   "source": [
    "mentha_df.drop_duplicates(inplace=True)"
   ]
  },
  {
   "cell_type": "code",
   "execution_count": null,
   "metadata": {
    "collapsed": true
   },
   "outputs": [],
   "source": [
    "mentha_uf_df = mentha_df.copy()"
   ]
  },
  {
   "cell_type": "code",
   "execution_count": null,
   "metadata": {},
   "outputs": [],
   "source": [
    "concatliketerms(mentha_uf_df)"
   ]
  },
  {
   "cell_type": "code",
   "execution_count": null,
   "metadata": {
    "collapsed": true
   },
   "outputs": [],
   "source": [
    "filename = '/Users/moshesilverstein/Desktop/PPI Library/Output/IndividualResources/Unfiltered/ppi_network_mentha_mouse_unfiltered_%s.tsv'% str(datetime.date.today()).replace('-', '_')\n",
    "mentha_uf_df.to_csv(filename, sep='\\t', index=False) "
   ]
  },
  {
   "cell_type": "code",
   "execution_count": null,
   "metadata": {
    "collapsed": true
   },
   "outputs": [],
   "source": [
    "filename = '/Users/moshesilverstein/Desktop/PPI Library/Output/IndividualResources/Unfiltered/ppi_network_mentha_mouse_unfiltered_%s.tsv.gz'% str(datetime.date.today()).replace('-', '_')\n",
    "mentha_uf_df.to_csv(filename, sep='\\t', index=False, compression='gzip')"
   ]
  },
  {
   "cell_type": "code",
   "execution_count": null,
   "metadata": {},
   "outputs": [],
   "source": [
    "# drop any data that was published with more then 10 PPI's per publication\n",
    "i = 1\n",
    "for pub in mentha_df['PubMed ID'].unique():\n",
    "    if i % 100 == 0:\n",
    "        print('\\r', str(i)+' Out of '+ str(len(mentha_df['PubMed ID'].unique())), end=' ', flush=True)\n",
    "    if mentha_df[mentha_df['PubMed ID'] == pub].shape[0] > 10:\n",
    "        mentha_df.drop(mentha_df[mentha_df['PubMed ID'] == pub].index.tolist(), inplace=True)\n",
    "    i +=1"
   ]
  },
  {
   "cell_type": "code",
   "execution_count": null,
   "metadata": {
    "collapsed": true
   },
   "outputs": [],
   "source": [
    "lst = []\n",
    "for value in mentha_df['PubMed ID']:\n",
    "    if 'unassigned' in value:\n",
    "        lst.append(True)\n",
    "    else:\n",
    "        lst.append(False)\n",
    "\n",
    "mentha_df = mentha_df.drop(mentha_df[lst].index)"
   ]
  },
  {
   "cell_type": "code",
   "execution_count": null,
   "metadata": {
    "collapsed": true
   },
   "outputs": [],
   "source": [
    "mentha_df.dropna(inplace=True)"
   ]
  },
  {
   "cell_type": "code",
   "execution_count": null,
   "metadata": {},
   "outputs": [],
   "source": [
    "mentha_df.shape"
   ]
  },
  {
   "cell_type": "code",
   "execution_count": null,
   "metadata": {},
   "outputs": [],
   "source": [
    "concatliketerms(mentha_df)"
   ]
  },
  {
   "cell_type": "code",
   "execution_count": null,
   "metadata": {},
   "outputs": [],
   "source": [
    "mentha_df.head()"
   ]
  },
  {
   "cell_type": "code",
   "execution_count": null,
   "metadata": {
    "collapsed": true
   },
   "outputs": [],
   "source": [
    "filename = '/Users/moshesilverstein/Desktop/PPI Library/Output/IndividualResources/Filtered/ppi_network_mentha_mouse_filtered_%s.tsv'% str(datetime.date.today()).replace('-', '_')\n",
    "mentha_df.to_csv(filename, sep='\\t', index=False) "
   ]
  },
  {
   "cell_type": "code",
   "execution_count": null,
   "metadata": {
    "collapsed": true
   },
   "outputs": [],
   "source": [
    "filename = '/Users/moshesilverstein/Desktop/PPI Library/Output/IndividualResources/Filtered/ppi_network_mentha_mouse_filtered_%s.tsv.gz'% str(datetime.date.today()).replace('-', '_')\n",
    "mentha_df.to_csv(filename, sep='\\t', index=False, compression='gzip')"
   ]
  },
  {
   "cell_type": "markdown",
   "metadata": {},
   "source": [
    "## IntAct Data "
   ]
  },
  {
   "cell_type": "code",
   "execution_count": null,
   "metadata": {},
   "outputs": [],
   "source": [
    "intact_df = pd.read_csv('/Users/moshesilverstein/Desktop/PPI Library/Input/intact.txt', sep='\\t')"
   ]
  },
  {
   "cell_type": "code",
   "execution_count": null,
   "metadata": {
    "collapsed": true
   },
   "outputs": [],
   "source": [
    "#intact_negative_df = pd.read_csv('intact_negative.txt', sep='\\t')"
   ]
  },
  {
   "cell_type": "code",
   "execution_count": null,
   "metadata": {
    "collapsed": true
   },
   "outputs": [],
   "source": [
    "#intact_df = pd.concat([intact_df, intact_negative_df])"
   ]
  },
  {
   "cell_type": "code",
   "execution_count": null,
   "metadata": {
    "collapsed": true
   },
   "outputs": [],
   "source": [
    "# get only human (or mouse) data\n",
    "n = intact_df['Taxid interactor A'].values\n",
    "b = [i for i,item in enumerate(n) if \"mouse\" in item]\n",
    "intact_df = intact_df.ix[b]"
   ]
  },
  {
   "cell_type": "code",
   "execution_count": null,
   "metadata": {
    "collapsed": true
   },
   "outputs": [],
   "source": [
    "intact_df =  intact_df.reset_index().drop('index', axis=1)\n",
    "\n",
    "# get only human (or mouse) data\n",
    "n = intact_df['Taxid interactor B'].values\n",
    "b = [i for i,item in enumerate(n) if \"mouse\" in item]\n",
    "intact_df = intact_df.ix[b]"
   ]
  },
  {
   "cell_type": "code",
   "execution_count": null,
   "metadata": {
    "collapsed": true
   },
   "outputs": [],
   "source": [
    "#intact_df.ix[0, 'Taxid interactor B']"
   ]
  },
  {
   "cell_type": "code",
   "execution_count": null,
   "metadata": {
    "collapsed": true
   },
   "outputs": [],
   "source": [
    "intact_df = intact_df[['Alias(es) interactor A', 'Alias(es) interactor B', 'Publication Identifier(s)', 'Source database(s)']]"
   ]
  },
  {
   "cell_type": "code",
   "execution_count": null,
   "metadata": {
    "collapsed": true
   },
   "outputs": [],
   "source": [
    "intact_df.rename(columns={'Alias(es) interactor A': 'Protein A (gene name)', 'Alias(es) interactor B':'Protein B (gene name)', 'Publication Identifier(s)':'PubMed ID', 'Source database(s)':'Source databases'}, inplace=True)"
   ]
  },
  {
   "cell_type": "code",
   "execution_count": null,
   "metadata": {
    "collapsed": true
   },
   "outputs": [],
   "source": [
    "# change column one to just show gene name\n",
    "#i = 1\n",
    "lst = []\n",
    "for name in intact_df['Protein A (gene name)']:\n",
    "    #print('\\r', i, end=' ', flush=True)\n",
    "    name = str(name)\n",
    "    if '(gene name)' in name:\n",
    "        temp = name.split('|')\n",
    "        for ID in temp:\n",
    "            if '(gene name)' in ID:\n",
    "                lst.append(ID.split(':')[1].split('(')[0])\n",
    "                break\n",
    "\n",
    "    else:\n",
    "        lst.append(np.nan)\n",
    "    \n",
    "    #i += 1\n",
    "intact_df['Protein A (gene name)'] = lst"
   ]
  },
  {
   "cell_type": "code",
   "execution_count": null,
   "metadata": {
    "collapsed": true
   },
   "outputs": [],
   "source": [
    "# change column two to just show gene name\n",
    "#i = 1\n",
    "lst = []\n",
    "for name in intact_df['Protein B (gene name)']:\n",
    "    #print('\\r', i, end=' ', flush=True)\n",
    "    name = str(name)\n",
    "    if '(gene name)' in name:\n",
    "        temp = name.split('|')\n",
    "        for ID in temp:\n",
    "            if '(gene name)' in ID:\n",
    "                lst.append(ID.split(':')[1].split('(')[0])\n",
    "                break\n",
    "\n",
    "    else:\n",
    "        lst.append(np.nan)\n",
    "    \n",
    "    #i += 1\n",
    "intact_df['Protein B (gene name)'] = lst"
   ]
  },
  {
   "cell_type": "code",
   "execution_count": null,
   "metadata": {
    "collapsed": true
   },
   "outputs": [],
   "source": [
    "# drop data for which no gene name is provited (or ensamble ID)\n",
    "intact_df.dropna(how='any', inplace=True, axis=0)"
   ]
  },
  {
   "cell_type": "code",
   "execution_count": null,
   "metadata": {
    "collapsed": true
   },
   "outputs": [],
   "source": [
    "lst = []\n",
    "\n",
    "for pub in intact_df['PubMed ID']:\n",
    "    pub = str(pub)\n",
    "    pub = pub.split('|')\n",
    "    for p in pub:\n",
    "        if 'pubmed' in p:\n",
    "            pub = p.split(':')[1]\n",
    "    lst.append(pub)\n",
    "intact_df['PubMed ID'] = lst"
   ]
  },
  {
   "cell_type": "code",
   "execution_count": null,
   "metadata": {
    "collapsed": true
   },
   "outputs": [],
   "source": [
    "intact_df.drop_duplicates(inplace=True)"
   ]
  },
  {
   "cell_type": "code",
   "execution_count": null,
   "metadata": {
    "collapsed": true
   },
   "outputs": [],
   "source": [
    "intact_uf_df = intact_df.copy()"
   ]
  },
  {
   "cell_type": "code",
   "execution_count": null,
   "metadata": {},
   "outputs": [],
   "source": [
    "concatliketerms(intact_uf_df)"
   ]
  },
  {
   "cell_type": "code",
   "execution_count": null,
   "metadata": {
    "collapsed": true
   },
   "outputs": [],
   "source": [
    "filename = '/Users/moshesilverstein/Desktop/PPI Library/Output/IndividualResources/Unfiltered/ppi_network_intact_mouse_unfiltered_%s.tsv'% str(datetime.date.today()).replace('-', '_')\n",
    "intact_uf_df.to_csv(filename, sep='\\t', index=False) "
   ]
  },
  {
   "cell_type": "code",
   "execution_count": null,
   "metadata": {
    "collapsed": true
   },
   "outputs": [],
   "source": [
    "filename = '/Users/moshesilverstein/Desktop/PPI Library/Output/IndividualResources/Unfiltered/ppi_network_intact_mouse_unfiltered_%s.tsv.gz'% str(datetime.date.today()).replace('-', '_')\n",
    "intact_uf_df.to_csv(filename, sep='\\t', index=False, compression='gzip')"
   ]
  },
  {
   "cell_type": "code",
   "execution_count": null,
   "metadata": {},
   "outputs": [],
   "source": [
    "# drop any data that was published with more then 10 PPI's per publication\n",
    "i = 1\n",
    "for pub in intact_df['PubMed ID'].unique():\n",
    "    if i % 100 == 0:\n",
    "        print('\\r', str(i)+' Out of '+ str(len(intact_df['PubMed ID'].unique())), end=' ', flush=True)\n",
    "    if intact_df[intact_df['PubMed ID'] == pub].shape[0] > 10:\n",
    "        intact_df.drop(intact_df[intact_df['PubMed ID'] == pub].index.tolist(), inplace=True)\n",
    "    i +=1\n"
   ]
  },
  {
   "cell_type": "code",
   "execution_count": null,
   "metadata": {},
   "outputs": [],
   "source": [
    "intact_df.shape"
   ]
  },
  {
   "cell_type": "code",
   "execution_count": null,
   "metadata": {
    "collapsed": true
   },
   "outputs": [],
   "source": [
    "lst = []\n",
    "for value in intact_df['PubMed ID']:\n",
    "    if 'unassigned' in value:\n",
    "        lst.append(True)\n",
    "    else:\n",
    "        lst.append(False)\n",
    "\n",
    "intact_df = intact_df.drop(intact_df[lst].index)"
   ]
  },
  {
   "cell_type": "code",
   "execution_count": null,
   "metadata": {
    "collapsed": true
   },
   "outputs": [],
   "source": [
    "intact_df.dropna(inplace=True)"
   ]
  },
  {
   "cell_type": "code",
   "execution_count": null,
   "metadata": {},
   "outputs": [],
   "source": [
    "intact_df.head()"
   ]
  },
  {
   "cell_type": "code",
   "execution_count": null,
   "metadata": {
    "collapsed": true
   },
   "outputs": [],
   "source": [
    "#intact_negative_df.head()"
   ]
  },
  {
   "cell_type": "code",
   "execution_count": null,
   "metadata": {
    "collapsed": true
   },
   "outputs": [],
   "source": [
    "# Alt. ID(s) interactor A\n",
    "#intact_df.ix[22, 'Aliases for A']"
   ]
  },
  {
   "cell_type": "code",
   "execution_count": null,
   "metadata": {},
   "outputs": [],
   "source": [
    "concatliketerms(intact_df)"
   ]
  },
  {
   "cell_type": "code",
   "execution_count": null,
   "metadata": {
    "collapsed": true
   },
   "outputs": [],
   "source": [
    "filename = '/Users/moshesilverstein/Desktop/PPI Library/Output/IndividualResources/Filtered/ppi_network_intact_mouse_filtered_%s.tsv'% str(datetime.date.today()).replace('-', '_')\n",
    "intact_df.to_csv(filename, sep='\\t', index=False) "
   ]
  },
  {
   "cell_type": "code",
   "execution_count": null,
   "metadata": {
    "collapsed": true
   },
   "outputs": [],
   "source": [
    "filename = '/Users/moshesilverstein/Desktop/PPI Library/Output/IndividualResources/Filtered/ppi_network_intact_mouse_filtered_%s.tsv.gz'% str(datetime.date.today()).replace('-', '_')\n",
    "intact_df.to_csv(filename, sep='\\t', index=False, compression='gzip')"
   ]
  },
  {
   "cell_type": "markdown",
   "metadata": {},
   "source": [
    "### Data Tables"
   ]
  },
  {
   "cell_type": "code",
   "execution_count": null,
   "metadata": {},
   "outputs": [],
   "source": [
    "mint_df.head()"
   ]
  },
  {
   "cell_type": "code",
   "execution_count": null,
   "metadata": {},
   "outputs": [],
   "source": [
    "biogrid_df.head()"
   ]
  },
  {
   "cell_type": "code",
   "execution_count": null,
   "metadata": {},
   "outputs": [],
   "source": [
    "innatedb_df.head()"
   ]
  },
  {
   "cell_type": "code",
   "execution_count": null,
   "metadata": {},
   "outputs": [],
   "source": [
    "dip_df.head()"
   ]
  },
  {
   "cell_type": "code",
   "execution_count": null,
   "metadata": {},
   "outputs": [],
   "source": [
    "mentha_df.head()"
   ]
  },
  {
   "cell_type": "code",
   "execution_count": null,
   "metadata": {},
   "outputs": [],
   "source": [
    "intact_df.head()"
   ]
  },
  {
   "cell_type": "markdown",
   "metadata": {},
   "source": [
    "## Comparison and overlap"
   ]
  },
  {
   "cell_type": "code",
   "execution_count": null,
   "metadata": {},
   "outputs": [],
   "source": [
    "data_sets= [mint_df, biogrid_df, innatedb_df, dip_df, mentha_df, intact_df]\n",
    "data_sets_names= ['mint', 'biogrid', 'innatedb', 'dip', 'mentha', 'intact']\n",
    "\n",
    "comp_df = pd.DataFrame(columns=data_sets_names, index=data_sets_names)\n",
    "comp_df.columns.name = 'Overlap (Mouse)'\n",
    "for i in np.arange(len(data_sets)):\n",
    "    for j in np.arange(len(data_sets)):\n",
    "        comp = pd.concat([data_sets[i][['Protein A (gene name)', 'Protein B (gene name)']], data_sets[j][['Protein A (gene name)', 'Protein B (gene name)']]])\n",
    "        comp_df.ix[data_sets_names[i], data_sets_names[j]] = comp.duplicated().sum()\n",
    "\n",
    "# mint_df[['Aliases for A', 'Aliases for B']].duplicated().sum()\n",
    "# biogrid_df[['Aliases for A', 'Aliases for B']].duplicated().sum()\n",
    "comp_df"
   ]
  },
  {
   "cell_type": "code",
   "execution_count": null,
   "metadata": {
    "collapsed": true
   },
   "outputs": [],
   "source": []
  },
  {
   "cell_type": "markdown",
   "metadata": {},
   "source": [
    "## Merged Network Table"
   ]
  },
  {
   "cell_type": "code",
   "execution_count": null,
   "metadata": {
    "collapsed": true
   },
   "outputs": [],
   "source": [
    "mint_df = pd.read_csv('/Users/moshesilverstein/Desktop/PPI Library/Output/IndividualResources/Filtered/ppi_network_mint_mouse_filtered_2017_02_15.tsv', sep='\\t')\n",
    "biogrid_df = pd.read_csv('/Users/moshesilverstein/Desktop/PPI Library/Output/IndividualResources/Filtered/ppi_network_biogrid_mouse_filtered_2017_02_15.tsv', sep='\\t')\n",
    "innatedb_df = pd.read_csv('/Users/moshesilverstein/Desktop/PPI Library/Output/IndividualResources/Filtered/ppi_network_innatedb_mouse_filtered_2017_02_15.tsv', sep='\\t')\n",
    "dip_df = pd.read_csv('/Users/moshesilverstein/Desktop/PPI Library/Output/IndividualResources/Filtered/ppi_network_dip_mouse_filtered_2017_02_15.tsv', sep='\\t')\n",
    "mentha_df = pd.read_csv('/Users/moshesilverstein/Desktop/PPI Library/Output/IndividualResources/Filtered/ppi_network_mentha_mouse_filtered_2017_02_15.tsv', sep='\\t')\n",
    "intact_df = pd.read_csv('/Users/moshesilverstein/Desktop/PPI Library/Output/IndividualResources/Filtered/ppi_network_intact_mouse_filtered_2017_02_15.tsv', sep='\\t')"
   ]
  },
  {
   "cell_type": "code",
   "execution_count": null,
   "metadata": {
    "collapsed": true
   },
   "outputs": [],
   "source": [
    "network_df = pd.concat([mint_df, biogrid_df, innatedb_df, dip_df, mentha_df, intact_df])"
   ]
  },
  {
   "cell_type": "code",
   "execution_count": null,
   "metadata": {
    "collapsed": true
   },
   "outputs": [],
   "source": [
    "#network_df.rename(columns={'Aliases for A':'Protein A (gene name)', 'Aliases for B':'Protein B (gene name)', 'Identifier of the publication':'PubMed ID'}, inplace=True)"
   ]
  },
  {
   "cell_type": "code",
   "execution_count": null,
   "metadata": {
    "collapsed": true
   },
   "outputs": [],
   "source": [
    "network_df.sort_values(['Protein A (gene name)', 'Protein B (gene name)'], inplace=True)"
   ]
  },
  {
   "cell_type": "code",
   "execution_count": null,
   "metadata": {
    "collapsed": true
   },
   "outputs": [],
   "source": [
    "network_df.reset_index(inplace=True)\n",
    "network_df.drop('index', axis=1, inplace=True)"
   ]
  },
  {
   "cell_type": "code",
   "execution_count": null,
   "metadata": {},
   "outputs": [],
   "source": [
    "network_df.shape"
   ]
  },
  {
   "cell_type": "code",
   "execution_count": null,
   "metadata": {},
   "outputs": [],
   "source": [
    "concatliketerms(network_df)"
   ]
  },
  {
   "cell_type": "code",
   "execution_count": null,
   "metadata": {
    "collapsed": true
   },
   "outputs": [],
   "source": [
    "filename = '/Users/moshesilverstein/Desktop/PPI Library/Output/Combined/Filtered/ppi_network_mouse_filtered_%s.tsv'% str(datetime.date.today()).replace('-', '_')\n",
    "network_df.to_csv(filename, sep='\\t', index=False) "
   ]
  },
  {
   "cell_type": "code",
   "execution_count": null,
   "metadata": {
    "collapsed": true
   },
   "outputs": [],
   "source": [
    "filename = '/Users/moshesilverstein/Desktop/PPI Library/Output/Combined/Filtered/ppi_network_mouse_filtered_%s.tsv.gz'% str(datetime.date.today()).replace('-', '_')\n",
    "network_df.to_csv(filename, sep='\\t', index=False, compression='gzip')"
   ]
  },
  {
   "cell_type": "code",
   "execution_count": null,
   "metadata": {},
   "outputs": [],
   "source": [
    "network_df.head()"
   ]
  },
  {
   "cell_type": "code",
   "execution_count": null,
   "metadata": {
    "collapsed": true
   },
   "outputs": [],
   "source": [
    "mint_uf_df = pd.read_csv('/Users/moshesilverstein/Desktop/PPI Library/Output/IndividualResources/Unfiltered/ppi_network_mint_mouse_unfiltered_2017_02_15.tsv', sep='\\t')\n",
    "biogrid_uf_df = pd.read_csv('/Users/moshesilverstein/Desktop/PPI Library/Output/IndividualResources/Unfiltered/ppi_network_biogrid_mouse_unfiltered_2017_02_15.tsv', sep='\\t')\n",
    "innatedb_uf_df = pd.read_csv('/Users/moshesilverstein/Desktop/PPI Library/Output/IndividualResources/Unfiltered/ppi_network_innatedb_mouse_unfiltered_2017_02_15.tsv', sep='\\t')\n",
    "dip_uf_df = pd.read_csv('/Users/moshesilverstein/Desktop/PPI Library/Output/IndividualResources/Unfiltered/ppi_network_dip_mouse_unfiltered_2017_02_15.tsv', sep='\\t')\n",
    "mentha_uf_df = pd.read_csv('/Users/moshesilverstein/Desktop/PPI Library/Output/IndividualResources/Unfiltered/ppi_network_mentha_mouse_unfiltered_2017_02_15.tsv', sep='\\t')\n",
    "intact_uf_df = pd.read_csv('/Users/moshesilverstein/Desktop/PPI Library/Output/IndividualResources/Unfiltered/ppi_network_intact_mouse_unfiltered_2017_02_15.tsv', sep='\\t')"
   ]
  },
  {
   "cell_type": "code",
   "execution_count": null,
   "metadata": {
    "collapsed": true
   },
   "outputs": [],
   "source": [
    "network_uf_df = pd.concat([mint_uf_df, biogrid_uf_df, innatedb_uf_df, dip_uf_df, mentha_uf_df, intact_uf_df])"
   ]
  },
  {
   "cell_type": "code",
   "execution_count": null,
   "metadata": {
    "collapsed": true
   },
   "outputs": [],
   "source": [
    "network_uf_df.sort_values(['Protein A (gene name)', 'Protein B (gene name)'], inplace=True)"
   ]
  },
  {
   "cell_type": "code",
   "execution_count": null,
   "metadata": {
    "collapsed": true
   },
   "outputs": [],
   "source": [
    "network_uf_df.reset_index(inplace=True)\n",
    "network_uf_df.drop('index', axis=1, inplace=True)"
   ]
  },
  {
   "cell_type": "code",
   "execution_count": null,
   "metadata": {},
   "outputs": [],
   "source": [
    "concatliketerms(network_uf_df)"
   ]
  },
  {
   "cell_type": "code",
   "execution_count": null,
   "metadata": {
    "collapsed": true
   },
   "outputs": [],
   "source": [
    "filename = '/Users/moshesilverstein/Desktop/PPI Library/Output/Combined/Unfiltered/ppi_network_mouse_unfiltered_%s.tsv'% str(datetime.date.today()).replace('-', '_')\n",
    "network_uf_df.to_csv(filename, sep='\\t', index=False) "
   ]
  },
  {
   "cell_type": "code",
   "execution_count": null,
   "metadata": {
    "collapsed": true
   },
   "outputs": [],
   "source": [
    "filename = '/Users/moshesilverstein/Desktop/PPI Library/Output/Combined/Unfiltered/ppi_network_mouse_unfiltered_%s.tsv.gz'% str(datetime.date.today()).replace('-', '_')\n",
    "network_df.to_csv(filename, sep='\\t', index=False, compression='gzip')"
   ]
  },
  {
   "cell_type": "markdown",
   "metadata": {},
   "source": [
    "## Merged DataFrame "
   ]
  },
  {
   "cell_type": "code",
   "execution_count": null,
   "metadata": {
    "collapsed": true
   },
   "outputs": [],
   "source": [
    "# drop PPI to self for the DIP data \n",
    "for index in dip_df.index:\n",
    "    if dip_df.ix[index, 'Aliases for A'] == dip_df.ix[index, 'Aliases for B']:\n",
    "        dip_df.drop(index, inplace=True)"
   ]
  },
  {
   "cell_type": "code",
   "execution_count": null,
   "metadata": {
    "collapsed": true
   },
   "outputs": [],
   "source": [
    "df = pd.concat([mint_df, biogrid_df, innatedb_df, dip_df, mentha_df, intact_df])"
   ]
  },
  {
   "cell_type": "code",
   "execution_count": null,
   "metadata": {
    "collapsed": true
   },
   "outputs": [],
   "source": [
    "df = df[['Aliases for A', 'Aliases for B']]"
   ]
  },
  {
   "cell_type": "code",
   "execution_count": null,
   "metadata": {},
   "outputs": [],
   "source": [
    "df.shape"
   ]
  },
  {
   "cell_type": "code",
   "execution_count": null,
   "metadata": {
    "collapsed": true
   },
   "outputs": [],
   "source": [
    "df.drop_duplicates(['Aliases for A', 'Aliases for B'], inplace=True)"
   ]
  },
  {
   "cell_type": "code",
   "execution_count": null,
   "metadata": {
    "collapsed": true
   },
   "outputs": [],
   "source": [
    "df.dropna(inplace=True)"
   ]
  },
  {
   "cell_type": "code",
   "execution_count": null,
   "metadata": {
    "collapsed": true
   },
   "outputs": [],
   "source": []
  },
  {
   "cell_type": "code",
   "execution_count": null,
   "metadata": {},
   "outputs": [],
   "source": [
    "df.shape"
   ]
  },
  {
   "cell_type": "code",
   "execution_count": null,
   "metadata": {},
   "outputs": [],
   "source": [
    "df.head()"
   ]
  },
  {
   "cell_type": "markdown",
   "metadata": {},
   "source": [
    "## Gene Set Library"
   ]
  },
  {
   "cell_type": "code",
   "execution_count": null,
   "metadata": {},
   "outputs": [],
   "source": [
    "# build library\n",
    "\n",
    "i = 1\n",
    "\n",
    "genelist = set(df['Aliases for A'].values.tolist() + df['Aliases for B'].values.tolist())\n",
    "\n",
    "lib = pd.DataFrame()\n",
    "\n",
    "for gene in genelist:\n",
    "    if i % 100 == 0:\n",
    "        print('\\r', str(i)+' Out of '+ str(len(genelist)), end=' ', flush=True)\n",
    "    lst = set(df[df.values == gene].values.flatten().tolist())\n",
    "    lst.remove(gene)\n",
    "    lst = list(lst)\n",
    "    lst.insert(0, gene)\n",
    "    if len(lst) >= 50:\n",
    "        temp = pd.DataFrame(data=lst)\n",
    "        lib = pd.concat([lib, temp.T])\n",
    "    i += 1"
   ]
  },
  {
   "cell_type": "code",
   "execution_count": null,
   "metadata": {
    "collapsed": true
   },
   "outputs": [],
   "source": [
    "lib.to_csv('PPI_MOUSE.gmt', sep='\\t', header=None, index=False)"
   ]
  },
  {
   "cell_type": "code",
   "execution_count": null,
   "metadata": {
    "collapsed": true
   },
   "outputs": [],
   "source": []
  },
  {
   "cell_type": "code",
   "execution_count": null,
   "metadata": {
    "collapsed": true
   },
   "outputs": [],
   "source": []
  },
  {
   "cell_type": "code",
   "execution_count": null,
   "metadata": {},
   "outputs": [],
   "source": [
    "lib.head(20)"
   ]
  },
  {
   "cell_type": "code",
   "execution_count": null,
   "metadata": {},
   "outputs": [],
   "source": [
    "lib.shape"
   ]
  },
  {
   "cell_type": "markdown",
   "metadata": {},
   "source": [
    "## Protein Count"
   ]
  },
  {
   "cell_type": "code",
   "execution_count": null,
   "metadata": {
    "collapsed": true
   },
   "outputs": [],
   "source": [
    "mint_df = pd.read_csv('/Users/moshesilverstein/Documents/Harmonizome/PPI Library/Output/IndividualResources/Filtered/ppi_network_mint_mouse_filtered_2017_02_15.tsv', sep='\\t')\n",
    "biogrid_df = pd.read_csv('/Users/moshesilverstein/Documents/Harmonizome/PPI Library/Output/IndividualResources/Filtered/ppi_network_biogrid_mouse_filtered_2017_02_15.tsv', sep='\\t')\n",
    "innatedb_df = pd.read_csv('/Users/moshesilverstein/Documents/Harmonizome/PPI Library/Output/IndividualResources/Filtered/ppi_network_innatedb_mouse_filtered_2017_02_15.tsv', sep='\\t')\n",
    "dip_df = pd.read_csv('/Users/moshesilverstein/Documents/Harmonizome/PPI Library/Output/IndividualResources/Filtered/ppi_network_dip_mouse_filtered_2017_02_15.tsv', sep='\\t')\n",
    "mentha_df = pd.read_csv('/Users/moshesilverstein/Documents/Harmonizome/PPI Library/Output/IndividualResources/Filtered/ppi_network_mentha_mouse_filtered_2017_02_15.tsv', sep='\\t')\n",
    "intact_df = pd.read_csv('/Users/moshesilverstein/Documents/Harmonizome/PPI Library/Output/IndividualResources/Filtered/ppi_network_intact_mouse_filtered_2017_02_15.tsv', sep='\\t')"
   ]
  },
  {
   "cell_type": "code",
   "execution_count": null,
   "metadata": {},
   "outputs": [],
   "source": [
    "len(set(mint_df['Protein A (gene name)'].tolist()+mint_df['Protein B (gene name)'].tolist()))"
   ]
  },
  {
   "cell_type": "code",
   "execution_count": null,
   "metadata": {},
   "outputs": [],
   "source": [
    "len(set(biogrid_df['Protein A (gene name)'].tolist()+biogrid_df['Protein B (gene name)'].tolist()))"
   ]
  },
  {
   "cell_type": "code",
   "execution_count": null,
   "metadata": {},
   "outputs": [],
   "source": [
    "len(set(innatedb_df['Protein A (gene name)'].tolist()+innatedb_df['Protein B (gene name)'].tolist()))"
   ]
  },
  {
   "cell_type": "code",
   "execution_count": null,
   "metadata": {},
   "outputs": [],
   "source": [
    "len(set(dip_df['Protein A (gene name)'].tolist()+dip_df['Protein B (gene name)'].tolist()))"
   ]
  },
  {
   "cell_type": "code",
   "execution_count": null,
   "metadata": {},
   "outputs": [],
   "source": [
    "len(set(mentha_df['Protein A (gene name)'].tolist()+mentha_df['Protein B (gene name)'].tolist()))"
   ]
  },
  {
   "cell_type": "code",
   "execution_count": null,
   "metadata": {},
   "outputs": [],
   "source": [
    "len(set(intact_df['Protein A (gene name)'].tolist()+intact_df['Protein B (gene name)'].tolist()))"
   ]
  },
  {
   "cell_type": "code",
   "execution_count": null,
   "metadata": {
    "collapsed": true
   },
   "outputs": [],
   "source": []
  }
 ],
 "metadata": {
  "anaconda-cloud": {},
  "kernelspec": {
   "display_name": "Python 3",
   "language": "python",
   "name": "python3"
  },
  "language_info": {
   "codemirror_mode": {
    "name": "ipython",
    "version": 3
   },
   "file_extension": ".py",
   "mimetype": "text/x-python",
   "name": "python",
   "nbconvert_exporter": "python",
   "pygments_lexer": "ipython3",
   "version": "3.6.1"
  }
 },
 "nbformat": 4,
 "nbformat_minor": 2
}
