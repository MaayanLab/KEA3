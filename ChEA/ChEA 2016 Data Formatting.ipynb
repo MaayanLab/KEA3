{
 "cells": [
  {
   "cell_type": "markdown",
   "metadata": {},
   "source": [
    "# ChEA 2016 Data Formatting\n",
    "\n",
    "This script takes data regarding transcription factors and their targets retrieved as the ChEA_2016 dataset from the ENRICHR website. This data was retrieved on Wednesday Jun 28, 2017."
   ]
  },
  {
   "cell_type": "markdown",
   "metadata": {},
   "source": [
    "## Import packages necessary for following program"
   ]
  },
  {
   "cell_type": "code",
   "execution_count": 15,
   "metadata": {
    "collapsed": true
   },
   "outputs": [],
   "source": [
    "%run /home/maayanlab/Desktop/Projects/KEA3/Scripts/init.ipy"
   ]
  },
  {
   "cell_type": "markdown",
   "metadata": {},
   "source": [
    "## Create a dataframe from a file containing ChEA_2016 dataset"
   ]
  },
  {
   "cell_type": "code",
   "execution_count": null,
   "metadata": {},
   "outputs": [],
   "source": [
    "colnames = ['']*2001\n",
    "colnames\n",
    "\n",
    "chea = pd.read_table('ChEA_2016', names = colnames)\n",
    "\n",
    "chea.replace(np.nan, \"\", inplace = True)\n",
    "chea.head(30)\n",
    "\n",
    "for column in chea:\n",
    "    for index, row in chea['%s' %column].iteritems():\n",
    "        s = row\n",
    "        if ',1.0' in s:\n",
    "            s = s.split(',1.0', 1)\n",
    "        chea.loc[index, '%s' %column] = s\n",
    "\n",
    "chea.head()"
   ]
  },
  {
   "cell_type": "markdown",
   "metadata": {},
   "source": [
    "## Create a Dictionary Corresponding to the ChEA data\n",
    "Each key will represent a transcription factor and the values will be a list of all of its substrates."
   ]
  },
  {
   "cell_type": "code",
   "execution_count": null,
   "metadata": {
    "collapsed": true
   },
   "outputs": [],
   "source": [
    "#loop through each row of the data frame\n",
    "#make the index ('') the dataframe's key\n",
    "#make each item of rowData into part of a list\n",
    "#store this list as a value for the index key of the dictionary\n",
    "\n",
    "\n",
    "#Once the dictionary is completed, we can use the dictionary to drop values which are NaN from the\n",
    "#list (or can have used list comprehension beforehand to filter the list and \n",
    "#keep NaNs from becoming values in the dataframe)"
   ]
  }
 ],
 "metadata": {
  "kernelspec": {
   "display_name": "Python 3",
   "language": "python",
   "name": "python3"
  },
  "language_info": {
   "codemirror_mode": {
    "name": "ipython",
    "version": 3
   },
   "file_extension": ".py",
   "mimetype": "text/x-python",
   "name": "python",
   "nbconvert_exporter": "python",
   "pygments_lexer": "ipython3",
   "version": "3.6.1"
  }
 },
 "nbformat": 4,
 "nbformat_minor": 2
}
