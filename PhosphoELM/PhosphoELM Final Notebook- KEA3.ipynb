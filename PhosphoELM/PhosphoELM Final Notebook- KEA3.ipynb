{
 "cells": [
  {
   "cell_type": "markdown",
   "metadata": {},
   "source": [
    "# PhosphoELM Data Formatting\n",
    "\n",
    "This file takes data regarding kinase-protein interactions from the PhosphoELM database and converts the data into the .gmt format. The data was retrieved from the PhosphoELM database on Wed, Jun 7 2017 16:27:31. This data will be added to enhance the KEA2 database and will be suitably formatted for use by ENRICHR and X2K. The citation for the data used in this script is \"Phospho.ELM: a database of phosphorylation sites--update 2008. Diella, F., Gould, C.M., Chica, C., Via, A. & Gibson, T.J. Nucleic Acids Res. 2008 Jan;36(Database issue):D240-4.\" and can also be found on the corresponding gh.pages website."
   ]
  },
  {
   "cell_type": "markdown",
   "metadata": {},
   "source": [
    "## Import packages necessary for following program"
   ]
  },
  {
   "cell_type": "code",
   "execution_count": 35,
   "metadata": {
    "collapsed": true
   },
   "outputs": [],
   "source": [
    "%run /home/maayanlab/Desktop/Projects/KEA3/Scripts/init.ipy"
   ]
  },
  {
   "cell_type": "markdown",
   "metadata": {},
   "source": [
    "## Create a dataframe from a file containing PhosphoELM data"
   ]
  },
  {
   "cell_type": "code",
   "execution_count": 36,
   "metadata": {},
   "outputs": [
    {
     "data": {
      "text/html": [
       "<div>\n",
       "<style>\n",
       "    .dataframe thead tr:only-child th {\n",
       "        text-align: right;\n",
       "    }\n",
       "\n",
       "    .dataframe thead th {\n",
       "        text-align: left;\n",
       "    }\n",
       "\n",
       "    .dataframe tbody tr th {\n",
       "        vertical-align: top;\n",
       "    }\n",
       "</style>\n",
       "<table border=\"1\" class=\"dataframe\">\n",
       "  <thead>\n",
       "    <tr style=\"text-align: right;\">\n",
       "      <th></th>\n",
       "      <th>acc</th>\n",
       "      <th>sequence</th>\n",
       "      <th>position</th>\n",
       "      <th>code</th>\n",
       "      <th>pmids</th>\n",
       "      <th>kinases</th>\n",
       "      <th>source</th>\n",
       "      <th>species</th>\n",
       "      <th>entry_date</th>\n",
       "    </tr>\n",
       "  </thead>\n",
       "  <tbody>\n",
       "    <tr>\n",
       "      <th>0</th>\n",
       "      <td>O08539</td>\n",
       "      <td>MAEMGSKGVTAGKIASNVQKKLTRAQEKVLQKLGKADETKDEQFEQ...</td>\n",
       "      <td>304</td>\n",
       "      <td>S</td>\n",
       "      <td>17114649</td>\n",
       "      <td>NaN</td>\n",
       "      <td>HTP</td>\n",
       "      <td>Mus musculus</td>\n",
       "      <td>2005-03-14 12:16:11.108314+01</td>\n",
       "    </tr>\n",
       "    <tr>\n",
       "      <th>1</th>\n",
       "      <td>O08539</td>\n",
       "      <td>MAEMGSKGVTAGKIASNVQKKLTRAQEKVLQKLGKADETKDEQFEQ...</td>\n",
       "      <td>304</td>\n",
       "      <td>S</td>\n",
       "      <td>17242355</td>\n",
       "      <td>NaN</td>\n",
       "      <td>HTP</td>\n",
       "      <td>Mus musculus</td>\n",
       "      <td>2005-03-14 12:16:11.108314+01</td>\n",
       "    </tr>\n",
       "    <tr>\n",
       "      <th>2</th>\n",
       "      <td>O08539</td>\n",
       "      <td>MAEMGSKGVTAGKIASNVQKKLTRAQEKVLQKLGKADETKDEQFEQ...</td>\n",
       "      <td>304</td>\n",
       "      <td>S</td>\n",
       "      <td>15345747</td>\n",
       "      <td>NaN</td>\n",
       "      <td>HTP</td>\n",
       "      <td>Mus musculus</td>\n",
       "      <td>2005-03-14 12:16:11.108314+01</td>\n",
       "    </tr>\n",
       "    <tr>\n",
       "      <th>3</th>\n",
       "      <td>O08539</td>\n",
       "      <td>MAEMGSKGVTAGKIASNVQKKLTRAQEKVLQKLGKADETKDEQFEQ...</td>\n",
       "      <td>296</td>\n",
       "      <td>S</td>\n",
       "      <td>17114649</td>\n",
       "      <td>NaN</td>\n",
       "      <td>HTP</td>\n",
       "      <td>Mus musculus</td>\n",
       "      <td>2007-07-13 15:17:45.666219+02</td>\n",
       "    </tr>\n",
       "    <tr>\n",
       "      <th>4</th>\n",
       "      <td>O08539</td>\n",
       "      <td>MAEMGSKGVTAGKIASNVQKKLTRAQEKVLQKLGKADETKDEQFEQ...</td>\n",
       "      <td>296</td>\n",
       "      <td>S</td>\n",
       "      <td>17242355</td>\n",
       "      <td>NaN</td>\n",
       "      <td>HTP</td>\n",
       "      <td>Mus musculus</td>\n",
       "      <td>2007-07-13 15:17:45.666219+02</td>\n",
       "    </tr>\n",
       "  </tbody>\n",
       "</table>\n",
       "</div>"
      ],
      "text/plain": [
       "      acc                                           sequence  position code  \\\n",
       "0  O08539  MAEMGSKGVTAGKIASNVQKKLTRAQEKVLQKLGKADETKDEQFEQ...       304    S   \n",
       "1  O08539  MAEMGSKGVTAGKIASNVQKKLTRAQEKVLQKLGKADETKDEQFEQ...       304    S   \n",
       "2  O08539  MAEMGSKGVTAGKIASNVQKKLTRAQEKVLQKLGKADETKDEQFEQ...       304    S   \n",
       "3  O08539  MAEMGSKGVTAGKIASNVQKKLTRAQEKVLQKLGKADETKDEQFEQ...       296    S   \n",
       "4  O08539  MAEMGSKGVTAGKIASNVQKKLTRAQEKVLQKLGKADETKDEQFEQ...       296    S   \n",
       "\n",
       "      pmids kinases source       species                     entry_date  \n",
       "0  17114649     NaN    HTP  Mus musculus  2005-03-14 12:16:11.108314+01  \n",
       "1  17242355     NaN    HTP  Mus musculus  2005-03-14 12:16:11.108314+01  \n",
       "2  15345747     NaN    HTP  Mus musculus  2005-03-14 12:16:11.108314+01  \n",
       "3  17114649     NaN    HTP  Mus musculus  2007-07-13 15:17:45.666219+02  \n",
       "4  17242355     NaN    HTP  Mus musculus  2007-07-13 15:17:45.666219+02  "
      ]
     },
     "execution_count": 36,
     "metadata": {},
     "output_type": "execute_result"
    }
   ],
   "source": [
    "#read data into dataframe 'phospho_df'\n",
    "phospho_df = pd.read_table('~/Desktop/Projects/KEA3/phosphoELM_all_2015-04.txt')\n",
    "\n",
    "#View dataframe\n",
    "phospho_df.head()"
   ]
  },
  {
   "cell_type": "markdown",
   "metadata": {},
   "source": [
    "## Filter by Organism and Kinase/Substrate columns\n",
    "Filters out only columns necessary for .gmt file format (kinases and accession numbers) and esnures that only data from mice and humans are included."
   ]
  },
  {
   "cell_type": "code",
   "execution_count": 37,
   "metadata": {},
   "outputs": [
    {
     "data": {
      "text/html": [
       "<div>\n",
       "<style>\n",
       "    .dataframe thead tr:only-child th {\n",
       "        text-align: right;\n",
       "    }\n",
       "\n",
       "    .dataframe thead th {\n",
       "        text-align: left;\n",
       "    }\n",
       "\n",
       "    .dataframe tbody tr th {\n",
       "        vertical-align: top;\n",
       "    }\n",
       "</style>\n",
       "<table border=\"1\" class=\"dataframe\">\n",
       "  <thead>\n",
       "    <tr style=\"text-align: right;\">\n",
       "      <th></th>\n",
       "      <th>acc</th>\n",
       "      <th>kinases</th>\n",
       "      <th>species</th>\n",
       "      <th>pmids</th>\n",
       "    </tr>\n",
       "  </thead>\n",
       "  <tbody>\n",
       "    <tr>\n",
       "      <th>9</th>\n",
       "      <td>O08605</td>\n",
       "      <td>PAK2</td>\n",
       "      <td>Mus musculus</td>\n",
       "      <td>15234964</td>\n",
       "    </tr>\n",
       "    <tr>\n",
       "      <th>14</th>\n",
       "      <td>O14543</td>\n",
       "      <td>Lck</td>\n",
       "      <td>Homo sapiens</td>\n",
       "      <td>12783885</td>\n",
       "    </tr>\n",
       "    <tr>\n",
       "      <th>18</th>\n",
       "      <td>O14746</td>\n",
       "      <td>PKB_group</td>\n",
       "      <td>Homo sapiens</td>\n",
       "      <td>10224060</td>\n",
       "    </tr>\n",
       "    <tr>\n",
       "      <th>21</th>\n",
       "      <td>O14746</td>\n",
       "      <td>SRC</td>\n",
       "      <td>Homo sapiens</td>\n",
       "      <td>12808100</td>\n",
       "    </tr>\n",
       "    <tr>\n",
       "      <th>27</th>\n",
       "      <td>O14920</td>\n",
       "      <td>IKK_group</td>\n",
       "      <td>Homo sapiens</td>\n",
       "      <td>10195894</td>\n",
       "    </tr>\n",
       "  </tbody>\n",
       "</table>\n",
       "</div>"
      ],
      "text/plain": [
       "       acc    kinases       species     pmids\n",
       "9   O08605       PAK2  Mus musculus  15234964\n",
       "14  O14543        Lck  Homo sapiens  12783885\n",
       "18  O14746  PKB_group  Homo sapiens  10224060\n",
       "21  O14746        SRC  Homo sapiens  12808100\n",
       "27  O14920  IKK_group  Homo sapiens  10195894"
      ]
     },
     "execution_count": 37,
     "metadata": {},
     "output_type": "execute_result"
    }
   ],
   "source": [
    "#Define a list of selected organisms\n",
    "organisms = ['Mus musculus', 'Homo sapiens']\n",
    "\n",
    "#Get indices of rows whose species is in the selected organisms\n",
    "indices = [index for index, rowData in phospho_df.iterrows() if rowData['species'] in organisms]\n",
    "\n",
    "#Filter\n",
    "phospho_df_filter = phospho_df.loc[indices, ['acc', 'kinases', 'species', 'pmids']].dropna()\n",
    "\n",
    "#Drop duplicates\n",
    "phospho_df_filter.drop_duplicates(['acc', 'kinases', 'species'], inplace = True)\n",
    "\n",
    "#View dataframe\n",
    "phospho_df_filter.head()"
   ]
  },
  {
   "cell_type": "markdown",
   "metadata": {},
   "source": [
    "## Convert UniProt IDs to Gene Symbols"
   ]
  },
  {
   "cell_type": "code",
   "execution_count": 38,
   "metadata": {},
   "outputs": [
    {
     "data": {
      "text/html": [
       "<div>\n",
       "<style>\n",
       "    .dataframe thead tr:only-child th {\n",
       "        text-align: right;\n",
       "    }\n",
       "\n",
       "    .dataframe thead th {\n",
       "        text-align: left;\n",
       "    }\n",
       "\n",
       "    .dataframe tbody tr th {\n",
       "        vertical-align: top;\n",
       "    }\n",
       "</style>\n",
       "<table border=\"1\" class=\"dataframe\">\n",
       "  <thead>\n",
       "    <tr style=\"text-align: right;\">\n",
       "      <th></th>\n",
       "      <th>acc</th>\n",
       "      <th>kinases</th>\n",
       "      <th>species</th>\n",
       "      <th>pmids</th>\n",
       "      <th>target_symbol</th>\n",
       "    </tr>\n",
       "  </thead>\n",
       "  <tbody>\n",
       "    <tr>\n",
       "      <th>9</th>\n",
       "      <td>O08605</td>\n",
       "      <td>PAK2</td>\n",
       "      <td>Mus musculus</td>\n",
       "      <td>15234964</td>\n",
       "      <td>Mknk1</td>\n",
       "    </tr>\n",
       "    <tr>\n",
       "      <th>14</th>\n",
       "      <td>O14543</td>\n",
       "      <td>Lck</td>\n",
       "      <td>Homo sapiens</td>\n",
       "      <td>12783885</td>\n",
       "      <td>SOCS3</td>\n",
       "    </tr>\n",
       "    <tr>\n",
       "      <th>18</th>\n",
       "      <td>O14746</td>\n",
       "      <td>PKB_group</td>\n",
       "      <td>Homo sapiens</td>\n",
       "      <td>10224060</td>\n",
       "      <td>TERT</td>\n",
       "    </tr>\n",
       "    <tr>\n",
       "      <th>21</th>\n",
       "      <td>O14746</td>\n",
       "      <td>SRC</td>\n",
       "      <td>Homo sapiens</td>\n",
       "      <td>12808100</td>\n",
       "      <td>TERT</td>\n",
       "    </tr>\n",
       "    <tr>\n",
       "      <th>27</th>\n",
       "      <td>O14920</td>\n",
       "      <td>IKK_group</td>\n",
       "      <td>Homo sapiens</td>\n",
       "      <td>10195894</td>\n",
       "      <td>IKBKB</td>\n",
       "    </tr>\n",
       "  </tbody>\n",
       "</table>\n",
       "</div>"
      ],
      "text/plain": [
       "       acc    kinases       species     pmids target_symbol\n",
       "9   O08605       PAK2  Mus musculus  15234964         Mknk1\n",
       "14  O14543        Lck  Homo sapiens  12783885         SOCS3\n",
       "18  O14746  PKB_group  Homo sapiens  10224060          TERT\n",
       "21  O14746        SRC  Homo sapiens  12808100          TERT\n",
       "27  O14920  IKK_group  Homo sapiens  10195894         IKBKB"
      ]
     },
     "execution_count": 38,
     "metadata": {},
     "output_type": "execute_result"
    }
   ],
   "source": [
    "#Use uniprot_to_symbol function from Scripts.py to convert\n",
    "phospho_df_filter['target_symbol'] = Scripts.uniprot_to_symbol(phospho_df_filter['acc'].tolist())\n",
    "\n",
    "#View dataframe\n",
    "phospho_df_filter.head()"
   ]
  },
  {
   "cell_type": "markdown",
   "metadata": {},
   "source": [
    "## Create a new column combining kinases and organism"
   ]
  },
  {
   "cell_type": "code",
   "execution_count": 39,
   "metadata": {},
   "outputs": [
    {
     "data": {
      "text/html": [
       "<div>\n",
       "<style>\n",
       "    .dataframe thead tr:only-child th {\n",
       "        text-align: right;\n",
       "    }\n",
       "\n",
       "    .dataframe thead th {\n",
       "        text-align: left;\n",
       "    }\n",
       "\n",
       "    .dataframe tbody tr th {\n",
       "        vertical-align: top;\n",
       "    }\n",
       "</style>\n",
       "<table border=\"1\" class=\"dataframe\">\n",
       "  <thead>\n",
       "    <tr style=\"text-align: right;\">\n",
       "      <th></th>\n",
       "      <th>acc</th>\n",
       "      <th>kinases</th>\n",
       "      <th>species</th>\n",
       "      <th>pmids</th>\n",
       "      <th>target_symbol</th>\n",
       "      <th>kinase_organism</th>\n",
       "    </tr>\n",
       "  </thead>\n",
       "  <tbody>\n",
       "    <tr>\n",
       "      <th>9</th>\n",
       "      <td>O08605</td>\n",
       "      <td>PAK2</td>\n",
       "      <td>Mus musculus</td>\n",
       "      <td>15234964</td>\n",
       "      <td>Mknk1</td>\n",
       "      <td>PAK2_Mus musculus</td>\n",
       "    </tr>\n",
       "    <tr>\n",
       "      <th>14</th>\n",
       "      <td>O14543</td>\n",
       "      <td>Lck</td>\n",
       "      <td>Homo sapiens</td>\n",
       "      <td>12783885</td>\n",
       "      <td>SOCS3</td>\n",
       "      <td>Lck_Homo sapiens</td>\n",
       "    </tr>\n",
       "    <tr>\n",
       "      <th>18</th>\n",
       "      <td>O14746</td>\n",
       "      <td>PKB_group</td>\n",
       "      <td>Homo sapiens</td>\n",
       "      <td>10224060</td>\n",
       "      <td>TERT</td>\n",
       "      <td>PKB_group_Homo sapiens</td>\n",
       "    </tr>\n",
       "    <tr>\n",
       "      <th>21</th>\n",
       "      <td>O14746</td>\n",
       "      <td>SRC</td>\n",
       "      <td>Homo sapiens</td>\n",
       "      <td>12808100</td>\n",
       "      <td>TERT</td>\n",
       "      <td>SRC_Homo sapiens</td>\n",
       "    </tr>\n",
       "    <tr>\n",
       "      <th>27</th>\n",
       "      <td>O14920</td>\n",
       "      <td>IKK_group</td>\n",
       "      <td>Homo sapiens</td>\n",
       "      <td>10195894</td>\n",
       "      <td>IKBKB</td>\n",
       "      <td>IKK_group_Homo sapiens</td>\n",
       "    </tr>\n",
       "  </tbody>\n",
       "</table>\n",
       "</div>"
      ],
      "text/plain": [
       "       acc    kinases       species     pmids target_symbol  \\\n",
       "9   O08605       PAK2  Mus musculus  15234964         Mknk1   \n",
       "14  O14543        Lck  Homo sapiens  12783885         SOCS3   \n",
       "18  O14746  PKB_group  Homo sapiens  10224060          TERT   \n",
       "21  O14746        SRC  Homo sapiens  12808100          TERT   \n",
       "27  O14920  IKK_group  Homo sapiens  10195894         IKBKB   \n",
       "\n",
       "           kinase_organism  \n",
       "9        PAK2_Mus musculus  \n",
       "14        Lck_Homo sapiens  \n",
       "18  PKB_group_Homo sapiens  \n",
       "21        SRC_Homo sapiens  \n",
       "27  IKK_group_Homo sapiens  "
      ]
     },
     "execution_count": 39,
     "metadata": {},
     "output_type": "execute_result"
    }
   ],
   "source": [
    "# Combine 'kinases' and 'species' into one column 'kinase_organism'\n",
    "phospho_df_filter['kinase_organism'] = ['_'.join([kinase, species]) for kinase, species in phospho_df_filter[['kinases', 'species']].as_matrix()]\n",
    "\n",
    "#View dataframe\n",
    "phospho_df_filter.head()"
   ]
  },
  {
   "cell_type": "markdown",
   "metadata": {},
   "source": [
    "## Perform preliminary data processing \n",
    "\n",
    "Select columns necessary for .gmt format and filter into new dataframe 'df'\n",
    "df = phospho_df[['acc', 'kinases', 'species']]We must drop duplicates and NaNs, as well as select only the columns necessary for the .gmt file format (the protein ids and kinase gene symbols). The species column is also selected for future filtering of data by desired species."
   ]
  },
  {
   "cell_type": "code",
   "execution_count": 40,
   "metadata": {},
   "outputs": [
    {
     "name": "stderr",
     "output_type": "stream",
     "text": [
      "/home/maayanlab/anaconda3/lib/python3.6/site-packages/ipykernel_launcher.py:5: SettingWithCopyWarning: \n",
      "A value is trying to be set on a copy of a slice from a DataFrame\n",
      "\n",
      "See the caveats in the documentation: http://pandas.pydata.org/pandas-docs/stable/indexing.html#indexing-view-versus-copy\n",
      "  \"\"\"\n",
      "/home/maayanlab/anaconda3/lib/python3.6/site-packages/ipykernel_launcher.py:8: SettingWithCopyWarning: \n",
      "A value is trying to be set on a copy of a slice from a DataFrame\n",
      "\n",
      "See the caveats in the documentation: http://pandas.pydata.org/pandas-docs/stable/indexing.html#indexing-view-versus-copy\n",
      "  \n"
     ]
    },
    {
     "data": {
      "text/html": [
       "<div>\n",
       "<style>\n",
       "    .dataframe thead tr:only-child th {\n",
       "        text-align: right;\n",
       "    }\n",
       "\n",
       "    .dataframe thead th {\n",
       "        text-align: left;\n",
       "    }\n",
       "\n",
       "    .dataframe tbody tr th {\n",
       "        vertical-align: top;\n",
       "    }\n",
       "</style>\n",
       "<table border=\"1\" class=\"dataframe\">\n",
       "  <thead>\n",
       "    <tr style=\"text-align: right;\">\n",
       "      <th></th>\n",
       "      <th>target_symbol</th>\n",
       "      <th>kinase_organism</th>\n",
       "    </tr>\n",
       "  </thead>\n",
       "  <tbody>\n",
       "    <tr>\n",
       "      <th>9</th>\n",
       "      <td>Mknk1</td>\n",
       "      <td>PAK2_Mus musculus</td>\n",
       "    </tr>\n",
       "    <tr>\n",
       "      <th>14</th>\n",
       "      <td>SOCS3</td>\n",
       "      <td>Lck_Homo sapiens</td>\n",
       "    </tr>\n",
       "    <tr>\n",
       "      <th>18</th>\n",
       "      <td>TERT</td>\n",
       "      <td>PKB_group_Homo sapiens</td>\n",
       "    </tr>\n",
       "    <tr>\n",
       "      <th>21</th>\n",
       "      <td>TERT</td>\n",
       "      <td>SRC_Homo sapiens</td>\n",
       "    </tr>\n",
       "    <tr>\n",
       "      <th>27</th>\n",
       "      <td>IKBKB</td>\n",
       "      <td>IKK_group_Homo sapiens</td>\n",
       "    </tr>\n",
       "  </tbody>\n",
       "</table>\n",
       "</div>"
      ],
      "text/plain": [
       "   target_symbol         kinase_organism\n",
       "9          Mknk1       PAK2_Mus musculus\n",
       "14         SOCS3        Lck_Homo sapiens\n",
       "18          TERT  PKB_group_Homo sapiens\n",
       "21          TERT        SRC_Homo sapiens\n",
       "27         IKBKB  IKK_group_Homo sapiens"
      ]
     },
     "execution_count": 40,
     "metadata": {},
     "output_type": "execute_result"
    }
   ],
   "source": [
    "#select columns necessary for .gmt and .sig format and filter into new dataframe 'df'\n",
    "df_sig = phospho_df_filter[['target_symbol', 'kinase_organism', 'pmids']]\n",
    "\n",
    "#drop duplicate rows in the dataframe\n",
    "df_sig.drop_duplicates(inplace = True)\n",
    "\n",
    "#drop all rows with an 'NaN' value for the kinases\n",
    "df_sig.dropna(axis = 0, inplace = True)\n",
    "\n",
    "df = df_sig.drop('pmids', axis = 1)\n",
    "\n",
    "#Visualize data\n",
    "df.head()"
   ]
  },
  {
   "cell_type": "markdown",
   "metadata": {},
   "source": [
    "## Set Index to 'Kinase_Organism' and Aggregate Kinase Targets"
   ]
  },
  {
   "cell_type": "code",
   "execution_count": 41,
   "metadata": {},
   "outputs": [
    {
     "data": {
      "text/html": [
       "<div>\n",
       "<style>\n",
       "    .dataframe thead tr:only-child th {\n",
       "        text-align: right;\n",
       "    }\n",
       "\n",
       "    .dataframe thead th {\n",
       "        text-align: left;\n",
       "    }\n",
       "\n",
       "    .dataframe tbody tr th {\n",
       "        vertical-align: top;\n",
       "    }\n",
       "</style>\n",
       "<table border=\"1\" class=\"dataframe\">\n",
       "  <thead>\n",
       "    <tr style=\"text-align: right;\">\n",
       "      <th></th>\n",
       "      <th>Description</th>\n",
       "      <th>target_symbol</th>\n",
       "    </tr>\n",
       "    <tr>\n",
       "      <th>kinase_organism</th>\n",
       "      <th></th>\n",
       "      <th></th>\n",
       "    </tr>\n",
       "  </thead>\n",
       "  <tbody>\n",
       "    <tr>\n",
       "      <th>AAK1_Homo sapiens</th>\n",
       "      <td>PhosphoELM</td>\n",
       "      <td>(NUMB, AP1M1, AP2M1)</td>\n",
       "    </tr>\n",
       "    <tr>\n",
       "      <th>ALK_Homo sapiens</th>\n",
       "      <td>PhosphoELM</td>\n",
       "      <td>(STAT3, ALK, ZC3HC1)</td>\n",
       "    </tr>\n",
       "    <tr>\n",
       "      <th>AMPK_group_Homo sapiens</th>\n",
       "      <td>PhosphoELM</td>\n",
       "      <td>(IRS1, KPNA2, EP300, EEF2K, PFKFB2, HNF4A, PRK...</td>\n",
       "    </tr>\n",
       "    <tr>\n",
       "      <th>AMPK_group_Mus musculus</th>\n",
       "      <td>PhosphoELM</td>\n",
       "      <td>(Irs1, Mtor)</td>\n",
       "    </tr>\n",
       "    <tr>\n",
       "      <th>ATM_Homo sapiens</th>\n",
       "      <td>PhosphoELM</td>\n",
       "      <td>(CHEK2, ABL1, TP53, ATF2, RPA2, CREB1, BRCA1, ...</td>\n",
       "    </tr>\n",
       "  </tbody>\n",
       "</table>\n",
       "</div>"
      ],
      "text/plain": [
       "                        Description  \\\n",
       "kinase_organism                       \n",
       "AAK1_Homo sapiens        PhosphoELM   \n",
       "ALK_Homo sapiens         PhosphoELM   \n",
       "AMPK_group_Homo sapiens  PhosphoELM   \n",
       "AMPK_group_Mus musculus  PhosphoELM   \n",
       "ATM_Homo sapiens         PhosphoELM   \n",
       "\n",
       "                                                             target_symbol  \n",
       "kinase_organism                                                             \n",
       "AAK1_Homo sapiens                                     (NUMB, AP1M1, AP2M1)  \n",
       "ALK_Homo sapiens                                      (STAT3, ALK, ZC3HC1)  \n",
       "AMPK_group_Homo sapiens  (IRS1, KPNA2, EP300, EEF2K, PFKFB2, HNF4A, PRK...  \n",
       "AMPK_group_Mus musculus                                       (Irs1, Mtor)  \n",
       "ATM_Homo sapiens         (CHEK2, ABL1, TP53, ATF2, RPA2, CREB1, BRCA1, ...  "
      ]
     },
     "execution_count": 41,
     "metadata": {},
     "output_type": "execute_result"
    }
   ],
   "source": [
    "df.set_index('kinase_organism')\n",
    "\n",
    "#Group kinases in dataframe 'kin'\n",
    "#Aggregate data in 'kin' according to kinase groups\n",
    "kin = df.groupby('kinase_organism').agg(lambda x: tuple(x))\n",
    "\n",
    "#Create a new column with 'PhosphoELM' as description of data\n",
    "kin.insert(0, 'Description', 'PhosphoELM')\n",
    "\n",
    "#Visualize Data\n",
    "kin.head()"
   ]
  },
  {
   "cell_type": "markdown",
   "metadata": {},
   "source": [
    "# Exploratory Data Analysis"
   ]
  },
  {
   "cell_type": "markdown",
   "metadata": {},
   "source": [
    "## Calculate Number of Protein targets for each kinase\n",
    "Create a new column with the number of substrates related to each kinase, and sort the dataframe by this column."
   ]
  },
  {
   "cell_type": "code",
   "execution_count": 42,
   "metadata": {},
   "outputs": [
    {
     "data": {
      "text/html": [
       "<div>\n",
       "<style>\n",
       "    .dataframe thead tr:only-child th {\n",
       "        text-align: right;\n",
       "    }\n",
       "\n",
       "    .dataframe thead th {\n",
       "        text-align: left;\n",
       "    }\n",
       "\n",
       "    .dataframe tbody tr th {\n",
       "        vertical-align: top;\n",
       "    }\n",
       "</style>\n",
       "<table border=\"1\" class=\"dataframe\">\n",
       "  <thead>\n",
       "    <tr style=\"text-align: right;\">\n",
       "      <th></th>\n",
       "      <th>Description</th>\n",
       "      <th>target_symbol</th>\n",
       "      <th>kinase_targets_num</th>\n",
       "    </tr>\n",
       "    <tr>\n",
       "      <th>kinase_organism</th>\n",
       "      <th></th>\n",
       "      <th></th>\n",
       "      <th></th>\n",
       "    </tr>\n",
       "  </thead>\n",
       "  <tbody>\n",
       "    <tr>\n",
       "      <th>PKA_group_Homo sapiens</th>\n",
       "      <td>PhosphoELM</td>\n",
       "      <td>(HIST1H2BI, FGA, ESR1, RAF1, ANXA1, TH, ADRB2,...</td>\n",
       "      <td>139</td>\n",
       "    </tr>\n",
       "    <tr>\n",
       "      <th>CK2_group_Homo sapiens</th>\n",
       "      <td>PhosphoELM</td>\n",
       "      <td>(C1R, JUN, SSB, PGR, CDK1, HSP90AA1, HNRNPC, S...</td>\n",
       "      <td>84</td>\n",
       "    </tr>\n",
       "    <tr>\n",
       "      <th>PKC_group_Homo sapiens</th>\n",
       "      <td>PhosphoELM</td>\n",
       "      <td>(EGFR, IL2RA, LMNA, FGA, TFRC, RAF1, ANXA1, EE...</td>\n",
       "      <td>81</td>\n",
       "    </tr>\n",
       "    <tr>\n",
       "      <th>CDK1_Homo sapiens</th>\n",
       "      <td>PhosphoELM</td>\n",
       "      <td>(BIRC5, EGFR, TK1, KRT8, NPM1, PPP1CA, VIM, TO...</td>\n",
       "      <td>67</td>\n",
       "    </tr>\n",
       "    <tr>\n",
       "      <th>PKC_alpha_Homo sapiens</th>\n",
       "      <td>PhosphoELM</td>\n",
       "      <td>(EGFR, TFRC, ANXA1, INSR, ANXA2, PLEK, SRF, CF...</td>\n",
       "      <td>67</td>\n",
       "    </tr>\n",
       "  </tbody>\n",
       "</table>\n",
       "</div>"
      ],
      "text/plain": [
       "                       Description  \\\n",
       "kinase_organism                      \n",
       "PKA_group_Homo sapiens  PhosphoELM   \n",
       "CK2_group_Homo sapiens  PhosphoELM   \n",
       "PKC_group_Homo sapiens  PhosphoELM   \n",
       "CDK1_Homo sapiens       PhosphoELM   \n",
       "PKC_alpha_Homo sapiens  PhosphoELM   \n",
       "\n",
       "                                                            target_symbol  \\\n",
       "kinase_organism                                                             \n",
       "PKA_group_Homo sapiens  (HIST1H2BI, FGA, ESR1, RAF1, ANXA1, TH, ADRB2,...   \n",
       "CK2_group_Homo sapiens  (C1R, JUN, SSB, PGR, CDK1, HSP90AA1, HNRNPC, S...   \n",
       "PKC_group_Homo sapiens  (EGFR, IL2RA, LMNA, FGA, TFRC, RAF1, ANXA1, EE...   \n",
       "CDK1_Homo sapiens       (BIRC5, EGFR, TK1, KRT8, NPM1, PPP1CA, VIM, TO...   \n",
       "PKC_alpha_Homo sapiens  (EGFR, TFRC, ANXA1, INSR, ANXA2, PLEK, SRF, CF...   \n",
       "\n",
       "                        kinase_targets_num  \n",
       "kinase_organism                             \n",
       "PKA_group_Homo sapiens                 139  \n",
       "CK2_group_Homo sapiens                  84  \n",
       "PKC_group_Homo sapiens                  81  \n",
       "CDK1_Homo sapiens                       67  \n",
       "PKC_alpha_Homo sapiens                  67  "
      ]
     },
     "execution_count": 42,
     "metadata": {},
     "output_type": "execute_result"
    }
   ],
   "source": [
    "# Create column representing counts of protein targets per kinase\n",
    "kin['kinase_targets_num'] = [len(lst) for kinase, lst in kin['target_symbol'].iteritems()]\n",
    "\n",
    "# Sort kinases from max to min according to number of protein targets each has\n",
    "kin.sort_values(by = ['kinase_targets_num'], ascending= False, inplace=True)\n",
    "\n",
    "# Visualize data\n",
    "kin.head()"
   ]
  },
  {
   "cell_type": "markdown",
   "metadata": {},
   "source": [
    "## Create Histogram to display distribution of number of targets per kinase"
   ]
  },
  {
   "cell_type": "code",
   "execution_count": 43,
   "metadata": {
    "scrolled": true
   },
   "outputs": [
    {
     "data": {
      "image/png": "[encoded data removed]",
      "text/plain": [
       "<matplotlib.figure.Figure at 0x7fd5dc394b00>"
      ]
     },
     "metadata": {},
     "output_type": "display_data"
    }
   ],
   "source": [
    "# Create histogram displaying the distribution of the number\n",
    "#targets per kinase\n",
    "kin.plot.hist(by = 'kinase_targets_num', bins = 34)\n",
    "\n",
    "#Show histogram\n",
    "plt.show()"
   ]
  },
  {
   "cell_type": "markdown",
   "metadata": {},
   "source": [
    "## Filter Dataframe by Number of Substrates for each Kinase"
   ]
  },
  {
   "cell_type": "code",
   "execution_count": 44,
   "metadata": {},
   "outputs": [
    {
     "name": "stderr",
     "output_type": "stream",
     "text": [
      "/home/maayanlab/anaconda3/lib/python3.6/site-packages/ipykernel_launcher.py:1: SettingWithCopyWarning: \n",
      "A value is trying to be set on a copy of a slice from a DataFrame\n",
      "\n",
      "See the caveats in the documentation: http://pandas.pydata.org/pandas-docs/stable/indexing.html#indexing-view-versus-copy\n",
      "  \"\"\"Entry point for launching an IPython kernel.\n"
     ]
    },
    {
     "data": {
      "text/html": [
       "<div>\n",
       "<style>\n",
       "    .dataframe thead tr:only-child th {\n",
       "        text-align: right;\n",
       "    }\n",
       "\n",
       "    .dataframe thead th {\n",
       "        text-align: left;\n",
       "    }\n",
       "\n",
       "    .dataframe tbody tr th {\n",
       "        vertical-align: top;\n",
       "    }\n",
       "</style>\n",
       "<table border=\"1\" class=\"dataframe\">\n",
       "  <thead>\n",
       "    <tr style=\"text-align: right;\">\n",
       "      <th></th>\n",
       "      <th>target_symbol</th>\n",
       "      <th>kinase_organism</th>\n",
       "      <th>pmids</th>\n",
       "    </tr>\n",
       "  </thead>\n",
       "  <tbody>\n",
       "    <tr>\n",
       "      <th>9</th>\n",
       "      <td>Mknk1</td>\n",
       "      <td>PAK2_Mus musculus</td>\n",
       "      <td>15234964</td>\n",
       "    </tr>\n",
       "    <tr>\n",
       "      <th>14</th>\n",
       "      <td>SOCS3</td>\n",
       "      <td>Lck_Homo sapiens</td>\n",
       "      <td>12783885</td>\n",
       "    </tr>\n",
       "    <tr>\n",
       "      <th>18</th>\n",
       "      <td>TERT</td>\n",
       "      <td>PKB_group_Homo sapiens</td>\n",
       "      <td>10224060</td>\n",
       "    </tr>\n",
       "    <tr>\n",
       "      <th>21</th>\n",
       "      <td>TERT</td>\n",
       "      <td>SRC_Homo sapiens</td>\n",
       "      <td>12808100</td>\n",
       "    </tr>\n",
       "    <tr>\n",
       "      <th>27</th>\n",
       "      <td>IKBKB</td>\n",
       "      <td>IKK_group_Homo sapiens</td>\n",
       "      <td>10195894</td>\n",
       "    </tr>\n",
       "  </tbody>\n",
       "</table>\n",
       "</div>"
      ],
      "text/plain": [
       "   target_symbol         kinase_organism     pmids\n",
       "9          Mknk1       PAK2_Mus musculus  15234964\n",
       "14         SOCS3        Lck_Homo sapiens  12783885\n",
       "18          TERT  PKB_group_Homo sapiens  10224060\n",
       "21          TERT        SRC_Homo sapiens  12808100\n",
       "27         IKBKB  IKK_group_Homo sapiens  10195894"
      ]
     },
     "execution_count": 44,
     "metadata": {},
     "output_type": "execute_result"
    }
   ],
   "source": [
    "df_sig.dropna(inplace = True)\n",
    "\n",
    "df_sig.head()"
   ]
  },
  {
   "cell_type": "code",
   "execution_count": 45,
   "metadata": {
    "collapsed": true
   },
   "outputs": [],
   "source": [
    "#Create list of indexes(kinase names) for kinases with fewer than five substrates\n",
    "sig_key = [index for index, rowData in kin.kinase_targets_num.iteritems() if rowData < 5 ]\n",
    "\n",
    "#Set indices for dataframe 'kin' of kinases with five or more substrates\n",
    "indices = [index for index in kin.index if index not in sig_key]\n",
    "\n",
    "#Create dataframe of all kinases\n",
    "sig = df_sig.set_index('kinase_organism')\n",
    "\n",
    "#Reset index of new dataframe\n",
    "sig.reset_index(inplace = True)\n",
    "\n",
    "#Rename columns of this dataframe to match .sig format\n",
    "colnames = ['Source', 'Substrate', 'PubMed_ID']\n",
    "sig.columns = colnames"
   ]
  },
  {
   "cell_type": "markdown",
   "metadata": {},
   "source": [
    "## Create File of 'sig' for Later Data Aggregation"
   ]
  },
  {
   "cell_type": "code",
   "execution_count": 46,
   "metadata": {
    "collapsed": true
   },
   "outputs": [],
   "source": [
    "#Create dictionary with index numbers as keys\n",
    "d = dict([(key, '') for key in sig.index])\n",
    "\n",
    "# loop through rows with iterrows()\n",
    "for index, rowData in sig.iterrows():\n",
    "    line = ('\\t'.join(rowData))\n",
    "    d[index] = line\n",
    "    \n",
    "#Transfer tab-separated info into a new txt file\n",
    "with open('Uncondensed_PhosphoELM.txt', 'w') as openfile:\n",
    "    for index in d:\n",
    "        openfile.write(str(d[index]) + '\\n')"
   ]
  },
  {
   "cell_type": "code",
   "execution_count": 47,
   "metadata": {},
   "outputs": [
    {
     "data": {
      "text/html": [
       "<div>\n",
       "<style>\n",
       "    .dataframe thead tr:only-child th {\n",
       "        text-align: right;\n",
       "    }\n",
       "\n",
       "    .dataframe thead th {\n",
       "        text-align: left;\n",
       "    }\n",
       "\n",
       "    .dataframe tbody tr th {\n",
       "        vertical-align: top;\n",
       "    }\n",
       "</style>\n",
       "<table border=\"1\" class=\"dataframe\">\n",
       "  <thead>\n",
       "    <tr style=\"text-align: right;\">\n",
       "      <th></th>\n",
       "      <th>Source</th>\n",
       "      <th>NA-1</th>\n",
       "      <th>NA-2</th>\n",
       "      <th>NA-3</th>\n",
       "      <th>NA-4</th>\n",
       "      <th>Substrate</th>\n",
       "      <th>Sign</th>\n",
       "      <th>Interaction</th>\n",
       "      <th>PubMed_ID</th>\n",
       "    </tr>\n",
       "  </thead>\n",
       "  <tbody>\n",
       "    <tr>\n",
       "      <th>0</th>\n",
       "      <td>PAK2_Mus musculus</td>\n",
       "      <td>nan</td>\n",
       "      <td>nan</td>\n",
       "      <td>nan</td>\n",
       "      <td>nan</td>\n",
       "      <td>Mknk1</td>\n",
       "      <td>?</td>\n",
       "      <td>Phosphorylation</td>\n",
       "      <td>15234964</td>\n",
       "    </tr>\n",
       "    <tr>\n",
       "      <th>1</th>\n",
       "      <td>Lck_Homo sapiens</td>\n",
       "      <td>nan</td>\n",
       "      <td>nan</td>\n",
       "      <td>nan</td>\n",
       "      <td>nan</td>\n",
       "      <td>SOCS3</td>\n",
       "      <td>?</td>\n",
       "      <td>Phosphorylation</td>\n",
       "      <td>12783885</td>\n",
       "    </tr>\n",
       "    <tr>\n",
       "      <th>2</th>\n",
       "      <td>PKB_group_Homo sapiens</td>\n",
       "      <td>nan</td>\n",
       "      <td>nan</td>\n",
       "      <td>nan</td>\n",
       "      <td>nan</td>\n",
       "      <td>TERT</td>\n",
       "      <td>?</td>\n",
       "      <td>Phosphorylation</td>\n",
       "      <td>10224060</td>\n",
       "    </tr>\n",
       "    <tr>\n",
       "      <th>3</th>\n",
       "      <td>SRC_Homo sapiens</td>\n",
       "      <td>nan</td>\n",
       "      <td>nan</td>\n",
       "      <td>nan</td>\n",
       "      <td>nan</td>\n",
       "      <td>TERT</td>\n",
       "      <td>?</td>\n",
       "      <td>Phosphorylation</td>\n",
       "      <td>12808100</td>\n",
       "    </tr>\n",
       "    <tr>\n",
       "      <th>4</th>\n",
       "      <td>IKK_group_Homo sapiens</td>\n",
       "      <td>nan</td>\n",
       "      <td>nan</td>\n",
       "      <td>nan</td>\n",
       "      <td>nan</td>\n",
       "      <td>IKBKB</td>\n",
       "      <td>?</td>\n",
       "      <td>Phosphorylation</td>\n",
       "      <td>10195894</td>\n",
       "    </tr>\n",
       "  </tbody>\n",
       "</table>\n",
       "</div>"
      ],
      "text/plain": [
       "                   Source NA-1 NA-2 NA-3 NA-4 Substrate Sign      Interaction  \\\n",
       "0       PAK2_Mus musculus  nan  nan  nan  nan     Mknk1    ?  Phosphorylation   \n",
       "1        Lck_Homo sapiens  nan  nan  nan  nan     SOCS3    ?  Phosphorylation   \n",
       "2  PKB_group_Homo sapiens  nan  nan  nan  nan      TERT    ?  Phosphorylation   \n",
       "3        SRC_Homo sapiens  nan  nan  nan  nan      TERT    ?  Phosphorylation   \n",
       "4  IKK_group_Homo sapiens  nan  nan  nan  nan     IKBKB    ?  Phosphorylation   \n",
       "\n",
       "  PubMed_ID  \n",
       "0  15234964  \n",
       "1  12783885  \n",
       "2  10224060  \n",
       "3  12808100  \n",
       "4  10195894  "
      ]
     },
     "execution_count": 47,
     "metadata": {},
     "output_type": "execute_result"
    }
   ],
   "source": [
    "#Insert first four columns for .sig file format (NaNs)\n",
    "sig.insert(1, 'NA-1', str(np.nan))\n",
    "sig.insert(2, 'NA-2', str(np.nan))\n",
    "sig.insert(3, 'NA-3', str(np.nan))\n",
    "sig.insert(4, 'NA-4', str(np.nan))\n",
    "\n",
    "#Insert column corresponding to sign (with '?' because it is unknown)\n",
    "sig.insert(6, 'Sign', '?')\n",
    "\n",
    "#Insert column specifying interaction type as phosphorylation\n",
    "sig.insert(7, 'Interaction', 'Phosphorylation')\n",
    "\n",
    "#View dataframe\n",
    "sig.head()"
   ]
  },
  {
   "cell_type": "code",
   "execution_count": 48,
   "metadata": {
    "collapsed": true
   },
   "outputs": [],
   "source": [
    "#Remove kinases with fewer than five substrates in 'kin'\n",
    "kin = kin.loc[indices]"
   ]
  },
  {
   "cell_type": "markdown",
   "metadata": {},
   "source": [
    "## Create .Sig File"
   ]
  },
  {
   "cell_type": "code",
   "execution_count": 49,
   "metadata": {
    "collapsed": true
   },
   "outputs": [],
   "source": [
    "#Create dictionary 'sigd' with index numbers as keys\n",
    "sigd = dict([(key, '') for key in sig.index])\n",
    "\n",
    "# loop through rows with iterrows()\n",
    "for index, rowData in sig.iterrows():\n",
    "    line = ('\\t'.join(rowData))\n",
    "    sigd[index] = line\n",
    "    \n",
    "#Transfer tab-separated info into a new txt file\n",
    "#Make sure to include in ReadMe corresponding column names\n",
    "with open('PhosphoELMsig.txt', 'w') as openfile:\n",
    "    for index in sigd:\n",
    "        openfile.write(str(sigd[index]) + '\\n')"
   ]
  },
  {
   "cell_type": "markdown",
   "metadata": {},
   "source": [
    "#  Creation of Final .GMT File"
   ]
  },
  {
   "cell_type": "markdown",
   "metadata": {},
   "source": [
    "## Create Dictionary of Tab-Separated Rows of the Dataframe"
   ]
  },
  {
   "cell_type": "code",
   "execution_count": 50,
   "metadata": {
    "collapsed": true
   },
   "outputs": [],
   "source": [
    "#Reset index of the dataframe\n",
    "kin.reset_index(inplace = True)\n",
    "\n",
    "#create column 'target_symbol_merged' in which all 'target_symbol' elements are joined by a \\t symbol\n",
    "kin['target_symbol_merged'] = ['\\t'.join(x) for x in kin['target_symbol']]\n",
    "\n",
    "#drop the now-unneccesary column 'target_symbol' and 'kinase_targets_num'\n",
    "kin.drop('target_symbol', axis=1, inplace = True)\n",
    "kin.drop('kinase_targets_num', axis=1, inplace = True)\n",
    "\n",
    "#Create dictionary 'PhosphoELM' with index numbers as keys\n",
    "PhosphoELM_num = dict([(key, '') for key in kin.index])\n",
    "\n",
    "# loop through rows with iterrows()\n",
    "for index, rowData in kin.iterrows():\n",
    "    line = ('\\t'.join(rowData))\n",
    "    PhosphoELM_num[index] = line"
   ]
  },
  {
   "cell_type": "markdown",
   "metadata": {},
   "source": [
    "## Write Info from Dictionary into a .GMT file"
   ]
  },
  {
   "cell_type": "code",
   "execution_count": 51,
   "metadata": {
    "collapsed": true
   },
   "outputs": [],
   "source": [
    "#Transfer tab-separated info into a new txt file\n",
    "with open('PhosphoELM.gmt', 'w') as openfile:\n",
    "    for index in PhosphoELM_num:\n",
    "        openfile.write(str(PhosphoELM_num[index]) + '\\n')"
   ]
  }
 ],
 "metadata": {
  "kernelspec": {
   "display_name": "Python 3",
   "language": "python",
   "name": "python3"
  },
  "language_info": {
   "codemirror_mode": {
    "name": "ipython",
    "version": 3
   },
   "file_extension": ".py",
   "mimetype": "text/x-python",
   "name": "python",
   "nbconvert_exporter": "python",
   "pygments_lexer": "ipython3",
   "version": "3.6.1"
  }
 },
 "nbformat": 4,
 "nbformat_minor": 2
}
