{
 "cells": [
  {
   "cell_type": "markdown",
   "metadata": {},
   "source": [
    "## Swiss-Prot (Putative) Data Formatting\n",
    "This file takes data regarding kinase-protein interactions from the Swiss-Prot database (accessed through the Kinase-Phos database) and converts the data regarding experimental interactions into the .gmt format. The data was retrieved from the Kinase-Phos database on Mon, Jun 19 2017 at 11:13:24. This data will be added to enhance the KEA2 database and will be suitable formatted for use by ENRICHR and X2K. the citation for the data used in this script is \"Huang, H.-D., Lee, T.-Y., Tzeng, S.-W., & Horng, J.-T. (2005). KinasePhos: a web tool for identifying protein kinase-specific phosphorylation sites. Nucleic Acids Research, 33(Web Server issue), W226–W229.\" and can also be found on the corresponding gh.pages website."
   ]
  },
  {
   "cell_type": "markdown",
   "metadata": {},
   "source": [
    "## Import packages necessary for following program"
   ]
  },
  {
   "cell_type": "code",
   "execution_count": 1,
   "metadata": {
    "collapsed": true
   },
   "outputs": [],
   "source": [
    "%run /home/maayanlab/Desktop/Projects/KEA3/Scripts/init.ipy"
   ]
  },
  {
   "cell_type": "markdown",
   "metadata": {},
   "source": [
    "## Create a dataframe form a file containing Swiss-Prot Putative data"
   ]
  },
  {
   "cell_type": "code",
   "execution_count": 2,
   "metadata": {},
   "outputs": [
    {
     "name": "stderr",
     "output_type": "stream",
     "text": [
      "/home/maayanlab/anaconda3/lib/python3.6/site-packages/ipykernel_launcher.py:10: SettingWithCopyWarning: \n",
      "A value is trying to be set on a copy of a slice from a DataFrame\n",
      "\n",
      "See the caveats in the documentation: http://pandas.pydata.org/pandas-docs/stable/indexing.html#indexing-view-versus-copy\n",
      "  # Remove the CWD from sys.path while we load stuff.\n"
     ]
    },
    {
     "data": {
      "text/html": [
       "<div>\n",
       "<style>\n",
       "    .dataframe thead tr:only-child th {\n",
       "        text-align: right;\n",
       "    }\n",
       "\n",
       "    .dataframe thead th {\n",
       "        text-align: left;\n",
       "    }\n",
       "\n",
       "    .dataframe tbody tr th {\n",
       "        vertical-align: top;\n",
       "    }\n",
       "</style>\n",
       "<table border=\"1\" class=\"dataframe\">\n",
       "  <thead>\n",
       "    <tr style=\"text-align: right;\">\n",
       "      <th></th>\n",
       "      <th>Substrate</th>\n",
       "      <th>kinase_type</th>\n",
       "    </tr>\n",
       "  </thead>\n",
       "  <tbody>\n",
       "    <tr>\n",
       "      <th>0</th>\n",
       "      <td>1433B_BOVIN</td>\n",
       "      <td>Phosphoserine (By similarity)</td>\n",
       "    </tr>\n",
       "    <tr>\n",
       "      <th>1</th>\n",
       "      <td>1433B_HUMAN</td>\n",
       "      <td>Phosphoserine (By similarity)</td>\n",
       "    </tr>\n",
       "    <tr>\n",
       "      <th>2</th>\n",
       "      <td>1433B_MOUSE</td>\n",
       "      <td>Phosphoserine (By similarity)</td>\n",
       "    </tr>\n",
       "    <tr>\n",
       "      <th>3</th>\n",
       "      <td>1433B_RAT</td>\n",
       "      <td>Phosphoserine (By similarity)</td>\n",
       "    </tr>\n",
       "    <tr>\n",
       "      <th>4</th>\n",
       "      <td>1433Z_BOVIN</td>\n",
       "      <td>Phosphoserine (By similarity)</td>\n",
       "    </tr>\n",
       "  </tbody>\n",
       "</table>\n",
       "</div>"
      ],
      "text/plain": [
       "     Substrate                    kinase_type\n",
       "0  1433B_BOVIN  Phosphoserine (By similarity)\n",
       "1  1433B_HUMAN  Phosphoserine (By similarity)\n",
       "2  1433B_MOUSE  Phosphoserine (By similarity)\n",
       "3    1433B_RAT  Phosphoserine (By similarity)\n",
       "4  1433Z_BOVIN  Phosphoserine (By similarity)"
      ]
     },
     "execution_count": 2,
     "metadata": {},
     "output_type": "execute_result"
    }
   ],
   "source": [
    "#Read in dataframe (including empty columns pd.read_table() sees)\n",
    "s = pd.read_table('~/Desktop/Projects/KEA3/Swiss_phos_putative(1).tab',\n",
    "                      names = ['Substrate', 'Pos', 'kinase_type', 'sequence',\n",
    "                               ''])\n",
    "\n",
    "#Filter out empty columns and remove unnecessary\n",
    "#'sequence' and 'Pos' column\n",
    "swiss = s[['Substrate', 'kinase_type']]\n",
    "\n",
    "swiss.drop_duplicates(inplace = True)\n",
    "\n",
    "#View dataframe\n",
    "swiss.head()"
   ]
  },
  {
   "cell_type": "markdown",
   "metadata": {},
   "source": [
    "## Filter by organism (Human and Mouse)"
   ]
  },
  {
   "cell_type": "code",
   "execution_count": 3,
   "metadata": {},
   "outputs": [
    {
     "name": "stderr",
     "output_type": "stream",
     "text": [
      "/home/maayanlab/anaconda3/lib/python3.6/site-packages/IPython/core/interactiveshell.py:2881: SettingWithCopyWarning: \n",
      "A value is trying to be set on a copy of a slice from a DataFrame\n",
      "\n",
      "See the caveats in the documentation: http://pandas.pydata.org/pandas-docs/stable/indexing.html#indexing-view-versus-copy\n",
      "  exec(code_obj, self.user_global_ns, self.user_ns)\n"
     ]
    }
   ],
   "source": [
    "#Create new column 'Organism'\n",
    "swiss.insert(0, \"Organism\", \"None\")\n",
    "\n",
    "#Separate species and substrate names from each other\n",
    "#Store substrate name alone and organism alone in separate  column\n",
    "for index, string in swiss.Substrate.iteritems():\n",
    "    swiss.Organism[index] = string.split(\"_\", 2)[1]\n",
    "    swiss.Substrate[index] = string.split(\"_\", 2)[0]"
   ]
  },
  {
   "cell_type": "code",
   "execution_count": 4,
   "metadata": {},
   "outputs": [
    {
     "name": "stderr",
     "output_type": "stream",
     "text": [
      "/home/maayanlab/anaconda3/lib/python3.6/site-packages/ipykernel_launcher.py:2: SettingWithCopyWarning: \n",
      "A value is trying to be set on a copy of a slice from a DataFrame\n",
      "\n",
      "See the caveats in the documentation: http://pandas.pydata.org/pandas-docs/stable/indexing.html#indexing-view-versus-copy\n",
      "  \n",
      "/home/maayanlab/anaconda3/lib/python3.6/site-packages/ipykernel_launcher.py:3: SettingWithCopyWarning: \n",
      "A value is trying to be set on a copy of a slice from a DataFrame\n",
      "\n",
      "See the caveats in the documentation: http://pandas.pydata.org/pandas-docs/stable/indexing.html#indexing-view-versus-copy\n",
      "  This is separate from the ipykernel package so we can avoid doing imports until\n"
     ]
    }
   ],
   "source": [
    "#Replace common names for human and mouse with scientific names\n",
    "swiss.replace('HUMAN', 'Homo sapiens', inplace = True)\n",
    "swiss.replace('MOUSE', 'Mus musculus', inplace = True)"
   ]
  },
  {
   "cell_type": "code",
   "execution_count": 5,
   "metadata": {},
   "outputs": [
    {
     "data": {
      "text/html": [
       "<div>\n",
       "<style>\n",
       "    .dataframe thead tr:only-child th {\n",
       "        text-align: right;\n",
       "    }\n",
       "\n",
       "    .dataframe thead th {\n",
       "        text-align: left;\n",
       "    }\n",
       "\n",
       "    .dataframe tbody tr th {\n",
       "        vertical-align: top;\n",
       "    }\n",
       "</style>\n",
       "<table border=\"1\" class=\"dataframe\">\n",
       "  <thead>\n",
       "    <tr style=\"text-align: right;\">\n",
       "      <th></th>\n",
       "      <th>Organism</th>\n",
       "      <th>Substrate</th>\n",
       "      <th>kinase_type</th>\n",
       "    </tr>\n",
       "  </thead>\n",
       "  <tbody>\n",
       "    <tr>\n",
       "      <th>0</th>\n",
       "      <td>BOVIN</td>\n",
       "      <td>1433B</td>\n",
       "      <td>Phosphoserine (By similarity)</td>\n",
       "    </tr>\n",
       "    <tr>\n",
       "      <th>1</th>\n",
       "      <td>Homo sapiens</td>\n",
       "      <td>1433B</td>\n",
       "      <td>Phosphoserine (By similarity)</td>\n",
       "    </tr>\n",
       "    <tr>\n",
       "      <th>2</th>\n",
       "      <td>Mus musculus</td>\n",
       "      <td>1433B</td>\n",
       "      <td>Phosphoserine (By similarity)</td>\n",
       "    </tr>\n",
       "    <tr>\n",
       "      <th>3</th>\n",
       "      <td>RAT</td>\n",
       "      <td>1433B</td>\n",
       "      <td>Phosphoserine (By similarity)</td>\n",
       "    </tr>\n",
       "    <tr>\n",
       "      <th>4</th>\n",
       "      <td>BOVIN</td>\n",
       "      <td>1433Z</td>\n",
       "      <td>Phosphoserine (By similarity)</td>\n",
       "    </tr>\n",
       "  </tbody>\n",
       "</table>\n",
       "</div>"
      ],
      "text/plain": [
       "       Organism Substrate                    kinase_type\n",
       "0         BOVIN     1433B  Phosphoserine (By similarity)\n",
       "1  Homo sapiens     1433B  Phosphoserine (By similarity)\n",
       "2  Mus musculus     1433B  Phosphoserine (By similarity)\n",
       "3           RAT     1433B  Phosphoserine (By similarity)\n",
       "4         BOVIN     1433Z  Phosphoserine (By similarity)"
      ]
     },
     "execution_count": 5,
     "metadata": {},
     "output_type": "execute_result"
    }
   ],
   "source": [
    "#View dataframe\n",
    "swiss.head()"
   ]
  },
  {
   "cell_type": "code",
   "execution_count": 6,
   "metadata": {},
   "outputs": [
    {
     "data": {
      "text/html": [
       "<div>\n",
       "<style>\n",
       "    .dataframe thead tr:only-child th {\n",
       "        text-align: right;\n",
       "    }\n",
       "\n",
       "    .dataframe thead th {\n",
       "        text-align: left;\n",
       "    }\n",
       "\n",
       "    .dataframe tbody tr th {\n",
       "        vertical-align: top;\n",
       "    }\n",
       "</style>\n",
       "<table border=\"1\" class=\"dataframe\">\n",
       "  <thead>\n",
       "    <tr style=\"text-align: right;\">\n",
       "      <th></th>\n",
       "      <th>Organism</th>\n",
       "      <th>Substrate</th>\n",
       "      <th>kinase_type</th>\n",
       "    </tr>\n",
       "  </thead>\n",
       "  <tbody>\n",
       "    <tr>\n",
       "      <th>1</th>\n",
       "      <td>Homo sapiens</td>\n",
       "      <td>1433B</td>\n",
       "      <td>Phosphoserine (By similarity)</td>\n",
       "    </tr>\n",
       "    <tr>\n",
       "      <th>2</th>\n",
       "      <td>Mus musculus</td>\n",
       "      <td>1433B</td>\n",
       "      <td>Phosphoserine (By similarity)</td>\n",
       "    </tr>\n",
       "    <tr>\n",
       "      <th>5</th>\n",
       "      <td>Homo sapiens</td>\n",
       "      <td>1433Z</td>\n",
       "      <td>Phosphoserine (By similarity)</td>\n",
       "    </tr>\n",
       "    <tr>\n",
       "      <th>6</th>\n",
       "      <td>Mus musculus</td>\n",
       "      <td>1433Z</td>\n",
       "      <td>Phosphoserine (By similarity)</td>\n",
       "    </tr>\n",
       "    <tr>\n",
       "      <th>9</th>\n",
       "      <td>Homo sapiens</td>\n",
       "      <td>3BP5</td>\n",
       "      <td>Phosphoserine (by MAPK12 and MAPK9) (Bysimilar...</td>\n",
       "    </tr>\n",
       "  </tbody>\n",
       "</table>\n",
       "</div>"
      ],
      "text/plain": [
       "       Organism Substrate                                        kinase_type\n",
       "1  Homo sapiens     1433B                      Phosphoserine (By similarity)\n",
       "2  Mus musculus     1433B                      Phosphoserine (By similarity)\n",
       "5  Homo sapiens     1433Z                      Phosphoserine (By similarity)\n",
       "6  Mus musculus     1433Z                      Phosphoserine (By similarity)\n",
       "9  Homo sapiens      3BP5  Phosphoserine (by MAPK12 and MAPK9) (Bysimilar..."
      ]
     },
     "execution_count": 6,
     "metadata": {},
     "output_type": "execute_result"
    }
   ],
   "source": [
    "#Filter indices only for substrates/kinases pertaining to human and mouse data\n",
    "indices = [index for index, rowData in swiss.iterrows() \n",
    "           if rowData['Organism'] in ['Homo sapiens', \n",
    "                                      'Mus musculus']]\n",
    "#Create new dataframe using these indices\n",
    "swiss_filter = swiss.loc[indices]\n",
    "\n",
    "#View dataframe\n",
    "swiss_filter.head()"
   ]
  },
  {
   "cell_type": "markdown",
   "metadata": {},
   "source": [
    "## Filter 'Kinase_type' to Retrieve Kinases"
   ]
  },
  {
   "cell_type": "code",
   "execution_count": 7,
   "metadata": {
    "collapsed": true
   },
   "outputs": [],
   "source": [
    "#Insert new column, which will represent the 'kinase' for each substrate\n",
    "swiss_filter.insert(0, 'kinase', 'None')"
   ]
  },
  {
   "cell_type": "code",
   "execution_count": 8,
   "metadata": {},
   "outputs": [
    {
     "data": {
      "text/html": [
       "<div>\n",
       "<style>\n",
       "    .dataframe thead tr:only-child th {\n",
       "        text-align: right;\n",
       "    }\n",
       "\n",
       "    .dataframe thead th {\n",
       "        text-align: left;\n",
       "    }\n",
       "\n",
       "    .dataframe tbody tr th {\n",
       "        vertical-align: top;\n",
       "    }\n",
       "</style>\n",
       "<table border=\"1\" class=\"dataframe\">\n",
       "  <thead>\n",
       "    <tr style=\"text-align: right;\">\n",
       "      <th></th>\n",
       "      <th>kinase</th>\n",
       "      <th>Organism</th>\n",
       "      <th>Substrate</th>\n",
       "    </tr>\n",
       "  </thead>\n",
       "  <tbody>\n",
       "    <tr>\n",
       "      <th>10</th>\n",
       "      <td>MAPK12</td>\n",
       "      <td>Homo sapiens</td>\n",
       "      <td>3BP5</td>\n",
       "    </tr>\n",
       "    <tr>\n",
       "      <th>12</th>\n",
       "      <td>MAPK12</td>\n",
       "      <td>Mus musculus</td>\n",
       "      <td>3BP5</td>\n",
       "    </tr>\n",
       "    <tr>\n",
       "      <th>42</th>\n",
       "      <td>CK2</td>\n",
       "      <td>Mus musculus</td>\n",
       "      <td>A4</td>\n",
       "    </tr>\n",
       "    <tr>\n",
       "      <th>43</th>\n",
       "      <td>CK1</td>\n",
       "      <td>Mus musculus</td>\n",
       "      <td>A4</td>\n",
       "    </tr>\n",
       "    <tr>\n",
       "      <th>68</th>\n",
       "      <td>autocatalysis</td>\n",
       "      <td>Homo sapiens</td>\n",
       "      <td>AAKB1</td>\n",
       "    </tr>\n",
       "  </tbody>\n",
       "</table>\n",
       "</div>"
      ],
      "text/plain": [
       "           kinase      Organism Substrate\n",
       "10         MAPK12  Homo sapiens      3BP5\n",
       "12         MAPK12  Mus musculus      3BP5\n",
       "42            CK2  Mus musculus        A4\n",
       "43            CK1  Mus musculus        A4\n",
       "68  autocatalysis  Homo sapiens     AAKB1"
      ]
     },
     "execution_count": 8,
     "metadata": {},
     "output_type": "execute_result"
    }
   ],
   "source": [
    "#Split string of 'kinase_type' to retrieve only individual kinase gene symbol\n",
    "for index, string in swiss_filter.kinase_type.iteritems():\n",
    "    s = string\n",
    "    if \"(\" in s:\n",
    "        s = string.split(\"(\", 2)[1]\n",
    "    if \" \" in s:\n",
    "        s = s.split(\" \", 2)[1]\n",
    "    if ')' in s:\n",
    "        s = s.split(\")\", 1)\n",
    "        swiss_filter.kinase[index] = s[0]\n",
    "\n",
    "\n",
    "#For rows without a specific kinase gene symbol, replace with NaN\n",
    "swiss_filter.replace(['Potential', 'similarity', 'None', 'partial',\n",
    "                      'Phosphotyrosine', 'Phosphoserine', 'Phosphothreonine'],\n",
    "                     np.nan, inplace = True)\n",
    "\n",
    "#Drop all NaNs from the dataframe\n",
    "swiss_filter.dropna(inplace = True)\n",
    "\n",
    "#Drop 'kinase_type' column since it is no lnger needed\n",
    "swiss_filter.drop('kinase_type', axis = 1, inplace = True)\n",
    "\n",
    "#View dataframe\n",
    "swiss_filter.head()"
   ]
  },
  {
   "cell_type": "markdown",
   "metadata": {},
   "source": [
    "## Combine 'Kinase' and 'Organism' Column and Create New Dataframe"
   ]
  },
  {
   "cell_type": "code",
   "execution_count": 9,
   "metadata": {},
   "outputs": [
    {
     "data": {
      "text/html": [
       "<div>\n",
       "<style>\n",
       "    .dataframe thead tr:only-child th {\n",
       "        text-align: right;\n",
       "    }\n",
       "\n",
       "    .dataframe thead th {\n",
       "        text-align: left;\n",
       "    }\n",
       "\n",
       "    .dataframe tbody tr th {\n",
       "        vertical-align: top;\n",
       "    }\n",
       "</style>\n",
       "<table border=\"1\" class=\"dataframe\">\n",
       "  <thead>\n",
       "    <tr style=\"text-align: right;\">\n",
       "      <th></th>\n",
       "      <th>Substrate</th>\n",
       "      <th>Kinase_organism</th>\n",
       "    </tr>\n",
       "  </thead>\n",
       "  <tbody>\n",
       "    <tr>\n",
       "      <th>10</th>\n",
       "      <td>3BP5</td>\n",
       "      <td>MAPK12_Homo sapiens</td>\n",
       "    </tr>\n",
       "    <tr>\n",
       "      <th>12</th>\n",
       "      <td>3BP5</td>\n",
       "      <td>MAPK12_Mus musculus</td>\n",
       "    </tr>\n",
       "    <tr>\n",
       "      <th>42</th>\n",
       "      <td>A4</td>\n",
       "      <td>CK2_Mus musculus</td>\n",
       "    </tr>\n",
       "    <tr>\n",
       "      <th>43</th>\n",
       "      <td>A4</td>\n",
       "      <td>CK1_Mus musculus</td>\n",
       "    </tr>\n",
       "    <tr>\n",
       "      <th>68</th>\n",
       "      <td>AAKB1</td>\n",
       "      <td>autocatalysis_Homo sapiens</td>\n",
       "    </tr>\n",
       "  </tbody>\n",
       "</table>\n",
       "</div>"
      ],
      "text/plain": [
       "   Substrate             Kinase_organism\n",
       "10      3BP5         MAPK12_Homo sapiens\n",
       "12      3BP5         MAPK12_Mus musculus\n",
       "42        A4            CK2_Mus musculus\n",
       "43        A4            CK1_Mus musculus\n",
       "68     AAKB1  autocatalysis_Homo sapiens"
      ]
     },
     "execution_count": 9,
     "metadata": {},
     "output_type": "execute_result"
    }
   ],
   "source": [
    "#Create new column 'kinase_organism' joining together 'kinase' and 'Organism' columns\n",
    "swiss_filter['Kinase_organism'] = ['_'.join([rowData['kinase'], rowData['Organism']]) \n",
    "                                            for index, rowData in \n",
    "                                            swiss_filter.iterrows()]\n",
    "\n",
    "#Create new dataframe 'df_sig' and drop columns no longer needed\n",
    "df_sig = swiss_filter.drop('kinase', axis = 1)\n",
    "df_sig.drop('Organism', axis = 1, inplace = True)\n",
    "\n",
    "#Drop any duplicates in the dataframe\n",
    "df_sig.drop_duplicates(inplace = True)\n",
    "df = df_sig.drop_duplicates()\n",
    "\n",
    "#View dataframe\n",
    "df.head()"
   ]
  },
  {
   "cell_type": "markdown",
   "metadata": {},
   "source": [
    "## Create File of 'df' for Later Data Aggregation"
   ]
  },
  {
   "cell_type": "code",
   "execution_count": 10,
   "metadata": {
    "collapsed": true
   },
   "outputs": [],
   "source": [
    "#Create dictionary with index numbers as keys\n",
    "d = dict([(key, '') for key in df.index])\n",
    "\n",
    "# loop through rows with iterrows()\n",
    "for index, rowData in df.iterrows():\n",
    "    line = ('\\t'.join(rowData))\n",
    "    d[index] = line\n",
    "    \n",
    "#Transfer tab-separated info into a new txt file\n",
    "with open('Uncondensed_SwissProt_Put.txt', 'w') as openfile:\n",
    "    for index in d:\n",
    "        openfile.write(str(d[index]) + '\\n')"
   ]
  },
  {
   "cell_type": "markdown",
   "metadata": {},
   "source": [
    "## Set Index to 'Kinase_Organism' and Aggregate Kinase Targets"
   ]
  },
  {
   "cell_type": "code",
   "execution_count": 11,
   "metadata": {},
   "outputs": [
    {
     "data": {
      "text/html": [
       "<div>\n",
       "<style>\n",
       "    .dataframe thead tr:only-child th {\n",
       "        text-align: right;\n",
       "    }\n",
       "\n",
       "    .dataframe thead th {\n",
       "        text-align: left;\n",
       "    }\n",
       "\n",
       "    .dataframe tbody tr th {\n",
       "        vertical-align: top;\n",
       "    }\n",
       "</style>\n",
       "<table border=\"1\" class=\"dataframe\">\n",
       "  <thead>\n",
       "    <tr style=\"text-align: right;\">\n",
       "      <th></th>\n",
       "      <th>Description</th>\n",
       "      <th>Substrate</th>\n",
       "    </tr>\n",
       "    <tr>\n",
       "      <th>Kinase_organism</th>\n",
       "      <th></th>\n",
       "      <th></th>\n",
       "    </tr>\n",
       "  </thead>\n",
       "  <tbody>\n",
       "    <tr>\n",
       "      <th>ABL1_Homo sapiens</th>\n",
       "      <td>Swiss-Prot Put.</td>\n",
       "      <td>(CDK5,)</td>\n",
       "    </tr>\n",
       "    <tr>\n",
       "      <th>ABL2_Mus musculus</th>\n",
       "      <td>Swiss-Prot Put.</td>\n",
       "      <td>(SIVA,)</td>\n",
       "    </tr>\n",
       "    <tr>\n",
       "      <th>ABL_Homo sapiens</th>\n",
       "      <td>Swiss-Prot Put.</td>\n",
       "      <td>(DCX, PLS4)</td>\n",
       "    </tr>\n",
       "    <tr>\n",
       "      <th>ABL_Mus musculus</th>\n",
       "      <td>Swiss-Prot Put.</td>\n",
       "      <td>(DCX, PLS1)</td>\n",
       "    </tr>\n",
       "    <tr>\n",
       "      <th>AMPK_Homo sapiens</th>\n",
       "      <td>Swiss-Prot Put.</td>\n",
       "      <td>(LIPS,)</td>\n",
       "    </tr>\n",
       "  </tbody>\n",
       "</table>\n",
       "</div>"
      ],
      "text/plain": [
       "                       Description    Substrate\n",
       "Kinase_organism                                \n",
       "ABL1_Homo sapiens  Swiss-Prot Put.      (CDK5,)\n",
       "ABL2_Mus musculus  Swiss-Prot Put.      (SIVA,)\n",
       "ABL_Homo sapiens   Swiss-Prot Put.  (DCX, PLS4)\n",
       "ABL_Mus musculus   Swiss-Prot Put.  (DCX, PLS1)\n",
       "AMPK_Homo sapiens  Swiss-Prot Put.      (LIPS,)"
      ]
     },
     "execution_count": 11,
     "metadata": {},
     "output_type": "execute_result"
    }
   ],
   "source": [
    "#Set index to 'Kinase_organism'\n",
    "df.set_index('Kinase_organism')\n",
    "\n",
    "#Group kinases in dataframe 'kin'\n",
    "#Aggregate data in 'kin' according to kinase groups\n",
    "kin = df.groupby('Kinase_organism').agg(lambda x: tuple(x))\n",
    "\n",
    "#Create a new column 'Swiss-Prot Exp.' as description of data\n",
    "kin.insert(0, 'Description', 'Swiss-Prot Put.')\n",
    "\n",
    "#Visualize Data\n",
    "kin.head()"
   ]
  },
  {
   "cell_type": "markdown",
   "metadata": {},
   "source": [
    "# Exploratory Data Analysis"
   ]
  },
  {
   "cell_type": "markdown",
   "metadata": {},
   "source": [
    "## Calculate Number of Protein targets for each kinase\n",
    "Create a new column with the number of substrates related to each kinase, and sort the dataframe by this column"
   ]
  },
  {
   "cell_type": "code",
   "execution_count": 12,
   "metadata": {
    "scrolled": true
   },
   "outputs": [
    {
     "data": {
      "text/html": [
       "<div>\n",
       "<style>\n",
       "    .dataframe thead tr:only-child th {\n",
       "        text-align: right;\n",
       "    }\n",
       "\n",
       "    .dataframe thead th {\n",
       "        text-align: left;\n",
       "    }\n",
       "\n",
       "    .dataframe tbody tr th {\n",
       "        vertical-align: top;\n",
       "    }\n",
       "</style>\n",
       "<table border=\"1\" class=\"dataframe\">\n",
       "  <thead>\n",
       "    <tr style=\"text-align: right;\">\n",
       "      <th></th>\n",
       "      <th>Description</th>\n",
       "      <th>Substrate</th>\n",
       "      <th>kinase_substrate_num</th>\n",
       "    </tr>\n",
       "    <tr>\n",
       "      <th>Kinase_organism</th>\n",
       "      <th></th>\n",
       "      <th></th>\n",
       "      <th></th>\n",
       "    </tr>\n",
       "  </thead>\n",
       "  <tbody>\n",
       "    <tr>\n",
       "      <th>autocatalysis_Mus musculus</th>\n",
       "      <td>Swiss-Prot Put.</td>\n",
       "      <td>(AAKB1, ABL1, ALK, BCKD, BLK, BMX, BTK, CSK, D...</td>\n",
       "      <td>101</td>\n",
       "    </tr>\n",
       "    <tr>\n",
       "      <th>autocatalysis_Homo sapiens</th>\n",
       "      <td>Swiss-Prot Put.</td>\n",
       "      <td>(AAKB1, AAPK1, AAPK2, ABL1, ALK, BCKD, BLK, BM...</td>\n",
       "      <td>100</td>\n",
       "    </tr>\n",
       "    <tr>\n",
       "      <th>PKA_Homo sapiens</th>\n",
       "      <td>Swiss-Prot Put.</td>\n",
       "      <td>(ACLY, ADA1A, ADRB1, ADRB2, AP2B, AP2C, AT12A,...</td>\n",
       "      <td>58</td>\n",
       "    </tr>\n",
       "    <tr>\n",
       "      <th>PKA_Mus musculus</th>\n",
       "      <td>Swiss-Prot Put.</td>\n",
       "      <td>(ABCA1, ACLY, ADA1A, ADDA, ADDB, ADRB1, ADRB2,...</td>\n",
       "      <td>55</td>\n",
       "    </tr>\n",
       "    <tr>\n",
       "      <th>PKC_Homo sapiens</th>\n",
       "      <td>Swiss-Prot Put.</td>\n",
       "      <td>(ADDG, AT1A1, AT2B2, AT2B3, AT2B4, BCL2, CSTF2...</td>\n",
       "      <td>29</td>\n",
       "    </tr>\n",
       "  </tbody>\n",
       "</table>\n",
       "</div>"
      ],
      "text/plain": [
       "                                Description  \\\n",
       "Kinase_organism                               \n",
       "autocatalysis_Mus musculus  Swiss-Prot Put.   \n",
       "autocatalysis_Homo sapiens  Swiss-Prot Put.   \n",
       "PKA_Homo sapiens            Swiss-Prot Put.   \n",
       "PKA_Mus musculus            Swiss-Prot Put.   \n",
       "PKC_Homo sapiens            Swiss-Prot Put.   \n",
       "\n",
       "                                                                    Substrate  \\\n",
       "Kinase_organism                                                                 \n",
       "autocatalysis_Mus musculus  (AAKB1, ABL1, ALK, BCKD, BLK, BMX, BTK, CSK, D...   \n",
       "autocatalysis_Homo sapiens  (AAKB1, AAPK1, AAPK2, ABL1, ALK, BCKD, BLK, BM...   \n",
       "PKA_Homo sapiens            (ACLY, ADA1A, ADRB1, ADRB2, AP2B, AP2C, AT12A,...   \n",
       "PKA_Mus musculus            (ABCA1, ACLY, ADA1A, ADDA, ADDB, ADRB1, ADRB2,...   \n",
       "PKC_Homo sapiens            (ADDG, AT1A1, AT2B2, AT2B3, AT2B4, BCL2, CSTF2...   \n",
       "\n",
       "                            kinase_substrate_num  \n",
       "Kinase_organism                                   \n",
       "autocatalysis_Mus musculus                   101  \n",
       "autocatalysis_Homo sapiens                   100  \n",
       "PKA_Homo sapiens                              58  \n",
       "PKA_Mus musculus                              55  \n",
       "PKC_Homo sapiens                              29  "
      ]
     },
     "execution_count": 12,
     "metadata": {},
     "output_type": "execute_result"
    }
   ],
   "source": [
    "# Create column representing counts of protein targets per kinase\n",
    "kin['kinase_substrate_num'] = [len(lst) for kinase, lst in kin['Substrate'].iteritems()]\n",
    "\n",
    "# Sort kinases from max to min according to number of protein targets each has\n",
    "kin.sort_values(by = ['kinase_substrate_num'], ascending= False, inplace=True)\n",
    "\n",
    "# View dataframe\n",
    "kin.head()"
   ]
  },
  {
   "cell_type": "markdown",
   "metadata": {},
   "source": [
    "## Create Histogram to Display Distribution of Number of Protein Targets"
   ]
  },
  {
   "cell_type": "code",
   "execution_count": 13,
   "metadata": {},
   "outputs": [
    {
     "data": {
      "image/png": "[encoded data removed]",
      "text/plain": [
       "<matplotlib.figure.Figure at 0x7f776c0de630>"
      ]
     },
     "metadata": {},
     "output_type": "display_data"
    }
   ],
   "source": [
    "# Create histogram displaying the distribution of the number\n",
    "#targets per kinase\n",
    "kin.plot.hist(by = 'kinase_substrate_num', bins = 63)\n",
    "\n",
    "#Show histogram\n",
    "plt.show()"
   ]
  },
  {
   "cell_type": "markdown",
   "metadata": {},
   "source": [
    "## Filter Dataframe by the Number of Substrates for each Kinase\n",
    "If thekinase has fewer than five targets, this kinase will not be included in the final .gmt file. Instead, its information will be carried over into a .sig file."
   ]
  },
  {
   "cell_type": "code",
   "execution_count": 14,
   "metadata": {},
   "outputs": [
    {
     "data": {
      "text/html": [
       "<div>\n",
       "<style>\n",
       "    .dataframe thead tr:only-child th {\n",
       "        text-align: right;\n",
       "    }\n",
       "\n",
       "    .dataframe thead th {\n",
       "        text-align: left;\n",
       "    }\n",
       "\n",
       "    .dataframe tbody tr th {\n",
       "        vertical-align: top;\n",
       "    }\n",
       "</style>\n",
       "<table border=\"1\" class=\"dataframe\">\n",
       "  <thead>\n",
       "    <tr style=\"text-align: right;\">\n",
       "      <th></th>\n",
       "      <th>Substrate</th>\n",
       "      <th>Kinase_organism</th>\n",
       "    </tr>\n",
       "  </thead>\n",
       "  <tbody>\n",
       "    <tr>\n",
       "      <th>10</th>\n",
       "      <td>3BP5</td>\n",
       "      <td>MAPK12_Homo sapiens</td>\n",
       "    </tr>\n",
       "    <tr>\n",
       "      <th>12</th>\n",
       "      <td>3BP5</td>\n",
       "      <td>MAPK12_Mus musculus</td>\n",
       "    </tr>\n",
       "    <tr>\n",
       "      <th>42</th>\n",
       "      <td>A4</td>\n",
       "      <td>CK2_Mus musculus</td>\n",
       "    </tr>\n",
       "    <tr>\n",
       "      <th>43</th>\n",
       "      <td>A4</td>\n",
       "      <td>CK1_Mus musculus</td>\n",
       "    </tr>\n",
       "    <tr>\n",
       "      <th>68</th>\n",
       "      <td>AAKB1</td>\n",
       "      <td>autocatalysis_Homo sapiens</td>\n",
       "    </tr>\n",
       "  </tbody>\n",
       "</table>\n",
       "</div>"
      ],
      "text/plain": [
       "   Substrate             Kinase_organism\n",
       "10      3BP5         MAPK12_Homo sapiens\n",
       "12      3BP5         MAPK12_Mus musculus\n",
       "42        A4            CK2_Mus musculus\n",
       "43        A4            CK1_Mus musculus\n",
       "68     AAKB1  autocatalysis_Homo sapiens"
      ]
     },
     "execution_count": 14,
     "metadata": {},
     "output_type": "execute_result"
    }
   ],
   "source": [
    "df_sig.head()"
   ]
  },
  {
   "cell_type": "code",
   "execution_count": 15,
   "metadata": {
    "collapsed": true
   },
   "outputs": [],
   "source": [
    "#Create list of indexes(kinase names) for kinases with fewer than five substrates\n",
    "sig_key = [index for index, rowData in kin.kinase_substrate_num.iteritems() if rowData < 5 ]\n",
    "\n",
    "#Set indices for dataframe 'kin' of kinases with five or more substrates\n",
    "indices = [index for index in kin.index if index not in sig_key]\n",
    "\n",
    "#Create dataframe of only kinases with five or more substrates\n",
    "sig = df_sig.set_index('Kinase_organism').loc[indices]\n",
    "\n",
    "#Reset index of new dataframe\n",
    "sig.reset_index(inplace = True)\n",
    "\n",
    "#Rename columns of this dataframe to match .sig format\n",
    "colnames = ['Source', 'Substrate']\n",
    "sig.columns = colnames"
   ]
  },
  {
   "cell_type": "code",
   "execution_count": 16,
   "metadata": {},
   "outputs": [
    {
     "data": {
      "text/html": [
       "<div>\n",
       "<style>\n",
       "    .dataframe thead tr:only-child th {\n",
       "        text-align: right;\n",
       "    }\n",
       "\n",
       "    .dataframe thead th {\n",
       "        text-align: left;\n",
       "    }\n",
       "\n",
       "    .dataframe tbody tr th {\n",
       "        vertical-align: top;\n",
       "    }\n",
       "</style>\n",
       "<table border=\"1\" class=\"dataframe\">\n",
       "  <thead>\n",
       "    <tr style=\"text-align: right;\">\n",
       "      <th></th>\n",
       "      <th>Source</th>\n",
       "      <th>NA-1</th>\n",
       "      <th>NA-2</th>\n",
       "      <th>NA-3</th>\n",
       "      <th>NA-4</th>\n",
       "      <th>Substrate</th>\n",
       "      <th>Sign</th>\n",
       "      <th>Interaction</th>\n",
       "      <th>Reference</th>\n",
       "    </tr>\n",
       "  </thead>\n",
       "  <tbody>\n",
       "    <tr>\n",
       "      <th>0</th>\n",
       "      <td>autocatalysis_Mus musculus</td>\n",
       "      <td>nan</td>\n",
       "      <td>nan</td>\n",
       "      <td>nan</td>\n",
       "      <td>nan</td>\n",
       "      <td>AAKB1</td>\n",
       "      <td>?</td>\n",
       "      <td>Phosphorylation</td>\n",
       "      <td>Huang, H.-D., Lee, T.-Y., Tzeng, S.-W., &amp; Horn...</td>\n",
       "    </tr>\n",
       "    <tr>\n",
       "      <th>1</th>\n",
       "      <td>autocatalysis_Mus musculus</td>\n",
       "      <td>nan</td>\n",
       "      <td>nan</td>\n",
       "      <td>nan</td>\n",
       "      <td>nan</td>\n",
       "      <td>ABL1</td>\n",
       "      <td>?</td>\n",
       "      <td>Phosphorylation</td>\n",
       "      <td>Huang, H.-D., Lee, T.-Y., Tzeng, S.-W., &amp; Horn...</td>\n",
       "    </tr>\n",
       "    <tr>\n",
       "      <th>2</th>\n",
       "      <td>autocatalysis_Mus musculus</td>\n",
       "      <td>nan</td>\n",
       "      <td>nan</td>\n",
       "      <td>nan</td>\n",
       "      <td>nan</td>\n",
       "      <td>ALK</td>\n",
       "      <td>?</td>\n",
       "      <td>Phosphorylation</td>\n",
       "      <td>Huang, H.-D., Lee, T.-Y., Tzeng, S.-W., &amp; Horn...</td>\n",
       "    </tr>\n",
       "    <tr>\n",
       "      <th>3</th>\n",
       "      <td>autocatalysis_Mus musculus</td>\n",
       "      <td>nan</td>\n",
       "      <td>nan</td>\n",
       "      <td>nan</td>\n",
       "      <td>nan</td>\n",
       "      <td>BCKD</td>\n",
       "      <td>?</td>\n",
       "      <td>Phosphorylation</td>\n",
       "      <td>Huang, H.-D., Lee, T.-Y., Tzeng, S.-W., &amp; Horn...</td>\n",
       "    </tr>\n",
       "    <tr>\n",
       "      <th>4</th>\n",
       "      <td>autocatalysis_Mus musculus</td>\n",
       "      <td>nan</td>\n",
       "      <td>nan</td>\n",
       "      <td>nan</td>\n",
       "      <td>nan</td>\n",
       "      <td>BLK</td>\n",
       "      <td>?</td>\n",
       "      <td>Phosphorylation</td>\n",
       "      <td>Huang, H.-D., Lee, T.-Y., Tzeng, S.-W., &amp; Horn...</td>\n",
       "    </tr>\n",
       "  </tbody>\n",
       "</table>\n",
       "</div>"
      ],
      "text/plain": [
       "                       Source NA-1 NA-2 NA-3 NA-4 Substrate Sign  \\\n",
       "0  autocatalysis_Mus musculus  nan  nan  nan  nan     AAKB1    ?   \n",
       "1  autocatalysis_Mus musculus  nan  nan  nan  nan      ABL1    ?   \n",
       "2  autocatalysis_Mus musculus  nan  nan  nan  nan       ALK    ?   \n",
       "3  autocatalysis_Mus musculus  nan  nan  nan  nan      BCKD    ?   \n",
       "4  autocatalysis_Mus musculus  nan  nan  nan  nan       BLK    ?   \n",
       "\n",
       "       Interaction                                          Reference  \n",
       "0  Phosphorylation  Huang, H.-D., Lee, T.-Y., Tzeng, S.-W., & Horn...  \n",
       "1  Phosphorylation  Huang, H.-D., Lee, T.-Y., Tzeng, S.-W., & Horn...  \n",
       "2  Phosphorylation  Huang, H.-D., Lee, T.-Y., Tzeng, S.-W., & Horn...  \n",
       "3  Phosphorylation  Huang, H.-D., Lee, T.-Y., Tzeng, S.-W., & Horn...  \n",
       "4  Phosphorylation  Huang, H.-D., Lee, T.-Y., Tzeng, S.-W., & Horn...  "
      ]
     },
     "execution_count": 16,
     "metadata": {},
     "output_type": "execute_result"
    }
   ],
   "source": [
    "#Insert first four columns for .sig file format (NaNs)\n",
    "sig.insert(1, 'NA-1', str(np.nan))\n",
    "sig.insert(2, 'NA-2', str(np.nan))\n",
    "sig.insert(3, 'NA-3', str(np.nan))\n",
    "sig.insert(4, 'NA-4', str(np.nan))\n",
    "\n",
    "#Insert column corresponding to sign (with '?' because it is unknown)\n",
    "sig.insert(6, 'Sign', '?')\n",
    "\n",
    "#Insert column specifying interaction type as phosphorylation\n",
    "sig.insert(7, 'Interaction', 'Phosphorylation')\n",
    "\n",
    "#Insert 'Reference' column as the citation of NetworKIN paper, as no other citation\n",
    "#was provided\n",
    "#Insert column specifying interaction type as phosphorylation\n",
    "sig.insert(8, 'Reference', \"Huang, H.-D., Lee, T.-Y., Tzeng, S.-W., & Horng, J.-T. (2005). KinasePhos: a web tool for identifying protein kinase-specific phosphorylation sites. Nucleic Acids Research, 33(Web Server issue), W226–W229.\") \n",
    "#View dataframe\n",
    "sig.head()"
   ]
  },
  {
   "cell_type": "code",
   "execution_count": 17,
   "metadata": {
    "collapsed": true
   },
   "outputs": [],
   "source": [
    "#Remove kinases with fewer than five substrates in 'kin'\n",
    "kin = kin.loc[indices]"
   ]
  },
  {
   "cell_type": "markdown",
   "metadata": {},
   "source": [
    "## Create .Sig File"
   ]
  },
  {
   "cell_type": "code",
   "execution_count": 18,
   "metadata": {
    "collapsed": true
   },
   "outputs": [],
   "source": [
    "#Create dictionary 'sigd' with index numbers as keys\n",
    "sigd = dict([(key, '') for key in sig.index])\n",
    "\n",
    "# loop through rows with iterrows()\n",
    "for index, rowData in sig.iterrows():\n",
    "    line = ('\\t'.join(rowData))\n",
    "    sigd[index] = line\n",
    "    \n",
    "#Transfer tab-separated info into a new txt file\n",
    "#Make sure to include in ReadMe corresponding column names\n",
    "with open('SwissProtPutsig.txt', 'w') as openfile:\n",
    "    for index in sigd:\n",
    "        openfile.write(str(sigd[index]) + '\\n')"
   ]
  },
  {
   "cell_type": "markdown",
   "metadata": {},
   "source": [
    "# Creation of Final .GMT File"
   ]
  },
  {
   "cell_type": "markdown",
   "metadata": {},
   "source": [
    "## Create dictionary of Tab-Separated rows of the Dataframe"
   ]
  },
  {
   "cell_type": "code",
   "execution_count": 19,
   "metadata": {},
   "outputs": [
    {
     "data": {
      "text/html": [
       "<div>\n",
       "<style>\n",
       "    .dataframe thead tr:only-child th {\n",
       "        text-align: right;\n",
       "    }\n",
       "\n",
       "    .dataframe thead th {\n",
       "        text-align: left;\n",
       "    }\n",
       "\n",
       "    .dataframe tbody tr th {\n",
       "        vertical-align: top;\n",
       "    }\n",
       "</style>\n",
       "<table border=\"1\" class=\"dataframe\">\n",
       "  <thead>\n",
       "    <tr style=\"text-align: right;\">\n",
       "      <th></th>\n",
       "      <th>Kinase_organism</th>\n",
       "      <th>Description</th>\n",
       "      <th>target_merged</th>\n",
       "    </tr>\n",
       "  </thead>\n",
       "  <tbody>\n",
       "    <tr>\n",
       "      <th>0</th>\n",
       "      <td>autocatalysis_Mus musculus</td>\n",
       "      <td>Swiss-Prot Put.</td>\n",
       "      <td>AAKB1\\tABL1\\tALK\\tBCKD\\tBLK\\tBMX\\tBTK\\tCSK\\tDA...</td>\n",
       "    </tr>\n",
       "    <tr>\n",
       "      <th>1</th>\n",
       "      <td>autocatalysis_Homo sapiens</td>\n",
       "      <td>Swiss-Prot Put.</td>\n",
       "      <td>AAKB1\\tAAPK1\\tAAPK2\\tABL1\\tALK\\tBCKD\\tBLK\\tBMX...</td>\n",
       "    </tr>\n",
       "    <tr>\n",
       "      <th>2</th>\n",
       "      <td>PKA_Homo sapiens</td>\n",
       "      <td>Swiss-Prot Put.</td>\n",
       "      <td>ACLY\\tADA1A\\tADRB1\\tADRB2\\tAP2B\\tAP2C\\tAT12A\\t...</td>\n",
       "    </tr>\n",
       "    <tr>\n",
       "      <th>3</th>\n",
       "      <td>PKA_Mus musculus</td>\n",
       "      <td>Swiss-Prot Put.</td>\n",
       "      <td>ABCA1\\tACLY\\tADA1A\\tADDA\\tADDB\\tADRB1\\tADRB2\\t...</td>\n",
       "    </tr>\n",
       "    <tr>\n",
       "      <th>4</th>\n",
       "      <td>PKC_Homo sapiens</td>\n",
       "      <td>Swiss-Prot Put.</td>\n",
       "      <td>ADDG\\tAT1A1\\tAT2B2\\tAT2B3\\tAT2B4\\tBCL2\\tCSTF2\\...</td>\n",
       "    </tr>\n",
       "  </tbody>\n",
       "</table>\n",
       "</div>"
      ],
      "text/plain": [
       "              Kinase_organism      Description  \\\n",
       "0  autocatalysis_Mus musculus  Swiss-Prot Put.   \n",
       "1  autocatalysis_Homo sapiens  Swiss-Prot Put.   \n",
       "2            PKA_Homo sapiens  Swiss-Prot Put.   \n",
       "3            PKA_Mus musculus  Swiss-Prot Put.   \n",
       "4            PKC_Homo sapiens  Swiss-Prot Put.   \n",
       "\n",
       "                                       target_merged  \n",
       "0  AAKB1\\tABL1\\tALK\\tBCKD\\tBLK\\tBMX\\tBTK\\tCSK\\tDA...  \n",
       "1  AAKB1\\tAAPK1\\tAAPK2\\tABL1\\tALK\\tBCKD\\tBLK\\tBMX...  \n",
       "2  ACLY\\tADA1A\\tADRB1\\tADRB2\\tAP2B\\tAP2C\\tAT12A\\t...  \n",
       "3  ABCA1\\tACLY\\tADA1A\\tADDA\\tADDB\\tADRB1\\tADRB2\\t...  \n",
       "4  ADDG\\tAT1A1\\tAT2B2\\tAT2B3\\tAT2B4\\tBCL2\\tCSTF2\\...  "
      ]
     },
     "execution_count": 19,
     "metadata": {},
     "output_type": "execute_result"
    }
   ],
   "source": [
    "#Reset index of the dataframe\n",
    "kin.reset_index(inplace = True)\n",
    "\n",
    "#create column 'acc_merged' in which all 'acc' elements are joined by a \\t symbol\n",
    "kin['target_merged'] = ['\\t'.join(x) for x in kin['Substrate']]\n",
    "\n",
    "#drop the now-unneccesary column 'Substrates'\n",
    "kin.drop('Substrate', axis=1, inplace = True)\n",
    "\n",
    "#also drop the data-exploratory column 'kinase_substrate_num'\n",
    "kin.drop('kinase_substrate_num', axis=1, inplace = True)\n",
    "\n",
    "#View dataframe\n",
    "kin.head()"
   ]
  },
  {
   "cell_type": "code",
   "execution_count": 20,
   "metadata": {
    "collapsed": true
   },
   "outputs": [],
   "source": [
    "#Create dictionary 'SwissProt' with index numbers as keys\n",
    "SwissProt_num = dict([(key, '') for key in kin.index])\n",
    "\n",
    "# loop through rows with iterrows()\n",
    "for index, rowData in kin.iterrows():\n",
    "    line = ('\\t'.join((rowData)))\n",
    "    SwissProt_num[index] = line"
   ]
  },
  {
   "cell_type": "markdown",
   "metadata": {},
   "source": [
    "## Write Info from Dictionary into a .GMT file"
   ]
  },
  {
   "cell_type": "code",
   "execution_count": 21,
   "metadata": {
    "collapsed": true
   },
   "outputs": [],
   "source": [
    "#Transfer tab-separated info into a new txt file\n",
    "with open('SwissProt_put.gmt', 'w') as openfile:\n",
    "    for index in SwissProt_num:\n",
    "        openfile.write(str(SwissProt_num[index]) + '\\n')"
   ]
  }
 ],
 "metadata": {
  "kernelspec": {
   "display_name": "Python 3",
   "language": "python",
   "name": "python3"
  },
  "language_info": {
   "codemirror_mode": {
    "name": "ipython",
    "version": 3
   },
   "file_extension": ".py",
   "mimetype": "text/x-python",
   "name": "python",
   "nbconvert_exporter": "python",
   "pygments_lexer": "ipython3",
   "version": "3.6.1"
  }
 },
 "nbformat": 4,
 "nbformat_minor": 2
}
