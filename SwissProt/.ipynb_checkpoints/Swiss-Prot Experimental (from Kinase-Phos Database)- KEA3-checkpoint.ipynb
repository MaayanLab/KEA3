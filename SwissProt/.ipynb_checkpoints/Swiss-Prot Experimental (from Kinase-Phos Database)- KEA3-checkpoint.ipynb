{
 "cells": [
  {
   "cell_type": "markdown",
   "metadata": {},
   "source": [
    "# Swiss-Prot (Experimental) Data Formatting\n",
    "\n",
    "This file takes data regarding kinase-protein interactions from the Swiss-Prot database (accessed through the Kinase-Phos database) and converts the data regarding experimental interactions into the .gmt format. The data was retrieved from the Kinase-Phos database on Fri, Jun 16 2017. This data will be added to enhance the KEA2 database and will be suitably formatted for use by ENRICHR and X2K. The citation for the data used by this script is \"Huang, H.-D., Lee, T.-Y., Tzeng, S.-W., & Horng, J.-T. (2005). KinasePhos: a web tool for identifying protein kinase-specific phosphorylation sites. Nucleic Acids Research, 33(Web Server issue), W226–W229.\" and can also be found on the corresponding gh.pages website."
   ]
  },
  {
   "cell_type": "markdown",
   "metadata": {},
   "source": [
    "## Import packages necessary for following program"
   ]
  },
  {
   "cell_type": "code",
   "execution_count": 17,
   "metadata": {
    "collapsed": true
   },
   "outputs": [],
   "source": [
    "%run /home/maayanlab/Desktop/Projects/KEA3/Scripts/init.ipy"
   ]
  },
  {
   "cell_type": "markdown",
   "metadata": {},
   "source": [
    "## Create a dataframe from a file containing Swiss-Prot Experimental data"
   ]
  },
  {
   "cell_type": "code",
   "execution_count": 33,
   "metadata": {},
   "outputs": [
    {
     "data": {
      "text/html": [
       "<div>\n",
       "<style>\n",
       "    .dataframe thead tr:only-child th {\n",
       "        text-align: right;\n",
       "    }\n",
       "\n",
       "    .dataframe thead th {\n",
       "        text-align: left;\n",
       "    }\n",
       "\n",
       "    .dataframe tbody tr th {\n",
       "        vertical-align: top;\n",
       "    }\n",
       "</style>\n",
       "<table border=\"1\" class=\"dataframe\">\n",
       "  <thead>\n",
       "    <tr style=\"text-align: right;\">\n",
       "      <th></th>\n",
       "      <th>Substrate</th>\n",
       "      <th>Pos</th>\n",
       "      <th>kinase_type</th>\n",
       "      <th>sequence</th>\n",
       "      <th></th>\n",
       "      <th>.1</th>\n",
       "      <th>.2</th>\n",
       "      <th>.3</th>\n",
       "      <th>.4</th>\n",
       "    </tr>\n",
       "  </thead>\n",
       "  <tbody>\n",
       "    <tr>\n",
       "      <th>0</th>\n",
       "      <td>1433B_SHEEP</td>\n",
       "      <td>148</td>\n",
       "      <td>Phosphoserine</td>\n",
       "      <td>FSVFYYEILNSPEAIAELDTL</td>\n",
       "      <td>NaN</td>\n",
       "      <td>NaN</td>\n",
       "      <td>NaN</td>\n",
       "      <td>NaN</td>\n",
       "      <td>NaN</td>\n",
       "    </tr>\n",
       "    <tr>\n",
       "      <th>1</th>\n",
       "      <td>1433Z_SHEEP</td>\n",
       "      <td>184</td>\n",
       "      <td>Phosphoserine</td>\n",
       "      <td>FSVFYYEILNSPEKACSLAKT</td>\n",
       "      <td>NaN</td>\n",
       "      <td>NaN</td>\n",
       "      <td>NaN</td>\n",
       "      <td>NaN</td>\n",
       "      <td>NaN</td>\n",
       "    </tr>\n",
       "    <tr>\n",
       "      <th>2</th>\n",
       "      <td>1A12_LYCES</td>\n",
       "      <td>460</td>\n",
       "      <td>Phosphoserine</td>\n",
       "      <td>QQWKKNNLRLSFSKRMYDESV</td>\n",
       "      <td>NaN</td>\n",
       "      <td>NaN</td>\n",
       "      <td>NaN</td>\n",
       "      <td>NaN</td>\n",
       "      <td>NaN</td>\n",
       "    </tr>\n",
       "    <tr>\n",
       "      <th>3</th>\n",
       "      <td>3BP5_RAT</td>\n",
       "      <td>321</td>\n",
       "      <td>Phosphoserine (by MAPK12 and MAPK9)</td>\n",
       "      <td>VARPGSLDLPSPVSLSEFGMM</td>\n",
       "      <td>NaN</td>\n",
       "      <td>NaN</td>\n",
       "      <td>NaN</td>\n",
       "      <td>NaN</td>\n",
       "      <td>NaN</td>\n",
       "    </tr>\n",
       "    <tr>\n",
       "      <th>4</th>\n",
       "      <td>3BP5_RAT</td>\n",
       "      <td>391</td>\n",
       "      <td>Phosphoserine (by MAPK12)</td>\n",
       "      <td>GGRSRSQSSTSLEGQALETRM</td>\n",
       "      <td>NaN</td>\n",
       "      <td>NaN</td>\n",
       "      <td>NaN</td>\n",
       "      <td>NaN</td>\n",
       "      <td>NaN</td>\n",
       "    </tr>\n",
       "  </tbody>\n",
       "</table>\n",
       "</div>"
      ],
      "text/plain": [
       "     Substrate  Pos                          kinase_type  \\\n",
       "0  1433B_SHEEP  148                        Phosphoserine   \n",
       "1  1433Z_SHEEP  184                        Phosphoserine   \n",
       "2   1A12_LYCES  460                        Phosphoserine   \n",
       "3     3BP5_RAT  321  Phosphoserine (by MAPK12 and MAPK9)   \n",
       "4     3BP5_RAT  391            Phosphoserine (by MAPK12)   \n",
       "\n",
       "                sequence        .1   .2   .3   .4  \n",
       "0  FSVFYYEILNSPEAIAELDTL  NaN  NaN  NaN  NaN  NaN  \n",
       "1  FSVFYYEILNSPEKACSLAKT  NaN  NaN  NaN  NaN  NaN  \n",
       "2  QQWKKNNLRLSFSKRMYDESV  NaN  NaN  NaN  NaN  NaN  \n",
       "3  VARPGSLDLPSPVSLSEFGMM  NaN  NaN  NaN  NaN  NaN  \n",
       "4  GGRSRSQSSTSLEGQALETRM  NaN  NaN  NaN  NaN  NaN  "
      ]
     },
     "execution_count": 33,
     "metadata": {},
     "output_type": "execute_result"
    }
   ],
   "source": [
    "#Read in dataframe (including empty columns pd.read_table() sees)\n",
    "s = pd.read_table('~/Desktop/Projects/KEA3/Swiss_phos_exp(1).tab', names = \n",
    "                  ['Substrate', 'Pos', 'kinase_type', 'sequence', '', '', '', '', ''])\n",
    "\n",
    "s.head()"
   ]
  },
  {
   "cell_type": "code",
   "execution_count": 19,
   "metadata": {},
   "outputs": [
    {
     "name": "stderr",
     "output_type": "stream",
     "text": [
      "/home/maayanlab/anaconda3/lib/python3.6/site-packages/ipykernel_launcher.py:4: SettingWithCopyWarning: \n",
      "A value is trying to be set on a copy of a slice from a DataFrame\n",
      "\n",
      "See the caveats in the documentation: http://pandas.pydata.org/pandas-docs/stable/indexing.html#indexing-view-versus-copy\n",
      "  after removing the cwd from sys.path.\n"
     ]
    },
    {
     "data": {
      "text/html": [
       "<div>\n",
       "<style>\n",
       "    .dataframe thead tr:only-child th {\n",
       "        text-align: right;\n",
       "    }\n",
       "\n",
       "    .dataframe thead th {\n",
       "        text-align: left;\n",
       "    }\n",
       "\n",
       "    .dataframe tbody tr th {\n",
       "        vertical-align: top;\n",
       "    }\n",
       "</style>\n",
       "<table border=\"1\" class=\"dataframe\">\n",
       "  <thead>\n",
       "    <tr style=\"text-align: right;\">\n",
       "      <th></th>\n",
       "      <th>Substrate</th>\n",
       "      <th>kinase_type</th>\n",
       "    </tr>\n",
       "  </thead>\n",
       "  <tbody>\n",
       "    <tr>\n",
       "      <th>0</th>\n",
       "      <td>1433B_SHEEP</td>\n",
       "      <td>Phosphoserine</td>\n",
       "    </tr>\n",
       "    <tr>\n",
       "      <th>1</th>\n",
       "      <td>1433Z_SHEEP</td>\n",
       "      <td>Phosphoserine</td>\n",
       "    </tr>\n",
       "    <tr>\n",
       "      <th>2</th>\n",
       "      <td>1A12_LYCES</td>\n",
       "      <td>Phosphoserine</td>\n",
       "    </tr>\n",
       "    <tr>\n",
       "      <th>3</th>\n",
       "      <td>3BP5_RAT</td>\n",
       "      <td>Phosphoserine (by MAPK12 and MAPK9)</td>\n",
       "    </tr>\n",
       "    <tr>\n",
       "      <th>4</th>\n",
       "      <td>3BP5_RAT</td>\n",
       "      <td>Phosphoserine (by MAPK12)</td>\n",
       "    </tr>\n",
       "  </tbody>\n",
       "</table>\n",
       "</div>"
      ],
      "text/plain": [
       "     Substrate                          kinase_type\n",
       "0  1433B_SHEEP                        Phosphoserine\n",
       "1  1433Z_SHEEP                        Phosphoserine\n",
       "2   1A12_LYCES                        Phosphoserine\n",
       "3     3BP5_RAT  Phosphoserine (by MAPK12 and MAPK9)\n",
       "4     3BP5_RAT            Phosphoserine (by MAPK12)"
      ]
     },
     "execution_count": 19,
     "metadata": {},
     "output_type": "execute_result"
    }
   ],
   "source": [
    "#Filter out empty columns and remove unnecessary 'sequence' and 'Pos' column\n",
    "swiss = s[['Substrate', 'kinase_type']]\n",
    "\n",
    "swiss.drop_duplicates(inplace = True)\n",
    "\n",
    "#View dataframe\n",
    "swiss.head()"
   ]
  },
  {
   "cell_type": "markdown",
   "metadata": {},
   "source": [
    "## Filter by organism (Human and Mouse)"
   ]
  },
  {
   "cell_type": "code",
   "execution_count": 20,
   "metadata": {},
   "outputs": [
    {
     "name": "stderr",
     "output_type": "stream",
     "text": [
      "/home/maayanlab/anaconda3/lib/python3.6/site-packages/IPython/core/interactiveshell.py:2881: SettingWithCopyWarning: \n",
      "A value is trying to be set on a copy of a slice from a DataFrame\n",
      "\n",
      "See the caveats in the documentation: http://pandas.pydata.org/pandas-docs/stable/indexing.html#indexing-view-versus-copy\n",
      "  exec(code_obj, self.user_global_ns, self.user_ns)\n"
     ]
    }
   ],
   "source": [
    "#Create new column 'Organism'\n",
    "swiss.insert(0, \"Organism\", \"None\")\n",
    "\n",
    "#Separate species and substrate names from each other\n",
    "#Store substrate name alone and organism alone in separate  column\n",
    "for index, string in swiss.Substrate.iteritems():\n",
    "    swiss.Organism[index] = string.split(\"_\", 2)[1]\n",
    "    swiss.Substrate[index] = string.split(\"_\", 2)[0]"
   ]
  },
  {
   "cell_type": "code",
   "execution_count": 21,
   "metadata": {},
   "outputs": [
    {
     "name": "stderr",
     "output_type": "stream",
     "text": [
      "/home/maayanlab/anaconda3/lib/python3.6/site-packages/ipykernel_launcher.py:2: SettingWithCopyWarning: \n",
      "A value is trying to be set on a copy of a slice from a DataFrame\n",
      "\n",
      "See the caveats in the documentation: http://pandas.pydata.org/pandas-docs/stable/indexing.html#indexing-view-versus-copy\n",
      "  \n",
      "/home/maayanlab/anaconda3/lib/python3.6/site-packages/ipykernel_launcher.py:3: SettingWithCopyWarning: \n",
      "A value is trying to be set on a copy of a slice from a DataFrame\n",
      "\n",
      "See the caveats in the documentation: http://pandas.pydata.org/pandas-docs/stable/indexing.html#indexing-view-versus-copy\n",
      "  This is separate from the ipykernel package so we can avoid doing imports until\n"
     ]
    }
   ],
   "source": [
    "# Replace common names for human and mouse with scientific names\n",
    "swiss.replace('HUMAN', 'Homo sapiens', inplace = True)\n",
    "swiss.replace('MOUSE', 'Mus musculus', inplace = True)"
   ]
  },
  {
   "cell_type": "code",
   "execution_count": 22,
   "metadata": {},
   "outputs": [
    {
     "data": {
      "text/html": [
       "<div>\n",
       "<style>\n",
       "    .dataframe thead tr:only-child th {\n",
       "        text-align: right;\n",
       "    }\n",
       "\n",
       "    .dataframe thead th {\n",
       "        text-align: left;\n",
       "    }\n",
       "\n",
       "    .dataframe tbody tr th {\n",
       "        vertical-align: top;\n",
       "    }\n",
       "</style>\n",
       "<table border=\"1\" class=\"dataframe\">\n",
       "  <thead>\n",
       "    <tr style=\"text-align: right;\">\n",
       "      <th></th>\n",
       "      <th>Organism</th>\n",
       "      <th>Substrate</th>\n",
       "      <th>kinase_type</th>\n",
       "    </tr>\n",
       "  </thead>\n",
       "  <tbody>\n",
       "    <tr>\n",
       "      <th>0</th>\n",
       "      <td>SHEEP</td>\n",
       "      <td>1433B</td>\n",
       "      <td>Phosphoserine</td>\n",
       "    </tr>\n",
       "    <tr>\n",
       "      <th>1</th>\n",
       "      <td>SHEEP</td>\n",
       "      <td>1433Z</td>\n",
       "      <td>Phosphoserine</td>\n",
       "    </tr>\n",
       "    <tr>\n",
       "      <th>2</th>\n",
       "      <td>LYCES</td>\n",
       "      <td>1A12</td>\n",
       "      <td>Phosphoserine</td>\n",
       "    </tr>\n",
       "    <tr>\n",
       "      <th>3</th>\n",
       "      <td>RAT</td>\n",
       "      <td>3BP5</td>\n",
       "      <td>Phosphoserine (by MAPK12 and MAPK9)</td>\n",
       "    </tr>\n",
       "    <tr>\n",
       "      <th>4</th>\n",
       "      <td>RAT</td>\n",
       "      <td>3BP5</td>\n",
       "      <td>Phosphoserine (by MAPK12)</td>\n",
       "    </tr>\n",
       "  </tbody>\n",
       "</table>\n",
       "</div>"
      ],
      "text/plain": [
       "  Organism Substrate                          kinase_type\n",
       "0    SHEEP     1433B                        Phosphoserine\n",
       "1    SHEEP     1433Z                        Phosphoserine\n",
       "2    LYCES      1A12                        Phosphoserine\n",
       "3      RAT      3BP5  Phosphoserine (by MAPK12 and MAPK9)\n",
       "4      RAT      3BP5            Phosphoserine (by MAPK12)"
      ]
     },
     "execution_count": 22,
     "metadata": {},
     "output_type": "execute_result"
    }
   ],
   "source": [
    "#View dataframe\n",
    "swiss.head()"
   ]
  },
  {
   "cell_type": "code",
   "execution_count": 23,
   "metadata": {},
   "outputs": [
    {
     "data": {
      "text/html": [
       "<div>\n",
       "<style>\n",
       "    .dataframe thead tr:only-child th {\n",
       "        text-align: right;\n",
       "    }\n",
       "\n",
       "    .dataframe thead th {\n",
       "        text-align: left;\n",
       "    }\n",
       "\n",
       "    .dataframe tbody tr th {\n",
       "        vertical-align: top;\n",
       "    }\n",
       "</style>\n",
       "<table border=\"1\" class=\"dataframe\">\n",
       "  <thead>\n",
       "    <tr style=\"text-align: right;\">\n",
       "      <th></th>\n",
       "      <th>Organism</th>\n",
       "      <th>Substrate</th>\n",
       "      <th>kinase_type</th>\n",
       "    </tr>\n",
       "  </thead>\n",
       "  <tbody>\n",
       "    <tr>\n",
       "      <th>5</th>\n",
       "      <td>Homo sapiens</td>\n",
       "      <td>41</td>\n",
       "      <td>Phosphothreonine (by CDC2)</td>\n",
       "    </tr>\n",
       "    <tr>\n",
       "      <th>6</th>\n",
       "      <td>Homo sapiens</td>\n",
       "      <td>41</td>\n",
       "      <td>Phosphotyrosine (by EGFR)</td>\n",
       "    </tr>\n",
       "    <tr>\n",
       "      <th>7</th>\n",
       "      <td>Homo sapiens</td>\n",
       "      <td>41</td>\n",
       "      <td>Phosphoserine (by CDC2)</td>\n",
       "    </tr>\n",
       "    <tr>\n",
       "      <th>9</th>\n",
       "      <td>Homo sapiens</td>\n",
       "      <td>A4</td>\n",
       "      <td>Phosphoserine (by CK2)</td>\n",
       "    </tr>\n",
       "    <tr>\n",
       "      <th>10</th>\n",
       "      <td>Homo sapiens</td>\n",
       "      <td>A4</td>\n",
       "      <td>Phosphoserine (by CK1)</td>\n",
       "    </tr>\n",
       "  </tbody>\n",
       "</table>\n",
       "</div>"
      ],
      "text/plain": [
       "        Organism Substrate                 kinase_type\n",
       "5   Homo sapiens        41  Phosphothreonine (by CDC2)\n",
       "6   Homo sapiens        41   Phosphotyrosine (by EGFR)\n",
       "7   Homo sapiens        41     Phosphoserine (by CDC2)\n",
       "9   Homo sapiens        A4      Phosphoserine (by CK2)\n",
       "10  Homo sapiens        A4      Phosphoserine (by CK1)"
      ]
     },
     "execution_count": 23,
     "metadata": {},
     "output_type": "execute_result"
    }
   ],
   "source": [
    "#Filter indices only for substrates/kinases pertaining to human and mouse data\n",
    "indices = [index for index, rowData in swiss.iterrows() \n",
    "           if rowData['Organism'] in ['Homo sapiens', \n",
    "                                      'Mus musculus']]\n",
    "#Create new dataframe using these indices\n",
    "swiss_filter = swiss.loc[indices]\n",
    "\n",
    "#View dataframe\n",
    "swiss_filter.head()"
   ]
  },
  {
   "cell_type": "markdown",
   "metadata": {},
   "source": [
    "## Filter 'Kinase_type' to Retrieve Kinases"
   ]
  },
  {
   "cell_type": "code",
   "execution_count": 24,
   "metadata": {},
   "outputs": [
    {
     "data": {
      "text/html": [
       "<div>\n",
       "<style>\n",
       "    .dataframe thead tr:only-child th {\n",
       "        text-align: right;\n",
       "    }\n",
       "\n",
       "    .dataframe thead th {\n",
       "        text-align: left;\n",
       "    }\n",
       "\n",
       "    .dataframe tbody tr th {\n",
       "        vertical-align: top;\n",
       "    }\n",
       "</style>\n",
       "<table border=\"1\" class=\"dataframe\">\n",
       "  <thead>\n",
       "    <tr style=\"text-align: right;\">\n",
       "      <th></th>\n",
       "      <th>kinase</th>\n",
       "      <th>Organism</th>\n",
       "      <th>Substrate</th>\n",
       "    </tr>\n",
       "  </thead>\n",
       "  <tbody>\n",
       "    <tr>\n",
       "      <th>5</th>\n",
       "      <td>CDC2</td>\n",
       "      <td>Homo sapiens</td>\n",
       "      <td>41</td>\n",
       "    </tr>\n",
       "    <tr>\n",
       "      <th>6</th>\n",
       "      <td>EGFR</td>\n",
       "      <td>Homo sapiens</td>\n",
       "      <td>41</td>\n",
       "    </tr>\n",
       "    <tr>\n",
       "      <th>7</th>\n",
       "      <td>CDC2</td>\n",
       "      <td>Homo sapiens</td>\n",
       "      <td>41</td>\n",
       "    </tr>\n",
       "    <tr>\n",
       "      <th>9</th>\n",
       "      <td>CK2</td>\n",
       "      <td>Homo sapiens</td>\n",
       "      <td>A4</td>\n",
       "    </tr>\n",
       "    <tr>\n",
       "      <th>10</th>\n",
       "      <td>CK1</td>\n",
       "      <td>Homo sapiens</td>\n",
       "      <td>A4</td>\n",
       "    </tr>\n",
       "  </tbody>\n",
       "</table>\n",
       "</div>"
      ],
      "text/plain": [
       "   kinase      Organism Substrate\n",
       "5    CDC2  Homo sapiens        41\n",
       "6    EGFR  Homo sapiens        41\n",
       "7    CDC2  Homo sapiens        41\n",
       "9     CK2  Homo sapiens        A4\n",
       "10    CK1  Homo sapiens        A4"
      ]
     },
     "execution_count": 24,
     "metadata": {},
     "output_type": "execute_result"
    }
   ],
   "source": [
    "#Insert new column, which will represent the 'kinase' for each substrate\n",
    "swiss_filter.insert(0, 'kinase', 'None')\n",
    "\n",
    "#Split string of 'kinase_type' to retrieve only individual kinase gene symbol\n",
    "for index, string in swiss_filter.kinase_type.iteritems():\n",
    "    s = string\n",
    "    if \"(\" in s:\n",
    "        s = string.split(\"(\", 2)[1]\n",
    "    if \" \" in s:\n",
    "        s = s.split(\" \", 2)[1]\n",
    "    if ')' in s:\n",
    "        s = s.split(\")\", 1)\n",
    "        swiss_filter.kinase[index] = s[0]\n",
    "\n",
    "\n",
    "#For rows without a specific kinase gene symbol, replace with NaN\n",
    "swiss_filter.replace(['Potential', 'similarity', \n",
    "                      'Phosphotyrosine', 'Phosphoserine', 'Phosphothreonine'],\n",
    "                     np.nan, inplace = True)\n",
    "\n",
    "#Drop all NaNs from the dataframe\n",
    "swiss_filter.dropna(inplace = True)\n",
    "\n",
    "#Drop 'kinase_type' column since it is no lnger needed\n",
    "swiss_filter.drop('kinase_type', axis = 1, inplace = True)\n",
    "\n",
    "#View dataframe\n",
    "swiss_filter.head()"
   ]
  },
  {
   "cell_type": "markdown",
   "metadata": {},
   "source": [
    "## Combine 'Kinase' and 'Organism' Column and Create new Dataframe"
   ]
  },
  {
   "cell_type": "code",
   "execution_count": 25,
   "metadata": {},
   "outputs": [
    {
     "data": {
      "text/html": [
       "<div>\n",
       "<style>\n",
       "    .dataframe thead tr:only-child th {\n",
       "        text-align: right;\n",
       "    }\n",
       "\n",
       "    .dataframe thead th {\n",
       "        text-align: left;\n",
       "    }\n",
       "\n",
       "    .dataframe tbody tr th {\n",
       "        vertical-align: top;\n",
       "    }\n",
       "</style>\n",
       "<table border=\"1\" class=\"dataframe\">\n",
       "  <thead>\n",
       "    <tr style=\"text-align: right;\">\n",
       "      <th></th>\n",
       "      <th>Substrate</th>\n",
       "      <th>Kinase_organism</th>\n",
       "    </tr>\n",
       "  </thead>\n",
       "  <tbody>\n",
       "    <tr>\n",
       "      <th>5</th>\n",
       "      <td>41</td>\n",
       "      <td>CDC2_Homo sapiens</td>\n",
       "    </tr>\n",
       "    <tr>\n",
       "      <th>6</th>\n",
       "      <td>41</td>\n",
       "      <td>EGFR_Homo sapiens</td>\n",
       "    </tr>\n",
       "    <tr>\n",
       "      <th>9</th>\n",
       "      <td>A4</td>\n",
       "      <td>CK2_Homo sapiens</td>\n",
       "    </tr>\n",
       "    <tr>\n",
       "      <th>10</th>\n",
       "      <td>A4</td>\n",
       "      <td>CK1_Homo sapiens</td>\n",
       "    </tr>\n",
       "    <tr>\n",
       "      <th>11</th>\n",
       "      <td>A4</td>\n",
       "      <td>None_Homo sapiens</td>\n",
       "    </tr>\n",
       "  </tbody>\n",
       "</table>\n",
       "</div>"
      ],
      "text/plain": [
       "   Substrate    Kinase_organism\n",
       "5         41  CDC2_Homo sapiens\n",
       "6         41  EGFR_Homo sapiens\n",
       "9         A4   CK2_Homo sapiens\n",
       "10        A4   CK1_Homo sapiens\n",
       "11        A4  None_Homo sapiens"
      ]
     },
     "execution_count": 25,
     "metadata": {},
     "output_type": "execute_result"
    }
   ],
   "source": [
    "#Create new column 'kinase_organism' joining together 'kinase' and 'Organism' columns\n",
    "swiss_filter['Kinase_organism'] = ['_'.join([rowData['kinase'], rowData['Organism']]) \n",
    "                                            for index, rowData in \n",
    "                                            swiss_filter.iterrows()]\n",
    "\n",
    "#Create new dataframe 'df' and drop columns no longer needed\n",
    "df = swiss_filter.drop('kinase', axis = 1)\n",
    "df.drop('Organism', axis = 1, inplace = True)\n",
    "\n",
    "#Drop any duplicates in the dataframe\n",
    "df.drop_duplicates(inplace = True)\n",
    "\n",
    "#View dataframe\n",
    "df.head()"
   ]
  },
  {
   "cell_type": "markdown",
   "metadata": {},
   "source": [
    "## Create File of 'df' for Later Data Aggregation"
   ]
  },
  {
   "cell_type": "code",
   "execution_count": 26,
   "metadata": {
    "collapsed": true
   },
   "outputs": [],
   "source": [
    "#Create dictionary with index numbers as keys\n",
    "d = dict([(key, '') for key in df.index])\n",
    "\n",
    "# loop through rows with iterrows()\n",
    "for index, rowData in df.iterrows():\n",
    "    line = ('\\t'.join(rowData))\n",
    "    d[index] = line\n",
    "    \n",
    "#Transfer tab-separated info into a new txt file\n",
    "with open('Uncondensed_SwissProtE.txt', 'w') as openfile:\n",
    "    for index in d:\n",
    "        openfile.write(str(d[index]) + '\\n')"
   ]
  },
  {
   "cell_type": "markdown",
   "metadata": {},
   "source": [
    "## Set Index to 'Kinase_Organism' and Aggregate Kinase Targets"
   ]
  },
  {
   "cell_type": "code",
   "execution_count": 27,
   "metadata": {},
   "outputs": [
    {
     "data": {
      "text/html": [
       "<div>\n",
       "<style>\n",
       "    .dataframe thead tr:only-child th {\n",
       "        text-align: right;\n",
       "    }\n",
       "\n",
       "    .dataframe thead th {\n",
       "        text-align: left;\n",
       "    }\n",
       "\n",
       "    .dataframe tbody tr th {\n",
       "        vertical-align: top;\n",
       "    }\n",
       "</style>\n",
       "<table border=\"1\" class=\"dataframe\">\n",
       "  <thead>\n",
       "    <tr style=\"text-align: right;\">\n",
       "      <th></th>\n",
       "      <th>Description</th>\n",
       "      <th>Substrate</th>\n",
       "    </tr>\n",
       "    <tr>\n",
       "      <th>Kinase_organism</th>\n",
       "      <th></th>\n",
       "      <th></th>\n",
       "    </tr>\n",
       "  </thead>\n",
       "  <tbody>\n",
       "    <tr>\n",
       "      <th>ABL1_Mus musculus</th>\n",
       "      <td>Swiss-Prot Exp.</td>\n",
       "      <td>(CDK5,)</td>\n",
       "    </tr>\n",
       "    <tr>\n",
       "      <th>ABL2_Homo sapiens</th>\n",
       "      <td>Swiss-Prot Exp.</td>\n",
       "      <td>(SIVA,)</td>\n",
       "    </tr>\n",
       "    <tr>\n",
       "      <th>ABL_Homo sapiens</th>\n",
       "      <td>Swiss-Prot Exp.</td>\n",
       "      <td>(P73, PLS1, ROBO1)</td>\n",
       "    </tr>\n",
       "    <tr>\n",
       "      <th>ABL_Mus musculus</th>\n",
       "      <td>Swiss-Prot Exp.</td>\n",
       "      <td>(ENAH,)</td>\n",
       "    </tr>\n",
       "    <tr>\n",
       "      <th>ATM_Homo sapiens</th>\n",
       "      <td>Swiss-Prot Exp.</td>\n",
       "      <td>(BRCA1, RBBP8, SMC1A, TERF1)</td>\n",
       "    </tr>\n",
       "  </tbody>\n",
       "</table>\n",
       "</div>"
      ],
      "text/plain": [
       "                       Description                     Substrate\n",
       "Kinase_organism                                                 \n",
       "ABL1_Mus musculus  Swiss-Prot Exp.                       (CDK5,)\n",
       "ABL2_Homo sapiens  Swiss-Prot Exp.                       (SIVA,)\n",
       "ABL_Homo sapiens   Swiss-Prot Exp.            (P73, PLS1, ROBO1)\n",
       "ABL_Mus musculus   Swiss-Prot Exp.                       (ENAH,)\n",
       "ATM_Homo sapiens   Swiss-Prot Exp.  (BRCA1, RBBP8, SMC1A, TERF1)"
      ]
     },
     "execution_count": 27,
     "metadata": {},
     "output_type": "execute_result"
    }
   ],
   "source": [
    "#Set index to 'Kinase_organism'\n",
    "df.set_index('Kinase_organism')\n",
    "\n",
    "#Group kinases in dataframe 'kin'\n",
    "#Aggregate data in 'kin' according to kinase groups\n",
    "kin = df.groupby('Kinase_organism').agg(lambda x: tuple(x))\n",
    "\n",
    "#Create a new column 'Swiss-Prot Exp.' as description of data\n",
    "kin.insert(0, 'Description', 'Swiss-Prot Exp.')\n",
    "\n",
    "#Visualize Data\n",
    "kin.head()"
   ]
  },
  {
   "cell_type": "markdown",
   "metadata": {},
   "source": [
    "# Exploratory Data Analysis"
   ]
  },
  {
   "cell_type": "markdown",
   "metadata": {},
   "source": [
    "## Calculate Number of Protein targets for each kinase\n",
    "Create a new column with the number of substrates relaed to each kinase, and sort the dataframe by this column"
   ]
  },
  {
   "cell_type": "code",
   "execution_count": 28,
   "metadata": {},
   "outputs": [
    {
     "data": {
      "text/html": [
       "<div>\n",
       "<style>\n",
       "    .dataframe thead tr:only-child th {\n",
       "        text-align: right;\n",
       "    }\n",
       "\n",
       "    .dataframe thead th {\n",
       "        text-align: left;\n",
       "    }\n",
       "\n",
       "    .dataframe tbody tr th {\n",
       "        vertical-align: top;\n",
       "    }\n",
       "</style>\n",
       "<table border=\"1\" class=\"dataframe\">\n",
       "  <thead>\n",
       "    <tr style=\"text-align: right;\">\n",
       "      <th></th>\n",
       "      <th>Description</th>\n",
       "      <th>Substrate</th>\n",
       "      <th>kinase_substrate_num</th>\n",
       "    </tr>\n",
       "    <tr>\n",
       "      <th>Kinase_organism</th>\n",
       "      <th></th>\n",
       "      <th></th>\n",
       "      <th></th>\n",
       "    </tr>\n",
       "  </thead>\n",
       "  <tbody>\n",
       "    <tr>\n",
       "      <th>autocatalysis_Homo sapiens</th>\n",
       "      <td>Swiss-Prot Exp.</td>\n",
       "      <td>(ABL2, BRAF1, DAPK1, DAPK2, DYR1B, E2AK2, EGFR...</td>\n",
       "      <td>33</td>\n",
       "    </tr>\n",
       "    <tr>\n",
       "      <th>None_Homo sapiens</th>\n",
       "      <td>Swiss-Prot Exp.</td>\n",
       "      <td>(A4, ADDA, ADDB, ICK, IF2A, IKBA, JIP1, K2C8, ...</td>\n",
       "      <td>27</td>\n",
       "    </tr>\n",
       "    <tr>\n",
       "      <th>PKA_Homo sapiens</th>\n",
       "      <td>Swiss-Prot Exp.</td>\n",
       "      <td>(ABCA1, ADDA, ADDB, ADRB2, AP2A, AQP2, AT2B1, ...</td>\n",
       "      <td>19</td>\n",
       "    </tr>\n",
       "    <tr>\n",
       "      <th>PKC_Homo sapiens</th>\n",
       "      <td>Swiss-Prot Exp.</td>\n",
       "      <td>(ADDA, ADDB, ANXA1, ANXA2, AT2B1, CD44, CFTR, ...</td>\n",
       "      <td>16</td>\n",
       "    </tr>\n",
       "    <tr>\n",
       "      <th>None_Mus musculus</th>\n",
       "      <td>Swiss-Prot Exp.</td>\n",
       "      <td>(A4, BAD, CABL1, HSPB1, IF2A, MK01, MK08, MK09...</td>\n",
       "      <td>13</td>\n",
       "    </tr>\n",
       "  </tbody>\n",
       "</table>\n",
       "</div>"
      ],
      "text/plain": [
       "                                Description  \\\n",
       "Kinase_organism                               \n",
       "autocatalysis_Homo sapiens  Swiss-Prot Exp.   \n",
       "None_Homo sapiens           Swiss-Prot Exp.   \n",
       "PKA_Homo sapiens            Swiss-Prot Exp.   \n",
       "PKC_Homo sapiens            Swiss-Prot Exp.   \n",
       "None_Mus musculus           Swiss-Prot Exp.   \n",
       "\n",
       "                                                                    Substrate  \\\n",
       "Kinase_organism                                                                 \n",
       "autocatalysis_Homo sapiens  (ABL2, BRAF1, DAPK1, DAPK2, DYR1B, E2AK2, EGFR...   \n",
       "None_Homo sapiens           (A4, ADDA, ADDB, ICK, IF2A, IKBA, JIP1, K2C8, ...   \n",
       "PKA_Homo sapiens            (ABCA1, ADDA, ADDB, ADRB2, AP2A, AQP2, AT2B1, ...   \n",
       "PKC_Homo sapiens            (ADDA, ADDB, ANXA1, ANXA2, AT2B1, CD44, CFTR, ...   \n",
       "None_Mus musculus           (A4, BAD, CABL1, HSPB1, IF2A, MK01, MK08, MK09...   \n",
       "\n",
       "                            kinase_substrate_num  \n",
       "Kinase_organism                                   \n",
       "autocatalysis_Homo sapiens                    33  \n",
       "None_Homo sapiens                             27  \n",
       "PKA_Homo sapiens                              19  \n",
       "PKC_Homo sapiens                              16  \n",
       "None_Mus musculus                             13  "
      ]
     },
     "execution_count": 28,
     "metadata": {},
     "output_type": "execute_result"
    }
   ],
   "source": [
    "# Create column representing counts of protein targets per kinase\n",
    "kin['kinase_substrate_num'] = [len(lst) for kinase, lst in kin['Substrate'].iteritems()]\n",
    "\n",
    "# Sort kinases from max to min according to number of protein targets each has\n",
    "kin.sort_values(by = ['kinase_substrate_num'], ascending= False, inplace=True)\n",
    "\n",
    "# View dataframe\n",
    "kin.head()"
   ]
  },
  {
   "cell_type": "markdown",
   "metadata": {},
   "source": [
    "## Create Histogram to display distribution of number of targets per kinase"
   ]
  },
  {
   "cell_type": "code",
   "execution_count": 29,
   "metadata": {},
   "outputs": [
    {
     "data": {
      "image/png": "[encoded data removed]",
      "text/plain": [
       "<matplotlib.figure.Figure at 0x7f72aedc0eb8>"
      ]
     },
     "metadata": {},
     "output_type": "display_data"
    }
   ],
   "source": [
    "# Create histogram displaying the distribution of the number\n",
    "#targets per kinase\n",
    "kin.plot.hist(by = 'kinase_substrate_num', bins = 63)\n",
    "\n",
    "#Show histogram\n",
    "plt.show()"
   ]
  },
  {
   "cell_type": "markdown",
   "metadata": {},
   "source": [
    "# Creation of Final .GMT File"
   ]
  },
  {
   "cell_type": "markdown",
   "metadata": {},
   "source": [
    "## Create dictionary of Tab-Separated Rows of the Dataframe"
   ]
  },
  {
   "cell_type": "code",
   "execution_count": 30,
   "metadata": {},
   "outputs": [
    {
     "data": {
      "text/html": [
       "<div>\n",
       "<style>\n",
       "    .dataframe thead tr:only-child th {\n",
       "        text-align: right;\n",
       "    }\n",
       "\n",
       "    .dataframe thead th {\n",
       "        text-align: left;\n",
       "    }\n",
       "\n",
       "    .dataframe tbody tr th {\n",
       "        vertical-align: top;\n",
       "    }\n",
       "</style>\n",
       "<table border=\"1\" class=\"dataframe\">\n",
       "  <thead>\n",
       "    <tr style=\"text-align: right;\">\n",
       "      <th></th>\n",
       "      <th>Kinase_organism</th>\n",
       "      <th>Description</th>\n",
       "      <th>target_merged</th>\n",
       "    </tr>\n",
       "  </thead>\n",
       "  <tbody>\n",
       "    <tr>\n",
       "      <th>0</th>\n",
       "      <td>autocatalysis_Homo sapiens</td>\n",
       "      <td>Swiss-Prot Exp.</td>\n",
       "      <td>ABL2\\tBRAF1\\tDAPK1\\tDAPK2\\tDYR1B\\tE2AK2\\tEGFR\\...</td>\n",
       "    </tr>\n",
       "    <tr>\n",
       "      <th>1</th>\n",
       "      <td>None_Homo sapiens</td>\n",
       "      <td>Swiss-Prot Exp.</td>\n",
       "      <td>A4\\tADDA\\tADDB\\tICK\\tIF2A\\tIKBA\\tJIP1\\tK2C8\\tK...</td>\n",
       "    </tr>\n",
       "    <tr>\n",
       "      <th>2</th>\n",
       "      <td>PKA_Homo sapiens</td>\n",
       "      <td>Swiss-Prot Exp.</td>\n",
       "      <td>ABCA1\\tADDA\\tADDB\\tADRB2\\tAP2A\\tAQP2\\tAT2B1\\tC...</td>\n",
       "    </tr>\n",
       "    <tr>\n",
       "      <th>3</th>\n",
       "      <td>PKC_Homo sapiens</td>\n",
       "      <td>Swiss-Prot Exp.</td>\n",
       "      <td>ADDA\\tADDB\\tANXA1\\tANXA2\\tAT2B1\\tCD44\\tCFTR\\tE...</td>\n",
       "    </tr>\n",
       "    <tr>\n",
       "      <th>4</th>\n",
       "      <td>None_Mus musculus</td>\n",
       "      <td>Swiss-Prot Exp.</td>\n",
       "      <td>A4\\tBAD\\tCABL1\\tHSPB1\\tIF2A\\tMK01\\tMK08\\tMK09\\...</td>\n",
       "    </tr>\n",
       "  </tbody>\n",
       "</table>\n",
       "</div>"
      ],
      "text/plain": [
       "              Kinase_organism      Description  \\\n",
       "0  autocatalysis_Homo sapiens  Swiss-Prot Exp.   \n",
       "1           None_Homo sapiens  Swiss-Prot Exp.   \n",
       "2            PKA_Homo sapiens  Swiss-Prot Exp.   \n",
       "3            PKC_Homo sapiens  Swiss-Prot Exp.   \n",
       "4           None_Mus musculus  Swiss-Prot Exp.   \n",
       "\n",
       "                                       target_merged  \n",
       "0  ABL2\\tBRAF1\\tDAPK1\\tDAPK2\\tDYR1B\\tE2AK2\\tEGFR\\...  \n",
       "1  A4\\tADDA\\tADDB\\tICK\\tIF2A\\tIKBA\\tJIP1\\tK2C8\\tK...  \n",
       "2  ABCA1\\tADDA\\tADDB\\tADRB2\\tAP2A\\tAQP2\\tAT2B1\\tC...  \n",
       "3  ADDA\\tADDB\\tANXA1\\tANXA2\\tAT2B1\\tCD44\\tCFTR\\tE...  \n",
       "4  A4\\tBAD\\tCABL1\\tHSPB1\\tIF2A\\tMK01\\tMK08\\tMK09\\...  "
      ]
     },
     "execution_count": 30,
     "metadata": {},
     "output_type": "execute_result"
    }
   ],
   "source": [
    "#Reset index of the dataframe\n",
    "kin.reset_index(inplace = True)\n",
    "\n",
    "#create column 'acc_merged' in which all 'acc' elements are joined by a \\t symbol\n",
    "kin['target_merged'] = ['\\t'.join(x) for x in kin['Substrate']]\n",
    "\n",
    "#drop the now-unneccesary column 'Substrates'\n",
    "kin.drop('Substrate', axis=1, inplace = True)\n",
    "\n",
    "#also drop the data-exploratory column 'kinase_substrate_num'\n",
    "kin.drop('kinase_substrate_num', axis=1, inplace = True)\n",
    "\n",
    "#View dataframe\n",
    "kin.head()"
   ]
  },
  {
   "cell_type": "code",
   "execution_count": 31,
   "metadata": {
    "collapsed": true
   },
   "outputs": [],
   "source": [
    "#Create dictionary 'SwissProt' with index numbers as keys\n",
    "SwissProt_num = dict([(key, '') for key in kin.index])\n",
    "\n",
    "# loop through rows with iterrows()\n",
    "for index, rowData in kin.iterrows():\n",
    "    line = ('\\t'.join((rowData)))\n",
    "    SwissProt_num[index] = line"
   ]
  },
  {
   "cell_type": "markdown",
   "metadata": {},
   "source": [
    "## Write Info from Dictionary into a .GMT file"
   ]
  },
  {
   "cell_type": "code",
   "execution_count": 32,
   "metadata": {
    "collapsed": true
   },
   "outputs": [],
   "source": [
    "#Transfer tab-separated info into a new txt file\n",
    "with open('SwissProtexp.gmt', 'w') as openfile:\n",
    "    for index in SwissProt_num:\n",
    "        openfile.write(str(SwissProt_num[index]) + '\\n')"
   ]
  }
 ],
 "metadata": {
  "kernelspec": {
   "display_name": "Python 3",
   "language": "python",
   "name": "python3"
  },
  "language_info": {
   "codemirror_mode": {
    "name": "ipython",
    "version": 3
   },
   "file_extension": ".py",
   "mimetype": "text/x-python",
   "name": "python",
   "nbconvert_exporter": "python",
   "pygments_lexer": "ipython3",
   "version": "3.6.1"
  }
 },
 "nbformat": 4,
 "nbformat_minor": 2
}
