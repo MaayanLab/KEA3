{
 "cells": [
  {
   "cell_type": "markdown",
   "metadata": {},
   "source": [
    "# Swiss-Prot (Experimental) Data Formatting\n",
    "\n",
    "This file takes data regarding kinase-protein interactions from the Swiss-Prot database (accessed through the Kinase-Phos database) and converts the data regarding experimental interactions into the .gmt format. The data was retrieved from the Kinase-Phos database on Fri, Jun 16 2017. This data will be added to enhance the KEA2 database and will be suitably formatted for use by ENRICHR and X2K. The citation for the data used by this script is \"Huang, H.-D., Lee, T.-Y., Tzeng, S.-W., & Horng, J.-T. (2005). KinasePhos: a web tool for identifying protein kinase-specific phosphorylation sites. Nucleic Acids Research, 33(Web Server issue), W226–W229.\" and can also be found on the corresponding gh.pages website."
   ]
  },
  {
   "cell_type": "markdown",
   "metadata": {},
   "source": [
    "## Import packages necessary for following program"
   ]
  },
  {
   "cell_type": "code",
   "execution_count": 1,
   "metadata": {
    "collapsed": true
   },
   "outputs": [],
   "source": [
    "%run /home/maayanlab/Desktop/Projects/KEA3/Scripts/init.ipy"
   ]
  },
  {
   "cell_type": "markdown",
   "metadata": {},
   "source": [
    "## Create a dataframe from a file containing Swiss-Prot Experimental data"
   ]
  },
  {
   "cell_type": "code",
   "execution_count": 2,
   "metadata": {},
   "outputs": [
    {
     "data": {
      "text/html": [
       "<div>\n",
       "<style>\n",
       "    .dataframe thead tr:only-child th {\n",
       "        text-align: right;\n",
       "    }\n",
       "\n",
       "    .dataframe thead th {\n",
       "        text-align: left;\n",
       "    }\n",
       "\n",
       "    .dataframe tbody tr th {\n",
       "        vertical-align: top;\n",
       "    }\n",
       "</style>\n",
       "<table border=\"1\" class=\"dataframe\">\n",
       "  <thead>\n",
       "    <tr style=\"text-align: right;\">\n",
       "      <th></th>\n",
       "      <th>Substrate</th>\n",
       "      <th>Pos</th>\n",
       "      <th>kinase_type</th>\n",
       "      <th>sequence</th>\n",
       "      <th></th>\n",
       "      <th>.1</th>\n",
       "      <th>.2</th>\n",
       "      <th>.3</th>\n",
       "      <th>.4</th>\n",
       "    </tr>\n",
       "  </thead>\n",
       "  <tbody>\n",
       "    <tr>\n",
       "      <th>0</th>\n",
       "      <td>1433B_SHEEP</td>\n",
       "      <td>148</td>\n",
       "      <td>Phosphoserine</td>\n",
       "      <td>FSVFYYEILNSPEAIAELDTL</td>\n",
       "      <td>NaN</td>\n",
       "      <td>NaN</td>\n",
       "      <td>NaN</td>\n",
       "      <td>NaN</td>\n",
       "      <td>NaN</td>\n",
       "    </tr>\n",
       "    <tr>\n",
       "      <th>1</th>\n",
       "      <td>1433Z_SHEEP</td>\n",
       "      <td>184</td>\n",
       "      <td>Phosphoserine</td>\n",
       "      <td>FSVFYYEILNSPEKACSLAKT</td>\n",
       "      <td>NaN</td>\n",
       "      <td>NaN</td>\n",
       "      <td>NaN</td>\n",
       "      <td>NaN</td>\n",
       "      <td>NaN</td>\n",
       "    </tr>\n",
       "    <tr>\n",
       "      <th>2</th>\n",
       "      <td>1A12_LYCES</td>\n",
       "      <td>460</td>\n",
       "      <td>Phosphoserine</td>\n",
       "      <td>QQWKKNNLRLSFSKRMYDESV</td>\n",
       "      <td>NaN</td>\n",
       "      <td>NaN</td>\n",
       "      <td>NaN</td>\n",
       "      <td>NaN</td>\n",
       "      <td>NaN</td>\n",
       "    </tr>\n",
       "    <tr>\n",
       "      <th>3</th>\n",
       "      <td>3BP5_RAT</td>\n",
       "      <td>321</td>\n",
       "      <td>Phosphoserine (by MAPK12 and MAPK9)</td>\n",
       "      <td>VARPGSLDLPSPVSLSEFGMM</td>\n",
       "      <td>NaN</td>\n",
       "      <td>NaN</td>\n",
       "      <td>NaN</td>\n",
       "      <td>NaN</td>\n",
       "      <td>NaN</td>\n",
       "    </tr>\n",
       "    <tr>\n",
       "      <th>4</th>\n",
       "      <td>3BP5_RAT</td>\n",
       "      <td>391</td>\n",
       "      <td>Phosphoserine (by MAPK12)</td>\n",
       "      <td>GGRSRSQSSTSLEGQALETRM</td>\n",
       "      <td>NaN</td>\n",
       "      <td>NaN</td>\n",
       "      <td>NaN</td>\n",
       "      <td>NaN</td>\n",
       "      <td>NaN</td>\n",
       "    </tr>\n",
       "  </tbody>\n",
       "</table>\n",
       "</div>"
      ],
      "text/plain": [
       "     Substrate  Pos                          kinase_type  \\\n",
       "0  1433B_SHEEP  148                        Phosphoserine   \n",
       "1  1433Z_SHEEP  184                        Phosphoserine   \n",
       "2   1A12_LYCES  460                        Phosphoserine   \n",
       "3     3BP5_RAT  321  Phosphoserine (by MAPK12 and MAPK9)   \n",
       "4     3BP5_RAT  391            Phosphoserine (by MAPK12)   \n",
       "\n",
       "                sequence        .1   .2   .3   .4  \n",
       "0  FSVFYYEILNSPEAIAELDTL  NaN  NaN  NaN  NaN  NaN  \n",
       "1  FSVFYYEILNSPEKACSLAKT  NaN  NaN  NaN  NaN  NaN  \n",
       "2  QQWKKNNLRLSFSKRMYDESV  NaN  NaN  NaN  NaN  NaN  \n",
       "3  VARPGSLDLPSPVSLSEFGMM  NaN  NaN  NaN  NaN  NaN  \n",
       "4  GGRSRSQSSTSLEGQALETRM  NaN  NaN  NaN  NaN  NaN  "
      ]
     },
     "execution_count": 2,
     "metadata": {},
     "output_type": "execute_result"
    }
   ],
   "source": [
    "#Read in dataframe (including empty columns pd.read_table() sees)\n",
    "s = pd.read_table('~/Desktop/Projects/KEA3/Swiss_phos_exp(1).tab', names = \n",
    "                  ['Substrate', 'Pos', 'kinase_type', 'sequence', '', '', '', '', ''])\n",
    "\n",
    "s.head()"
   ]
  },
  {
   "cell_type": "code",
   "execution_count": 3,
   "metadata": {},
   "outputs": [
    {
     "name": "stderr",
     "output_type": "stream",
     "text": [
      "/home/maayanlab/anaconda3/lib/python3.6/site-packages/ipykernel_launcher.py:4: SettingWithCopyWarning: \n",
      "A value is trying to be set on a copy of a slice from a DataFrame\n",
      "\n",
      "See the caveats in the documentation: http://pandas.pydata.org/pandas-docs/stable/indexing.html#indexing-view-versus-copy\n",
      "  after removing the cwd from sys.path.\n"
     ]
    },
    {
     "data": {
      "text/html": [
       "<div>\n",
       "<style>\n",
       "    .dataframe thead tr:only-child th {\n",
       "        text-align: right;\n",
       "    }\n",
       "\n",
       "    .dataframe thead th {\n",
       "        text-align: left;\n",
       "    }\n",
       "\n",
       "    .dataframe tbody tr th {\n",
       "        vertical-align: top;\n",
       "    }\n",
       "</style>\n",
       "<table border=\"1\" class=\"dataframe\">\n",
       "  <thead>\n",
       "    <tr style=\"text-align: right;\">\n",
       "      <th></th>\n",
       "      <th>Substrate</th>\n",
       "      <th>kinase_type</th>\n",
       "    </tr>\n",
       "  </thead>\n",
       "  <tbody>\n",
       "    <tr>\n",
       "      <th>0</th>\n",
       "      <td>1433B_SHEEP</td>\n",
       "      <td>Phosphoserine</td>\n",
       "    </tr>\n",
       "    <tr>\n",
       "      <th>1</th>\n",
       "      <td>1433Z_SHEEP</td>\n",
       "      <td>Phosphoserine</td>\n",
       "    </tr>\n",
       "    <tr>\n",
       "      <th>2</th>\n",
       "      <td>1A12_LYCES</td>\n",
       "      <td>Phosphoserine</td>\n",
       "    </tr>\n",
       "    <tr>\n",
       "      <th>3</th>\n",
       "      <td>3BP5_RAT</td>\n",
       "      <td>Phosphoserine (by MAPK12 and MAPK9)</td>\n",
       "    </tr>\n",
       "    <tr>\n",
       "      <th>4</th>\n",
       "      <td>3BP5_RAT</td>\n",
       "      <td>Phosphoserine (by MAPK12)</td>\n",
       "    </tr>\n",
       "  </tbody>\n",
       "</table>\n",
       "</div>"
      ],
      "text/plain": [
       "     Substrate                          kinase_type\n",
       "0  1433B_SHEEP                        Phosphoserine\n",
       "1  1433Z_SHEEP                        Phosphoserine\n",
       "2   1A12_LYCES                        Phosphoserine\n",
       "3     3BP5_RAT  Phosphoserine (by MAPK12 and MAPK9)\n",
       "4     3BP5_RAT            Phosphoserine (by MAPK12)"
      ]
     },
     "execution_count": 3,
     "metadata": {},
     "output_type": "execute_result"
    }
   ],
   "source": [
    "#Filter out empty columns and remove unnecessary 'sequence' and 'Pos' column\n",
    "swiss = s[['Substrate', 'kinase_type']]\n",
    "\n",
    "swiss.drop_duplicates(inplace = True)\n",
    "\n",
    "#View dataframe\n",
    "swiss.head()"
   ]
  },
  {
   "cell_type": "markdown",
   "metadata": {},
   "source": [
    "## Filter by organism (Human and Mouse)"
   ]
  },
  {
   "cell_type": "code",
   "execution_count": 4,
   "metadata": {},
   "outputs": [
    {
     "name": "stderr",
     "output_type": "stream",
     "text": [
      "/home/maayanlab/anaconda3/lib/python3.6/site-packages/IPython/core/interactiveshell.py:2881: SettingWithCopyWarning: \n",
      "A value is trying to be set on a copy of a slice from a DataFrame\n",
      "\n",
      "See the caveats in the documentation: http://pandas.pydata.org/pandas-docs/stable/indexing.html#indexing-view-versus-copy\n",
      "  exec(code_obj, self.user_global_ns, self.user_ns)\n"
     ]
    }
   ],
   "source": [
    "#Create new column 'Organism'\n",
    "swiss.insert(0, \"Organism\", \"None\")\n",
    "\n",
    "#Separate species and substrate names from each other\n",
    "#Store substrate name alone and organism alone in separate  column\n",
    "for index, string in swiss.Substrate.iteritems():\n",
    "    swiss.Organism[index] = string.split(\"_\", 2)[1]\n",
    "    swiss.Substrate[index] = string.split(\"_\", 2)[0]"
   ]
  },
  {
   "cell_type": "code",
   "execution_count": 5,
   "metadata": {},
   "outputs": [
    {
     "name": "stderr",
     "output_type": "stream",
     "text": [
      "/home/maayanlab/anaconda3/lib/python3.6/site-packages/ipykernel_launcher.py:2: SettingWithCopyWarning: \n",
      "A value is trying to be set on a copy of a slice from a DataFrame\n",
      "\n",
      "See the caveats in the documentation: http://pandas.pydata.org/pandas-docs/stable/indexing.html#indexing-view-versus-copy\n",
      "  \n",
      "/home/maayanlab/anaconda3/lib/python3.6/site-packages/ipykernel_launcher.py:3: SettingWithCopyWarning: \n",
      "A value is trying to be set on a copy of a slice from a DataFrame\n",
      "\n",
      "See the caveats in the documentation: http://pandas.pydata.org/pandas-docs/stable/indexing.html#indexing-view-versus-copy\n",
      "  This is separate from the ipykernel package so we can avoid doing imports until\n"
     ]
    }
   ],
   "source": [
    "# Replace common names for human and mouse with scientific names\n",
    "swiss.replace('HUMAN', 'Homo sapiens', inplace = True)\n",
    "swiss.replace('MOUSE', 'Mus musculus', inplace = True)"
   ]
  },
  {
   "cell_type": "code",
   "execution_count": 6,
   "metadata": {},
   "outputs": [
    {
     "data": {
      "text/html": [
       "<div>\n",
       "<style>\n",
       "    .dataframe thead tr:only-child th {\n",
       "        text-align: right;\n",
       "    }\n",
       "\n",
       "    .dataframe thead th {\n",
       "        text-align: left;\n",
       "    }\n",
       "\n",
       "    .dataframe tbody tr th {\n",
       "        vertical-align: top;\n",
       "    }\n",
       "</style>\n",
       "<table border=\"1\" class=\"dataframe\">\n",
       "  <thead>\n",
       "    <tr style=\"text-align: right;\">\n",
       "      <th></th>\n",
       "      <th>Organism</th>\n",
       "      <th>Substrate</th>\n",
       "      <th>kinase_type</th>\n",
       "    </tr>\n",
       "  </thead>\n",
       "  <tbody>\n",
       "    <tr>\n",
       "      <th>0</th>\n",
       "      <td>SHEEP</td>\n",
       "      <td>1433B</td>\n",
       "      <td>Phosphoserine</td>\n",
       "    </tr>\n",
       "    <tr>\n",
       "      <th>1</th>\n",
       "      <td>SHEEP</td>\n",
       "      <td>1433Z</td>\n",
       "      <td>Phosphoserine</td>\n",
       "    </tr>\n",
       "    <tr>\n",
       "      <th>2</th>\n",
       "      <td>LYCES</td>\n",
       "      <td>1A12</td>\n",
       "      <td>Phosphoserine</td>\n",
       "    </tr>\n",
       "    <tr>\n",
       "      <th>3</th>\n",
       "      <td>RAT</td>\n",
       "      <td>3BP5</td>\n",
       "      <td>Phosphoserine (by MAPK12 and MAPK9)</td>\n",
       "    </tr>\n",
       "    <tr>\n",
       "      <th>4</th>\n",
       "      <td>RAT</td>\n",
       "      <td>3BP5</td>\n",
       "      <td>Phosphoserine (by MAPK12)</td>\n",
       "    </tr>\n",
       "  </tbody>\n",
       "</table>\n",
       "</div>"
      ],
      "text/plain": [
       "  Organism Substrate                          kinase_type\n",
       "0    SHEEP     1433B                        Phosphoserine\n",
       "1    SHEEP     1433Z                        Phosphoserine\n",
       "2    LYCES      1A12                        Phosphoserine\n",
       "3      RAT      3BP5  Phosphoserine (by MAPK12 and MAPK9)\n",
       "4      RAT      3BP5            Phosphoserine (by MAPK12)"
      ]
     },
     "execution_count": 6,
     "metadata": {},
     "output_type": "execute_result"
    }
   ],
   "source": [
    "#View dataframe\n",
    "swiss.head()"
   ]
  },
  {
   "cell_type": "code",
   "execution_count": 7,
   "metadata": {},
   "outputs": [
    {
     "data": {
      "text/html": [
       "<div>\n",
       "<style>\n",
       "    .dataframe thead tr:only-child th {\n",
       "        text-align: right;\n",
       "    }\n",
       "\n",
       "    .dataframe thead th {\n",
       "        text-align: left;\n",
       "    }\n",
       "\n",
       "    .dataframe tbody tr th {\n",
       "        vertical-align: top;\n",
       "    }\n",
       "</style>\n",
       "<table border=\"1\" class=\"dataframe\">\n",
       "  <thead>\n",
       "    <tr style=\"text-align: right;\">\n",
       "      <th></th>\n",
       "      <th>Organism</th>\n",
       "      <th>Substrate</th>\n",
       "      <th>kinase_type</th>\n",
       "    </tr>\n",
       "  </thead>\n",
       "  <tbody>\n",
       "    <tr>\n",
       "      <th>5</th>\n",
       "      <td>Homo sapiens</td>\n",
       "      <td>41</td>\n",
       "      <td>Phosphothreonine (by CDC2)</td>\n",
       "    </tr>\n",
       "    <tr>\n",
       "      <th>6</th>\n",
       "      <td>Homo sapiens</td>\n",
       "      <td>41</td>\n",
       "      <td>Phosphotyrosine (by EGFR)</td>\n",
       "    </tr>\n",
       "    <tr>\n",
       "      <th>7</th>\n",
       "      <td>Homo sapiens</td>\n",
       "      <td>41</td>\n",
       "      <td>Phosphoserine (by CDC2)</td>\n",
       "    </tr>\n",
       "    <tr>\n",
       "      <th>9</th>\n",
       "      <td>Homo sapiens</td>\n",
       "      <td>A4</td>\n",
       "      <td>Phosphoserine (by CK2)</td>\n",
       "    </tr>\n",
       "    <tr>\n",
       "      <th>10</th>\n",
       "      <td>Homo sapiens</td>\n",
       "      <td>A4</td>\n",
       "      <td>Phosphoserine (by CK1)</td>\n",
       "    </tr>\n",
       "  </tbody>\n",
       "</table>\n",
       "</div>"
      ],
      "text/plain": [
       "        Organism Substrate                 kinase_type\n",
       "5   Homo sapiens        41  Phosphothreonine (by CDC2)\n",
       "6   Homo sapiens        41   Phosphotyrosine (by EGFR)\n",
       "7   Homo sapiens        41     Phosphoserine (by CDC2)\n",
       "9   Homo sapiens        A4      Phosphoserine (by CK2)\n",
       "10  Homo sapiens        A4      Phosphoserine (by CK1)"
      ]
     },
     "execution_count": 7,
     "metadata": {},
     "output_type": "execute_result"
    }
   ],
   "source": [
    "#Filter indices only for substrates/kinases pertaining to human and mouse data\n",
    "indices = [index for index, rowData in swiss.iterrows() \n",
    "           if rowData['Organism'] in ['Homo sapiens', \n",
    "                                      'Mus musculus']]\n",
    "#Create new dataframe using these indices\n",
    "swiss_filter = swiss.loc[indices]\n",
    "\n",
    "#View dataframe\n",
    "swiss_filter.head()"
   ]
  },
  {
   "cell_type": "markdown",
   "metadata": {},
   "source": [
    "## Filter 'Kinase_type' to Retrieve Kinases"
   ]
  },
  {
   "cell_type": "code",
   "execution_count": 8,
   "metadata": {},
   "outputs": [
    {
     "data": {
      "text/html": [
       "<div>\n",
       "<style>\n",
       "    .dataframe thead tr:only-child th {\n",
       "        text-align: right;\n",
       "    }\n",
       "\n",
       "    .dataframe thead th {\n",
       "        text-align: left;\n",
       "    }\n",
       "\n",
       "    .dataframe tbody tr th {\n",
       "        vertical-align: top;\n",
       "    }\n",
       "</style>\n",
       "<table border=\"1\" class=\"dataframe\">\n",
       "  <thead>\n",
       "    <tr style=\"text-align: right;\">\n",
       "      <th></th>\n",
       "      <th>kinase</th>\n",
       "      <th>Organism</th>\n",
       "      <th>Substrate</th>\n",
       "    </tr>\n",
       "  </thead>\n",
       "  <tbody>\n",
       "    <tr>\n",
       "      <th>5</th>\n",
       "      <td>CDC2</td>\n",
       "      <td>Homo sapiens</td>\n",
       "      <td>41</td>\n",
       "    </tr>\n",
       "    <tr>\n",
       "      <th>6</th>\n",
       "      <td>EGFR</td>\n",
       "      <td>Homo sapiens</td>\n",
       "      <td>41</td>\n",
       "    </tr>\n",
       "    <tr>\n",
       "      <th>7</th>\n",
       "      <td>CDC2</td>\n",
       "      <td>Homo sapiens</td>\n",
       "      <td>41</td>\n",
       "    </tr>\n",
       "    <tr>\n",
       "      <th>9</th>\n",
       "      <td>CK2</td>\n",
       "      <td>Homo sapiens</td>\n",
       "      <td>A4</td>\n",
       "    </tr>\n",
       "    <tr>\n",
       "      <th>10</th>\n",
       "      <td>CK1</td>\n",
       "      <td>Homo sapiens</td>\n",
       "      <td>A4</td>\n",
       "    </tr>\n",
       "  </tbody>\n",
       "</table>\n",
       "</div>"
      ],
      "text/plain": [
       "   kinase      Organism Substrate\n",
       "5    CDC2  Homo sapiens        41\n",
       "6    EGFR  Homo sapiens        41\n",
       "7    CDC2  Homo sapiens        41\n",
       "9     CK2  Homo sapiens        A4\n",
       "10    CK1  Homo sapiens        A4"
      ]
     },
     "execution_count": 8,
     "metadata": {},
     "output_type": "execute_result"
    }
   ],
   "source": [
    "#Insert new column, which will represent the 'kinase' for each substrate\n",
    "swiss_filter.insert(0, 'kinase', 'None')\n",
    "\n",
    "#Split string of 'kinase_type' to retrieve only individual kinase gene symbol\n",
    "for index, string in swiss_filter.kinase_type.iteritems():\n",
    "    s = string\n",
    "    if \"(\" in s:\n",
    "        s = string.split(\"(\", 2)[1]\n",
    "    if \" \" in s:\n",
    "        s = s.split(\" \", 2)[1]\n",
    "    if ')' in s:\n",
    "        s = s.split(\")\", 1)\n",
    "        swiss_filter.kinase[index] = s[0]\n",
    "\n",
    "\n",
    "#For rows without a specific kinase gene symbol, replace with NaN\n",
    "swiss_filter.replace(['Potential', 'similarity', \n",
    "                      'Phosphotyrosine', 'Phosphoserine', 'Phosphothreonine'],\n",
    "                     np.nan, inplace = True)\n",
    "\n",
    "#Drop all NaNs from the dataframe\n",
    "swiss_filter.dropna(inplace = True)\n",
    "\n",
    "#Drop 'kinase_type' column since it is no lnger needed\n",
    "swiss_filter.drop('kinase_type', axis = 1, inplace = True)\n",
    "\n",
    "#View dataframe\n",
    "swiss_filter.head()"
   ]
  },
  {
   "cell_type": "markdown",
   "metadata": {},
   "source": [
    "## Combine 'Kinase' and 'Organism' Column and Create new Dataframe"
   ]
  },
  {
   "cell_type": "code",
   "execution_count": 9,
   "metadata": {},
   "outputs": [
    {
     "data": {
      "text/html": [
       "<div>\n",
       "<style>\n",
       "    .dataframe thead tr:only-child th {\n",
       "        text-align: right;\n",
       "    }\n",
       "\n",
       "    .dataframe thead th {\n",
       "        text-align: left;\n",
       "    }\n",
       "\n",
       "    .dataframe tbody tr th {\n",
       "        vertical-align: top;\n",
       "    }\n",
       "</style>\n",
       "<table border=\"1\" class=\"dataframe\">\n",
       "  <thead>\n",
       "    <tr style=\"text-align: right;\">\n",
       "      <th></th>\n",
       "      <th>Substrate</th>\n",
       "      <th>Kinase_organism</th>\n",
       "    </tr>\n",
       "  </thead>\n",
       "  <tbody>\n",
       "    <tr>\n",
       "      <th>5</th>\n",
       "      <td>41</td>\n",
       "      <td>CDC2_Homo sapiens</td>\n",
       "    </tr>\n",
       "    <tr>\n",
       "      <th>6</th>\n",
       "      <td>41</td>\n",
       "      <td>EGFR_Homo sapiens</td>\n",
       "    </tr>\n",
       "    <tr>\n",
       "      <th>9</th>\n",
       "      <td>A4</td>\n",
       "      <td>CK2_Homo sapiens</td>\n",
       "    </tr>\n",
       "    <tr>\n",
       "      <th>10</th>\n",
       "      <td>A4</td>\n",
       "      <td>CK1_Homo sapiens</td>\n",
       "    </tr>\n",
       "    <tr>\n",
       "      <th>11</th>\n",
       "      <td>A4</td>\n",
       "      <td>None_Homo sapiens</td>\n",
       "    </tr>\n",
       "  </tbody>\n",
       "</table>\n",
       "</div>"
      ],
      "text/plain": [
       "   Substrate    Kinase_organism\n",
       "5         41  CDC2_Homo sapiens\n",
       "6         41  EGFR_Homo sapiens\n",
       "9         A4   CK2_Homo sapiens\n",
       "10        A4   CK1_Homo sapiens\n",
       "11        A4  None_Homo sapiens"
      ]
     },
     "execution_count": 9,
     "metadata": {},
     "output_type": "execute_result"
    }
   ],
   "source": [
    "#Create new column 'kinase_organism' joining together 'kinase' and 'Organism' columns\n",
    "swiss_filter['Kinase_organism'] = ['_'.join([rowData['kinase'], rowData['Organism']]) \n",
    "                                            for index, rowData in \n",
    "                                            swiss_filter.iterrows()]\n",
    "\n",
    "#Create new dataframe 'df_sig' and drop columns no longer needed\n",
    "df_sig = swiss_filter.drop('kinase', axis = 1)\n",
    "df_sig.drop('Organism', axis = 1, inplace = True)\n",
    "\n",
    "#Drop any duplicates in the dataframe\n",
    "df_sig.drop_duplicates(inplace = True)\n",
    "df = df_sig.drop_duplicates()\n",
    "\n",
    "#View dataframe\n",
    "df.head()"
   ]
  },
  {
   "cell_type": "markdown",
   "metadata": {},
   "source": [
    "## Create File of 'df' for Later Data Aggregation"
   ]
  },
  {
   "cell_type": "code",
   "execution_count": 10,
   "metadata": {
    "collapsed": true
   },
   "outputs": [],
   "source": [
    "#Create dictionary with index numbers as keys\n",
    "d = dict([(key, '') for key in df.index])\n",
    "\n",
    "# loop through rows with iterrows()\n",
    "for index, rowData in df.iterrows():\n",
    "    line = ('\\t'.join(rowData))\n",
    "    d[index] = line\n",
    "    \n",
    "#Transfer tab-separated info into a new txt file\n",
    "with open('Uncondensed_SwissProtE.txt', 'w') as openfile:\n",
    "    for index in d:\n",
    "        openfile.write(str(d[index]) + '\\n')"
   ]
  },
  {
   "cell_type": "markdown",
   "metadata": {},
   "source": [
    "## Set Index to 'Kinase_Organism' and Aggregate Kinase Targets"
   ]
  },
  {
   "cell_type": "code",
   "execution_count": 11,
   "metadata": {},
   "outputs": [
    {
     "data": {
      "text/html": [
       "<div>\n",
       "<style>\n",
       "    .dataframe thead tr:only-child th {\n",
       "        text-align: right;\n",
       "    }\n",
       "\n",
       "    .dataframe thead th {\n",
       "        text-align: left;\n",
       "    }\n",
       "\n",
       "    .dataframe tbody tr th {\n",
       "        vertical-align: top;\n",
       "    }\n",
       "</style>\n",
       "<table border=\"1\" class=\"dataframe\">\n",
       "  <thead>\n",
       "    <tr style=\"text-align: right;\">\n",
       "      <th></th>\n",
       "      <th>Description</th>\n",
       "      <th>Substrate</th>\n",
       "    </tr>\n",
       "    <tr>\n",
       "      <th>Kinase_organism</th>\n",
       "      <th></th>\n",
       "      <th></th>\n",
       "    </tr>\n",
       "  </thead>\n",
       "  <tbody>\n",
       "    <tr>\n",
       "      <th>ABL1_Mus musculus</th>\n",
       "      <td>Swiss-Prot Exp.</td>\n",
       "      <td>(CDK5,)</td>\n",
       "    </tr>\n",
       "    <tr>\n",
       "      <th>ABL2_Homo sapiens</th>\n",
       "      <td>Swiss-Prot Exp.</td>\n",
       "      <td>(SIVA,)</td>\n",
       "    </tr>\n",
       "    <tr>\n",
       "      <th>ABL_Homo sapiens</th>\n",
       "      <td>Swiss-Prot Exp.</td>\n",
       "      <td>(P73, PLS1, ROBO1)</td>\n",
       "    </tr>\n",
       "    <tr>\n",
       "      <th>ABL_Mus musculus</th>\n",
       "      <td>Swiss-Prot Exp.</td>\n",
       "      <td>(ENAH,)</td>\n",
       "    </tr>\n",
       "    <tr>\n",
       "      <th>ATM_Homo sapiens</th>\n",
       "      <td>Swiss-Prot Exp.</td>\n",
       "      <td>(BRCA1, RBBP8, SMC1A, TERF1)</td>\n",
       "    </tr>\n",
       "  </tbody>\n",
       "</table>\n",
       "</div>"
      ],
      "text/plain": [
       "                       Description                     Substrate\n",
       "Kinase_organism                                                 \n",
       "ABL1_Mus musculus  Swiss-Prot Exp.                       (CDK5,)\n",
       "ABL2_Homo sapiens  Swiss-Prot Exp.                       (SIVA,)\n",
       "ABL_Homo sapiens   Swiss-Prot Exp.            (P73, PLS1, ROBO1)\n",
       "ABL_Mus musculus   Swiss-Prot Exp.                       (ENAH,)\n",
       "ATM_Homo sapiens   Swiss-Prot Exp.  (BRCA1, RBBP8, SMC1A, TERF1)"
      ]
     },
     "execution_count": 11,
     "metadata": {},
     "output_type": "execute_result"
    }
   ],
   "source": [
    "#Set index to 'Kinase_organism'\n",
    "df.set_index('Kinase_organism')\n",
    "\n",
    "#Group kinases in dataframe 'kin'\n",
    "#Aggregate data in 'kin' according to kinase groups\n",
    "kin = df.groupby('Kinase_organism').agg(lambda x: tuple(x))\n",
    "\n",
    "#Create a new column 'Swiss-Prot Exp.' as description of data\n",
    "kin.insert(0, 'Description', 'Swiss-Prot Exp.')\n",
    "\n",
    "#Visualize Data\n",
    "kin.head()"
   ]
  },
  {
   "cell_type": "markdown",
   "metadata": {},
   "source": [
    "# Exploratory Data Analysis"
   ]
  },
  {
   "cell_type": "markdown",
   "metadata": {},
   "source": [
    "## Calculate Number of Protein targets for each kinase\n",
    "Create a new column with the number of substrates relaed to each kinase, and sort the dataframe by this column"
   ]
  },
  {
   "cell_type": "code",
   "execution_count": 12,
   "metadata": {},
   "outputs": [
    {
     "data": {
      "text/html": [
       "<div>\n",
       "<style>\n",
       "    .dataframe thead tr:only-child th {\n",
       "        text-align: right;\n",
       "    }\n",
       "\n",
       "    .dataframe thead th {\n",
       "        text-align: left;\n",
       "    }\n",
       "\n",
       "    .dataframe tbody tr th {\n",
       "        vertical-align: top;\n",
       "    }\n",
       "</style>\n",
       "<table border=\"1\" class=\"dataframe\">\n",
       "  <thead>\n",
       "    <tr style=\"text-align: right;\">\n",
       "      <th></th>\n",
       "      <th>Description</th>\n",
       "      <th>Substrate</th>\n",
       "      <th>kinase_substrate_num</th>\n",
       "    </tr>\n",
       "    <tr>\n",
       "      <th>Kinase_organism</th>\n",
       "      <th></th>\n",
       "      <th></th>\n",
       "      <th></th>\n",
       "    </tr>\n",
       "  </thead>\n",
       "  <tbody>\n",
       "    <tr>\n",
       "      <th>autocatalysis_Homo sapiens</th>\n",
       "      <td>Swiss-Prot Exp.</td>\n",
       "      <td>(ABL2, BRAF1, DAPK1, DAPK2, DYR1B, E2AK2, EGFR...</td>\n",
       "      <td>33</td>\n",
       "    </tr>\n",
       "    <tr>\n",
       "      <th>None_Homo sapiens</th>\n",
       "      <td>Swiss-Prot Exp.</td>\n",
       "      <td>(A4, ADDA, ADDB, ICK, IF2A, IKBA, JIP1, K2C8, ...</td>\n",
       "      <td>27</td>\n",
       "    </tr>\n",
       "    <tr>\n",
       "      <th>PKA_Homo sapiens</th>\n",
       "      <td>Swiss-Prot Exp.</td>\n",
       "      <td>(ABCA1, ADDA, ADDB, ADRB2, AP2A, AQP2, AT2B1, ...</td>\n",
       "      <td>19</td>\n",
       "    </tr>\n",
       "    <tr>\n",
       "      <th>PKC_Homo sapiens</th>\n",
       "      <td>Swiss-Prot Exp.</td>\n",
       "      <td>(ADDA, ADDB, ANXA1, ANXA2, AT2B1, CD44, CFTR, ...</td>\n",
       "      <td>16</td>\n",
       "    </tr>\n",
       "    <tr>\n",
       "      <th>None_Mus musculus</th>\n",
       "      <td>Swiss-Prot Exp.</td>\n",
       "      <td>(A4, BAD, CABL1, HSPB1, IF2A, MK01, MK08, MK09...</td>\n",
       "      <td>13</td>\n",
       "    </tr>\n",
       "  </tbody>\n",
       "</table>\n",
       "</div>"
      ],
      "text/plain": [
       "                                Description  \\\n",
       "Kinase_organism                               \n",
       "autocatalysis_Homo sapiens  Swiss-Prot Exp.   \n",
       "None_Homo sapiens           Swiss-Prot Exp.   \n",
       "PKA_Homo sapiens            Swiss-Prot Exp.   \n",
       "PKC_Homo sapiens            Swiss-Prot Exp.   \n",
       "None_Mus musculus           Swiss-Prot Exp.   \n",
       "\n",
       "                                                                    Substrate  \\\n",
       "Kinase_organism                                                                 \n",
       "autocatalysis_Homo sapiens  (ABL2, BRAF1, DAPK1, DAPK2, DYR1B, E2AK2, EGFR...   \n",
       "None_Homo sapiens           (A4, ADDA, ADDB, ICK, IF2A, IKBA, JIP1, K2C8, ...   \n",
       "PKA_Homo sapiens            (ABCA1, ADDA, ADDB, ADRB2, AP2A, AQP2, AT2B1, ...   \n",
       "PKC_Homo sapiens            (ADDA, ADDB, ANXA1, ANXA2, AT2B1, CD44, CFTR, ...   \n",
       "None_Mus musculus           (A4, BAD, CABL1, HSPB1, IF2A, MK01, MK08, MK09...   \n",
       "\n",
       "                            kinase_substrate_num  \n",
       "Kinase_organism                                   \n",
       "autocatalysis_Homo sapiens                    33  \n",
       "None_Homo sapiens                             27  \n",
       "PKA_Homo sapiens                              19  \n",
       "PKC_Homo sapiens                              16  \n",
       "None_Mus musculus                             13  "
      ]
     },
     "execution_count": 12,
     "metadata": {},
     "output_type": "execute_result"
    }
   ],
   "source": [
    "# Create column representing counts of protein targets per kinase\n",
    "kin['kinase_substrate_num'] = [len(lst) for kinase, lst in kin['Substrate'].iteritems()]\n",
    "\n",
    "# Sort kinases from max to min according to number of protein targets each has\n",
    "kin.sort_values(by = ['kinase_substrate_num'], ascending= False, inplace=True)\n",
    "\n",
    "# View dataframe\n",
    "kin.head()"
   ]
  },
  {
   "cell_type": "markdown",
   "metadata": {},
   "source": [
    "## Create Histogram to display distribution of number of targets per kinase"
   ]
  },
  {
   "cell_type": "code",
   "execution_count": 19,
   "metadata": {},
   "outputs": [
    {
     "data": {
      "image/png": "[encoded data removed]",
      "text/plain": [
       "<matplotlib.figure.Figure at 0x7f6bfba78a90>"
      ]
     },
     "metadata": {},
     "output_type": "display_data"
    }
   ],
   "source": [
    "# Create histogram displaying the distribution of the number\n",
    "#targets per kinase\n",
    "kin.plot.hist(by = 'kinase_substrate_num', bins = 63)\n",
    "\n",
    "#Show histogram\n",
    "plt.show()"
   ]
  },
  {
   "cell_type": "markdown",
   "metadata": {},
   "source": [
    "## Filter Dataframe by the Number of Substrates for each Kinase\n",
    "If the kinase has fewer than five targets, this kinase will not be included in the final .gmt file. Instead, its information will be carried over into a .sig file."
   ]
  },
  {
   "cell_type": "code",
   "execution_count": 13,
   "metadata": {},
   "outputs": [
    {
     "data": {
      "text/html": [
       "<div>\n",
       "<style>\n",
       "    .dataframe thead tr:only-child th {\n",
       "        text-align: right;\n",
       "    }\n",
       "\n",
       "    .dataframe thead th {\n",
       "        text-align: left;\n",
       "    }\n",
       "\n",
       "    .dataframe tbody tr th {\n",
       "        vertical-align: top;\n",
       "    }\n",
       "</style>\n",
       "<table border=\"1\" class=\"dataframe\">\n",
       "  <thead>\n",
       "    <tr style=\"text-align: right;\">\n",
       "      <th></th>\n",
       "      <th>Substrate</th>\n",
       "      <th>Kinase_organism</th>\n",
       "    </tr>\n",
       "  </thead>\n",
       "  <tbody>\n",
       "    <tr>\n",
       "      <th>5</th>\n",
       "      <td>41</td>\n",
       "      <td>CDC2_Homo sapiens</td>\n",
       "    </tr>\n",
       "    <tr>\n",
       "      <th>6</th>\n",
       "      <td>41</td>\n",
       "      <td>EGFR_Homo sapiens</td>\n",
       "    </tr>\n",
       "    <tr>\n",
       "      <th>9</th>\n",
       "      <td>A4</td>\n",
       "      <td>CK2_Homo sapiens</td>\n",
       "    </tr>\n",
       "    <tr>\n",
       "      <th>10</th>\n",
       "      <td>A4</td>\n",
       "      <td>CK1_Homo sapiens</td>\n",
       "    </tr>\n",
       "    <tr>\n",
       "      <th>11</th>\n",
       "      <td>A4</td>\n",
       "      <td>None_Homo sapiens</td>\n",
       "    </tr>\n",
       "  </tbody>\n",
       "</table>\n",
       "</div>"
      ],
      "text/plain": [
       "   Substrate    Kinase_organism\n",
       "5         41  CDC2_Homo sapiens\n",
       "6         41  EGFR_Homo sapiens\n",
       "9         A4   CK2_Homo sapiens\n",
       "10        A4   CK1_Homo sapiens\n",
       "11        A4  None_Homo sapiens"
      ]
     },
     "execution_count": 13,
     "metadata": {},
     "output_type": "execute_result"
    }
   ],
   "source": [
    "df_sig.head()"
   ]
  },
  {
   "cell_type": "code",
   "execution_count": 15,
   "metadata": {
    "collapsed": true
   },
   "outputs": [],
   "source": [
    "#Create list of indexes(kinase names) for kinases with fewer than five substrates\n",
    "sig_key = [index for index, rowData in kin.kinase_substrate_num.iteritems() if rowData < 5 ]\n",
    "\n",
    "#Create dataframe of only kinases with five or fewer substrates\n",
    "sig = df_sig.set_index('Kinase_organism').loc[sig_key]\n",
    "\n",
    "#Reset index of new dataframe\n",
    "sig.reset_index(inplace = True)\n",
    "\n",
    "#Rename columns of this dataframe to match .sig format\n",
    "colnames = ['Source', 'Substrate']\n",
    "sig.columns = colnames"
   ]
  },
  {
   "cell_type": "code",
   "execution_count": 16,
   "metadata": {},
   "outputs": [
    {
     "data": {
      "text/html": [
       "<div>\n",
       "<style>\n",
       "    .dataframe thead tr:only-child th {\n",
       "        text-align: right;\n",
       "    }\n",
       "\n",
       "    .dataframe thead th {\n",
       "        text-align: left;\n",
       "    }\n",
       "\n",
       "    .dataframe tbody tr th {\n",
       "        vertical-align: top;\n",
       "    }\n",
       "</style>\n",
       "<table border=\"1\" class=\"dataframe\">\n",
       "  <thead>\n",
       "    <tr style=\"text-align: right;\">\n",
       "      <th></th>\n",
       "      <th>Source</th>\n",
       "      <th>NA-1</th>\n",
       "      <th>NA-2</th>\n",
       "      <th>NA-3</th>\n",
       "      <th>NA-4</th>\n",
       "      <th>Substrate</th>\n",
       "      <th>Sign</th>\n",
       "      <th>Interaction</th>\n",
       "      <th>Reference</th>\n",
       "    </tr>\n",
       "  </thead>\n",
       "  <tbody>\n",
       "    <tr>\n",
       "      <th>0</th>\n",
       "      <td>PDPK1_Homo sapiens</td>\n",
       "      <td>nan</td>\n",
       "      <td>nan</td>\n",
       "      <td>nan</td>\n",
       "      <td>nan</td>\n",
       "      <td>AKT1</td>\n",
       "      <td>?</td>\n",
       "      <td>Phosphorylation</td>\n",
       "      <td>Huang, H.-D., Lee, T.-Y., Tzeng, S.-W., &amp; Horn...</td>\n",
       "    </tr>\n",
       "    <tr>\n",
       "      <th>1</th>\n",
       "      <td>PDPK1_Homo sapiens</td>\n",
       "      <td>nan</td>\n",
       "      <td>nan</td>\n",
       "      <td>nan</td>\n",
       "      <td>nan</td>\n",
       "      <td>SGK1</td>\n",
       "      <td>?</td>\n",
       "      <td>Phosphorylation</td>\n",
       "      <td>Huang, H.-D., Lee, T.-Y., Tzeng, S.-W., &amp; Horn...</td>\n",
       "    </tr>\n",
       "    <tr>\n",
       "      <th>2</th>\n",
       "      <td>PDPK1_Homo sapiens</td>\n",
       "      <td>nan</td>\n",
       "      <td>nan</td>\n",
       "      <td>nan</td>\n",
       "      <td>nan</td>\n",
       "      <td>SGK2</td>\n",
       "      <td>?</td>\n",
       "      <td>Phosphorylation</td>\n",
       "      <td>Huang, H.-D., Lee, T.-Y., Tzeng, S.-W., &amp; Horn...</td>\n",
       "    </tr>\n",
       "    <tr>\n",
       "      <th>3</th>\n",
       "      <td>PDPK1_Homo sapiens</td>\n",
       "      <td>nan</td>\n",
       "      <td>nan</td>\n",
       "      <td>nan</td>\n",
       "      <td>nan</td>\n",
       "      <td>SGK3</td>\n",
       "      <td>?</td>\n",
       "      <td>Phosphorylation</td>\n",
       "      <td>Huang, H.-D., Lee, T.-Y., Tzeng, S.-W., &amp; Horn...</td>\n",
       "    </tr>\n",
       "    <tr>\n",
       "      <th>4</th>\n",
       "      <td>MAPK_Homo sapiens</td>\n",
       "      <td>nan</td>\n",
       "      <td>nan</td>\n",
       "      <td>nan</td>\n",
       "      <td>nan</td>\n",
       "      <td>ADA17</td>\n",
       "      <td>?</td>\n",
       "      <td>Phosphorylation</td>\n",
       "      <td>Huang, H.-D., Lee, T.-Y., Tzeng, S.-W., &amp; Horn...</td>\n",
       "    </tr>\n",
       "  </tbody>\n",
       "</table>\n",
       "</div>"
      ],
      "text/plain": [
       "               Source NA-1 NA-2 NA-3 NA-4 Substrate Sign      Interaction  \\\n",
       "0  PDPK1_Homo sapiens  nan  nan  nan  nan      AKT1    ?  Phosphorylation   \n",
       "1  PDPK1_Homo sapiens  nan  nan  nan  nan      SGK1    ?  Phosphorylation   \n",
       "2  PDPK1_Homo sapiens  nan  nan  nan  nan      SGK2    ?  Phosphorylation   \n",
       "3  PDPK1_Homo sapiens  nan  nan  nan  nan      SGK3    ?  Phosphorylation   \n",
       "4   MAPK_Homo sapiens  nan  nan  nan  nan     ADA17    ?  Phosphorylation   \n",
       "\n",
       "                                           Reference  \n",
       "0  Huang, H.-D., Lee, T.-Y., Tzeng, S.-W., & Horn...  \n",
       "1  Huang, H.-D., Lee, T.-Y., Tzeng, S.-W., & Horn...  \n",
       "2  Huang, H.-D., Lee, T.-Y., Tzeng, S.-W., & Horn...  \n",
       "3  Huang, H.-D., Lee, T.-Y., Tzeng, S.-W., & Horn...  \n",
       "4  Huang, H.-D., Lee, T.-Y., Tzeng, S.-W., & Horn...  "
      ]
     },
     "execution_count": 16,
     "metadata": {},
     "output_type": "execute_result"
    }
   ],
   "source": [
    "#Insert first four columns for .sig file format (NaNs)\n",
    "sig.insert(1, 'NA-1', str(np.nan))\n",
    "sig.insert(2, 'NA-2', str(np.nan))\n",
    "sig.insert(3, 'NA-3', str(np.nan))\n",
    "sig.insert(4, 'NA-4', str(np.nan))\n",
    "\n",
    "#Insert column corresponding to sign (with '?' because it is unknown)\n",
    "sig.insert(6, 'Sign', '?')\n",
    "\n",
    "#Insert column specifying interaction type as phosphorylation\n",
    "sig.insert(7, 'Interaction', 'Phosphorylation')\n",
    "\n",
    "#Insert 'Reference' column as the citation of NetworKIN paper, as no other citation\n",
    "#was provided\n",
    "#Insert column specifying interaction type as phosphorylation\n",
    "sig.insert(8, 'Reference', \"Huang, H.-D., Lee, T.-Y., Tzeng, S.-W., & Horng, J.-T. (2005). KinasePhos: a web tool for identifying protein kinase-specific phosphorylation sites. Nucleic Acids Research, 33(Web Server issue), W226–W229.\") \n",
    "#View dataframe\n",
    "sig.head()"
   ]
  },
  {
   "cell_type": "code",
   "execution_count": 17,
   "metadata": {
    "collapsed": true
   },
   "outputs": [],
   "source": [
    "#Set indices for dataframe 'kin' of kinases with five or more substrates\n",
    "indices = [index for index in kin.index if index not in sig_key]\n",
    "\n",
    "#Remove kinases with fewer than five substrates in 'kin'\n",
    "kin = kin.loc[indices]"
   ]
  },
  {
   "cell_type": "markdown",
   "metadata": {},
   "source": [
    "## Create a .Sig File"
   ]
  },
  {
   "cell_type": "code",
   "execution_count": 18,
   "metadata": {
    "collapsed": true
   },
   "outputs": [],
   "source": [
    "#Create dictionary 'sigd' with index numbers as keys\n",
    "sigd = dict([(key, '') for key in sig.index])\n",
    "\n",
    "# loop through rows with iterrows()\n",
    "for index, rowData in sig.iterrows():\n",
    "    line = ('\\t'.join(rowData))\n",
    "    sigd[index] = line\n",
    "    \n",
    "#Transfer tab-separated info into a new txt file\n",
    "#Make sure to include in ReadMe corresponding column names\n",
    "with open('SwissProtExp.sig', 'w') as openfile:\n",
    "    for index in sigd:\n",
    "        openfile.write(str(sigd[index]) + '\\n')"
   ]
  },
  {
   "cell_type": "markdown",
   "metadata": {},
   "source": [
    "# Creation of Final .GMT File"
   ]
  },
  {
   "cell_type": "markdown",
   "metadata": {},
   "source": [
    "## Create dictionary of Tab-Separated Rows of the Dataframe"
   ]
  },
  {
   "cell_type": "code",
   "execution_count": 20,
   "metadata": {},
   "outputs": [
    {
     "data": {
      "text/html": [
       "<div>\n",
       "<style>\n",
       "    .dataframe thead tr:only-child th {\n",
       "        text-align: right;\n",
       "    }\n",
       "\n",
       "    .dataframe thead th {\n",
       "        text-align: left;\n",
       "    }\n",
       "\n",
       "    .dataframe tbody tr th {\n",
       "        vertical-align: top;\n",
       "    }\n",
       "</style>\n",
       "<table border=\"1\" class=\"dataframe\">\n",
       "  <thead>\n",
       "    <tr style=\"text-align: right;\">\n",
       "      <th></th>\n",
       "      <th>Kinase_organism</th>\n",
       "      <th>Description</th>\n",
       "      <th>target_merged</th>\n",
       "    </tr>\n",
       "  </thead>\n",
       "  <tbody>\n",
       "    <tr>\n",
       "      <th>0</th>\n",
       "      <td>autocatalysis_Homo sapiens</td>\n",
       "      <td>Swiss-Prot Exp.</td>\n",
       "      <td>ABL2\\tBRAF1\\tDAPK1\\tDAPK2\\tDYR1B\\tE2AK2\\tEGFR\\...</td>\n",
       "    </tr>\n",
       "    <tr>\n",
       "      <th>1</th>\n",
       "      <td>None_Homo sapiens</td>\n",
       "      <td>Swiss-Prot Exp.</td>\n",
       "      <td>A4\\tADDA\\tADDB\\tICK\\tIF2A\\tIKBA\\tJIP1\\tK2C8\\tK...</td>\n",
       "    </tr>\n",
       "    <tr>\n",
       "      <th>2</th>\n",
       "      <td>PKA_Homo sapiens</td>\n",
       "      <td>Swiss-Prot Exp.</td>\n",
       "      <td>ABCA1\\tADDA\\tADDB\\tADRB2\\tAP2A\\tAQP2\\tAT2B1\\tC...</td>\n",
       "    </tr>\n",
       "    <tr>\n",
       "      <th>3</th>\n",
       "      <td>PKC_Homo sapiens</td>\n",
       "      <td>Swiss-Prot Exp.</td>\n",
       "      <td>ADDA\\tADDB\\tANXA1\\tANXA2\\tAT2B1\\tCD44\\tCFTR\\tE...</td>\n",
       "    </tr>\n",
       "    <tr>\n",
       "      <th>4</th>\n",
       "      <td>None_Mus musculus</td>\n",
       "      <td>Swiss-Prot Exp.</td>\n",
       "      <td>A4\\tBAD\\tCABL1\\tHSPB1\\tIF2A\\tMK01\\tMK08\\tMK09\\...</td>\n",
       "    </tr>\n",
       "  </tbody>\n",
       "</table>\n",
       "</div>"
      ],
      "text/plain": [
       "              Kinase_organism      Description  \\\n",
       "0  autocatalysis_Homo sapiens  Swiss-Prot Exp.   \n",
       "1           None_Homo sapiens  Swiss-Prot Exp.   \n",
       "2            PKA_Homo sapiens  Swiss-Prot Exp.   \n",
       "3            PKC_Homo sapiens  Swiss-Prot Exp.   \n",
       "4           None_Mus musculus  Swiss-Prot Exp.   \n",
       "\n",
       "                                       target_merged  \n",
       "0  ABL2\\tBRAF1\\tDAPK1\\tDAPK2\\tDYR1B\\tE2AK2\\tEGFR\\...  \n",
       "1  A4\\tADDA\\tADDB\\tICK\\tIF2A\\tIKBA\\tJIP1\\tK2C8\\tK...  \n",
       "2  ABCA1\\tADDA\\tADDB\\tADRB2\\tAP2A\\tAQP2\\tAT2B1\\tC...  \n",
       "3  ADDA\\tADDB\\tANXA1\\tANXA2\\tAT2B1\\tCD44\\tCFTR\\tE...  \n",
       "4  A4\\tBAD\\tCABL1\\tHSPB1\\tIF2A\\tMK01\\tMK08\\tMK09\\...  "
      ]
     },
     "execution_count": 20,
     "metadata": {},
     "output_type": "execute_result"
    }
   ],
   "source": [
    "#Reset index of the dataframe\n",
    "kin.reset_index(inplace = True)\n",
    "\n",
    "#create column 'acc_merged' in which all 'acc' elements are joined by a \\t symbol\n",
    "kin['target_merged'] = ['\\t'.join(x) for x in kin['Substrate']]\n",
    "\n",
    "#drop the now-unneccesary column 'Substrates'\n",
    "kin.drop('Substrate', axis=1, inplace = True)\n",
    "\n",
    "#also drop the data-exploratory column 'kinase_substrate_num'\n",
    "kin.drop('kinase_substrate_num', axis=1, inplace = True)\n",
    "\n",
    "#View dataframe\n",
    "kin.head()"
   ]
  },
  {
   "cell_type": "code",
   "execution_count": 21,
   "metadata": {
    "collapsed": true
   },
   "outputs": [],
   "source": [
    "#Create dictionary 'SwissProt' with index numbers as keys\n",
    "SwissProt_num = dict([(key, '') for key in kin.index])\n",
    "\n",
    "# loop through rows with iterrows()\n",
    "for index, rowData in kin.iterrows():\n",
    "    line = ('\\t'.join((rowData)))\n",
    "    SwissProt_num[index] = line"
   ]
  },
  {
   "cell_type": "markdown",
   "metadata": {},
   "source": [
    "## Write Info from Dictionary into a .GMT file"
   ]
  },
  {
   "cell_type": "code",
   "execution_count": 22,
   "metadata": {
    "collapsed": true
   },
   "outputs": [],
   "source": [
    "#Transfer tab-separated info into a new txt file\n",
    "with open('SwissProtexp.gmt', 'w') as openfile:\n",
    "    for index in SwissProt_num:\n",
    "        openfile.write(str(SwissProt_num[index]) + '\\n')"
   ]
  }
 ],
 "metadata": {
  "kernelspec": {
   "display_name": "Python 3",
   "language": "python",
   "name": "python3"
  },
  "language_info": {
   "codemirror_mode": {
    "name": "ipython",
    "version": 3
   },
   "file_extension": ".py",
   "mimetype": "text/x-python",
   "name": "python",
   "nbconvert_exporter": "python",
   "pygments_lexer": "ipython3",
   "version": "3.6.1"
  }
 },
 "nbformat": 4,
 "nbformat_minor": 2
}
