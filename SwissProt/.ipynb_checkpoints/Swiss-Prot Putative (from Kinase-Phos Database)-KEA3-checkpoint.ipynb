{
 "cells": [
  {
   "cell_type": "markdown",
   "metadata": {},
   "source": [
    "## Swiss-Prot (Putative) Data Formatting\n",
    "This file takes data regarding kinase-protein interactions from the Swiss-Prot database (accessed through the Kinase-Phos database) and converts the data regarding experimental interactions into the .gmt format. The data was retrieved from the Kinase-Phos database on Mon, Jun 19 2017 at 11:13:24. This data will be added to enhance the KEA2 database and will be suitable formatted for use by ENRICHR and X2K. the citation for the data used in this script is \"Huang, H.-D., Lee, T.-Y., Tzeng, S.-W., & Horng, J.-T. (2005). KinasePhos: a web tool for identifying protein kinase-specific phosphorylation sites. Nucleic Acids Research, 33(Web Server issue), W226–W229.\" and can also be found on the corresponding gh.pages website."
   ]
  },
  {
   "cell_type": "markdown",
   "metadata": {},
   "source": [
    "## Import packages necessary for following program"
   ]
  },
  {
   "cell_type": "code",
   "execution_count": 1,
   "metadata": {
    "collapsed": true
   },
   "outputs": [],
   "source": [
    "%run /home/maayanlab/Desktop/Projects/KEA3/Scripts/init.ipy"
   ]
  },
  {
   "cell_type": "markdown",
   "metadata": {},
   "source": [
    "## Create a dataframe form a file containing Swiss-Prot Putative data"
   ]
  },
  {
   "cell_type": "code",
   "execution_count": null,
   "metadata": {},
   "outputs": [
    {
     "name": "stderr",
     "output_type": "stream",
     "text": [
      "/home/maayanlab/anaconda3/lib/python3.6/site-packages/ipykernel_launcher.py:10: SettingWithCopyWarning: \n",
      "A value is trying to be set on a copy of a slice from a DataFrame\n",
      "\n",
      "See the caveats in the documentation: http://pandas.pydata.org/pandas-docs/stable/indexing.html#indexing-view-versus-copy\n",
      "  # Remove the CWD from sys.path while we load stuff.\n"
     ]
    },
    {
     "data": {
      "text/html": [
       "<div>\n",
       "<style>\n",
       "    .dataframe thead tr:only-child th {\n",
       "        text-align: right;\n",
       "    }\n",
       "\n",
       "    .dataframe thead th {\n",
       "        text-align: left;\n",
       "    }\n",
       "\n",
       "    .dataframe tbody tr th {\n",
       "        vertical-align: top;\n",
       "    }\n",
       "</style>\n",
       "<table border=\"1\" class=\"dataframe\">\n",
       "  <thead>\n",
       "    <tr style=\"text-align: right;\">\n",
       "      <th></th>\n",
       "      <th>Substrate</th>\n",
       "      <th>kinase_type</th>\n",
       "    </tr>\n",
       "  </thead>\n",
       "  <tbody>\n",
       "    <tr>\n",
       "      <th>0</th>\n",
       "      <td>1433B_BOVIN</td>\n",
       "      <td>Phosphoserine (By similarity)</td>\n",
       "    </tr>\n",
       "    <tr>\n",
       "      <th>1</th>\n",
       "      <td>1433B_HUMAN</td>\n",
       "      <td>Phosphoserine (By similarity)</td>\n",
       "    </tr>\n",
       "    <tr>\n",
       "      <th>2</th>\n",
       "      <td>1433B_MOUSE</td>\n",
       "      <td>Phosphoserine (By similarity)</td>\n",
       "    </tr>\n",
       "    <tr>\n",
       "      <th>3</th>\n",
       "      <td>1433B_RAT</td>\n",
       "      <td>Phosphoserine (By similarity)</td>\n",
       "    </tr>\n",
       "    <tr>\n",
       "      <th>4</th>\n",
       "      <td>1433Z_BOVIN</td>\n",
       "      <td>Phosphoserine (By similarity)</td>\n",
       "    </tr>\n",
       "  </tbody>\n",
       "</table>\n",
       "</div>"
      ],
      "text/plain": [
       "     Substrate                    kinase_type\n",
       "0  1433B_BOVIN  Phosphoserine (By similarity)\n",
       "1  1433B_HUMAN  Phosphoserine (By similarity)\n",
       "2  1433B_MOUSE  Phosphoserine (By similarity)\n",
       "3    1433B_RAT  Phosphoserine (By similarity)\n",
       "4  1433Z_BOVIN  Phosphoserine (By similarity)"
      ]
     },
     "execution_count": 2,
     "metadata": {},
     "output_type": "execute_result"
    }
   ],
   "source": [
    "#Read in dataframe (including empty columns pd.read_table() sees)\n",
    "s = pd.read_table('~/Desktop/Projects/KEA3/Swiss_phos_putative(1).tab',\n",
    "                      names = ['Substrate', 'Pos', 'kinase_type', 'sequence',\n",
    "                               ''])\n",
    "\n",
    "#Filter out empty columns and remove unnecessary\n",
    "#'sequence' and 'Pos' column\n",
    "swiss = s[['Substrate', 'kinase_type']]\n",
    "\n",
    "swiss.drop_duplicates(inplace = True)\n",
    "\n",
    "#View dataframe\n",
    "swiss.head()"
   ]
  },
  {
   "cell_type": "markdown",
   "metadata": {},
   "source": [
    "## Filter by organism (Human and Mouse)"
   ]
  },
  {
   "cell_type": "code",
   "execution_count": null,
   "metadata": {},
   "outputs": [
    {
     "name": "stderr",
     "output_type": "stream",
     "text": [
      "/home/maayanlab/anaconda3/lib/python3.6/site-packages/IPython/core/interactiveshell.py:2881: SettingWithCopyWarning: \n",
      "A value is trying to be set on a copy of a slice from a DataFrame\n",
      "\n",
      "See the caveats in the documentation: http://pandas.pydata.org/pandas-docs/stable/indexing.html#indexing-view-versus-copy\n",
      "  exec(code_obj, self.user_global_ns, self.user_ns)\n"
     ]
    }
   ],
   "source": [
    "#Create new column 'Organism'\n",
    "swiss.insert(0, \"Organism\", \"None\")\n",
    "\n",
    "#Separate species and substrate names from each other\n",
    "#Store substrate name alone and organism alone in separate  column\n",
    "for index, string in swiss.Substrate.iteritems():\n",
    "    swiss.Organism[index] = string.split(\"_\", 2)[1]\n",
    "    swiss.Substrate[index] = string.split(\"_\", 2)[0]"
   ]
  },
  {
   "cell_type": "code",
   "execution_count": null,
   "metadata": {},
   "outputs": [],
   "source": [
    "#Replace common names for human and mouse with scientific names\n",
    "swiss.replace('HUMAN', 'Homo sapiens', inplace = True)\n",
    "swiss.replace('MOUSE', 'Mus musculus', inplace = True)"
   ]
  },
  {
   "cell_type": "code",
   "execution_count": null,
   "metadata": {},
   "outputs": [],
   "source": [
    "#View dataframe\n",
    "swiss.head()"
   ]
  },
  {
   "cell_type": "code",
   "execution_count": null,
   "metadata": {},
   "outputs": [],
   "source": [
    "#Filter indices only for substrates/kinases pertaining to human and mouse data\n",
    "indices = [index for index, rowData in swiss.iterrows() \n",
    "           if rowData['Organism'] in ['Homo sapiens', \n",
    "                                      'Mus musculus']]\n",
    "#Create new dataframe using these indices\n",
    "swiss_filter = swiss.loc[indices]\n",
    "\n",
    "#View dataframe\n",
    "swiss_filter.head()"
   ]
  },
  {
   "cell_type": "markdown",
   "metadata": {},
   "source": [
    "## Filter 'Kinase_type' to Retrieve Kinases"
   ]
  },
  {
   "cell_type": "code",
   "execution_count": null,
   "metadata": {
    "collapsed": true
   },
   "outputs": [],
   "source": [
    "#Insert new column, which will represent the 'kinase' for each substrate\n",
    "swiss_filter.insert(0, 'kinase', 'None')"
   ]
  },
  {
   "cell_type": "code",
   "execution_count": null,
   "metadata": {},
   "outputs": [],
   "source": [
    "#Split string of 'kinase_type' to retrieve only individual kinase gene symbol\n",
    "for index, string in swiss_filter.kinase_type.iteritems():\n",
    "    s = string\n",
    "    if \"(\" in s:\n",
    "        s = string.split(\"(\", 2)[1]\n",
    "    if \" \" in s:\n",
    "        s = s.split(\" \", 2)[1]\n",
    "    if ')' in s:\n",
    "        s = s.split(\")\", 1)\n",
    "        swiss_filter.kinase[index] = s[0]\n",
    "\n",
    "\n",
    "#For rows without a specific kinase gene symbol, replace with NaN\n",
    "swiss_filter.replace(['Potential', 'similarity', 'None', 'partial',\n",
    "                      'Phosphotyrosine', 'Phosphoserine', 'Phosphothreonine'],\n",
    "                     np.nan, inplace = True)\n",
    "\n",
    "#Drop all NaNs from the dataframe\n",
    "swiss_filter.dropna(inplace = True)\n",
    "\n",
    "#Drop 'kinase_type' column since it is no lnger needed\n",
    "swiss_filter.drop('kinase_type', axis = 1, inplace = True)\n",
    "\n",
    "#View dataframe\n",
    "swiss_filter.head()"
   ]
  },
  {
   "cell_type": "markdown",
   "metadata": {},
   "source": [
    "## Combine 'Kinase' and 'Organism' Column and Create New Dataframe"
   ]
  },
  {
   "cell_type": "code",
   "execution_count": null,
   "metadata": {},
   "outputs": [],
   "source": [
    "#Create new column 'kinase_organism' joining together 'kinase' and 'Organism' columns\n",
    "swiss_filter['Kinase_organism'] = ['_'.join([rowData['kinase'], rowData['Organism']]) \n",
    "                                            for index, rowData in \n",
    "                                            swiss_filter.iterrows()]\n",
    "\n",
    "#Create new dataframe 'df_sig' and drop columns no longer needed\n",
    "df_sig = swiss_filter.drop('kinase', axis = 1)\n",
    "df_sig.drop('Organism', axis = 1, inplace = True)\n",
    "\n",
    "#Drop any duplicates in the dataframe\n",
    "df_sig.drop_duplicates(inplace = True)\n",
    "df = df_sig.drop_duplicates()\n",
    "\n",
    "#View dataframe\n",
    "df.head()"
   ]
  },
  {
   "cell_type": "markdown",
   "metadata": {},
   "source": [
    "## Set Index to 'Kinase_Organism' and Aggregate Kinase Targets"
   ]
  },
  {
   "cell_type": "code",
   "execution_count": null,
   "metadata": {},
   "outputs": [],
   "source": [
    "#Set index to 'Kinase_organism'\n",
    "df.set_index('Kinase_organism')\n",
    "\n",
    "#Group kinases in dataframe 'kin'\n",
    "#Aggregate data in 'kin' according to kinase groups\n",
    "kin = df.groupby('Kinase_organism').agg(lambda x: tuple(x))\n",
    "\n",
    "#Create a new column 'Swiss-Prot Exp.' as description of data\n",
    "kin.insert(0, 'Description', 'Swiss-Prot Put.')\n",
    "\n",
    "#Visualize Data\n",
    "kin.head()"
   ]
  },
  {
   "cell_type": "markdown",
   "metadata": {},
   "source": [
    "# Exploratory Data Analysis"
   ]
  },
  {
   "cell_type": "markdown",
   "metadata": {},
   "source": [
    "## Calculate Number of Protein targets for each kinase\n",
    "Create a new column with the number of substrates related to each kinase, and sort the dataframe by this column"
   ]
  },
  {
   "cell_type": "code",
   "execution_count": null,
   "metadata": {
    "scrolled": true
   },
   "outputs": [],
   "source": [
    "# Create column representing counts of protein targets per kinase\n",
    "kin['kinase_substrate_num'] = [len(lst) for kinase, lst in kin['Substrate'].iteritems()]\n",
    "\n",
    "# Sort kinases from max to min according to number of protein targets each has\n",
    "kin.sort_values(by = ['kinase_substrate_num'], ascending= False, inplace=True)\n",
    "\n",
    "# View dataframe\n",
    "kin.head()"
   ]
  },
  {
   "cell_type": "markdown",
   "metadata": {},
   "source": [
    "## Create Histogram to Display Distribution of Number of Protein Targets"
   ]
  },
  {
   "cell_type": "code",
   "execution_count": null,
   "metadata": {},
   "outputs": [],
   "source": [
    "# Create histogram displaying the distribution of the number\n",
    "#targets per kinase\n",
    "kin.plot.hist(by = 'kinase_substrate_num', bins = 63)\n",
    "\n",
    "#Show histogram\n",
    "plt.show()"
   ]
  },
  {
   "cell_type": "markdown",
   "metadata": {},
   "source": [
    "## Filter Dataframe by the Number of Substrates for each Kinase\n",
    "If thekinase has fewer than five targets, this kinase will not be included in the final .gmt file. Instead, its information will be carried over into a .sig file."
   ]
  },
  {
   "cell_type": "code",
   "execution_count": null,
   "metadata": {},
   "outputs": [],
   "source": [
    "df_sig.head()"
   ]
  },
  {
   "cell_type": "code",
   "execution_count": null,
   "metadata": {
    "collapsed": true
   },
   "outputs": [],
   "source": [
    "#Create list of indexes(kinase names) for kinases with fewer than five substrates\n",
    "sig_key = [index for index, rowData in kin.kinase_substrate_num.iteritems() if rowData < 5 ]\n",
    "\n",
    "#Set indices for dataframe 'kin' of kinases with five or more substrates\n",
    "indices = [index for index in kin.index if index not in sig_key]\n",
    "\n",
    "#Create dataframe of all kinases\n",
    "sig = df_sig.set_index('Kinase_organism')\n",
    "\n",
    "#Reset index of new dataframe\n",
    "sig.reset_index(inplace = True)\n",
    "\n",
    "#Rename columns of this dataframe to match .sig format\n",
    "colnames = ['Source', 'Substrate']\n",
    "sig.columns = colnames\n",
    "\n",
    "#Insert 'PubMed_ID' column as the citation of SwissProt paper, as no other citation\n",
    "#was provided\n",
    "#Insert column specifying interaction type as phosphorylation\n",
    "sig.insert(2, 'PubMed_ID', '17517770, 15980458') "
   ]
  },
  {
   "cell_type": "code",
   "execution_count": null,
   "metadata": {
    "collapsed": true
   },
   "outputs": [],
   "source": [
    "#Remove kinases with fewer than five substrates in 'kin'\n",
    "kin = kin.loc[indices]"
   ]
  },
  {
   "cell_type": "code",
   "execution_count": null,
   "metadata": {},
   "outputs": [],
   "source": [
    "genes_term = kin.kinase_substrate_num\n",
    "\n",
    "len(genes_term)"
   ]
  },
  {
   "cell_type": "code",
   "execution_count": null,
   "metadata": {},
   "outputs": [],
   "source": [
    "avg_num_terms = genes_term.mean(axis = 0)\n",
    "avg_num_terms"
   ]
  },
  {
   "cell_type": "code",
   "execution_count": null,
   "metadata": {},
   "outputs": [],
   "source": [
    "stat_df = df_sig.set_index('Kinase_organism').loc[indices]\n",
    "\n",
    "len(stat_df.Substrate.unique())"
   ]
  },
  {
   "cell_type": "code",
   "execution_count": null,
   "metadata": {
    "collapsed": true
   },
   "outputs": [],
   "source": [
    "#For inclusion on website as a statistic, calculate \n",
    "#the total number of unique terms for the dataset\n",
    "\n",
    "kinases = pd.Series([index.split('_', 2)[0] for index in kin.index])\n",
    "\n",
    "stat_df.reset_index(inplace = True)\n",
    "\n",
    "all_terms = pd.concat([kinases, stat_df.Substrate], axis = 0)\n",
    "len(all_terms.unique())"
   ]
  },
  {
   "cell_type": "markdown",
   "metadata": {},
   "source": [
    "## Create File of 'sig' for Later Data Aggregation"
   ]
  },
  {
   "cell_type": "code",
   "execution_count": 37,
   "metadata": {
    "collapsed": true
   },
   "outputs": [],
   "source": [
    "#Create dictionary with index numbers as keys\n",
    "d = dict([(key, '') for key in sig.index])\n",
    "\n",
    "# loop through rows with iterrows()\n",
    "for index, rowData in sig.iterrows():\n",
    "    line = ('\\t'.join(rowData))\n",
    "    d[index] = line\n",
    "    \n",
    "#Transfer tab-separated info into a new txt file\n",
    "with open('Uncondensed_SwissProt_Put.txt', 'w') as openfile:\n",
    "    for index in d:\n",
    "        openfile.write(str(d[index]) + '\\n')"
   ]
  },
  {
   "cell_type": "markdown",
   "metadata": {},
   "source": [
    "## Create .Sig File\n",
    "No need to make additional changes since the original data did not include reference to a pubmed id."
   ]
  },
  {
   "cell_type": "code",
   "execution_count": 38,
   "metadata": {},
   "outputs": [
    {
     "data": {
      "text/html": [
       "<div>\n",
       "<style>\n",
       "    .dataframe thead tr:only-child th {\n",
       "        text-align: right;\n",
       "    }\n",
       "\n",
       "    .dataframe thead th {\n",
       "        text-align: left;\n",
       "    }\n",
       "\n",
       "    .dataframe tbody tr th {\n",
       "        vertical-align: top;\n",
       "    }\n",
       "</style>\n",
       "<table border=\"1\" class=\"dataframe\">\n",
       "  <thead>\n",
       "    <tr style=\"text-align: right;\">\n",
       "      <th></th>\n",
       "      <th>Source</th>\n",
       "      <th>NA-1</th>\n",
       "      <th>NA-2</th>\n",
       "      <th>NA-3</th>\n",
       "      <th>NA-4</th>\n",
       "      <th>Substrate</th>\n",
       "      <th>Sign</th>\n",
       "      <th>Interaction</th>\n",
       "      <th>Reference</th>\n",
       "    </tr>\n",
       "  </thead>\n",
       "  <tbody>\n",
       "    <tr>\n",
       "      <th>0</th>\n",
       "      <td>MAPK12_Homo sapiens</td>\n",
       "      <td>nan</td>\n",
       "      <td>nan</td>\n",
       "      <td>nan</td>\n",
       "      <td>nan</td>\n",
       "      <td>3BP5</td>\n",
       "      <td>?</td>\n",
       "      <td>Phosphorylation</td>\n",
       "      <td>Huang, H.-D., Lee, T.-Y., Tzeng, S.-W., &amp; Horn...</td>\n",
       "    </tr>\n",
       "    <tr>\n",
       "      <th>1</th>\n",
       "      <td>MAPK12_Mus musculus</td>\n",
       "      <td>nan</td>\n",
       "      <td>nan</td>\n",
       "      <td>nan</td>\n",
       "      <td>nan</td>\n",
       "      <td>3BP5</td>\n",
       "      <td>?</td>\n",
       "      <td>Phosphorylation</td>\n",
       "      <td>Huang, H.-D., Lee, T.-Y., Tzeng, S.-W., &amp; Horn...</td>\n",
       "    </tr>\n",
       "    <tr>\n",
       "      <th>2</th>\n",
       "      <td>CK2_Mus musculus</td>\n",
       "      <td>nan</td>\n",
       "      <td>nan</td>\n",
       "      <td>nan</td>\n",
       "      <td>nan</td>\n",
       "      <td>A4</td>\n",
       "      <td>?</td>\n",
       "      <td>Phosphorylation</td>\n",
       "      <td>Huang, H.-D., Lee, T.-Y., Tzeng, S.-W., &amp; Horn...</td>\n",
       "    </tr>\n",
       "    <tr>\n",
       "      <th>3</th>\n",
       "      <td>CK1_Mus musculus</td>\n",
       "      <td>nan</td>\n",
       "      <td>nan</td>\n",
       "      <td>nan</td>\n",
       "      <td>nan</td>\n",
       "      <td>A4</td>\n",
       "      <td>?</td>\n",
       "      <td>Phosphorylation</td>\n",
       "      <td>Huang, H.-D., Lee, T.-Y., Tzeng, S.-W., &amp; Horn...</td>\n",
       "    </tr>\n",
       "    <tr>\n",
       "      <th>4</th>\n",
       "      <td>autocatalysis_Homo sapiens</td>\n",
       "      <td>nan</td>\n",
       "      <td>nan</td>\n",
       "      <td>nan</td>\n",
       "      <td>nan</td>\n",
       "      <td>AAKB1</td>\n",
       "      <td>?</td>\n",
       "      <td>Phosphorylation</td>\n",
       "      <td>Huang, H.-D., Lee, T.-Y., Tzeng, S.-W., &amp; Horn...</td>\n",
       "    </tr>\n",
       "  </tbody>\n",
       "</table>\n",
       "</div>"
      ],
      "text/plain": [
       "                       Source NA-1 NA-2 NA-3 NA-4 Substrate Sign  \\\n",
       "0         MAPK12_Homo sapiens  nan  nan  nan  nan      3BP5    ?   \n",
       "1         MAPK12_Mus musculus  nan  nan  nan  nan      3BP5    ?   \n",
       "2            CK2_Mus musculus  nan  nan  nan  nan        A4    ?   \n",
       "3            CK1_Mus musculus  nan  nan  nan  nan        A4    ?   \n",
       "4  autocatalysis_Homo sapiens  nan  nan  nan  nan     AAKB1    ?   \n",
       "\n",
       "       Interaction                                          Reference  \n",
       "0  Phosphorylation  Huang, H.-D., Lee, T.-Y., Tzeng, S.-W., & Horn...  \n",
       "1  Phosphorylation  Huang, H.-D., Lee, T.-Y., Tzeng, S.-W., & Horn...  \n",
       "2  Phosphorylation  Huang, H.-D., Lee, T.-Y., Tzeng, S.-W., & Horn...  \n",
       "3  Phosphorylation  Huang, H.-D., Lee, T.-Y., Tzeng, S.-W., & Horn...  \n",
       "4  Phosphorylation  Huang, H.-D., Lee, T.-Y., Tzeng, S.-W., & Horn...  "
      ]
     },
     "execution_count": 38,
     "metadata": {},
     "output_type": "execute_result"
    }
   ],
   "source": [
    "#Insert first four columns for .sig file format (NaNs)\n",
    "sig.insert(1, 'NA-1', str(np.nan))\n",
    "sig.insert(2, 'NA-2', str(np.nan))\n",
    "sig.insert(3, 'NA-3', str(np.nan))\n",
    "sig.insert(4, 'NA-4', str(np.nan))\n",
    "\n",
    "#Insert column corresponding to sign (with '?' because it is unknown)\n",
    "sig.insert(6, 'Sign', '?')\n",
    "\n",
    "#Insert column specifying interaction type as phosphorylation\n",
    "sig.insert(7, 'Interaction', 'Phosphorylation')\n",
    "\n",
    "#View dataframe\n",
    "sig.head()"
   ]
  },
  {
   "cell_type": "code",
   "execution_count": 39,
   "metadata": {
    "collapsed": true
   },
   "outputs": [],
   "source": [
    "#Create dictionary 'sigd' with index numbers as keys\n",
    "sigd = dict([(key, '') for key in sig.index])\n",
    "\n",
    "# loop through rows with iterrows()\n",
    "for index, rowData in sig.iterrows():\n",
    "    line = ('\\t'.join(rowData))\n",
    "    sigd[index] = line\n",
    "    \n",
    "#Transfer tab-separated info into a new txt file\n",
    "#Make sure to include in ReadMe corresponding column names\n",
    "with open('SwissProtPutsig.txt', 'w') as openfile:\n",
    "    for index in sigd:\n",
    "        openfile.write(str(sigd[index]) + '\\n')"
   ]
  },
  {
   "cell_type": "markdown",
   "metadata": {},
   "source": [
    "# Creation of Final .GMT File"
   ]
  },
  {
   "cell_type": "markdown",
   "metadata": {},
   "source": [
    "## Create dictionary of Tab-Separated rows of the Dataframe"
   ]
  },
  {
   "cell_type": "code",
   "execution_count": 40,
   "metadata": {},
   "outputs": [
    {
     "data": {
      "text/html": [
       "<div>\n",
       "<style>\n",
       "    .dataframe thead tr:only-child th {\n",
       "        text-align: right;\n",
       "    }\n",
       "\n",
       "    .dataframe thead th {\n",
       "        text-align: left;\n",
       "    }\n",
       "\n",
       "    .dataframe tbody tr th {\n",
       "        vertical-align: top;\n",
       "    }\n",
       "</style>\n",
       "<table border=\"1\" class=\"dataframe\">\n",
       "  <thead>\n",
       "    <tr style=\"text-align: right;\">\n",
       "      <th></th>\n",
       "      <th>Kinase_organism</th>\n",
       "      <th>Description</th>\n",
       "      <th>target_merged</th>\n",
       "    </tr>\n",
       "  </thead>\n",
       "  <tbody>\n",
       "    <tr>\n",
       "      <th>0</th>\n",
       "      <td>autocatalysis_Mus musculus</td>\n",
       "      <td>Swiss-Prot Put.</td>\n",
       "      <td>AAKB1\\tABL1\\tALK\\tBCKD\\tBLK\\tBMX\\tBTK\\tCSK\\tDA...</td>\n",
       "    </tr>\n",
       "    <tr>\n",
       "      <th>1</th>\n",
       "      <td>autocatalysis_Homo sapiens</td>\n",
       "      <td>Swiss-Prot Put.</td>\n",
       "      <td>AAKB1\\tAAPK1\\tAAPK2\\tABL1\\tALK\\tBCKD\\tBLK\\tBMX...</td>\n",
       "    </tr>\n",
       "    <tr>\n",
       "      <th>2</th>\n",
       "      <td>PKA_Homo sapiens</td>\n",
       "      <td>Swiss-Prot Put.</td>\n",
       "      <td>ACLY\\tADA1A\\tADRB1\\tADRB2\\tAP2B\\tAP2C\\tAT12A\\t...</td>\n",
       "    </tr>\n",
       "    <tr>\n",
       "      <th>3</th>\n",
       "      <td>PKA_Mus musculus</td>\n",
       "      <td>Swiss-Prot Put.</td>\n",
       "      <td>ABCA1\\tACLY\\tADA1A\\tADDA\\tADDB\\tADRB1\\tADRB2\\t...</td>\n",
       "    </tr>\n",
       "    <tr>\n",
       "      <th>4</th>\n",
       "      <td>PKC_Homo sapiens</td>\n",
       "      <td>Swiss-Prot Put.</td>\n",
       "      <td>ADDG\\tAT1A1\\tAT2B2\\tAT2B3\\tAT2B4\\tBCL2\\tCSTF2\\...</td>\n",
       "    </tr>\n",
       "  </tbody>\n",
       "</table>\n",
       "</div>"
      ],
      "text/plain": [
       "              Kinase_organism      Description  \\\n",
       "0  autocatalysis_Mus musculus  Swiss-Prot Put.   \n",
       "1  autocatalysis_Homo sapiens  Swiss-Prot Put.   \n",
       "2            PKA_Homo sapiens  Swiss-Prot Put.   \n",
       "3            PKA_Mus musculus  Swiss-Prot Put.   \n",
       "4            PKC_Homo sapiens  Swiss-Prot Put.   \n",
       "\n",
       "                                       target_merged  \n",
       "0  AAKB1\\tABL1\\tALK\\tBCKD\\tBLK\\tBMX\\tBTK\\tCSK\\tDA...  \n",
       "1  AAKB1\\tAAPK1\\tAAPK2\\tABL1\\tALK\\tBCKD\\tBLK\\tBMX...  \n",
       "2  ACLY\\tADA1A\\tADRB1\\tADRB2\\tAP2B\\tAP2C\\tAT12A\\t...  \n",
       "3  ABCA1\\tACLY\\tADA1A\\tADDA\\tADDB\\tADRB1\\tADRB2\\t...  \n",
       "4  ADDG\\tAT1A1\\tAT2B2\\tAT2B3\\tAT2B4\\tBCL2\\tCSTF2\\...  "
      ]
     },
     "execution_count": 40,
     "metadata": {},
     "output_type": "execute_result"
    }
   ],
   "source": [
    "#Reset index of the dataframe\n",
    "kin.reset_index(inplace = True)\n",
    "\n",
    "#create column 'acc_merged' in which all 'acc' elements are joined by a \\t symbol\n",
    "kin['target_merged'] = ['\\t'.join(x) for x in kin['Substrate']]\n",
    "\n",
    "#drop the now-unneccesary column 'Substrates'\n",
    "kin.drop('Substrate', axis=1, inplace = True)\n",
    "\n",
    "#also drop the data-exploratory column 'kinase_substrate_num'\n",
    "kin.drop('kinase_substrate_num', axis=1, inplace = True)\n",
    "\n",
    "#View dataframe\n",
    "kin.head()"
   ]
  },
  {
   "cell_type": "code",
   "execution_count": 41,
   "metadata": {
    "collapsed": true
   },
   "outputs": [],
   "source": [
    "#Create dictionary 'SwissProt' with index numbers as keys\n",
    "SwissProt_num = dict([(key, '') for key in kin.index])\n",
    "\n",
    "# loop through rows with iterrows()\n",
    "for index, rowData in kin.iterrows():\n",
    "    line = ('\\t'.join((rowData)))\n",
    "    SwissProt_num[index] = line"
   ]
  },
  {
   "cell_type": "markdown",
   "metadata": {},
   "source": [
    "## Write Info from Dictionary into a .GMT file"
   ]
  },
  {
   "cell_type": "code",
   "execution_count": 42,
   "metadata": {
    "collapsed": true
   },
   "outputs": [],
   "source": [
    "#Transfer tab-separated info into a new txt file\n",
    "with open('SwissProt_put.gmt', 'w') as openfile:\n",
    "    for index in SwissProt_num:\n",
    "        openfile.write(str(SwissProt_num[index]) + '\\n')"
   ]
  }
 ],
 "metadata": {
  "kernelspec": {
   "display_name": "Python 3",
   "language": "python",
   "name": "python3"
  },
  "language_info": {
   "codemirror_mode": {
    "name": "ipython",
    "version": 3
   },
   "file_extension": ".py",
   "mimetype": "text/x-python",
   "name": "python",
   "nbconvert_exporter": "python",
   "pygments_lexer": "ipython3",
   "version": "3.6.1"
  }
 },
 "nbformat": 4,
 "nbformat_minor": 2
}
