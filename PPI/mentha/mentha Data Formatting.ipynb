{
 "cells": [
  {
   "cell_type": "markdown",
   "metadata": {},
   "source": [
    "# Mentha Data formatting to SIG and GMT files"
   ]
  },
  {
   "cell_type": "markdown",
   "metadata": {},
   "source": [
    "# Formatting Data of Human Samples"
   ]
  },
  {
   "cell_type": "code",
   "execution_count": null,
   "metadata": {
    "collapsed": true
   },
   "outputs": [],
   "source": [
    "import numpy as np \n",
    "import pandas as pd\n",
    "import urllib.request \n",
    "import requests, io\n",
    "import urllib, re, string\n",
    "import sys, datetime"
   ]
  },
  {
   "cell_type": "code",
   "execution_count": null,
   "metadata": {
    "collapsed": true
   },
   "outputs": [],
   "source": [
    "pd.set_option('display.notebook_repr_html', True)\n",
    "\n",
    "def _repr_latex_(self):\n",
    "    return \"\\centering{%s}\" % self.to_latex()\n",
    "\n",
    "pd.DataFrame._repr_latex_ = _repr_latex_  # monkey patch pandas DataFrame"
   ]
  },
  {
   "cell_type": "code",
   "execution_count": null,
   "metadata": {
    "collapsed": true
   },
   "outputs": [],
   "source": [
    "def concatliketerms(df):\n",
    "    \n",
    "    df.sort_values(by=['Protein A (gene name)', 'Protein B (gene name)'], inplace=True)    \n",
    "    df.reset_index(inplace=True)\n",
    "    df.drop('index', axis=1, inplace=True)\n",
    "    oldSize = df.shape\n",
    "    newSize = 0\n",
    "    j = 1\n",
    "    while oldSize != newSize:\n",
    "        df.reset_index(inplace=True)\n",
    "        df.drop('index', axis=1, inplace=True)\n",
    "        df.sort_values(by=['Protein A (gene name)', 'Protein B (gene name)'], inplace=True) \n",
    "        # concattonate like terms and remove duplicates\n",
    "        i = 1\n",
    "        end = len(df.index)-1\n",
    "        for index in df.index:\n",
    "            if i % 1000 == 0:\n",
    "                print('\\r', 'Loop '+ str(j)+': ' +str(i)+' Out of '+ str(len(df.index)), end=' ', flush=True)\n",
    "            if index in df.index.values and index != end:\n",
    "                if df.ix[index, 'Protein A (gene name)'] == df.ix[index+1, 'Protein A (gene name)']:\n",
    "                    if df.ix[index, 'Protein B (gene name)'] == df.ix[index+1, 'Protein B (gene name)']:\n",
    "                        df.ix[index, 'PubMed ID'] = str(df.ix[index, 'PubMed ID']) +'|'+str(df.ix[index+1, 'PubMed ID'])\n",
    "                        df.ix[index, 'Source databases'] = df.ix[index, 'Source databases'] +'|'+df.ix[index+1, 'Source databases']\n",
    "                        df.drop(index+1, axis=0, inplace=True)\n",
    "                        \n",
    "            i += 1\n",
    "        j += 1\n",
    "        oldSize = newSize\n",
    "        newSize = df.shape"
   ]
  },
  {
   "cell_type": "code",
   "execution_count": null,
   "metadata": {
    "collapsed": true
   },
   "outputs": [],
   "source": [
    "mentha_df = pd.read_csv('/Users/moshesilverstein/Desktop/PPI Library/Input/mentha_human', sep=';')"
   ]
  },
  {
   "cell_type": "code",
   "execution_count": null,
   "metadata": {
    "collapsed": true
   },
   "outputs": [],
   "source": [
    "mentha_df = mentha_df[['Gene A', 'Gene B', 'PMID']]"
   ]
  },
  {
   "cell_type": "code",
   "execution_count": null,
   "metadata": {
    "collapsed": true
   },
   "outputs": [],
   "source": [
    "mentha_df['Source databases'] = '(mentha)'"
   ]
  },
  {
   "cell_type": "code",
   "execution_count": null,
   "metadata": {
    "collapsed": true
   },
   "outputs": [],
   "source": [
    "mentha_df.rename(columns={'Gene A': 'Protein A (gene name)', 'Gene B':'Protein B (gene name)', 'PMID':'PubMed ID'}, inplace=True)"
   ]
  },
  {
   "cell_type": "code",
   "execution_count": null,
   "metadata": {
    "collapsed": true
   },
   "outputs": [],
   "source": [
    "i = 1\n",
    "for index in mentha_df.index:\n",
    "    if i % 100 == 0:\n",
    "        print('\\r', str(i)+' Out of '+ str(len(mentha_df.index)), end=' ', flush=True)\n",
    "    mentha_df.ix[index, 'PubMed ID'] = '|'.join(mentha_df.ix[index, 'PubMed ID'].split(' ')[0:-1])\n",
    "    i +=1"
   ]
  },
  {
   "cell_type": "code",
   "execution_count": null,
   "metadata": {
    "collapsed": true
   },
   "outputs": [],
   "source": [
    "mentha_df.drop_duplicates(inplace=True)"
   ]
  },
  {
   "cell_type": "code",
   "execution_count": null,
   "metadata": {
    "collapsed": true
   },
   "outputs": [],
   "source": [
    "mentha_uf_df = mentha_df.copy()"
   ]
  },
  {
   "cell_type": "code",
   "execution_count": null,
   "metadata": {
    "collapsed": true
   },
   "outputs": [],
   "source": [
    "concatliketerms(mentha_uf_df)"
   ]
  },
  {
   "cell_type": "code",
   "execution_count": null,
   "metadata": {
    "collapsed": true
   },
   "outputs": [],
   "source": [
    "filename = '/Users/moshesilverstein/Desktop/PPI Library/Output/IndividualResources/Unfiltered/ppi_network_mentha_human_unfiltered_%s.tsv'% str(datetime.date.today()).replace('-', '_')\n",
    "mentha_uf_df.to_csv(filename, sep='\\t', index=False) "
   ]
  },
  {
   "cell_type": "code",
   "execution_count": null,
   "metadata": {
    "collapsed": true
   },
   "outputs": [],
   "source": [
    "filename = '/Users/moshesilverstein/Desktop/PPI Library/Output/IndividualResources/Unfiltered/ppi_network_mentha_human_unfiltered_%s.tsv.gz'% str(datetime.date.today()).replace('-', '_')\n",
    "mentha_uf_df.to_csv(filename, sep='\\t', index=False, compression='gzip')"
   ]
  },
  {
   "cell_type": "code",
   "execution_count": null,
   "metadata": {
    "collapsed": true
   },
   "outputs": [],
   "source": [
    "# drop any data that was published with more then 10 PPI's per publication\n",
    "i = 1\n",
    "for pub in mentha_df['PubMed ID'].unique():\n",
    "    if i % 100 == 0:\n",
    "        print('\\r', str(i)+' Out of '+ str(len(mentha_df['PubMed ID'].unique())), end=' ', flush=True)\n",
    "    if mentha_df[mentha_df['PubMed ID'] == pub].shape[0] > 10:\n",
    "        mentha_df.drop(mentha_df[mentha_df['PubMed ID'] == pub].index.tolist(), inplace=True)\n",
    "    i +=1"
   ]
  },
  {
   "cell_type": "code",
   "execution_count": null,
   "metadata": {
    "collapsed": true
   },
   "outputs": [],
   "source": [
    "lst = []\n",
    "for value in mentha_df['PubMed ID']:\n",
    "    if 'unassigned' in value:\n",
    "        lst.append(True)\n",
    "    else:\n",
    "        lst.append(False)\n",
    "\n",
    "mentha_df = mentha_df.drop(mentha_df[lst].index)"
   ]
  },
  {
   "cell_type": "code",
   "execution_count": null,
   "metadata": {
    "collapsed": true
   },
   "outputs": [],
   "source": [
    "mentha_df.dropna(inplace=True)"
   ]
  },
  {
   "cell_type": "code",
   "execution_count": null,
   "metadata": {
    "collapsed": true
   },
   "outputs": [],
   "source": [
    "mentha_df.shape"
   ]
  },
  {
   "cell_type": "code",
   "execution_count": null,
   "metadata": {
    "collapsed": true
   },
   "outputs": [],
   "source": [
    "concatliketerms(mentha_df)"
   ]
  },
  {
   "cell_type": "code",
   "execution_count": null,
   "metadata": {
    "collapsed": true
   },
   "outputs": [],
   "source": [
    "mentha_df.head()"
   ]
  },
  {
   "cell_type": "code",
   "execution_count": null,
   "metadata": {
    "collapsed": true
   },
   "outputs": [],
   "source": [
    "filename = '/Users/moshesilverstein/Desktop/PPI Library/Output/IndividualResources/Filtered/ppi_network_mentha_human_filtered_%s.tsv'% str(datetime.date.today()).replace('-', '_')\n",
    "mentha_df.to_csv(filename, sep='\\t', index=False) "
   ]
  },
  {
   "cell_type": "code",
   "execution_count": null,
   "metadata": {
    "collapsed": true
   },
   "outputs": [],
   "source": [
    "filename = '/Users/moshesilverstein/Desktop/PPI Library/Output/IndividualResources/Filtered/ppi_network_mentha_human_filtered_%s.tsv.gz'% str(datetime.date.today()).replace('-', '_')\n",
    "mentha_df.to_csv(filename, sep='\\t', index=False, compression='gzip')"
   ]
  },
  {
   "cell_type": "markdown",
   "metadata": {},
   "source": [
    "# Formatting Data of Mouse Samples"
   ]
  },
  {
   "cell_type": "code",
   "execution_count": null,
   "metadata": {
    "collapsed": true
   },
   "outputs": [],
   "source": [
    "mentha_df = pd.read_csv('/Users/moshesilverstein/Desktop/PPI Library/Input/mentha_mouse', sep=';')"
   ]
  },
  {
   "cell_type": "code",
   "execution_count": null,
   "metadata": {
    "collapsed": true
   },
   "outputs": [],
   "source": [
    "mentha_df = mentha_df[['Gene A', 'Gene B', 'PMID']]"
   ]
  },
  {
   "cell_type": "code",
   "execution_count": null,
   "metadata": {
    "collapsed": true
   },
   "outputs": [],
   "source": [
    "mentha_df['Source databases'] = '(mentha)'"
   ]
  },
  {
   "cell_type": "code",
   "execution_count": null,
   "metadata": {
    "collapsed": true
   },
   "outputs": [],
   "source": [
    "mentha_df.rename(columns={'Gene A': 'Protein A (gene name)', 'Gene B':'Protein B (gene name)', 'PMID':'PubMed ID'}, inplace=True)"
   ]
  },
  {
   "cell_type": "code",
   "execution_count": null,
   "metadata": {
    "collapsed": true
   },
   "outputs": [],
   "source": [
    "i = 1\n",
    "for index in mentha_df.index:\n",
    "    if i % 100 == 0:\n",
    "        print('\\r', str(i)+' Out of '+ str(len(mentha_df.index)), end=' ', flush=True)\n",
    "    mentha_df.ix[index, 'PubMed ID'] = '|'.join(mentha_df.ix[index, 'PubMed ID'].split(' ')[0:-1])\n",
    "    i +=1"
   ]
  },
  {
   "cell_type": "code",
   "execution_count": null,
   "metadata": {
    "collapsed": true
   },
   "outputs": [],
   "source": [
    "mentha_df.drop_duplicates(inplace=True)"
   ]
  },
  {
   "cell_type": "code",
   "execution_count": null,
   "metadata": {
    "collapsed": true
   },
   "outputs": [],
   "source": [
    "mentha_uf_df = mentha_df.copy()"
   ]
  },
  {
   "cell_type": "code",
   "execution_count": null,
   "metadata": {
    "collapsed": true
   },
   "outputs": [],
   "source": [
    "concatliketerms(mentha_uf_df)"
   ]
  },
  {
   "cell_type": "code",
   "execution_count": null,
   "metadata": {
    "collapsed": true
   },
   "outputs": [],
   "source": [
    "filename = '/Users/moshesilverstein/Desktop/PPI Library/Output/IndividualResources/Unfiltered/ppi_network_mentha_mouse_unfiltered_%s.tsv'% str(datetime.date.today()).replace('-', '_')\n",
    "mentha_uf_df.to_csv(filename, sep='\\t', index=False)"
   ]
  },
  {
   "cell_type": "code",
   "execution_count": null,
   "metadata": {
    "collapsed": true
   },
   "outputs": [],
   "source": [
    "filename = '/Users/moshesilverstein/Desktop/PPI Library/Output/IndividualResources/Unfiltered/ppi_network_mentha_mouse_unfiltered_%s.tsv.gz'% str(datetime.date.today()).replace('-', '_')\n",
    "mentha_uf_df.to_csv(filename, sep='\\t', index=False, compression='gzip')"
   ]
  },
  {
   "cell_type": "code",
   "execution_count": null,
   "metadata": {
    "collapsed": true
   },
   "outputs": [],
   "source": [
    "# drop any data that was published with more then 10 PPI's per publication\n",
    "i = 1\n",
    "for pub in mentha_df['PubMed ID'].unique():\n",
    "    if i % 100 == 0:\n",
    "        print('\\r', str(i)+' Out of '+ str(len(mentha_df['PubMed ID'].unique())), end=' ', flush=True)\n",
    "    if mentha_df[mentha_df['PubMed ID'] == pub].shape[0] > 10:\n",
    "        mentha_df.drop(mentha_df[mentha_df['PubMed ID'] == pub].index.tolist(), inplace=True)\n",
    "    i +=1"
   ]
  },
  {
   "cell_type": "code",
   "execution_count": null,
   "metadata": {
    "collapsed": true
   },
   "outputs": [],
   "source": [
    "lst = []\n",
    "for value in mentha_df['PubMed ID']:\n",
    "    if 'unassigned' in value:\n",
    "        lst.append(True)\n",
    "    else:\n",
    "        lst.append(False)\n",
    "\n",
    "mentha_df = mentha_df.drop(mentha_df[lst].index)"
   ]
  },
  {
   "cell_type": "code",
   "execution_count": null,
   "metadata": {
    "collapsed": true
   },
   "outputs": [],
   "source": [
    "mentha_df.dropna(inplace=True)"
   ]
  },
  {
   "cell_type": "code",
   "execution_count": null,
   "metadata": {
    "collapsed": true
   },
   "outputs": [],
   "source": [
    "mentha_df.shape"
   ]
  },
  {
   "cell_type": "code",
   "execution_count": null,
   "metadata": {
    "collapsed": true
   },
   "outputs": [],
   "source": [
    "concatliketerms(mentha_df)"
   ]
  },
  {
   "cell_type": "code",
   "execution_count": null,
   "metadata": {
    "collapsed": true
   },
   "outputs": [],
   "source": [
    "mentha_df.head()"
   ]
  },
  {
   "cell_type": "code",
   "execution_count": null,
   "metadata": {
    "collapsed": true
   },
   "outputs": [],
   "source": [
    "filename = '/Users/moshesilverstein/Desktop/PPI Library/Output/IndividualResources/Filtered/ppi_network_mentha_mouse_filtered_%s.tsv'% str(datetime.date.today()).replace('-', '_')\n",
    "mentha_df.to_csv(filename, sep='\\t', index=False) "
   ]
  },
  {
   "cell_type": "code",
   "execution_count": null,
   "metadata": {
    "collapsed": true
   },
   "outputs": [],
   "source": [
    "filename = '/Users/moshesilverstein/Desktop/PPI Library/Output/IndividualResources/Filtered/ppi_network_mentha_mouse_filtered_%s.tsv.gz'% str(datetime.date.today()).replace('-', '_')\n",
    "mentha_df.to_csv(filename, sep='\\t', index=False, compression='gzip')"
   ]
  },
  {
   "cell_type": "markdown",
   "metadata": {},
   "source": [
    "# Create SIG File"
   ]
  },
  {
   "cell_type": "code",
   "execution_count": null,
   "metadata": {
    "collapsed": true
   },
   "outputs": [],
   "source": [
    "sig_col = ['Source Name', 'Source Human Accession', 'Source Mouse Accession',\n",
    "          'Source Type', 'Source Location', 'Target Name',\n",
    "          'Target Human Accession', 'Target Mouse Accession', 'Target Type',\n",
    "          'Target Location', 'Effect', 'Type of Interaction',\n",
    "          'PubMed IDs']"
   ]
  },
  {
   "cell_type": "code",
   "execution_count": null,
   "metadata": {
    "collapsed": true
   },
   "outputs": [],
   "source": [
    "path = '~/./Documents/Harmonizome/PPI Library/Output/IndividualResources/Filtered/'"
   ]
  },
  {
   "cell_type": "code",
   "execution_count": null,
   "metadata": {
    "collapsed": true
   },
   "outputs": [],
   "source": [
    "# HOMOLOGENE\n",
    "mapping_path = '~/./Documents/Harmonizome/PPI Library/Doc and Mapping/HomoloGene.tsv'\n",
    "mapping = pd.read_csv(mapping_path, sep='\\t', header=None)"
   ]
  },
  {
   "cell_type": "code",
   "execution_count": null,
   "metadata": {
    "collapsed": true
   },
   "outputs": [],
   "source": [
    "mapping.set_index([0, 1], inplace=True)"
   ]
  },
  {
   "cell_type": "code",
   "execution_count": null,
   "metadata": {
    "collapsed": true
   },
   "outputs": [],
   "source": [
    "mapping.head()"
   ]
  },
  {
   "cell_type": "code",
   "execution_count": null,
   "metadata": {
    "collapsed": true
   },
   "outputs": [],
   "source": [
    "mentha_human = pd.read_csv(path+'ppi_network_mentha_human_filtered_2017_02_15.tsv', sep='\\t')"
   ]
  },
  {
   "cell_type": "code",
   "execution_count": null,
   "metadata": {
    "collapsed": true
   },
   "outputs": [],
   "source": [
    "mentha_mouse = pd.read_csv(path+'ppi_network_mentha_mouse_filtered_2017_02_15.tsv', sep='\\t')"
   ]
  },
  {
   "cell_type": "code",
   "execution_count": null,
   "metadata": {
    "collapsed": true
   },
   "outputs": [],
   "source": [
    "lst = []\n",
    "\n",
    "for i, index in enumerate(mentha_mouse.index):\n",
    "    \n",
    "    progressPercent = ((i+1)/len(mentha_mouse.index))*100\n",
    "\n",
    "    sys.stdout.write(\"Progress: %d%%  %d Out of %d   \\r\" % (progressPercent, (i+1), len(mentha_mouse.index)))\n",
    "    sys.stdout.flush()\n",
    "    \n",
    "    gene = mentha_mouse.ix[index, 'Protein A (gene name)']\n",
    "    if gene in mapping[3].values:\n",
    "        number = mapping[mapping[3] == gene].index\n",
    "        if (number[0][0], 9606) in mapping.index:\n",
    "            if type(mapping.ix[(number[0][0], 9606), 3]) == str:\n",
    "                lst.append(mapping.ix[(number[0][0], 9606), 3])\n",
    "            else:\n",
    "                lst.append(np.nan)  # insert nan if gene maps tp more than one human gene  \n",
    "        else:\n",
    "            lst.append(np.nan)  # insert nan if gene dooesnt map to human gene       \n",
    "    else:\n",
    "        lst.append(np.nan) # insert nan if gene not found in the HOMOLOGENE\n",
    "\n",
    "mentha_mouse['Protein A (gene name)'] = lst"
   ]
  },
  {
   "cell_type": "code",
   "execution_count": null,
   "metadata": {
    "collapsed": true
   },
   "outputs": [],
   "source": [
    "lst = []\n",
    "\n",
    "for i, index in enumerate(mentha_mouse.index):\n",
    "    \n",
    "    progressPercent = ((i+1)/len(mentha_mouse.index))*100\n",
    "\n",
    "    sys.stdout.write(\"Progress: %d%%  %d Out of %d   \\r\" % (progressPercent, (i+1), len(mentha_mouse.index)))\n",
    "    sys.stdout.flush()\n",
    "    \n",
    "    gene = mentha_mouse.ix[index, 'Protein B (gene name)']\n",
    "    if gene in mapping[3].values:\n",
    "        number = mapping[mapping[3] == gene].index\n",
    "        if (number[0][0], 9606) in mapping.index:\n",
    "            if type(mapping.ix[(number[0][0], 9606), 3]) == str:\n",
    "                lst.append(mapping.ix[(number[0][0], 9606), 3])\n",
    "            else:\n",
    "                lst.append(np.nan)  # insert nan if gene maps tp more than one human gene  \n",
    "        else:\n",
    "            lst.append(np.nan)  # insert nan if gene dooesnt map to human gene       \n",
    "    else:\n",
    "        lst.append(np.nan) # insert nan if gene not found in the HOMOLOGENE\n",
    "\n",
    "mentha_mouse['Protein B (gene name)'] = lst"
   ]
  },
  {
   "cell_type": "code",
   "execution_count": null,
   "metadata": {
    "collapsed": true
   },
   "outputs": [],
   "source": [
    "mentha_mouse.shape"
   ]
  },
  {
   "cell_type": "code",
   "execution_count": null,
   "metadata": {
    "collapsed": true
   },
   "outputs": [],
   "source": [
    "mentha_mouse.dropna(how='any', inplace=True)"
   ]
  },
  {
   "cell_type": "code",
   "execution_count": null,
   "metadata": {
    "collapsed": true
   },
   "outputs": [],
   "source": [
    "mentha_mouse.shape"
   ]
  },
  {
   "cell_type": "code",
   "execution_count": null,
   "metadata": {
    "collapsed": true
   },
   "outputs": [],
   "source": [
    "mentha = mentha_human.copy()\n",
    "\n",
    "for i, index in enumerate(mentha_mouse.index):\n",
    "    \n",
    "    progressPercent = ((i+1)/len(mentha_mouse.index))*100\n",
    "\n",
    "    sys.stdout.write(\"Progress: %d%%  %d Out of %d   \\r\" % (progressPercent, (i+1), len(mentha_mouse.index)))\n",
    "    sys.stdout.flush()\n",
    "    \n",
    "    mouse_interaction = mentha_mouse.ix[index, ['Protein A (gene name)', 'Protein B (gene name)']].values.tolist()\n",
    "    if mouse_interaction in mentha_human[['Protein A (gene name)', 'Protein B (gene name)']].values.tolist():\n",
    "        human_index = mentha_human[(mentha_human['Protein A (gene name)'] == mouse_interaction[0]) & (mentha_human['Protein B (gene name)'] == mouse_interaction[1])].index\n",
    "        mouse_ref = mentha_mouse.ix[index, 'PubMed ID']\n",
    "        human_ref = mentha_human.ix[index, 'PubMed ID']\n",
    "        ref = ('|').join([mouse_ref, human_ref])\n",
    "        mentha.ix[human_index, 'PubMed ID'] = ref\n",
    "    else:\n",
    "        mentha.append(mentha_mouse.ix[index])"
   ]
  },
  {
   "cell_type": "code",
   "execution_count": null,
   "metadata": {
    "collapsed": true
   },
   "outputs": [],
   "source": [
    "lst = []\n",
    "for index in mentha.index:\n",
    "    lst.append(tuple(sorted(tuple((mentha.ix[index,'Protein A (gene name)'], mentha.ix[index, 'Protein B (gene name)'])))))\n",
    "mentha['ppi'] = lst\n",
    "\n",
    "for i,ppi in enumerate(mentha['ppi'].unique()):\n",
    "    \n",
    "    progressPercent = ((i+1)/len(mentha['ppi'].unique()))*100\n",
    "\n",
    "    sys.stdout.write(\"Progress: %d%%  %d Out of %d   \\r\" % (progressPercent, (i+1), len(mentha['ppi'].unique())))\n",
    "    sys.stdout.flush()\n",
    "    \n",
    "    ref = ('|').join(mentha.ix[mentha[mentha['ppi'] == ppi].index, 'PubMed ID'])\n",
    "    mentha.ix[mentha[mentha['ppi'] == ppi].index[0], 'PubMed ID'] = ref\n",
    "    mentha.drop(mentha[mentha['ppi'] == ppi].index[1:], inplace=True)"
   ]
  },
  {
   "cell_type": "code",
   "execution_count": null,
   "metadata": {
    "collapsed": true
   },
   "outputs": [],
   "source": [
    "mentha_sig_df = pd.DataFrame(columns=sig_col)\n",
    "\n",
    "mentha_sig_df['Source Name'] = mentha['Protein A (gene name)']\n",
    "\n",
    "mentha_sig_df['Target Name'] = mentha['Protein B (gene name)']\n",
    "\n",
    "mentha_sig_df['PubMed IDs'] = mentha['PubMed ID']\n",
    "\n",
    "mentha_sig_df.replace(np.nan, 'NA', inplace=True)\n",
    "\n",
    "mentha_ppiSIG = path+'mentha_ppi_%s.sig'% str(datetime.date.today()).replace('-', '_')\n",
    "mentha_sig_df.to_csv(mentha_ppiSIG, index=None, header=None, sep='\\t')"
   ]
  },
  {
   "cell_type": "markdown",
   "metadata": {},
   "source": [
    "# Create GMT File"
   ]
  },
  {
   "cell_type": "code",
   "execution_count": null,
   "metadata": {
    "collapsed": true
   },
   "outputs": [],
   "source": [
    "#Define function 'sig_to_gmt' that converts a SIG file to a GMT file\n",
    "def sig_to_gmt(sig_df):\n",
    "    #Create two versions of df 'd1' --> one flipped and one which is in original order\n",
    "    d1 = {'protein_1': sig_df[0], 'protein_2': sig_df[5]}\n",
    "    df = pd.DataFrame(data = d1)\n",
    "    df.drop_duplicates(inplace = True)\n",
    "\n",
    "    d2 = {'protein_1': sig_df[5], 'protein_2': sig_df[0]}\n",
    "    df_flipped = pd.DataFrame(data = d2)\n",
    "    df_flipped.drop_duplicates(inplace = True)\n",
    "\n",
    "    #Make 'df' and 'df_flipped' into a single frame to account for opposite interactions\n",
    "    extend = pd.concat([df, df_flipped])\n",
    "\n",
    "    #Drop any duplicates and set index according to protein 1 so that we can aggregate \n",
    "    #all interacting protein 2's by a shared interaction with protein one\n",
    "    extend.drop_duplicates(inplace = True)\n",
    "    extend.set_index('protein_1', inplace = True)\n",
    "\n",
    "    gmt = extend.groupby('protein_1').agg(lambda x: tuple(x))\n",
    "\n",
    "    # Create column representing counts of protein interactions per protein\n",
    "    gmt['interactions'] = [int(len(lst)) for protein, lst in gmt['protein_2'].iteritems()]\n",
    "\n",
    "    # Sort proteins from max to min according to number of protein iteractions\n",
    "    gmt.sort_values(by = ['interactions'], ascending= False, inplace=True)\n",
    "\n",
    "    #Gain indexes of gene sets with 5 or more proteins and less than 2000 protein interactions\n",
    "    indices = [index for index, rowData in gmt.interactions.iteritems() if rowData >= 5 and rowData < 2000]\n",
    "\n",
    "    #filter dataframe by these indices\n",
    "    gmt = gmt.loc[indices]\n",
    "\n",
    "    #reset index and insert a column for the description\n",
    "    gmt.insert(0, 'Description', 'No Description')\n",
    "    gmt.reset_index(inplace = True)\n",
    "\n",
    "    #Drop columns not needed in GMT and join all protein interactions by a tab\n",
    "    gmt['merged'] = ['\\t'.join(x) for x in gmt['protein_2']]\n",
    "    gmt.drop('protein_2', axis = 1, inplace = True)\n",
    "    gmt.drop('interactions', axis = 1, inplace = True)\n",
    "\n",
    "    #create a dictionary and store in it rowData corresponding to each protein\n",
    "    gmt_d = dict([(key, '') for key in gmt.index])\n",
    "\n",
    "    # loop through rows with iterrows()\n",
    "    for index, rowData in gmt.iterrows():\n",
    "        line = ('\\t'.join(rowData))\n",
    "        gmt_d[index] = line\n",
    "    return gmt_d"
   ]
  },
  {
   "cell_type": "code",
   "execution_count": null,
   "metadata": {
    "collapsed": true
   },
   "outputs": [],
   "source": [
    "#Use function to obtain dictionary of the data\n",
    "mentha_dict = sig_to_gmt(mentha_sig_df)\n",
    "\n",
    "#Transfer tab-separated info into a new gmt file\n",
    "with open('mentha_ppi.gmt', 'w') as openfile:\n",
    "    for index in mentha_dict:\n",
    "        openfile.write(str(mentha_dict[index]) + '\\n')"
   ]
  }
 ],
 "metadata": {
  "kernelspec": {
   "display_name": "Python 3",
   "language": "python",
   "name": "python3"
  },
  "language_info": {
   "codemirror_mode": {
    "name": "ipython",
    "version": 3
   },
   "file_extension": ".py",
   "mimetype": "text/x-python",
   "name": "python",
   "nbconvert_exporter": "python",
   "pygments_lexer": "ipython3",
   "version": "3.6.1"
  }
 },
 "nbformat": 4,
 "nbformat_minor": 2
}
