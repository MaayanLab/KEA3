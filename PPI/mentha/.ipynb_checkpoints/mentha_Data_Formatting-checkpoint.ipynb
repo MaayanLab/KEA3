{
 "cells": [
  {
   "cell_type": "markdown",
   "metadata": {},
   "source": [
    "# Mentha"
   ]
  },
  {
   "cell_type": "markdown",
   "metadata": {},
   "source": [
    "Author: Moshe C. Silverstein  \n",
    "Date: 07-2017"
   ]
  },
  {
   "cell_type": "code",
   "execution_count": 1,
   "metadata": {
    "collapsed": true
   },
   "outputs": [],
   "source": [
    "import sys\n",
    "import numpy as np\n",
    "import pandas as pd\n",
    "import Utilities\n",
    "from Utilities import *\n",
    "from importlib import reload"
   ]
  },
  {
   "cell_type": "markdown",
   "metadata": {},
   "source": [
    "# Load Data"
   ]
  },
  {
   "cell_type": "markdown",
   "metadata": {},
   "source": [
    "Data Retrieved 1/26/2017 \n",
    "\n",
    "http://mentha.uniroma2.it/doDownload.php?file=organisms/9606.zip (mentha) "
   ]
  },
  {
   "cell_type": "code",
   "execution_count": 2,
   "metadata": {
    "collapsed": true
   },
   "outputs": [],
   "source": [
    "menthaH_df = pd.read_csv('/Users/moshesilverstein/Documents/Harmonizome/PPI Library/Input/mentha_human', sep=';')"
   ]
  },
  {
   "cell_type": "code",
   "execution_count": 3,
   "metadata": {},
   "outputs": [
    {
     "data": {
      "text/html": [
       "<div>\n",
       "<table border=\"1\" class=\"dataframe\">\n",
       "  <thead>\n",
       "    <tr style=\"text-align: right;\">\n",
       "      <th></th>\n",
       "      <th>Protein A</th>\n",
       "      <th>Gene A</th>\n",
       "      <th>Protein B</th>\n",
       "      <th>Gene B</th>\n",
       "      <th>Score</th>\n",
       "      <th>PMID</th>\n",
       "    </tr>\n",
       "  </thead>\n",
       "  <tbody>\n",
       "    <tr>\n",
       "      <th>0</th>\n",
       "      <td>Q9NX31</td>\n",
       "      <td>OSER1</td>\n",
       "      <td>P28065</td>\n",
       "      <td>PSMB9</td>\n",
       "      <td>0.126</td>\n",
       "      <td>26186194</td>\n",
       "    </tr>\n",
       "    <tr>\n",
       "      <th>1</th>\n",
       "      <td>Q9BVA1</td>\n",
       "      <td>TUBB2B</td>\n",
       "      <td>O43318</td>\n",
       "      <td>MAP3K7</td>\n",
       "      <td>0.126</td>\n",
       "      <td>14743216</td>\n",
       "    </tr>\n",
       "    <tr>\n",
       "      <th>2</th>\n",
       "      <td>Q9BVA1</td>\n",
       "      <td>TUBB2B</td>\n",
       "      <td>O43353</td>\n",
       "      <td>RIPK2</td>\n",
       "      <td>0.126</td>\n",
       "      <td>14743216</td>\n",
       "    </tr>\n",
       "    <tr>\n",
       "      <th>3</th>\n",
       "      <td>Q9BVA1</td>\n",
       "      <td>TUBB2B</td>\n",
       "      <td>O95834</td>\n",
       "      <td>EML2</td>\n",
       "      <td>0.126</td>\n",
       "      <td>26186194</td>\n",
       "    </tr>\n",
       "    <tr>\n",
       "      <th>4</th>\n",
       "      <td>Q9BVA1</td>\n",
       "      <td>TUBB2B</td>\n",
       "      <td>P19438</td>\n",
       "      <td>TNFRSF1A</td>\n",
       "      <td>0.126</td>\n",
       "      <td>14743216</td>\n",
       "    </tr>\n",
       "  </tbody>\n",
       "</table>\n",
       "</div>"
      ],
      "text/plain": [
       "  Protein A  Gene A Protein B    Gene B  Score       PMID\n",
       "0    Q9NX31   OSER1    P28065     PSMB9  0.126  26186194 \n",
       "1    Q9BVA1  TUBB2B    O43318    MAP3K7  0.126  14743216 \n",
       "2    Q9BVA1  TUBB2B    O43353     RIPK2  0.126  14743216 \n",
       "3    Q9BVA1  TUBB2B    O95834      EML2  0.126  26186194 \n",
       "4    Q9BVA1  TUBB2B    P19438  TNFRSF1A  0.126  14743216 "
      ]
     },
     "execution_count": 3,
     "metadata": {},
     "output_type": "execute_result"
    }
   ],
   "source": [
    "menthaH_df.head()"
   ]
  },
  {
   "cell_type": "code",
   "execution_count": 4,
   "metadata": {
    "collapsed": true
   },
   "outputs": [],
   "source": [
    "menthaM_df = pd.read_csv('/Users/moshesilverstein/Documents/Harmonizome/PPI Library/Input/mentha_mouse', sep=';')"
   ]
  },
  {
   "cell_type": "code",
   "execution_count": 5,
   "metadata": {},
   "outputs": [
    {
     "data": {
      "text/html": [
       "<div>\n",
       "<table border=\"1\" class=\"dataframe\">\n",
       "  <thead>\n",
       "    <tr style=\"text-align: right;\">\n",
       "      <th></th>\n",
       "      <th>Protein A</th>\n",
       "      <th>Gene A</th>\n",
       "      <th>Protein B</th>\n",
       "      <th>Gene B</th>\n",
       "      <th>Score</th>\n",
       "      <th>PMID</th>\n",
       "    </tr>\n",
       "  </thead>\n",
       "  <tbody>\n",
       "    <tr>\n",
       "      <th>0</th>\n",
       "      <td>Q5BJ29</td>\n",
       "      <td>FBXL7</td>\n",
       "      <td>P97477</td>\n",
       "      <td>AURKA</td>\n",
       "      <td>0.309</td>\n",
       "      <td>22306998</td>\n",
       "    </tr>\n",
       "    <tr>\n",
       "      <th>1</th>\n",
       "      <td>Q9R0P9</td>\n",
       "      <td>UCHL1</td>\n",
       "      <td>P17047</td>\n",
       "      <td>LAMP2</td>\n",
       "      <td>0.210</td>\n",
       "      <td>18550537</td>\n",
       "    </tr>\n",
       "    <tr>\n",
       "      <th>2</th>\n",
       "      <td>Q61411</td>\n",
       "      <td>HRAS</td>\n",
       "      <td>Q3UYI5</td>\n",
       "      <td>RGL3</td>\n",
       "      <td>0.376</td>\n",
       "      <td>10869344</td>\n",
       "    </tr>\n",
       "    <tr>\n",
       "      <th>3</th>\n",
       "      <td>Q8R3Z5</td>\n",
       "      <td>CACNB1</td>\n",
       "      <td>Q3UYC8</td>\n",
       "      <td>ADNP</td>\n",
       "      <td>0.183</td>\n",
       "      <td>15102471</td>\n",
       "    </tr>\n",
       "    <tr>\n",
       "      <th>4</th>\n",
       "      <td>Q80U70</td>\n",
       "      <td>SUZ12</td>\n",
       "      <td>Q3UXZ9</td>\n",
       "      <td>KDM5A</td>\n",
       "      <td>0.332</td>\n",
       "      <td>20064375</td>\n",
       "    </tr>\n",
       "  </tbody>\n",
       "</table>\n",
       "</div>"
      ],
      "text/plain": [
       "  Protein A  Gene A Protein B Gene B  Score       PMID\n",
       "0    Q5BJ29   FBXL7    P97477  AURKA  0.309  22306998 \n",
       "1    Q9R0P9   UCHL1    P17047  LAMP2  0.210  18550537 \n",
       "2    Q61411    HRAS    Q3UYI5   RGL3  0.376  10869344 \n",
       "3    Q8R3Z5  CACNB1    Q3UYC8   ADNP  0.183  15102471 \n",
       "4    Q80U70   SUZ12    Q3UXZ9  KDM5A  0.332  20064375 "
      ]
     },
     "execution_count": 5,
     "metadata": {},
     "output_type": "execute_result"
    }
   ],
   "source": [
    "menthaM_df.head()"
   ]
  },
  {
   "cell_type": "code",
   "execution_count": 6,
   "metadata": {
    "collapsed": true
   },
   "outputs": [],
   "source": [
    "mentha_df = pd.concat([menthaH_df, menthaM_df])"
   ]
  },
  {
   "cell_type": "code",
   "execution_count": 7,
   "metadata": {
    "collapsed": true
   },
   "outputs": [],
   "source": [
    "mentha_df = mentha_df.reset_index().drop('index', axis=1)"
   ]
  },
  {
   "cell_type": "code",
   "execution_count": 8,
   "metadata": {},
   "outputs": [
    {
     "data": {
      "text/html": [
       "<div>\n",
       "<table border=\"1\" class=\"dataframe\">\n",
       "  <thead>\n",
       "    <tr style=\"text-align: right;\">\n",
       "      <th></th>\n",
       "      <th>Protein A</th>\n",
       "      <th>Gene A</th>\n",
       "      <th>Protein B</th>\n",
       "      <th>Gene B</th>\n",
       "      <th>Score</th>\n",
       "      <th>PMID</th>\n",
       "    </tr>\n",
       "  </thead>\n",
       "  <tbody>\n",
       "    <tr>\n",
       "      <th>0</th>\n",
       "      <td>Q9NX31</td>\n",
       "      <td>OSER1</td>\n",
       "      <td>P28065</td>\n",
       "      <td>PSMB9</td>\n",
       "      <td>0.126</td>\n",
       "      <td>26186194</td>\n",
       "    </tr>\n",
       "    <tr>\n",
       "      <th>1</th>\n",
       "      <td>Q9BVA1</td>\n",
       "      <td>TUBB2B</td>\n",
       "      <td>O43318</td>\n",
       "      <td>MAP3K7</td>\n",
       "      <td>0.126</td>\n",
       "      <td>14743216</td>\n",
       "    </tr>\n",
       "    <tr>\n",
       "      <th>2</th>\n",
       "      <td>Q9BVA1</td>\n",
       "      <td>TUBB2B</td>\n",
       "      <td>O43353</td>\n",
       "      <td>RIPK2</td>\n",
       "      <td>0.126</td>\n",
       "      <td>14743216</td>\n",
       "    </tr>\n",
       "    <tr>\n",
       "      <th>3</th>\n",
       "      <td>Q9BVA1</td>\n",
       "      <td>TUBB2B</td>\n",
       "      <td>O95834</td>\n",
       "      <td>EML2</td>\n",
       "      <td>0.126</td>\n",
       "      <td>26186194</td>\n",
       "    </tr>\n",
       "    <tr>\n",
       "      <th>4</th>\n",
       "      <td>Q9BVA1</td>\n",
       "      <td>TUBB2B</td>\n",
       "      <td>P19438</td>\n",
       "      <td>TNFRSF1A</td>\n",
       "      <td>0.126</td>\n",
       "      <td>14743216</td>\n",
       "    </tr>\n",
       "  </tbody>\n",
       "</table>\n",
       "</div>"
      ],
      "text/plain": [
       "  Protein A  Gene A Protein B    Gene B  Score       PMID\n",
       "0    Q9NX31   OSER1    P28065     PSMB9  0.126  26186194 \n",
       "1    Q9BVA1  TUBB2B    O43318    MAP3K7  0.126  14743216 \n",
       "2    Q9BVA1  TUBB2B    O43353     RIPK2  0.126  14743216 \n",
       "3    Q9BVA1  TUBB2B    O95834      EML2  0.126  26186194 \n",
       "4    Q9BVA1  TUBB2B    P19438  TNFRSF1A  0.126  14743216 "
      ]
     },
     "execution_count": 8,
     "metadata": {},
     "output_type": "execute_result"
    }
   ],
   "source": [
    "mentha_df.head()"
   ]
  },
  {
   "cell_type": "markdown",
   "metadata": {},
   "source": [
    "# Load Gene Mapping File"
   ]
  },
  {
   "cell_type": "code",
   "execution_count": 9,
   "metadata": {
    "collapsed": true
   },
   "outputs": [],
   "source": [
    "mappingFile = pd.read_csv('/Users/moshesilverstein/Documents/Harmonizome/PPI Library/Doc and Mapping/mappingFile_2017.txt', sep='\\t', header=None, index_col=0)"
   ]
  },
  {
   "cell_type": "markdown",
   "metadata": {},
   "source": [
    "# Select Relevent Data"
   ]
  },
  {
   "cell_type": "code",
   "execution_count": 10,
   "metadata": {
    "collapsed": true
   },
   "outputs": [],
   "source": [
    "mentha_df = mentha_df[['Gene A', 'Gene B', 'PMID']]"
   ]
  },
  {
   "cell_type": "code",
   "execution_count": 11,
   "metadata": {
    "collapsed": true
   },
   "outputs": [],
   "source": [
    "mentha_df['Source databases'] = '(mentha)'"
   ]
  },
  {
   "cell_type": "code",
   "execution_count": 12,
   "metadata": {
    "collapsed": true
   },
   "outputs": [],
   "source": [
    "mentha_df.rename(columns={'Gene A': 'Protein A (gene name)', 'Gene B':'Protein B (gene name)', 'PMID':'PubMed ID'}, inplace=True)"
   ]
  },
  {
   "cell_type": "markdown",
   "metadata": {},
   "source": [
    "# Map Gene to human and updated approved symbols"
   ]
  },
  {
   "cell_type": "code",
   "execution_count": 13,
   "metadata": {},
   "outputs": [
    {
     "name": "stdout",
     "output_type": "stream",
     "text": [
      "Progeres: 100%  285881 Out of 285881   \r"
     ]
    }
   ],
   "source": [
    "mapgenesymbols(mentha_df, mappingFile, 'Protein A (gene name)', 'Protein B (gene name)')"
   ]
  },
  {
   "cell_type": "markdown",
   "metadata": {},
   "source": [
    "# Get PubMed Ids"
   ]
  },
  {
   "cell_type": "code",
   "execution_count": 14,
   "metadata": {},
   "outputs": [
    {
     "name": "stdout",
     "output_type": "stream",
     "text": [
      "Progeres: 100%  273170 Out of 273170   \r"
     ]
    }
   ],
   "source": [
    "# Get Only PubMed ID for publication identifier\n",
    "\n",
    "for i,index in enumerate(mentha_df.index):\n",
    "            \n",
    "    progressPercent = ((i+1)/len(mentha_df.index))*100\n",
    "\n",
    "    sys.stdout.write(\"Progeres: %d%%  %d Out of %d   \\r\" % (progressPercent, (i+1), len(mentha_df.index)))\n",
    "    sys.stdout.flush()\n",
    "\n",
    "    mentha_df.ix[index, 'PubMed ID'] = '|'.join(mentha_df.ix[index, 'PubMed ID'].split(' ')[0:-1])\n"
   ]
  },
  {
   "cell_type": "markdown",
   "metadata": {},
   "source": [
    "# Unfiltered"
   ]
  },
  {
   "cell_type": "code",
   "execution_count": 15,
   "metadata": {
    "collapsed": true
   },
   "outputs": [],
   "source": [
    "# uf = unfiltered\n",
    "mentha_uf_df = mentha_df.copy()"
   ]
  },
  {
   "cell_type": "markdown",
   "metadata": {},
   "source": [
    "### Combine duplicate ppis while concatanatig referances"
   ]
  },
  {
   "cell_type": "code",
   "execution_count": 16,
   "metadata": {
    "collapsed": true
   },
   "outputs": [],
   "source": [
    "combineDupPPIs(mentha_uf_df)"
   ]
  },
  {
   "cell_type": "markdown",
   "metadata": {},
   "source": [
    "### Create .sig File"
   ]
  },
  {
   "cell_type": "code",
   "execution_count": 17,
   "metadata": {
    "collapsed": true
   },
   "outputs": [],
   "source": [
    "pathU = '~/./Documents/Harmonizome/PPI Library/Output/IndividualResources/Unfiltered/'\n",
    "\n",
    "createSigFile(mentha_uf_df, pathU, 'mentha', False)"
   ]
  },
  {
   "cell_type": "markdown",
   "metadata": {},
   "source": [
    "# Filtered"
   ]
  },
  {
   "cell_type": "code",
   "execution_count": 18,
   "metadata": {
    "collapsed": true
   },
   "outputs": [],
   "source": [
    "mentha_f_df = mentha_df.copy()"
   ]
  },
  {
   "cell_type": "code",
   "execution_count": 19,
   "metadata": {},
   "outputs": [
    {
     "name": "stdout",
     "output_type": "stream",
     "text": [
      "Progress: 102%  36184 Out of 35143   \r"
     ]
    }
   ],
   "source": [
    "# drop any data that was published with more then 10 PPI's per publication or doesnt have a ppi\n",
    "filterPPIbyPubmed(mentha_f_df, 10)"
   ]
  },
  {
   "cell_type": "markdown",
   "metadata": {},
   "source": [
    "### Combine duplicate ppis while concatanatig referances"
   ]
  },
  {
   "cell_type": "code",
   "execution_count": 20,
   "metadata": {},
   "outputs": [
    {
     "name": "stdout",
     "output_type": "stream",
     "text": [
      "Progress: 100%  54409 Out of 54409   \r"
     ]
    }
   ],
   "source": [
    "combineDupPPIs(mentha_f_df)"
   ]
  },
  {
   "cell_type": "markdown",
   "metadata": {},
   "source": [
    "### Create .sig File"
   ]
  },
  {
   "cell_type": "code",
   "execution_count": 21,
   "metadata": {
    "collapsed": true
   },
   "outputs": [],
   "source": [
    "pathF = '~/./Documents/Harmonizome/PPI Library/Output/IndividualResources/Filtered/'\n",
    "\n",
    "createSigFile(mentha_f_df, pathF, 'mentha', True)"
   ]
  },
  {
   "cell_type": "markdown",
   "metadata": {},
   "source": [
    "## Create .gmt File"
   ]
  },
  {
   "cell_type": "code",
   "execution_count": 9,
   "metadata": {
    "collapsed": true
   },
   "outputs": [],
   "source": [
    "# Download both filtered and unfiltered SIG files\n",
    "\n",
    "#Download UNFILTERED data\n",
    "mentha_sig = pd.read_table(\"~/Desktop/Projects/KEA3/PPI/mentha/mentha_unfiltered_ppi_2017_07_13.sig\", header = None)\n",
    "\n",
    "#Download FILTERED data\n",
    "#mentha_sig = pd.read_table(\"~/Desktop/Projects/KEA3/PPI/mentha/mentha_filtered_ppi_2017_07_13.sig\", header = None)"
   ]
  },
  {
   "cell_type": "code",
   "execution_count": 10,
   "metadata": {
    "collapsed": true
   },
   "outputs": [],
   "source": [
    "#convert a SIG file to a GMT file\n",
    "#Create two versions of df 'd1' --> one flipped and one which is in original order\n",
    "d1 = {'protein_1': mentha_sig[0], 'protein_2': mentha_sig[5]}\n",
    "df = pd.DataFrame(data = d1)\n",
    "df.drop_duplicates(inplace = True)\n",
    "\n",
    "d2 = {'protein_1': mentha_sig[5], 'protein_2': mentha_sig[0]}\n",
    "df_flipped = pd.DataFrame(data = d2)\n",
    "df_flipped.drop_duplicates(inplace = True)\n",
    "\n",
    "#Make 'df' and 'df_flipped' into a single frame to account for opposite interactions\n",
    "extend = pd.concat([df, df_flipped])\n",
    "\n",
    "#Drop any duplicates and set index according to protein 1 so that we can aggregate \n",
    "#all interacting protein 2's by a shared interaction with protein one\n",
    "extend.drop_duplicates(inplace = True)\n",
    "extend.set_index('protein_1', inplace = True)\n",
    "\n",
    "gmt = extend.groupby('protein_1').agg(lambda x: tuple(x))\n",
    "\n",
    "# Create column representing counts of protein interactions per protein\n",
    "gmt['interactions'] = [int(len(lst)) for protein, lst in gmt['protein_2'].iteritems()]\n",
    "\n",
    "# Sort proteins from max to min according to number of protein iteractions\n",
    "gmt.sort_values(by = ['interactions'], ascending= False, inplace=True)\n",
    "\n",
    "#Gain indexes of gene sets with 5 or more proteins and less than 2000 protein interactions\n",
    "indices = [index for index, rowData in gmt.interactions.iteritems() if rowData >= 5 and rowData < 2000]\n",
    "\n",
    "#filter dataframe by these indices\n",
    "gmt = gmt.loc[indices]\n",
    "\n",
    "gmt_2 = gmt.copy()\n",
    "\n",
    "#reset index and insert a column for the description\n",
    "gmt_2.insert(0, 'Description', 'mentha')\n",
    "gmt_2.reset_index(inplace = True)\n",
    "\n",
    "#Drop columns not needed in GMT and join all protein interactions by a tab\n",
    "gmt_2['merged'] = ['\\t'.join(x) for x in gmt_2['protein_2']]\n",
    "gmt_2.drop('protein_2', axis = 1, inplace = True)\n",
    "gmt_2.drop('interactions', axis = 1, inplace = True)\n",
    "\n",
    "#create a dictionary and store in it rowData corresponding to each protein\n",
    "gmt_d = dict([(key, '') for key in gmt_2.index])\n",
    "\n",
    "# loop through rows with iterrows()\n",
    "for index, rowData in gmt_2.iterrows():\n",
    "    line = ('\\t'.join(rowData))\n",
    "    gmt_d[index] = line"
   ]
  },
  {
   "cell_type": "markdown",
   "metadata": {},
   "source": [
    "## Print GMT to File and Gather Statistics"
   ]
  },
  {
   "cell_type": "markdown",
   "metadata": {},
   "source": [
    "Code Below Written By: Marina Latif"
   ]
  },
  {
   "cell_type": "code",
   "execution_count": 11,
   "metadata": {},
   "outputs": [
    {
     "data": {
      "text/plain": [
       "11856"
      ]
     },
     "execution_count": 11,
     "metadata": {},
     "output_type": "execute_result"
    }
   ],
   "source": [
    "genes_term = gmt.interactions\n",
    "\n",
    "len(genes_term)"
   ]
  },
  {
   "cell_type": "code",
   "execution_count": 12,
   "metadata": {},
   "outputs": [
    {
     "data": {
      "text/plain": [
       "512389"
      ]
     },
     "execution_count": 12,
     "metadata": {},
     "output_type": "execute_result"
    }
   ],
   "source": [
    "sum(genes_term)"
   ]
  },
  {
   "cell_type": "code",
   "execution_count": 13,
   "metadata": {},
   "outputs": [
    {
     "data": {
      "text/plain": [
       "43.21769568151147"
      ]
     },
     "execution_count": 13,
     "metadata": {},
     "output_type": "execute_result"
    }
   ],
   "source": [
    "avg_num_terms = genes_term.mean(axis = 0)\n",
    "avg_num_terms"
   ]
  },
  {
   "cell_type": "code",
   "execution_count": 14,
   "metadata": {},
   "outputs": [
    {
     "data": {
      "text/plain": [
       "15719"
      ]
     },
     "execution_count": 14,
     "metadata": {},
     "output_type": "execute_result"
    }
   ],
   "source": [
    "#For inclusion on website as a statistic, calculate \n",
    "#the total number of unique terms for the dataset\n",
    "stat_df = extend.loc[indices]\n",
    "\n",
    "stat_df.reset_index(inplace=True)\n",
    "\n",
    "all_terms = pd.concat([stat_df.protein_1, stat_df.protein_2], axis = 0)\n",
    "len(all_terms.unique())"
   ]
  },
  {
   "cell_type": "code",
   "execution_count": 15,
   "metadata": {
    "collapsed": true
   },
   "outputs": [],
   "source": [
    "#Transfer tab-separated info into a new gmt file\n",
    "with open('mentha_ppi_unfiltered.gmt', 'w') as openfile:\n",
    "    for index in gmt_d:\n",
    "        openfile.write(str(gmt_d[index]) + '\\n')"
   ]
  }
 ],
 "metadata": {
  "kernelspec": {
   "display_name": "Python 3",
   "language": "python",
   "name": "python3"
  },
  "language_info": {
   "codemirror_mode": {
    "name": "ipython",
    "version": 3
   },
   "file_extension": ".py",
   "mimetype": "text/x-python",
   "name": "python",
   "nbconvert_exporter": "python",
   "pygments_lexer": "ipython3",
   "version": "3.6.1"
  }
 },
 "nbformat": 4,
 "nbformat_minor": 2
}
