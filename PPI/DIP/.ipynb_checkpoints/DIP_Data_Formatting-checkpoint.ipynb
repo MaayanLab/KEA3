{
 "cells": [
  {
   "cell_type": "markdown",
   "metadata": {},
   "source": [
    "# DIP"
   ]
  },
  {
   "cell_type": "markdown",
   "metadata": {},
   "source": [
    "Author: Moshe C. Silverstein  \n",
    "Date: 07-2017"
   ]
  },
  {
   "cell_type": "code",
   "execution_count": 1,
   "metadata": {
    "collapsed": true
   },
   "outputs": [],
   "source": [
    "import sys\n",
    "import re\n",
    "import numpy as np\n",
    "import pandas as pd\n",
    "import Utilities\n",
    "from Utilities import *\n",
    "from importlib import reload"
   ]
  },
  {
   "cell_type": "markdown",
   "metadata": {},
   "source": [
    "# Load Data"
   ]
  },
  {
   "cell_type": "markdown",
   "metadata": {},
   "source": [
    "Data Retrieved 1/25/2017\n",
    "\n",
    "http://dip.doe-mbi.ucla.edu/dip/File.cgi?FN=2016/tab25/dip20160731.txt (DIP)"
   ]
  },
  {
   "cell_type": "code",
   "execution_count": 2,
   "metadata": {
    "collapsed": true
   },
   "outputs": [],
   "source": [
    "dip_df = pd.read_csv('/Users/moshesilverstein/Documents/Harmonizome/PPI Library/Input/dip20160731.txt', sep='\\t', index_col=False)"
   ]
  },
  {
   "cell_type": "markdown",
   "metadata": {},
   "source": [
    "# Load Gene Mapping File"
   ]
  },
  {
   "cell_type": "code",
   "execution_count": 3,
   "metadata": {
    "collapsed": true
   },
   "outputs": [],
   "source": [
    "mappingFile = pd.read_csv('/Users/moshesilverstein/Documents/Harmonizome/PPI Library/Doc and Mapping/mappingFile_2017.txt', sep='\\t', header=None, index_col=0)"
   ]
  },
  {
   "cell_type": "code",
   "execution_count": 4,
   "metadata": {
    "collapsed": true
   },
   "outputs": [],
   "source": [
    "# To map uniprot to gene symbol\n",
    "mappingUniP_df = pd.read_csv('/Users/moshesilverstein/Documents/Harmonizome/PPI Library/Doc and Mapping/mapUniProt.txt', sep='\\t')"
   ]
  },
  {
   "cell_type": "code",
   "execution_count": 5,
   "metadata": {
    "collapsed": true
   },
   "outputs": [],
   "source": [
    "mappingUniP_df.drop_duplicates(subset='UniProt ID(supplied by UniProt)', inplace=True, keep=False)"
   ]
  },
  {
   "cell_type": "code",
   "execution_count": 6,
   "metadata": {
    "collapsed": true
   },
   "outputs": [],
   "source": [
    "mappingUniP_df.set_index('UniProt ID(supplied by UniProt)', inplace=True)"
   ]
  },
  {
   "cell_type": "code",
   "execution_count": 7,
   "metadata": {},
   "outputs": [
    {
     "data": {
      "text/html": [
       "<div>\n",
       "<table border=\"1\" class=\"dataframe\">\n",
       "  <thead>\n",
       "    <tr style=\"text-align: right;\">\n",
       "      <th></th>\n",
       "      <th>Approved Symbol</th>\n",
       "    </tr>\n",
       "    <tr>\n",
       "      <th>UniProt ID(supplied by UniProt)</th>\n",
       "      <th></th>\n",
       "    </tr>\n",
       "  </thead>\n",
       "  <tbody>\n",
       "    <tr>\n",
       "      <th>P04217</th>\n",
       "      <td>A1BG</td>\n",
       "    </tr>\n",
       "    <tr>\n",
       "      <th>Q9NQ94</th>\n",
       "      <td>A1CF</td>\n",
       "    </tr>\n",
       "    <tr>\n",
       "      <th>P01023</th>\n",
       "      <td>A2M</td>\n",
       "    </tr>\n",
       "    <tr>\n",
       "      <th>A8K2U0</th>\n",
       "      <td>A2ML1</td>\n",
       "    </tr>\n",
       "    <tr>\n",
       "      <th>U3KPV4</th>\n",
       "      <td>A3GALT2</td>\n",
       "    </tr>\n",
       "  </tbody>\n",
       "</table>\n",
       "</div>"
      ],
      "text/plain": [
       "                                Approved Symbol\n",
       "UniProt ID(supplied by UniProt)                \n",
       "P04217                                     A1BG\n",
       "Q9NQ94                                     A1CF\n",
       "P01023                                      A2M\n",
       "A8K2U0                                    A2ML1\n",
       "U3KPV4                                  A3GALT2"
      ]
     },
     "execution_count": 7,
     "metadata": {},
     "output_type": "execute_result"
    }
   ],
   "source": [
    "mappingUniP_df.head()"
   ]
  },
  {
   "cell_type": "markdown",
   "metadata": {},
   "source": [
    "# Select Relevent Data"
   ]
  },
  {
   "cell_type": "code",
   "execution_count": 8,
   "metadata": {
    "collapsed": true
   },
   "outputs": [],
   "source": [
    "# get only human and mouse data\n",
    "n = dip_df['Taxid interactor A'].values\n",
    "b = [i for i,item in enumerate(n) if \"Homo sapiens\" in item or \"Mus musculus\" in item]\n",
    "dip_df = dip_df.ix[b]\n",
    "\n",
    "dip_df =  dip_df.reset_index().drop('index', axis=1)\n",
    "\n",
    "n = dip_df['Taxid interactor B'].values\n",
    "b = [i for i,item in enumerate(n) if \"Homo sapiens\" in item or \"Mus musculus\" in item]\n",
    "dip_df = dip_df.ix[b]\n",
    "\n",
    "dip_df =  dip_df.reset_index().drop('index', axis=1)"
   ]
  },
  {
   "cell_type": "code",
   "execution_count": 9,
   "metadata": {
    "collapsed": true
   },
   "outputs": [],
   "source": [
    "dip_df = dip_df[['ID interactor A', 'ID interactor B', 'Publication Identifier(s)', 'Source database(s)']]"
   ]
  },
  {
   "cell_type": "code",
   "execution_count": 10,
   "metadata": {
    "collapsed": true
   },
   "outputs": [],
   "source": [
    "dip_df.rename(columns={'ID interactor A': 'Protein A (gene name)', 'ID interactor B':'Protein B (gene name)', 'Publication Identifier(s)':'PubMed ID', 'Source database(s)':'Source databases'}, inplace=True)"
   ]
  },
  {
   "cell_type": "code",
   "execution_count": 11,
   "metadata": {},
   "outputs": [
    {
     "data": {
      "text/plain": [
       "'DIP-6020N|refseq:NP_076918|uniprotkb:P01562'"
      ]
     },
     "execution_count": 11,
     "metadata": {},
     "output_type": "execute_result"
    }
   ],
   "source": [
    "dip_df.ix[696, 'Protein B (gene name)']"
   ]
  },
  {
   "cell_type": "code",
   "execution_count": 12,
   "metadata": {},
   "outputs": [
    {
     "name": "stdout",
     "output_type": "stream",
     "text": [
      "Progress: 100%  7800 Out of 7800   \r"
     ]
    }
   ],
   "source": [
    "# change columns to just show gene name\n",
    "lstA = []\n",
    "lstB = []\n",
    "for i,index in enumerate(dip_df.index):\n",
    "    \n",
    "    progressPercent = ((i+1)/len(dip_df.index))*100\n",
    "\n",
    "    sys.stdout.write(\"Progress: %d%%  %d Out of %d   \\r\" % (progressPercent, (i+1), len(dip_df.index)))\n",
    "    sys.stdout.flush()\n",
    "    \n",
    "    listA = dip_df.ix[index, 'Protein A (gene name)'].split('|')\n",
    "    \n",
    "    for element in listA:\n",
    "        if 'uniprotkb' in element or 'uniprot' in element:\n",
    "            if element.split(':')[1] in mappingUniP_df.index:\n",
    "                lstA.append(mappingUniP_df.ix[element.split(':')[1], 'Approved Symbol'])\n",
    "                break\n",
    "            else:\n",
    "                lstA.append(np.nan)\n",
    "                break          \n",
    "        elif element == listA[-1]:\n",
    "            lstA.append(np.nan)\n",
    "            break\n",
    "            \n",
    "\n",
    "        \n",
    "    listB = dip_df.ix[index, 'Protein B (gene name)'].split('|')\n",
    "    \n",
    "    for element in listB:\n",
    "        if 'uniprotkb' in element or 'uniprot' in element:\n",
    "            if element.split(':')[1] in mappingUniP_df.index:\n",
    "                lstB.append( mappingUniP_df.ix[element.split(':')[1], 'Approved Symbol'])\n",
    "                break\n",
    "            else:\n",
    "                lstB.append(np.nan)\n",
    "                break\n",
    "        elif element == listB[-1]:\n",
    "            lstB.append(np.nan)\n",
    "            break\n",
    "\n",
    "            \n",
    "dip_df['Protein A (gene name)'] = lstA\n",
    "dip_df['Protein B (gene name)'] = lstB\n",
    "dip_df.dropna(inplace=True)"
   ]
  },
  {
   "cell_type": "code",
   "execution_count": 13,
   "metadata": {},
   "outputs": [
    {
     "data": {
      "text/plain": [
       "(5018, 4)"
      ]
     },
     "execution_count": 13,
     "metadata": {},
     "output_type": "execute_result"
    }
   ],
   "source": [
    "dip_df.shape"
   ]
  },
  {
   "cell_type": "code",
   "execution_count": 14,
   "metadata": {
    "collapsed": true
   },
   "outputs": [],
   "source": [
    "dip_df = dip_df.reset_index().drop('index', axis=1)"
   ]
  },
  {
   "cell_type": "markdown",
   "metadata": {},
   "source": [
    "# Map Gene to human and updated approved symbols"
   ]
  },
  {
   "cell_type": "code",
   "execution_count": 15,
   "metadata": {},
   "outputs": [
    {
     "data": {
      "text/html": [
       "<div>\n",
       "<table border=\"1\" class=\"dataframe\">\n",
       "  <thead>\n",
       "    <tr style=\"text-align: right;\">\n",
       "      <th></th>\n",
       "      <th>Protein A (gene name)</th>\n",
       "      <th>Protein B (gene name)</th>\n",
       "      <th>PubMed ID</th>\n",
       "      <th>Source databases</th>\n",
       "    </tr>\n",
       "  </thead>\n",
       "  <tbody>\n",
       "    <tr>\n",
       "      <th>482</th>\n",
       "      <td>IFNA5</td>\n",
       "      <td>IFNAR2</td>\n",
       "      <td>pubmed:10395669|pubmed:DIP-1571S</td>\n",
       "      <td>MI:0465(dip)</td>\n",
       "    </tr>\n",
       "    <tr>\n",
       "      <th>483</th>\n",
       "      <td>IFNAR2</td>\n",
       "      <td>IFNA8</td>\n",
       "      <td>pubmed:10395669|pubmed:DIP-1571S</td>\n",
       "      <td>MI:0465(dip)</td>\n",
       "    </tr>\n",
       "    <tr>\n",
       "      <th>484</th>\n",
       "      <td>IFNB1</td>\n",
       "      <td>IFNAR2</td>\n",
       "      <td>pubmed:10395669|pubmed:DIP-1571S</td>\n",
       "      <td>MI:0465(dip)</td>\n",
       "    </tr>\n",
       "  </tbody>\n",
       "</table>\n",
       "</div>"
      ],
      "text/plain": [
       "    Protein A (gene name) Protein B (gene name)  \\\n",
       "482                 IFNA5                IFNAR2   \n",
       "483                IFNAR2                 IFNA8   \n",
       "484                 IFNB1                IFNAR2   \n",
       "\n",
       "                            PubMed ID Source databases  \n",
       "482  pubmed:10395669|pubmed:DIP-1571S     MI:0465(dip)  \n",
       "483  pubmed:10395669|pubmed:DIP-1571S     MI:0465(dip)  \n",
       "484  pubmed:10395669|pubmed:DIP-1571S     MI:0465(dip)  "
      ]
     },
     "execution_count": 15,
     "metadata": {},
     "output_type": "execute_result"
    }
   ],
   "source": [
    "dip_df.ix[482:484]"
   ]
  },
  {
   "cell_type": "code",
   "execution_count": 16,
   "metadata": {},
   "outputs": [
    {
     "name": "stdout",
     "output_type": "stream",
     "text": [
      "Progeres: 100%  5018 Out of 5018   \r"
     ]
    }
   ],
   "source": [
    "mapgenesymbols(dip_df, mappingFile, 'Protein A (gene name)', 'Protein B (gene name)')"
   ]
  },
  {
   "cell_type": "markdown",
   "metadata": {},
   "source": [
    "# Get PubMed Ids"
   ]
  },
  {
   "cell_type": "code",
   "execution_count": 17,
   "metadata": {
    "collapsed": true
   },
   "outputs": [],
   "source": [
    "# Get Only PubMed ID for publication identifier\n",
    "getPubMedIds(dip_df, 'PubMed ID')"
   ]
  },
  {
   "cell_type": "markdown",
   "metadata": {},
   "source": [
    "# Unfiltered"
   ]
  },
  {
   "cell_type": "code",
   "execution_count": 18,
   "metadata": {
    "collapsed": true
   },
   "outputs": [],
   "source": [
    "# uf = unfiltered\n",
    "dip_uf_df = dip_df.copy()"
   ]
  },
  {
   "cell_type": "markdown",
   "metadata": {},
   "source": [
    "### Combine duplicate ppis while concatanatig referances"
   ]
  },
  {
   "cell_type": "code",
   "execution_count": 19,
   "metadata": {},
   "outputs": [
    {
     "name": "stdout",
     "output_type": "stream",
     "text": [
      "Progress: 100%  4999 Out of 4999   \r"
     ]
    }
   ],
   "source": [
    "combineDupPPIs(dip_uf_df)"
   ]
  },
  {
   "cell_type": "markdown",
   "metadata": {},
   "source": [
    "### Create .sig File"
   ]
  },
  {
   "cell_type": "code",
   "execution_count": 20,
   "metadata": {
    "collapsed": true
   },
   "outputs": [],
   "source": [
    "pathU = '~/./Documents/Harmonizome/PPI Library/Output/IndividualResources/Unfiltered/'\n",
    "\n",
    "createSigFile(dip_uf_df, pathU, 'dip', False)"
   ]
  },
  {
   "cell_type": "markdown",
   "metadata": {},
   "source": [
    "# Filtered"
   ]
  },
  {
   "cell_type": "code",
   "execution_count": 21,
   "metadata": {
    "collapsed": true
   },
   "outputs": [],
   "source": [
    "dip_f_df = dip_df.copy()"
   ]
  },
  {
   "cell_type": "code",
   "execution_count": 22,
   "metadata": {},
   "outputs": [
    {
     "name": "stdout",
     "output_type": "stream",
     "text": [
      "Progress: 103%  1971 Out of 1912   \r"
     ]
    }
   ],
   "source": [
    "# drop any data that was published with more then 10 PPI's per publication or doesnt have a ppi\n",
    "filterPPIbyPubmed(dip_f_df, 10)"
   ]
  },
  {
   "cell_type": "markdown",
   "metadata": {},
   "source": [
    "### Combine duplicate ppis while concatanatig referances"
   ]
  },
  {
   "cell_type": "code",
   "execution_count": 23,
   "metadata": {},
   "outputs": [
    {
     "name": "stdout",
     "output_type": "stream",
     "text": [
      "Progress: 100%  3822 Out of 3822   \r"
     ]
    }
   ],
   "source": [
    "combineDupPPIs(dip_f_df)"
   ]
  },
  {
   "cell_type": "markdown",
   "metadata": {},
   "source": [
    "### Create .sig File"
   ]
  },
  {
   "cell_type": "code",
   "execution_count": 24,
   "metadata": {
    "collapsed": true
   },
   "outputs": [],
   "source": [
    "pathF = '~/./Documents/Harmonizome/PPI Library/Output/IndividualResources/Filtered/'\n",
    "\n",
    "createSigFile(dip_f_df, pathF, 'dip', True)"
   ]
  },
  {
   "cell_type": "markdown",
   "metadata": {},
   "source": [
    "## Create .gmt file"
   ]
  },
  {
<<<<<<< HEAD:PPI/DIP/DIP Data Formatting.ipynb
   "cell_type": "code",
   "execution_count": 2,
=======
   "cell_type": "markdown",
   "metadata": {},
   "source": [
    "Code Below Written By: Marina Latif"
   ]
  },
  {
   "cell_type": "code",
   "execution_count": 16,
>>>>>>> working:PPI/DIP/.ipynb_checkpoints/DIP_Data_Formatting-checkpoint.ipynb
   "metadata": {
    "collapsed": true
   },
   "outputs": [],
   "source": [
    "# Download both filtered and unfiltered SIG files\n",
    "\n",
    "#Download UNFILTERED data\n",
<<<<<<< HEAD:PPI/DIP/DIP Data Formatting.ipynb
    "dip_sig = pd.read_table(\"~/Desktop/Projects/KEA3/PPI/DIP/dip_unfiltered_ppi_2017_07_12.sig\", header = None)\n",
    "\n",
    "#Download FILTERED data\n",
    "#dip_sig = pd.read_table(\"~/Desktop/Projects/KEA3/PPI/DIP/dip_filtered_ppi_2017_07_12.sig\", header = None)"
=======
    "#dip_sig = pd.read_table(\"~/Desktop/Projects/KEA3/PPI/DIP/dip_unfiltered_ppi_2017_07_12.sig\", header = None)\n",
    "\n",
    "#Download FILTERED data\n",
    "dip_sig = pd.read_table(\"~/Desktop/Projects/KEA3/PPI/DIP/dip_filtered_ppi_2017_07_12.sig\", header = None)"
>>>>>>> working:PPI/DIP/.ipynb_checkpoints/DIP_Data_Formatting-checkpoint.ipynb
   ]
  },
  {
   "cell_type": "code",
<<<<<<< HEAD:PPI/DIP/DIP Data Formatting.ipynb
   "execution_count": 3,
=======
   "execution_count": 17,
>>>>>>> working:PPI/DIP/.ipynb_checkpoints/DIP_Data_Formatting-checkpoint.ipynb
   "metadata": {
    "collapsed": true
   },
   "outputs": [],
   "source": [
    "#convert a SIG file to a GMT file\n",
    "#Create two versions of df 'd1' --> one flipped and one which is in original order\n",
    "d1 = {'protein_1': dip_sig[0], 'protein_2': dip_sig[5]}\n",
    "df = pd.DataFrame(data = d1)\n",
    "df.drop_duplicates(inplace = True)\n",
    "\n",
    "d2 = {'protein_1': dip_sig[5], 'protein_2': dip_sig[0]}\n",
    "df_flipped = pd.DataFrame(data = d2)\n",
    "df_flipped.drop_duplicates(inplace = True)\n",
    "\n",
    "#Make 'df' and 'df_flipped' into a single frame to account for opposite interactions\n",
    "extend = pd.concat([df, df_flipped])\n",
    "\n",
    "#Drop any duplicates and set index according to protein 1 so that we can aggregate \n",
    "#all interacting protein 2's by a shared interaction with protein one\n",
    "extend.drop_duplicates(inplace = True)\n",
    "extend.set_index('protein_1', inplace = True)\n",
    "\n",
    "gmt = extend.groupby('protein_1').agg(lambda x: tuple(x))\n",
    "\n",
    "# Create column representing counts of protein interactions per protein\n",
    "gmt['interactions'] = [int(len(lst)) for protein, lst in gmt['protein_2'].iteritems()]\n",
    "\n",
    "# Sort proteins from max to min according to number of protein iteractions\n",
    "gmt.sort_values(by = ['interactions'], ascending= False, inplace=True)\n",
    "\n",
    "#Gain indexes of gene sets with 5 or more proteins and less than 2000 protein interactions\n",
    "indices = [index for index, rowData in gmt.interactions.iteritems() if rowData >= 5 and rowData < 2000]\n",
    "\n",
    "#filter dataframe by these indices\n",
    "gmt = gmt.loc[indices]\n",
    "\n",
    "gmt_2 = gmt.copy()\n",
    "\n",
    "#reset index and insert a column for the description\n",
<<<<<<< HEAD:PPI/DIP/DIP Data Formatting.ipynb
    "gmt_2.insert(0, 'Description', 'No Description')\n",
=======
    "gmt_2.insert(0, 'Description', 'DIP')\n",
>>>>>>> working:PPI/DIP/.ipynb_checkpoints/DIP_Data_Formatting-checkpoint.ipynb
    "gmt_2.reset_index(inplace = True)\n",
    "\n",
    "#Drop columns not needed in GMT and join all protein interactions by a tab\n",
    "gmt_2['merged'] = ['\\t'.join(x) for x in gmt_2['protein_2']]\n",
    "gmt_2.drop('protein_2', axis = 1, inplace = True)\n",
    "gmt_2.drop('interactions', axis = 1, inplace = True)\n",
    "\n",
    "#create a dictionary and store in it rowData corresponding to each protein\n",
    "gmt_d = dict([(key, '') for key in gmt_2.index])\n",
    "\n",
    "# loop through rows with iterrows()\n",
    "for index, rowData in gmt_2.iterrows():\n",
    "    line = ('\\t'.join(rowData))\n",
    "    gmt_d[index] = line"
   ]
  },
  {
   "cell_type": "markdown",
   "metadata": {},
   "source": [
    "## Print GMT to File and Gather Statistics"
   ]
  },
  {
   "cell_type": "code",
<<<<<<< HEAD:PPI/DIP/DIP Data Formatting.ipynb
   "execution_count": 4,
=======
   "execution_count": 18,
>>>>>>> working:PPI/DIP/.ipynb_checkpoints/DIP_Data_Formatting-checkpoint.ipynb
   "metadata": {},
   "outputs": [
    {
     "data": {
      "text/plain": [
<<<<<<< HEAD:PPI/DIP/DIP Data Formatting.ipynb
       "582"
      ]
     },
     "execution_count": 4,
=======
       "395"
      ]
     },
     "execution_count": 18,
>>>>>>> working:PPI/DIP/.ipynb_checkpoints/DIP_Data_Formatting-checkpoint.ipynb
     "metadata": {},
     "output_type": "execute_result"
    }
   ],
   "source": [
    "genes_term = gmt.interactions\n",
    "\n",
    "len(genes_term)"
   ]
  },
  {
   "cell_type": "code",
<<<<<<< HEAD:PPI/DIP/DIP Data Formatting.ipynb
   "execution_count": 5,
=======
   "execution_count": 19,
>>>>>>> working:PPI/DIP/.ipynb_checkpoints/DIP_Data_Formatting-checkpoint.ipynb
   "metadata": {},
   "outputs": [
    {
     "data": {
      "text/plain": [
<<<<<<< HEAD:PPI/DIP/DIP Data Formatting.ipynb
       "5119"
      ]
     },
     "execution_count": 5,
=======
       "3170"
      ]
     },
     "execution_count": 19,
>>>>>>> working:PPI/DIP/.ipynb_checkpoints/DIP_Data_Formatting-checkpoint.ipynb
     "metadata": {},
     "output_type": "execute_result"
    }
   ],
   "source": [
    "sum(genes_term)"
   ]
  },
  {
   "cell_type": "code",
<<<<<<< HEAD:PPI/DIP/DIP Data Formatting.ipynb
   "execution_count": 6,
=======
   "execution_count": 20,
>>>>>>> working:PPI/DIP/.ipynb_checkpoints/DIP_Data_Formatting-checkpoint.ipynb
   "metadata": {},
   "outputs": [
    {
     "data": {
      "text/plain": [
<<<<<<< HEAD:PPI/DIP/DIP Data Formatting.ipynb
       "8.79553264604811"
      ]
     },
     "execution_count": 6,
=======
       "8.025316455696203"
      ]
     },
     "execution_count": 20,
>>>>>>> working:PPI/DIP/.ipynb_checkpoints/DIP_Data_Formatting-checkpoint.ipynb
     "metadata": {},
     "output_type": "execute_result"
    }
   ],
   "source": [
    "avg_num_terms = genes_term.mean(axis = 0)\n",
    "avg_num_terms"
   ]
  },
  {
   "cell_type": "code",
<<<<<<< HEAD:PPI/DIP/DIP Data Formatting.ipynb
   "execution_count": 7,
=======
   "execution_count": 21,
>>>>>>> working:PPI/DIP/.ipynb_checkpoints/DIP_Data_Formatting-checkpoint.ipynb
   "metadata": {},
   "outputs": [
    {
     "data": {
      "text/plain": [
<<<<<<< HEAD:PPI/DIP/DIP Data Formatting.ipynb
       "2059"
      ]
     },
     "execution_count": 7,
=======
       "1552"
      ]
     },
     "execution_count": 21,
>>>>>>> working:PPI/DIP/.ipynb_checkpoints/DIP_Data_Formatting-checkpoint.ipynb
     "metadata": {},
     "output_type": "execute_result"
    }
   ],
   "source": [
    "#For inclusion on website as a statistic, calculate \n",
    "#the total number of unique terms for the dataset\n",
    "stat_df = extend.loc[indices]\n",
    "\n",
    "stat_df.reset_index(inplace=True)\n",
    "\n",
    "all_terms = pd.concat([stat_df.protein_1, stat_df.protein_2], axis = 0)\n",
    "len(all_terms.unique())"
   ]
  },
  {
   "cell_type": "code",
<<<<<<< HEAD:PPI/DIP/DIP Data Formatting.ipynb
   "execution_count": 16,
=======
   "execution_count": 22,
>>>>>>> working:PPI/DIP/.ipynb_checkpoints/DIP_Data_Formatting-checkpoint.ipynb
   "metadata": {
    "collapsed": true
   },
   "outputs": [],
   "source": [
    "#Transfer tab-separated info into a new gmt file\n",
    "with open('dip_ppi_filtered.gmt', 'w') as openfile:\n",
    "    for index in gmt_d:\n",
    "        openfile.write(str(gmt_d[index]) + '\\n')"
   ]
  }
 ],
 "metadata": {
  "kernelspec": {
   "display_name": "Python 3",
   "language": "python",
   "name": "python3"
  },
  "language_info": {
   "codemirror_mode": {
    "name": "ipython",
    "version": 3
   },
   "file_extension": ".py",
   "mimetype": "text/x-python",
   "name": "python",
   "nbconvert_exporter": "python",
   "pygments_lexer": "ipython3",
   "version": "3.6.1"
  }
 },
 "nbformat": 4,
 "nbformat_minor": 2
}
