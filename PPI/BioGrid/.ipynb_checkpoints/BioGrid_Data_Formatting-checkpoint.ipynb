{
 "cells": [
  {
   "cell_type": "markdown",
   "metadata": {},
   "source": [
    "# BioGrid"
   ]
  },
  {
   "cell_type": "markdown",
   "metadata": {},
   "source": [
    "Author: Moshe C. Silverstein  \n",
    "Date: 07-2017"
   ]
  },
  {
   "cell_type": "code",
   "execution_count": 1,
   "metadata": {
    "collapsed": true
   },
   "outputs": [],
   "source": [
    "import sys\n",
    "import numpy as np\n",
    "import pandas as pd\n",
    "import Utilities\n",
    "from Utilities import *\n",
    "from importlib import reload"
   ]
  },
  {
   "cell_type": "markdown",
   "metadata": {},
   "source": [
    "# Load Data"
   ]
  },
  {
   "cell_type": "markdown",
   "metadata": {},
   "source": [
    "Data Retrieved 1/25/2017  \n",
    "\n",
    "https://thebiogrid.org/downloads/archives/Release%20Archive/BIOGRID-3.4.144/BIOGRID-ALL-3.4.144.mitab.zip"
   ]
  },
  {
   "cell_type": "code",
   "execution_count": 2,
   "metadata": {
    "collapsed": true
   },
   "outputs": [],
   "source": [
    "biogrid_df = pd.read_csv('/Users/moshesilverstein/Documents/Harmonizome/PPI Library/Input/BIOGRID-ALL-3.4.144.mitab.txt', sep='\\t', index_col=False)"
   ]
  },
  {
   "cell_type": "markdown",
   "metadata": {},
   "source": [
    "# Load Gene Mapping File"
   ]
  },
  {
   "cell_type": "code",
   "execution_count": 3,
   "metadata": {
    "collapsed": true
   },
   "outputs": [],
   "source": [
    "mappingFile = pd.read_csv('/Users/moshesilverstein/Documents/Harmonizome/PPI Library/Doc and Mapping/mappingFile_2017.txt', sep='\\t', header=None, index_col=0)"
   ]
  },
  {
   "cell_type": "markdown",
   "metadata": {},
   "source": [
    "# Select Relevent Data"
   ]
  },
  {
   "cell_type": "code",
   "execution_count": 4,
   "metadata": {
    "collapsed": true
   },
   "outputs": [],
   "source": [
    "# get only human and mouse data\n",
    "n = biogrid_df['Taxid Interactor A'].values\n",
    "b = [i for i,item in enumerate(n) if \"taxid:9606\" in item or \"taxid:10090\" in item] #taxid:9606 for human, taxid:10090 for mouse\n",
    "biogrid_df = biogrid_df.ix[b]\n",
    "\n",
    "biogrid_df =  biogrid_df.reset_index().drop('index', axis=1)\n",
    "\n",
    "n = biogrid_df['Taxid Interactor B'].values\n",
    "b = [i for i,item in enumerate(n) if \"taxid:9606\" in item or \"taxid:10090\" in item] #taxid:9606 for human, taxid:10090 for mouse\n",
    "biogrid_df = biogrid_df.ix[b]"
   ]
  },
  {
   "cell_type": "code",
   "execution_count": 5,
   "metadata": {
    "collapsed": true
   },
   "outputs": [],
   "source": [
    "# select only relevent data\n",
    "biogrid_df = biogrid_df[['Alt IDs Interactor A', 'Alt IDs Interactor B', 'Publication Identifiers', 'Source Database']]"
   ]
  },
  {
   "cell_type": "code",
   "execution_count": 6,
   "metadata": {
    "collapsed": true
   },
   "outputs": [],
   "source": [
    "# rename columns for consistency\n",
    "biogrid_df.rename(columns={'Alt IDs Interactor A': 'Protein A (gene name)', 'Alt IDs Interactor B':'Protein B (gene name)', 'Publication Identifiers':'PubMed ID', 'Source Database':'Source databases'}, inplace=True)"
   ]
  },
  {
   "cell_type": "code",
   "execution_count": 7,
   "metadata": {},
   "outputs": [
    {
     "name": "stdout",
     "output_type": "stream",
     "text": [
      "Progress: 99%  341467 Out of 341682   \r"
     ]
    }
   ],
   "source": [
    "# change columns to just show gene name\n",
    "\n",
    "lstA = []\n",
    "lstB = []\n",
    "\n",
    "for i,index in enumerate(biogrid_df.index):\n",
    "    \n",
    "    progressPercent = ((i+1)/len(biogrid_df['Protein A (gene name)']))*100\n",
    "\n",
    "    sys.stdout.write(\"Progress: %d%%  %d Out of %d   \\r\" % (progressPercent, (i+1), len(biogrid_df['Protein A (gene name)'])))\n",
    "    sys.stdout.flush()\n",
    "\n",
    "    \n",
    "    nameA = biogrid_df.ix[index, 'Protein A (gene name)']\n",
    "    nameA = str(nameA) \n",
    "    if nameA != 'nan':\n",
    "        lstA.append(nameA.split('|')[1].split(':')[1])\n",
    "    else:\n",
    "        lstA.append(np.nan)\n",
    "        \n",
    "    nameB = biogrid_df.ix[index, 'Protein B (gene name)']\n",
    "    nameB = str(nameB) \n",
    "    if nameB != 'nan':\n",
    "        lstB.append(nameB.split('|')[1].split(':')[1])\n",
    "    else:\n",
    "        lstB.append(np.nan)\n",
    "\n",
    "biogrid_df['Protein A (gene name)'] = lstA\n",
    "biogrid_df['Protein B (gene name)'] = lstB"
   ]
  },
  {
   "cell_type": "code",
   "execution_count": 8,
   "metadata": {
    "collapsed": true
   },
   "outputs": [],
   "source": [
    "biogrid_df.head()"
   ]
  },
  {
   "cell_type": "markdown",
   "metadata": {},
   "source": [
    "# Map Gene to human and updated approved symbols"
   ]
  },
  {
   "cell_type": "code",
   "execution_count": 9,
   "metadata": {},
   "outputs": [
    {
     "name": "stdout",
     "output_type": "stream",
     "text": [
      "Progeres: 100%  341682 Out of 341682   \r"
     ]
    }
   ],
   "source": [
    "mapgenesymbols(biogrid_df, mappingFile, 'Protein A (gene name)', 'Protein B (gene name)')"
   ]
  },
  {
   "cell_type": "code",
   "execution_count": 10,
   "metadata": {},
   "outputs": [
    {
     "data": {
      "text/plain": [
       "(339802, 4)"
      ]
     },
     "execution_count": 10,
     "metadata": {},
     "output_type": "execute_result"
    }
   ],
   "source": [
    "biogrid_df.shape"
   ]
  },
  {
   "cell_type": "markdown",
   "metadata": {},
   "source": [
    "# Get PubMed Ids"
   ]
  },
  {
   "cell_type": "code",
   "execution_count": 11,
   "metadata": {
    "collapsed": true
   },
   "outputs": [],
   "source": [
    "# Get Only PubMed ID for publication identifier\n",
    "getPubMedIds(biogrid_df, 'PubMed ID')"
   ]
  },
  {
   "cell_type": "markdown",
   "metadata": {},
   "source": [
    "# Unfiltered"
   ]
  },
  {
   "cell_type": "code",
   "execution_count": 12,
   "metadata": {
    "collapsed": true
   },
   "outputs": [],
   "source": [
    "# uf = unfiltered\n",
    "biogrid_uf_df = biogrid_df.copy()"
   ]
  },
  {
   "cell_type": "markdown",
   "metadata": {},
   "source": [
    "### Combine duplicate ppis while concatanatig referances"
   ]
  },
  {
   "cell_type": "code",
   "execution_count": 13,
   "metadata": {
    "collapsed": true
   },
   "outputs": [],
   "source": [
    "combineDupPPIs(biogrid_uf_df)"
   ]
  },
  {
   "cell_type": "markdown",
   "metadata": {},
   "source": [
    "### Create .sig File"
   ]
  },
  {
   "cell_type": "code",
   "execution_count": 14,
   "metadata": {
    "collapsed": true
   },
   "outputs": [],
   "source": [
    "pathU = '~/./Documents/Harmonizome/PPI Library/Output/IndividualResources/Unfiltered/'\n",
    "\n",
    "createSigFile(biogrid_uf_df, pathU, 'biogrid', False)"
   ]
  },
  {
   "cell_type": "markdown",
   "metadata": {},
   "source": [
    "# Filtered"
   ]
  },
  {
   "cell_type": "code",
   "execution_count": 15,
   "metadata": {
    "collapsed": true
   },
   "outputs": [],
   "source": [
    "biogrid_f_df = biogrid_df.copy()"
   ]
  },
  {
   "cell_type": "code",
   "execution_count": 16,
   "metadata": {},
   "outputs": [
    {
     "name": "stdout",
     "output_type": "stream",
     "text": [
      "Progress: 109%  26958 Out of 24618   \r"
     ]
    }
   ],
   "source": [
    "# drop any data that was published with more then 10 PPI's per publication or doesnt have a ppi\n",
    "filterPPIbyPubmed(biogrid_f_df, 10)"
   ]
  },
  {
   "cell_type": "markdown",
   "metadata": {},
   "source": [
    "### Combine duplicate ppis while concatanatig referances"
   ]
  },
  {
   "cell_type": "code",
   "execution_count": 17,
   "metadata": {},
   "outputs": [
    {
     "name": "stdout",
     "output_type": "stream",
     "text": [
      "Progress: 100%  37007 Out of 37007   \r"
     ]
    }
   ],
   "source": [
    "combineDupPPIs(biogrid_f_df)"
   ]
  },
  {
   "cell_type": "markdown",
   "metadata": {},
   "source": [
    "## Create .sig File"
   ]
  },
  {
   "cell_type": "code",
   "execution_count": 18,
   "metadata": {
    "collapsed": true
   },
   "outputs": [],
   "source": [
    "pathF = '~/./Documents/Harmonizome/PPI Library/Output/IndividualResources/Filtered/'\n",
    "\n",
    "createSigFile(biogrid_f_df, pathF, 'biogrid', True)"
   ]
  },
  {
   "cell_type": "markdown",
   "metadata": {},
   "source": [
    "## Create .gmt File"
   ]
  },
  {
   "cell_type": "code",
<<<<<<< HEAD:PPI/BioGrid/BioGrid Data Formatting.ipynb
   "execution_count": 15,
=======
   "execution_count": 9,
>>>>>>> working:PPI/BioGrid/.ipynb_checkpoints/BioGrid_Data_Formatting-checkpoint.ipynb
   "metadata": {
    "collapsed": true
   },
   "outputs": [],
   "source": [
    "# Download both filtered and unfiltered SIG files\n",
    "\n",
    "#Download UNFILTERED data\n",
<<<<<<< HEAD:PPI/BioGrid/BioGrid Data Formatting.ipynb
    "biogrid_sig = pd.read_table(\"~/Desktop/Projects/KEA3/PPI/BioGrid/biogrid_unfiltered_ppi_2017_07_13.sig\", header = None)\n",
    "\n",
    "#Download FILTERED data\n",
    "#biogrid_sig = pd.read_table(\"~/Desktop/Projects/KEA3/PPI/BioGrid/biogrid_filtered_ppi_2017_07_13.sig\", header = None)"
=======
    "#biogrid_sig = pd.read_table(\"~/Desktop/Projects/KEA3/PPI/BioGrid/biogrid_unfiltered_ppi_2017_07_13.sig\", header = None)\n",
    "\n",
    "#Download FILTERED data\n",
    "biogrid_sig = pd.read_table(\"~/Desktop/Projects/KEA3/PPI/BioGrid/biogrid_filtered_ppi_2017_07_13.sig\", header = None)"
>>>>>>> working:PPI/BioGrid/.ipynb_checkpoints/BioGrid_Data_Formatting-checkpoint.ipynb
   ]
  },
  {
   "cell_type": "code",
<<<<<<< HEAD:PPI/BioGrid/BioGrid Data Formatting.ipynb
   "execution_count": 16,
=======
   "execution_count": 10,
>>>>>>> working:PPI/BioGrid/.ipynb_checkpoints/BioGrid_Data_Formatting-checkpoint.ipynb
   "metadata": {
    "collapsed": true
   },
   "outputs": [],
   "source": [
    "#convert a SIG file to a GMT file\n",
    "#Create two versions of df 'd1' --> one flipped and one which is in original order\n",
    "d1 = {'protein_1': biogrid_sig[0], 'protein_2': biogrid_sig[5]}\n",
    "df = pd.DataFrame(data = d1)\n",
    "df.drop_duplicates(inplace = True)\n",
    "\n",
    "d2 = {'protein_1': biogrid_sig[5], 'protein_2': biogrid_sig[0]}\n",
    "df_flipped = pd.DataFrame(data = d2)\n",
    "df_flipped.drop_duplicates(inplace = True)\n",
    "\n",
    "#Make 'df' and 'df_flipped' into a single frame to account for opposite interactions\n",
    "extend = pd.concat([df, df_flipped])\n",
    "\n",
    "#Drop any duplicates and set index according to protein 1 so that we can aggregate \n",
    "#all interacting protein 2's by a shared interaction with protein one\n",
    "extend.drop_duplicates(inplace = True)\n",
    "extend.set_index('protein_1', inplace = True)\n",
    "\n",
    "gmt = extend.groupby('protein_1').agg(lambda x: tuple(x))\n",
    "\n",
    "# Create column representing counts of protein interactions per protein\n",
    "gmt['interactions'] = [int(len(lst)) for protein, lst in gmt['protein_2'].iteritems()]\n",
    "\n",
    "# Sort proteins from max to min according to number of protein iteractions\n",
    "gmt.sort_values(by = ['interactions'], ascending= False, inplace=True)\n",
    "\n",
    "#Gain indexes of gene sets with 5 or more proteins and less than 2000 protein interactions\n",
    "indices = [index for index, rowData in gmt.interactions.iteritems() if rowData >= 5 and rowData < 2000]\n",
    "\n",
    "#filter dataframe by these indices\n",
    "gmt = gmt.loc[indices]\n",
    "\n",
    "gmt_2 = gmt.copy()\n",
    "\n",
    "#reset index and insert a column for the description\n",
    "gmt_2.insert(0, 'Description', 'BioGrid')\n",
    "gmt_2.reset_index(inplace = True)\n",
    "\n",
    "#Drop columns not needed in GMT and join all protein interactions by a tab\n",
    "gmt_2['merged'] = ['\\t'.join(x) for x in gmt_2['protein_2']]\n",
    "gmt_2.drop('protein_2', axis = 1, inplace = True)\n",
    "gmt_2.drop('interactions', axis = 1, inplace = True)\n",
    "\n",
    "#create a dictionary and store in it rowData corresponding to each protein\n",
    "gmt_d = dict([(key, '') for key in gmt_2.index])\n",
    "\n",
    "# loop through rows with iterrows()\n",
    "for index, rowData in gmt_2.iterrows():\n",
    "    line = ('\\t'.join(rowData))\n",
    "    gmt_d[index] = line"
   ]
  },
  {
   "cell_type": "markdown",
   "metadata": {},
   "source": [
    "## Print GMT to File and Gather Statistics"
   ]
  },
  {
   "cell_type": "markdown",
   "metadata": {},
   "source": [
    "Code Below Written By: Marina Latif"
   ]
  },
  {
   "cell_type": "code",
<<<<<<< HEAD:PPI/BioGrid/BioGrid Data Formatting.ipynb
   "execution_count": 17,
=======
   "execution_count": 11,
>>>>>>> working:PPI/BioGrid/.ipynb_checkpoints/BioGrid_Data_Formatting-checkpoint.ipynb
   "metadata": {},
   "outputs": [
    {
     "data": {
      "text/plain": [
<<<<<<< HEAD:PPI/BioGrid/BioGrid Data Formatting.ipynb
       "11428"
      ]
     },
     "execution_count": 17,
=======
       "3493"
      ]
     },
     "execution_count": 11,
>>>>>>> working:PPI/BioGrid/.ipynb_checkpoints/BioGrid_Data_Formatting-checkpoint.ipynb
     "metadata": {},
     "output_type": "execute_result"
    }
   ],
   "source": [
    "genes_term = gmt.interactions\n",
    "\n",
    "len(genes_term)"
   ]
  },
  {
   "cell_type": "code",
<<<<<<< HEAD:PPI/BioGrid/BioGrid Data Formatting.ipynb
   "execution_count": 18,
=======
   "execution_count": 12,
>>>>>>> working:PPI/BioGrid/.ipynb_checkpoints/BioGrid_Data_Formatting-checkpoint.ipynb
   "metadata": {},
   "outputs": [
    {
     "data": {
      "text/plain": [
<<<<<<< HEAD:PPI/BioGrid/BioGrid Data Formatting.ipynb
       "470726"
      ]
     },
     "execution_count": 18,
=======
       "63022"
      ]
     },
     "execution_count": 12,
>>>>>>> working:PPI/BioGrid/.ipynb_checkpoints/BioGrid_Data_Formatting-checkpoint.ipynb
     "metadata": {},
     "output_type": "execute_result"
    }
   ],
   "source": [
    "sum(genes_term)"
   ]
  },
  {
   "cell_type": "code",
<<<<<<< HEAD:PPI/BioGrid/BioGrid Data Formatting.ipynb
   "execution_count": 19,
=======
   "execution_count": 13,
>>>>>>> working:PPI/BioGrid/.ipynb_checkpoints/BioGrid_Data_Formatting-checkpoint.ipynb
   "metadata": {},
   "outputs": [
    {
     "data": {
      "text/plain": [
<<<<<<< HEAD:PPI/BioGrid/BioGrid Data Formatting.ipynb
       "41.19058452922646"
      ]
     },
     "execution_count": 19,
=======
       "18.042370455196107"
      ]
     },
     "execution_count": 13,
>>>>>>> working:PPI/BioGrid/.ipynb_checkpoints/BioGrid_Data_Formatting-checkpoint.ipynb
     "metadata": {},
     "output_type": "execute_result"
    }
   ],
   "source": [
    "avg_num_terms = genes_term.mean(axis = 0)\n",
    "avg_num_terms"
   ]
  },
  {
   "cell_type": "code",
<<<<<<< HEAD:PPI/BioGrid/BioGrid Data Formatting.ipynb
   "execution_count": 20,
=======
   "execution_count": 14,
>>>>>>> working:PPI/BioGrid/.ipynb_checkpoints/BioGrid_Data_Formatting-checkpoint.ipynb
   "metadata": {},
   "outputs": [
    {
     "data": {
      "text/plain": [
<<<<<<< HEAD:PPI/BioGrid/BioGrid Data Formatting.ipynb
       "16009"
      ]
     },
     "execution_count": 20,
=======
       "7496"
      ]
     },
     "execution_count": 14,
>>>>>>> working:PPI/BioGrid/.ipynb_checkpoints/BioGrid_Data_Formatting-checkpoint.ipynb
     "metadata": {},
     "output_type": "execute_result"
    }
   ],
   "source": [
    "#For inclusion on website as a statistic, calculate \n",
    "#the total number of unique terms for the dataset\n",
    "stat_df = extend.loc[indices]\n",
    "\n",
    "stat_df.reset_index(inplace=True)\n",
    "\n",
    "all_terms = pd.concat([stat_df.protein_1, stat_df.protein_2], axis = 0)\n",
    "len(all_terms.unique())"
   ]
  },
  {
   "cell_type": "code",
<<<<<<< HEAD:PPI/BioGrid/BioGrid Data Formatting.ipynb
   "execution_count": 21,
=======
   "execution_count": 15,
>>>>>>> working:PPI/BioGrid/.ipynb_checkpoints/BioGrid_Data_Formatting-checkpoint.ipynb
   "metadata": {
    "collapsed": true
   },
   "outputs": [],
   "source": [
    "#Transfer tab-separated info into a new gmt file\n",
<<<<<<< HEAD:PPI/BioGrid/BioGrid Data Formatting.ipynb
    "with open('biogrid_ppi_unfiltered.gmt', 'w') as openfile:\n",
=======
    "with open('biogrid_ppi_filtered.gmt', 'w') as openfile:\n",
>>>>>>> working:PPI/BioGrid/.ipynb_checkpoints/BioGrid_Data_Formatting-checkpoint.ipynb
    "    for index in gmt_d:\n",
    "        openfile.write(str(gmt_d[index]) + '\\n')"
   ]
  }
 ],
 "metadata": {
  "kernelspec": {
   "display_name": "Python 3",
   "language": "python",
   "name": "python3"
  },
  "language_info": {
   "codemirror_mode": {
    "name": "ipython",
    "version": 3
   },
   "file_extension": ".py",
   "mimetype": "text/x-python",
   "name": "python",
   "nbconvert_exporter": "python",
   "pygments_lexer": "ipython3",
   "version": "3.6.1"
  }
 },
 "nbformat": 4,
 "nbformat_minor": 2
}
