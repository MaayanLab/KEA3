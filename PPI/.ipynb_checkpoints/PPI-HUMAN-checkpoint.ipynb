{
 "cells": [
  {
   "cell_type": "markdown",
   "metadata": {},
   "source": [
    "Import necessary modules"
   ]
  },
  {
   "cell_type": "code",
   "execution_count": 1,
   "metadata": {
    "collapsed": true
   },
   "outputs": [],
   "source": [
    "import numpy as np \n",
    "import pandas as pd\n",
    "import urllib.request \n",
    "import requests, io\n",
    "import urllib, re, string\n",
    "import datetime"
   ]
  },
  {
   "cell_type": "markdown",
   "metadata": {},
   "source": [
    "Include for nicer format of tables when printing"
   ]
  },
  {
   "cell_type": "code",
   "execution_count": 2,
   "metadata": {
    "collapsed": true
   },
   "outputs": [],
   "source": [
    "pd.set_option('display.notebook_repr_html', True)\n",
    "\n",
    "def _repr_latex_(self):\n",
    "    return \"\\centering{%s}\" % self.to_latex()\n",
    "\n",
    "pd.DataFrame._repr_latex_ = _repr_latex_  # monkey patch pandas DataFrame"
   ]
  },
  {
   "cell_type": "markdown",
   "metadata": {},
   "source": [
    "### Data Source and Date of Retrieval"
   ]
  },
  {
   "cell_type": "markdown",
   "metadata": {},
   "source": [
    "Data Retrieved 1/23/2017  \n",
    "\n",
    "https://urldefense.proofpoint.com/v2/url?u=http-3A__mint.bio.uniroma2.it_mitab_MINT-5FMiTab.txt&d=DwIGAg&c=shNJtf5dKgNcPZ6Yh64b-A&r=FzzxHcpcdpeEl2SeS4RngXJfR5R4cEV8N2xULwaH8LE&m=H47AkOYhsWJidY3BTdZQzbIarlSka87imDJ8Qn9e6GY&s=Bv-GMiHdQIC4fRHi4JERcK71UMdrk1EvTGoRMpquPiM&e=  (Mint) \n",
    "\n",
    "Data Retrieved 1/25/2017  \n",
    "\n",
    "https://urldefense.proofpoint.com/v2/url?u=https-3A__thebiogrid.org_downloads_archives_Release-2520Archive_BIOGRID-2D3.4.144_BIOGRID-2DALL-2D3.4.144.mitab.zip&d=DwIGAg&c=shNJtf5dKgNcPZ6Yh64b-A&r=FzzxHcpcdpeEl2SeS4RngXJfR5R4cEV8N2xULwaH8LE&m=H47AkOYhsWJidY3BTdZQzbIarlSka87imDJ8Qn9e6GY&s=mI2tEi0k6-2vBnUAJ8GD2-TCPVdPWzpMbje_637goZs&e=  (BioGrid)  \n",
    "https://urldefense.proofpoint.com/v2/url?u=http-3A__www.innatedb.com_download_interactions_innatedb-5Fppi.mitab.gz&d=DwIGAg&c=shNJtf5dKgNcPZ6Yh64b-A&r=FzzxHcpcdpeEl2SeS4RngXJfR5R4cEV8N2xULwaH8LE&m=H47AkOYhsWJidY3BTdZQzbIarlSka87imDJ8Qn9e6GY&s=M4I-F00djsSBy83R9CVNADb-OMwpiel94VVNTR-murY&e=  (InnateDB)  \n",
    "https://urldefense.proofpoint.com/v2/url?u=http-3A__dip.doe-2Dmbi.ucla.edu_dip_File.cgi-3FFN-3D2016_tab25_dip20160731.txt&d=DwIGAg&c=shNJtf5dKgNcPZ6Yh64b-A&r=FzzxHcpcdpeEl2SeS4RngXJfR5R4cEV8N2xULwaH8LE&m=H47AkOYhsWJidY3BTdZQzbIarlSka87imDJ8Qn9e6GY&s=D7qKgclA4IbvfDjbxccL8LSG3UsPa7AU4ant8b8qXWo&e=  (DIP)\n",
    "\n",
    "Data Retrieved 1/26/2017   \n",
    "https://urldefense.proofpoint.com/v2/url?u=http-3A__mentha.uniroma2.it_doDownload.php-3Ffile-3Dorganisms_9606.zip&d=DwIGAg&c=shNJtf5dKgNcPZ6Yh64b-A&r=FzzxHcpcdpeEl2SeS4RngXJfR5R4cEV8N2xULwaH8LE&m=H47AkOYhsWJidY3BTdZQzbIarlSka87imDJ8Qn9e6GY&s=RMnXZik8FZh0xdEL4OZPLacO9h0pmWzSKsHvkFp3Jt4&e=  (mentha)  \n",
    "https://urldefense.proofpoint.com/v2/url?u=http-3A__www.ebi.ac.uk_intact_downloads&d=DwIGAg&c=shNJtf5dKgNcPZ6Yh64b-A&r=FzzxHcpcdpeEl2SeS4RngXJfR5R4cEV8N2xULwaH8LE&m=H47AkOYhsWJidY3BTdZQzbIarlSka87imDJ8Qn9e6GY&s=F7QsaA5RcDLVV_g_n7uDXIrPdh-SJk3JYZjYAE8HzO4&e=  (IntAct)  \n",
    "\n",
    "Data Retrieved 2/1/2017     \n",
    "http://amp.pharm.mssm.edu/X2K/datasets/SNAVI.sig (SAVI)  \n",
    "http://amp.pharm.mssm.edu/X2K/datasets/KEA.zip (KEA)  \n",
    "http://amp.pharm.mssm.edu/X2K/datasets/ppid.sig (ppid)  "
   ]
  },
  {
   "cell_type": "code",
   "execution_count": 412,
   "metadata": {
    "collapsed": true
   },
   "outputs": [],
   "source": [
    "def concatliketerms(df):\n",
    "    \n",
    "    df.sort_values(by=['Protein A (gene name)', 'Protein B (gene name)'], inplace=True)    \n",
    "    df.reset_index(inplace=True)\n",
    "    df.drop('index', axis=1, inplace=True)\n",
    "    oldSize = df.shape\n",
    "    newSize = 0\n",
    "    j = 1\n",
    "    while oldSize != newSize:\n",
    "        df.reset_index(inplace=True)\n",
    "        df.drop('index', axis=1, inplace=True)\n",
    "        df.sort_values(by=['Protein A (gene name)', 'Protein B (gene name)'], inplace=True) \n",
    "        # concattonate like terms and remove duplicates\n",
    "        i = 1\n",
    "        end = len(df.index)-1\n",
    "        for index in df.index:\n",
    "            if i % 1000 == 0:\n",
    "                print('\\r', 'Loop '+ str(j)+': ' +str(i)+' Out of '+ str(len(df.index)), end=' ', flush=True)\n",
    "            if index in df.index.values and index != end:\n",
    "                if df.ix[index, 'Protein A (gene name)'] == df.ix[index+1, 'Protein A (gene name)']:\n",
    "                    if df.ix[index, 'Protein B (gene name)'] == df.ix[index+1, 'Protein B (gene name)']:\n",
    "                        df.ix[index, 'PubMed ID'] = str(df.ix[index, 'PubMed ID']) +'|'+str(df.ix[index+1, 'PubMed ID'])\n",
    "                        df.ix[index, 'Source databases'] = df.ix[index, 'Source databases'] +'|'+df.ix[index+1, 'Source databases']\n",
    "                        df.drop(index+1, axis=0, inplace=True)\n",
    "                        \n",
    "            i += 1\n",
    "        j += 1\n",
    "        oldSize = newSize\n",
    "        newSize = df.shape"
   ]
  },
  {
   "cell_type": "code",
   "execution_count": 3,
   "metadata": {
    "collapsed": true
   },
   "outputs": [],
   "source": [
    "# column identifiers for initial data (as taken from respective metadata)\n",
    "col_name = ['Unique identifier for interactor A',\n",
    "      'Unique identifier for interactor B',\n",
    "      'Alternative identifier for interactor A',\n",
    "      'Alternative identifier for interactor B',\n",
    "      'Protein A (gene name)',\n",
    "      'Protein B (gene name)',\n",
    "      'Interaction detection methods',\n",
    "      'First author',\n",
    "      'PubMed ID',\n",
    "      'NCBI Taxonomy identifier for interactor A',\n",
    "      'NCBI Taxonomy identifier for interactor B',\n",
    "      'Interaction types',\n",
    "      'Source databases', \n",
    "      'Interaction identifier(s)',\n",
    "      'Confidence score']"
   ]
  },
  {
   "cell_type": "markdown",
   "metadata": {},
   "source": [
    "#### Read mint data from url and creat file"
   ]
  },
  {
   "cell_type": "code",
   "execution_count": 4,
   "metadata": {
    "collapsed": true
   },
   "outputs": [],
   "source": [
    "##read in data from Mint and write to file (only needs to be proformed once)\n",
    "# content=urllib.request.urlopen('https://urldefense.proofpoint.com/v2/url?u=http-3A__mint.bio.uniroma2.it_mitab_MINT-5FMiTab.txt&d=DwIGAg&c=shNJtf5dKgNcPZ6Yh64b-A&r=FzzxHcpcdpeEl2SeS4RngXJfR5R4cEV8N2xULwaH8LE&m=H47AkOYhsWJidY3BTdZQzbIarlSka87imDJ8Qn9e6GY&s=Bv-GMiHdQIC4fRHi4JERcK71UMdrk1EvTGoRMpquPiM&e= ') \n",
    "\n",
    "# target = open('mint.tsv', 'wb')\n",
    "# for line in content:\n",
    "#     target.write(line)\n",
    "# target.close()"
   ]
  },
  {
   "cell_type": "markdown",
   "metadata": {},
   "source": [
    "## Mint Data"
   ]
  },
  {
   "cell_type": "code",
   "execution_count": 4,
   "metadata": {
    "collapsed": true
   },
   "outputs": [],
   "source": [
    "mint_df = pd.read_csv('/Users/moshesilverstein/Desktop/PPI Library/Input/mint.tsv', sep='\\t', index_col=False, header=None)"
   ]
  },
  {
   "cell_type": "code",
   "execution_count": 6,
   "metadata": {
    "collapsed": true
   },
   "outputs": [],
   "source": [
    "# assign names to columns from meta data\n",
    "for i in np.arange(len(col_name)):\n",
    "    mint_df.rename(columns={i:col_name[i]}, inplace=True)"
   ]
  },
  {
   "cell_type": "code",
   "execution_count": 158,
   "metadata": {
    "collapsed": true
   },
   "outputs": [],
   "source": [
    "# get only human (or mouse) data (first protein)\n",
    "n = mint_df['Protein A (gene name)'].values\n",
    "b = [i for i,item in enumerate(n) if \"human\" in item]\n",
    "mint_df = mint_df.ix[b]"
   ]
  },
  {
   "cell_type": "code",
   "execution_count": 159,
   "metadata": {
    "collapsed": true
   },
   "outputs": [],
   "source": [
    "mint_df =  mint_df.reset_index().drop('index', axis=1)\n",
    "\n",
    "# get only human (or mouse) data (second protein)\n",
    "n = mint_df['Protein B (gene name)'].values\n",
    "b = [i for i,item in enumerate(n) if \"human\" in item]\n",
    "mint_df = mint_df.ix[b]"
   ]
  },
  {
   "cell_type": "code",
   "execution_count": 160,
   "metadata": {
    "collapsed": true
   },
   "outputs": [],
   "source": [
    "# select only relevent data\n",
    "mint_df = mint_df[['Protein A (gene name)', 'Protein B (gene name)', 'PubMed ID', 'Source databases']]"
   ]
  },
  {
   "cell_type": "code",
   "execution_count": 161,
   "metadata": {
    "collapsed": true
   },
   "outputs": [],
   "source": [
    "# change column one to just show gene name\n",
    "#i = 1\n",
    "lst = []\n",
    "for name in mint_df['Protein A (gene name)']:\n",
    "    #print('\\r', i, end=' ', flush=True)\n",
    "    name = str(name)\n",
    "    if '(gene name)' in name:\n",
    "        temp = name.split('|')\n",
    "        for ID in temp:\n",
    "            if '(gene name)' in ID:\n",
    "                lst.append(ID.split(':')[1].split('(')[0])\n",
    "                break\n",
    "\n",
    "    else:\n",
    "        lst.append(np.nan)\n",
    "    \n",
    "    #i += 1\n",
    "mint_df['Protein A (gene name)'] = lst"
   ]
  },
  {
   "cell_type": "code",
   "execution_count": 162,
   "metadata": {
    "collapsed": true
   },
   "outputs": [],
   "source": [
    "# change column two to just show gene name\n",
    "#i = 1\n",
    "lst = []\n",
    "for name in mint_df['Protein B (gene name)']:\n",
    "    #print('\\r', i, end=' ', flush=True)\n",
    "    name = str(name)\n",
    "    if '(gene name)' in name:\n",
    "        temp = name.split('|')\n",
    "        for ID in temp:\n",
    "            if '(gene name)' in ID:\n",
    "                lst.append(ID.split(':')[1].split('(')[0])\n",
    "                break\n",
    "\n",
    "    else:\n",
    "        lst.append(np.nan)\n",
    "    \n",
    "    #i += 1\n",
    "mint_df['Protein B (gene name)'] = lst"
   ]
  },
  {
   "cell_type": "code",
   "execution_count": 163,
   "metadata": {
    "collapsed": true
   },
   "outputs": [],
   "source": [
    "# drop data for which no gene name is provited (or ensamble ID)\n",
    "mint_df.dropna(how='any', inplace=True, axis=0)"
   ]
  },
  {
   "cell_type": "code",
   "execution_count": 164,
   "metadata": {
    "collapsed": true
   },
   "outputs": [],
   "source": [
    "mint_df.drop_duplicates(inplace=True)"
   ]
  },
  {
   "cell_type": "code",
   "execution_count": 165,
   "metadata": {
    "collapsed": true
   },
   "outputs": [],
   "source": [
    "# Get Only PubMed ID for publication identifier\n",
    "lst = []\n",
    "\n",
    "for pub in mint_df['PubMed ID']:\n",
    "    pub = str(pub)\n",
    "    pub = pub.split('|')[1].split(':')[1]\n",
    "    lst.append(pub)\n",
    "mint_df['PubMed ID'] = lst"
   ]
  },
  {
   "cell_type": "code",
   "execution_count": 166,
   "metadata": {
    "collapsed": true
   },
   "outputs": [],
   "source": [
    "mint_uf_df = mint_df.copy()"
   ]
  },
  {
   "cell_type": "code",
   "execution_count": 383,
   "metadata": {},
   "outputs": [
    {
     "name": "stdout",
     "output_type": "stream",
     "text": [
      " Loop 4: 19000 Out of 19073 "
     ]
    }
   ],
   "source": [
    "concatliketerms(mint_uf_df)"
   ]
  },
  {
   "cell_type": "code",
   "execution_count": 170,
   "metadata": {},
   "outputs": [
    {
     "data": {
      "text/html": [
       "<div>\n",
       "<table border=\"1\" class=\"dataframe\">\n",
       "  <thead>\n",
       "    <tr style=\"text-align: right;\">\n",
       "      <th></th>\n",
       "      <th>Protein A (gene name)</th>\n",
       "      <th>Protein B (gene name)</th>\n",
       "      <th>PubMed ID</th>\n",
       "      <th>Source databases</th>\n",
       "    </tr>\n",
       "  </thead>\n",
       "  <tbody>\n",
       "    <tr>\n",
       "      <th>0</th>\n",
       "      <td>A1BG</td>\n",
       "      <td>GRB7</td>\n",
       "      <td>MINT-8089645</td>\n",
       "      <td>psi-mi:\"MI:0471\"(MINT)</td>\n",
       "    </tr>\n",
       "    <tr>\n",
       "      <th>1</th>\n",
       "      <td>A1BG</td>\n",
       "      <td>SMN1</td>\n",
       "      <td>MINT-8089645</td>\n",
       "      <td>psi-mi:\"MI:0471\"(MINT)</td>\n",
       "    </tr>\n",
       "    <tr>\n",
       "      <th>2</th>\n",
       "      <td>A1BG</td>\n",
       "      <td>CDKN1A</td>\n",
       "      <td>MINT-8089645</td>\n",
       "      <td>psi-mi:\"MI:0471\"(MINT)</td>\n",
       "    </tr>\n",
       "    <tr>\n",
       "      <th>3</th>\n",
       "      <td>A1BG</td>\n",
       "      <td>TK1</td>\n",
       "      <td>MINT-8089645</td>\n",
       "      <td>psi-mi:\"MI:0471\"(MINT)</td>\n",
       "    </tr>\n",
       "    <tr>\n",
       "      <th>28</th>\n",
       "      <td>A2M</td>\n",
       "      <td>ATP6V1B2</td>\n",
       "      <td>17174955</td>\n",
       "      <td>psi-mi:\"MI:0471\"(MINT)</td>\n",
       "    </tr>\n",
       "  </tbody>\n",
       "</table>\n",
       "</div>"
      ],
      "text/latex": [
       "\\centering{\\begin{tabular}{lllll}\n",
       "\\toprule\n",
       "{} & Protein A (gene name) & Protein B (gene name) &     PubMed ID &        Source databases \\\\\n",
       "\\midrule\n",
       "0  &                  A1BG &                  GRB7 &  MINT-8089645 &  psi-mi:\"MI:0471\"(MINT) \\\\\n",
       "1  &                  A1BG &                  SMN1 &  MINT-8089645 &  psi-mi:\"MI:0471\"(MINT) \\\\\n",
       "2  &                  A1BG &                CDKN1A &  MINT-8089645 &  psi-mi:\"MI:0471\"(MINT) \\\\\n",
       "3  &                  A1BG &                   TK1 &  MINT-8089645 &  psi-mi:\"MI:0471\"(MINT) \\\\\n",
       "28 &                   A2M &              ATP6V1B2 &      17174955 &  psi-mi:\"MI:0471\"(MINT) \\\\\n",
       "\\bottomrule\n",
       "\\end{tabular}\n",
       "}"
      ],
      "text/plain": [
       "   Protein A (gene name) Protein B (gene name)     PubMed ID  \\\n",
       "0                   A1BG                  GRB7  MINT-8089645   \n",
       "1                   A1BG                  SMN1  MINT-8089645   \n",
       "2                   A1BG                CDKN1A  MINT-8089645   \n",
       "3                   A1BG                   TK1  MINT-8089645   \n",
       "28                   A2M              ATP6V1B2      17174955   \n",
       "\n",
       "          Source databases  \n",
       "0   psi-mi:\"MI:0471\"(MINT)  \n",
       "1   psi-mi:\"MI:0471\"(MINT)  \n",
       "2   psi-mi:\"MI:0471\"(MINT)  \n",
       "3   psi-mi:\"MI:0471\"(MINT)  \n",
       "28  psi-mi:\"MI:0471\"(MINT)  "
      ]
     },
     "execution_count": 170,
     "metadata": {},
     "output_type": "execute_result"
    }
   ],
   "source": [
    "mint_uf_df.head()"
   ]
  },
  {
   "cell_type": "code",
   "execution_count": 384,
   "metadata": {
    "collapsed": true
   },
   "outputs": [],
   "source": [
    "filename = '/Users/moshesilverstein/Desktop/PPI Library/Output/IndividualResources/Unfiltered/ppi_network_mint_human_unfiltered_%s.tsv'% str(datetime.date.today()).replace('-', '_')\n",
    "mint_df.to_csv(filename, sep='\\t', index=False) "
   ]
  },
  {
   "cell_type": "code",
   "execution_count": 385,
   "metadata": {
    "collapsed": true
   },
   "outputs": [],
   "source": [
    "filename = '/Users/moshesilverstein/Desktop/PPI Library/Output/IndividualResources/Unfiltered/ppi_network_mint_human_unfiltered_%s.tsv.gz'% str(datetime.date.today()).replace('-', '_')\n",
    "mint_df.to_csv(filename, sep='\\t', index=False, compression='gzip') "
   ]
  },
  {
   "cell_type": "code",
   "execution_count": 174,
   "metadata": {},
   "outputs": [
    {
     "name": "stdout",
     "output_type": "stream",
     "text": [
      " 20133 Out of 20133 "
     ]
    }
   ],
   "source": [
    "# drop any data that was published with more then 10 PPI's per publication\n",
    "i = 1\n",
    "lst = []\n",
    "for pub in mint_df['PubMed ID'].values:\n",
    "    print('\\r', str(i)+' Out of '+ str(len(mint_df['PubMed ID'].values)), end=' ', flush=True)\n",
    "    lst.append(mint_df[mint_df['PubMed ID'] == pub].shape[0] <= 10)\n",
    "    i +=1\n",
    "\n",
    "mint_df = mint_df[lst]"
   ]
  },
  {
   "cell_type": "code",
   "execution_count": 175,
   "metadata": {
    "collapsed": true
   },
   "outputs": [],
   "source": [
    "# Drop data for which there is no PubMed ID\n",
    "lst = []\n",
    "for value in mint_df['PubMed ID']:\n",
    "    if 'unassigned' in value:\n",
    "        lst.append(True)\n",
    "    else:\n",
    "        lst.append(False)\n",
    "\n",
    "mint_df = mint_df.drop(mint_df[lst].index)"
   ]
  },
  {
   "cell_type": "code",
   "execution_count": 176,
   "metadata": {
    "collapsed": true
   },
   "outputs": [],
   "source": [
    "# Drop any data missing information\n",
    "mint_df.dropna(inplace=True)"
   ]
  },
  {
   "cell_type": "code",
   "execution_count": 380,
   "metadata": {},
   "outputs": [
    {
     "name": "stdout",
     "output_type": "stream",
     "text": [
      " Loop 4: 6000 Out of 6394 "
     ]
    }
   ],
   "source": [
    "concatliketerms(mint_df)"
   ]
  },
  {
   "cell_type": "code",
   "execution_count": 180,
   "metadata": {},
   "outputs": [
    {
     "data": {
      "text/plain": [
       "(6492, 4)"
      ]
     },
     "execution_count": 180,
     "metadata": {},
     "output_type": "execute_result"
    }
   ],
   "source": [
    "mint_df.shape"
   ]
  },
  {
   "cell_type": "code",
   "execution_count": 381,
   "metadata": {
    "collapsed": true
   },
   "outputs": [],
   "source": [
    "filename = '/Users/moshesilverstein/Desktop/PPI Library/Output/IndividualResources/Filtered/ppi_network_mint_human_filtered_%s.tsv'% strhttps://urldefense.proofpoint.com/v2/url?u=http-3A__-28datetime.date.today&d=DwIGAg&c=shNJtf5dKgNcPZ6Yh64b-A&r=FzzxHcpcdpeEl2SeS4RngXJfR5R4cEV8N2xULwaH8LE&m=H47AkOYhsWJidY3BTdZQzbIarlSka87imDJ8Qn9e6GY&s=0AXIrr2R1Ws2uctDrGSv2BrKSII9GfdeCfYYet-im-Y&e= ()).replace('-', '_')\n",
    "mint_df.to_csv(filename, sep='\\t', index=False) "
   ]
  },
  {
   "cell_type": "code",
   "execution_count": 382,
   "metadata": {
    "collapsed": true
   },
   "outputs": [],
   "source": [
    "filename = '/Users/moshesilverstein/Desktop/PPI Library/Output/IndividualResources/Filtered/ppi_network_mint_human_filtered_%s.tsv.gz'% strhttps://urldefense.proofpoint.com/v2/url?u=http-3A__-28datetime.date.today&d=DwIGAg&c=shNJtf5dKgNcPZ6Yh64b-A&r=FzzxHcpcdpeEl2SeS4RngXJfR5R4cEV8N2xULwaH8LE&m=H47AkOYhsWJidY3BTdZQzbIarlSka87imDJ8Qn9e6GY&s=0AXIrr2R1Ws2uctDrGSv2BrKSII9GfdeCfYYet-im-Y&e= ()).replace('-', '_')\n",
    "mint_df.to_csv(filename, sep='\\t', index=False, compression='gzip') "
   ]
  },
  {
   "cell_type": "markdown",
   "metadata": {},
   "source": [
    "## BioGrid Data"
   ]
  },
  {
   "cell_type": "code",
   "execution_count": 21,
   "metadata": {
    "collapsed": true
   },
   "outputs": [],
   "source": [
    "biogrid_df =https://urldefense.proofpoint.com/v2/url?u=http-3A__pd.re&d=DwIGAg&c=shNJtf5dKgNcPZ6Yh64b-A&r=FzzxHcpcdpeEl2SeS4RngXJfR5R4cEV8N2xULwaH8LE&m=H47AkOYhsWJidY3BTdZQzbIarlSka87imDJ8Qn9e6GY&s=kUtB02_d29l-AX62DWgGfOrrMBgeV15cPbw0hAtCi7Y&e= ad_csv('/Users/moshesilverstein/Desktop/PPI Library/Input/BIOGRID-ALL-3.4.144.mitab.txt', sep='\\t', index_col=False)"
   ]
  },
  {
   "cell_type": "code",
   "execution_count": 121,
   "metadata": {
    "collapsed": true
   },
   "outputs": [],
   "source": [
    "# get only human (or mouse) data\n",
    "n = biogrid_df['Taxid Interactor A'].values\n",
    "b = [i for i,item in enumerate(n) if \"taxid:9606\" in item] #taxid:9606 for human, taxid:10090 for mouse\n",
    "biogrid_df = biogrid_df.ix[b]"
   ]
  },
  {
   "cell_type": "code",
   "execution_count": 122,
   "metadata": {
    "collapsed": true
   },
   "outputs": [],
   "source": [
    "biogrid_df =  biogrid_df.reset_index().drop('index', axis=1)\n",
    "\n",
    "# get only human (or mouse) data\n",
    "n = biogrid_df['Taxid Interactor B'].values\n",
    "b = [i for i,item in enumerate(n) if \"taxid:9606\" in item] #taxid:9606 for human, taxid:10090 for mouse\n",
    "biogrid_df = biogrid_df.ix[b]"
   ]
  },
  {
   "cell_type": "code",
   "execution_count": 123,
   "metadata": {
    "collapsed": true
   },
   "outputs": [],
   "source": [
    "# select only relevent data\n",
    "biogrid_df = biogrid_df[['Alt IDs Interactor A', 'Alt IDs Interactor B', 'Publication Identifiers', 'Source Database']]"
   ]
  },
  {
   "cell_type": "code",
   "execution_count": 124,
   "metadata": {
    "collapsed": true
   },
   "outputs": [],
   "source": [
    "# rename columns for consistency\n",
    "biogrid_df.rename(columns={'Alt IDs Interactor A': 'Protein A (gene name)', 'Alt IDs Interactor B':'Protein B (gene name)', 'Publication Identifiers':'PubMed ID', 'Source Database':'Source databases'}, inplace=True)"
   ]
  },
  {
   "cell_type": "code",
   "execution_count": 125,
   "metadata": {},
   "outputs": [
    {
     "name": "stdout",
     "output_type": "stream",
     "text": [
      " 303500 "
     ]
    }
   ],
   "source": [
    "# change column one to just show gene name\n",
    "i = 1\n",
    "lst = []\n",
    "for name in biogrid_df['Protein A (gene name)']:\n",
    "    if i % 100 == 0:\n",
    "        print('\\r', i, end=' ', flush=True)\n",
    "    name = str(name) \n",
    "    if name != 'nan':\n",
    "        lst.append(name.split('|')[1].split(':')[1])\n",
    "    else:\n",
    "        lst.appendhttps://urldefense.proofpoint.com/v2/url?u=http-3A__-28np.na&d=DwIGAg&c=shNJtf5dKgNcPZ6Yh64b-A&r=FzzxHcpcdpeEl2SeS4RngXJfR5R4cEV8N2xULwaH8LE&m=H47AkOYhsWJidY3BTdZQzbIarlSka87imDJ8Qn9e6GY&s=7WM6dIU5B2DmwOyR_-PTnzSdk60Ct63WnSExIongu-A&e= n)\n",
    "    i += 1\n",
    "biogrid_df['Protein A (gene name)'] = lst"
   ]
  },
  {
   "cell_type": "code",
   "execution_count": 126,
   "metadata": {},
   "outputs": [
    {
     "name": "stdout",
     "output_type": "stream",
     "text": [
      " 303500 "
     ]
    }
   ],
   "source": [
    "# change column two to just show gene name\n",
    "i = 1\n",
    "lst = []\n",
    "for name in biogrid_df['Protein B (gene name)']:\n",
    "    if i % 100 == 0:\n",
    "        print('\\r', i, end=' ', flush=True)\n",
    "    name = str(name) \n",
    "    if name != 'nan':\n",
    "        lst.append(name.split('|')[1].split(':')[1])\n",
    "    else:\n",
    "        lst.appendhttps://urldefense.proofpoint.com/v2/url?u=http-3A__-28np.na&d=DwIGAg&c=shNJtf5dKgNcPZ6Yh64b-A&r=FzzxHcpcdpeEl2SeS4RngXJfR5R4cEV8N2xULwaH8LE&m=H47AkOYhsWJidY3BTdZQzbIarlSka87imDJ8Qn9e6GY&s=7WM6dIU5B2DmwOyR_-PTnzSdk60Ct63WnSExIongu-A&e= n)\n",
    "    i += 1\n",
    "biogrid_df['Protein B (gene name)'] = lst"
   ]
  },
  {
   "cell_type": "code",
   "execution_count": 127,
   "metadata": {},
   "outputs": [
    {
     "data": {
      "text/plain": [
       "(303566, 4)"
      ]
     },
     "execution_count": 127,
     "metadata": {},
     "output_type": "execute_result"
    }
   ],
   "source": [
    "biogrid_df.shape"
   ]
  },
  {
   "cell_type": "code",
   "execution_count": 128,
   "metadata": {
    "collapsed": true
   },
   "outputs": [],
   "source": [
    "# drop data for which no gene name is provited (or ensamble ID)\n",
    "biogrid_df.dropna(how='any', inplace=True, axis=0)"
   ]
  },
  {
   "cell_type": "code",
   "execution_count": 129,
   "metadata": {},
   "outputs": [
    {
     "data": {
      "text/plain": [
       "(303566, 4)"
      ]
     },
     "execution_count": 129,
     "metadata": {},
     "output_type": "execute_result"
    }
   ],
   "source": [
    "biogrid_df.shape"
   ]
  },
  {
   "cell_type": "code",
   "execution_count": 130,
   "metadata": {
    "collapsed": true
   },
   "outputs": [],
   "source": [
    "# Get Only PubMed ID for publication identifier\n",
    "lst = []\n",
    "\n",
    "for pub in biogrid_df['PubMed ID']:\n",
    "    pub = str(pub)\n",
    "    pub = pub.split(':')[1]\n",
    "    lst.append(pub)\n",
    "biogrid_df['PubMed ID'] = lst"
   ]
  },
  {
   "cell_type": "code",
   "execution_count": 131,
   "metadata": {
    "collapsed": true
   },
   "outputs": [],
   "source": [
    "#biogrid_df.drop_duplicates(['Aliases for A', 'Aliases for B'], inplace=True)\n",
    "biogrid_df.drop_duplicates(inplace=True)"
   ]
  },
  {
   "cell_type": "code",
   "execution_count": 133,
   "metadata": {
    "collapsed": true
   },
   "outputs": [],
   "source": [
    "# uf = unfiltered\n",
    "biogrid_uf_df = biogrid_df.copy()"
   ]
  },
  {
   "cell_type": "code",
   "execution_count": 137,
   "metadata": {},
   "outputs": [
    {
     "name": "stdout",
     "output_type": "stream",
     "text": [
      " Loop 5: 281100 Out of 281178 "
     ]
    }
   ],
   "source": [
    "concatliketerms(biogrid_uf_df)"
   ]
  },
  {
   "cell_type": "code",
   "execution_count": 139,
   "metadata": {},
   "outputs": [
    {
     "data": {
      "text/html": [
       "<div>\n",
       "<table border=\"1\" class=\"dataframe\">\n",
       "  <thead>\n",
       "    <tr style=\"text-align: right;\">\n",
       "      <th></th>\n",
       "      <th>Protein A (gene name)</th>\n",
       "      <th>Protein B (gene name)</th>\n",
       "      <th>PubMed ID</th>\n",
       "      <th>Source databases</th>\n",
       "    </tr>\n",
       "  </thead>\n",
       "  <tbody>\n",
       "    <tr>\n",
       "      <th>0</th>\n",
       "      <td>A1BG</td>\n",
       "      <td>ABCC6</td>\n",
       "      <td>21988832</td>\n",
       "      <td>psi-mi:\"MI:0463\"(biogrid)</td>\n",
       "    </tr>\n",
       "    <tr>\n",
       "      <th>1</th>\n",
       "      <td>A1BG</td>\n",
       "      <td>SETD7</td>\n",
       "      <td>21988832</td>\n",
       "      <td>psi-mi:\"MI:0463\"(biogrid)</td>\n",
       "    </tr>\n",
       "    <tr>\n",
       "      <th>2</th>\n",
       "      <td>A1BG</td>\n",
       "      <td>PRDX4</td>\n",
       "      <td>21988832</td>\n",
       "      <td>psi-mi:\"MI:0463\"(biogrid)</td>\n",
       "    </tr>\n",
       "    <tr>\n",
       "      <th>3</th>\n",
       "      <td>A1CF</td>\n",
       "      <td>APOBEC1</td>\n",
       "      <td>10669759|11134005</td>\n",
       "      <td>psi-mi:\"MI:0463\"(biogrid)|psi-mi:\"MI:0463\"(bio...</td>\n",
       "    </tr>\n",
       "    <tr>\n",
       "      <th>4</th>\n",
       "      <td>A1CF</td>\n",
       "      <td>SYNCRIP</td>\n",
       "      <td>11134005</td>\n",
       "      <td>psi-mi:\"MI:0463\"(biogrid)</td>\n",
       "    </tr>\n",
       "  </tbody>\n",
       "</table>\n",
       "</div>"
      ],
      "text/latex": [
       "\\centering{\\begin{tabular}{lllll}\n",
       "\\toprule\n",
       "{} & Protein A (gene name) & Protein B (gene name) &          PubMed ID &                                   Source databases \\\\\n",
       "\\midrule\n",
       "0 &                  A1BG &                 ABCC6 &           21988832 &                          psi-mi:\"MI:0463\"(biogrid) \\\\\n",
       "1 &                  A1BG &                 SETD7 &           21988832 &                          psi-mi:\"MI:0463\"(biogrid) \\\\\n",
       "2 &                  A1BG &                 PRDX4 &           21988832 &                          psi-mi:\"MI:0463\"(biogrid) \\\\\n",
       "3 &                  A1CF &               APOBEC1 &  10669759|11134005 &  psi-mi:\"MI:0463\"(biogrid)|psi-mi:\"MI:0463\"(bio... \\\\\n",
       "4 &                  A1CF &               SYNCRIP &           11134005 &                          psi-mi:\"MI:0463\"(biogrid) \\\\\n",
       "\\bottomrule\n",
       "\\end{tabular}\n",
       "}"
      ],
      "text/plain": [
       "  Protein A (gene name) Protein B (gene name)          PubMed ID  \\\n",
       "0                  A1BG                 ABCC6           21988832   \n",
       "1                  A1BG                 SETD7           21988832   \n",
       "2                  A1BG                 PRDX4           21988832   \n",
       "3                  A1CF               APOBEC1  10669759|11134005   \n",
       "4                  A1CF               SYNCRIP           11134005   \n",
       "\n",
       "                                    Source databases  \n",
       "0                          psi-mi:\"MI:0463\"(biogrid)  \n",
       "1                          psi-mi:\"MI:0463\"(biogrid)  \n",
       "2                          psi-mi:\"MI:0463\"(biogrid)  \n",
       "3  psi-mi:\"MI:0463\"(biogrid)|psi-mi:\"MI:0463\"(bio...  \n",
       "4                          psi-mi:\"MI:0463\"(biogrid)  "
      ]
     },
     "execution_count": 139,
     "metadata": {},
     "output_type": "execute_result"
    }
   ],
   "source": [
    "biogrid_uf_df.head()"
   ]
  },
  {
   "cell_type": "code",
   "execution_count": 140,
   "metadata": {},
   "outputs": [
    {
     "data": {
      "text/plain": [
       "(284266, 4)"
      ]
     },
     "execution_count": 140,
     "metadata": {},
     "output_type": "execute_result"
    }
   ],
   "source": [
    "biogrid_df.shape"
   ]
  },
  {
   "cell_type": "code",
   "execution_count": 141,
   "metadata": {
    "collapsed": true
   },
   "outputs": [],
   "source": [
    "filename = '/Users/moshesilverstein/Desktop/PPI Library/Output/IndividualResources/Unfiltered/ppi_network_biogrid_human_unfiltered_%s.tsv'% str(datetime.date.today()).replace('-', '_')\n",
    "biogrid_uf_df.to_csv(filename, sep='\\t', index=False) "
   ]
  },
  {
   "cell_type": "code",
   "execution_count": 142,
   "metadata": {
    "collapsed": true
   },
   "outputs": [],
   "source": [
    "filename = '/Users/moshesilverstein/Desktop/PPI Library/Output/IndividualResources/Unfiltered/ppi_network_biogrid_human_unfiltered_%s.tsv.gz'% str(datetime.date.today()).replace('-', '_')\n",
    "biogrid_uf_df.to_csv(filename, sep='\\t', index=False, compression='gzip') "
   ]
  },
  {
   "cell_type": "code",
   "execution_count": 144,
   "metadata": {},
   "outputs": [
    {
     "name": "stdout",
     "output_type": "stream",
     "text": [
      " 24500 Out of 22985 "
     ]
    }
   ],
   "source": [
    "# drop any data that was published with more then 10 PPI's per publication\n",
    "i = 1\n",
    "for pub in biogrid_df['PubMed ID'].unique():\n",
    "    if i % 100 == 0:\n",
    "        print('\\r', str(i)+' Out of '+ str(len(biogrid_df['PubMed ID'].unique())), end=' ', flush=True)\n",
    "    if biogrid_df[biogrid_df['PubMed ID'] == pub].shape[0] > 10:\n",
    "        biogrid_df.drop(biogrid_df[biogrid_df['PubMed ID'] == pub].index.tolist(), inplace=True)\n",
    "    i +=1\n"
   ]
  },
  {
   "cell_type": "code",
   "execution_count": 145,
   "metadata": {},
   "outputs": [
    {
     "data": {
      "text/plain": [
       "(63817, 4)"
      ]
     },
     "execution_count": 145,
     "metadata": {},
     "output_type": "execute_result"
    }
   ],
   "source": [
    "biogrid_df.shape"
   ]
  },
  {
   "cell_type": "code",
   "execution_count": 147,
   "metadata": {
    "collapsed": true
   },
   "outputs": [],
   "source": [
    "lst = []\n",
    "for value in biogrid_df['PubMed ID']:\n",
    "    if 'unassigned' in value:\n",
    "        lst.append(True)\n",
    "    else:\n",
    "        lst.append(False)\n",
    "\n",
    "biogrid_df = biogrid_df.drop(biogrid_df[lst].index)"
   ]
  },
  {
   "cell_type": "code",
   "execution_count": 148,
   "metadata": {
    "collapsed": true
   },
   "outputs": [],
   "source": [
    "biogrid_df.dropna(inplace=True)"
   ]
  },
  {
   "cell_type": "code",
   "execution_count": 149,
   "metadata": {},
   "outputs": [
    {
     "data": {
      "text/plain": [
       "(63817, 4)"
      ]
     },
     "execution_count": 149,
     "metadata": {},
     "output_type": "execute_result"
    }
   ],
   "source": [
    "biogrid_df.shape"
   ]
  },
  {
   "cell_type": "code",
   "execution_count": 150,
   "metadata": {},
   "outputs": [
    {
     "name": "stdout",
     "output_type": "stream",
     "text": [
      " Loop 5: 61300 Out of 61387 "
     ]
    }
   ],
   "source": [
    "concatliketerms(biogrid_df)"
   ]
  },
  {
   "cell_type": "code",
   "execution_count": 151,
   "metadata": {},
   "outputs": [
    {
     "data": {
      "text/plain": [
       "(61387, 4)"
      ]
     },
     "execution_count": 151,
     "metadata": {},
     "output_type": "execute_result"
    }
   ],
   "source": [
    "biogrid_df.shape"
   ]
  },
  {
   "cell_type": "code",
   "execution_count": 152,
   "metadata": {
    "collapsed": true
   },
   "outputs": [],
   "source": [
    "filename = '/Users/moshesilverstein/Desktop/PPI Library/Output/IndividualResources/Filtered/ppi_network_biogrid_human_filtered_%s.tsv'% str(datetime.date.today()).replace('-', '_')\n",
    "biogrid_df.to_csv(filename, sep='\\t', index=False) "
   ]
  },
  {
   "cell_type": "code",
   "execution_count": 153,
   "metadata": {
    "collapsed": true
   },
   "outputs": [],
   "source": [
    "filename = '/Users/moshesilverstein/Desktop/PPI Library/Output/IndividualResources/Filtered/ppi_network_biogrid_human_filtered_%s.tsv.gz'% str(datetime.date.today()).replace('-', '_')\n",
    "biogrid_df.to_csv(filename, sep='\\t', index=False, compression='gzip') "
   ]
  },
  {
   "cell_type": "markdown",
   "metadata": {},
   "source": [
    "## InnateDB Data"
   ]
  },
  {
   "cell_type": "code",
   "execution_count": 24,
   "metadata": {
    "collapsed": true
   },
   "outputs": [],
   "source": [
    "innatedb_df = pd.read_csv('/Users/moshesilverstein/Desktop/PPI Library/Input/innatedb_ppi.mitab', sep='\\t', index_col=False)"
   ]
  },
  {
   "cell_type": "code",
   "execution_count": 182,
   "metadata": {
    "collapsed": true
   },
   "outputs": [],
   "source": [
    "# get only human (or mouse) data\n",
    "n = innatedb_df['ncbi_taxid_A'].values\n",
    "b = [i for i,item in enumerate(n) if \"Human\" in item]\n",
    "innatedb_df = innatedb_df.ix[b]"
   ]
  },
  {
   "cell_type": "code",
   "execution_count": 183,
   "metadata": {
    "collapsed": true
   },
   "outputs": [],
   "source": [
    "innatedb_df =  innatedb_df.reset_index().drop('index', axis=1)\n",
    "\n",
    "# get only human (or mouse) data\n",
    "n = innatedb_df['ncbi_taxid_B'].values\n",
    "b = [i for i,item in enumerate(n) if \"Human\" in item]\n",
    "innatedb_df = innatedb_df.ix[b]"
   ]
  },
  {
   "cell_type": "code",
   "execution_count": 184,
   "metadata": {
    "collapsed": true
   },
   "outputs": [],
   "source": [
    "innatedb_df = innatedb_df[['alias_A', 'alias_B', 'pmid', 'source_database']]"
   ]
  },
  {
   "cell_type": "code",
   "execution_count": 185,
   "metadata": {
    "collapsed": true
   },
   "outputs": [],
   "source": [
    "innatedb_df.rename(columns={'alias_A': 'Protein A (gene name)', 'alias_B':'Protein B (gene name)', 'pmid':'PubMed ID', 'source_database':'Source databases'}, inplace=True)"
   ]
  },
  {
   "cell_type": "code",
   "execution_count": 186,
   "metadata": {
    "collapsed": true
   },
   "outputs": [],
   "source": [
    "# change column one to just show gene name\n",
    "#i = 1\n",
    "lst = []\n",
    "for name in innatedb_df['Protein A (gene name)']:\n",
    "    #print('\\r', i, end=' ', flush=True)\n",
    "    name = str(name) \n",
    "    if name != 'nan':\n",
    "        lst.append(name.split('|')[-1].split(\":\")[1].split('(')[0])\n",
    "    else:\n",
    "        lst.append(np.nan)\n",
    "    #i += 1\n",
    "innatedb_df['Protein A (gene name)'] = lst"
   ]
  },
  {
   "cell_type": "code",
   "execution_count": 187,
   "metadata": {
    "collapsed": true
   },
   "outputs": [],
   "source": [
    "# change column two to just show gene name\n",
    "#i = 1\n",
    "lst = []\n",
    "for name in innatedb_df['Protein B (gene name)']:\n",
    "    #print('\\r', i, end=' ', flush=True)\n",
    "    name = str(name) \n",
    "    if name != 'nan':\n",
    "        lst.append(name.split('|')[-1].split(\":\")[1].split('(')[0])\n",
    "    else:\n",
    "        lst.append(np.nan)\n",
    "    #i += 1\n",
    "innatedb_df['Protein B (gene name)'] = lst"
   ]
  },
  {
   "cell_type": "code",
   "execution_count": 188,
   "metadata": {
    "collapsed": true
   },
   "outputs": [],
   "source": [
    "# drop data for which no gene name is provited (or ensamble ID)\n",
    "innatedb_df.dropna(how='any', inplace=True, axis=0)"
   ]
  },
  {
   "cell_type": "code",
   "execution_count": 189,
   "metadata": {
    "collapsed": true
   },
   "outputs": [],
   "source": [
    "lst = []\n",
    "\n",
    "for pub in innatedb_df['PubMed ID']:\n",
    "    pub = str(pub)\n",
    "    pub = pub.split(':')[1]\n",
    "    lst.append(pub)\n",
    "innatedb_df['PubMed ID'] = lst"
   ]
  },
  {
   "cell_type": "code",
   "execution_count": 190,
   "metadata": {
    "collapsed": true
   },
   "outputs": [],
   "source": [
    "innatedb_df.drop_duplicates(inplace=True)"
   ]
  },
  {
   "cell_type": "code",
   "execution_count": 191,
   "metadata": {
    "collapsed": true
   },
   "outputs": [],
   "source": [
    "innatedb_uf_df = innatedb_df.copy()"
   ]
  },
  {
   "cell_type": "code",
   "execution_count": 192,
   "metadata": {},
   "outputs": [
    {
     "name": "stdout",
     "output_type": "stream",
     "text": [
      " Loop 82: 10800 Out of 10815 "
     ]
    }
   ],
   "source": [
    "concatliketerms(innatedb_uf_df)"
   ]
  },
  {
   "cell_type": "code",
   "execution_count": 193,
   "metadata": {
    "collapsed": true
   },
   "outputs": [],
   "source": [
    "filename = '/Users/moshesilverstein/Desktop/PPI Library/Output/IndividualResources/Unfiltered/ppi_network_innatedb_human_unfiltered_%s.tsv'% str(datetime.date.today()).replace('-', '_')\n",
    "innatedb_uf_df.to_csv(filename, sep='\\t', index=False) "
   ]
  },
  {
   "cell_type": "code",
   "execution_count": 194,
   "metadata": {
    "collapsed": true
   },
   "outputs": [],
   "source": [
    "filename = '/Users/moshesilverstein/Desktop/PPI Library/Output/IndividualResources/Unfiltered/ppi_network_innatedb_human_unfiltered_%s.tsv.gz'% str(datetime.date.today()).replace('-', '_')\n",
    "innatedb_uf_df.to_csv(filename, sep='\\t', index=False, compression='gzip') "
   ]
  },
  {
   "cell_type": "code",
   "execution_count": 195,
   "metadata": {},
   "outputs": [
    {
     "name": "stdout",
     "output_type": "stream",
     "text": [
      " 3000 Out of 2984 "
     ]
    }
   ],
   "source": [
    "# drop any data that was published with more then 10 PPI's per publication\n",
    "i = 1\n",
    "for pub in innatedb_df['PubMed ID'].unique():\n",
    "    if i % 100 == 0:\n",
    "        print('\\r', str(i)+' Out of '+ str(len(innatedb_df['PubMed ID'].unique())), end=' ', flush=True)\n",
    "    if innatedb_df[innatedb_df['PubMed ID'] == pub].shape[0] > 10:\n",
    "        innatedb_df.drop(innatedb_df[innatedb_df['PubMed ID'] == pub].index.tolist(), inplace=True)\n",
    "    i +=1\n"
   ]
  },
  {
   "cell_type": "code",
   "execution_count": 196,
   "metadata": {},
   "outputs": [
    {
     "data": {
      "text/plain": [
       "(6885, 4)"
      ]
     },
     "execution_count": 196,
     "metadata": {},
     "output_type": "execute_result"
    }
   ],
   "source": [
    "innatedb_df.shape"
   ]
  },
  {
   "cell_type": "code",
   "execution_count": 197,
   "metadata": {
    "collapsed": true
   },
   "outputs": [],
   "source": [
    "lst = []\n",
    "for value in innatedb_df['PubMed ID']:\n",
    "    if 'unassigned' in value:\n",
    "        lst.append(True)\n",
    "    else:\n",
    "        lst.append(False)\n",
    "\n",
    "innatedb_df = innatedb_df.drop(innatedb_df[lst].index)"
   ]
  },
  {
   "cell_type": "code",
   "execution_count": 198,
   "metadata": {
    "collapsed": true
   },
   "outputs": [],
   "source": [
    "innatedb_df.dropna(inplace=True)"
   ]
  },
  {
   "cell_type": "code",
   "execution_count": 199,
   "metadata": {},
   "outputs": [
    {
     "name": "stdout",
     "output_type": "stream",
     "text": [
      " Loop 68: 5400 Out of 5415 "
     ]
    }
   ],
   "source": [
    "concatliketerms(innatedb_df)"
   ]
  },
  {
   "cell_type": "code",
   "execution_count": 200,
   "metadata": {
    "collapsed": true
   },
   "outputs": [],
   "source": [
    "filename = '/Users/moshesilverstein/Desktop/PPI Library/Output/IndividualResources/Filtered/ppi_network_innatedb_human_filtered_%s.tsv'% str(datetime.date.today()).replace('-', '_')\n",
    "innatedb_df.to_csv(filename, sep='\\t', index=False) "
   ]
  },
  {
   "cell_type": "code",
   "execution_count": 201,
   "metadata": {
    "collapsed": true
   },
   "outputs": [],
   "source": [
    "filename = '/Users/moshesilverstein/Desktop/PPI Library/Output/IndividualResources/Filtered/ppi_network_innatedb_human_filtered_%s.tsv.gz'% str(datetime.date.today()).replace('-', '_')\n",
    "innatedb_df.to_csv(filename, sep='\\t', index=False, compression='gzip') "
   ]
  },
  {
   "cell_type": "markdown",
   "metadata": {},
   "source": [
    "## DIP DATA"
   ]
  },
  {
   "cell_type": "code",
   "execution_count": 27,
   "metadata": {
    "collapsed": true
   },
   "outputs": [],
   "source": [
    "dip_df = pd.read_csv('/Users/moshesilverstein/Desktop/PPI Library/Input/dip20160731.txt', sep='\\t', index_col=False)"
   ]
  },
  {
   "cell_type": "code",
   "execution_count": 204,
   "metadata": {
    "collapsed": true
   },
   "outputs": [],
   "source": [
    "# get only human (or mouse) data\n",
    "n = dip_df['Taxid interactor A'].values\n",
    "b = [i for i,item in enumerate(n) if \"Homo sapiens\" in item]\n",
    "dip_df = dip_df.ix[b]"
   ]
  },
  {
   "cell_type": "code",
   "execution_count": 205,
   "metadata": {
    "collapsed": true
   },
   "outputs": [],
   "source": [
    "dip_df =  dip_df.reset_index().drop('index', axis=1)\n",
    "\n",
    "# get only human (or mouse) data\n",
    "n = dip_df['Taxid interactor B'].values\n",
    "b = [i for i,item in enumerate(n) if \"Homo sapiens\" in item]\n",
    "dip_df = dip_df.ix[b]"
   ]
  },
  {
   "cell_type": "code",
   "execution_count": 206,
   "metadata": {
    "collapsed": true
   },
   "outputs": [],
   "source": [
    "dip_df = dip_df[['ID interactor A', 'ID interactor B', 'Publication Identifier(s)', 'Source database(s)']]"
   ]
  },
  {
   "cell_type": "code",
   "execution_count": 207,
   "metadata": {
    "collapsed": true
   },
   "outputs": [],
   "source": [
    "dip_df.rename(columns={'ID interactor A': 'Protein A (gene name)', 'ID interactor B':'Protein B (gene name)', 'Publication Identifier(s)':'PubMed ID', 'Source database(s)':'Source databases'}, inplace=True)"
   ]
  },
  {
   "cell_type": "markdown",
   "metadata": {},
   "source": [
    "#### mapping table to convert labels from uniprot to ncbi names"
   ]
  },
  {
   "cell_type": "code",
   "execution_count": 208,
   "metadata": {
    "collapsed": true
   },
   "outputs": [],
   "source": [
    "mapping_df = pd.read_csv('/Users/moshesilverstein/Desktop/PPI Library/Doc and Mapping/HUMAN_9606_idmapping.dat', sep='\\t', index_col=False, names=['UniProtKB-AC', 'ID_type', 'ID'])"
   ]
  },
  {
   "cell_type": "code",
   "execution_count": 209,
   "metadata": {
    "collapsed": true
   },
   "outputs": [],
   "source": [
    "mapping_df = mapping_df[mapping_df['ID_type']=='Gene_Name']"
   ]
  },
  {
   "cell_type": "code",
   "execution_count": 210,
   "metadata": {
    "collapsed": true
   },
   "outputs": [],
   "source": [
    "mapping_df.set_index('UniProtKB-AC', inplace=True)"
   ]
  },
  {
   "cell_type": "code",
   "execution_count": 211,
   "metadata": {
    "collapsed": true
   },
   "outputs": [],
   "source": [
    "mapping_df = mapping_df[~mapping_df.index.duplicated(keep='first')]"
   ]
  },
  {
   "cell_type": "code",
   "execution_count": 212,
   "metadata": {
    "collapsed": true
   },
   "outputs": [],
   "source": [
    "# change column one to just show gene name\n",
    "for index in dip_df.index:\n",
    "    found = re.search('uniprotkb:......', dip_df.ix[index, 'Protein A (gene name)'])\n",
    "    if found:\n",
    "        name = found.group(0).split(':')[1]\n",
    "        if name in mapping_df.index.values:\n",
    "            dip_df.ix[index, 'Protein A (gene name)'] = mapping_df.ix[name, 'ID']\n",
    "        else:\n",
    "            dip_df.ix[index, 'Protein A (gene name)'] = np.nan\n",
    "    else:\n",
    "        dip_df.ix[index, 'Protein A (gene name)'] = np.nan"
   ]
  },
  {
   "cell_type": "code",
   "execution_count": 213,
   "metadata": {
    "collapsed": true
   },
   "outputs": [],
   "source": [
    "# change column two to just show gene name\n",
    "for index in dip_df.index:\n",
    "    found = re.search('uniprotkb:......', dip_df.ix[index, 'Protein B (gene name)'])\n",
    "    if found:\n",
    "        name = found.group(0).split(':')[1]\n",
    "        if name in mapping_df.index.values:\n",
    "            dip_df.ix[index, 'Protein B (gene name)'] = mapping_df.ix[name, 'ID']\n",
    "        else:\n",
    "            dip_df.ix[index, 'Protein B (gene name)'] = np.nan\n",
    "    else:\n",
    "        dip_df.ix[index, 'Protein B (gene name)'] = np.nan"
   ]
  },
  {
   "cell_type": "code",
   "execution_count": 214,
   "metadata": {
    "collapsed": true
   },
   "outputs": [],
   "source": [
    "lst = []\n",
    "\n",
    "for pub in dip_df['PubMed ID']:\n",
    "    pub = str(pub)\n",
    "    pub = pub.split('|')[0].split(':')[1]\n",
    "    lst.append(pub)\n",
    "dip_df['PubMed ID'] = lst"
   ]
  },
  {
   "cell_type": "code",
   "execution_count": 215,
   "metadata": {
    "collapsed": true
   },
   "outputs": [],
   "source": [
    "dip_df.drop_duplicates(inplace=True)"
   ]
  },
  {
   "cell_type": "code",
   "execution_count": 216,
   "metadata": {
    "collapsed": true
   },
   "outputs": [],
   "source": [
    "dip_uf_df = dip_df.copy()"
   ]
  },
  {
   "cell_type": "code",
   "execution_count": 217,
   "metadata": {},
   "outputs": [
    {
     "name": "stdout",
     "output_type": "stream",
     "text": [
      " Loop 2: 5500 Out of 5513 "
     ]
    }
   ],
   "source": [
    "concatliketerms(dip_uf_df)"
   ]
  },
  {
   "cell_type": "code",
   "execution_count": 218,
   "metadata": {
    "collapsed": true
   },
   "outputs": [],
   "source": [
    "filename = '/Users/moshesilverstein/Desktop/PPI Library/Output/IndividualResources/Unfiltered/ppi_network_dip_human_unfiltered_%s.tsv'% str(datetime.date.today()).replace('-', '_')\n",
    "dip_uf_df.to_csv(filename, sep='\\t', index=False) "
   ]
  },
  {
   "cell_type": "code",
   "execution_count": 219,
   "metadata": {
    "collapsed": true
   },
   "outputs": [],
   "source": [
    "filename = '/Users/moshesilverstein/Desktop/PPI Library/Output/IndividualResources/Unfiltered/ppi_network_dip_human_unfiltered_%s.tsv.gz'% str(datetime.date.today()).replace('-', '_')\n",
    "dip_uf_df.to_csv(filename, sep='\\t', index=False, compression='gzip') "
   ]
  },
  {
   "cell_type": "code",
   "execution_count": 220,
   "metadata": {},
   "outputs": [
    {
     "name": "stdout",
     "output_type": "stream",
     "text": [
      " 2100 Out of 2047 "
     ]
    }
   ],
   "source": [
    "# drop any data that was published with more then 10 PPI's per publication\n",
    "i = 1\n",
    "for pub in dip_df['PubMed ID'].unique():\n",
    "    if i % 100 == 0:\n",
    "        print('\\r', str(i)+' Out of '+ str(len(dip_df['PubMed ID'].unique())), end=' ', flush=True)\n",
    "    if dip_df[dip_df['PubMed ID'] == pub].shape[0] > 10:\n",
    "        dip_df.drop(dip_df[dip_df['PubMed ID'] == pub].index.tolist(), inplace=True)\n",
    "    i +=1"
   ]
  },
  {
   "cell_type": "code",
   "execution_count": 221,
   "metadata": {
    "collapsed": true
   },
   "outputs": [],
   "source": [
    "lst = []\n",
    "for value in dip_df['PubMed ID']:\n",
    "    if 'unassigned' in value:\n",
    "        lst.append(True)\n",
    "    else:\n",
    "        lst.append(False)\n",
    "\n",
    "dip_df = dip_df.drop(dip_df[lst].index)"
   ]
  },
  {
   "cell_type": "code",
   "execution_count": 222,
   "metadata": {
    "collapsed": true
   },
   "outputs": [],
   "source": [
    "dip_df.dropna(inplace=True)"
   ]
  },
  {
   "cell_type": "code",
   "execution_count": 261,
   "metadata": {},
   "outputs": [
    {
     "name": "stdout",
     "output_type": "stream",
     "text": [
      " Loop 9: 3900 Out of 3909 "
     ]
    }
   ],
   "source": [
    "concatliketerms(dip_df)"
   ]
  },
  {
   "cell_type": "code",
   "execution_count": 202,
   "metadata": {
    "collapsed": true
   },
   "outputs": [],
   "source": [
    "#mapping_df.head()"
   ]
  },
  {
   "cell_type": "code",
   "execution_count": 262,
   "metadata": {
    "collapsed": true
   },
   "outputs": [],
   "source": [
    "filename = '/Users/moshesilverstein/Desktop/PPI Library/Output/IndividualResources/Filtered/ppi_network_dip_human_filtered_%s.tsv'% str(datetime.date.today()).replace('-', '_')\n",
    "dip_df.to_csv(filename, sep='\\t', index=False) "
   ]
  },
  {
   "cell_type": "code",
   "execution_count": 263,
   "metadata": {
    "collapsed": true
   },
   "outputs": [],
   "source": [
    "filename = '/Users/moshesilverstein/Desktop/PPI Library/Output/IndividualResources/Filtered/ppi_network_dip_human_filtered_%s.tsv.gz'% str(datetime.date.today()).replace('-', '_')\n",
    "dip_df.to_csv(filename, sep='\\t', index=False, compression='gzip') "
   ]
  },
  {
   "cell_type": "markdown",
   "metadata": {},
   "source": [
    "## mentha data"
   ]
  },
  {
   "cell_type": "code",
   "execution_count": 30,
   "metadata": {
    "collapsed": true
   },
   "outputs": [],
   "source": [
    "mentha_df = pd.read_csv('/Users/moshesilverstein/Desktop/PPI Library/Input/mentha_human', sep=';')"
   ]
  },
  {
   "cell_type": "code",
   "execution_count": 226,
   "metadata": {
    "collapsed": true
   },
   "outputs": [],
   "source": [
    "mentha_df = mentha_df[['Gene A', 'Gene B', 'PMID']]"
   ]
  },
  {
   "cell_type": "code",
   "execution_count": 227,
   "metadata": {
    "collapsed": true
   },
   "outputs": [],
   "source": [
    "mentha_df['Source databases'] = '(mentha)'"
   ]
  },
  {
   "cell_type": "code",
   "execution_count": 228,
   "metadata": {
    "collapsed": true
   },
   "outputs": [],
   "source": [
    "mentha_df.rename(columns={'Gene A': 'Protein A (gene name)', 'Gene B':'Protein B (gene name)', 'PMID':'PubMed ID'}, inplace=True)"
   ]
  },
  {
   "cell_type": "code",
   "execution_count": 229,
   "metadata": {},
   "outputs": [
    {
     "name": "stdout",
     "output_type": "stream",
     "text": [
      " 259500 Out of 259599 "
     ]
    }
   ],
   "source": [
    "i = 1\n",
    "for index in mentha_df.index:\n",
    "    if i % 100 == 0:\n",
    "        print('\\r', str(i)+' Out of '+ str(len(mentha_df.index)), end=' ', flush=True)\n",
    "    mentha_df.ix[index, 'PubMed ID'] = '|'.join(mentha_df.ix[index, 'PubMed ID'].split(' ')[0:-1])\n",
    "    i +=1"
   ]
  },
  {
   "cell_type": "code",
   "execution_count": 231,
   "metadata": {
    "collapsed": true
   },
   "outputs": [],
   "source": [
    "mentha_df.drop_duplicates(inplace=True)"
   ]
  },
  {
   "cell_type": "code",
   "execution_count": 232,
   "metadata": {
    "collapsed": true
   },
   "outputs": [],
   "source": [
    "mentha_uf_df = mentha_df.copy()"
   ]
  },
  {
   "cell_type": "code",
   "execution_count": 234,
   "metadata": {},
   "outputs": [
    {
     "name": "stdout",
     "output_type": "stream",
     "text": [
      " Loop 16: 258600 Out of 258615 "
     ]
    }
   ],
   "source": [
    "concatliketerms(mentha_uf_df)"
   ]
  },
  {
   "cell_type": "code",
   "execution_count": 246,
   "metadata": {
    "collapsed": true
   },
   "outputs": [],
   "source": [
    "filename = '/Users/moshesilverstein/Desktop/PPI Library/Output/IndividualResources/Unfiltered/ppi_network_mentha_human_unfiltered_%s.tsv'% str(datetime.date.today()).replace('-', '_')\n",
    "mentha_uf_df.to_csv(filename, sep='\\t', index=False) "
   ]
  },
  {
   "cell_type": "code",
   "execution_count": 247,
   "metadata": {
    "collapsed": true
   },
   "outputs": [],
   "source": [
    "filename = '/Users/moshesilverstein/Desktop/PPI Library/Output/IndividualResources/Unfiltered/ppi_network_mentha_human_unfiltered_%s.tsv.gz'% str(datetime.date.today()).replace('-', '_')\n",
    "mentha_uf_df.to_csv(filename, sep='\\t', index=False, compression='gzip')"
   ]
  },
  {
   "cell_type": "code",
   "execution_count": 237,
   "metadata": {},
   "outputs": [
    {
     "name": "stdout",
     "output_type": "stream",
     "text": [
      " 32800 Out of 31990 "
     ]
    }
   ],
   "source": [
    "# drop any data that was published with more then 10 PPI's per publication\n",
    "i = 1\n",
    "for pub in mentha_df['PubMed ID'].unique():\n",
    "    if i % 100 == 0:\n",
    "        print('\\r', str(i)+' Out of '+ str(len(mentha_df['PubMed ID'].unique())), end=' ', flush=True)\n",
    "    if mentha_df[mentha_df['PubMed ID'] == pub].shape[0] > 10:\n",
    "        mentha_df.drop(mentha_df[mentha_df['PubMed ID'] == pub].index.tolist(), inplace=True)\n",
    "    i +=1"
   ]
  },
  {
   "cell_type": "code",
   "execution_count": 238,
   "metadata": {
    "collapsed": true
   },
   "outputs": [],
   "source": [
    "lst = []\n",
    "for value in mentha_df['PubMed ID']:\n",
    "    if 'unassigned' in value:\n",
    "        lst.append(True)\n",
    "    else:\n",
    "        lst.append(False)\n",
    "\n",
    "mentha_df = mentha_df.drop(mentha_df[lst].index)"
   ]
  },
  {
   "cell_type": "code",
   "execution_count": 239,
   "metadata": {
    "collapsed": true
   },
   "outputs": [],
   "source": [
    "mentha_df.dropna(inplace=True)"
   ]
  },
  {
   "cell_type": "code",
   "execution_count": 240,
   "metadata": {},
   "outputs": [
    {
     "data": {
      "text/plain": [
       "(49155, 4)"
      ]
     },
     "execution_count": 240,
     "metadata": {},
     "output_type": "execute_result"
    }
   ],
   "source": [
    "mentha_df.shape"
   ]
  },
  {
   "cell_type": "code",
   "execution_count": 242,
   "metadata": {},
   "outputs": [
    {
     "name": "stdout",
     "output_type": "stream",
     "text": [
      " Loop 6: 49100 Out of 49132 "
     ]
    }
   ],
   "source": [
    "concatliketerms(mentha_df)"
   ]
  },
  {
   "cell_type": "code",
   "execution_count": 243,
   "metadata": {},
   "outputs": [
    {
     "data": {
      "text/html": [
       "<div>\n",
       "<table border=\"1\" class=\"dataframe\">\n",
       "  <thead>\n",
       "    <tr style=\"text-align: right;\">\n",
       "      <th></th>\n",
       "      <th>Protein A (gene name)</th>\n",
       "      <th>Protein B (gene name)</th>\n",
       "      <th>PubMed ID</th>\n",
       "      <th>Source databases</th>\n",
       "    </tr>\n",
       "  </thead>\n",
       "  <tbody>\n",
       "    <tr>\n",
       "      <th>0</th>\n",
       "      <td>A1CF</td>\n",
       "      <td>SYNCRIP</td>\n",
       "      <td>11134005|11352648</td>\n",
       "      <td>(mentha)</td>\n",
       "    </tr>\n",
       "    <tr>\n",
       "      <th>1</th>\n",
       "      <td>A1CF</td>\n",
       "      <td>KHSRP</td>\n",
       "      <td>10781591</td>\n",
       "      <td>(mentha)</td>\n",
       "    </tr>\n",
       "    <tr>\n",
       "      <th>2</th>\n",
       "      <td>A1CF</td>\n",
       "      <td>CELF2</td>\n",
       "      <td>11577082</td>\n",
       "      <td>(mentha)</td>\n",
       "    </tr>\n",
       "    <tr>\n",
       "      <th>3</th>\n",
       "      <td>A1CF</td>\n",
       "      <td>TNPO2</td>\n",
       "      <td>12896982</td>\n",
       "      <td>(mentha)</td>\n",
       "    </tr>\n",
       "    <tr>\n",
       "      <th>4</th>\n",
       "      <td>A1CF</td>\n",
       "      <td>APOBEC1</td>\n",
       "      <td>11134005|10669759</td>\n",
       "      <td>(mentha)</td>\n",
       "    </tr>\n",
       "  </tbody>\n",
       "</table>\n",
       "</div>"
      ],
      "text/latex": [
       "\\centering{\\begin{tabular}{lllll}\n",
       "\\toprule\n",
       "{} & Protein A (gene name) & Protein B (gene name) &          PubMed ID & Source databases \\\\\n",
       "\\midrule\n",
       "0 &                  A1CF &               SYNCRIP &  11134005|11352648 &         (mentha) \\\\\n",
       "1 &                  A1CF &                 KHSRP &           10781591 &         (mentha) \\\\\n",
       "2 &                  A1CF &                 CELF2 &           11577082 &         (mentha) \\\\\n",
       "3 &                  A1CF &                 TNPO2 &           12896982 &         (mentha) \\\\\n",
       "4 &                  A1CF &               APOBEC1 &  11134005|10669759 &         (mentha) \\\\\n",
       "\\bottomrule\n",
       "\\end{tabular}\n",
       "}"
      ],
      "text/plain": [
       "  Protein A (gene name) Protein B (gene name)          PubMed ID  \\\n",
       "0                  A1CF               SYNCRIP  11134005|11352648   \n",
       "1                  A1CF                 KHSRP           10781591   \n",
       "2                  A1CF                 CELF2           11577082   \n",
       "3                  A1CF                 TNPO2           12896982   \n",
       "4                  A1CF               APOBEC1  11134005|10669759   \n",
       "\n",
       "  Source databases  \n",
       "0         (mentha)  \n",
       "1         (mentha)  \n",
       "2         (mentha)  \n",
       "3         (mentha)  \n",
       "4         (mentha)  "
      ]
     },
     "execution_count": 243,
     "metadata": {},
     "output_type": "execute_result"
    }
   ],
   "source": [
    "mentha_df.head()"
   ]
  },
  {
   "cell_type": "code",
   "execution_count": 244,
   "metadata": {
    "collapsed": true
   },
   "outputs": [],
   "source": [
    "filename = '/Users/moshesilverstein/Desktop/PPI Library/Output/IndividualResources/Filtered/ppi_network_mentha_human_filtered_%s.tsv'% str(datetime.date.today()).replace('-', '_')\n",
    "mentha_df.to_csv(filename, sep='\\t', index=False) "
   ]
  },
  {
   "cell_type": "code",
   "execution_count": 245,
   "metadata": {
    "collapsed": true
   },
   "outputs": [],
   "source": [
    "filename = '/Users/moshesilverstein/Desktop/PPI Library/Output/IndividualResources/Filtered/ppi_network_mentha_human_filtered_%s.tsv.gz'% str(datetime.date.today()).replace('-', '_')\n",
    "mentha_df.to_csv(filename, sep='\\t', index=False, compression='gzip')"
   ]
  },
  {
   "cell_type": "markdown",
   "metadata": {},
   "source": [
    "## IntAct Data "
   ]
  },
  {
   "cell_type": "code",
   "execution_count": 33,
   "metadata": {},
   "outputs": [
    {
     "name": "stderr",
     "output_type": "stream",
     "text": [
      "/Users/moshesilverstein/anaconda/lib/python3.5/site-packages/IPython/core/interactiveshell.py:2717: DtypeWarning: Columns (38,39) have mixed types. Specify dtype option on import or set low_memory=False.\n",
      "  interactivity=interactivity, compiler=compiler, result=result)\n"
     ]
    }
   ],
   "source": [
    "intact_df = pd.read_csv('/Users/moshesilverstein/Desktop/PPI Library/Input/intact.txt', sep='\\t')"
   ]
  },
  {
   "cell_type": "code",
   "execution_count": null,
   "metadata": {
    "collapsed": true
   },
   "outputs": [],
   "source": [
    "#intact_negative_df = pd.read_csv('intact_negative.txt', sep='\\t')"
   ]
  },
  {
   "cell_type": "code",
   "execution_count": null,
   "metadata": {
    "collapsed": true
   },
   "outputs": [],
   "source": [
    "#intact_df = pd.concat([intact_df, intact_negative_df])"
   ]
  },
  {
   "cell_type": "code",
   "execution_count": 249,
   "metadata": {
    "collapsed": true
   },
   "outputs": [],
   "source": [
    "# get only human (or mouse) data\n",
    "n = intact_df['Taxid interactor A'].values\n",
    "b = [i for i,item in enumerate(n) if \"human\" in item]\n",
    "intact_df = intact_df.ix[b]"
   ]
  },
  {
   "cell_type": "code",
   "execution_count": 250,
   "metadata": {
    "collapsed": true
   },
   "outputs": [],
   "source": [
    "intact_df =  intact_df.reset_index().drop('index', axis=1)\n",
    "\n",
    "# get only human (or mouse) data\n",
    "n = intact_df['Taxid interactor B'].values\n",
    "b = [i for i,item in enumerate(n) if \"human\" in item]\n",
    "intact_df = intact_df.ix[b]"
   ]
  },
  {
   "cell_type": "code",
   "execution_count": null,
   "metadata": {
    "collapsed": true
   },
   "outputs": [],
   "source": [
    "#intact_df.ix[0, 'Taxid interactor B']"
   ]
  },
  {
   "cell_type": "code",
   "execution_count": 251,
   "metadata": {
    "collapsed": true
   },
   "outputs": [],
   "source": [
    "intact_df = intact_df[['Alias(es) interactor A', 'Alias(es) interactor B', 'Publication Identifier(s)', 'Source database(s)']]"
   ]
  },
  {
   "cell_type": "code",
   "execution_count": 252,
   "metadata": {
    "collapsed": true
   },
   "outputs": [],
   "source": [
    "intact_df.rename(columns={'Alias(es) interactor A': 'Protein A (gene name)', 'Alias(es) interactor B':'Protein B (gene name)', 'Publication Identifier(s)':'PubMed ID', 'Source database(s)':'Source databases'}, inplace=True)"
   ]
  },
  {
   "cell_type": "code",
   "execution_count": 253,
   "metadata": {
    "collapsed": true
   },
   "outputs": [],
   "source": [
    "# change column one to just show gene name\n",
    "#i = 1\n",
    "lst = []\n",
    "for name in intact_df['Protein A (gene name)']:\n",
    "    #print('\\r', i, end=' ', flush=True)\n",
    "    name = str(name)\n",
    "    if '(gene name)' in name:\n",
    "        temp = name.split('|')\n",
    "        for ID in temp:\n",
    "            if '(gene name)' in ID:\n",
    "                lst.append(ID.split(':')[1].split('(')[0])\n",
    "                break\n",
    "\n",
    "    else:\n",
    "        lst.append(np.nan)\n",
    "    \n",
    "    #i += 1\n",
    "intact_df['Protein A (gene name)'] = lst"
   ]
  },
  {
   "cell_type": "code",
   "execution_count": 254,
   "metadata": {
    "collapsed": true
   },
   "outputs": [],
   "source": [
    "# change column two to just show gene name\n",
    "#i = 1\n",
    "lst = []\n",
    "for name in intact_df['Protein B (gene name)']:\n",
    "    #print('\\r', i, end=' ', flush=True)\n",
    "    name = str(name)\n",
    "    if '(gene name)' in name:\n",
    "        temp = name.split('|')\n",
    "        for ID in temp:\n",
    "            if '(gene name)' in ID:\n",
    "                lst.append(ID.split(':')[1].split('(')[0])\n",
    "                break\n",
    "\n",
    "    else:\n",
    "        lst.append(np.nan)\n",
    "    \n",
    "    #i += 1\n",
    "intact_df['Protein B (gene name)'] = lst"
   ]
  },
  {
   "cell_type": "code",
   "execution_count": 255,
   "metadata": {
    "collapsed": true
   },
   "outputs": [],
   "source": [
    "# drop data for which no gene name is provited (or ensamble ID)\n",
    "intact_df.dropna(how='any', inplace=True, axis=0)"
   ]
  },
  {
   "cell_type": "code",
   "execution_count": 256,
   "metadata": {
    "collapsed": true
   },
   "outputs": [],
   "source": [
    "lst = []\n",
    "\n",
    "for pub in intact_df['PubMed ID']:\n",
    "    pub = str(pub)\n",
    "    pub = pub.split('|')\n",
    "    for p in pub:\n",
    "        if 'pubmed' in p:\n",
    "            pub = p.split(':')[1]\n",
    "    lst.append(pub)\n",
    "intact_df['PubMed ID'] = lst"
   ]
  },
  {
   "cell_type": "code",
   "execution_count": 257,
   "metadata": {
    "collapsed": true
   },
   "outputs": [],
   "source": [
    "intact_df.drop_duplicates(inplace=True)"
   ]
  },
  {
   "cell_type": "code",
   "execution_count": 258,
   "metadata": {
    "collapsed": true
   },
   "outputs": [],
   "source": [
    "intact_uf_df = intact_df.copy()"
   ]
  },
  {
   "cell_type": "code",
   "execution_count": 376,
   "metadata": {},
   "outputs": [
    {
     "name": "stdout",
     "output_type": "stream",
     "text": [
      " Loop 4: 149000 Out of 149186 "
     ]
    }
   ],
   "source": [
    "concatliketerms(intact_uf_df)"
   ]
  },
  {
   "cell_type": "code",
   "execution_count": 378,
   "metadata": {
    "collapsed": true
   },
   "outputs": [],
   "source": [
    "filename = '/Users/moshesilverstein/Desktop/PPI Library/Output/IndividualResources/Unfiltered/ppi_network_intact_human_unfiltered_%s.tsv'% str(datetime.date.today()).replace('-', '_')\n",
    "intact_uf_df.to_csv(filename, sep='\\t', index=False) "
   ]
  },
  {
   "cell_type": "code",
   "execution_count": 379,
   "metadata": {
    "collapsed": true
   },
   "outputs": [],
   "source": [
    "filename = '/Users/moshesilverstein/Desktop/PPI Library/Output/IndividualResources/Unfiltered/ppi_network_intact_human_unfiltered_%s.tsv.gz'% str(datetime.date.today()).replace('-', '_')\n",
    "intact_uf_df.to_csv(filename, sep='\\t', index=False, compression='gzip')"
   ]
  },
  {
   "cell_type": "code",
   "execution_count": 283,
   "metadata": {},
   "outputs": [
    {
     "name": "stdout",
     "output_type": "stream",
     "text": [
      " 6600 Out of 6055 "
     ]
    }
   ],
   "source": [
    "# drop any data that was published with more then 10 PPI's per publication\n",
    "i = 1\n",
    "for pub in intact_df['PubMed ID'].unique():\n",
    "    if i % 100 == 0:\n",
    "        print('\\r', str(i)+' Out of '+ str(len(intact_df['PubMed ID'].unique())), end=' ', flush=True)\n",
    "    if intact_df[intact_df['PubMed ID'] == pub].shape[0] > 10:\n",
    "        intact_df.drop(intact_df[intact_df['PubMed ID'] == pub].index.tolist(), inplace=True)\n",
    "    i +=1\n"
   ]
  },
  {
   "cell_type": "code",
   "execution_count": 284,
   "metadata": {},
   "outputs": [
    {
     "data": {
      "text/plain": [
       "(17171, 4)"
      ]
     },
     "execution_count": 284,
     "metadata": {},
     "output_type": "execute_result"
    }
   ],
   "source": [
    "intact_df.shape"
   ]
  },
  {
   "cell_type": "code",
   "execution_count": 285,
   "metadata": {
    "collapsed": true
   },
   "outputs": [],
   "source": [
    "lst = []\n",
    "for value in intact_df['PubMed ID']:\n",
    "    if 'unassigned' in value:\n",
    "        lst.append(True)\n",
    "    else:\n",
    "        lst.append(False)\n",
    "\n",
    "intact_df = intact_df.drop(intact_df[lst].index)"
   ]
  },
  {
   "cell_type": "code",
   "execution_count": 286,
   "metadata": {
    "collapsed": true
   },
   "outputs": [],
   "source": [
    "intact_df.dropna(inplace=True)"
   ]
  },
  {
   "cell_type": "code",
   "execution_count": 287,
   "metadata": {},
   "outputs": [
    {
     "data": {
      "text/html": [
       "<div>\n",
       "<table border=\"1\" class=\"dataframe\">\n",
       "  <thead>\n",
       "    <tr style=\"text-align: right;\">\n",
       "      <th></th>\n",
       "      <th>Protein A (gene name)</th>\n",
       "      <th>Protein B (gene name)</th>\n",
       "      <th>PubMed ID</th>\n",
       "      <th>Source databases</th>\n",
       "    </tr>\n",
       "  </thead>\n",
       "  <tbody>\n",
       "    <tr>\n",
       "      <th>0</th>\n",
       "      <td>AMPH</td>\n",
       "      <td>SYNJ1</td>\n",
       "      <td>10542231</td>\n",
       "      <td>psi-mi:\"MI:0471\"(MINT)</td>\n",
       "    </tr>\n",
       "    <tr>\n",
       "      <th>10</th>\n",
       "      <td>SH3GL1</td>\n",
       "      <td>SYNJ1</td>\n",
       "      <td>10542231</td>\n",
       "      <td>psi-mi:\"MI:0471\"(MINT)</td>\n",
       "    </tr>\n",
       "    <tr>\n",
       "      <th>11</th>\n",
       "      <td>SYNJ1</td>\n",
       "      <td>SH3GL1</td>\n",
       "      <td>10542231</td>\n",
       "      <td>psi-mi:\"MI:0471\"(MINT)</td>\n",
       "    </tr>\n",
       "    <tr>\n",
       "      <th>13</th>\n",
       "      <td>AMPH</td>\n",
       "      <td>DNM1</td>\n",
       "      <td>10542231</td>\n",
       "      <td>psi-mi:\"MI:0471\"(MINT)</td>\n",
       "    </tr>\n",
       "    <tr>\n",
       "      <th>15</th>\n",
       "      <td>SH3GL1</td>\n",
       "      <td>DNM1</td>\n",
       "      <td>10542231</td>\n",
       "      <td>psi-mi:\"MI:0471\"(MINT)</td>\n",
       "    </tr>\n",
       "  </tbody>\n",
       "</table>\n",
       "</div>"
      ],
      "text/latex": [
       "\\centering{\\begin{tabular}{lllll}\n",
       "\\toprule\n",
       "{} & Protein A (gene name) & Protein B (gene name) & PubMed ID &        Source databases \\\\\n",
       "\\midrule\n",
       "0  &                  AMPH &                 SYNJ1 &  10542231 &  psi-mi:\"MI:0471\"(MINT) \\\\\n",
       "10 &                SH3GL1 &                 SYNJ1 &  10542231 &  psi-mi:\"MI:0471\"(MINT) \\\\\n",
       "11 &                 SYNJ1 &                SH3GL1 &  10542231 &  psi-mi:\"MI:0471\"(MINT) \\\\\n",
       "13 &                  AMPH &                  DNM1 &  10542231 &  psi-mi:\"MI:0471\"(MINT) \\\\\n",
       "15 &                SH3GL1 &                  DNM1 &  10542231 &  psi-mi:\"MI:0471\"(MINT) \\\\\n",
       "\\bottomrule\n",
       "\\end{tabular}\n",
       "}"
      ],
      "text/plain": [
       "   Protein A (gene name) Protein B (gene name) PubMed ID  \\\n",
       "0                   AMPH                 SYNJ1  10542231   \n",
       "10                SH3GL1                 SYNJ1  10542231   \n",
       "11                 SYNJ1                SH3GL1  10542231   \n",
       "13                  AMPH                  DNM1  10542231   \n",
       "15                SH3GL1                  DNM1  10542231   \n",
       "\n",
       "          Source databases  \n",
       "0   psi-mi:\"MI:0471\"(MINT)  \n",
       "10  psi-mi:\"MI:0471\"(MINT)  \n",
       "11  psi-mi:\"MI:0471\"(MINT)  \n",
       "13  psi-mi:\"MI:0471\"(MINT)  \n",
       "15  psi-mi:\"MI:0471\"(MINT)  "
      ]
     },
     "execution_count": 287,
     "metadata": {},
     "output_type": "execute_result"
    }
   ],
   "source": [
    "intact_df.head()"
   ]
  },
  {
   "cell_type": "code",
   "execution_count": 288,
   "metadata": {},
   "outputs": [
    {
     "name": "stdout",
     "output_type": "stream",
     "text": [
      " Loop 80: 14000 Out of 14770 "
     ]
    }
   ],
   "source": [
    "concatliketerms(intact_df)"
   ]
  },
  {
   "cell_type": "code",
   "execution_count": 289,
   "metadata": {
    "collapsed": true
   },
   "outputs": [],
   "source": [
    "filename = '/Users/moshesilverstein/Desktop/PPI Library/Output/IndividualResources/Filtered/ppi_network_intact_human_filtered_%s.tsv'% str(datetime.date.today()).replace('-', '_')\n",
    "intact_df.to_csv(filename, sep='\\t', index=False) "
   ]
  },
  {
   "cell_type": "code",
   "execution_count": 290,
   "metadata": {
    "collapsed": true
   },
   "outputs": [],
   "source": [
    "filename = '/Users/moshesilverstein/Desktop/PPI Library/Output/IndividualResources/Filtered/ppi_network_intact_human_filtered_%s.tsv.gz'% str(datetime.date.today()).replace('-', '_')\n",
    "intact_df.to_csv(filename, sep='\\t', index=False, compression='gzip')"
   ]
  },
  {
   "cell_type": "markdown",
   "metadata": {
    "collapsed": true
   },
   "source": [
    "## SAVI Data"
   ]
  },
  {
   "cell_type": "code",
   "execution_count": 38,
   "metadata": {
    "collapsed": true
   },
   "outputs": [],
   "source": [
    "savi_df = pd.read_csv('/Users/moshesilverstein/Desktop/PPI Library/Input/SNAVI.sig', sep=' ', header=None)"
   ]
  },
  {
   "cell_type": "code",
   "execution_count": 46,
   "metadata": {},
   "outputs": [
    {
     "data": {
      "text/plain": [
       "array(['GAP', 'Phosphorylation', 'Binding', 'Methylation',\n",
       "       'Ubiquitination', 'Dephosphorylation', 'Phosphorylaion', 'GEF',\n",
       "       'Opening', 'PDE', 'Cleavage', 'Sumolation', 'Synthesis',\n",
       "       'Generating', 'Pumping', 'Deubiquitination', 'Importing', 'Binidng',\n",
       "       'Depolymerization'], dtype=object)"
      ]
     },
     "execution_count": 46,
     "metadata": {},
     "output_type": "execute_result"
    }
   ],
   "source": [
    "savi_df[11].unique()"
   ]
  },
  {
   "cell_type": "code",
   "execution_count": 312,
   "metadata": {},
   "outputs": [
    {
     "data": {
      "text/html": [
       "<div>\n",
       "<table border=\"1\" class=\"dataframe\">\n",
       "  <thead>\n",
       "    <tr style=\"text-align: right;\">\n",
       "      <th></th>\n",
       "      <th>0</th>\n",
       "      <th>1</th>\n",
       "      <th>2</th>\n",
       "      <th>3</th>\n",
       "      <th>4</th>\n",
       "      <th>5</th>\n",
       "      <th>6</th>\n",
       "      <th>7</th>\n",
       "      <th>8</th>\n",
       "      <th>9</th>\n",
       "      <th>10</th>\n",
       "      <th>11</th>\n",
       "      <th>12</th>\n",
       "    </tr>\n",
       "  </thead>\n",
       "  <tbody>\n",
       "    <tr>\n",
       "      <th>0</th>\n",
       "      <td>SYNGAP1</td>\n",
       "      <td>Q96PV0</td>\n",
       "      <td>NaN</td>\n",
       "      <td>GEF</td>\n",
       "      <td>Cytosol</td>\n",
       "      <td>RAP1A</td>\n",
       "      <td>P62834</td>\n",
       "      <td>P62835</td>\n",
       "      <td>GTPase</td>\n",
       "      <td>Cytosol</td>\n",
       "      <td>_</td>\n",
       "      <td>GAP</td>\n",
       "      <td>15312654</td>\n",
       "    </tr>\n",
       "    <tr>\n",
       "      <th>1</th>\n",
       "      <td>GSK3A</td>\n",
       "      <td>P49840</td>\n",
       "      <td>NaN</td>\n",
       "      <td>Kinase</td>\n",
       "      <td>Cytosol</td>\n",
       "      <td>JUN</td>\n",
       "      <td>P05412</td>\n",
       "      <td>P05627</td>\n",
       "      <td>TF</td>\n",
       "      <td>Nucleus</td>\n",
       "      <td>_</td>\n",
       "      <td>Phosphorylation</td>\n",
       "      <td>16023596</td>\n",
       "    </tr>\n",
       "    <tr>\n",
       "      <th>2</th>\n",
       "      <td>GSK3A</td>\n",
       "      <td>P49840</td>\n",
       "      <td>NaN</td>\n",
       "      <td>Kinase</td>\n",
       "      <td>Cytosol</td>\n",
       "      <td>JUN</td>\n",
       "      <td>P05412</td>\n",
       "      <td>P05627</td>\n",
       "      <td>TF</td>\n",
       "      <td>Nucleus</td>\n",
       "      <td>_</td>\n",
       "      <td>Phosphorylation</td>\n",
       "      <td>1846781</td>\n",
       "    </tr>\n",
       "    <tr>\n",
       "      <th>3</th>\n",
       "      <td>RIPK1</td>\n",
       "      <td>Q13546</td>\n",
       "      <td>Q60855</td>\n",
       "      <td>Kinase</td>\n",
       "      <td>Cytosol</td>\n",
       "      <td>SQSTM1</td>\n",
       "      <td>Q13501</td>\n",
       "      <td>Q64337</td>\n",
       "      <td>Adapter</td>\n",
       "      <td>Cytosol</td>\n",
       "      <td>+</td>\n",
       "      <td>Binding</td>\n",
       "      <td>10356400</td>\n",
       "    </tr>\n",
       "    <tr>\n",
       "      <th>4</th>\n",
       "      <td>CAMK2A</td>\n",
       "      <td>Q9UQM7</td>\n",
       "      <td>P11798</td>\n",
       "      <td>Kinase</td>\n",
       "      <td>Cytosol</td>\n",
       "      <td>MAP2</td>\n",
       "      <td>P11137</td>\n",
       "      <td>P20357</td>\n",
       "      <td>Cytoskeleton</td>\n",
       "      <td>Cytosol</td>\n",
       "      <td>+</td>\n",
       "      <td>Phosphorylation</td>\n",
       "      <td>7890745</td>\n",
       "    </tr>\n",
       "  </tbody>\n",
       "</table>\n",
       "</div>"
      ],
      "text/latex": [
       "\\centering{\\begin{tabular}{lllllllllllllr}\n",
       "\\toprule\n",
       "{} &       0  &      1  &      2  &      3  &       4  &      5  &      6  &      7  &            8  &       9  & 10 &               11 &        12 \\\\\n",
       "\\midrule\n",
       "0 &  SYNGAP1 &  Q96PV0 &     NaN &     GEF &  Cytosol &   RAP1A &  P62834 &  P62835 &        GTPase &  Cytosol &  \\_ &              GAP &  15312654 \\\\\n",
       "1 &    GSK3A &  P49840 &     NaN &  Kinase &  Cytosol &     JUN &  P05412 &  P05627 &            TF &  Nucleus &  \\_ &  Phosphorylation &  16023596 \\\\\n",
       "2 &    GSK3A &  P49840 &     NaN &  Kinase &  Cytosol &     JUN &  P05412 &  P05627 &            TF &  Nucleus &  \\_ &  Phosphorylation &   1846781 \\\\\n",
       "3 &    RIPK1 &  Q13546 &  Q60855 &  Kinase &  Cytosol &  SQSTM1 &  Q13501 &  Q64337 &       Adapter &  Cytosol &  + &          Binding &  10356400 \\\\\n",
       "4 &   CAMK2A &  Q9UQM7 &  P11798 &  Kinase &  Cytosol &    MAP2 &  P11137 &  P20357 &  Cytoskeleton &  Cytosol &  + &  Phosphorylation &   7890745 \\\\\n",
       "\\bottomrule\n",
       "\\end{tabular}\n",
       "}"
      ],
      "text/plain": [
       "        0       1       2       3        4       5       6       7   \\\n",
       "0  SYNGAP1  Q96PV0     NaN     GEF  Cytosol   RAP1A  P62834  P62835   \n",
       "1    GSK3A  P49840     NaN  Kinase  Cytosol     JUN  P05412  P05627   \n",
       "2    GSK3A  P49840     NaN  Kinase  Cytosol     JUN  P05412  P05627   \n",
       "3    RIPK1  Q13546  Q60855  Kinase  Cytosol  SQSTM1  Q13501  Q64337   \n",
       "4   CAMK2A  Q9UQM7  P11798  Kinase  Cytosol    MAP2  P11137  P20357   \n",
       "\n",
       "             8        9  10               11        12  \n",
       "0        GTPase  Cytosol  _              GAP  15312654  \n",
       "1            TF  Nucleus  _  Phosphorylation  16023596  \n",
       "2            TF  Nucleus  _  Phosphorylation   1846781  \n",
       "3       Adapter  Cytosol  +          Binding  10356400  \n",
       "4  Cytoskeleton  Cytosol  +  Phosphorylation   7890745  "
      ]
     },
     "execution_count": 312,
     "metadata": {},
     "output_type": "execute_result"
    }
   ],
   "source": [
    "savi_df.head()"
   ]
  },
  {
   "cell_type": "code",
   "execution_count": 313,
   "metadata": {},
   "outputs": [
    {
     "data": {
      "text/plain": [
       "(2007, 13)"
      ]
     },
     "execution_count": 313,
     "metadata": {},
     "output_type": "execute_result"
    }
   ],
   "source": [
    "savi_df.shape"
   ]
  },
  {
   "cell_type": "code",
   "execution_count": 314,
   "metadata": {
    "collapsed": true
   },
   "outputs": [],
   "source": [
    "savi_df = savi_df[[0,5,12]]\n",
    "savi_df.rename(columns={0:'Protein A (gene name)',5:'Protein B (gene name)',12:'PubMed ID'}, inplace=True)\n",
    "savi_df['Source databases'] = '(SAVI)'"
   ]
  },
  {
   "cell_type": "code",
   "execution_count": 315,
   "metadata": {},
   "outputs": [
    {
     "data": {
      "text/html": [
       "<div>\n",
       "<table border=\"1\" class=\"dataframe\">\n",
       "  <thead>\n",
       "    <tr style=\"text-align: right;\">\n",
       "      <th></th>\n",
       "      <th>Protein A (gene name)</th>\n",
       "      <th>Protein B (gene name)</th>\n",
       "      <th>PubMed ID</th>\n",
       "      <th>Source databases</th>\n",
       "    </tr>\n",
       "  </thead>\n",
       "  <tbody>\n",
       "    <tr>\n",
       "      <th>0</th>\n",
       "      <td>SYNGAP1</td>\n",
       "      <td>RAP1A</td>\n",
       "      <td>15312654</td>\n",
       "      <td>(SAVI)</td>\n",
       "    </tr>\n",
       "    <tr>\n",
       "      <th>1</th>\n",
       "      <td>GSK3A</td>\n",
       "      <td>JUN</td>\n",
       "      <td>16023596</td>\n",
       "      <td>(SAVI)</td>\n",
       "    </tr>\n",
       "    <tr>\n",
       "      <th>2</th>\n",
       "      <td>GSK3A</td>\n",
       "      <td>JUN</td>\n",
       "      <td>1846781</td>\n",
       "      <td>(SAVI)</td>\n",
       "    </tr>\n",
       "    <tr>\n",
       "      <th>3</th>\n",
       "      <td>RIPK1</td>\n",
       "      <td>SQSTM1</td>\n",
       "      <td>10356400</td>\n",
       "      <td>(SAVI)</td>\n",
       "    </tr>\n",
       "    <tr>\n",
       "      <th>4</th>\n",
       "      <td>CAMK2A</td>\n",
       "      <td>MAP2</td>\n",
       "      <td>7890745</td>\n",
       "      <td>(SAVI)</td>\n",
       "    </tr>\n",
       "  </tbody>\n",
       "</table>\n",
       "</div>"
      ],
      "text/latex": [
       "\\centering{\\begin{tabular}{lllrl}\n",
       "\\toprule\n",
       "{} & Protein A (gene name) & Protein B (gene name) &  PubMed ID & Source databases \\\\\n",
       "\\midrule\n",
       "0 &               SYNGAP1 &                 RAP1A &   15312654 &           (SAVI) \\\\\n",
       "1 &                 GSK3A &                   JUN &   16023596 &           (SAVI) \\\\\n",
       "2 &                 GSK3A &                   JUN &    1846781 &           (SAVI) \\\\\n",
       "3 &                 RIPK1 &                SQSTM1 &   10356400 &           (SAVI) \\\\\n",
       "4 &                CAMK2A &                  MAP2 &    7890745 &           (SAVI) \\\\\n",
       "\\bottomrule\n",
       "\\end{tabular}\n",
       "}"
      ],
      "text/plain": [
       "  Protein A (gene name) Protein B (gene name)  PubMed ID Source databases\n",
       "0               SYNGAP1                 RAP1A   15312654           (SAVI)\n",
       "1                 GSK3A                   JUN   16023596           (SAVI)\n",
       "2                 GSK3A                   JUN    1846781           (SAVI)\n",
       "3                 RIPK1                SQSTM1   10356400           (SAVI)\n",
       "4                CAMK2A                  MAP2    7890745           (SAVI)"
      ]
     },
     "execution_count": 315,
     "metadata": {},
     "output_type": "execute_result"
    }
   ],
   "source": [
    "savi_df.head()"
   ]
  },
  {
   "cell_type": "code",
   "execution_count": 316,
   "metadata": {
    "collapsed": true
   },
   "outputs": [],
   "source": [
    "# drop data for which no gene name is provited (or ensamble ID)\n",
    "savi_df.dropna(how='any', inplace=True, axis=0)"
   ]
  },
  {
   "cell_type": "code",
   "execution_count": 317,
   "metadata": {},
   "outputs": [
    {
     "data": {
      "text/plain": [
       "(2007, 4)"
      ]
     },
     "execution_count": 317,
     "metadata": {},
     "output_type": "execute_result"
    }
   ],
   "source": [
    "savi_df.shape"
   ]
  },
  {
   "cell_type": "code",
   "execution_count": 318,
   "metadata": {
    "collapsed": true
   },
   "outputs": [],
   "source": [
    "savi_df.drop_duplicates(inplace=True)"
   ]
  },
  {
   "cell_type": "code",
   "execution_count": 319,
   "metadata": {},
   "outputs": [
    {
     "data": {
      "text/plain": [
       "(2007, 4)"
      ]
     },
     "execution_count": 319,
     "metadata": {},
     "output_type": "execute_result"
    }
   ],
   "source": [
    "savi_df.shape"
   ]
  },
  {
   "cell_type": "code",
   "execution_count": null,
   "metadata": {
    "collapsed": true
   },
   "outputs": [],
   "source": []
  },
  {
   "cell_type": "code",
   "execution_count": 320,
   "metadata": {},
   "outputs": [
    {
     "data": {
      "text/plain": [
       "(2007, 4)"
      ]
     },
     "execution_count": 320,
     "metadata": {},
     "output_type": "execute_result"
    }
   ],
   "source": [
    "savi_df.shape"
   ]
  },
  {
   "cell_type": "code",
   "execution_count": 321,
   "metadata": {
    "collapsed": true
   },
   "outputs": [],
   "source": [
    "savi_uf_df = savi_df.copy()"
   ]
  },
  {
   "cell_type": "code",
   "execution_count": 322,
   "metadata": {},
   "outputs": [
    {
     "name": "stdout",
     "output_type": "stream",
     "text": [
      " Loop 25: 1000 Out of 1497 "
     ]
    }
   ],
   "source": [
    "concatliketerms(savi_uf_df)"
   ]
  },
  {
   "cell_type": "code",
   "execution_count": 323,
   "metadata": {
    "collapsed": true
   },
   "outputs": [],
   "source": [
    "filename = '/Users/moshesilverstein/Desktop/PPI Library/Output/IndividualResources/Unfiltered/ppi_network_savi_human_unfiltered_%s.tsv'% str(datetime.date.today()).replace('-', '_')\n",
    "savi_uf_df.to_csv(filename, sep='\\t', index=False) "
   ]
  },
  {
   "cell_type": "code",
   "execution_count": 331,
   "metadata": {
    "collapsed": true
   },
   "outputs": [],
   "source": [
    "filename = '/Users/moshesilverstein/Desktop/PPI Library/Output/IndividualResources/Unfiltered/ppi_network_savi_human_unfiltered_%s.tsv.gz'% str(datetime.date.today()).replace('-', '_')\n",
    "savi_uf_df.to_csv(filename, sep='\\t', index=False, compression='gzip')"
   ]
  },
  {
   "cell_type": "code",
   "execution_count": null,
   "metadata": {
    "collapsed": true
   },
   "outputs": [],
   "source": []
  },
  {
   "cell_type": "code",
   "execution_count": 326,
   "metadata": {},
   "outputs": [
    {
     "name": "stdout",
     "output_type": "stream",
     "text": [
      " 1200 Out of 1293 "
     ]
    }
   ],
   "source": [
    "# drop any data that was published with more then 10 PPI's per publication\n",
    "i = 1\n",
    "for pub in savi_df['PubMed ID'].unique():\n",
    "    if i % 100 == 0:\n",
    "        print('\\r', str(i)+' Out of '+ str(len(savi_df['PubMed ID'].unique())), end=' ', flush=True)\n",
    "    if savi_df[savi_df['PubMed ID'] == pub].shape[0] > 10:\n",
    "        savi_df.drop(savi_df[savi_df['PubMed ID'] == pub].index.tolist(), inplace=True)\n",
    "    i +=1\n"
   ]
  },
  {
   "cell_type": "code",
   "execution_count": 327,
   "metadata": {
    "collapsed": true
   },
   "outputs": [],
   "source": [
    "savi_df.dropna(inplace=True)"
   ]
  },
  {
   "cell_type": "code",
   "execution_count": 328,
   "metadata": {},
   "outputs": [
    {
     "name": "stdout",
     "output_type": "stream",
     "text": [
      " Loop 26: 1000 Out of 1448 "
     ]
    }
   ],
   "source": [
    "concatliketerms(savi_df)"
   ]
  },
  {
   "cell_type": "code",
   "execution_count": 329,
   "metadata": {
    "collapsed": true
   },
   "outputs": [],
   "source": [
    "filename = '/Users/moshesilverstein/Desktop/PPI Library/Output/IndividualResources/Filtered/ppi_network_savi_human_filtered_%s.tsv'% str(datetime.date.today()).replace('-', '_')\n",
    "savi_df.to_csv(filename, sep='\\t', index=False) "
   ]
  },
  {
   "cell_type": "code",
   "execution_count": 330,
   "metadata": {
    "collapsed": true
   },
   "outputs": [],
   "source": [
    "filename = '/Users/moshesilverstein/Desktop/PPI Library/Output/IndividualResources/Filtered/ppi_network_savi_human_filtered_%s.tsv.gz'% str(datetime.date.today()).replace('-', '_')\n",
    "savi_df.to_csv(filename, sep='\\t', index=False, compression='gzip')"
   ]
  },
  {
   "cell_type": "markdown",
   "metadata": {},
   "source": [
    "## KEA Data"
   ]
  },
  {
   "cell_type": "code",
   "execution_count": 332,
   "metadata": {
    "collapsed": true
   },
   "outputs": [],
   "source": [
    "kea_df = pd.read_csv('/Users/moshesilverstein/Desktop/PPI Library/Input/KEA/kinase-protein_interactions.csv', sep=',', header=None)"
   ]
  },
  {
   "cell_type": "code",
   "execution_count": 333,
   "metadata": {},
   "outputs": [
    {
     "data": {
      "text/html": [
       "<div>\n",
       "<table border=\"1\" class=\"dataframe\">\n",
       "  <thead>\n",
       "    <tr style=\"text-align: right;\">\n",
       "      <th></th>\n",
       "      <th>0</th>\n",
       "      <th>1</th>\n",
       "      <th>2</th>\n",
       "      <th>3</th>\n",
       "      <th>4</th>\n",
       "      <th>5</th>\n",
       "    </tr>\n",
       "  </thead>\n",
       "  <tbody>\n",
       "    <tr>\n",
       "      <th>0</th>\n",
       "      <td>TK</td>\n",
       "      <td>ABL</td>\n",
       "      <td>ABL1</td>\n",
       "      <td>ABL1</td>\n",
       "      <td>10964922;11781820;12522270;15174125;17192257;1...</td>\n",
       "      <td>HPRD;PHOSPHOELM;PHOSPHOPOINT;PHOSPHOSITE;SWISS...</td>\n",
       "    </tr>\n",
       "    <tr>\n",
       "      <th>1</th>\n",
       "      <td>TK</td>\n",
       "      <td>ABL</td>\n",
       "      <td>ABL1</td>\n",
       "      <td>ABL2</td>\n",
       "      <td>12569093;15174125;18689816</td>\n",
       "      <td>HPRD;PHOSPHOPOINT;PHOSPHOSITE</td>\n",
       "    </tr>\n",
       "    <tr>\n",
       "      <th>2</th>\n",
       "      <td>TK</td>\n",
       "      <td>ABL</td>\n",
       "      <td>ABL1</td>\n",
       "      <td>BCR</td>\n",
       "      <td>10405761;11780146;12124177;12522270;15174125;1...</td>\n",
       "      <td>HPRD;PHOSPHOELM;PHOSPHOPOINT;PHOSPHOSITE</td>\n",
       "    </tr>\n",
       "    <tr>\n",
       "      <th>3</th>\n",
       "      <td>TK</td>\n",
       "      <td>ABL</td>\n",
       "      <td>ABL1</td>\n",
       "      <td>BTK</td>\n",
       "      <td>11598012;12445832;12573241;15174125;18689816;8...</td>\n",
       "      <td>HPRD;PHOSPHOELM;PHOSPHOPOINT;PHOSPHOSITE</td>\n",
       "    </tr>\n",
       "    <tr>\n",
       "      <th>4</th>\n",
       "      <td>TK</td>\n",
       "      <td>ABL</td>\n",
       "      <td>ABL1</td>\n",
       "      <td>CDK5</td>\n",
       "      <td>10896159;11113134;14757045;15174125;18689816;1...</td>\n",
       "      <td>HPRD;PHOSPHOELM;PHOSPHOPOINT;PHOSPHOSITE;SAVI;...</td>\n",
       "    </tr>\n",
       "  </tbody>\n",
       "</table>\n",
       "</div>"
      ],
      "text/latex": [
       "\\centering{\\begin{tabular}{lllllll}\n",
       "\\toprule\n",
       "{} &   0 &    1 &     2 &     3 &                                                  4 &                                                  5 \\\\\n",
       "\\midrule\n",
       "0 &  TK &  ABL &  ABL1 &  ABL1 &  10964922;11781820;12522270;15174125;17192257;1... &  HPRD;PHOSPHOELM;PHOSPHOPOINT;PHOSPHOSITE;SWISS... \\\\\n",
       "1 &  TK &  ABL &  ABL1 &  ABL2 &                         12569093;15174125;18689816 &                      HPRD;PHOSPHOPOINT;PHOSPHOSITE \\\\\n",
       "2 &  TK &  ABL &  ABL1 &   BCR &  10405761;11780146;12124177;12522270;15174125;1... &           HPRD;PHOSPHOELM;PHOSPHOPOINT;PHOSPHOSITE \\\\\n",
       "3 &  TK &  ABL &  ABL1 &   BTK &  11598012;12445832;12573241;15174125;18689816;8... &           HPRD;PHOSPHOELM;PHOSPHOPOINT;PHOSPHOSITE \\\\\n",
       "4 &  TK &  ABL &  ABL1 &  CDK5 &  10896159;11113134;14757045;15174125;18689816;1... &  HPRD;PHOSPHOELM;PHOSPHOPOINT;PHOSPHOSITE;SAVI;... \\\\\n",
       "\\bottomrule\n",
       "\\end{tabular}\n",
       "}"
      ],
      "text/plain": [
       "    0    1     2     3                                                  4  \\\n",
       "0  TK  ABL  ABL1  ABL1  10964922;11781820;12522270;15174125;17192257;1...   \n",
       "1  TK  ABL  ABL1  ABL2                         12569093;15174125;18689816   \n",
       "2  TK  ABL  ABL1   BCR  10405761;11780146;12124177;12522270;15174125;1...   \n",
       "3  TK  ABL  ABL1   BTK  11598012;12445832;12573241;15174125;18689816;8...   \n",
       "4  TK  ABL  ABL1  CDK5  10896159;11113134;14757045;15174125;18689816;1...   \n",
       "\n",
       "                                                   5  \n",
       "0  HPRD;PHOSPHOELM;PHOSPHOPOINT;PHOSPHOSITE;SWISS...  \n",
       "1                      HPRD;PHOSPHOPOINT;PHOSPHOSITE  \n",
       "2           HPRD;PHOSPHOELM;PHOSPHOPOINT;PHOSPHOSITE  \n",
       "3           HPRD;PHOSPHOELM;PHOSPHOPOINT;PHOSPHOSITE  \n",
       "4  HPRD;PHOSPHOELM;PHOSPHOPOINT;PHOSPHOSITE;SAVI;...  "
      ]
     },
     "execution_count": 333,
     "metadata": {},
     "output_type": "execute_result"
    }
   ],
   "source": [
    "kea_df.head()"
   ]
  },
  {
   "cell_type": "code",
   "execution_count": 334,
   "metadata": {
    "collapsed": true
   },
   "outputs": [],
   "source": [
    "kea_ph_df = pd.read_csv('/Users/moshesilverstein/Desktop/PPI Library/Input/KEA/phosphorylation_reactions.csv', sep=',', header=None)"
   ]
  },
  {
   "cell_type": "code",
   "execution_count": 335,
   "metadata": {},
   "outputs": [
    {
     "data": {
      "text/html": [
       "<div>\n",
       "<table border=\"1\" class=\"dataframe\">\n",
       "  <thead>\n",
       "    <tr style=\"text-align: right;\">\n",
       "      <th></th>\n",
       "      <th>0</th>\n",
       "      <th>1</th>\n",
       "      <th>2</th>\n",
       "      <th>3</th>\n",
       "      <th>4</th>\n",
       "      <th>5</th>\n",
       "    </tr>\n",
       "  </thead>\n",
       "  <tbody>\n",
       "    <tr>\n",
       "      <th>0</th>\n",
       "      <td>TK</td>\n",
       "      <td>ABL</td>\n",
       "      <td>ABL1</td>\n",
       "      <td>ABI1</td>\n",
       "      <td>11418237;12672821;15174125;17101133;18689816;8...</td>\n",
       "      <td>HPRD;MINT;PHOSPHOPOINT;PHOSPHOSITE</td>\n",
       "    </tr>\n",
       "    <tr>\n",
       "      <th>1</th>\n",
       "      <td>TK</td>\n",
       "      <td>ABL</td>\n",
       "      <td>ABL1</td>\n",
       "      <td>ABL1</td>\n",
       "      <td>10964922;11781820;12522270;15174125;17192257;1...</td>\n",
       "      <td>HPRD;PHOSPHOELM;PHOSPHOPOINT;PHOSPHOSITE;SWISS...</td>\n",
       "    </tr>\n",
       "    <tr>\n",
       "      <th>2</th>\n",
       "      <td>TK</td>\n",
       "      <td>ABL</td>\n",
       "      <td>ABL1</td>\n",
       "      <td>ABL2</td>\n",
       "      <td>12569093;15174125;18689816</td>\n",
       "      <td>HPRD;PHOSPHOPOINT;PHOSPHOSITE</td>\n",
       "    </tr>\n",
       "    <tr>\n",
       "      <th>3</th>\n",
       "      <td>TK</td>\n",
       "      <td>ABL</td>\n",
       "      <td>ABL1</td>\n",
       "      <td>ACAP2</td>\n",
       "      <td>17981841</td>\n",
       "      <td>NETWORKIN</td>\n",
       "    </tr>\n",
       "    <tr>\n",
       "      <th>4</th>\n",
       "      <td>TK</td>\n",
       "      <td>ABL</td>\n",
       "      <td>ABL1</td>\n",
       "      <td>ANXA1</td>\n",
       "      <td>15174125;2457390</td>\n",
       "      <td>PHOSPHOELM;PHOSPHOSITE</td>\n",
       "    </tr>\n",
       "  </tbody>\n",
       "</table>\n",
       "</div>"
      ],
      "text/latex": [
       "\\centering{\\begin{tabular}{lllllll}\n",
       "\\toprule\n",
       "{} &   0 &    1 &     2 &      3 &                                                  4 &                                                  5 \\\\\n",
       "\\midrule\n",
       "0 &  TK &  ABL &  ABL1 &   ABI1 &  11418237;12672821;15174125;17101133;18689816;8... &                 HPRD;MINT;PHOSPHOPOINT;PHOSPHOSITE \\\\\n",
       "1 &  TK &  ABL &  ABL1 &   ABL1 &  10964922;11781820;12522270;15174125;17192257;1... &  HPRD;PHOSPHOELM;PHOSPHOPOINT;PHOSPHOSITE;SWISS... \\\\\n",
       "2 &  TK &  ABL &  ABL1 &   ABL2 &                         12569093;15174125;18689816 &                      HPRD;PHOSPHOPOINT;PHOSPHOSITE \\\\\n",
       "3 &  TK &  ABL &  ABL1 &  ACAP2 &                                           17981841 &                                          NETWORKIN \\\\\n",
       "4 &  TK &  ABL &  ABL1 &  ANXA1 &                                   15174125;2457390 &                             PHOSPHOELM;PHOSPHOSITE \\\\\n",
       "\\bottomrule\n",
       "\\end{tabular}\n",
       "}"
      ],
      "text/plain": [
       "    0    1     2      3                                                  4  \\\n",
       "0  TK  ABL  ABL1   ABI1  11418237;12672821;15174125;17101133;18689816;8...   \n",
       "1  TK  ABL  ABL1   ABL1  10964922;11781820;12522270;15174125;17192257;1...   \n",
       "2  TK  ABL  ABL1   ABL2                         12569093;15174125;18689816   \n",
       "3  TK  ABL  ABL1  ACAP2                                           17981841   \n",
       "4  TK  ABL  ABL1  ANXA1                                   15174125;2457390   \n",
       "\n",
       "                                                   5  \n",
       "0                 HPRD;MINT;PHOSPHOPOINT;PHOSPHOSITE  \n",
       "1  HPRD;PHOSPHOELM;PHOSPHOPOINT;PHOSPHOSITE;SWISS...  \n",
       "2                      HPRD;PHOSPHOPOINT;PHOSPHOSITE  \n",
       "3                                          NETWORKIN  \n",
       "4                             PHOSPHOELM;PHOSPHOSITE  "
      ]
     },
     "execution_count": 335,
     "metadata": {},
     "output_type": "execute_result"
    }
   ],
   "source": [
    "kea_ph_df.head()"
   ]
  },
  {
   "cell_type": "code",
   "execution_count": 336,
   "metadata": {
    "collapsed": true
   },
   "outputs": [],
   "source": [
    "kea_df = pd.concat([kea_df, kea_ph_df])"
   ]
  },
  {
   "cell_type": "code",
   "execution_count": 337,
   "metadata": {},
   "outputs": [
    {
     "data": {
      "text/plain": [
       "(22478, 6)"
      ]
     },
     "execution_count": 337,
     "metadata": {},
     "output_type": "execute_result"
    }
   ],
   "source": [
    "kea_df.shape"
   ]
  },
  {
   "cell_type": "code",
   "execution_count": 338,
   "metadata": {
    "collapsed": true
   },
   "outputs": [],
   "source": [
    "kea_df.drop_duplicates(inplace=True)"
   ]
  },
  {
   "cell_type": "code",
   "execution_count": 339,
   "metadata": {},
   "outputs": [
    {
     "data": {
      "text/plain": [
       "(17401, 6)"
      ]
     },
     "execution_count": 339,
     "metadata": {},
     "output_type": "execute_result"
    }
   ],
   "source": [
    "kea_df.shape"
   ]
  },
  {
   "cell_type": "code",
   "execution_count": 340,
   "metadata": {
    "collapsed": true
   },
   "outputs": [],
   "source": [
    "kea_df.reset_index(inplace=True)\n",
    "kea_df.drop('index', axis=1, inplace=True)"
   ]
  },
  {
   "cell_type": "code",
   "execution_count": 341,
   "metadata": {
    "collapsed": true
   },
   "outputs": [],
   "source": [
    "#i = 1\n",
    "for index in kea_df.index:\n",
    "    #print('\\r', str(i)+' Out of '+ str(len(kea_df.index)), end=' ', flush=True)\n",
    "    kea_df.ix[index, 4] = kea_df.ix[index,4].replace(';', '|')\n",
    "    kea_df.ix[index, 5] = kea_df.ix[index,5].replace(';', '|')\n",
    "    #i+=1"
   ]
  },
  {
   "cell_type": "code",
   "execution_count": 342,
   "metadata": {
    "collapsed": true
   },
   "outputs": [],
   "source": [
    "kea_df = kea_df[[2,3,4,5]]"
   ]
  },
  {
   "cell_type": "code",
   "execution_count": 343,
   "metadata": {
    "collapsed": true
   },
   "outputs": [],
   "source": [
    "kea_df.rename(columns={2: 'Protein A (gene name)', 3:'Protein B (gene name)', 4:'PubMed ID', 5:'Source databases'}, inplace=True)"
   ]
  },
  {
   "cell_type": "code",
   "execution_count": 344,
   "metadata": {
    "collapsed": true
   },
   "outputs": [],
   "source": [
    "# drop data for which no gene name is provited (or ensamble ID)\n",
    "kea_df.dropna(how='any', inplace=True, axis=0)"
   ]
  },
  {
   "cell_type": "code",
   "execution_count": 345,
   "metadata": {
    "collapsed": true
   },
   "outputs": [],
   "source": [
    "kea_df.drop_duplicates(inplace=True)"
   ]
  },
  {
   "cell_type": "code",
   "execution_count": 346,
   "metadata": {
    "collapsed": true
   },
   "outputs": [],
   "source": [
    "kea_uf_df = kea_df.copy()"
   ]
  },
  {
   "cell_type": "code",
   "execution_count": 347,
   "metadata": {},
   "outputs": [
    {
     "name": "stdout",
     "output_type": "stream",
     "text": [
      " Loop 2: 17000 Out of 17400 "
     ]
    }
   ],
   "source": [
    "concatliketerms(kea_uf_df)"
   ]
  },
  {
   "cell_type": "code",
   "execution_count": 348,
   "metadata": {
    "collapsed": true
   },
   "outputs": [],
   "source": [
    "filename = '/Users/moshesilverstein/Desktop/PPI Library/Output/IndividualResources/Unfiltered/ppi_network_kea_human_unfiltered_%s.tsv'% str(datetime.date.today()).replace('-', '_')\n",
    "kea_uf_df.to_csv(filename, sep='\\t', index=False) "
   ]
  },
  {
   "cell_type": "code",
   "execution_count": 349,
   "metadata": {
    "collapsed": true
   },
   "outputs": [],
   "source": [
    "filename = '/Users/moshesilverstein/Desktop/PPI Library/Output/IndividualResources/Unfiltered/ppi_network_kea_human_unfiltered_%s.tsv.gz'% str(datetime.date.today()).replace('-', '_')\n",
    "kea_uf_df.to_csv(filename, sep='\\t', index=False, compression='gzip')"
   ]
  },
  {
   "cell_type": "code",
   "execution_count": 350,
   "metadata": {},
   "outputs": [
    {
     "name": "stdout",
     "output_type": "stream",
     "text": [
      " 6400 Out of 6365 "
     ]
    }
   ],
   "source": [
    "# drop any data that was published with more then 10 PPI's per publication\n",
    "i = 1\n",
    "for pub in kea_df['PubMed ID'].unique():\n",
    "    if i % 100 == 0:\n",
    "        print('\\r', str(i)+' Out of '+ str(len(kea_df['PubMed ID'].unique())), end=' ', flush=True)\n",
    "    if kea_df[kea_df['PubMed ID'] == pub].shape[0] > 10:\n",
    "        kea_df.drop(kea_df[kea_df['PubMed ID'] == pub].index.tolist(), inplace=True)\n",
    "    i +=1\n"
   ]
  },
  {
   "cell_type": "code",
   "execution_count": 351,
   "metadata": {
    "collapsed": true
   },
   "outputs": [],
   "source": [
    "kea_df.dropna(inplace=True)"
   ]
  },
  {
   "cell_type": "code",
   "execution_count": 352,
   "metadata": {},
   "outputs": [
    {
     "name": "stdout",
     "output_type": "stream",
     "text": [
      " Loop 2: 8000 Out of 8059 "
     ]
    }
   ],
   "source": [
    "concatliketerms(kea_df)"
   ]
  },
  {
   "cell_type": "code",
   "execution_count": 353,
   "metadata": {
    "collapsed": true
   },
   "outputs": [],
   "source": [
    "filename = '/Users/moshesilverstein/Desktop/PPI Library/Output/IndividualResources/Filtered/ppi_network_kea_human_filtered_%s.tsv'% str(datetime.date.today()).replace('-', '_')\n",
    "kea_df.to_csv(filename, sep='\\t', index=False) "
   ]
  },
  {
   "cell_type": "code",
   "execution_count": 354,
   "metadata": {
    "collapsed": true
   },
   "outputs": [],
   "source": [
    "filename = '/Users/moshesilverstein/Desktop/PPI Library/Output/IndividualResources/Filtered/ppi_network_kea_human_filtered_%s.tsv.gz'% str(datetime.date.today()).replace('-', '_')\n",
    "kea_df.to_csv(filename, sep='\\t', index=False, compression='gzip')"
   ]
  },
  {
   "cell_type": "markdown",
   "metadata": {},
   "source": [
    "### Data Tables"
   ]
  },
  {
   "cell_type": "code",
   "execution_count": 362,
   "metadata": {},
   "outputs": [
    {
     "data": {
      "text/html": [
       "<div>\n",
       "<table border=\"1\" class=\"dataframe\">\n",
       "  <thead>\n",
       "    <tr style=\"text-align: right;\">\n",
       "      <th></th>\n",
       "      <th>Protein A (gene name)</th>\n",
       "      <th>Protein B (gene name)</th>\n",
       "      <th>PubMed ID</th>\n",
       "      <th>Source databases</th>\n",
       "    </tr>\n",
       "  </thead>\n",
       "  <tbody>\n",
       "    <tr>\n",
       "      <th>0</th>\n",
       "      <td>AANAT</td>\n",
       "      <td>YWHAZ</td>\n",
       "      <td>15644438</td>\n",
       "      <td>psi-mi:\"MI:0471\"(MINT)</td>\n",
       "    </tr>\n",
       "    <tr>\n",
       "      <th>1</th>\n",
       "      <td>AATF</td>\n",
       "      <td>SP1</td>\n",
       "      <td>12847090</td>\n",
       "      <td>psi-mi:\"MI:0471\"(MINT)</td>\n",
       "    </tr>\n",
       "    <tr>\n",
       "      <th>2</th>\n",
       "      <td>AATF</td>\n",
       "      <td>MAPT</td>\n",
       "      <td>14697667</td>\n",
       "      <td>psi-mi:\"MI:0471\"(MINT)</td>\n",
       "    </tr>\n",
       "    <tr>\n",
       "      <th>3</th>\n",
       "      <td>AATF</td>\n",
       "      <td>RBBP8</td>\n",
       "      <td>10783144</td>\n",
       "      <td>psi-mi:\"MI:0471\"(MINT)</td>\n",
       "    </tr>\n",
       "    <tr>\n",
       "      <th>4</th>\n",
       "      <td>AATF</td>\n",
       "      <td>POLR2J</td>\n",
       "      <td>10783144</td>\n",
       "      <td>psi-mi:\"MI:0471\"(MINT)</td>\n",
       "    </tr>\n",
       "  </tbody>\n",
       "</table>\n",
       "</div>"
      ],
      "text/latex": [
       "\\centering{\\begin{tabular}{lllll}\n",
       "\\toprule\n",
       "{} & Protein A (gene name) & Protein B (gene name) & PubMed ID &        Source databases \\\\\n",
       "\\midrule\n",
       "0 &                 AANAT &                 YWHAZ &  15644438 &  psi-mi:\"MI:0471\"(MINT) \\\\\n",
       "1 &                  AATF &                   SP1 &  12847090 &  psi-mi:\"MI:0471\"(MINT) \\\\\n",
       "2 &                  AATF &                  MAPT &  14697667 &  psi-mi:\"MI:0471\"(MINT) \\\\\n",
       "3 &                  AATF &                 RBBP8 &  10783144 &  psi-mi:\"MI:0471\"(MINT) \\\\\n",
       "4 &                  AATF &                POLR2J &  10783144 &  psi-mi:\"MI:0471\"(MINT) \\\\\n",
       "\\bottomrule\n",
       "\\end{tabular}\n",
       "}"
      ],
      "text/plain": [
       "  Protein A (gene name) Protein B (gene name) PubMed ID  \\\n",
       "0                 AANAT                 YWHAZ  15644438   \n",
       "1                  AATF                   SP1  12847090   \n",
       "2                  AATF                  MAPT  14697667   \n",
       "3                  AATF                 RBBP8  10783144   \n",
       "4                  AATF                POLR2J  10783144   \n",
       "\n",
       "         Source databases  \n",
       "0  psi-mi:\"MI:0471\"(MINT)  \n",
       "1  psi-mi:\"MI:0471\"(MINT)  \n",
       "2  psi-mi:\"MI:0471\"(MINT)  \n",
       "3  psi-mi:\"MI:0471\"(MINT)  \n",
       "4  psi-mi:\"MI:0471\"(MINT)  "
      ]
     },
     "execution_count": 362,
     "metadata": {},
     "output_type": "execute_result"
    }
   ],
   "source": [
    "mint_df.head()"
   ]
  },
  {
   "cell_type": "code",
   "execution_count": 361,
   "metadata": {},
   "outputs": [
    {
     "data": {
      "text/html": [
       "<div>\n",
       "<table border=\"1\" class=\"dataframe\">\n",
       "  <thead>\n",
       "    <tr style=\"text-align: right;\">\n",
       "      <th></th>\n",
       "      <th>Protein A (gene name)</th>\n",
       "      <th>Protein B (gene name)</th>\n",
       "      <th>PubMed ID</th>\n",
       "      <th>Source databases</th>\n",
       "    </tr>\n",
       "  </thead>\n",
       "  <tbody>\n",
       "    <tr>\n",
       "      <th>0</th>\n",
       "      <td>A1CF</td>\n",
       "      <td>APOBEC1</td>\n",
       "      <td>10669759|11134005</td>\n",
       "      <td>psi-mi:\"MI:0463\"(biogrid)|psi-mi:\"MI:0463\"(bio...</td>\n",
       "    </tr>\n",
       "    <tr>\n",
       "      <th>1</th>\n",
       "      <td>A1CF</td>\n",
       "      <td>SYNCRIP</td>\n",
       "      <td>11134005</td>\n",
       "      <td>psi-mi:\"MI:0463\"(biogrid)</td>\n",
       "    </tr>\n",
       "    <tr>\n",
       "      <th>2</th>\n",
       "      <td>A1CF</td>\n",
       "      <td>KHSRP</td>\n",
       "      <td>10781591</td>\n",
       "      <td>psi-mi:\"MI:0463\"(biogrid)</td>\n",
       "    </tr>\n",
       "    <tr>\n",
       "      <th>3</th>\n",
       "      <td>A2M</td>\n",
       "      <td>APOE</td>\n",
       "      <td>9831625</td>\n",
       "      <td>psi-mi:\"MI:0463\"(biogrid)</td>\n",
       "    </tr>\n",
       "    <tr>\n",
       "      <th>4</th>\n",
       "      <td>A2M</td>\n",
       "      <td>IL10</td>\n",
       "      <td>10714547</td>\n",
       "      <td>psi-mi:\"MI:0463\"(biogrid)</td>\n",
       "    </tr>\n",
       "  </tbody>\n",
       "</table>\n",
       "</div>"
      ],
      "text/latex": [
       "\\centering{\\begin{tabular}{lllll}\n",
       "\\toprule\n",
       "{} & Protein A (gene name) & Protein B (gene name) &          PubMed ID &                                   Source databases \\\\\n",
       "\\midrule\n",
       "0 &                  A1CF &               APOBEC1 &  10669759|11134005 &  psi-mi:\"MI:0463\"(biogrid)|psi-mi:\"MI:0463\"(bio... \\\\\n",
       "1 &                  A1CF &               SYNCRIP &           11134005 &                          psi-mi:\"MI:0463\"(biogrid) \\\\\n",
       "2 &                  A1CF &                 KHSRP &           10781591 &                          psi-mi:\"MI:0463\"(biogrid) \\\\\n",
       "3 &                   A2M &                  APOE &            9831625 &                          psi-mi:\"MI:0463\"(biogrid) \\\\\n",
       "4 &                   A2M &                  IL10 &           10714547 &                          psi-mi:\"MI:0463\"(biogrid) \\\\\n",
       "\\bottomrule\n",
       "\\end{tabular}\n",
       "}"
      ],
      "text/plain": [
       "  Protein A (gene name) Protein B (gene name)          PubMed ID  \\\n",
       "0                  A1CF               APOBEC1  10669759|11134005   \n",
       "1                  A1CF               SYNCRIP           11134005   \n",
       "2                  A1CF                 KHSRP           10781591   \n",
       "3                   A2M                  APOE            9831625   \n",
       "4                   A2M                  IL10           10714547   \n",
       "\n",
       "                                    Source databases  \n",
       "0  psi-mi:\"MI:0463\"(biogrid)|psi-mi:\"MI:0463\"(bio...  \n",
       "1                          psi-mi:\"MI:0463\"(biogrid)  \n",
       "2                          psi-mi:\"MI:0463\"(biogrid)  \n",
       "3                          psi-mi:\"MI:0463\"(biogrid)  \n",
       "4                          psi-mi:\"MI:0463\"(biogrid)  "
      ]
     },
     "execution_count": 361,
     "metadata": {},
     "output_type": "execute_result"
    }
   ],
   "source": [
    "biogrid_df.head()"
   ]
  },
  {
   "cell_type": "code",
   "execution_count": 360,
   "metadata": {},
   "outputs": [
    {
     "data": {
      "text/html": [
       "<div>\n",
       "<table border=\"1\" class=\"dataframe\">\n",
       "  <thead>\n",
       "    <tr style=\"text-align: right;\">\n",
       "      <th></th>\n",
       "      <th>Protein A (gene name)</th>\n",
       "      <th>Protein B (gene name)</th>\n",
       "      <th>PubMed ID</th>\n",
       "      <th>Source databases</th>\n",
       "    </tr>\n",
       "  </thead>\n",
       "  <tbody>\n",
       "    <tr>\n",
       "      <th>0</th>\n",
       "      <td>A2M</td>\n",
       "      <td>IL2</td>\n",
       "      <td>9780213</td>\n",
       "      <td>MI:0974(innatedb)</td>\n",
       "    </tr>\n",
       "    <tr>\n",
       "      <th>1</th>\n",
       "      <td>A2M</td>\n",
       "      <td>GZMA</td>\n",
       "      <td>10666226</td>\n",
       "      <td>MI:0974(innatedb)</td>\n",
       "    </tr>\n",
       "    <tr>\n",
       "      <th>2</th>\n",
       "      <td>A2M</td>\n",
       "      <td>IL4</td>\n",
       "      <td>17725582</td>\n",
       "      <td>MI:0974(innatedb)</td>\n",
       "    </tr>\n",
       "    <tr>\n",
       "      <th>3</th>\n",
       "      <td>A2M</td>\n",
       "      <td>CXCL8</td>\n",
       "      <td>9029135</td>\n",
       "      <td>MI:0974(innatedb)</td>\n",
       "    </tr>\n",
       "    <tr>\n",
       "      <th>4</th>\n",
       "      <td>A2M</td>\n",
       "      <td>TGFB2</td>\n",
       "      <td>9780213</td>\n",
       "      <td>MI:0974(innatedb)</td>\n",
       "    </tr>\n",
       "  </tbody>\n",
       "</table>\n",
       "</div>"
      ],
      "text/latex": [
       "\\centering{\\begin{tabular}{lllll}\n",
       "\\toprule\n",
       "{} & Protein A (gene name) & Protein B (gene name) & PubMed ID &   Source databases \\\\\n",
       "\\midrule\n",
       "0 &                   A2M &                   IL2 &   9780213 &  MI:0974(innatedb) \\\\\n",
       "1 &                   A2M &                  GZMA &  10666226 &  MI:0974(innatedb) \\\\\n",
       "2 &                   A2M &                   IL4 &  17725582 &  MI:0974(innatedb) \\\\\n",
       "3 &                   A2M &                 CXCL8 &   9029135 &  MI:0974(innatedb) \\\\\n",
       "4 &                   A2M &                 TGFB2 &   9780213 &  MI:0974(innatedb) \\\\\n",
       "\\bottomrule\n",
       "\\end{tabular}\n",
       "}"
      ],
      "text/plain": [
       "  Protein A (gene name) Protein B (gene name) PubMed ID   Source databases\n",
       "0                   A2M                   IL2   9780213  MI:0974(innatedb)\n",
       "1                   A2M                  GZMA  10666226  MI:0974(innatedb)\n",
       "2                   A2M                   IL4  17725582  MI:0974(innatedb)\n",
       "3                   A2M                 CXCL8   9029135  MI:0974(innatedb)\n",
       "4                   A2M                 TGFB2   9780213  MI:0974(innatedb)"
      ]
     },
     "execution_count": 360,
     "metadata": {},
     "output_type": "execute_result"
    }
   ],
   "source": [
    "innatedb_df.head()"
   ]
  },
  {
   "cell_type": "code",
   "execution_count": 359,
   "metadata": {},
   "outputs": [
    {
     "data": {
      "text/html": [
       "<div>\n",
       "<table border=\"1\" class=\"dataframe\">\n",
       "  <thead>\n",
       "    <tr style=\"text-align: right;\">\n",
       "      <th></th>\n",
       "      <th>Protein A (gene name)</th>\n",
       "      <th>Protein B (gene name)</th>\n",
       "      <th>PubMed ID</th>\n",
       "      <th>Source databases</th>\n",
       "    </tr>\n",
       "  </thead>\n",
       "  <tbody>\n",
       "    <tr>\n",
       "      <th>0</th>\n",
       "      <td>A2M</td>\n",
       "      <td>APP</td>\n",
       "      <td>9501253</td>\n",
       "      <td>MI:0465(dip)</td>\n",
       "    </tr>\n",
       "    <tr>\n",
       "      <th>1</th>\n",
       "      <td>ABCA1</td>\n",
       "      <td>SPTLC1</td>\n",
       "      <td>25170080</td>\n",
       "      <td>MI:0465(dip)</td>\n",
       "    </tr>\n",
       "    <tr>\n",
       "      <th>2</th>\n",
       "      <td>ABCA1</td>\n",
       "      <td>KIF11</td>\n",
       "      <td>25170080</td>\n",
       "      <td>MI:0465(dip)</td>\n",
       "    </tr>\n",
       "    <tr>\n",
       "      <th>3</th>\n",
       "      <td>ABCA1</td>\n",
       "      <td>FLNA</td>\n",
       "      <td>25170080</td>\n",
       "      <td>MI:0465(dip)</td>\n",
       "    </tr>\n",
       "    <tr>\n",
       "      <th>4</th>\n",
       "      <td>ABCC8</td>\n",
       "      <td>KCNJ11</td>\n",
       "      <td>19805355</td>\n",
       "      <td>MI:0465(dip)</td>\n",
       "    </tr>\n",
       "  </tbody>\n",
       "</table>\n",
       "</div>"
      ],
      "text/latex": [
       "\\centering{\\begin{tabular}{lllll}\n",
       "\\toprule\n",
       "{} & Protein A (gene name) & Protein B (gene name) & PubMed ID & Source databases \\\\\n",
       "\\midrule\n",
       "0 &                   A2M &                   APP &   9501253 &     MI:0465(dip) \\\\\n",
       "1 &                 ABCA1 &                SPTLC1 &  25170080 &     MI:0465(dip) \\\\\n",
       "2 &                 ABCA1 &                 KIF11 &  25170080 &     MI:0465(dip) \\\\\n",
       "3 &                 ABCA1 &                  FLNA &  25170080 &     MI:0465(dip) \\\\\n",
       "4 &                 ABCC8 &                KCNJ11 &  19805355 &     MI:0465(dip) \\\\\n",
       "\\bottomrule\n",
       "\\end{tabular}\n",
       "}"
      ],
      "text/plain": [
       "  Protein A (gene name) Protein B (gene name) PubMed ID Source databases\n",
       "0                   A2M                   APP   9501253     MI:0465(dip)\n",
       "1                 ABCA1                SPTLC1  25170080     MI:0465(dip)\n",
       "2                 ABCA1                 KIF11  25170080     MI:0465(dip)\n",
       "3                 ABCA1                  FLNA  25170080     MI:0465(dip)\n",
       "4                 ABCC8                KCNJ11  19805355     MI:0465(dip)"
      ]
     },
     "execution_count": 359,
     "metadata": {},
     "output_type": "execute_result"
    }
   ],
   "source": [
    "dip_df.head()"
   ]
  },
  {
   "cell_type": "code",
   "execution_count": 358,
   "metadata": {},
   "outputs": [
    {
     "data": {
      "text/html": [
       "<div>\n",
       "<table border=\"1\" class=\"dataframe\">\n",
       "  <thead>\n",
       "    <tr style=\"text-align: right;\">\n",
       "      <th></th>\n",
       "      <th>Protein A (gene name)</th>\n",
       "      <th>Protein B (gene name)</th>\n",
       "      <th>PubMed ID</th>\n",
       "      <th>Source databases</th>\n",
       "    </tr>\n",
       "  </thead>\n",
       "  <tbody>\n",
       "    <tr>\n",
       "      <th>0</th>\n",
       "      <td>A1CF</td>\n",
       "      <td>SYNCRIP</td>\n",
       "      <td>11134005|11352648</td>\n",
       "      <td>(mentha)</td>\n",
       "    </tr>\n",
       "    <tr>\n",
       "      <th>1</th>\n",
       "      <td>A1CF</td>\n",
       "      <td>KHSRP</td>\n",
       "      <td>10781591</td>\n",
       "      <td>(mentha)</td>\n",
       "    </tr>\n",
       "    <tr>\n",
       "      <th>2</th>\n",
       "      <td>A1CF</td>\n",
       "      <td>CELF2</td>\n",
       "      <td>11577082</td>\n",
       "      <td>(mentha)</td>\n",
       "    </tr>\n",
       "    <tr>\n",
       "      <th>3</th>\n",
       "      <td>A1CF</td>\n",
       "      <td>TNPO2</td>\n",
       "      <td>12896982</td>\n",
       "      <td>(mentha)</td>\n",
       "    </tr>\n",
       "    <tr>\n",
       "      <th>4</th>\n",
       "      <td>A1CF</td>\n",
       "      <td>APOBEC1</td>\n",
       "      <td>11134005|10669759</td>\n",
       "      <td>(mentha)</td>\n",
       "    </tr>\n",
       "  </tbody>\n",
       "</table>\n",
       "</div>"
      ],
      "text/latex": [
       "\\centering{\\begin{tabular}{lllll}\n",
       "\\toprule\n",
       "{} & Protein A (gene name) & Protein B (gene name) &          PubMed ID & Source databases \\\\\n",
       "\\midrule\n",
       "0 &                  A1CF &               SYNCRIP &  11134005|11352648 &         (mentha) \\\\\n",
       "1 &                  A1CF &                 KHSRP &           10781591 &         (mentha) \\\\\n",
       "2 &                  A1CF &                 CELF2 &           11577082 &         (mentha) \\\\\n",
       "3 &                  A1CF &                 TNPO2 &           12896982 &         (mentha) \\\\\n",
       "4 &                  A1CF &               APOBEC1 &  11134005|10669759 &         (mentha) \\\\\n",
       "\\bottomrule\n",
       "\\end{tabular}\n",
       "}"
      ],
      "text/plain": [
       "  Protein A (gene name) Protein B (gene name)          PubMed ID  \\\n",
       "0                  A1CF               SYNCRIP  11134005|11352648   \n",
       "1                  A1CF                 KHSRP           10781591   \n",
       "2                  A1CF                 CELF2           11577082   \n",
       "3                  A1CF                 TNPO2           12896982   \n",
       "4                  A1CF               APOBEC1  11134005|10669759   \n",
       "\n",
       "  Source databases  \n",
       "0         (mentha)  \n",
       "1         (mentha)  \n",
       "2         (mentha)  \n",
       "3         (mentha)  \n",
       "4         (mentha)  "
      ]
     },
     "execution_count": 358,
     "metadata": {},
     "output_type": "execute_result"
    }
   ],
   "source": [
    "mentha_df.head()"
   ]
  },
  {
   "cell_type": "code",
   "execution_count": 357,
   "metadata": {},
   "outputs": [
    {
     "data": {
      "text/html": [
       "<div>\n",
       "<table border=\"1\" class=\"dataframe\">\n",
       "  <thead>\n",
       "    <tr style=\"text-align: right;\">\n",
       "      <th></th>\n",
       "      <th>Protein A (gene name)</th>\n",
       "      <th>Protein B (gene name)</th>\n",
       "      <th>PubMed ID</th>\n",
       "      <th>Source databases</th>\n",
       "    </tr>\n",
       "  </thead>\n",
       "  <tbody>\n",
       "    <tr>\n",
       "      <th>0</th>\n",
       "      <td>1B</td>\n",
       "      <td>DDX58</td>\n",
       "      <td>19193793</td>\n",
       "      <td>psi-mi:\"MI:0486\"(UniProt)</td>\n",
       "    </tr>\n",
       "    <tr>\n",
       "      <th>1</th>\n",
       "      <td>A2M</td>\n",
       "      <td>SPACA3</td>\n",
       "      <td>2467766</td>\n",
       "      <td>psi-mi:\"MI:0469\"(IntAct)</td>\n",
       "    </tr>\n",
       "    <tr>\n",
       "      <th>2</th>\n",
       "      <td>AANAT</td>\n",
       "      <td>YWHAZ</td>\n",
       "      <td>15644438</td>\n",
       "      <td>psi-mi:\"MI:0471\"(MINT)</td>\n",
       "    </tr>\n",
       "    <tr>\n",
       "      <th>3</th>\n",
       "      <td>AATF</td>\n",
       "      <td>MAPT</td>\n",
       "      <td>14697667</td>\n",
       "      <td>psi-mi:\"MI:0471\"(MINT)</td>\n",
       "    </tr>\n",
       "    <tr>\n",
       "      <th>4</th>\n",
       "      <td>AATF</td>\n",
       "      <td>RBBP8</td>\n",
       "      <td>10783144</td>\n",
       "      <td>psi-mi:\"MI:0471\"(MINT)</td>\n",
       "    </tr>\n",
       "  </tbody>\n",
       "</table>\n",
       "</div>"
      ],
      "text/latex": [
       "\\centering{\\begin{tabular}{lllll}\n",
       "\\toprule\n",
       "{} & Protein A (gene name) & Protein B (gene name) & PubMed ID &           Source databases \\\\\n",
       "\\midrule\n",
       "0 &                    1B &                 DDX58 &  19193793 &  psi-mi:\"MI:0486\"(UniProt) \\\\\n",
       "1 &                   A2M &                SPACA3 &   2467766 &   psi-mi:\"MI:0469\"(IntAct) \\\\\n",
       "2 &                 AANAT &                 YWHAZ &  15644438 &     psi-mi:\"MI:0471\"(MINT) \\\\\n",
       "3 &                  AATF &                  MAPT &  14697667 &     psi-mi:\"MI:0471\"(MINT) \\\\\n",
       "4 &                  AATF &                 RBBP8 &  10783144 &     psi-mi:\"MI:0471\"(MINT) \\\\\n",
       "\\bottomrule\n",
       "\\end{tabular}\n",
       "}"
      ],
      "text/plain": [
       "  Protein A (gene name) Protein B (gene name) PubMed ID  \\\n",
       "0                    1B                 DDX58  19193793   \n",
       "1                   A2M                SPACA3   2467766   \n",
       "2                 AANAT                 YWHAZ  15644438   \n",
       "3                  AATF                  MAPT  14697667   \n",
       "4                  AATF                 RBBP8  10783144   \n",
       "\n",
       "            Source databases  \n",
       "0  psi-mi:\"MI:0486\"(UniProt)  \n",
       "1   psi-mi:\"MI:0469\"(IntAct)  \n",
       "2     psi-mi:\"MI:0471\"(MINT)  \n",
       "3     psi-mi:\"MI:0471\"(MINT)  \n",
       "4     psi-mi:\"MI:0471\"(MINT)  "
      ]
     },
     "execution_count": 357,
     "metadata": {},
     "output_type": "execute_result"
    }
   ],
   "source": [
    "intact_df.head()"
   ]
  },
  {
   "cell_type": "code",
   "execution_count": 356,
   "metadata": {},
   "outputs": [
    {
     "data": {
      "text/html": [
       "<div>\n",
       "<table border=\"1\" class=\"dataframe\">\n",
       "  <thead>\n",
       "    <tr style=\"text-align: right;\">\n",
       "      <th></th>\n",
       "      <th>Protein A (gene name)</th>\n",
       "      <th>Protein B (gene name)</th>\n",
       "      <th>PubMed ID</th>\n",
       "      <th>Source databases</th>\n",
       "    </tr>\n",
       "  </thead>\n",
       "  <tbody>\n",
       "    <tr>\n",
       "      <th>0</th>\n",
       "      <td>AA</td>\n",
       "      <td>PRKCA</td>\n",
       "      <td>2119631|3934001</td>\n",
       "      <td>(SAVI)|(SAVI)</td>\n",
       "    </tr>\n",
       "    <tr>\n",
       "      <th>7</th>\n",
       "      <td>ABL1</td>\n",
       "      <td>DOK1</td>\n",
       "      <td>12777393</td>\n",
       "      <td>(SAVI)</td>\n",
       "    </tr>\n",
       "    <tr>\n",
       "      <th>6</th>\n",
       "      <td>ABL1</td>\n",
       "      <td>TP53BP1</td>\n",
       "      <td>10629029</td>\n",
       "      <td>(SAVI)</td>\n",
       "    </tr>\n",
       "    <tr>\n",
       "      <th>5</th>\n",
       "      <td>ABL1</td>\n",
       "      <td>CDK5</td>\n",
       "      <td>11113134</td>\n",
       "      <td>(SAVI)</td>\n",
       "    </tr>\n",
       "    <tr>\n",
       "      <th>8</th>\n",
       "      <td>ABL1</td>\n",
       "      <td>SHC1</td>\n",
       "      <td>8112292</td>\n",
       "      <td>(SAVI)</td>\n",
       "    </tr>\n",
       "  </tbody>\n",
       "</table>\n",
       "</div>"
      ],
      "text/latex": [
       "\\centering{\\begin{tabular}{lllll}\n",
       "\\toprule\n",
       "{} & Protein A (gene name) & Protein B (gene name) &        PubMed ID & Source databases \\\\\n",
       "\\midrule\n",
       "0 &                    AA &                 PRKCA &  2119631|3934001 &    (SAVI)|(SAVI) \\\\\n",
       "7 &                  ABL1 &                  DOK1 &         12777393 &           (SAVI) \\\\\n",
       "6 &                  ABL1 &               TP53BP1 &         10629029 &           (SAVI) \\\\\n",
       "5 &                  ABL1 &                  CDK5 &         11113134 &           (SAVI) \\\\\n",
       "8 &                  ABL1 &                  SHC1 &          8112292 &           (SAVI) \\\\\n",
       "\\bottomrule\n",
       "\\end{tabular}\n",
       "}"
      ],
      "text/plain": [
       "  Protein A (gene name) Protein B (gene name)        PubMed ID  \\\n",
       "0                    AA                 PRKCA  2119631|3934001   \n",
       "7                  ABL1                  DOK1         12777393   \n",
       "6                  ABL1               TP53BP1         10629029   \n",
       "5                  ABL1                  CDK5         11113134   \n",
       "8                  ABL1                  SHC1          8112292   \n",
       "\n",
       "  Source databases  \n",
       "0    (SAVI)|(SAVI)  \n",
       "7           (SAVI)  \n",
       "6           (SAVI)  \n",
       "5           (SAVI)  \n",
       "8           (SAVI)  "
      ]
     },
     "execution_count": 356,
     "metadata": {},
     "output_type": "execute_result"
    }
   ],
   "source": [
    "savi_df.head()"
   ]
  },
  {
   "cell_type": "code",
   "execution_count": 355,
   "metadata": {},
   "outputs": [
    {
     "data": {
      "text/html": [
       "<div>\n",
       "<table border=\"1\" class=\"dataframe\">\n",
       "  <thead>\n",
       "    <tr style=\"text-align: right;\">\n",
       "      <th></th>\n",
       "      <th>Protein A (gene name)</th>\n",
       "      <th>Protein B (gene name)</th>\n",
       "      <th>PubMed ID</th>\n",
       "      <th>Source databases</th>\n",
       "    </tr>\n",
       "  </thead>\n",
       "  <tbody>\n",
       "    <tr>\n",
       "      <th>0</th>\n",
       "      <td>AAK1</td>\n",
       "      <td>AP1M1</td>\n",
       "      <td>11877461</td>\n",
       "      <td>PHOSPHOELM</td>\n",
       "    </tr>\n",
       "    <tr>\n",
       "      <th>1</th>\n",
       "      <td>AAK1</td>\n",
       "      <td>AP2M1</td>\n",
       "      <td>11877457|11877461|15174125</td>\n",
       "      <td>PHOSPHOELM|PHOSPHOSITE</td>\n",
       "    </tr>\n",
       "    <tr>\n",
       "      <th>2</th>\n",
       "      <td>AAK1</td>\n",
       "      <td>NUMB</td>\n",
       "      <td>18657069|15174125</td>\n",
       "      <td>PHOSPHOELM|PHOSPHOSITE</td>\n",
       "    </tr>\n",
       "    <tr>\n",
       "      <th>84</th>\n",
       "      <td>ABL1</td>\n",
       "      <td>ABL1</td>\n",
       "      <td>10964922|11781820|12522270|15174125|17192257|1...</td>\n",
       "      <td>HPRD|PHOSPHOELM|PHOSPHOPOINT|PHOSPHOSITE|SWISS...</td>\n",
       "    </tr>\n",
       "    <tr>\n",
       "      <th>83</th>\n",
       "      <td>ABL1</td>\n",
       "      <td>CBL</td>\n",
       "      <td>10829062|11997497|12475393|12522270|12604776|1...</td>\n",
       "      <td>HPRD|MINT|PHOSPHOELM|PHOSPHOPOINT|PHOSPHOSITE</td>\n",
       "    </tr>\n",
       "  </tbody>\n",
       "</table>\n",
       "</div>"
      ],
      "text/latex": [
       "\\centering{\\begin{tabular}{lllll}\n",
       "\\toprule\n",
       "{} & Protein A (gene name) & Protein B (gene name) &                                          PubMed ID &                                   Source databases \\\\\n",
       "\\midrule\n",
       "0  &                  AAK1 &                 AP1M1 &                                           11877461 &                                         PHOSPHOELM \\\\\n",
       "1  &                  AAK1 &                 AP2M1 &                         11877457|11877461|15174125 &                             PHOSPHOELM|PHOSPHOSITE \\\\\n",
       "2  &                  AAK1 &                  NUMB &                                  18657069|15174125 &                             PHOSPHOELM|PHOSPHOSITE \\\\\n",
       "84 &                  ABL1 &                  ABL1 &  10964922|11781820|12522270|15174125|17192257|1... &  HPRD|PHOSPHOELM|PHOSPHOPOINT|PHOSPHOSITE|SWISS... \\\\\n",
       "83 &                  ABL1 &                   CBL &  10829062|11997497|12475393|12522270|12604776|1... &      HPRD|MINT|PHOSPHOELM|PHOSPHOPOINT|PHOSPHOSITE \\\\\n",
       "\\bottomrule\n",
       "\\end{tabular}\n",
       "}"
      ],
      "text/plain": [
       "   Protein A (gene name) Protein B (gene name)  \\\n",
       "0                   AAK1                 AP1M1   \n",
       "1                   AAK1                 AP2M1   \n",
       "2                   AAK1                  NUMB   \n",
       "84                  ABL1                  ABL1   \n",
       "83                  ABL1                   CBL   \n",
       "\n",
       "                                            PubMed ID  \\\n",
       "0                                            11877461   \n",
       "1                          11877457|11877461|15174125   \n",
       "2                                   18657069|15174125   \n",
       "84  10964922|11781820|12522270|15174125|17192257|1...   \n",
       "83  10829062|11997497|12475393|12522270|12604776|1...   \n",
       "\n",
       "                                     Source databases  \n",
       "0                                          PHOSPHOELM  \n",
       "1                              PHOSPHOELM|PHOSPHOSITE  \n",
       "2                              PHOSPHOELM|PHOSPHOSITE  \n",
       "84  HPRD|PHOSPHOELM|PHOSPHOPOINT|PHOSPHOSITE|SWISS...  \n",
       "83      HPRD|MINT|PHOSPHOELM|PHOSPHOPOINT|PHOSPHOSITE  "
      ]
     },
     "execution_count": 355,
     "metadata": {},
     "output_type": "execute_result"
    }
   ],
   "source": [
    "kea_df.head()"
   ]
  },
  {
   "cell_type": "markdown",
   "metadata": {},
   "source": [
    "## Comparison and overlap"
   ]
  },
  {
   "cell_type": "code",
   "execution_count": 59,
   "metadata": {},
   "outputs": [
    {
     "data": {
      "text/html": [
       "<div>\n",
       "<table border=\"1\" class=\"dataframe\">\n",
       "  <thead>\n",
       "    <tr style=\"text-align: right;\">\n",
       "      <th>Overlap (Human)</th>\n",
       "      <th>mint</th>\n",
       "      <th>biogrid</th>\n",
       "      <th>innatedb</th>\n",
       "      <th>dip</th>\n",
       "      <th>mentha</th>\n",
       "      <th>intact</th>\n",
       "      <th>savi</th>\n",
       "      <th>kea</th>\n",
       "    </tr>\n",
       "  </thead>\n",
       "  <tbody>\n",
       "    <tr>\n",
       "      <th>mint</th>\n",
       "      <td>5183</td>\n",
       "      <td>2072</td>\n",
       "      <td>299</td>\n",
       "      <td>302</td>\n",
       "      <td>2761</td>\n",
       "      <td>5058</td>\n",
       "      <td>70</td>\n",
       "      <td>413</td>\n",
       "    </tr>\n",
       "    <tr>\n",
       "      <th>biogrid</th>\n",
       "      <td>2072</td>\n",
       "      <td>43586</td>\n",
       "      <td>1870</td>\n",
       "      <td>1482</td>\n",
       "      <td>21695</td>\n",
       "      <td>4359</td>\n",
       "      <td>305</td>\n",
       "      <td>2488</td>\n",
       "    </tr>\n",
       "    <tr>\n",
       "      <th>innatedb</th>\n",
       "      <td>299</td>\n",
       "      <td>1870</td>\n",
       "      <td>4754</td>\n",
       "      <td>256</td>\n",
       "      <td>1684</td>\n",
       "      <td>598</td>\n",
       "      <td>57</td>\n",
       "      <td>423</td>\n",
       "    </tr>\n",
       "    <tr>\n",
       "      <th>dip</th>\n",
       "      <td>302</td>\n",
       "      <td>1482</td>\n",
       "      <td>256</td>\n",
       "      <td>4463</td>\n",
       "      <td>1741</td>\n",
       "      <td>665</td>\n",
       "      <td>40</td>\n",
       "      <td>228</td>\n",
       "    </tr>\n",
       "    <tr>\n",
       "      <th>mentha</th>\n",
       "      <td>2761</td>\n",
       "      <td>21695</td>\n",
       "      <td>1684</td>\n",
       "      <td>1741</td>\n",
       "      <td>49501</td>\n",
       "      <td>5150</td>\n",
       "      <td>415</td>\n",
       "      <td>2051</td>\n",
       "    </tr>\n",
       "    <tr>\n",
       "      <th>intact</th>\n",
       "      <td>5058</td>\n",
       "      <td>4359</td>\n",
       "      <td>598</td>\n",
       "      <td>665</td>\n",
       "      <td>5150</td>\n",
       "      <td>10998</td>\n",
       "      <td>104</td>\n",
       "      <td>728</td>\n",
       "    </tr>\n",
       "    <tr>\n",
       "      <th>savi</th>\n",
       "      <td>70</td>\n",
       "      <td>305</td>\n",
       "      <td>57</td>\n",
       "      <td>40</td>\n",
       "      <td>415</td>\n",
       "      <td>104</td>\n",
       "      <td>1378</td>\n",
       "      <td>364</td>\n",
       "    </tr>\n",
       "    <tr>\n",
       "      <th>kea</th>\n",
       "      <td>413</td>\n",
       "      <td>2488</td>\n",
       "      <td>423</td>\n",
       "      <td>228</td>\n",
       "      <td>2051</td>\n",
       "      <td>728</td>\n",
       "      <td>364</td>\n",
       "      <td>8061</td>\n",
       "    </tr>\n",
       "  </tbody>\n",
       "</table>\n",
       "</div>"
      ],
      "text/plain": [
       "Overlap (Human)  mint biogrid innatedb   dip mentha intact  savi   kea\n",
       "mint             5183    2072      299   302   2761   5058    70   413\n",
       "biogrid          2072   43586     1870  1482  21695   4359   305  2488\n",
       "innatedb          299    1870     4754   256   1684    598    57   423\n",
       "dip               302    1482      256  4463   1741    665    40   228\n",
       "mentha           2761   21695     1684  1741  49501   5150   415  2051\n",
       "intact           5058    4359      598   665   5150  10998   104   728\n",
       "savi               70     305       57    40    415    104  1378   364\n",
       "kea               413    2488      423   228   2051    728   364  8061"
      ]
     },
     "execution_count": 59,
     "metadata": {},
     "output_type": "execute_result"
    }
   ],
   "source": [
    "data_sets= [mint_df, biogrid_df, innatedb_df, dip_df, mentha_df, intact_df, savi_df, kea_df]\n",
    "data_sets_names= ['mint', 'biogrid', 'innatedb', 'dip', 'mentha', 'intact', 'savi', 'kea']\n",
    "\n",
    "comp_df = pd.DataFrame(columns=data_sets_names, index=data_sets_names)\n",
    "comp_df.columns.name = 'Overlap (Human)'\n",
    "for i in np.arange(len(data_sets)):\n",
    "    for j in np.arange(len(data_sets)):\n",
    "        comp = pd.concat([data_sets[i][['Aliases for A', 'Aliases for B']], data_sets[j][['Aliases for A', 'Aliases for B']]])\n",
    "        comp_df.ix[data_sets_names[i], data_sets_names[j]] = comp.duplicated().sum()\n",
    "\n",
    "# mint_df[['Aliases for A', 'Aliases for B']].duplicated().sum()\n",
    "# biogrid_df[['Aliases for A', 'Aliases for B']].duplicated().sum()\n",
    "comp_df"
   ]
  },
  {
   "cell_type": "code",
   "execution_count": null,
   "metadata": {
    "collapsed": true
   },
   "outputs": [],
   "source": []
  },
  {
   "cell_type": "markdown",
   "metadata": {},
   "source": [
    "## Merged Network Table"
   ]
  },
  {
   "cell_type": "code",
   "execution_count": 386,
   "metadata": {
    "collapsed": true
   },
   "outputs": [],
   "source": [
    "mint_df = pd.read_csv('/Users/moshesilverstein/Desktop/PPI Library/Output/IndividualResources/Filtered/ppi_network_mint_human_filtered_2017_02_16.tsv', sep='\\t')\n",
    "biogrid_df = pd.read_csv('/Users/moshesilverstein/Desktop/PPI Library/Output/IndividualResources/Filtered/ppi_network_biogrid_human_filtered_2017_02_15.tsv', sep='\\t')\n",
    "innatedb_df = pd.read_csv('/Users/moshesilverstein/Desktop/PPI Library/Output/IndividualResources/Filtered/ppi_network_innatedb_human_filtered_2017_02_15.tsv', sep='\\t')\n",
    "dip_df = pd.read_csv('/Users/moshesilverstein/Desktop/PPI Library/Output/IndividualResources/Filtered/ppi_network_dip_human_filtered_2017_02_15.tsv', sep='\\t')\n",
    "mentha_df = pd.read_csv('/Users/moshesilverstein/Desktop/PPI Library/Output/IndividualResources/Filtered/ppi_network_mentha_human_filtered_2017_02_15.tsv', sep='\\t')\n",
    "intact_df = pd.read_csv('/Users/moshesilverstein/Desktop/PPI Library/Output/IndividualResources/Filtered/ppi_network_intact_human_filtered_2017_02_16.tsv', sep='\\t')\n",
    "savi_df = pd.read_csv('/Users/moshesilverstein/Desktop/PPI Library/Output/IndividualResources/Filtered/ppi_network_savi_human_filtered_2017_02_16.tsv', sep='\\t')\n",
    "kea_df = pd.read_csv('/Users/moshesilverstein/Desktop/PPI Library/Output/IndividualResources/Filtered/ppi_network_kea_human_filtered_2017_02_16.tsv', sep='\\t')"
   ]
  },
  {
   "cell_type": "code",
   "execution_count": 387,
   "metadata": {
    "collapsed": true
   },
   "outputs": [],
   "source": [
    "network_df = pd.concat([mint_df, biogrid_df, innatedb_df, dip_df, mentha_df, intact_df, savi_df, kea_df])"
   ]
  },
  {
   "cell_type": "code",
   "execution_count": 388,
   "metadata": {
    "collapsed": true
   },
   "outputs": [],
   "source": [
    "#network_df.rename(columns={'Aliases for A':'Protein A (gene name)', 'Aliases for B':'Protein B (gene name)', 'Identifier of the publication':'PubMed ID'}, inplace=True)"
   ]
  },
  {
   "cell_type": "code",
   "execution_count": 389,
   "metadata": {
    "collapsed": true
   },
   "outputs": [],
   "source": [
    "network_df.sort_values(['Protein A (gene name)', 'Protein B (gene name)'], inplace=True)"
   ]
  },
  {
   "cell_type": "code",
   "execution_count": 390,
   "metadata": {
    "collapsed": true
   },
   "outputs": [],
   "source": [
    "network_df.reset_index(inplace=True)\n",
    "network_df.drop('index', axis=1, inplace=True)"
   ]
  },
  {
   "cell_type": "code",
   "execution_count": 391,
   "metadata": {},
   "outputs": [
    {
     "data": {
      "text/plain": [
       "(150514, 4)"
      ]
     },
     "execution_count": 391,
     "metadata": {},
     "output_type": "execute_result"
    }
   ],
   "source": [
    "network_df.shape"
   ]
  },
  {
   "cell_type": "code",
   "execution_count": 392,
   "metadata": {},
   "outputs": [
    {
     "name": "stdout",
     "output_type": "stream",
     "text": [
      " Loop 9: 86000 Out of 86995 "
     ]
    }
   ],
   "source": [
    "concatliketerms(network_df)"
   ]
  },
  {
   "cell_type": "code",
   "execution_count": 393,
   "metadata": {
    "collapsed": true
   },
   "outputs": [],
   "source": [
    "filename = '/Users/moshesilverstein/Desktop/PPI Library/Output/Combined/Filtered/ppi_network_human_filtered_%s.tsv'% str(datetime.date.today()).replace('-', '_')\n",
    "network_df.to_csv(filename, sep='\\t', index=False) "
   ]
  },
  {
   "cell_type": "code",
   "execution_count": 394,
   "metadata": {
    "collapsed": true
   },
   "outputs": [],
   "source": [
    "filename = '/Users/moshesilverstein/Desktop/PPI Library/Output/Combined/Filtered/ppi_network_human_filtered_%s.tsv.gz'% str(datetime.date.today()).replace('-', '_')\n",
    "network_df.to_csv(filename, sep='\\t', index=False, compression='gzip')"
   ]
  },
  {
   "cell_type": "code",
   "execution_count": 396,
   "metadata": {},
   "outputs": [
    {
     "data": {
      "text/html": [
       "<div>\n",
       "<table border=\"1\" class=\"dataframe\">\n",
       "  <thead>\n",
       "    <tr style=\"text-align: right;\">\n",
       "      <th></th>\n",
       "      <th>Protein A (gene name)</th>\n",
       "      <th>Protein B (gene name)</th>\n",
       "      <th>PubMed ID</th>\n",
       "      <th>Source databases</th>\n",
       "    </tr>\n",
       "  </thead>\n",
       "  <tbody>\n",
       "    <tr>\n",
       "      <th>0</th>\n",
       "      <td>1B</td>\n",
       "      <td>DDX58</td>\n",
       "      <td>19193793</td>\n",
       "      <td>psi-mi:\"MI:0486\"(UniProt)</td>\n",
       "    </tr>\n",
       "    <tr>\n",
       "      <th>1</th>\n",
       "      <td>A1CF</td>\n",
       "      <td>APOBEC1</td>\n",
       "      <td>10669759|11134005|11134005|10669759</td>\n",
       "      <td>psi-mi:\"MI:0463\"(biogrid)|psi-mi:\"MI:0463\"(bio...</td>\n",
       "    </tr>\n",
       "    <tr>\n",
       "      <th>2</th>\n",
       "      <td>A1CF</td>\n",
       "      <td>CELF2</td>\n",
       "      <td>11577082</td>\n",
       "      <td>(mentha)</td>\n",
       "    </tr>\n",
       "    <tr>\n",
       "      <th>3</th>\n",
       "      <td>A1CF</td>\n",
       "      <td>KHSRP</td>\n",
       "      <td>10781591|10781591</td>\n",
       "      <td>psi-mi:\"MI:0463\"(biogrid)|(mentha)</td>\n",
       "    </tr>\n",
       "    <tr>\n",
       "      <th>4</th>\n",
       "      <td>A1CF</td>\n",
       "      <td>SYNCRIP</td>\n",
       "      <td>11134005|11134005|11352648</td>\n",
       "      <td>psi-mi:\"MI:0463\"(biogrid)|(mentha)</td>\n",
       "    </tr>\n",
       "  </tbody>\n",
       "</table>\n",
       "</div>"
      ],
      "text/latex": [
       "\\centering{\\begin{tabular}{lllll}\n",
       "\\toprule\n",
       "{} & Protein A (gene name) & Protein B (gene name) &                            PubMed ID &                                   Source databases \\\\\n",
       "\\midrule\n",
       "0 &                    1B &                 DDX58 &                             19193793 &                          psi-mi:\"MI:0486\"(UniProt) \\\\\n",
       "1 &                  A1CF &               APOBEC1 &  10669759|11134005|11134005|10669759 &  psi-mi:\"MI:0463\"(biogrid)|psi-mi:\"MI:0463\"(bio... \\\\\n",
       "2 &                  A1CF &                 CELF2 &                             11577082 &                                           (mentha) \\\\\n",
       "3 &                  A1CF &                 KHSRP &                    10781591|10781591 &                 psi-mi:\"MI:0463\"(biogrid)|(mentha) \\\\\n",
       "4 &                  A1CF &               SYNCRIP &           11134005|11134005|11352648 &                 psi-mi:\"MI:0463\"(biogrid)|(mentha) \\\\\n",
       "\\bottomrule\n",
       "\\end{tabular}\n",
       "}"
      ],
      "text/plain": [
       "  Protein A (gene name) Protein B (gene name)  \\\n",
       "0                    1B                 DDX58   \n",
       "1                  A1CF               APOBEC1   \n",
       "2                  A1CF                 CELF2   \n",
       "3                  A1CF                 KHSRP   \n",
       "4                  A1CF               SYNCRIP   \n",
       "\n",
       "                             PubMed ID  \\\n",
       "0                             19193793   \n",
       "1  10669759|11134005|11134005|10669759   \n",
       "2                             11577082   \n",
       "3                    10781591|10781591   \n",
       "4           11134005|11134005|11352648   \n",
       "\n",
       "                                    Source databases  \n",
       "0                          psi-mi:\"MI:0486\"(UniProt)  \n",
       "1  psi-mi:\"MI:0463\"(biogrid)|psi-mi:\"MI:0463\"(bio...  \n",
       "2                                           (mentha)  \n",
       "3                 psi-mi:\"MI:0463\"(biogrid)|(mentha)  \n",
       "4                 psi-mi:\"MI:0463\"(biogrid)|(mentha)  "
      ]
     },
     "execution_count": 396,
     "metadata": {},
     "output_type": "execute_result"
    }
   ],
   "source": [
    "network_df.head()"
   ]
  },
  {
   "cell_type": "code",
   "execution_count": null,
   "metadata": {
    "collapsed": true
   },
   "outputs": [],
   "source": []
  },
  {
   "cell_type": "code",
   "execution_count": 399,
   "metadata": {
    "collapsed": true
   },
   "outputs": [],
   "source": [
    "mint_uf_df = pd.read_csv('/Users/moshesilverstein/Desktop/PPI Library/Output/IndividualResources/Unfiltered/ppi_network_mint_human_unfiltered_2017_02_16.tsv', sep='\\t')\n",
    "biogrid_uf_df = pd.read_csv('/Users/moshesilverstein/Desktop/PPI Library/Output/IndividualResources/Unfiltered/ppi_network_biogrid_human_unfiltered_2017_02_15.tsv', sep='\\t')\n",
    "innatedb_uf_df = pd.read_csv('/Users/moshesilverstein/Desktop/PPI Library/Output/IndividualResources/Unfiltered/ppi_network_innatedb_human_unfiltered_2017_02_15.tsv', sep='\\t')\n",
    "dip_uf_df = pd.read_csv('/Users/moshesilverstein/Desktop/PPI Library/Output/IndividualResources/Unfiltered/ppi_network_dip_human_unfiltered_2017_02_15.tsv', sep='\\t')\n",
    "mentha_uf_df = pd.read_csv('/Users/moshesilverstein/Desktop/PPI Library/Output/IndividualResources/Unfiltered/ppi_network_mentha_human_unfiltered_2017_02_15.tsv', sep='\\t')\n",
    "intact_uf_df = pd.read_csv('/Users/moshesilverstein/Desktop/PPI Library/Output/IndividualResources/Unfiltered/ppi_network_intact_human_unfiltered_2017_02_16.tsv', sep='\\t')\n",
    "savi_uf_df = pd.read_csv('/Users/moshesilverstein/Desktop/PPI Library/Output/IndividualResources/Unfiltered/ppi_network_savi_human_unfiltered_2017_02_16.tsv', sep='\\t')\n",
    "kea_uf_df = pd.read_csv('/Users/moshesilverstein/Desktop/PPI Library/Output/IndividualResources/Unfiltered/ppi_network_kea_human_unfiltered_2017_02_16.tsv', sep='\\t')"
   ]
  },
  {
   "cell_type": "code",
   "execution_count": 400,
   "metadata": {
    "collapsed": true
   },
   "outputs": [],
   "source": [
    "network_uf_df = pd.concat([mint_uf_df, biogrid_uf_df, innatedb_uf_df, dip_uf_df, mentha_uf_df, intact_uf_df, savi_uf_df, kea_uf_df])"
   ]
  },
  {
   "cell_type": "code",
   "execution_count": 401,
   "metadata": {
    "collapsed": true
   },
   "outputs": [],
   "source": [
    "network_uf_df.sort_values(['Protein A (gene name)', 'Protein B (gene name)'], inplace=True)"
   ]
  },
  {
   "cell_type": "code",
   "execution_count": 402,
   "metadata": {
    "collapsed": true
   },
   "outputs": [],
   "source": [
    "network_uf_df.reset_index(inplace=True)\n",
    "network_uf_df.drop('index', axis=1, inplace=True)"
   ]
  },
  {
   "cell_type": "code",
   "execution_count": 413,
   "metadata": {},
   "outputs": [
    {
     "name": "stdout",
     "output_type": "stream",
     "text": [
      " Loop 2: 453000 Out of 453565 "
     ]
    }
   ],
   "source": [
    "concatliketerms(network_uf_df)"
   ]
  },
  {
   "cell_type": "code",
   "execution_count": 414,
   "metadata": {
    "collapsed": true
   },
   "outputs": [],
   "source": [
    "filename = '/Users/moshesilverstein/Desktop/PPI Library/Output/Combined/Unfiltered/ppi_network_human_unfiltered_%s.tsv'% str(datetime.date.today()).replace('-', '_')\n",
    "network_uf_df.to_csv(filename, sep='\\t', index=False) "
   ]
  },
  {
   "cell_type": "code",
   "execution_count": 415,
   "metadata": {
    "collapsed": true
   },
   "outputs": [],
   "source": [
    "filename = '/Users/moshesilverstein/Desktop/PPI Library/Output/Combined/Unfiltered/ppi_network_human_unfiltered_%s.tsv.gz'% str(datetime.date.today()).replace('-', '_')\n",
    "network_uf_df.to_csv(filename, sep='\\t', index=False, compression='gzip')"
   ]
  },
  {
   "cell_type": "code",
   "execution_count": null,
   "metadata": {
    "collapsed": true
   },
   "outputs": [],
   "source": []
  },
  {
   "cell_type": "code",
   "execution_count": null,
   "metadata": {
    "collapsed": true
   },
   "outputs": [],
   "source": []
  },
  {
   "cell_type": "markdown",
   "metadata": {},
   "source": [
    "## Merged DataFrame "
   ]
  },
  {
   "cell_type": "code",
   "execution_count": null,
   "metadata": {
    "collapsed": true
   },
   "outputs": [],
   "source": [
    "# drop PPI to self for the DIP data \n",
    "for index in dip_df.index:\n",
    "    if dip_df.ix[index, 'Aliases for A'] == dip_df.ix[index, 'Aliases for B']:\n",
    "        dip_df.drop(index, inplace=True)"
   ]
  },
  {
   "cell_type": "code",
   "execution_count": null,
   "metadata": {
    "collapsed": true
   },
   "outputs": [],
   "source": [
    "df = pd.concat([mint_df, biogrid_df, innatedb_df, dip_df, mentha_df, intact_df, savi_df])"
   ]
  },
  {
   "cell_type": "code",
   "execution_count": null,
   "metadata": {
    "collapsed": true
   },
   "outputs": [],
   "source": [
    "df = df[['Aliases for A', 'Aliases for B']]"
   ]
  },
  {
   "cell_type": "code",
   "execution_count": null,
   "metadata": {
    "collapsed": true
   },
   "outputs": [],
   "source": [
    "df.shape"
   ]
  },
  {
   "cell_type": "code",
   "execution_count": null,
   "metadata": {
    "collapsed": true
   },
   "outputs": [],
   "source": [
    "df.drop_duplicates(['Aliases for A', 'Aliases for B'], inplace=True)"
   ]
  },
  {
   "cell_type": "code",
   "execution_count": null,
   "metadata": {
    "collapsed": true
   },
   "outputs": [],
   "source": [
    "df.dropna(inplace=True)"
   ]
  },
  {
   "cell_type": "code",
   "execution_count": null,
   "metadata": {
    "collapsed": true
   },
   "outputs": [],
   "source": []
  },
  {
   "cell_type": "code",
   "execution_count": null,
   "metadata": {
    "collapsed": true
   },
   "outputs": [],
   "source": [
    "df.shape"
   ]
  },
  {
   "cell_type": "code",
   "execution_count": null,
   "metadata": {
    "collapsed": true
   },
   "outputs": [],
   "source": [
    "df.head()"
   ]
  },
  {
   "cell_type": "markdown",
   "metadata": {},
   "source": [
    "## Gene Set Library"
   ]
  },
  {
   "cell_type": "code",
   "execution_count": null,
   "metadata": {
    "collapsed": true
   },
   "outputs": [],
   "source": [
    "# build library\n",
    "\n",
    "i = 1\n",
    "\n",
    "genelist = set(df['Aliases for A'].values.tolist() + df['Aliases for B'].values.tolist())\n",
    "\n",
    "lib = pd.DataFrame()\n",
    "\n",
    "for gene in genelist:\n",
    "    if i % 100 == 0:\n",
    "        print('\\r', str(i)+' Out of '+ str(len(genelist)), end=' ', flush=True)\n",
    "    lst = set(df[df.values == gene].values.flatten().tolist())\n",
    "    lst.remove(gene)\n",
    "    lst = list(lst)\n",
    "    lst.insert(0, gene)\n",
    "    if len(lst) >= 50:\n",
    "        temp = pd.DataFrame(data=lst)\n",
    "        lib = pd.concat([lib, temp.T])\n",
    "    i += 1"
   ]
  },
  {
   "cell_type": "code",
   "execution_count": null,
   "metadata": {
    "collapsed": true
   },
   "outputs": [],
   "source": [
    "lib.to_csv('PPI_HUMAN.gmt', sep='\\t', header=None, index=False)"
   ]
  },
  {
   "cell_type": "code",
   "execution_count": null,
   "metadata": {
    "collapsed": true
   },
   "outputs": [],
   "source": []
  },
  {
   "cell_type": "code",
   "execution_count": null,
   "metadata": {
    "collapsed": true
   },
   "outputs": [],
   "source": []
  },
  {
   "cell_type": "code",
   "execution_count": null,
   "metadata": {
    "collapsed": true
   },
   "outputs": [],
   "source": [
    "lib.head(20)"
   ]
  },
  {
   "cell_type": "code",
   "execution_count": null,
   "metadata": {
    "collapsed": true
   },
   "outputs": [],
   "source": [
    "lib.shape"
   ]
  },
  {
   "cell_type": "markdown",
   "metadata": {},
   "source": [
    "## Count Proteins"
   ]
  },
  {
   "cell_type": "code",
   "execution_count": 3,
   "metadata": {
    "collapsed": true
   },
   "outputs": [],
   "source": [
    "mint_df = pd.read_csv('/Users/moshesilverstein/Documents/Harmonizome/PPI Library/Output/IndividualResources/Filtered/ppi_network_mint_human_filtered_2017_02_16.tsv', sep='\\t')\n",
    "biogrid_df = pd.read_csv('/Users/moshesilverstein/Documents/Harmonizome/PPI Library/Output/IndividualResources/Filtered/ppi_network_biogrid_human_filtered_2017_02_15.tsv', sep='\\t')\n",
    "innatedb_df = pd.read_csv('/Users/moshesilverstein/Documents/Harmonizome/PPI Library/Output/IndividualResources/Filtered/ppi_network_innatedb_human_filtered_2017_02_15.tsv', sep='\\t')\n",
    "dip_df = pd.read_csv('/Users/moshesilverstein/Documents/Harmonizome/PPI Library/Output/IndividualResources/Filtered/ppi_network_dip_human_filtered_2017_02_15.tsv', sep='\\t')\n",
    "mentha_df = pd.read_csv('/Users/moshesilverstein/Documents/Harmonizome/PPI Library/Output/IndividualResources/Filtered/ppi_network_mentha_human_filtered_2017_02_15.tsv', sep='\\t')\n",
    "intact_df = pd.read_csv('/Users/moshesilverstein/Documents/Harmonizome/PPI Library/Output/IndividualResources/Filtered/ppi_network_intact_human_filtered_2017_02_16.tsv', sep='\\t')\n",
    "savi_df = pd.read_csv('/Users/moshesilverstein/Documents/Harmonizome/PPI Library/Output/IndividualResources/Filtered/ppi_network_savi_human_filtered_2017_02_16.tsv', sep='\\t')\n",
    "kea_df = pd.read_csv('/Users/moshesilverstein/Documents/Harmonizome/PPI Library/Output/IndividualResources/Filtered/ppi_network_kea_human_filtered_2017_02_16.tsv', sep='\\t')"
   ]
  },
  {
   "cell_type": "code",
   "execution_count": 4,
   "metadata": {},
   "outputs": [
    {
     "data": {
      "text/html": [
       "<div>\n",
       "<table border=\"1\" class=\"dataframe\">\n",
       "  <thead>\n",
       "    <tr style=\"text-align: right;\">\n",
       "      <th></th>\n",
       "      <th>Protein A (gene name)</th>\n",
       "      <th>Protein B (gene name)</th>\n",
       "      <th>PubMed ID</th>\n",
       "      <th>Source databases</th>\n",
       "    </tr>\n",
       "  </thead>\n",
       "  <tbody>\n",
       "    <tr>\n",
       "      <th>0</th>\n",
       "      <td>AANAT</td>\n",
       "      <td>YWHAZ</td>\n",
       "      <td>15644438</td>\n",
       "      <td>psi-mi:\"MI:0471\"(MINT)</td>\n",
       "    </tr>\n",
       "    <tr>\n",
       "      <th>1</th>\n",
       "      <td>AATF</td>\n",
       "      <td>MAPT</td>\n",
       "      <td>14697667</td>\n",
       "      <td>psi-mi:\"MI:0471\"(MINT)</td>\n",
       "    </tr>\n",
       "    <tr>\n",
       "      <th>2</th>\n",
       "      <td>AATF</td>\n",
       "      <td>POLR2J</td>\n",
       "      <td>10783144</td>\n",
       "      <td>psi-mi:\"MI:0471\"(MINT)</td>\n",
       "    </tr>\n",
       "    <tr>\n",
       "      <th>3</th>\n",
       "      <td>AATF</td>\n",
       "      <td>RBBP8</td>\n",
       "      <td>10783144</td>\n",
       "      <td>psi-mi:\"MI:0471\"(MINT)</td>\n",
       "    </tr>\n",
       "    <tr>\n",
       "      <th>4</th>\n",
       "      <td>AATF</td>\n",
       "      <td>SP1</td>\n",
       "      <td>12847090</td>\n",
       "      <td>psi-mi:\"MI:0471\"(MINT)</td>\n",
       "    </tr>\n",
       "  </tbody>\n",
       "</table>\n",
       "</div>"
      ],
      "text/plain": [
       "  Protein A (gene name) Protein B (gene name) PubMed ID  \\\n",
       "0                 AANAT                 YWHAZ  15644438   \n",
       "1                  AATF                  MAPT  14697667   \n",
       "2                  AATF                POLR2J  10783144   \n",
       "3                  AATF                 RBBP8  10783144   \n",
       "4                  AATF                   SP1  12847090   \n",
       "\n",
       "         Source databases  \n",
       "0  psi-mi:\"MI:0471\"(MINT)  \n",
       "1  psi-mi:\"MI:0471\"(MINT)  \n",
       "2  psi-mi:\"MI:0471\"(MINT)  \n",
       "3  psi-mi:\"MI:0471\"(MINT)  \n",
       "4  psi-mi:\"MI:0471\"(MINT)  "
      ]
     },
     "execution_count": 4,
     "metadata": {},
     "output_type": "execute_result"
    }
   ],
   "source": [
    "mint_df.head()"
   ]
  },
  {
   "cell_type": "code",
   "execution_count": 10,
   "metadata": {},
   "outputs": [
    {
     "data": {
      "text/plain": [
       "2965"
      ]
     },
     "execution_count": 10,
     "metadata": {},
     "output_type": "execute_result"
    }
   ],
   "source": [
    "len(set(mint_df['Protein A (gene name)'].tolist()+mint_df['Protein B (gene name)'].tolist()))"
   ]
  },
  {
   "cell_type": "code",
   "execution_count": 12,
   "metadata": {},
   "outputs": [
    {
     "data": {
      "text/plain": [
       "7938"
      ]
     },
     "execution_count": 12,
     "metadata": {},
     "output_type": "execute_result"
    }
   ],
   "source": [
    "len(set(biogrid_df['Protein A (gene name)'].tolist()+biogrid_df['Protein B (gene name)'].tolist()))"
   ]
  },
  {
   "cell_type": "code",
   "execution_count": 13,
   "metadata": {},
   "outputs": [
    {
     "data": {
      "text/plain": [
       "2225"
      ]
     },
     "execution_count": 13,
     "metadata": {},
     "output_type": "execute_result"
    }
   ],
   "source": [
    "len(set(innatedb_df['Protein A (gene name)'].tolist()+innatedb_df['Protein B (gene name)'].tolist()))"
   ]
  },
  {
   "cell_type": "code",
   "execution_count": 14,
   "metadata": {},
   "outputs": [
    {
     "data": {
      "text/plain": [
       "2676"
      ]
     },
     "execution_count": 14,
     "metadata": {},
     "output_type": "execute_result"
    }
   ],
   "source": [
    "len(set(dip_df['Protein A (gene name)'].tolist()+dip_df['Protein B (gene name)'].tolist()))"
   ]
  },
  {
   "cell_type": "code",
   "execution_count": 15,
   "metadata": {},
   "outputs": [
    {
     "data": {
      "text/plain": [
       "9290"
      ]
     },
     "execution_count": 15,
     "metadata": {},
     "output_type": "execute_result"
    }
   ],
   "source": [
    "len(set(mentha_df['Protein A (gene name)'].tolist()+mentha_df['Protein B (gene name)'].tolist()))"
   ]
  },
  {
   "cell_type": "code",
   "execution_count": 16,
   "metadata": {},
   "outputs": [
    {
     "data": {
      "text/plain": [
       "4953"
      ]
     },
     "execution_count": 16,
     "metadata": {},
     "output_type": "execute_result"
    }
   ],
   "source": [
    "len(set(intact_df['Protein A (gene name)'].tolist()+intact_df['Protein B (gene name)'].tolist()))"
   ]
  },
  {
   "cell_type": "code",
   "execution_count": 17,
   "metadata": {},
   "outputs": [
    {
     "data": {
      "text/plain": [
       "582"
      ]
     },
     "execution_count": 17,
     "metadata": {},
     "output_type": "execute_result"
    }
   ],
   "source": [
    "len(set(savi_df['Protein A (gene name)'].tolist()+savi_df['Protein B (gene name)'].tolist()))"
   ]
  },
  {
   "cell_type": "code",
   "execution_count": 19,
   "metadata": {},
   "outputs": [
    {
     "data": {
      "text/plain": [
       "2791"
      ]
     },
     "execution_count": 19,
     "metadata": {},
     "output_type": "execute_result"
    }
   ],
   "source": [
    "len(set(kea_df['Protein A (gene name)'].tolist()+kea_df['Protein B (gene name)'].tolist()))"
   ]
  }
 ],
 "metadata": {
  "anaconda-cloud": {},
  "kernelspec": {
   "display_name": "Python 3",
   "language": "python",
   "name": "python3"
  },
  "language_info": {
   "codemirror_mode": {
    "name": "ipython",
    "version": 3
   },
   "file_extension": ".py",
   "mimetype": "text/x-python",
   "name": "python",
   "nbconvert_exporter": "python",
   "pygments_lexer": "ipython3",
   "version": "3.6.1"
  }
 },
 "nbformat": 4,
 "nbformat_minor": 2
}
