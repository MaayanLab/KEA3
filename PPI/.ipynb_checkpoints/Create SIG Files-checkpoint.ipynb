{
 "cells": [
  {
   "cell_type": "code",
   "execution_count": 1,
   "metadata": {
    "collapsed": true
   },
   "outputs": [],
   "source": [
    "import numpy as np\n",
    "import pandas as pd\n",
    "import sys, datetime"
   ]
  },
  {
   "cell_type": "code",
   "execution_count": 2,
   "metadata": {
    "collapsed": true
   },
   "outputs": [],
   "source": [
    "sig_col = ['Source Name', 'Source Human Accession', 'Source Mouse Accession',\n",
    "          'Source Type', 'Source Location', 'Target Name',\n",
    "          'Target Human Accession', 'Target Mouse Accession', 'Target Type',\n",
    "          'Target Location', 'Effect', 'Type of Interaction',\n",
    "          'PubMed IDs']"
   ]
  },
  {
   "cell_type": "code",
   "execution_count": 3,
   "metadata": {
    "collapsed": true
   },
   "outputs": [],
   "source": [
    "path = '~/./Documents/Harmonizome/PPI Library/Output/IndividualResources/Filtered/'"
   ]
  },
  {
   "cell_type": "code",
   "execution_count": 4,
   "metadata": {},
   "outputs": [
    {
     "ename": "FileNotFoundError",
     "evalue": "File b'/home/maayanlab/./Documents/Harmonizome/PPI Library/Doc and Mapping/HomoloGene.tsv' does not exist",
     "output_type": "error",
     "traceback": [
      "\u001b[0;31m---------------------------------------------------------------------------\u001b[0m",
      "\u001b[0;31mFileNotFoundError\u001b[0m                         Traceback (most recent call last)",
      "\u001b[0;32m<ipython-input-4-2e8842b36e11>\u001b[0m in \u001b[0;36m<module>\u001b[0;34m()\u001b[0m\n\u001b[1;32m      1\u001b[0m \u001b[0;31m# HOMOLOGENE\u001b[0m\u001b[0;34m\u001b[0m\u001b[0;34m\u001b[0m\u001b[0m\n\u001b[1;32m      2\u001b[0m \u001b[0mmapping_path\u001b[0m \u001b[0;34m=\u001b[0m \u001b[0;34m'~/./Documents/Harmonizome/PPI Library/Doc and Mapping/HomoloGene.tsv'\u001b[0m\u001b[0;34m\u001b[0m\u001b[0m\n\u001b[0;32m----> 3\u001b[0;31m \u001b[0mmapping\u001b[0m \u001b[0;34m=\u001b[0m \u001b[0mpd\u001b[0m\u001b[0;34m.\u001b[0m\u001b[0mread_csv\u001b[0m\u001b[0;34m(\u001b[0m\u001b[0mmapping_path\u001b[0m\u001b[0;34m,\u001b[0m \u001b[0msep\u001b[0m\u001b[0;34m=\u001b[0m\u001b[0;34m'\\t'\u001b[0m\u001b[0;34m,\u001b[0m \u001b[0mheader\u001b[0m\u001b[0;34m=\u001b[0m\u001b[0;32mNone\u001b[0m\u001b[0;34m)\u001b[0m\u001b[0;34m\u001b[0m\u001b[0m\n\u001b[0m",
      "\u001b[0;32m/home/maayanlab/anaconda3/lib/python3.6/site-packages/pandas/io/parsers.py\u001b[0m in \u001b[0;36mparser_f\u001b[0;34m(filepath_or_buffer, sep, delimiter, header, names, index_col, usecols, squeeze, prefix, mangle_dupe_cols, dtype, engine, converters, true_values, false_values, skipinitialspace, skiprows, nrows, na_values, keep_default_na, na_filter, verbose, skip_blank_lines, parse_dates, infer_datetime_format, keep_date_col, date_parser, dayfirst, iterator, chunksize, compression, thousands, decimal, lineterminator, quotechar, quoting, escapechar, comment, encoding, dialect, tupleize_cols, error_bad_lines, warn_bad_lines, skipfooter, skip_footer, doublequote, delim_whitespace, as_recarray, compact_ints, use_unsigned, low_memory, buffer_lines, memory_map, float_precision)\u001b[0m\n\u001b[1;32m    653\u001b[0m                     skip_blank_lines=skip_blank_lines)\n\u001b[1;32m    654\u001b[0m \u001b[0;34m\u001b[0m\u001b[0m\n\u001b[0;32m--> 655\u001b[0;31m         \u001b[0;32mreturn\u001b[0m \u001b[0m_read\u001b[0m\u001b[0;34m(\u001b[0m\u001b[0mfilepath_or_buffer\u001b[0m\u001b[0;34m,\u001b[0m \u001b[0mkwds\u001b[0m\u001b[0;34m)\u001b[0m\u001b[0;34m\u001b[0m\u001b[0m\n\u001b[0m\u001b[1;32m    656\u001b[0m \u001b[0;34m\u001b[0m\u001b[0m\n\u001b[1;32m    657\u001b[0m     \u001b[0mparser_f\u001b[0m\u001b[0;34m.\u001b[0m\u001b[0m__name__\u001b[0m \u001b[0;34m=\u001b[0m \u001b[0mname\u001b[0m\u001b[0;34m\u001b[0m\u001b[0m\n",
      "\u001b[0;32m/home/maayanlab/anaconda3/lib/python3.6/site-packages/pandas/io/parsers.py\u001b[0m in \u001b[0;36m_read\u001b[0;34m(filepath_or_buffer, kwds)\u001b[0m\n\u001b[1;32m    403\u001b[0m \u001b[0;34m\u001b[0m\u001b[0m\n\u001b[1;32m    404\u001b[0m     \u001b[0;31m# Create the parser.\u001b[0m\u001b[0;34m\u001b[0m\u001b[0;34m\u001b[0m\u001b[0m\n\u001b[0;32m--> 405\u001b[0;31m     \u001b[0mparser\u001b[0m \u001b[0;34m=\u001b[0m \u001b[0mTextFileReader\u001b[0m\u001b[0;34m(\u001b[0m\u001b[0mfilepath_or_buffer\u001b[0m\u001b[0;34m,\u001b[0m \u001b[0;34m**\u001b[0m\u001b[0mkwds\u001b[0m\u001b[0;34m)\u001b[0m\u001b[0;34m\u001b[0m\u001b[0m\n\u001b[0m\u001b[1;32m    406\u001b[0m \u001b[0;34m\u001b[0m\u001b[0m\n\u001b[1;32m    407\u001b[0m     \u001b[0;32mif\u001b[0m \u001b[0mchunksize\u001b[0m \u001b[0;32mor\u001b[0m \u001b[0miterator\u001b[0m\u001b[0;34m:\u001b[0m\u001b[0;34m\u001b[0m\u001b[0m\n",
      "\u001b[0;32m/home/maayanlab/anaconda3/lib/python3.6/site-packages/pandas/io/parsers.py\u001b[0m in \u001b[0;36m__init__\u001b[0;34m(self, f, engine, **kwds)\u001b[0m\n\u001b[1;32m    760\u001b[0m             \u001b[0mself\u001b[0m\u001b[0;34m.\u001b[0m\u001b[0moptions\u001b[0m\u001b[0;34m[\u001b[0m\u001b[0;34m'has_index_names'\u001b[0m\u001b[0;34m]\u001b[0m \u001b[0;34m=\u001b[0m \u001b[0mkwds\u001b[0m\u001b[0;34m[\u001b[0m\u001b[0;34m'has_index_names'\u001b[0m\u001b[0;34m]\u001b[0m\u001b[0;34m\u001b[0m\u001b[0m\n\u001b[1;32m    761\u001b[0m \u001b[0;34m\u001b[0m\u001b[0m\n\u001b[0;32m--> 762\u001b[0;31m         \u001b[0mself\u001b[0m\u001b[0;34m.\u001b[0m\u001b[0m_make_engine\u001b[0m\u001b[0;34m(\u001b[0m\u001b[0mself\u001b[0m\u001b[0;34m.\u001b[0m\u001b[0mengine\u001b[0m\u001b[0;34m)\u001b[0m\u001b[0;34m\u001b[0m\u001b[0m\n\u001b[0m\u001b[1;32m    763\u001b[0m \u001b[0;34m\u001b[0m\u001b[0m\n\u001b[1;32m    764\u001b[0m     \u001b[0;32mdef\u001b[0m \u001b[0mclose\u001b[0m\u001b[0;34m(\u001b[0m\u001b[0mself\u001b[0m\u001b[0;34m)\u001b[0m\u001b[0;34m:\u001b[0m\u001b[0;34m\u001b[0m\u001b[0m\n",
      "\u001b[0;32m/home/maayanlab/anaconda3/lib/python3.6/site-packages/pandas/io/parsers.py\u001b[0m in \u001b[0;36m_make_engine\u001b[0;34m(self, engine)\u001b[0m\n\u001b[1;32m    964\u001b[0m     \u001b[0;32mdef\u001b[0m \u001b[0m_make_engine\u001b[0m\u001b[0;34m(\u001b[0m\u001b[0mself\u001b[0m\u001b[0;34m,\u001b[0m \u001b[0mengine\u001b[0m\u001b[0;34m=\u001b[0m\u001b[0;34m'c'\u001b[0m\u001b[0;34m)\u001b[0m\u001b[0;34m:\u001b[0m\u001b[0;34m\u001b[0m\u001b[0m\n\u001b[1;32m    965\u001b[0m         \u001b[0;32mif\u001b[0m \u001b[0mengine\u001b[0m \u001b[0;34m==\u001b[0m \u001b[0;34m'c'\u001b[0m\u001b[0;34m:\u001b[0m\u001b[0;34m\u001b[0m\u001b[0m\n\u001b[0;32m--> 966\u001b[0;31m             \u001b[0mself\u001b[0m\u001b[0;34m.\u001b[0m\u001b[0m_engine\u001b[0m \u001b[0;34m=\u001b[0m \u001b[0mCParserWrapper\u001b[0m\u001b[0;34m(\u001b[0m\u001b[0mself\u001b[0m\u001b[0;34m.\u001b[0m\u001b[0mf\u001b[0m\u001b[0;34m,\u001b[0m \u001b[0;34m**\u001b[0m\u001b[0mself\u001b[0m\u001b[0;34m.\u001b[0m\u001b[0moptions\u001b[0m\u001b[0;34m)\u001b[0m\u001b[0;34m\u001b[0m\u001b[0m\n\u001b[0m\u001b[1;32m    967\u001b[0m         \u001b[0;32melse\u001b[0m\u001b[0;34m:\u001b[0m\u001b[0;34m\u001b[0m\u001b[0m\n\u001b[1;32m    968\u001b[0m             \u001b[0;32mif\u001b[0m \u001b[0mengine\u001b[0m \u001b[0;34m==\u001b[0m \u001b[0;34m'python'\u001b[0m\u001b[0;34m:\u001b[0m\u001b[0;34m\u001b[0m\u001b[0m\n",
      "\u001b[0;32m/home/maayanlab/anaconda3/lib/python3.6/site-packages/pandas/io/parsers.py\u001b[0m in \u001b[0;36m__init__\u001b[0;34m(self, src, **kwds)\u001b[0m\n\u001b[1;32m   1580\u001b[0m         \u001b[0mkwds\u001b[0m\u001b[0;34m[\u001b[0m\u001b[0;34m'allow_leading_cols'\u001b[0m\u001b[0;34m]\u001b[0m \u001b[0;34m=\u001b[0m \u001b[0mself\u001b[0m\u001b[0;34m.\u001b[0m\u001b[0mindex_col\u001b[0m \u001b[0;32mis\u001b[0m \u001b[0;32mnot\u001b[0m \u001b[0;32mFalse\u001b[0m\u001b[0;34m\u001b[0m\u001b[0m\n\u001b[1;32m   1581\u001b[0m \u001b[0;34m\u001b[0m\u001b[0m\n\u001b[0;32m-> 1582\u001b[0;31m         \u001b[0mself\u001b[0m\u001b[0;34m.\u001b[0m\u001b[0m_reader\u001b[0m \u001b[0;34m=\u001b[0m \u001b[0mparsers\u001b[0m\u001b[0;34m.\u001b[0m\u001b[0mTextReader\u001b[0m\u001b[0;34m(\u001b[0m\u001b[0msrc\u001b[0m\u001b[0;34m,\u001b[0m \u001b[0;34m**\u001b[0m\u001b[0mkwds\u001b[0m\u001b[0;34m)\u001b[0m\u001b[0;34m\u001b[0m\u001b[0m\n\u001b[0m\u001b[1;32m   1583\u001b[0m \u001b[0;34m\u001b[0m\u001b[0m\n\u001b[1;32m   1584\u001b[0m         \u001b[0;31m# XXX\u001b[0m\u001b[0;34m\u001b[0m\u001b[0;34m\u001b[0m\u001b[0m\n",
      "\u001b[0;32mpandas/_libs/parsers.pyx\u001b[0m in \u001b[0;36mpandas._libs.parsers.TextReader.__cinit__ (pandas/_libs/parsers.c:4209)\u001b[0;34m()\u001b[0m\n",
      "\u001b[0;32mpandas/_libs/parsers.pyx\u001b[0m in \u001b[0;36mpandas._libs.parsers.TextReader._setup_parser_source (pandas/_libs/parsers.c:8873)\u001b[0;34m()\u001b[0m\n",
      "\u001b[0;31mFileNotFoundError\u001b[0m: File b'/home/maayanlab/./Documents/Harmonizome/PPI Library/Doc and Mapping/HomoloGene.tsv' does not exist"
     ]
    }
   ],
   "source": [
    "# HOMOLOGENE\n",
    "mapping_path = '~/./Documents/Harmonizome/PPI Library/Doc and Mapping/HomoloGene.tsv'\n",
    "mapping = pd.read_csv(mapping_path, sep='\\t', header=None)"
   ]
  },
  {
   "cell_type": "code",
   "execution_count": null,
   "metadata": {
    "collapsed": true
   },
   "outputs": [],
   "source": [
    "mapping.set_index([0, 1], inplace=True)"
   ]
  },
  {
   "cell_type": "code",
   "execution_count": null,
   "metadata": {},
   "outputs": [],
   "source": [
    "mapping.head()"
   ]
  },
  {
   "cell_type": "markdown",
   "metadata": {},
   "source": [
    "### BioGrid"
   ]
  },
  {
   "cell_type": "code",
   "execution_count": null,
   "metadata": {
    "collapsed": true
   },
   "outputs": [],
   "source": [
    "bioGrid_human = pd.read_csv(path+'ppi_network_biogrid_human_filtered_2017_02_15.tsv', sep='\\t')"
   ]
  },
  {
   "cell_type": "code",
   "execution_count": null,
   "metadata": {},
   "outputs": [],
   "source": [
    "bioGrid_human.head()"
   ]
  },
  {
   "cell_type": "code",
   "execution_count": null,
   "metadata": {
    "collapsed": true
   },
   "outputs": [],
   "source": [
    "bioGrid_mouse = pd.read_csv(path+'ppi_network_biogrid_mouse_filtered_2017_02_15.tsv', sep='\\t')"
   ]
  },
  {
   "cell_type": "code",
   "execution_count": null,
   "metadata": {},
   "outputs": [],
   "source": [
    "bioGrid_mouse.head()"
   ]
  },
  {
   "cell_type": "code",
   "execution_count": null,
   "metadata": {},
   "outputs": [],
   "source": [
    "lst = []\n",
    "\n",
    "for i, index in enumerate(bioGrid_mouse.index):\n",
    "    \n",
    "    progressPercent = ((i+1)/len(bioGrid_mouse.index))*100\n",
    "\n",
    "    sys.stdout.write(\"Progress: %d%%  %d Out of %d   \\r\" % (progressPercent, (i+1), len(bioGrid_mouse.index)))\n",
    "    sys.stdout.flush()\n",
    "    \n",
    "    gene = bioGrid_mouse.ix[index, 'Protein A (gene name)']\n",
    "    if gene in mapping[3].values:\n",
    "        number = mapping[mapping[3] == gene].index\n",
    "        if (number[0][0], 9606) in mapping.index:\n",
    "            if type(mapping.ix[(number[0][0], 9606), 3]) == str:\n",
    "                lst.append(mapping.ix[(number[0][0], 9606), 3])\n",
    "            else:\n",
    "                lst.append(np.nan)  # insert nan if gene maps tp more than one human gene  \n",
    "        else:\n",
    "            lst.append(np.nan)  # insert nan if gene dooesnt map to human gene       \n",
    "    else:\n",
    "        lst.append(np.nan) # insert nan if gene not found in the HOMOLOGENE\n",
    "\n",
    "bioGrid_mouse['Protein A (gene name)'] = lst"
   ]
  },
  {
   "cell_type": "code",
   "execution_count": null,
   "metadata": {},
   "outputs": [],
   "source": [
    "bioGrid_mouse.head()"
   ]
  },
  {
   "cell_type": "code",
   "execution_count": null,
   "metadata": {},
   "outputs": [],
   "source": [
    "lst = []\n",
    "\n",
    "for i, index in enumerate(bioGrid_mouse.index):\n",
    "    \n",
    "    progressPercent = ((i+1)/len(bioGrid_mouse.index))*100\n",
    "\n",
    "    sys.stdout.write(\"Progress: %d%%  %d Out of %d   \\r\" % (progressPercent, (i+1), len(bioGrid_mouse.index)))\n",
    "    sys.stdout.flush()\n",
    "    \n",
    "    gene = bioGrid_mouse.ix[index, 'Protein B (gene name)']\n",
    "    if gene in mapping[3].values:\n",
    "        number = mapping[mapping[3] == gene].index\n",
    "        if (number[0][0], 9606) in mapping.index:\n",
    "            if type(mapping.ix[(number[0][0], 9606), 3]) == str:\n",
    "                lst.append(mapping.ix[(number[0][0], 9606), 3])\n",
    "            else:\n",
    "                lst.append(np.nan)  # insert nan if gene maps tp more than one human gene  \n",
    "        else:\n",
    "            lst.append(np.nan)  # insert nan if gene doesnt map to human gene       \n",
    "    else:\n",
    "        lst.append(np.nan) # insert nan if gene not found in the HOMOLOGENE\n",
    "\n",
    "bioGrid_mouse['Protein B (gene name)'] = lst"
   ]
  },
  {
   "cell_type": "code",
   "execution_count": null,
   "metadata": {},
   "outputs": [],
   "source": [
    "bioGrid_mouse.shape"
   ]
  },
  {
   "cell_type": "code",
   "execution_count": null,
   "metadata": {
    "collapsed": true
   },
   "outputs": [],
   "source": [
    "bioGrid_mouse.dropna(how='any', inplace=True)"
   ]
  },
  {
   "cell_type": "code",
   "execution_count": null,
   "metadata": {},
   "outputs": [],
   "source": [
    "bioGrid_mouse.shape"
   ]
  },
  {
   "cell_type": "code",
   "execution_count": null,
   "metadata": {},
   "outputs": [],
   "source": [
    "bioGrid = bioGrid_human.copy()\n",
    "\n",
    "for i, index in enumerate(bioGrid_mouse.index):\n",
    "    \n",
    "    progressPercent = ((i+1)/len(bioGrid_mouse.index))*100\n",
    "\n",
    "    sys.stdout.write(\"Progress: %d%%  %d Out of %d   \\r\" % (progressPercent, (i+1), len(bioGrid_mouse.index)))\n",
    "    sys.stdout.flush()\n",
    "    \n",
    "    mouse_interaction = bioGrid_mouse.ix[index, ['Protein A (gene name)', 'Protein B (gene name)']].values.tolist()\n",
    "    if mouse_interaction in bioGrid_human[['Protein A (gene name)', 'Protein B (gene name)']].values.tolist():\n",
    "        human_index = bioGrid_human[(bioGrid_human['Protein A (gene name)'] == mouse_interaction[0]) & (bioGrid_human['Protein B (gene name)'] == mouse_interaction[1])].index\n",
    "        mouse_ref = bioGrid_mouse.ix[index, 'PubMed ID']\n",
    "        human_ref = bioGrid_human.ix[index, 'PubMed ID']\n",
    "        ref = ('|').join([mouse_ref, human_ref])\n",
    "        bioGrid.ix[human_index, 'PubMed ID'] = ref\n",
    "    else:\n",
    "        bioGrid.append(bioGrid_mouse.ix[index])"
   ]
  },
  {
   "cell_type": "code",
   "execution_count": null,
   "metadata": {},
   "outputs": [],
   "source": [
    "bioGrid.head()"
   ]
  },
  {
   "cell_type": "markdown",
   "metadata": {},
   "source": [
    "combine dublicate ppis while concatanatig referances"
   ]
  },
  {
   "cell_type": "code",
   "execution_count": null,
   "metadata": {
    "collapsed": true
   },
   "outputs": [],
   "source": [
    "lst = []\n",
    "for index in bioGrid.index:\n",
    "    lst.append(tuple(sorted(tuple((bioGrid.ix[index,'Protein A (gene name)'], bioGrid.ix[index, 'Protein B (gene name)'])))))\n",
    "bioGrid['ppi'] = lst\n",
    "\n",
    "for i,ppi in enumerate(bioGrid['ppi'].unique()):\n",
    "    \n",
    "    progressPercent = ((i+1)/len(bioGrid['ppi'].unique()))*100\n",
    "\n",
    "    sys.stdout.write(\"Progress: %d%%  %d Out of %d   \\r\" % (progressPercent, (i+1), len(bioGrid['ppi'].unique())))\n",
    "    sys.stdout.flush()\n",
    "    \n",
    "    ref = ('|').join(bioGrid.ix[bioGrid[bioGrid['ppi'] == ppi].index, 'PubMed ID'])\n",
    "    bioGrid.ix[bioGrid[bioGrid['ppi'] == ppi].index[0], 'PubMed ID'] = ref\n",
    "    bioGrid.drop(bioGrid[bioGrid['ppi'] == ppi].index[1:], inplace=True)"
   ]
  },
  {
   "cell_type": "markdown",
   "metadata": {},
   "source": [
    "Create SIG File"
   ]
  },
  {
   "cell_type": "code",
   "execution_count": null,
   "metadata": {
    "collapsed": true
   },
   "outputs": [],
   "source": [
    "bio_sig_df = pd.DataFrame(columns=sig_col)\n",
    "\n",
    "bio_sig_df['Source Name'] = bioGrid['Protein A (gene name)']\n",
    "\n",
    "bio_sig_df['Target Name'] = bioGrid['Protein B (gene name)']\n",
    "\n",
    "bio_sig_df['PubMed IDs'] = bioGrid['PubMed ID']\n",
    "\n",
    "bio_sig_df.replace(np.nan, 'NA', inplace=True)\n",
    "\n",
    "bio_ppiSIG = path+'biogrid_ppi_%s.sig'% str(datetime.date.today()).replace('-', '_')\n",
    "bio_sig_df.to_csv(bio_ppiSIG, index=None, header=None, sep='\\t')"
   ]
  },
  {
   "cell_type": "code",
   "execution_count": null,
   "metadata": {},
   "outputs": [],
   "source": [
    "bio_sig_df.head()"
   ]
  },
  {
   "cell_type": "markdown",
   "metadata": {},
   "source": [
    "### DIP"
   ]
  },
  {
   "cell_type": "code",
   "execution_count": null,
   "metadata": {
    "collapsed": true
   },
   "outputs": [],
   "source": [
    "dip_human = pd.read_csv(path+'ppi_network_dip_human_filtered_2017_02_15.tsv', sep='\\t')"
   ]
  },
  {
   "cell_type": "code",
   "execution_count": null,
   "metadata": {},
   "outputs": [],
   "source": [
    "dip_human.head()"
   ]
  },
  {
   "cell_type": "code",
   "execution_count": null,
   "metadata": {
    "collapsed": true
   },
   "outputs": [],
   "source": [
    "dip_mouse = pd.read_csv(path+'ppi_network_dip_mouse_filtered_2017_02_15.tsv', sep='\\t')"
   ]
  },
  {
   "cell_type": "code",
   "execution_count": null,
   "metadata": {},
   "outputs": [],
   "source": [
    "dip_mouse.head()"
   ]
  },
  {
   "cell_type": "code",
   "execution_count": null,
   "metadata": {},
   "outputs": [],
   "source": [
    "lst = []\n",
    "\n",
    "for i, index in enumerate(dip_mouse.index):\n",
    "    \n",
    "    progressPercent = ((i+1)/len(dip_mouse.index))*100\n",
    "\n",
    "    sys.stdout.write(\"Progress: %d%%  %d Out of %d   \\r\" % (progressPercent, (i+1), len(dip_mouse.index)))\n",
    "    sys.stdout.flush()\n",
    "    \n",
    "    gene = dip_mouse.ix[index, 'Protein A (gene name)']\n",
    "    if gene in mapping[3].values:\n",
    "        number = mapping[mapping[3] == gene].index\n",
    "        if (number[0][0], 9606) in mapping.index:\n",
    "            if type(mapping.ix[(number[0][0], 9606), 3]) == str:\n",
    "                lst.append(mapping.ix[(number[0][0], 9606), 3])\n",
    "            else:\n",
    "                lst.append(np.nan)  # insert nan if gene maps tp more than one human gene  \n",
    "        else:\n",
    "            lst.append(np.nan)  # insert nan if gene dooesnt map to human gene       \n",
    "    else:\n",
    "        lst.append(np.nan) # insert nan if gene not found in the HOMOLOGENE\n",
    "\n",
    "dip_mouse['Protein A (gene name)'] = lst"
   ]
  },
  {
   "cell_type": "code",
   "execution_count": null,
   "metadata": {},
   "outputs": [],
   "source": [
    "lst = []\n",
    "\n",
    "for i, index in enumerate(dip_mouse.index):\n",
    "    \n",
    "    progressPercent = ((i+1)/len(dip_mouse.index))*100\n",
    "\n",
    "    sys.stdout.write(\"Progress: %d%%  %d Out of %d   \\r\" % (progressPercent, (i+1), len(dip_mouse.index)))\n",
    "    sys.stdout.flush()\n",
    "    \n",
    "    gene = dip_mouse.ix[index, 'Protein B (gene name)']\n",
    "    if gene in mapping[3].values:\n",
    "        number = mapping[mapping[3] == gene].index\n",
    "        if (number[0][0], 9606) in mapping.index:\n",
    "            if type(mapping.ix[(number[0][0], 9606), 3]) == str:\n",
    "                lst.append(mapping.ix[(number[0][0], 9606), 3])\n",
    "            else:\n",
    "                lst.append(np.nan)  # insert nan if gene maps tp more than one human gene  \n",
    "        else:\n",
    "            lst.append(np.nan)  # insert nan if gene doesnt map to human gene       \n",
    "    else:\n",
    "        lst.append(np.nan) # insert nan if gene not found in the HOMOLOGENE\n",
    "\n",
    "dip_mouse['Protein B (gene name)'] = lst"
   ]
  },
  {
   "cell_type": "code",
   "execution_count": null,
   "metadata": {},
   "outputs": [],
   "source": [
    "dip_mouse.shape"
   ]
  },
  {
   "cell_type": "code",
   "execution_count": null,
   "metadata": {
    "collapsed": true
   },
   "outputs": [],
   "source": [
    "dip_mouse.dropna(how='any', inplace=True)"
   ]
  },
  {
   "cell_type": "code",
   "execution_count": null,
   "metadata": {},
   "outputs": [],
   "source": [
    "dip_mouse.shape"
   ]
  },
  {
   "cell_type": "code",
   "execution_count": null,
   "metadata": {},
   "outputs": [],
   "source": [
    "dip = dip_human.copy()\n",
    "\n",
    "for i, index in enumerate(dip_mouse.index):\n",
    "    \n",
    "    progressPercent = ((i+1)/len(dip_mouse.index))*100\n",
    "\n",
    "    sys.stdout.write(\"Progress: %d%%  %d Out of %d   \\r\" % (progressPercent, (i+1), len(dip_mouse.index)))\n",
    "    sys.stdout.flush()\n",
    "    \n",
    "    mouse_interaction = dip_mouse.ix[index, ['Protein A (gene name)', 'Protein B (gene name)']].values.tolist()\n",
    "    if mouse_interaction in dip_human[['Protein A (gene name)', 'Protein B (gene name)']].values.tolist():\n",
    "        human_index = dip_human[(dip_human['Protein A (gene name)'] == mouse_interaction[0]) & (dip_human['Protein B (gene name)'] == mouse_interaction[1])].index\n",
    "        mouse_ref = dip_mouse.ix[index, 'PubMed ID']\n",
    "        human_ref = dip_human.ix[index, 'PubMed ID']\n",
    "        ref = ('|').join([mouse_ref, human_ref])\n",
    "        dip.ix[human_index, 'PubMed ID'] = ref\n",
    "    else:\n",
    "        dip.append(dip_mouse.ix[index])"
   ]
  },
  {
   "cell_type": "code",
   "execution_count": null,
   "metadata": {},
   "outputs": [],
   "source": [
    "lst = []\n",
    "for index in dip.index:\n",
    "    lst.append(tuple(sorted(tuple((dip.ix[index,'Protein A (gene name)'], dip.ix[index, 'Protein B (gene name)'])))))\n",
    "dip['ppi'] = lst\n",
    "\n",
    "for i,ppi in enumerate(dip['ppi'].unique()):\n",
    "    \n",
    "    progressPercent = ((i+1)/len(dip['ppi'].unique()))*100\n",
    "\n",
    "    sys.stdout.write(\"Progress: %d%%  %d Out of %d   \\r\" % (progressPercent, (i+1), len(dip['ppi'].unique())))\n",
    "    sys.stdout.flush()\n",
    "    \n",
    "    ref = ('|').join(dip.ix[dip[dip['ppi'] == ppi].index, 'PubMed ID'])\n",
    "    dip.ix[dip[dip['ppi'] == ppi].index[0], 'PubMed ID'] = ref\n",
    "    dip.drop(dip[dip['ppi'] == ppi].index[1:], inplace=True)"
   ]
  },
  {
   "cell_type": "code",
   "execution_count": null,
   "metadata": {
    "collapsed": true
   },
   "outputs": [],
   "source": [
    "dip_sig_df = pd.DataFrame(columns=sig_col)\n",
    "\n",
    "dip_sig_df['Source Name'] = dip['Protein A (gene name)']\n",
    "\n",
    "dip_sig_df['Target Name'] = dip['Protein B (gene name)']\n",
    "\n",
    "dip_sig_df['PubMed IDs'] = dip['PubMed ID']\n",
    "\n",
    "dip_sig_df.replace(np.nan, 'NA', inplace=True)\n",
    "\n",
    "dip_ppiSIG = path+'dip_ppi_%s.sig'% str(datetime.date.today()).replace('-', '_')\n",
    "dip_sig_df.to_csv(dip_ppiSIG, index=None, header=None, sep='\\t')"
   ]
  },
  {
   "cell_type": "markdown",
   "metadata": {},
   "source": [
    "# MINT"
   ]
  },
  {
   "cell_type": "code",
   "execution_count": null,
   "metadata": {
    "collapsed": true
   },
   "outputs": [],
   "source": [
    "mint_human = pd.read_csv(path+'ppi_network_mint_human_filtered_2017_02_16.tsv', sep='\\t')"
   ]
  },
  {
   "cell_type": "code",
   "execution_count": null,
   "metadata": {
    "collapsed": true
   },
   "outputs": [],
   "source": [
    "mint_mouse = pd.read_csv(path+'ppi_network_mint_mouse_filtered_2017_02_15.tsv', sep='\\t')"
   ]
  },
  {
   "cell_type": "code",
   "execution_count": null,
   "metadata": {},
   "outputs": [],
   "source": [
    "lst = []\n",
    "\n",
    "for i, index in enumerate(mint_mouse.index):\n",
    "    \n",
    "    progressPercent = ((i+1)/len(mint_mouse.index))*100\n",
    "\n",
    "    sys.stdout.write(\"Progress: %d%%  %d Out of %d   \\r\" % (progressPercent, (i+1), len(mint_mouse.index)))\n",
    "    sys.stdout.flush()\n",
    "    \n",
    "    gene = mint_mouse.ix[index, 'Protein A (gene name)']\n",
    "    if gene in mapping[3].values:\n",
    "        number = mapping[mapping[3] == gene].index\n",
    "        if (number[0][0], 9606) in mapping.index:\n",
    "            if type(mapping.ix[(number[0][0], 9606), 3]) == str:\n",
    "                lst.append(mapping.ix[(number[0][0], 9606), 3])\n",
    "            else:\n",
    "                lst.append(np.nan)  # insert nan if gene maps tp more than one human gene  \n",
    "        else:\n",
    "            lst.append(np.nan)  # insert nan if gene dooesnt map to human gene       \n",
    "    else:\n",
    "        lst.append(np.nan) # insert nan if gene not found in the HOMOLOGENE\n",
    "\n",
    "mint_mouse['Protein A (gene name)'] = lst"
   ]
  },
  {
   "cell_type": "code",
   "execution_count": null,
   "metadata": {},
   "outputs": [],
   "source": [
    "lst = []\n",
    "\n",
    "for i, index in enumerate(mint_mouse.index):\n",
    "    \n",
    "    progressPercent = ((i+1)/len(mint_mouse.index))*100\n",
    "\n",
    "    sys.stdout.write(\"Progress: %d%%  %d Out of %d   \\r\" % (progressPercent, (i+1), len(mint_mouse.index)))\n",
    "    sys.stdout.flush()\n",
    "    \n",
    "    gene = mint_mouse.ix[index, 'Protein B (gene name)']\n",
    "    if gene in mapping[3].values:\n",
    "        number = mapping[mapping[3] == gene].index\n",
    "        if (number[0][0], 9606) in mapping.index:\n",
    "            if type(mapping.ix[(number[0][0], 9606), 3]) == str:\n",
    "                lst.append(mapping.ix[(number[0][0], 9606), 3])\n",
    "            else:\n",
    "                lst.append(np.nan)  # insert nan if gene maps tp more than one human gene  \n",
    "        else:\n",
    "            lst.append(np.nan)  # insert nan if gene dooesnt map to human gene       \n",
    "    else:\n",
    "        lst.append(np.nan) # insert nan if gene not found in the HOMOLOGENE\n",
    "\n",
    "mint_mouse['Protein B (gene name)'] = lst"
   ]
  },
  {
   "cell_type": "code",
   "execution_count": null,
   "metadata": {},
   "outputs": [],
   "source": [
    "mint_mouse.shape"
   ]
  },
  {
   "cell_type": "code",
   "execution_count": null,
   "metadata": {
    "collapsed": true
   },
   "outputs": [],
   "source": [
    "mint_mouse.dropna(how='any', inplace=True)"
   ]
  },
  {
   "cell_type": "code",
   "execution_count": null,
   "metadata": {},
   "outputs": [],
   "source": [
    "mint_mouse.shape"
   ]
  },
  {
   "cell_type": "code",
   "execution_count": null,
   "metadata": {},
   "outputs": [],
   "source": [
    "mint = mint_human.copy()\n",
    "\n",
    "for i, index in enumerate(mint_mouse.index):\n",
    "    \n",
    "    progressPercent = ((i+1)/len(mint_mouse.index))*100\n",
    "\n",
    "    sys.stdout.write(\"Progress: %d%%  %d Out of %d   \\r\" % (progressPercent, (i+1), len(mint_mouse.index)))\n",
    "    sys.stdout.flush()\n",
    "    \n",
    "    mouse_interaction = mint_mouse.ix[index, ['Protein A (gene name)', 'Protein B (gene name)']].values.tolist()\n",
    "    if mouse_interaction in mint_human[['Protein A (gene name)', 'Protein B (gene name)']].values.tolist():\n",
    "        human_index = mint_human[(mint_human['Protein A (gene name)'] == mouse_interaction[0]) & (mint_human['Protein B (gene name)'] == mouse_interaction[1])].index\n",
    "        mouse_ref = mint_mouse.ix[index, 'PubMed ID']\n",
    "        human_ref = mint_human.ix[index, 'PubMed ID']\n",
    "        ref = ('|').join([mouse_ref, human_ref])\n",
    "        mint.ix[human_index, 'PubMed ID'] = ref\n",
    "    else:\n",
    "        mint.append(mint_mouse.ix[index])"
   ]
  },
  {
   "cell_type": "code",
   "execution_count": null,
   "metadata": {},
   "outputs": [],
   "source": [
    "lst = []\n",
    "for index in mint.index:\n",
    "    lst.append(tuple(sorted(tuple((mint.ix[index,'Protein A (gene name)'], mint.ix[index, 'Protein B (gene name)'])))))\n",
    "mint['ppi'] = lst\n",
    "\n",
    "for i,ppi in enumerate(mint['ppi'].unique()):\n",
    "    \n",
    "    progressPercent = ((i+1)/len(mint['ppi'].unique()))*100\n",
    "\n",
    "    sys.stdout.write(\"Progress: %d%%  %d Out of %d   \\r\" % (progressPercent, (i+1), len(mint['ppi'].unique())))\n",
    "    sys.stdout.flush()\n",
    "    \n",
    "    ref = ('|').join(mint.ix[mint[mint['ppi'] == ppi].index, 'PubMed ID'])\n",
    "    mint.ix[mint[mint['ppi'] == ppi].index[0], 'PubMed ID'] = ref\n",
    "    mint.drop(mint[mint['ppi'] == ppi].index[1:], inplace=True)"
   ]
  },
  {
   "cell_type": "code",
   "execution_count": null,
   "metadata": {
    "collapsed": true
   },
   "outputs": [],
   "source": [
    "mint_sig_df = pd.DataFrame(columns=sig_col)\n",
    "\n",
    "mint_sig_df['Source Name'] = mint['Protein A (gene name)']\n",
    "\n",
    "mint_sig_df['Target Name'] = mint['Protein B (gene name)']\n",
    "\n",
    "mint_sig_df['PubMed IDs'] = mint['PubMed ID']\n",
    "\n",
    "mint_sig_df.replace(np.nan, 'NA', inplace=True)\n",
    "\n",
    "mint_ppiSIG = path+'mint_ppi_%s.sig'% str(datetime.date.today()).replace('-', '_')\n",
    "mint_sig_df.to_csv(mint_ppiSIG, index=None, header=None, sep='\\t')"
   ]
  },
  {
   "cell_type": "markdown",
   "metadata": {},
   "source": [
    "# InnateDB"
   ]
  },
  {
   "cell_type": "code",
   "execution_count": null,
   "metadata": {
    "collapsed": true
   },
   "outputs": [],
   "source": [
    "innatedb_human = pd.read_csv(path+'ppi_network_innatedb_human_filtered_2017_02_15.tsv', sep='\\t')"
   ]
  },
  {
   "cell_type": "code",
   "execution_count": null,
   "metadata": {
    "collapsed": true
   },
   "outputs": [],
   "source": [
    "innatedb_mouse = pd.read_csv(path+'ppi_network_innatedb_mouse_filtered_2017_02_15.tsv', sep='\\t')"
   ]
  },
  {
   "cell_type": "code",
   "execution_count": null,
   "metadata": {},
   "outputs": [],
   "source": [
    "lst = []\n",
    "\n",
    "for i, index in enumerate(innatedb_mouse.index):\n",
    "    \n",
    "    progressPercent = ((i+1)/len(innatedb_mouse.index))*100\n",
    "\n",
    "    sys.stdout.write(\"Progress: %d%%  %d Out of %d   \\r\" % (progressPercent, (i+1), len(innatedb_mouse.index)))\n",
    "    sys.stdout.flush()\n",
    "    \n",
    "    gene = innatedb_mouse.ix[index, 'Protein A (gene name)']\n",
    "    if gene in mapping[3].values:\n",
    "        number = mapping[mapping[3] == gene].index\n",
    "        if (number[0][0], 9606) in mapping.index:\n",
    "            if type(mapping.ix[(number[0][0], 9606), 3]) == str:\n",
    "                lst.append(mapping.ix[(number[0][0], 9606), 3])\n",
    "            else:\n",
    "                lst.append(np.nan)  # insert nan if gene maps tp more than one human gene  \n",
    "        else:\n",
    "            lst.append(np.nan)  # insert nan if gene dooesnt map to human gene       \n",
    "    else:\n",
    "        lst.append(np.nan) # insert nan if gene not found in the HOMOLOGENE\n",
    "\n",
    "innatedb_mouse['Protein A (gene name)'] = lst"
   ]
  },
  {
   "cell_type": "code",
   "execution_count": null,
   "metadata": {},
   "outputs": [],
   "source": [
    "lst = []\n",
    "\n",
    "for i, index in enumerate(innatedb_mouse.index):\n",
    "    \n",
    "    progressPercent = ((i+1)/len(innatedb_mouse.index))*100\n",
    "\n",
    "    sys.stdout.write(\"Progress: %d%%  %d Out of %d   \\r\" % (progressPercent, (i+1), len(innatedb_mouse.index)))\n",
    "    sys.stdout.flush()\n",
    "    \n",
    "    gene = innatedb_mouse.ix[index, 'Protein B (gene name)']\n",
    "    if gene in mapping[3].values:\n",
    "        number = mapping[mapping[3] == gene].index\n",
    "        if (number[0][0], 9606) in mapping.index:\n",
    "            if type(mapping.ix[(number[0][0], 9606), 3]) == str:\n",
    "                lst.append(mapping.ix[(number[0][0], 9606), 3])\n",
    "            else:\n",
    "                lst.append(np.nan)  # insert nan if gene maps tp more than one human gene  \n",
    "        else:\n",
    "            lst.append(np.nan)  # insert nan if gene dooesnt map to human gene       \n",
    "    else:\n",
    "        lst.append(np.nan) # insert nan if gene not found in the HOMOLOGENE\n",
    "\n",
    "innatedb_mouse['Protein B (gene name)'] = lst"
   ]
  },
  {
   "cell_type": "code",
   "execution_count": null,
   "metadata": {},
   "outputs": [],
   "source": [
    "innatedb_mouse.shape"
   ]
  },
  {
   "cell_type": "code",
   "execution_count": null,
   "metadata": {
    "collapsed": true
   },
   "outputs": [],
   "source": [
    "innatedb_mouse.dropna(how='any', inplace=True)"
   ]
  },
  {
   "cell_type": "code",
   "execution_count": null,
   "metadata": {},
   "outputs": [],
   "source": [
    "innatedb_mouse.shape"
   ]
  },
  {
   "cell_type": "code",
   "execution_count": null,
   "metadata": {},
   "outputs": [],
   "source": [
    "innatedb = innatedb_human.copy()\n",
    "\n",
    "for i, index in enumerate(innatedb_mouse.index):\n",
    "    \n",
    "    progressPercent = ((i+1)/len(innatedb_mouse.index))*100\n",
    "\n",
    "    sys.stdout.write(\"Progress: %d%%  %d Out of %d   \\r\" % (progressPercent, (i+1), len(innatedb_mouse.index)))\n",
    "    sys.stdout.flush()\n",
    "    \n",
    "    mouse_interaction = innatedb_mouse.ix[index, ['Protein A (gene name)', 'Protein B (gene name)']].values.tolist()\n",
    "    if mouse_interaction in innatedb_human[['Protein A (gene name)', 'Protein B (gene name)']].values.tolist():\n",
    "        human_index = innatedb_human[(innatedb_human['Protein A (gene name)'] == mouse_interaction[0]) & (innatedb_human['Protein B (gene name)'] == mouse_interaction[1])].index\n",
    "        mouse_ref = innatedb_mouse.ix[index, 'PubMed ID']\n",
    "        human_ref = innatedb_human.ix[index, 'PubMed ID']\n",
    "        ref = ('|').join([mouse_ref, human_ref])\n",
    "        innatedb.ix[human_index, 'PubMed ID'] = ref\n",
    "    else:\n",
    "        innatedb.append(innatedb_mouse.ix[index])"
   ]
  },
  {
   "cell_type": "code",
   "execution_count": null,
   "metadata": {},
   "outputs": [],
   "source": [
    "lst = []\n",
    "for index in innatedb.index:\n",
    "    lst.append(tuple(sorted(tuple((innatedb.ix[index,'Protein A (gene name)'], innatedb.ix[index, 'Protein B (gene name)'])))))\n",
    "innatedb['ppi'] = lst\n",
    "\n",
    "for i,ppi in enumerate(innatedb['ppi'].unique()):\n",
    "    \n",
    "    progressPercent = ((i+1)/len(innatedb['ppi'].unique()))*100\n",
    "\n",
    "    sys.stdout.write(\"Progress: %d%%  %d Out of %d   \\r\" % (progressPercent, (i+1), len(innatedb['ppi'].unique())))\n",
    "    sys.stdout.flush()\n",
    "    \n",
    "    ref = ('|').join(innatedb.ix[innatedb[innatedb['ppi'] == ppi].index, 'PubMed ID'])\n",
    "    innatedb.ix[innatedb[innatedb['ppi'] == ppi].index[0], 'PubMed ID'] = ref\n",
    "    innatedb.drop(innatedb[innatedb['ppi'] == ppi].index[1:], inplace=True)"
   ]
  },
  {
   "cell_type": "code",
   "execution_count": null,
   "metadata": {
    "collapsed": true
   },
   "outputs": [],
   "source": [
    "innatedb_sig_df = pd.DataFrame(columns=sig_col)\n",
    "\n",
    "innatedb_sig_df['Source Name'] = innatedb['Protein A (gene name)']\n",
    "\n",
    "innatedb_sig_df['Target Name'] = innatedb['Protein B (gene name)']\n",
    "\n",
    "innatedb_sig_df['PubMed IDs'] = innatedb['PubMed ID']\n",
    "\n",
    "innatedb_sig_df.replace(np.nan, 'NA', inplace=True)\n",
    "\n",
    "innatedb_ppiSIG = path+'innatedb_ppi_%s.sig'% str(datetime.date.today()).replace('-', '_')\n",
    "innatedb_sig_df.to_csv(innatedb_ppiSIG, index=None, header=None, sep='\\t')"
   ]
  },
  {
   "cell_type": "markdown",
   "metadata": {},
   "source": [
    "# Intact"
   ]
  },
  {
   "cell_type": "code",
   "execution_count": null,
   "metadata": {
    "collapsed": true
   },
   "outputs": [],
   "source": [
    "intact_human = pd.read_csv(path+'ppi_network_intact_human_filtered_2017_02_16.tsv', sep='\\t')"
   ]
  },
  {
   "cell_type": "code",
   "execution_count": null,
   "metadata": {
    "collapsed": true
   },
   "outputs": [],
   "source": [
    "intact_mouse = pd.read_csv(path+'ppi_network_intact_mouse_filtered_2017_02_15.tsv', sep='\\t')"
   ]
  },
  {
   "cell_type": "code",
   "execution_count": null,
   "metadata": {},
   "outputs": [],
   "source": [
    "lst = []\n",
    "\n",
    "for i, index in enumerate(intact_mouse.index):\n",
    "    \n",
    "    progressPercent = ((i+1)/len(intact_mouse.index))*100\n",
    "\n",
    "    sys.stdout.write(\"Progress: %d%%  %d Out of %d   \\r\" % (progressPercent, (i+1), len(intact_mouse.index)))\n",
    "    sys.stdout.flush()\n",
    "    \n",
    "    gene = intact_mouse.ix[index, 'Protein A (gene name)']\n",
    "    if gene in mapping[3].values:\n",
    "        number = mapping[mapping[3] == gene].index\n",
    "        if (number[0][0], 9606) in mapping.index:\n",
    "            if type(mapping.ix[(number[0][0], 9606), 3]) == str:\n",
    "                lst.append(mapping.ix[(number[0][0], 9606), 3])\n",
    "            else:\n",
    "                lst.append(np.nan)  # insert nan if gene maps tp more than one human gene  \n",
    "        else:\n",
    "            lst.append(np.nan)  # insert nan if gene dooesnt map to human gene       \n",
    "    else:\n",
    "        lst.append(np.nan) # insert nan if gene not found in the HOMOLOGENE\n",
    "\n",
    "intact_mouse['Protein A (gene name)'] = lst"
   ]
  },
  {
   "cell_type": "code",
   "execution_count": null,
   "metadata": {},
   "outputs": [],
   "source": [
    "lst = []\n",
    "\n",
    "for i, index in enumerate(intact_mouse.index):\n",
    "    \n",
    "    progressPercent = ((i+1)/len(intact_mouse.index))*100\n",
    "\n",
    "    sys.stdout.write(\"Progress: %d%%  %d Out of %d   \\r\" % (progressPercent, (i+1), len(intact_mouse.index)))\n",
    "    sys.stdout.flush()\n",
    "    \n",
    "    gene = intact_mouse.ix[index, 'Protein B (gene name)']\n",
    "    if gene in mapping[3].values:\n",
    "        number = mapping[mapping[3] == gene].index\n",
    "        if (number[0][0], 9606) in mapping.index:\n",
    "            if type(mapping.ix[(number[0][0], 9606), 3]) == str:\n",
    "                lst.append(mapping.ix[(number[0][0], 9606), 3])\n",
    "            else:\n",
    "                lst.append(np.nan)  # insert nan if gene maps tp more than one human gene  \n",
    "        else:\n",
    "            lst.append(np.nan)  # insert nan if gene dooesnt map to human gene       \n",
    "    else:\n",
    "        lst.append(np.nan) # insert nan if gene not found in the HOMOLOGENE\n",
    "\n",
    "intact_mouse['Protein B (gene name)'] = lst"
   ]
  },
  {
   "cell_type": "code",
   "execution_count": null,
   "metadata": {},
   "outputs": [],
   "source": [
    "intact_mouse.shape"
   ]
  },
  {
   "cell_type": "code",
   "execution_count": null,
   "metadata": {
    "collapsed": true
   },
   "outputs": [],
   "source": [
    "intact_mouse.dropna(how='any', inplace=True)"
   ]
  },
  {
   "cell_type": "code",
   "execution_count": null,
   "metadata": {},
   "outputs": [],
   "source": [
    "intact_mouse.shape"
   ]
  },
  {
   "cell_type": "code",
   "execution_count": null,
   "metadata": {},
   "outputs": [],
   "source": [
    "intact = intact_human.copy()\n",
    "\n",
    "for i, index in enumerate(intact_mouse.index):\n",
    "    \n",
    "    progressPercent = ((i+1)/len(intact_mouse.index))*100\n",
    "\n",
    "    sys.stdout.write(\"Progress: %d%%  %d Out of %d   \\r\" % (progressPercent, (i+1), len(intact_mouse.index)))\n",
    "    sys.stdout.flush()\n",
    "    \n",
    "    mouse_interaction = intact_mouse.ix[index, ['Protein A (gene name)', 'Protein B (gene name)']].values.tolist()\n",
    "    if mouse_interaction in intact_human[['Protein A (gene name)', 'Protein B (gene name)']].values.tolist():\n",
    "        human_index = intact_human[(intact_human['Protein A (gene name)'] == mouse_interaction[0]) & (intact_human['Protein B (gene name)'] == mouse_interaction[1])].index\n",
    "        mouse_ref = intact_mouse.ix[index, 'PubMed ID']\n",
    "        human_ref = intact_human.ix[index, 'PubMed ID']\n",
    "        ref = ('|').join([mouse_ref, human_ref])\n",
    "        intact.ix[human_index, 'PubMed ID'] = ref\n",
    "    else:\n",
    "        intact.append(intact_mouse.ix[index])"
   ]
  },
  {
   "cell_type": "code",
   "execution_count": null,
   "metadata": {},
   "outputs": [],
   "source": [
    "lst = []\n",
    "for index in intact.index:\n",
    "    lst.append(tuple(sorted(tuple((intact.ix[index,'Protein A (gene name)'], intact.ix[index, 'Protein B (gene name)'])))))\n",
    "intact['ppi'] = lst\n",
    "\n",
    "for i,ppi in enumerate(intact['ppi'].unique()):\n",
    "    \n",
    "    progressPercent = ((i+1)/len(intact['ppi'].unique()))*100\n",
    "\n",
    "    sys.stdout.write(\"Progress: %d%%  %d Out of %d   \\r\" % (progressPercent, (i+1), len(intact['ppi'].unique())))\n",
    "    sys.stdout.flush()\n",
    "    \n",
    "    ref = ('|').join(intact.ix[intact[intact['ppi'] == ppi].index, 'PubMed ID'])\n",
    "    intact.ix[intact[intact['ppi'] == ppi].index[0], 'PubMed ID'] = ref\n",
    "    intact.drop(intact[intact['ppi'] == ppi].index[1:], inplace=True)"
   ]
  },
  {
   "cell_type": "code",
   "execution_count": null,
   "metadata": {
    "collapsed": true
   },
   "outputs": [],
   "source": [
    "intact_sig_df = pd.DataFrame(columns=sig_col)\n",
    "\n",
    "intact_sig_df['Source Name'] = intact['Protein A (gene name)']\n",
    "\n",
    "intact_sig_df['Target Name'] = intact['Protein B (gene name)']\n",
    "\n",
    "intact_sig_df['PubMed IDs'] = intact['PubMed ID']\n",
    "\n",
    "intact_sig_df.replace(np.nan, 'NA', inplace=True)\n",
    "\n",
    "intact_ppiSIG = path+'intact_ppi_%s.sig'% str(datetime.date.today()).replace('-', '_')\n",
    "intact_sig_df.to_csv(intact_ppiSIG, index=None, header=None, sep='\\t')"
   ]
  },
  {
   "cell_type": "markdown",
   "metadata": {},
   "source": [
    "# Mentha"
   ]
  },
  {
   "cell_type": "code",
   "execution_count": null,
   "metadata": {
    "collapsed": true
   },
   "outputs": [],
   "source": [
    "mentha_human = pd.read_csv(path+'ppi_network_mentha_human_filtered_2017_02_15.tsv', sep='\\t')"
   ]
  },
  {
   "cell_type": "code",
   "execution_count": null,
   "metadata": {
    "collapsed": true
   },
   "outputs": [],
   "source": [
    "mentha_mouse = pd.read_csv(path+'ppi_network_mentha_mouse_filtered_2017_02_15.tsv', sep='\\t')"
   ]
  },
  {
   "cell_type": "code",
   "execution_count": null,
   "metadata": {},
   "outputs": [],
   "source": [
    "lst = []\n",
    "\n",
    "for i, index in enumerate(mentha_mouse.index):\n",
    "    \n",
    "    progressPercent = ((i+1)/len(mentha_mouse.index))*100\n",
    "\n",
    "    sys.stdout.write(\"Progress: %d%%  %d Out of %d   \\r\" % (progressPercent, (i+1), len(mentha_mouse.index)))\n",
    "    sys.stdout.flush()\n",
    "    \n",
    "    gene = mentha_mouse.ix[index, 'Protein A (gene name)']\n",
    "    if gene in mapping[3].values:\n",
    "        number = mapping[mapping[3] == gene].index\n",
    "        if (number[0][0], 9606) in mapping.index:\n",
    "            if type(mapping.ix[(number[0][0], 9606), 3]) == str:\n",
    "                lst.append(mapping.ix[(number[0][0], 9606), 3])\n",
    "            else:\n",
    "                lst.append(np.nan)  # insert nan if gene maps tp more than one human gene  \n",
    "        else:\n",
    "            lst.append(np.nan)  # insert nan if gene dooesnt map to human gene       \n",
    "    else:\n",
    "        lst.append(np.nan) # insert nan if gene not found in the HOMOLOGENE\n",
    "\n",
    "mentha_mouse['Protein A (gene name)'] = lst"
   ]
  },
  {
   "cell_type": "code",
   "execution_count": null,
   "metadata": {},
   "outputs": [],
   "source": [
    "lst = []\n",
    "\n",
    "for i, index in enumerate(mentha_mouse.index):\n",
    "    \n",
    "    progressPercent = ((i+1)/len(mentha_mouse.index))*100\n",
    "\n",
    "    sys.stdout.write(\"Progress: %d%%  %d Out of %d   \\r\" % (progressPercent, (i+1), len(mentha_mouse.index)))\n",
    "    sys.stdout.flush()\n",
    "    \n",
    "    gene = mentha_mouse.ix[index, 'Protein B (gene name)']\n",
    "    if gene in mapping[3].values:\n",
    "        number = mapping[mapping[3] == gene].index\n",
    "        if (number[0][0], 9606) in mapping.index:\n",
    "            if type(mapping.ix[(number[0][0], 9606), 3]) == str:\n",
    "                lst.append(mapping.ix[(number[0][0], 9606), 3])\n",
    "            else:\n",
    "                lst.append(np.nan)  # insert nan if gene maps tp more than one human gene  \n",
    "        else:\n",
    "            lst.append(np.nan)  # insert nan if gene dooesnt map to human gene       \n",
    "    else:\n",
    "        lst.append(np.nan) # insert nan if gene not found in the HOMOLOGENE\n",
    "\n",
    "mentha_mouse['Protein B (gene name)'] = lst"
   ]
  },
  {
   "cell_type": "code",
   "execution_count": null,
   "metadata": {},
   "outputs": [],
   "source": [
    "mentha_mouse.shape"
   ]
  },
  {
   "cell_type": "code",
   "execution_count": null,
   "metadata": {
    "collapsed": true
   },
   "outputs": [],
   "source": [
    "mentha_mouse.dropna(how='any', inplace=True)"
   ]
  },
  {
   "cell_type": "code",
   "execution_count": null,
   "metadata": {},
   "outputs": [],
   "source": [
    "mentha_mouse.shape"
   ]
  },
  {
   "cell_type": "code",
   "execution_count": null,
   "metadata": {},
   "outputs": [],
   "source": [
    "mentha = mentha_human.copy()\n",
    "\n",
    "for i, index in enumerate(mentha_mouse.index):\n",
    "    \n",
    "    progressPercent = ((i+1)/len(mentha_mouse.index))*100\n",
    "\n",
    "    sys.stdout.write(\"Progress: %d%%  %d Out of %d   \\r\" % (progressPercent, (i+1), len(mentha_mouse.index)))\n",
    "    sys.stdout.flush()\n",
    "    \n",
    "    mouse_interaction = mentha_mouse.ix[index, ['Protein A (gene name)', 'Protein B (gene name)']].values.tolist()\n",
    "    if mouse_interaction in mentha_human[['Protein A (gene name)', 'Protein B (gene name)']].values.tolist():\n",
    "        human_index = mentha_human[(mentha_human['Protein A (gene name)'] == mouse_interaction[0]) & (mentha_human['Protein B (gene name)'] == mouse_interaction[1])].index\n",
    "        mouse_ref = mentha_mouse.ix[index, 'PubMed ID']\n",
    "        human_ref = mentha_human.ix[index, 'PubMed ID']\n",
    "        ref = ('|').join([mouse_ref, human_ref])\n",
    "        mentha.ix[human_index, 'PubMed ID'] = ref\n",
    "    else:\n",
    "        mentha.append(mentha_mouse.ix[index])"
   ]
  },
  {
   "cell_type": "code",
   "execution_count": null,
   "metadata": {},
   "outputs": [],
   "source": [
    "lst = []\n",
    "for index in mentha.index:\n",
    "    lst.append(tuple(sorted(tuple((mentha.ix[index,'Protein A (gene name)'], mentha.ix[index, 'Protein B (gene name)'])))))\n",
    "mentha['ppi'] = lst\n",
    "\n",
    "for i,ppi in enumerate(mentha['ppi'].unique()):\n",
    "    \n",
    "    progressPercent = ((i+1)/len(mentha['ppi'].unique()))*100\n",
    "\n",
    "    sys.stdout.write(\"Progress: %d%%  %d Out of %d   \\r\" % (progressPercent, (i+1), len(mentha['ppi'].unique())))\n",
    "    sys.stdout.flush()\n",
    "    \n",
    "    ref = ('|').join(mentha.ix[mentha[mentha['ppi'] == ppi].index, 'PubMed ID'])\n",
    "    mentha.ix[mentha[mentha['ppi'] == ppi].index[0], 'PubMed ID'] = ref\n",
    "    mentha.drop(mentha[mentha['ppi'] == ppi].index[1:], inplace=True)"
   ]
  },
  {
   "cell_type": "code",
   "execution_count": null,
   "metadata": {
    "collapsed": true
   },
   "outputs": [],
   "source": [
    "mentha_sig_df = pd.DataFrame(columns=sig_col)\n",
    "\n",
    "mentha_sig_df['Source Name'] = mentha['Protein A (gene name)']\n",
    "\n",
    "mentha_sig_df['Target Name'] = mentha['Protein B (gene name)']\n",
    "\n",
    "mentha_sig_df['PubMed IDs'] = mentha['PubMed ID']\n",
    "\n",
    "mentha_sig_df.replace(np.nan, 'NA', inplace=True)\n",
    "\n",
    "mentha_ppiSIG = path+'mentha_ppi_%s.sig'% str(datetime.date.today()).replace('-', '_')\n",
    "mentha_sig_df.to_csv(mentha_ppiSIG, index=None, header=None, sep='\\t')"
   ]
  },
  {
   "cell_type": "markdown",
   "metadata": {},
   "source": [
    "# Kea"
   ]
  },
  {
   "cell_type": "code",
   "execution_count": null,
   "metadata": {
    "collapsed": true
   },
   "outputs": [],
   "source": [
    "kea_human = pd.read_csv(path+'ppi_network_kea_human_filtered_2017_02_16.tsv', sep='\\t')"
   ]
  },
  {
   "cell_type": "code",
   "execution_count": null,
   "metadata": {
    "collapsed": true
   },
   "outputs": [],
   "source": [
    "kea = kea_human.copy()"
   ]
  },
  {
   "cell_type": "code",
   "execution_count": null,
   "metadata": {},
   "outputs": [],
   "source": [
    "lst = []\n",
    "for index in kea.index:\n",
    "    lst.append(tuple(sorted(tuple((kea.ix[index,'Protein A (gene name)'], kea.ix[index, 'Protein B (gene name)'])))))\n",
    "kea['ppi'] = lst\n",
    "\n",
    "for i,ppi in enumerate(kea['ppi'].unique()):\n",
    "    \n",
    "    progressPercent = ((i+1)/len(kea['ppi'].unique()))*100\n",
    "\n",
    "    sys.stdout.write(\"Progress: %d%%  %d Out of %d   \\r\" % (progressPercent, (i+1), len(kea['ppi'].unique())))\n",
    "    sys.stdout.flush()\n",
    "    \n",
    "    ref = ('|').join(kea.ix[kea[kea['ppi'] == ppi].index, 'PubMed ID'])\n",
    "    kea.ix[kea[kea['ppi'] == ppi].index[0], 'PubMed ID'] = ref\n",
    "    kea.drop(kea[kea['ppi'] == ppi].index[1:], inplace=True)"
   ]
  },
  {
   "cell_type": "code",
   "execution_count": null,
   "metadata": {
    "collapsed": true
   },
   "outputs": [],
   "source": [
    "kea_sig_df = pd.DataFrame(columns=sig_col)\n",
    "\n",
    "kea_sig_df['Source Name'] = kea['Protein A (gene name)']\n",
    "\n",
    "kea_sig_df['Target Name'] = kea['Protein B (gene name)']\n",
    "\n",
    "kea_sig_df['PubMed IDs'] = kea['PubMed ID']\n",
    "\n",
    "kea_sig_df.replace(np.nan, 'NA', inplace=True)\n",
    "\n",
    "kea_ppiSIG = path+'kea_ppi_%s.sig'% str(datetime.date.today()).replace('-', '_')\n",
    "kea_sig_df.to_csv(kea_ppiSIG, index=None, header=None, sep='\\t')"
   ]
  },
  {
   "cell_type": "markdown",
   "metadata": {},
   "source": [
    "# Savi"
   ]
  },
  {
   "cell_type": "code",
   "execution_count": null,
   "metadata": {
    "collapsed": true
   },
   "outputs": [],
   "source": [
    "savi_human = pd.read_csv(path+'ppi_network_savi_human_filtered_2017_02_16.tsv', sep='\\t')"
   ]
  },
  {
   "cell_type": "code",
   "execution_count": null,
   "metadata": {
    "collapsed": true
   },
   "outputs": [],
   "source": [
    "savi = savi_human.copy()"
   ]
  },
  {
   "cell_type": "code",
   "execution_count": null,
   "metadata": {},
   "outputs": [],
   "source": [
    "lst = []\n",
    "for index in savi.index:\n",
    "    lst.append(tuple(sorted(tuple((savi.ix[index,'Protein A (gene name)'], savi.ix[index, 'Protein B (gene name)'])))))\n",
    "savi['ppi'] = lst\n",
    "\n",
    "for i,ppi in enumerate(savi['ppi'].unique()):\n",
    "    \n",
    "    progressPercent = ((i+1)/len(savi['ppi'].unique()))*100\n",
    "\n",
    "    sys.stdout.write(\"Progress: %d%%  %d Out of %d   \\r\" % (progressPercent, (i+1), len(savi['ppi'].unique())))\n",
    "    sys.stdout.flush()\n",
    "    \n",
    "    ref = ('|').join(savi.ix[savi[savi['ppi'] == ppi].index, 'PubMed ID'])\n",
    "    savi.ix[savi[savi['ppi'] == ppi].index[0], 'PubMed ID'] = ref\n",
    "    savi.drop(savi[savi['ppi'] == ppi].index[1:], inplace=True)"
   ]
  },
  {
   "cell_type": "code",
   "execution_count": null,
   "metadata": {
    "collapsed": true
   },
   "outputs": [],
   "source": [
    "savi_sig_df = pd.DataFrame(columns=sig_col)\n",
    "\n",
    "savi_sig_df['Source Name'] = savi['Protein A (gene name)']\n",
    "\n",
    "savi_sig_df['Target Name'] = savi['Protein B (gene name)']\n",
    "\n",
    "savi_sig_df['PubMed IDs'] = savi['PubMed ID']\n",
    "\n",
    "savi_sig_df.replace(np.nan, 'NA', inplace=True)\n",
    "\n",
    "savi_ppiSIG = path+'savi_ppi_%s.sig'% str(datetime.date.today()).replace('-', '_')\n",
    "savi_sig_df.to_csv(savi_ppiSIG, index=None, header=None, sep='\\t')"
   ]
  }
 ],
 "metadata": {
  "kernelspec": {
   "display_name": "Python 3",
   "language": "python",
   "name": "python3"
  },
  "language_info": {
   "codemirror_mode": {
    "name": "ipython",
    "version": 3
   },
   "file_extension": ".py",
   "mimetype": "text/x-python",
   "name": "python",
   "nbconvert_exporter": "python",
   "pygments_lexer": "ipython3",
   "version": "3.6.1"
  }
 },
 "nbformat": 4,
 "nbformat_minor": 2
}
