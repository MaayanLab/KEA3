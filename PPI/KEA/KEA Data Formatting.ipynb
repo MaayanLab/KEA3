{
 "cells": [
  {
   "cell_type": "markdown",
   "metadata": {},
   "source": [
    "# KEA"
   ]
  },
  {
   "cell_type": "markdown",
   "metadata": {},
   "source": [
    "Author: Moshe C. Silverstein  \n",
    "Date: 07-2017"
   ]
  },
  {
   "cell_type": "code",
   "execution_count": 1,
   "metadata": {
    "collapsed": true
   },
   "outputs": [],
   "source": [
    "import sys\n",
    "import numpy as np\n",
    "import pandas as pd\n",
    "import Utilities\n",
    "from Utilities import *\n",
    "from importlib import reload"
   ]
  },
  {
   "cell_type": "markdown",
   "metadata": {},
   "source": [
    "# Load Data"
   ]
  },
  {
   "cell_type": "markdown",
   "metadata": {},
   "source": [
    "Data Retrieved 2/1/2017 \n",
    "\n",
    "http://amp.pharm.mssm.edu/X2K/datasets/KEA.zip (KEA)"
   ]
  },
  {
   "cell_type": "code",
   "execution_count": 2,
   "metadata": {
    "collapsed": true
   },
   "outputs": [],
   "source": [
    "kea_df = pd.read_csv('/Users/moshesilverstein/Documents/Harmonizome/PPI Library/Input/KEA/phosphorylation_reactions.csv', sep=',', header=None)"
   ]
  },
  {
   "cell_type": "markdown",
   "metadata": {},
   "source": [
    "# Load Gmene Mapping File"
   ]
  },
  {
   "cell_type": "code",
   "execution_count": 3,
   "metadata": {
    "collapsed": true
   },
   "outputs": [],
   "source": [
    "mappingFile = pd.read_csv('/Users/moshesilverstein/Documents/Harmonizome/PPI Library/Doc and Mapping/mappingFile_2017.txt', sep='\\t', header=None, index_col=0)"
   ]
  },
  {
   "cell_type": "markdown",
   "metadata": {},
   "source": [
    "# Select Relevent Data"
   ]
  },
  {
   "cell_type": "code",
   "execution_count": 4,
   "metadata": {
    "collapsed": true
   },
   "outputs": [],
   "source": [
    "kea_df = kea_df[[2,3,4,5]]"
   ]
  },
  {
   "cell_type": "code",
   "execution_count": 5,
   "metadata": {
    "collapsed": true
   },
   "outputs": [],
   "source": [
    "kea_df.rename(columns={2: 'Protein A (gene name)', 3:'Protein B (gene name)', 4:'PubMed ID', 5:'Source databases'}, inplace=True)"
   ]
  },
  {
   "cell_type": "code",
   "execution_count": 6,
   "metadata": {},
   "outputs": [
    {
     "name": "stdout",
     "output_type": "stream",
     "text": [
      "Progress: 100%  11058 Out of 11058   \r"
     ]
    }
   ],
   "source": [
    "# change dataset so each pubmed id is associated with one interaction\n",
    "lstPub = []\n",
    "lstPA = []\n",
    "lstPB = []\n",
    "\n",
    "for i,index in enumerate(kea_df.index):\n",
    "    \n",
    "    progressPercent = ((i+1)/len(kea_df.index))*100\n",
    "\n",
    "    sys.stdout.write(\"Progress: %d%%  %d Out of %d   \\r\" % (progressPercent, (i+1), len(kea_df.index)))\n",
    "    sys.stdout.flush()\n",
    "    \n",
    "    for pub in kea_df.ix[index, 'PubMed ID'].split(';'):\n",
    "        lstPub.append(pub)\n",
    "        lstPA.append(kea_df.ix[index, 'Protein A (gene name)'])\n",
    "        lstPB.append(kea_df.ix[index, 'Protein B (gene name)'])\n",
    "\n",
    "kea_df_better = pd.DataFrame()\n",
    "kea_df_better['Protein A (gene name)'] = lstPA\n",
    "kea_df_better['Protein B (gene name)'] = lstPB\n",
    "kea_df_better['PubMed ID'] = lstPub"
   ]
  },
  {
   "cell_type": "code",
   "execution_count": 7,
   "metadata": {
    "collapsed": true
   },
   "outputs": [],
   "source": [
    "kea_df = kea_df_better.copy()"
   ]
  },
  {
   "cell_type": "markdown",
   "metadata": {},
   "source": [
    "# Map Gene to human and updated approved symbols"
   ]
  },
  {
   "cell_type": "code",
   "execution_count": 8,
   "metadata": {},
   "outputs": [
    {
     "name": "stdout",
     "output_type": "stream",
     "text": [
      "Progeres: 99%  20505 Out of 20599   \r"
     ]
    }
   ],
   "source": [
    "mapgenesymbols(kea_df, mappingFile, 'Protein A (gene name)', 'Protein B (gene name)')"
   ]
  },
  {
   "cell_type": "markdown",
   "metadata": {},
   "source": [
    "# Unfiltered"
   ]
  },
  {
   "cell_type": "code",
   "execution_count": 9,
   "metadata": {
    "collapsed": true
   },
   "outputs": [],
   "source": [
    "# uf = unfiltered\n",
    "kea_uf_df = kea_df.copy()"
   ]
  },
  {
   "cell_type": "markdown",
   "metadata": {},
   "source": [
    "### Combine duplicate ppis while concatanatig referances"
   ]
  },
  {
   "cell_type": "code",
   "execution_count": 10,
   "metadata": {},
   "outputs": [
    {
     "name": "stdout",
     "output_type": "stream",
     "text": [
      "Progress: 100%  10707 Out of 10707   \r"
     ]
    }
   ],
   "source": [
    "combineDupPPIs(kea_uf_df)"
   ]
  },
  {
   "cell_type": "markdown",
   "metadata": {},
   "source": [
    "### Create .sig File"
   ]
  },
  {
   "cell_type": "code",
   "execution_count": 11,
   "metadata": {
    "collapsed": true
   },
   "outputs": [],
   "source": [
    "pathU = '~/./Documents/Harmonizome/PPI Library/Output/IndividualResources/Unfiltered/'\n",
    "\n",
    "createSigFile(kea_uf_df, pathU, 'kea', False)"
   ]
  },
  {
   "cell_type": "markdown",
   "metadata": {},
   "source": [
    "# Filtered"
   ]
  },
  {
   "cell_type": "code",
   "execution_count": 12,
   "metadata": {
    "collapsed": true
   },
   "outputs": [],
   "source": [
    "kea_f_df = kea_df.copy()"
   ]
  },
  {
   "cell_type": "code",
   "execution_count": 13,
   "metadata": {},
   "outputs": [
    {
     "name": "stdout",
     "output_type": "stream",
     "text": [
      "Progress: 100%  4528 Out of 4502   \r"
     ]
    }
   ],
   "source": [
    "# drop any data that was published with more then 10 PPI's per publication or doesnt have a ppi\n",
    "filterPPIbyPubmed(kea_f_df, 10)"
   ]
  },
  {
   "cell_type": "markdown",
   "metadata": {},
   "source": [
    "### Combine duplicate ppis while concatanatig referances"
   ]
  },
  {
   "cell_type": "code",
   "execution_count": 14,
   "metadata": {},
   "outputs": [
    {
     "name": "stdout",
     "output_type": "stream",
     "text": [
      "Progress: 100%  3933 Out of 3933   \r"
     ]
    }
   ],
   "source": [
    "combineDupPPIs(kea_f_df)"
   ]
  },
  {
   "cell_type": "markdown",
   "metadata": {},
   "source": [
    "### Create .sig File"
   ]
  },
  {
   "cell_type": "code",
   "execution_count": 15,
   "metadata": {
    "collapsed": true
   },
   "outputs": [],
   "source": [
    "pathF = '~/./Documents/Harmonizome/PPI Library/Output/IndividualResources/Filtered/'\n",
    "\n",
    "createSigFile(kea_f_df, pathF, 'kea', True)"
   ]
  }
 ],
 "metadata": {
  "kernelspec": {
   "display_name": "Python [default]",
   "language": "python",
   "name": "python3"
  },
  "language_info": {
   "codemirror_mode": {
    "name": "ipython",
    "version": 3
   },
   "file_extension": ".py",
   "mimetype": "text/x-python",
   "name": "python",
   "nbconvert_exporter": "python",
   "pygments_lexer": "ipython3",
   "version": "3.5.2"
  }
 },
 "nbformat": 4,
 "nbformat_minor": 2
}
