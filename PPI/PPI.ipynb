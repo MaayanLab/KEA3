{
 "cells": [
  {
   "cell_type": "code",
   "execution_count": 83,
   "metadata": {
    "collapsed": false
   },
   "outputs": [],
   "source": [
    "import numpy as np\n",
    "import pandas as pd\n",
    "import urllib\n",
    "%matplotlib inline\n",
    "\n",
    "import matplotlib\n",
    "import matplotlib.pyplot as plt\n",
    "\n",
    "from scipy.optimize import curve_fit\n",
    "from scipy.stats import linregress\n",
    "import gc, os, glob\n",
    "import networkx as nx\n",
    "from mpl_toolkits.mplot3d import Axes3D\n",
    "\n",
    "import datetime"
   ]
  },
  {
   "cell_type": "code",
   "execution_count": 139,
   "metadata": {
    "collapsed": true
   },
   "outputs": [],
   "source": [
    "def concatliketerms(df):\n",
    "    \n",
    "    df.sort_values(by=['Protein A (gene name)', 'Protein B (gene name)'], inplace=True)    \n",
    "    df.reset_index(inplace=True)\n",
    "    df.drop('index', axis=1, inplace=True)\n",
    "    oldSize = df.shape\n",
    "    newSize = 0\n",
    "    j = 1\n",
    "    while oldSize != newSize:\n",
    "        df.reset_index(inplace=True)\n",
    "        df.drop('index', axis=1, inplace=True)\n",
    "        df.sort_values(by=['Protein A (gene name)', 'Protein B (gene name)'], inplace=True) \n",
    "        # concattonate like terms and remove duplicates\n",
    "        i = 1\n",
    "        end = len(df.index)-1\n",
    "        for index in df.index:\n",
    "            if i % 100 == 0:\n",
    "                print('\\r', 'Loop '+ str(j)+': ' +str(i)+' Out of '+ str(len(df.index)), end=' ', flush=True)\n",
    "            if index in df.index.values and index != end:\n",
    "                if df.ix[index, 'Protein A (gene name)'] == df.ix[index+1, 'Protein A (gene name)']:\n",
    "                    if df.ix[index, 'Protein B (gene name)'] == df.ix[index+1, 'Protein B (gene name)']:\n",
    "                        df.ix[index, 'PubMed ID'] = str(df.ix[index, 'PubMed ID']) +'|'+str(df.ix[index+1, 'PubMed ID'])\n",
    "                        df.ix[index, 'Source databases'] = df.ix[index, 'Source databases'] +'|'+df.ix[index+1, 'Source databases']\n",
    "                        df.drop(index+1, axis=0, inplace=True)\n",
    "                        \n",
    "            i += 1\n",
    "        j += 1\n",
    "        oldSize = newSize\n",
    "        newSize = df.shape"
   ]
  },
  {
   "cell_type": "code",
   "execution_count": 2,
   "metadata": {
    "collapsed": false
   },
   "outputs": [],
   "source": [
    "human_filtered = pd.read_csv('/Users/moshesilverstein/Desktop/PPI Library/Output/Combined/Filtered/ppi_network_human_filtered_2017_02_16.tsv', sep='\\t')\n",
    "mouse_filtered = pd.read_csv('/Users/moshesilverstein/Desktop/PPI Library/Output/Combined/Filtered/ppi_network_mouse_filtered_2017_02_15.tsv', sep='\\t')"
   ]
  },
  {
   "cell_type": "code",
   "execution_count": 3,
   "metadata": {
    "collapsed": false
   },
   "outputs": [
    {
     "data": {
      "text/html": [
       "<div>\n",
       "<table border=\"1\" class=\"dataframe\">\n",
       "  <thead>\n",
       "    <tr style=\"text-align: right;\">\n",
       "      <th></th>\n",
       "      <th>Protein A (gene name)</th>\n",
       "      <th>Protein B (gene name)</th>\n",
       "      <th>PubMed ID</th>\n",
       "      <th>Source databases</th>\n",
       "    </tr>\n",
       "  </thead>\n",
       "  <tbody>\n",
       "    <tr>\n",
       "      <th>0</th>\n",
       "      <td>1B</td>\n",
       "      <td>DDX58</td>\n",
       "      <td>19193793</td>\n",
       "      <td>psi-mi:\"MI:0486\"(UniProt)</td>\n",
       "    </tr>\n",
       "    <tr>\n",
       "      <th>1</th>\n",
       "      <td>A1CF</td>\n",
       "      <td>APOBEC1</td>\n",
       "      <td>10669759|11134005|11134005|10669759</td>\n",
       "      <td>psi-mi:\"MI:0463\"(biogrid)|psi-mi:\"MI:0463\"(bio...</td>\n",
       "    </tr>\n",
       "    <tr>\n",
       "      <th>2</th>\n",
       "      <td>A1CF</td>\n",
       "      <td>CELF2</td>\n",
       "      <td>11577082</td>\n",
       "      <td>(mentha)</td>\n",
       "    </tr>\n",
       "    <tr>\n",
       "      <th>3</th>\n",
       "      <td>A1CF</td>\n",
       "      <td>KHSRP</td>\n",
       "      <td>10781591|10781591</td>\n",
       "      <td>psi-mi:\"MI:0463\"(biogrid)|(mentha)</td>\n",
       "    </tr>\n",
       "    <tr>\n",
       "      <th>4</th>\n",
       "      <td>A1CF</td>\n",
       "      <td>SYNCRIP</td>\n",
       "      <td>11134005|11134005|11352648</td>\n",
       "      <td>psi-mi:\"MI:0463\"(biogrid)|(mentha)</td>\n",
       "    </tr>\n",
       "  </tbody>\n",
       "</table>\n",
       "</div>"
      ],
      "text/plain": [
       "  Protein A (gene name) Protein B (gene name)  \\\n",
       "0                    1B                 DDX58   \n",
       "1                  A1CF               APOBEC1   \n",
       "2                  A1CF                 CELF2   \n",
       "3                  A1CF                 KHSRP   \n",
       "4                  A1CF               SYNCRIP   \n",
       "\n",
       "                             PubMed ID  \\\n",
       "0                             19193793   \n",
       "1  10669759|11134005|11134005|10669759   \n",
       "2                             11577082   \n",
       "3                    10781591|10781591   \n",
       "4           11134005|11134005|11352648   \n",
       "\n",
       "                                    Source databases  \n",
       "0                          psi-mi:\"MI:0486\"(UniProt)  \n",
       "1  psi-mi:\"MI:0463\"(biogrid)|psi-mi:\"MI:0463\"(bio...  \n",
       "2                                           (mentha)  \n",
       "3                 psi-mi:\"MI:0463\"(biogrid)|(mentha)  \n",
       "4                 psi-mi:\"MI:0463\"(biogrid)|(mentha)  "
      ]
     },
     "execution_count": 3,
     "metadata": {},
     "output_type": "execute_result"
    }
   ],
   "source": [
    "human_filtered.head()"
   ]
  },
  {
   "cell_type": "code",
   "execution_count": 4,
   "metadata": {
    "collapsed": false
   },
   "outputs": [
    {
     "data": {
      "text/plain": [
       "(86995, 4)"
      ]
     },
     "execution_count": 4,
     "metadata": {},
     "output_type": "execute_result"
    }
   ],
   "source": [
    "human_filtered.shape"
   ]
  },
  {
   "cell_type": "code",
   "execution_count": 5,
   "metadata": {
    "collapsed": false
   },
   "outputs": [],
   "source": [
    "lst = []\n",
    "for pub in human_filtered['PubMed ID']:\n",
    "#     lst.append(pub)\n",
    "    p = []\n",
    "    if 'M' in pub:\n",
    "        b = pub.split('|')\n",
    "        for n in b:\n",
    "            if 'M' not in n:\n",
    "                p.append(n)\n",
    "        lst.append('|'.join(p))\n",
    "                \n",
    "    else:\n",
    "        lst.append(pub)\n",
    "\n",
    "human_filtered['PubMed ID'] = lst        "
   ]
  },
  {
   "cell_type": "code",
   "execution_count": 6,
   "metadata": {
    "collapsed": false
   },
   "outputs": [
    {
     "data": {
      "text/plain": [
       "(86995, 4)"
      ]
     },
     "execution_count": 6,
     "metadata": {},
     "output_type": "execute_result"
    }
   ],
   "source": [
    "human_filtered.shape"
   ]
  },
  {
   "cell_type": "code",
   "execution_count": 7,
   "metadata": {
    "collapsed": false
   },
   "outputs": [],
   "source": [
    "lst = []\n",
    "for pub in mouse_filtered['PubMed ID']:\n",
    "#     lst.append(pub)\n",
    "    p = []\n",
    "    if 'M' in pub:\n",
    "        b = pub.split('|')\n",
    "        for n in b:\n",
    "            if 'M' not in n:\n",
    "                p.append(n)\n",
    "        lst.append('|'.join(p))\n",
    "                \n",
    "    else:\n",
    "        lst.append(pub)\n",
    "\n",
    "mouse_filtered['PubMed ID'] = lst    "
   ]
  },
  {
   "cell_type": "code",
   "execution_count": 7,
   "metadata": {
    "collapsed": false
   },
   "outputs": [
    {
     "data": {
      "text/plain": [
       "(19866, 4)"
      ]
     },
     "execution_count": 7,
     "metadata": {},
     "output_type": "execute_result"
    }
   ],
   "source": [
    "mouse_filtered.shape"
   ]
  },
  {
   "cell_type": "code",
   "execution_count": 9,
   "metadata": {
    "collapsed": false
   },
   "outputs": [
    {
     "data": {
      "text/html": [
       "<div>\n",
       "<table border=\"1\" class=\"dataframe\">\n",
       "  <thead>\n",
       "    <tr style=\"text-align: right;\">\n",
       "      <th></th>\n",
       "      <th>Protein A (gene name)</th>\n",
       "      <th>Protein B (gene name)</th>\n",
       "      <th>PubMed ID</th>\n",
       "      <th>Source databases</th>\n",
       "    </tr>\n",
       "  </thead>\n",
       "  <tbody>\n",
       "    <tr>\n",
       "      <th>0</th>\n",
       "      <td>1700006A11RIK</td>\n",
       "      <td>BMPR1B</td>\n",
       "      <td>15761153</td>\n",
       "      <td>(mentha)</td>\n",
       "    </tr>\n",
       "    <tr>\n",
       "      <th>1</th>\n",
       "      <td>1700021K19Rik</td>\n",
       "      <td>Becn1</td>\n",
       "      <td>19270693</td>\n",
       "      <td>MI:0974(innatedb)</td>\n",
       "    </tr>\n",
       "    <tr>\n",
       "      <th>2</th>\n",
       "      <td>1700021K19Rik</td>\n",
       "      <td>Cyba</td>\n",
       "      <td>22423966</td>\n",
       "      <td>MI:0974(innatedb)</td>\n",
       "    </tr>\n",
       "    <tr>\n",
       "      <th>3</th>\n",
       "      <td>1700021K19Rik</td>\n",
       "      <td>Cybb</td>\n",
       "      <td>22423966</td>\n",
       "      <td>MI:0974(innatedb)</td>\n",
       "    </tr>\n",
       "    <tr>\n",
       "      <th>4</th>\n",
       "      <td>A2NTY6</td>\n",
       "      <td>A2NTU7</td>\n",
       "      <td>17418792</td>\n",
       "      <td>(mentha)</td>\n",
       "    </tr>\n",
       "  </tbody>\n",
       "</table>\n",
       "</div>"
      ],
      "text/plain": [
       "  Protein A (gene name) Protein B (gene name) PubMed ID   Source databases\n",
       "0         1700006A11RIK                BMPR1B  15761153           (mentha)\n",
       "1         1700021K19Rik                 Becn1  19270693  MI:0974(innatedb)\n",
       "2         1700021K19Rik                  Cyba  22423966  MI:0974(innatedb)\n",
       "3         1700021K19Rik                  Cybb  22423966  MI:0974(innatedb)\n",
       "4                A2NTY6                A2NTU7  17418792           (mentha)"
      ]
     },
     "execution_count": 9,
     "metadata": {},
     "output_type": "execute_result"
    }
   ],
   "source": [
    "mouse_filtered.head()"
   ]
  },
  {
   "cell_type": "code",
   "execution_count": 8,
   "metadata": {
    "collapsed": false
   },
   "outputs": [],
   "source": [
    "#human[human['PubMed ID'].str.contains('MINT')].replace('MINT', '')"
   ]
  },
  {
   "cell_type": "code",
   "execution_count": 9,
   "metadata": {
    "collapsed": false
   },
   "outputs": [],
   "source": [
    "# #read in data from NCBI and write to file (only needs to be proformed once)\n",
    "# content=urllib.request.urlopen('https://urldefense.proofpoint.com/v2/url?u=ftp-3A__ftp.ncbi.nih.gov_pub_HomoloGene_current_homologene.data&d=DwIGaQ&c=shNJtf5dKgNcPZ6Yh64b-A&r=FzzxHcpcdpeEl2SeS4RngXJfR5R4cEV8N2xULwaH8LE&m=H47AkOYhsWJidY3BTdZQzbIarlSka87imDJ8Qn9e6GY&s=YC09EJeihTYDzrM4EtbA25GGlFbj6g7PXooVz7WkyOk&e= ') \n",
    "\n",
    "# target = open('HomoloGene.tsv', 'wb')\n",
    "# for line in content:\n",
    "#     target.write(line)\n",
    "# target.close()"
   ]
  },
  {
   "cell_type": "code",
   "execution_count": 10,
   "metadata": {
    "collapsed": true
   },
   "outputs": [],
   "source": [
    "col = ['HID (HomoloGene group id)', 'Taxonomy ID', 'Gene ID', 'Gene Symbol', 'Protein gi', 'Protein accession']"
   ]
  },
  {
   "cell_type": "code",
   "execution_count": 11,
   "metadata": {
    "collapsed": false
   },
   "outputs": [],
   "source": [
    "mapping = pd.read_csv('/Users/moshesilverstein/Desktop/PPI Library/Doc and Mapping/HomoloGene.tsv', sep='\\t', names=col)"
   ]
  },
  {
   "cell_type": "code",
   "execution_count": 12,
   "metadata": {
    "collapsed": false
   },
   "outputs": [
    {
     "data": {
      "text/html": [
       "<div>\n",
       "<table border=\"1\" class=\"dataframe\">\n",
       "  <thead>\n",
       "    <tr style=\"text-align: right;\">\n",
       "      <th></th>\n",
       "      <th>HID (HomoloGene group id)</th>\n",
       "      <th>Taxonomy ID</th>\n",
       "      <th>Gene ID</th>\n",
       "      <th>Gene Symbol</th>\n",
       "      <th>Protein gi</th>\n",
       "      <th>Protein accession</th>\n",
       "    </tr>\n",
       "  </thead>\n",
       "  <tbody>\n",
       "    <tr>\n",
       "      <th>0</th>\n",
       "      <td>3</td>\n",
       "      <td>9606</td>\n",
       "      <td>34</td>\n",
       "      <td>ACADM</td>\n",
       "      <td>4557231</td>\n",
       "      <td>NP_000007.1</td>\n",
       "    </tr>\n",
       "    <tr>\n",
       "      <th>1</th>\n",
       "      <td>3</td>\n",
       "      <td>9598</td>\n",
       "      <td>469356</td>\n",
       "      <td>ACADM</td>\n",
       "      <td>160961497</td>\n",
       "      <td>NP_001104286.1</td>\n",
       "    </tr>\n",
       "    <tr>\n",
       "      <th>2</th>\n",
       "      <td>3</td>\n",
       "      <td>9544</td>\n",
       "      <td>705168</td>\n",
       "      <td>ACADM</td>\n",
       "      <td>109008502</td>\n",
       "      <td>XP_001101274.1</td>\n",
       "    </tr>\n",
       "    <tr>\n",
       "      <th>3</th>\n",
       "      <td>3</td>\n",
       "      <td>9615</td>\n",
       "      <td>490207</td>\n",
       "      <td>ACADM</td>\n",
       "      <td>545503811</td>\n",
       "      <td>XP_005622188.1</td>\n",
       "    </tr>\n",
       "    <tr>\n",
       "      <th>4</th>\n",
       "      <td>3</td>\n",
       "      <td>9913</td>\n",
       "      <td>505968</td>\n",
       "      <td>ACADM</td>\n",
       "      <td>115497690</td>\n",
       "      <td>NP_001068703.1</td>\n",
       "    </tr>\n",
       "  </tbody>\n",
       "</table>\n",
       "</div>"
      ],
      "text/plain": [
       "   HID (HomoloGene group id)  Taxonomy ID  Gene ID Gene Symbol  Protein gi  \\\n",
       "0                          3         9606       34       ACADM     4557231   \n",
       "1                          3         9598   469356       ACADM   160961497   \n",
       "2                          3         9544   705168       ACADM   109008502   \n",
       "3                          3         9615   490207       ACADM   545503811   \n",
       "4                          3         9913   505968       ACADM   115497690   \n",
       "\n",
       "  Protein accession  \n",
       "0       NP_000007.1  \n",
       "1    NP_001104286.1  \n",
       "2    XP_001101274.1  \n",
       "3    XP_005622188.1  \n",
       "4    NP_001068703.1  "
      ]
     },
     "execution_count": 12,
     "metadata": {},
     "output_type": "execute_result"
    }
   ],
   "source": [
    "mapping.head()"
   ]
  },
  {
   "cell_type": "code",
   "execution_count": 13,
   "metadata": {
    "collapsed": false
   },
   "outputs": [],
   "source": [
    "human_mapping = mapping[mapping['Taxonomy ID'] == 9606]"
   ]
  },
  {
   "cell_type": "code",
   "execution_count": 14,
   "metadata": {
    "collapsed": true
   },
   "outputs": [],
   "source": [
    "#human_mapping.set_index('HID (HomoloGene group id)', inplace=True)"
   ]
  },
  {
   "cell_type": "code",
   "execution_count": 14,
   "metadata": {
    "collapsed": true
   },
   "outputs": [],
   "source": [
    "mouse_mapping = mapping[mapping['Taxonomy ID'] == 10090]"
   ]
  },
  {
   "cell_type": "code",
   "execution_count": 16,
   "metadata": {
    "collapsed": false
   },
   "outputs": [],
   "source": [
    "# mouse_mapping = mouse_mapping.reset_index().drop('index', axis=1)\n",
    "# human_mapping = human_mapping.reset_index().drop('index', axis=1)"
   ]
  },
  {
   "cell_type": "code",
   "execution_count": 17,
   "metadata": {
    "collapsed": false
   },
   "outputs": [],
   "source": [
    "mouse_filtered[['Protein A (gene name)', 'Protein B (gene name)']]=mouse_filtered[['Protein A (gene name)', 'Protein B (gene name)']].applymap(lambda x: x.upper())"
   ]
  },
  {
   "cell_type": "code",
   "execution_count": 18,
   "metadata": {
    "collapsed": false
   },
   "outputs": [
    {
     "name": "stderr",
     "output_type": "stream",
     "text": [
      "/Users/moshesilverstein/anaconda/lib/python3.5/site-packages/ipykernel/__main__.py:1: SettingWithCopyWarning: \n",
      "A value is trying to be set on a copy of a slice from a DataFrame.\n",
      "Try using .loc[row_indexer,col_indexer] = value instead\n",
      "\n",
      "See the caveats in the documentation: https://urldefense.proofpoint.com/v2/url?u=http-3A__pandas.pydata.org_pandas-2Ddocs_stable_indexing.html-23indexing-2Dview-2Dversus-2Dcopy&d=DwIGaQ&c=shNJtf5dKgNcPZ6Yh64b-A&r=FzzxHcpcdpeEl2SeS4RngXJfR5R4cEV8N2xULwaH8LE&m=H47AkOYhsWJidY3BTdZQzbIarlSka87imDJ8Qn9e6GY&s=B1lTiq_WReCic5igFqQz2r8oLP4oU47aHZg8m5mLFFY&e= \n",
      "  if __name__ == '__main__':\n"
     ]
    }
   ],
   "source": [
    "mouse_mapping['Gene Symbol']= mouse_mapping['Gene Symbol'].apply(lambda x: x.upper())"
   ]
  },
  {
   "cell_type": "code",
   "execution_count": 17,
   "metadata": {
    "collapsed": true
   },
   "outputs": [],
   "source": [
    "#human_mapping['Gene Symbol']= human_mapping['Gene Symbol'].apply(lambda x: x.upper())"
   ]
  },
  {
   "cell_type": "code",
   "execution_count": 19,
   "metadata": {
    "collapsed": false
   },
   "outputs": [],
   "source": [
    "mouse_mapping = mouse_mapping[['HID (HomoloGene group id)','Gene Symbol']]\n",
    "human_mapping = human_mapping[['HID (HomoloGene group id)','Gene Symbol']]\n",
    "#human_mapping.set_index('HID (HomoloGene group id)', inplace=True)\n",
    "#mouse_mapping.set_index('HID (HomoloGene group id)', inplace=True)"
   ]
  },
  {
   "cell_type": "code",
   "execution_count": 20,
   "metadata": {
    "collapsed": false
   },
   "outputs": [],
   "source": [
    "mouse_mapping.rename(columns={'Gene Symbol': 'GSM'}, inplace=True)"
   ]
  },
  {
   "cell_type": "code",
   "execution_count": 21,
   "metadata": {
    "collapsed": true
   },
   "outputs": [],
   "source": [
    "human_mapping.rename(columns={'Gene Symbol': 'GSH'}, inplace=True)"
   ]
  },
  {
   "cell_type": "code",
   "execution_count": 22,
   "metadata": {
    "collapsed": false
   },
   "outputs": [],
   "source": [
    "mouse_human = pd.merge(mouse_mapping, human_mapping, how='outer', on='HID (HomoloGene group id)')"
   ]
  },
  {
   "cell_type": "code",
   "execution_count": 23,
   "metadata": {
    "collapsed": false
   },
   "outputs": [
    {
     "data": {
      "text/html": [
       "<div>\n",
       "<table border=\"1\" class=\"dataframe\">\n",
       "  <thead>\n",
       "    <tr style=\"text-align: right;\">\n",
       "      <th></th>\n",
       "      <th>HID (HomoloGene group id)</th>\n",
       "      <th>GSM</th>\n",
       "    </tr>\n",
       "  </thead>\n",
       "  <tbody>\n",
       "    <tr>\n",
       "      <th>5</th>\n",
       "      <td>3</td>\n",
       "      <td>ACADM</td>\n",
       "    </tr>\n",
       "    <tr>\n",
       "      <th>17</th>\n",
       "      <td>5</td>\n",
       "      <td>ACADVL</td>\n",
       "    </tr>\n",
       "    <tr>\n",
       "      <th>28</th>\n",
       "      <td>6</td>\n",
       "      <td>ACAT1</td>\n",
       "    </tr>\n",
       "    <tr>\n",
       "      <th>51</th>\n",
       "      <td>7</td>\n",
       "      <td>ACVR1</td>\n",
       "    </tr>\n",
       "    <tr>\n",
       "      <th>63</th>\n",
       "      <td>9</td>\n",
       "      <td>SGCA</td>\n",
       "    </tr>\n",
       "  </tbody>\n",
       "</table>\n",
       "</div>"
      ],
      "text/plain": [
       "    HID (HomoloGene group id)     GSM\n",
       "5                           3   ACADM\n",
       "17                          5  ACADVL\n",
       "28                          6   ACAT1\n",
       "51                          7   ACVR1\n",
       "63                          9    SGCA"
      ]
     },
     "execution_count": 23,
     "metadata": {},
     "output_type": "execute_result"
    }
   ],
   "source": [
    "mouse_mapping.head()"
   ]
  },
  {
   "cell_type": "code",
   "execution_count": 24,
   "metadata": {
    "collapsed": false
   },
   "outputs": [
    {
     "data": {
      "text/html": [
       "<div>\n",
       "<table border=\"1\" class=\"dataframe\">\n",
       "  <thead>\n",
       "    <tr style=\"text-align: right;\">\n",
       "      <th></th>\n",
       "      <th>HID (HomoloGene group id)</th>\n",
       "      <th>GSH</th>\n",
       "    </tr>\n",
       "  </thead>\n",
       "  <tbody>\n",
       "    <tr>\n",
       "      <th>0</th>\n",
       "      <td>3</td>\n",
       "      <td>ACADM</td>\n",
       "    </tr>\n",
       "    <tr>\n",
       "      <th>13</th>\n",
       "      <td>5</td>\n",
       "      <td>ACADVL</td>\n",
       "    </tr>\n",
       "    <tr>\n",
       "      <th>23</th>\n",
       "      <td>6</td>\n",
       "      <td>ACAT1</td>\n",
       "    </tr>\n",
       "    <tr>\n",
       "      <th>46</th>\n",
       "      <td>7</td>\n",
       "      <td>ACVR1</td>\n",
       "    </tr>\n",
       "    <tr>\n",
       "      <th>58</th>\n",
       "      <td>9</td>\n",
       "      <td>SGCA</td>\n",
       "    </tr>\n",
       "  </tbody>\n",
       "</table>\n",
       "</div>"
      ],
      "text/plain": [
       "    HID (HomoloGene group id)     GSH\n",
       "0                           3   ACADM\n",
       "13                          5  ACADVL\n",
       "23                          6   ACAT1\n",
       "46                          7   ACVR1\n",
       "58                          9    SGCA"
      ]
     },
     "execution_count": 24,
     "metadata": {},
     "output_type": "execute_result"
    }
   ],
   "source": [
    "human_mapping.head()"
   ]
  },
  {
   "cell_type": "code",
   "execution_count": 25,
   "metadata": {
    "collapsed": false
   },
   "outputs": [
    {
     "data": {
      "text/html": [
       "<div>\n",
       "<table border=\"1\" class=\"dataframe\">\n",
       "  <thead>\n",
       "    <tr style=\"text-align: right;\">\n",
       "      <th></th>\n",
       "      <th>HID (HomoloGene group id)</th>\n",
       "      <th>GSM</th>\n",
       "      <th>GSH</th>\n",
       "    </tr>\n",
       "  </thead>\n",
       "  <tbody>\n",
       "    <tr>\n",
       "      <th>0</th>\n",
       "      <td>3</td>\n",
       "      <td>ACADM</td>\n",
       "      <td>ACADM</td>\n",
       "    </tr>\n",
       "    <tr>\n",
       "      <th>1</th>\n",
       "      <td>5</td>\n",
       "      <td>ACADVL</td>\n",
       "      <td>ACADVL</td>\n",
       "    </tr>\n",
       "    <tr>\n",
       "      <th>2</th>\n",
       "      <td>6</td>\n",
       "      <td>ACAT1</td>\n",
       "      <td>ACAT1</td>\n",
       "    </tr>\n",
       "    <tr>\n",
       "      <th>3</th>\n",
       "      <td>7</td>\n",
       "      <td>ACVR1</td>\n",
       "      <td>ACVR1</td>\n",
       "    </tr>\n",
       "    <tr>\n",
       "      <th>4</th>\n",
       "      <td>9</td>\n",
       "      <td>SGCA</td>\n",
       "      <td>SGCA</td>\n",
       "    </tr>\n",
       "  </tbody>\n",
       "</table>\n",
       "</div>"
      ],
      "text/plain": [
       "   HID (HomoloGene group id)     GSM     GSH\n",
       "0                          3   ACADM   ACADM\n",
       "1                          5  ACADVL  ACADVL\n",
       "2                          6   ACAT1   ACAT1\n",
       "3                          7   ACVR1   ACVR1\n",
       "4                          9    SGCA    SGCA"
      ]
     },
     "execution_count": 25,
     "metadata": {},
     "output_type": "execute_result"
    }
   ],
   "source": [
    "mouse_human.head()"
   ]
  },
  {
   "cell_type": "code",
   "execution_count": 26,
   "metadata": {
    "collapsed": false
   },
   "outputs": [],
   "source": [
    "lst = []\n",
    "for name in mouse_human.GSM:\n",
    "    name = str(name)\n",
    "    lst.append(name.split(' ')[0])\n",
    "mouse_human.GSM = lst"
   ]
  },
  {
   "cell_type": "code",
   "execution_count": 27,
   "metadata": {
    "collapsed": true
   },
   "outputs": [],
   "source": [
    "lst = []\n",
    "for name in mouse_human.GSH:\n",
    "    name = str(name)\n",
    "    lst.append(name.split(' ')[0])\n",
    "mouse_human.GSH = lst"
   ]
  },
  {
   "cell_type": "code",
   "execution_count": 28,
   "metadata": {
    "collapsed": false
   },
   "outputs": [
    {
     "name": "stdout",
     "output_type": "stream",
     "text": [
      " 19866 Out of 19866 "
     ]
    }
   ],
   "source": [
    "i = 1\n",
    "for index in mouse_filtered.index:\n",
    "    print('\\r', str(i)+' Out of '+ str(len(mouse_filtered.index)), end=' ', flush=True)\n",
    "    if mouse_filtered.ix[index, 'Protein A (gene name)'] in mouse_human['GSM'].values:\n",
    "        mouse_filtered.ix[index, 'Protein A (gene name)'] = mouse_human[mouse_human['GSM'] == mouse_filtered.ix[index, 'Protein A (gene name)']].GSH.values[0]\n",
    "    else:\n",
    "        mouse_filtered.ix[index, 'Protein A (gene name)'] = np.nan\n",
    "    if mouse_filtered.ix[index, 'Protein B (gene name)'] in mouse_human['GSM'].values:\n",
    "        mouse_filtered.ix[index, 'Protein B (gene name)'] = mouse_human[mouse_human['GSM'] == mouse_filtered.ix[index, 'Protein B (gene name)']].GSH.values[0]\n",
    "    else:\n",
    "        mouse_filtered.ix[index, 'Protein B (gene name)'] = np.nan\n",
    "\n",
    "    \n",
    "    i += 1"
   ]
  },
  {
   "cell_type": "code",
   "execution_count": 30,
   "metadata": {
    "collapsed": false
   },
   "outputs": [
    {
     "data": {
      "text/html": [
       "<div>\n",
       "<table border=\"1\" class=\"dataframe\">\n",
       "  <thead>\n",
       "    <tr style=\"text-align: right;\">\n",
       "      <th></th>\n",
       "      <th>Protein A (gene name)</th>\n",
       "      <th>Protein B (gene name)</th>\n",
       "      <th>PubMed ID</th>\n",
       "      <th>Source databases</th>\n",
       "    </tr>\n",
       "  </thead>\n",
       "  <tbody>\n",
       "    <tr>\n",
       "      <th>0</th>\n",
       "      <td>NaN</td>\n",
       "      <td>BMPR1B</td>\n",
       "      <td>15761153</td>\n",
       "      <td>(mentha)</td>\n",
       "    </tr>\n",
       "    <tr>\n",
       "      <th>1</th>\n",
       "      <td>KIAA0226</td>\n",
       "      <td>BECN1</td>\n",
       "      <td>19270693</td>\n",
       "      <td>MI:0974(innatedb)</td>\n",
       "    </tr>\n",
       "    <tr>\n",
       "      <th>2</th>\n",
       "      <td>KIAA0226</td>\n",
       "      <td>CYBA</td>\n",
       "      <td>22423966</td>\n",
       "      <td>MI:0974(innatedb)</td>\n",
       "    </tr>\n",
       "    <tr>\n",
       "      <th>3</th>\n",
       "      <td>KIAA0226</td>\n",
       "      <td>CYBB</td>\n",
       "      <td>22423966</td>\n",
       "      <td>MI:0974(innatedb)</td>\n",
       "    </tr>\n",
       "    <tr>\n",
       "      <th>4</th>\n",
       "      <td>NaN</td>\n",
       "      <td>NaN</td>\n",
       "      <td>17418792</td>\n",
       "      <td>(mentha)</td>\n",
       "    </tr>\n",
       "  </tbody>\n",
       "</table>\n",
       "</div>"
      ],
      "text/plain": [
       "  Protein A (gene name) Protein B (gene name) PubMed ID   Source databases\n",
       "0                   NaN                BMPR1B  15761153           (mentha)\n",
       "1              KIAA0226                 BECN1  19270693  MI:0974(innatedb)\n",
       "2              KIAA0226                  CYBA  22423966  MI:0974(innatedb)\n",
       "3              KIAA0226                  CYBB  22423966  MI:0974(innatedb)\n",
       "4                   NaN                   NaN  17418792           (mentha)"
      ]
     },
     "execution_count": 30,
     "metadata": {},
     "output_type": "execute_result"
    }
   ],
   "source": [
    "mouse_filtered.head()"
   ]
  },
  {
   "cell_type": "code",
   "execution_count": 31,
   "metadata": {
    "collapsed": true
   },
   "outputs": [],
   "source": [
    "mouse_filtered.dropna(inplace=True)"
   ]
  },
  {
   "cell_type": "code",
   "execution_count": 33,
   "metadata": {
    "collapsed": false
   },
   "outputs": [],
   "source": [
    "network_df = pd.concat([human_filtered, mouse_filtered])"
   ]
  },
  {
   "cell_type": "code",
   "execution_count": 34,
   "metadata": {
    "collapsed": false
   },
   "outputs": [
    {
     "data": {
      "text/html": [
       "<div>\n",
       "<table border=\"1\" class=\"dataframe\">\n",
       "  <thead>\n",
       "    <tr style=\"text-align: right;\">\n",
       "      <th></th>\n",
       "      <th>Protein A (gene name)</th>\n",
       "      <th>Protein B (gene name)</th>\n",
       "      <th>PubMed ID</th>\n",
       "      <th>Source databases</th>\n",
       "    </tr>\n",
       "  </thead>\n",
       "  <tbody>\n",
       "    <tr>\n",
       "      <th>0</th>\n",
       "      <td>1B</td>\n",
       "      <td>DDX58</td>\n",
       "      <td>19193793</td>\n",
       "      <td>psi-mi:\"MI:0486\"(UniProt)</td>\n",
       "    </tr>\n",
       "    <tr>\n",
       "      <th>1</th>\n",
       "      <td>A1CF</td>\n",
       "      <td>APOBEC1</td>\n",
       "      <td>10669759|11134005|11134005|10669759</td>\n",
       "      <td>psi-mi:\"MI:0463\"(biogrid)|psi-mi:\"MI:0463\"(bio...</td>\n",
       "    </tr>\n",
       "    <tr>\n",
       "      <th>2</th>\n",
       "      <td>A1CF</td>\n",
       "      <td>CELF2</td>\n",
       "      <td>11577082</td>\n",
       "      <td>(mentha)</td>\n",
       "    </tr>\n",
       "    <tr>\n",
       "      <th>3</th>\n",
       "      <td>A1CF</td>\n",
       "      <td>KHSRP</td>\n",
       "      <td>10781591|10781591</td>\n",
       "      <td>psi-mi:\"MI:0463\"(biogrid)|(mentha)</td>\n",
       "    </tr>\n",
       "    <tr>\n",
       "      <th>4</th>\n",
       "      <td>A1CF</td>\n",
       "      <td>SYNCRIP</td>\n",
       "      <td>11134005|11134005|11352648</td>\n",
       "      <td>psi-mi:\"MI:0463\"(biogrid)|(mentha)</td>\n",
       "    </tr>\n",
       "  </tbody>\n",
       "</table>\n",
       "</div>"
      ],
      "text/plain": [
       "  Protein A (gene name) Protein B (gene name)  \\\n",
       "0                    1B                 DDX58   \n",
       "1                  A1CF               APOBEC1   \n",
       "2                  A1CF                 CELF2   \n",
       "3                  A1CF                 KHSRP   \n",
       "4                  A1CF               SYNCRIP   \n",
       "\n",
       "                             PubMed ID  \\\n",
       "0                             19193793   \n",
       "1  10669759|11134005|11134005|10669759   \n",
       "2                             11577082   \n",
       "3                    10781591|10781591   \n",
       "4           11134005|11134005|11352648   \n",
       "\n",
       "                                    Source databases  \n",
       "0                          psi-mi:\"MI:0486\"(UniProt)  \n",
       "1  psi-mi:\"MI:0463\"(biogrid)|psi-mi:\"MI:0463\"(bio...  \n",
       "2                                           (mentha)  \n",
       "3                 psi-mi:\"MI:0463\"(biogrid)|(mentha)  \n",
       "4                 psi-mi:\"MI:0463\"(biogrid)|(mentha)  "
      ]
     },
     "execution_count": 34,
     "metadata": {},
     "output_type": "execute_result"
    }
   ],
   "source": [
    "network_df.head()"
   ]
  },
  {
   "cell_type": "code",
   "execution_count": 35,
   "metadata": {
    "collapsed": false
   },
   "outputs": [
    {
     "data": {
      "text/plain": [
       "(106101, 4)"
      ]
     },
     "execution_count": 35,
     "metadata": {},
     "output_type": "execute_result"
    }
   ],
   "source": [
    "network_df.shape"
   ]
  },
  {
   "cell_type": "code",
   "execution_count": 36,
   "metadata": {
    "collapsed": true
   },
   "outputs": [],
   "source": [
    "#network_df.pop('Unnamed: 0');"
   ]
  },
  {
   "cell_type": "code",
   "execution_count": 37,
   "metadata": {
    "collapsed": true
   },
   "outputs": [],
   "source": [
    "network_df.drop_duplicates(inplace=True)"
   ]
  },
  {
   "cell_type": "code",
   "execution_count": 38,
   "metadata": {
    "collapsed": false
   },
   "outputs": [
    {
     "data": {
      "text/plain": [
       "(105612, 4)"
      ]
     },
     "execution_count": 38,
     "metadata": {},
     "output_type": "execute_result"
    }
   ],
   "source": [
    "network_df.shape"
   ]
  },
  {
   "cell_type": "code",
   "execution_count": 39,
   "metadata": {
    "collapsed": true
   },
   "outputs": [],
   "source": [
    "network_df.sort_values(['Protein A (gene name)', 'Protein B (gene name)'], inplace=True)"
   ]
  },
  {
   "cell_type": "code",
   "execution_count": 40,
   "metadata": {
    "collapsed": true
   },
   "outputs": [],
   "source": [
    "network_df.reset_index(inplace=True)\n",
    "network_df.drop('index', axis=1, inplace=True)"
   ]
  },
  {
   "cell_type": "code",
   "execution_count": 42,
   "metadata": {
    "collapsed": false
   },
   "outputs": [
    {
     "name": "stdout",
     "output_type": "stream",
     "text": [
      " Loop 6: 95700 Out of 95758 "
     ]
    }
   ],
   "source": [
    "concatliketerms(network_df)"
   ]
  },
  {
   "cell_type": "code",
   "execution_count": 43,
   "metadata": {
    "collapsed": false
   },
   "outputs": [
    {
     "data": {
      "text/plain": [
       "(95758, 4)"
      ]
     },
     "execution_count": 43,
     "metadata": {},
     "output_type": "execute_result"
    }
   ],
   "source": [
    "network_df.shape"
   ]
  },
  {
   "cell_type": "code",
   "execution_count": 44,
   "metadata": {
    "collapsed": true
   },
   "outputs": [],
   "source": [
    "network_df.dropna(inplace=True)"
   ]
  },
  {
   "cell_type": "code",
   "execution_count": 45,
   "metadata": {
    "collapsed": false
   },
   "outputs": [
    {
     "data": {
      "text/plain": [
       "(95758, 4)"
      ]
     },
     "execution_count": 45,
     "metadata": {},
     "output_type": "execute_result"
    }
   ],
   "source": [
    "network_df.shape"
   ]
  },
  {
   "cell_type": "code",
   "execution_count": 46,
   "metadata": {
    "collapsed": false
   },
   "outputs": [
    {
     "data": {
      "text/html": [
       "<div>\n",
       "<table border=\"1\" class=\"dataframe\">\n",
       "  <thead>\n",
       "    <tr style=\"text-align: right;\">\n",
       "      <th></th>\n",
       "      <th>Protein A (gene name)</th>\n",
       "      <th>Protein B (gene name)</th>\n",
       "      <th>PubMed ID</th>\n",
       "      <th>Source databases</th>\n",
       "    </tr>\n",
       "  </thead>\n",
       "  <tbody>\n",
       "    <tr>\n",
       "      <th>0</th>\n",
       "      <td>1B</td>\n",
       "      <td>DDX58</td>\n",
       "      <td>19193793</td>\n",
       "      <td>psi-mi:\"MI:0486\"(UniProt)</td>\n",
       "    </tr>\n",
       "    <tr>\n",
       "      <th>1</th>\n",
       "      <td>A1CF</td>\n",
       "      <td>APOBEC1</td>\n",
       "      <td>10669759|11134005|11134005|10669759</td>\n",
       "      <td>psi-mi:\"MI:0463\"(biogrid)|psi-mi:\"MI:0463\"(bio...</td>\n",
       "    </tr>\n",
       "    <tr>\n",
       "      <th>2</th>\n",
       "      <td>A1CF</td>\n",
       "      <td>CELF2</td>\n",
       "      <td>11577082</td>\n",
       "      <td>(mentha)</td>\n",
       "    </tr>\n",
       "    <tr>\n",
       "      <th>3</th>\n",
       "      <td>A1CF</td>\n",
       "      <td>KHSRP</td>\n",
       "      <td>10781591|10781591</td>\n",
       "      <td>psi-mi:\"MI:0463\"(biogrid)|(mentha)</td>\n",
       "    </tr>\n",
       "    <tr>\n",
       "      <th>4</th>\n",
       "      <td>A1CF</td>\n",
       "      <td>SYNCRIP</td>\n",
       "      <td>11134005|11134005|11352648</td>\n",
       "      <td>psi-mi:\"MI:0463\"(biogrid)|(mentha)</td>\n",
       "    </tr>\n",
       "  </tbody>\n",
       "</table>\n",
       "</div>"
      ],
      "text/plain": [
       "  Protein A (gene name) Protein B (gene name)  \\\n",
       "0                    1B                 DDX58   \n",
       "1                  A1CF               APOBEC1   \n",
       "2                  A1CF                 CELF2   \n",
       "3                  A1CF                 KHSRP   \n",
       "4                  A1CF               SYNCRIP   \n",
       "\n",
       "                             PubMed ID  \\\n",
       "0                             19193793   \n",
       "1  10669759|11134005|11134005|10669759   \n",
       "2                             11577082   \n",
       "3                    10781591|10781591   \n",
       "4           11134005|11134005|11352648   \n",
       "\n",
       "                                    Source databases  \n",
       "0                          psi-mi:\"MI:0486\"(UniProt)  \n",
       "1  psi-mi:\"MI:0463\"(biogrid)|psi-mi:\"MI:0463\"(bio...  \n",
       "2                                           (mentha)  \n",
       "3                 psi-mi:\"MI:0463\"(biogrid)|(mentha)  \n",
       "4                 psi-mi:\"MI:0463\"(biogrid)|(mentha)  "
      ]
     },
     "execution_count": 46,
     "metadata": {},
     "output_type": "execute_result"
    }
   ],
   "source": [
    "network_df.head()"
   ]
  },
  {
   "cell_type": "code",
   "execution_count": 49,
   "metadata": {
    "collapsed": false
   },
   "outputs": [],
   "source": [
    "filename = '/Users/moshesilverstein/Desktop/PPI Library/Output/Combined/Filtered/ppi_network_all_filtered_%s.tsv'% str(datetime.date.today()).replace('-', '_')\n",
    "network_df.to_csv(filename, sep='\\t', index=False) "
   ]
  },
  {
   "cell_type": "code",
   "execution_count": 52,
   "metadata": {
    "collapsed": true
   },
   "outputs": [],
   "source": [
    "filename = '/Users/moshesilverstein/Desktop/PPI Library/Output/Combined/Filtered/ppi_network_all_filtered_%s.tsv.gz'% str(datetime.date.today()).replace('-', '_')\n",
    "network_df.to_csv(filename, sep='\\t', index=False, compression='gzip') "
   ]
  },
  {
   "cell_type": "code",
   "execution_count": null,
   "metadata": {
    "collapsed": true
   },
   "outputs": [],
   "source": []
  },
  {
   "cell_type": "code",
   "execution_count": 102,
   "metadata": {
    "collapsed": false
   },
   "outputs": [],
   "source": [
    "human_uf_file = max(glob.glob('/Users/moshesilverstein/Desktop/PPI Library/Output/Combined/Unfiltered/ppi_network_human*.tsv'))\n",
    "mouse_uf_file = max(glob.glob('/Users/moshesilverstein/Desktop/PPI Library/Output/Combined/Unfiltered/ppi_network_mouse*.tsv'))"
   ]
  },
  {
   "cell_type": "code",
   "execution_count": 103,
   "metadata": {
    "collapsed": true
   },
   "outputs": [],
   "source": [
    "human_unfiltered = pd.read_csv(human_uf_file, sep='\\t')\n",
    "mouse_unfiltered = pd.read_csv(mouse_uf_file, sep='\\t')"
   ]
  },
  {
   "cell_type": "code",
   "execution_count": 104,
   "metadata": {
    "collapsed": false
   },
   "outputs": [
    {
     "data": {
      "text/html": [
       "<div>\n",
       "<table border=\"1\" class=\"dataframe\">\n",
       "  <thead>\n",
       "    <tr style=\"text-align: right;\">\n",
       "      <th></th>\n",
       "      <th>Protein A (gene name)</th>\n",
       "      <th>Protein B (gene name)</th>\n",
       "      <th>PubMed ID</th>\n",
       "      <th>Source databases</th>\n",
       "    </tr>\n",
       "  </thead>\n",
       "  <tbody>\n",
       "    <tr>\n",
       "      <th>0</th>\n",
       "      <td>1B</td>\n",
       "      <td>DDX58</td>\n",
       "      <td>19193793</td>\n",
       "      <td>psi-mi:\"MI:0486\"(UniProt)</td>\n",
       "    </tr>\n",
       "    <tr>\n",
       "      <th>1</th>\n",
       "      <td>1C</td>\n",
       "      <td>ACSL1</td>\n",
       "      <td>22593156</td>\n",
       "      <td>psi-mi:\"MI:0469\"(IntAct)</td>\n",
       "    </tr>\n",
       "    <tr>\n",
       "      <th>2</th>\n",
       "      <td>1C</td>\n",
       "      <td>ACSL3</td>\n",
       "      <td>22593156</td>\n",
       "      <td>psi-mi:\"MI:0469\"(IntAct)</td>\n",
       "    </tr>\n",
       "    <tr>\n",
       "      <th>3</th>\n",
       "      <td>1C</td>\n",
       "      <td>ACSL4</td>\n",
       "      <td>22593156</td>\n",
       "      <td>psi-mi:\"MI:0469\"(IntAct)</td>\n",
       "    </tr>\n",
       "    <tr>\n",
       "      <th>4</th>\n",
       "      <td>1C</td>\n",
       "      <td>AFG3L2</td>\n",
       "      <td>22593156</td>\n",
       "      <td>psi-mi:\"MI:0469\"(IntAct)</td>\n",
       "    </tr>\n",
       "  </tbody>\n",
       "</table>\n",
       "</div>"
      ],
      "text/plain": [
       "  Protein A (gene name) Protein B (gene name) PubMed ID  \\\n",
       "0                    1B                 DDX58  19193793   \n",
       "1                    1C                 ACSL1  22593156   \n",
       "2                    1C                 ACSL3  22593156   \n",
       "3                    1C                 ACSL4  22593156   \n",
       "4                    1C                AFG3L2  22593156   \n",
       "\n",
       "            Source databases  \n",
       "0  psi-mi:\"MI:0486\"(UniProt)  \n",
       "1   psi-mi:\"MI:0469\"(IntAct)  \n",
       "2   psi-mi:\"MI:0469\"(IntAct)  \n",
       "3   psi-mi:\"MI:0469\"(IntAct)  \n",
       "4   psi-mi:\"MI:0469\"(IntAct)  "
      ]
     },
     "execution_count": 104,
     "metadata": {},
     "output_type": "execute_result"
    }
   ],
   "source": [
    "human_unfiltered.head()"
   ]
  },
  {
   "cell_type": "code",
   "execution_count": 106,
   "metadata": {
    "collapsed": false
   },
   "outputs": [
    {
     "data": {
      "text/html": [
       "<div>\n",
       "<table border=\"1\" class=\"dataframe\">\n",
       "  <thead>\n",
       "    <tr style=\"text-align: right;\">\n",
       "      <th></th>\n",
       "      <th>Protein A (gene name)</th>\n",
       "      <th>Protein B (gene name)</th>\n",
       "      <th>PubMed ID</th>\n",
       "      <th>Source databases</th>\n",
       "    </tr>\n",
       "  </thead>\n",
       "  <tbody>\n",
       "    <tr>\n",
       "      <th>0</th>\n",
       "      <td>0610012G03RIK</td>\n",
       "      <td>PCBP1</td>\n",
       "      <td>11591653</td>\n",
       "      <td>(mentha)</td>\n",
       "    </tr>\n",
       "    <tr>\n",
       "      <th>1</th>\n",
       "      <td>1110037F02RIK</td>\n",
       "      <td>YWHAE</td>\n",
       "      <td>16615898</td>\n",
       "      <td>(mentha)</td>\n",
       "    </tr>\n",
       "    <tr>\n",
       "      <th>2</th>\n",
       "      <td>1600012H06RIK</td>\n",
       "      <td>YWHAE</td>\n",
       "      <td>16615898</td>\n",
       "      <td>(mentha)</td>\n",
       "    </tr>\n",
       "    <tr>\n",
       "      <th>3</th>\n",
       "      <td>1600012P17RIK</td>\n",
       "      <td>YWHAE</td>\n",
       "      <td>16615898</td>\n",
       "      <td>(mentha)</td>\n",
       "    </tr>\n",
       "    <tr>\n",
       "      <th>4</th>\n",
       "      <td>16AOH-B</td>\n",
       "      <td>YWHAE</td>\n",
       "      <td>16615898</td>\n",
       "      <td>(mentha)</td>\n",
       "    </tr>\n",
       "  </tbody>\n",
       "</table>\n",
       "</div>"
      ],
      "text/plain": [
       "  Protein A (gene name) Protein B (gene name) PubMed ID Source databases\n",
       "0         0610012G03RIK                 PCBP1  11591653         (mentha)\n",
       "1         1110037F02RIK                 YWHAE  16615898         (mentha)\n",
       "2         1600012H06RIK                 YWHAE  16615898         (mentha)\n",
       "3         1600012P17RIK                 YWHAE  16615898         (mentha)\n",
       "4               16AOH-B                 YWHAE  16615898         (mentha)"
      ]
     },
     "execution_count": 106,
     "metadata": {},
     "output_type": "execute_result"
    }
   ],
   "source": [
    "mouse_unfiltered.head()"
   ]
  },
  {
   "cell_type": "code",
   "execution_count": 110,
   "metadata": {
    "collapsed": false
   },
   "outputs": [
    {
     "name": "stdout",
     "output_type": "stream",
     "text": [
      " 61963 Out of 61963 "
     ]
    }
   ],
   "source": [
    "i = 1\n",
    "for index in mouse_unfiltered.index:\n",
    "    print('\\r', str(i)+' Out of '+ str(len(mouse_unfiltered.index)), end=' ', flush=True)\n",
    "    if mouse_unfiltered.ix[index, 'Protein A (gene name)'] in mouse_human['GSM'].values:\n",
    "        mouse_unfiltered.ix[index, 'Protein A (gene name)'] = mouse_human[mouse_human['GSM'] == mouse_unfiltered.ix[index, 'Protein A (gene name)']].GSH.values[0]\n",
    "    else:\n",
    "        mouse_unfiltered.ix[index, 'Protein A (gene name)'] = np.nan\n",
    "    if mouse_unfiltered.ix[index, 'Protein B (gene name)'] in mouse_human['GSM'].values:\n",
    "        mouse_unfiltered.ix[index, 'Protein B (gene name)'] = mouse_human[mouse_human['GSM'] == mouse_unfiltered.ix[index, 'Protein B (gene name)']].GSH.values[0]\n",
    "    else:\n",
    "        mouse_unfiltered.ix[index, 'Protein B (gene name)'] = np.nan\n",
    "\n",
    "    \n",
    "    i += 1"
   ]
  },
  {
   "cell_type": "code",
   "execution_count": 131,
   "metadata": {
    "collapsed": false
   },
   "outputs": [],
   "source": [
    "mouse_unfiltered.replace('nan', np.nan, inplace=True)"
   ]
  },
  {
   "cell_type": "code",
   "execution_count": 133,
   "metadata": {
    "collapsed": true
   },
   "outputs": [],
   "source": [
    "mouse_unfiltered.dropna(inplace=True)"
   ]
  },
  {
   "cell_type": "code",
   "execution_count": 136,
   "metadata": {
    "collapsed": false
   },
   "outputs": [
    {
     "data": {
      "text/html": [
       "<div>\n",
       "<table border=\"1\" class=\"dataframe\">\n",
       "  <thead>\n",
       "    <tr style=\"text-align: right;\">\n",
       "      <th></th>\n",
       "      <th>Protein A (gene name)</th>\n",
       "      <th>Protein B (gene name)</th>\n",
       "      <th>PubMed ID</th>\n",
       "      <th>Source databases</th>\n",
       "    </tr>\n",
       "  </thead>\n",
       "  <tbody>\n",
       "    <tr>\n",
       "      <th>1</th>\n",
       "      <td>KIAA1429</td>\n",
       "      <td>YWHAE</td>\n",
       "      <td>16615898</td>\n",
       "      <td>(mentha)</td>\n",
       "    </tr>\n",
       "    <tr>\n",
       "      <th>2</th>\n",
       "      <td>C6orf120</td>\n",
       "      <td>YWHAE</td>\n",
       "      <td>16615898</td>\n",
       "      <td>(mentha)</td>\n",
       "    </tr>\n",
       "    <tr>\n",
       "      <th>9</th>\n",
       "      <td>LOC102288414</td>\n",
       "      <td>YWHAE</td>\n",
       "      <td>16615898</td>\n",
       "      <td>(mentha)</td>\n",
       "    </tr>\n",
       "    <tr>\n",
       "      <th>10</th>\n",
       "      <td>KIAA1211L</td>\n",
       "      <td>YWHAE</td>\n",
       "      <td>16615898</td>\n",
       "      <td>(mentha)</td>\n",
       "    </tr>\n",
       "    <tr>\n",
       "      <th>18</th>\n",
       "      <td>FAM90A1</td>\n",
       "      <td>ATP6V1A</td>\n",
       "      <td>22707207</td>\n",
       "      <td>(mentha)</td>\n",
       "    </tr>\n",
       "  </tbody>\n",
       "</table>\n",
       "</div>"
      ],
      "text/plain": [
       "   Protein A (gene name) Protein B (gene name) PubMed ID Source databases\n",
       "1               KIAA1429                 YWHAE  16615898         (mentha)\n",
       "2               C6orf120                 YWHAE  16615898         (mentha)\n",
       "9           LOC102288414                 YWHAE  16615898         (mentha)\n",
       "10             KIAA1211L                 YWHAE  16615898         (mentha)\n",
       "18               FAM90A1               ATP6V1A  22707207         (mentha)"
      ]
     },
     "execution_count": 136,
     "metadata": {},
     "output_type": "execute_result"
    }
   ],
   "source": [
    "mouse_unfiltered.head()"
   ]
  },
  {
   "cell_type": "code",
   "execution_count": 137,
   "metadata": {
    "collapsed": true
   },
   "outputs": [],
   "source": [
    "network_uf_df = pd.concat([human_unfiltered, mouse_unfiltered])"
   ]
  },
  {
   "cell_type": "code",
   "execution_count": 138,
   "metadata": {
    "collapsed": false
   },
   "outputs": [
    {
     "data": {
      "text/html": [
       "<div>\n",
       "<table border=\"1\" class=\"dataframe\">\n",
       "  <thead>\n",
       "    <tr style=\"text-align: right;\">\n",
       "      <th></th>\n",
       "      <th>Protein A (gene name)</th>\n",
       "      <th>Protein B (gene name)</th>\n",
       "      <th>PubMed ID</th>\n",
       "      <th>Source databases</th>\n",
       "    </tr>\n",
       "  </thead>\n",
       "  <tbody>\n",
       "    <tr>\n",
       "      <th>0</th>\n",
       "      <td>1B</td>\n",
       "      <td>DDX58</td>\n",
       "      <td>19193793</td>\n",
       "      <td>psi-mi:\"MI:0486\"(UniProt)</td>\n",
       "    </tr>\n",
       "    <tr>\n",
       "      <th>1</th>\n",
       "      <td>1C</td>\n",
       "      <td>ACSL1</td>\n",
       "      <td>22593156</td>\n",
       "      <td>psi-mi:\"MI:0469\"(IntAct)</td>\n",
       "    </tr>\n",
       "    <tr>\n",
       "      <th>2</th>\n",
       "      <td>1C</td>\n",
       "      <td>ACSL3</td>\n",
       "      <td>22593156</td>\n",
       "      <td>psi-mi:\"MI:0469\"(IntAct)</td>\n",
       "    </tr>\n",
       "    <tr>\n",
       "      <th>3</th>\n",
       "      <td>1C</td>\n",
       "      <td>ACSL4</td>\n",
       "      <td>22593156</td>\n",
       "      <td>psi-mi:\"MI:0469\"(IntAct)</td>\n",
       "    </tr>\n",
       "    <tr>\n",
       "      <th>4</th>\n",
       "      <td>1C</td>\n",
       "      <td>AFG3L2</td>\n",
       "      <td>22593156</td>\n",
       "      <td>psi-mi:\"MI:0469\"(IntAct)</td>\n",
       "    </tr>\n",
       "  </tbody>\n",
       "</table>\n",
       "</div>"
      ],
      "text/plain": [
       "  Protein A (gene name) Protein B (gene name) PubMed ID  \\\n",
       "0                    1B                 DDX58  19193793   \n",
       "1                    1C                 ACSL1  22593156   \n",
       "2                    1C                 ACSL3  22593156   \n",
       "3                    1C                 ACSL4  22593156   \n",
       "4                    1C                AFG3L2  22593156   \n",
       "\n",
       "            Source databases  \n",
       "0  psi-mi:\"MI:0486\"(UniProt)  \n",
       "1   psi-mi:\"MI:0469\"(IntAct)  \n",
       "2   psi-mi:\"MI:0469\"(IntAct)  \n",
       "3   psi-mi:\"MI:0469\"(IntAct)  \n",
       "4   psi-mi:\"MI:0469\"(IntAct)  "
      ]
     },
     "execution_count": 138,
     "metadata": {},
     "output_type": "execute_result"
    }
   ],
   "source": [
    "network_uf_df.head()"
   ]
  },
  {
   "cell_type": "code",
   "execution_count": 140,
   "metadata": {
    "collapsed": false
   },
   "outputs": [
    {
     "data": {
      "text/plain": [
       "(475946, 4)"
      ]
     },
     "execution_count": 140,
     "metadata": {},
     "output_type": "execute_result"
    }
   ],
   "source": [
    "network_uf_df.shape"
   ]
  },
  {
   "cell_type": "code",
   "execution_count": 141,
   "metadata": {
    "collapsed": false
   },
   "outputs": [
    {
     "name": "stdout",
     "output_type": "stream",
     "text": [
      " Loop 3: 470600 Out of 470684 "
     ]
    }
   ],
   "source": [
    "concatliketerms(network_uf_df)"
   ]
  },
  {
   "cell_type": "code",
   "execution_count": 145,
   "metadata": {
    "collapsed": false
   },
   "outputs": [
    {
     "data": {
      "text/plain": [
       "(470684, 4)"
      ]
     },
     "execution_count": 145,
     "metadata": {},
     "output_type": "execute_result"
    }
   ],
   "source": [
    "network_uf_df.shape"
   ]
  },
  {
   "cell_type": "code",
   "execution_count": 147,
   "metadata": {
    "collapsed": false
   },
   "outputs": [],
   "source": [
    "network_uf_df.dropna(inplace=True)"
   ]
  },
  {
   "cell_type": "code",
   "execution_count": 148,
   "metadata": {
    "collapsed": false
   },
   "outputs": [
    {
     "data": {
      "text/plain": [
       "(470356, 4)"
      ]
     },
     "execution_count": 148,
     "metadata": {},
     "output_type": "execute_result"
    }
   ],
   "source": [
    "network_uf_df.shape"
   ]
  },
  {
   "cell_type": "code",
   "execution_count": 149,
   "metadata": {
    "collapsed": true
   },
   "outputs": [],
   "source": [
    "filename = '/Users/moshesilverstein/Desktop/PPI Library/Output/Combined/Unfiltered/ppi_network_all_unfiltered_%s.tsv'% str(datetime.date.today()).replace('-', '_')\n",
    "network_uf_df.to_csv(filename, sep='\\t', index=False) "
   ]
  },
  {
   "cell_type": "code",
   "execution_count": 150,
   "metadata": {
    "collapsed": true
   },
   "outputs": [],
   "source": [
    "filename = '/Users/moshesilverstein/Desktop/PPI Library/Output/Combined/Unfiltered/ppi_network_all_unfiltered_%s.tsv.gz'% str(datetime.date.today()).replace('-', '_')\n",
    "network_uf_df.to_csv(filename, sep='\\t', index=False, compression='gzip') "
   ]
  },
  {
   "cell_type": "markdown",
   "metadata": {},
   "source": [
    "## Get Network Graph"
   ]
  },
  {
   "cell_type": "code",
   "execution_count": 122,
   "metadata": {
    "collapsed": false
   },
   "outputs": [
    {
     "name": "stdout",
     "output_type": "stream",
     "text": [
      " 88000 Out of 88006 "
     ]
    }
   ],
   "source": [
    "genes = network_df['Protein A (gene name)'].values.tolist()+network_df['Protein B (gene name)'].values.tolist()\n",
    "# genes = [item for sublist in genes for item in sublist]\n",
    "genes = set(genes)\n",
    "genes = list(genes)\n",
    "genes.remove('nan')\n",
    "genes.sort()\n",
    "graph_df = pd.DataFrame(columns=genes, index=genes)\n",
    "\n",
    "i = 1\n",
    "for index in network_df.index:\n",
    "    if i % 100 == 0:\n",
    "        print('\\r', str(i)+' Out of '+ str(len(network_df.index)), end=' ', flush=True)\n",
    "    graph_df.ix[network_df.ix[index, 'Protein A (gene name)'], network_df.ix[index, 'Protein B (gene name)']] = 1\n",
    "    graph_df.ix[network_df.ix[index, 'Protein B (gene name)'], network_df.ix[index, 'Protein A (gene name)']] = 1\n",
    "    i += 1\n",
    "\n",
    "graph_df.replace(np.nan, 0, inplace=True)"
   ]
  },
  {
   "cell_type": "code",
   "execution_count": 128,
   "metadata": {
    "collapsed": false
   },
   "outputs": [],
   "source": [
    "graph_df.pop('nan')\n",
    "graph_df.T.pop('nan')"
   ]
  },
  {
   "cell_type": "code",
   "execution_count": 86,
   "metadata": {
    "collapsed": false
   },
   "outputs": [
    {
     "data": {
      "text/plain": [
       "1"
      ]
     },
     "execution_count": 86,
     "metadata": {},
     "output_type": "execute_result"
    }
   ],
   "source": [
    "graph_df.ix['A1CF', 'CELF2']"
   ]
  },
  {
   "cell_type": "code",
   "execution_count": 129,
   "metadata": {
    "collapsed": false
   },
   "outputs": [
    {
     "data": {
      "text/html": [
       "<div>\n",
       "<table border=\"1\" class=\"dataframe\">\n",
       "  <thead>\n",
       "    <tr style=\"text-align: right;\">\n",
       "      <th></th>\n",
       "      <th>1B</th>\n",
       "      <th>A0A024R2Q0</th>\n",
       "      <th>A0A0C4DGW0</th>\n",
       "      <th>A1BG</th>\n",
       "      <th>A1CF</th>\n",
       "      <th>A2M</th>\n",
       "      <th>AAAS</th>\n",
       "      <th>AAGAB</th>\n",
       "      <th>AAK1</th>\n",
       "      <th>AAMP</th>\n",
       "      <th>...</th>\n",
       "      <th>ZSWIM7</th>\n",
       "      <th>ZW10</th>\n",
       "      <th>ZWILCH</th>\n",
       "      <th>ZWINT</th>\n",
       "      <th>ZXDC</th>\n",
       "      <th>ZYG11B</th>\n",
       "      <th>ZYX</th>\n",
       "      <th>ZZZ3</th>\n",
       "      <th>dystrophin</th>\n",
       "      <th>p72syk</th>\n",
       "    </tr>\n",
       "  </thead>\n",
       "  <tbody>\n",
       "    <tr>\n",
       "      <th>1B</th>\n",
       "      <td>0</td>\n",
       "      <td>0</td>\n",
       "      <td>0</td>\n",
       "      <td>0</td>\n",
       "      <td>0</td>\n",
       "      <td>0</td>\n",
       "      <td>0</td>\n",
       "      <td>0</td>\n",
       "      <td>0</td>\n",
       "      <td>0</td>\n",
       "      <td>...</td>\n",
       "      <td>0</td>\n",
       "      <td>0</td>\n",
       "      <td>0</td>\n",
       "      <td>0</td>\n",
       "      <td>0</td>\n",
       "      <td>0</td>\n",
       "      <td>0</td>\n",
       "      <td>0</td>\n",
       "      <td>0</td>\n",
       "      <td>0</td>\n",
       "    </tr>\n",
       "    <tr>\n",
       "      <th>A0A024R2Q0</th>\n",
       "      <td>0</td>\n",
       "      <td>0</td>\n",
       "      <td>0</td>\n",
       "      <td>0</td>\n",
       "      <td>0</td>\n",
       "      <td>0</td>\n",
       "      <td>0</td>\n",
       "      <td>0</td>\n",
       "      <td>0</td>\n",
       "      <td>0</td>\n",
       "      <td>...</td>\n",
       "      <td>0</td>\n",
       "      <td>0</td>\n",
       "      <td>0</td>\n",
       "      <td>0</td>\n",
       "      <td>0</td>\n",
       "      <td>0</td>\n",
       "      <td>0</td>\n",
       "      <td>0</td>\n",
       "      <td>0</td>\n",
       "      <td>0</td>\n",
       "    </tr>\n",
       "    <tr>\n",
       "      <th>A0A0C4DGW0</th>\n",
       "      <td>0</td>\n",
       "      <td>0</td>\n",
       "      <td>0</td>\n",
       "      <td>0</td>\n",
       "      <td>0</td>\n",
       "      <td>0</td>\n",
       "      <td>0</td>\n",
       "      <td>0</td>\n",
       "      <td>0</td>\n",
       "      <td>0</td>\n",
       "      <td>...</td>\n",
       "      <td>0</td>\n",
       "      <td>0</td>\n",
       "      <td>0</td>\n",
       "      <td>0</td>\n",
       "      <td>0</td>\n",
       "      <td>0</td>\n",
       "      <td>0</td>\n",
       "      <td>0</td>\n",
       "      <td>0</td>\n",
       "      <td>0</td>\n",
       "    </tr>\n",
       "    <tr>\n",
       "      <th>A1BG</th>\n",
       "      <td>0</td>\n",
       "      <td>0</td>\n",
       "      <td>0</td>\n",
       "      <td>0</td>\n",
       "      <td>0</td>\n",
       "      <td>0</td>\n",
       "      <td>0</td>\n",
       "      <td>0</td>\n",
       "      <td>0</td>\n",
       "      <td>0</td>\n",
       "      <td>...</td>\n",
       "      <td>0</td>\n",
       "      <td>0</td>\n",
       "      <td>0</td>\n",
       "      <td>0</td>\n",
       "      <td>0</td>\n",
       "      <td>0</td>\n",
       "      <td>0</td>\n",
       "      <td>0</td>\n",
       "      <td>0</td>\n",
       "      <td>0</td>\n",
       "    </tr>\n",
       "    <tr>\n",
       "      <th>A1CF</th>\n",
       "      <td>0</td>\n",
       "      <td>0</td>\n",
       "      <td>0</td>\n",
       "      <td>0</td>\n",
       "      <td>0</td>\n",
       "      <td>0</td>\n",
       "      <td>0</td>\n",
       "      <td>0</td>\n",
       "      <td>0</td>\n",
       "      <td>0</td>\n",
       "      <td>...</td>\n",
       "      <td>0</td>\n",
       "      <td>0</td>\n",
       "      <td>0</td>\n",
       "      <td>0</td>\n",
       "      <td>0</td>\n",
       "      <td>0</td>\n",
       "      <td>0</td>\n",
       "      <td>0</td>\n",
       "      <td>0</td>\n",
       "      <td>0</td>\n",
       "    </tr>\n",
       "  </tbody>\n",
       "</table>\n",
       "<p>5 rows × 10454 columns</p>\n",
       "</div>"
      ],
      "text/plain": [
       "            1B  A0A024R2Q0  A0A0C4DGW0  A1BG  A1CF  A2M  AAAS  AAGAB  AAK1  \\\n",
       "1B           0           0           0     0     0    0     0      0     0   \n",
       "A0A024R2Q0   0           0           0     0     0    0     0      0     0   \n",
       "A0A0C4DGW0   0           0           0     0     0    0     0      0     0   \n",
       "A1BG         0           0           0     0     0    0     0      0     0   \n",
       "A1CF         0           0           0     0     0    0     0      0     0   \n",
       "\n",
       "            AAMP   ...    ZSWIM7  ZW10  ZWILCH  ZWINT  ZXDC  ZYG11B  ZYX  \\\n",
       "1B             0   ...         0     0       0      0     0       0    0   \n",
       "A0A024R2Q0     0   ...         0     0       0      0     0       0    0   \n",
       "A0A0C4DGW0     0   ...         0     0       0      0     0       0    0   \n",
       "A1BG           0   ...         0     0       0      0     0       0    0   \n",
       "A1CF           0   ...         0     0       0      0     0       0    0   \n",
       "\n",
       "            ZZZ3  dystrophin  p72syk  \n",
       "1B             0           0       0  \n",
       "A0A024R2Q0     0           0       0  \n",
       "A0A0C4DGW0     0           0       0  \n",
       "A1BG           0           0       0  \n",
       "A1CF           0           0       0  \n",
       "\n",
       "[5 rows x 10454 columns]"
      ]
     },
     "execution_count": 129,
     "metadata": {},
     "output_type": "execute_result"
    }
   ],
   "source": [
    "graph_df.T.head()"
   ]
  },
  {
   "cell_type": "markdown",
   "metadata": {},
   "source": [
    "#### 2D Graph"
   ]
  },
  {
   "cell_type": "code",
   "execution_count": 98,
   "metadata": {
    "collapsed": true
   },
   "outputs": [],
   "source": [
    "def show_graph(adjacency_matrix):\n",
    "    # given an adjacency matrix use networkx and matlpotlib to plot the graph\n",
    "    rows, cols = np.where(adjacency_matrix == 1)\n",
    "    edges = zip(rows.tolist(), cols.tolist())\n",
    "    gr = nx.Graph()\n",
    "    gr.add_edges_from(edges)\n",
    "    # nx.draw(gr) # edited to include labels\n",
    "    nx.draw_networkx(gr, with_labels=False)\n",
    "    # now if you decide you don't want labels because your graph\n",
    "    # is too busy just do: nx.draw_networkx(G,with_labels=False)\n",
    "    plt.show() "
   ]
  },
  {
   "cell_type": "code",
   "execution_count": 99,
   "metadata": {
    "collapsed": false
   },
   "outputs": [
    {
     "data": {
      "image/png": "[encoded data removed]",
      "text/plain": [
       "<https://urldefense.proofpoint.com/v2/url?u=http-3A__matplotlib.figure.Figureat0x113349c88&d=DwIGaQ&c=shNJtf5dKgNcPZ6Yh64b-A&r=FzzxHcpcdpeEl2SeS4RngXJfR5R4cEV8N2xULwaH8LE&m=H47AkOYhsWJidY3BTdZQzbIarlSka87imDJ8Qn9e6GY&s=mLWrGowJ3-5h_qMOUKJI5zbyq_5W65DaKHgE7VzocHI&e= >"
      ]
     },
     "metadata": {},
     "output_type": "display_data"
    }
   ],
   "source": [
    "show_graph(np.matrix(graph_df.values))"
   ]
  },
  {
   "cell_type": "code",
   "execution_count": 130,
   "metadata": {
    "collapsed": false
   },
   "outputs": [
    {
     "name": "stdout",
     "output_type": "stream",
     "text": [
      " 10454 Out of 10454 "
     ]
    }
   ],
   "source": [
    "n = []\n",
    "i = 1\n",
    "for index in graph_df.index:\n",
    "    print('\\r', str(i)+' Out of '+ str(len(graph_df.index)), end=' ', flush=True)\n",
    "    n.append(graph_df.ix[index].sum())\n",
    "    i += 1\n",
    "number_of_links = pd.DataFrame(index=genes, data=n)"
   ]
  },
  {
   "cell_type": "code",
   "execution_count": 131,
   "metadata": {
    "collapsed": false
   },
   "outputs": [
    {
     "data": {
      "text/html": [
       "<div>\n",
       "<table border=\"1\" class=\"dataframe\">\n",
       "  <thead>\n",
       "    <tr style=\"text-align: right;\">\n",
       "      <th></th>\n",
       "      <th>0</th>\n",
       "    </tr>\n",
       "  </thead>\n",
       "  <tbody>\n",
       "    <tr>\n",
       "      <th>1B</th>\n",
       "      <td>1</td>\n",
       "    </tr>\n",
       "    <tr>\n",
       "      <th>A0A024R2Q0</th>\n",
       "      <td>1</td>\n",
       "    </tr>\n",
       "    <tr>\n",
       "      <th>A0A0C4DGW0</th>\n",
       "      <td>1</td>\n",
       "    </tr>\n",
       "    <tr>\n",
       "      <th>A1BG</th>\n",
       "      <td>1</td>\n",
       "    </tr>\n",
       "    <tr>\n",
       "      <th>A1CF</th>\n",
       "      <td>5</td>\n",
       "    </tr>\n",
       "  </tbody>\n",
       "</table>\n",
       "</div>"
      ],
      "text/plain": [
       "            0\n",
       "1B          1\n",
       "A0A024R2Q0  1\n",
       "A0A0C4DGW0  1\n",
       "A1BG        1\n",
       "A1CF        5"
      ]
     },
     "execution_count": 131,
     "metadata": {},
     "output_type": "execute_result"
    }
   ],
   "source": [
    "number_of_links.head()"
   ]
  },
  {
   "cell_type": "code",
   "execution_count": 132,
   "metadata": {
    "collapsed": false
   },
   "outputs": [
    {
     "data": {
      "text/html": [
       "<div>\n",
       "<table border=\"1\" class=\"dataframe\">\n",
       "  <thead>\n",
       "    <tr style=\"text-align: right;\">\n",
       "      <th></th>\n",
       "      <th>0</th>\n",
       "    </tr>\n",
       "  </thead>\n",
       "  <tbody>\n",
       "    <tr>\n",
       "      <th>ABL1</th>\n",
       "      <td>167</td>\n",
       "    </tr>\n",
       "    <tr>\n",
       "      <th>ACTA1</th>\n",
       "      <td>71</td>\n",
       "    </tr>\n",
       "    <tr>\n",
       "      <th>ACTB</th>\n",
       "      <td>127</td>\n",
       "    </tr>\n",
       "    <tr>\n",
       "      <th>AGO2</th>\n",
       "      <td>60</td>\n",
       "    </tr>\n",
       "    <tr>\n",
       "      <th>AKT1</th>\n",
       "      <td>256</td>\n",
       "    </tr>\n",
       "    <tr>\n",
       "      <th>AMFR</th>\n",
       "      <td>54</td>\n",
       "    </tr>\n",
       "    <tr>\n",
       "      <th>APC</th>\n",
       "      <td>89</td>\n",
       "    </tr>\n",
       "    <tr>\n",
       "      <th>APP</th>\n",
       "      <td>151</td>\n",
       "    </tr>\n",
       "    <tr>\n",
       "      <th>AR</th>\n",
       "      <td>263</td>\n",
       "    </tr>\n",
       "    <tr>\n",
       "      <th>ARRB1</th>\n",
       "      <td>88</td>\n",
       "    </tr>\n",
       "    <tr>\n",
       "      <th>ARRB2</th>\n",
       "      <td>97</td>\n",
       "    </tr>\n",
       "    <tr>\n",
       "      <th>ASH2L</th>\n",
       "      <td>52</td>\n",
       "    </tr>\n",
       "    <tr>\n",
       "      <th>ATF2</th>\n",
       "      <td>57</td>\n",
       "    </tr>\n",
       "    <tr>\n",
       "      <th>ATM</th>\n",
       "      <td>114</td>\n",
       "    </tr>\n",
       "    <tr>\n",
       "      <th>ATR</th>\n",
       "      <td>65</td>\n",
       "    </tr>\n",
       "    <tr>\n",
       "      <th>AURKA</th>\n",
       "      <td>89</td>\n",
       "    </tr>\n",
       "    <tr>\n",
       "      <th>AURKB</th>\n",
       "      <td>87</td>\n",
       "    </tr>\n",
       "    <tr>\n",
       "      <th>AXIN1</th>\n",
       "      <td>82</td>\n",
       "    </tr>\n",
       "    <tr>\n",
       "      <th>BARD1</th>\n",
       "      <td>66</td>\n",
       "    </tr>\n",
       "    <tr>\n",
       "      <th>BAX</th>\n",
       "      <td>66</td>\n",
       "    </tr>\n",
       "    <tr>\n",
       "      <th>BCAR1</th>\n",
       "      <td>53</td>\n",
       "    </tr>\n",
       "    <tr>\n",
       "      <th>BCL10</th>\n",
       "      <td>61</td>\n",
       "    </tr>\n",
       "    <tr>\n",
       "      <th>BCL2</th>\n",
       "      <td>123</td>\n",
       "    </tr>\n",
       "    <tr>\n",
       "      <th>BCL2L1</th>\n",
       "      <td>71</td>\n",
       "    </tr>\n",
       "    <tr>\n",
       "      <th>BCR</th>\n",
       "      <td>52</td>\n",
       "    </tr>\n",
       "    <tr>\n",
       "      <th>BECN1</th>\n",
       "      <td>79</td>\n",
       "    </tr>\n",
       "    <tr>\n",
       "      <th>BIRC2</th>\n",
       "      <td>82</td>\n",
       "    </tr>\n",
       "    <tr>\n",
       "      <th>BIRC3</th>\n",
       "      <td>65</td>\n",
       "    </tr>\n",
       "    <tr>\n",
       "      <th>BLM</th>\n",
       "      <td>53</td>\n",
       "    </tr>\n",
       "    <tr>\n",
       "      <th>BRCA1</th>\n",
       "      <td>264</td>\n",
       "    </tr>\n",
       "    <tr>\n",
       "      <th>...</th>\n",
       "      <td>...</td>\n",
       "    </tr>\n",
       "    <tr>\n",
       "      <th>UBE2D3</th>\n",
       "      <td>123</td>\n",
       "    </tr>\n",
       "    <tr>\n",
       "      <th>UBE2E1</th>\n",
       "      <td>57</td>\n",
       "    </tr>\n",
       "    <tr>\n",
       "      <th>UBE2I</th>\n",
       "      <td>250</td>\n",
       "    </tr>\n",
       "    <tr>\n",
       "      <th>UBE2L3</th>\n",
       "      <td>64</td>\n",
       "    </tr>\n",
       "    <tr>\n",
       "      <th>UBE2N</th>\n",
       "      <td>84</td>\n",
       "    </tr>\n",
       "    <tr>\n",
       "      <th>UBE3A</th>\n",
       "      <td>60</td>\n",
       "    </tr>\n",
       "    <tr>\n",
       "      <th>UBQLN1</th>\n",
       "      <td>58</td>\n",
       "    </tr>\n",
       "    <tr>\n",
       "      <th>UCHL5</th>\n",
       "      <td>58</td>\n",
       "    </tr>\n",
       "    <tr>\n",
       "      <th>USP7</th>\n",
       "      <td>82</td>\n",
       "    </tr>\n",
       "    <tr>\n",
       "      <th>VAV1</th>\n",
       "      <td>72</td>\n",
       "    </tr>\n",
       "    <tr>\n",
       "      <th>VCP</th>\n",
       "      <td>171</td>\n",
       "    </tr>\n",
       "    <tr>\n",
       "      <th>VDR</th>\n",
       "      <td>74</td>\n",
       "    </tr>\n",
       "    <tr>\n",
       "      <th>VHL</th>\n",
       "      <td>138</td>\n",
       "    </tr>\n",
       "    <tr>\n",
       "      <th>VIM</th>\n",
       "      <td>53</td>\n",
       "    </tr>\n",
       "    <tr>\n",
       "      <th>WAS</th>\n",
       "      <td>64</td>\n",
       "    </tr>\n",
       "    <tr>\n",
       "      <th>WDR5</th>\n",
       "      <td>75</td>\n",
       "    </tr>\n",
       "    <tr>\n",
       "      <th>XIAP</th>\n",
       "      <td>103</td>\n",
       "    </tr>\n",
       "    <tr>\n",
       "      <th>XPO1</th>\n",
       "      <td>95</td>\n",
       "    </tr>\n",
       "    <tr>\n",
       "      <th>XRCC5</th>\n",
       "      <td>98</td>\n",
       "    </tr>\n",
       "    <tr>\n",
       "      <th>XRCC6</th>\n",
       "      <td>100</td>\n",
       "    </tr>\n",
       "    <tr>\n",
       "      <th>YAP1</th>\n",
       "      <td>67</td>\n",
       "    </tr>\n",
       "    <tr>\n",
       "      <th>YWHAB</th>\n",
       "      <td>150</td>\n",
       "    </tr>\n",
       "    <tr>\n",
       "      <th>YWHAE</th>\n",
       "      <td>115</td>\n",
       "    </tr>\n",
       "    <tr>\n",
       "      <th>YWHAG</th>\n",
       "      <td>89</td>\n",
       "    </tr>\n",
       "    <tr>\n",
       "      <th>YWHAH</th>\n",
       "      <td>88</td>\n",
       "    </tr>\n",
       "    <tr>\n",
       "      <th>YWHAQ</th>\n",
       "      <td>149</td>\n",
       "    </tr>\n",
       "    <tr>\n",
       "      <th>YWHAZ</th>\n",
       "      <td>216</td>\n",
       "    </tr>\n",
       "    <tr>\n",
       "      <th>YY1</th>\n",
       "      <td>99</td>\n",
       "    </tr>\n",
       "    <tr>\n",
       "      <th>ZAP70</th>\n",
       "      <td>54</td>\n",
       "    </tr>\n",
       "    <tr>\n",
       "      <th>ZBTB16</th>\n",
       "      <td>53</td>\n",
       "    </tr>\n",
       "  </tbody>\n",
       "</table>\n",
       "<p>431 rows × 1 columns</p>\n",
       "</div>"
      ],
      "text/plain": [
       "          0\n",
       "ABL1    167\n",
       "ACTA1    71\n",
       "ACTB    127\n",
       "AGO2     60\n",
       "AKT1    256\n",
       "AMFR     54\n",
       "APC      89\n",
       "APP     151\n",
       "AR      263\n",
       "ARRB1    88\n",
       "ARRB2    97\n",
       "ASH2L    52\n",
       "ATF2     57\n",
       "ATM     114\n",
       "ATR      65\n",
       "AURKA    89\n",
       "AURKB    87\n",
       "AXIN1    82\n",
       "BARD1    66\n",
       "BAX      66\n",
       "BCAR1    53\n",
       "BCL10    61\n",
       "BCL2    123\n",
       "BCL2L1   71\n",
       "BCR      52\n",
       "BECN1    79\n",
       "BIRC2    82\n",
       "BIRC3    65\n",
       "BLM      53\n",
       "BRCA1   264\n",
       "...     ...\n",
       "UBE2D3  123\n",
       "UBE2E1   57\n",
       "UBE2I   250\n",
       "UBE2L3   64\n",
       "UBE2N    84\n",
       "UBE3A    60\n",
       "UBQLN1   58\n",
       "UCHL5    58\n",
       "USP7     82\n",
       "VAV1     72\n",
       "VCP     171\n",
       "VDR      74\n",
       "VHL     138\n",
       "VIM      53\n",
       "WAS      64\n",
       "WDR5     75\n",
       "XIAP    103\n",
       "XPO1     95\n",
       "XRCC5    98\n",
       "XRCC6   100\n",
       "YAP1     67\n",
       "YWHAB   150\n",
       "YWHAE   115\n",
       "YWHAG    89\n",
       "YWHAH    88\n",
       "YWHAQ   149\n",
       "YWHAZ   216\n",
       "YY1      99\n",
       "ZAP70    54\n",
       "ZBTB16   53\n",
       "\n",
       "[431 rows x 1 columns]"
      ]
     },
     "execution_count": 132,
     "metadata": {},
     "output_type": "execute_result"
    }
   ],
   "source": [
    "number_of_links[number_of_links.values >= 50]"
   ]
  },
  {
   "cell_type": "code",
   "execution_count": 295,
   "metadata": {
    "collapsed": false
   },
   "outputs": [
    {
     "name": "stderr",
     "output_type": "stream",
     "text": [
      "/Users/moshesilverstein/anaconda/lib/python3.5/site-packages/ipykernel/__main__.py:7: VisibleDeprecationWarning: using a non-integer number instead of an integer will result in an error in the future\n",
      "/Users/moshesilverstein/anaconda/lib/python3.5/site-packages/ipykernel/__main__.py:8: VisibleDeprecationWarning: using a non-integer number instead of an integer will result in an error in the future\n",
      "/Users/moshesilverstein/anaconda/lib/python3.5/site-packages/ipykernel/__main__.py:12: VisibleDeprecationWarning: using a non-integer number instead of an integer will result in an error in the future\n",
      "/Users/moshesilverstein/anaconda/lib/python3.5/site-packages/ipykernel/__main__.py:13: VisibleDeprecationWarning: using a non-integer number instead of an integer will result in an error in the future\n"
     ]
    },
    {
     "data": {
      "text/html": [
       "<div>\n",
       "<table border=\"1\" class=\"dataframe\">\n",
       "  <thead>\n",
       "    <tr style=\"text-align: right;\">\n",
       "      <th></th>\n",
       "      <th>x</th>\n",
       "      <th>y</th>\n",
       "      <th>z</th>\n",
       "    </tr>\n",
       "  </thead>\n",
       "  <tbody>\n",
       "    <tr>\n",
       "      <th>ABL1</th>\n",
       "      <td>0.0</td>\n",
       "      <td>0.0</td>\n",
       "      <td>0.0</td>\n",
       "    </tr>\n",
       "    <tr>\n",
       "      <th>ACTA1</th>\n",
       "      <td>0.0</td>\n",
       "      <td>0.0</td>\n",
       "      <td>10.0</td>\n",
       "    </tr>\n",
       "    <tr>\n",
       "      <th>ACTB</th>\n",
       "      <td>0.0</td>\n",
       "      <td>0.0</td>\n",
       "      <td>20.0</td>\n",
       "    </tr>\n",
       "    <tr>\n",
       "      <th>AGO2</th>\n",
       "      <td>0.0</td>\n",
       "      <td>0.0</td>\n",
       "      <td>30.0</td>\n",
       "    </tr>\n",
       "    <tr>\n",
       "      <th>AKT1</th>\n",
       "      <td>0.0</td>\n",
       "      <td>10.0</td>\n",
       "      <td>0.0</td>\n",
       "    </tr>\n",
       "  </tbody>\n",
       "</table>\n",
       "</div>"
      ],
      "text/plain": [
       "         x     y     z\n",
       "ABL1   0.0   0.0   0.0\n",
       "ACTA1  0.0   0.0  10.0\n",
       "ACTB   0.0   0.0  20.0\n",
       "AGO2   0.0   0.0  30.0\n",
       "AKT1   0.0  10.0   0.0"
      ]
     },
     "execution_count": 295,
     "metadata": {},
     "output_type": "execute_result"
    }
   ],
   "source": [
    "hub_loc = pd.DataFrame(index=number_of_links[number_of_links.values >= 50].index[0:50], columns=['x','y','z'])\n",
    "\n",
    "sample_per_side = np.round(np.power(len(hub_loc.index), (1./3)))\n",
    "\n",
    "dist = 10\n",
    "\n",
    "x_list = (np.arange(0, dist*sample_per_side, dist).tolist()*(np.round(len(hub_loc.index)/int(sample_per_side))+sample_per_side))[0:len(hub_loc.index)]\n",
    "z_list = (np.arange(0, dist*sample_per_side, dist).tolist()*(np.round(len(hub_loc.index)/int(sample_per_side))+sample_per_side))[0:len(hub_loc.index)]\n",
    "y_list = []\n",
    "list_y = (np.arange(0, dist*sample_per_side, dist).tolist())\n",
    "for n in list_y:\n",
    "    y_list.append([n]*sample_per_side)\n",
    "y_list = [y_list]*sample_per_side\n",
    "\n",
    "y_list = [item for sublist in y_list for item in sublist]\n",
    "y_list = [item for sublist in y_list for item in sublist]\n",
    "y_list = y_list[0:len(hub_loc.index)]\n",
    "          \n",
    "          \n",
    "hub_loc['x'] = np.sort(x_list)\n",
    "hub_loc['y'] = y_list\n",
    "hub_loc['z'] = z_list\n",
    "                \n",
    "hub_loc.head()"
   ]
  },
  {
   "cell_type": "code",
   "execution_count": 296,
   "metadata": {
    "collapsed": false
   },
   "outputs": [
    {
     "data": {
      "text/plain": [
       "4.0"
      ]
     },
     "execution_count": 296,
     "metadata": {},
     "output_type": "execute_result"
    }
   ],
   "source": [
    "len(x_list)\n",
    "len(hub_loc.index)\n",
    "np.round(len(hub_loc.index)/int(sample_per_side))\n",
    "sample_per_side"
   ]
  },
  {
   "cell_type": "code",
   "execution_count": 297,
   "metadata": {
    "collapsed": false
   },
   "outputs": [
    {
     "data": {
      "text/plain": [
       "<mpl_toolkits.mplot3d.art3d.Path3DCollection at 0x11ff5d550>"
      ]
     },
     "execution_count": 297,
     "metadata": {},
     "output_type": "execute_result"
    },
    {
     "data": {
      "image/png": "[encoded data removed]",
      "text/plain": [
       "<https://urldefense.proofpoint.com/v2/url?u=http-3A__matplotlib.figure.Figureat0x12107cac8&d=DwIGaQ&c=shNJtf5dKgNcPZ6Yh64b-A&r=FzzxHcpcdpeEl2SeS4RngXJfR5R4cEV8N2xULwaH8LE&m=H47AkOYhsWJidY3BTdZQzbIarlSka87imDJ8Qn9e6GY&s=uXGDdLpP3v5d81E1-LQjWxZPwR6Q56brY4pEliPGvnQ&e= >"
      ]
     },
     "metadata": {},
     "output_type": "display_data"
    }
   ],
   "source": [
    "fig = plt.figure()\n",
    "ax = fig.add_subplot(111, projection='3d')\n",
    "ax.scatter(hub_loc['x'], hub_loc['y'], hub_loc['z'])"
   ]
  },
  {
   "cell_type": "code",
   "execution_count": 287,
   "metadata": {
    "collapsed": true
   },
   "outputs": [],
   "source": [
    "def distance(a,b):\n",
    "    c = np.array(a)-np.array(b)\n",
    "    return np.linalg.norm(c)"
   ]
  },
  {
   "cell_type": "code",
   "execution_count": 298,
   "metadata": {
    "collapsed": false
   },
   "outputs": [
    {
     "name": "stderr",
     "output_type": "stream",
     "text": [
      "/Users/moshesilverstein/anaconda/lib/python3.5/site-packages/ipykernel/__main__.py:10: RuntimeWarning: invalid value encountered in double_scalars\n"
     ]
    }
   ],
   "source": [
    "link_dist = 5\n",
    "for index1 in hub_loc.index:\n",
    "    for index2 in hub_loc.index:\n",
    "        if index1 != index2:\n",
    "            pos1 = [hub_loc.ix[index1, 'x'], hub_loc.ix[index1, 'y'], hub_loc.ix[index1, 'z']]\n",
    "            pos2 = [hub_loc.ix[index2, 'x'], hub_loc.ix[index2, 'y'], hub_loc.ix[index2, 'z']]\n",
    "            dist = distance(pos1, pos2)\n",
    "            if graph_df.ix[index1, index2] == 1:\n",
    "                if dist > link_dist:\n",
    "                    hub_loc.ix[index2, 'x'] = pos1[0] - pow((pow(link_dist, 2)-pow((pos1[1]-pos2[1]), 2)-pow((pos1[2]-pos2[2]), 2)), (1/2))"
   ]
  },
  {
   "cell_type": "code",
   "execution_count": 299,
   "metadata": {
    "collapsed": false
   },
   "outputs": [
    {
     "data": {
      "text/html": [
       "<div>\n",
       "<table border=\"1\" class=\"dataframe\">\n",
       "  <thead>\n",
       "    <tr style=\"text-align: right;\">\n",
       "      <th></th>\n",
       "      <th>x</th>\n",
       "      <th>y</th>\n",
       "      <th>z</th>\n",
       "    </tr>\n",
       "  </thead>\n",
       "  <tbody>\n",
       "    <tr>\n",
       "      <th>ABL1</th>\n",
       "      <td>0.0</td>\n",
       "      <td>0.0</td>\n",
       "      <td>0.0</td>\n",
       "    </tr>\n",
       "    <tr>\n",
       "      <th>ACTA1</th>\n",
       "      <td>NaN</td>\n",
       "      <td>0.0</td>\n",
       "      <td>10.0</td>\n",
       "    </tr>\n",
       "    <tr>\n",
       "      <th>ACTB</th>\n",
       "      <td>0.0</td>\n",
       "      <td>0.0</td>\n",
       "      <td>20.0</td>\n",
       "    </tr>\n",
       "    <tr>\n",
       "      <th>AGO2</th>\n",
       "      <td>0.0</td>\n",
       "      <td>0.0</td>\n",
       "      <td>30.0</td>\n",
       "    </tr>\n",
       "    <tr>\n",
       "      <th>AKT1</th>\n",
       "      <td>NaN</td>\n",
       "      <td>10.0</td>\n",
       "      <td>0.0</td>\n",
       "    </tr>\n",
       "    <tr>\n",
       "      <th>AMFR</th>\n",
       "      <td>0.0</td>\n",
       "      <td>10.0</td>\n",
       "      <td>10.0</td>\n",
       "    </tr>\n",
       "    <tr>\n",
       "      <th>APC</th>\n",
       "      <td>0.0</td>\n",
       "      <td>10.0</td>\n",
       "      <td>20.0</td>\n",
       "    </tr>\n",
       "    <tr>\n",
       "      <th>APP</th>\n",
       "      <td>NaN</td>\n",
       "      <td>10.0</td>\n",
       "      <td>30.0</td>\n",
       "    </tr>\n",
       "    <tr>\n",
       "      <th>AR</th>\n",
       "      <td>NaN</td>\n",
       "      <td>20.0</td>\n",
       "      <td>0.0</td>\n",
       "    </tr>\n",
       "    <tr>\n",
       "      <th>ARRB1</th>\n",
       "      <td>0.0</td>\n",
       "      <td>20.0</td>\n",
       "      <td>10.0</td>\n",
       "    </tr>\n",
       "    <tr>\n",
       "      <th>ARRB2</th>\n",
       "      <td>NaN</td>\n",
       "      <td>20.0</td>\n",
       "      <td>20.0</td>\n",
       "    </tr>\n",
       "    <tr>\n",
       "      <th>ASH2L</th>\n",
       "      <td>0.0</td>\n",
       "      <td>20.0</td>\n",
       "      <td>30.0</td>\n",
       "    </tr>\n",
       "    <tr>\n",
       "      <th>ATF2</th>\n",
       "      <td>0.0</td>\n",
       "      <td>30.0</td>\n",
       "      <td>0.0</td>\n",
       "    </tr>\n",
       "    <tr>\n",
       "      <th>ATM</th>\n",
       "      <td>NaN</td>\n",
       "      <td>30.0</td>\n",
       "      <td>10.0</td>\n",
       "    </tr>\n",
       "    <tr>\n",
       "      <th>ATR</th>\n",
       "      <td>NaN</td>\n",
       "      <td>30.0</td>\n",
       "      <td>20.0</td>\n",
       "    </tr>\n",
       "    <tr>\n",
       "      <th>AURKA</th>\n",
       "      <td>10.0</td>\n",
       "      <td>30.0</td>\n",
       "      <td>30.0</td>\n",
       "    </tr>\n",
       "    <tr>\n",
       "      <th>AURKB</th>\n",
       "      <td>10.0</td>\n",
       "      <td>0.0</td>\n",
       "      <td>0.0</td>\n",
       "    </tr>\n",
       "    <tr>\n",
       "      <th>AXIN1</th>\n",
       "      <td>NaN</td>\n",
       "      <td>0.0</td>\n",
       "      <td>10.0</td>\n",
       "    </tr>\n",
       "    <tr>\n",
       "      <th>BARD1</th>\n",
       "      <td>NaN</td>\n",
       "      <td>0.0</td>\n",
       "      <td>20.0</td>\n",
       "    </tr>\n",
       "    <tr>\n",
       "      <th>BAX</th>\n",
       "      <td>10.0</td>\n",
       "      <td>0.0</td>\n",
       "      <td>30.0</td>\n",
       "    </tr>\n",
       "    <tr>\n",
       "      <th>BCAR1</th>\n",
       "      <td>NaN</td>\n",
       "      <td>10.0</td>\n",
       "      <td>0.0</td>\n",
       "    </tr>\n",
       "    <tr>\n",
       "      <th>BCL10</th>\n",
       "      <td>10.0</td>\n",
       "      <td>10.0</td>\n",
       "      <td>10.0</td>\n",
       "    </tr>\n",
       "    <tr>\n",
       "      <th>BCL2</th>\n",
       "      <td>NaN</td>\n",
       "      <td>10.0</td>\n",
       "      <td>20.0</td>\n",
       "    </tr>\n",
       "    <tr>\n",
       "      <th>BCL2L1</th>\n",
       "      <td>NaN</td>\n",
       "      <td>10.0</td>\n",
       "      <td>30.0</td>\n",
       "    </tr>\n",
       "    <tr>\n",
       "      <th>BCR</th>\n",
       "      <td>NaN</td>\n",
       "      <td>20.0</td>\n",
       "      <td>0.0</td>\n",
       "    </tr>\n",
       "    <tr>\n",
       "      <th>BECN1</th>\n",
       "      <td>10.0</td>\n",
       "      <td>20.0</td>\n",
       "      <td>10.0</td>\n",
       "    </tr>\n",
       "    <tr>\n",
       "      <th>BIRC2</th>\n",
       "      <td>NaN</td>\n",
       "      <td>20.0</td>\n",
       "      <td>20.0</td>\n",
       "    </tr>\n",
       "    <tr>\n",
       "      <th>BIRC3</th>\n",
       "      <td>NaN</td>\n",
       "      <td>20.0</td>\n",
       "      <td>30.0</td>\n",
       "    </tr>\n",
       "    <tr>\n",
       "      <th>BLM</th>\n",
       "      <td>20.0</td>\n",
       "      <td>30.0</td>\n",
       "      <td>0.0</td>\n",
       "    </tr>\n",
       "    <tr>\n",
       "      <th>BRCA1</th>\n",
       "      <td>NaN</td>\n",
       "      <td>30.0</td>\n",
       "      <td>10.0</td>\n",
       "    </tr>\n",
       "    <tr>\n",
       "      <th>BRCA2</th>\n",
       "      <td>NaN</td>\n",
       "      <td>30.0</td>\n",
       "      <td>20.0</td>\n",
       "    </tr>\n",
       "    <tr>\n",
       "      <th>BTK</th>\n",
       "      <td>NaN</td>\n",
       "      <td>30.0</td>\n",
       "      <td>30.0</td>\n",
       "    </tr>\n",
       "    <tr>\n",
       "      <th>BTRC</th>\n",
       "      <td>NaN</td>\n",
       "      <td>0.0</td>\n",
       "      <td>0.0</td>\n",
       "    </tr>\n",
       "    <tr>\n",
       "      <th>BUB1B</th>\n",
       "      <td>NaN</td>\n",
       "      <td>0.0</td>\n",
       "      <td>10.0</td>\n",
       "    </tr>\n",
       "    <tr>\n",
       "      <th>CALM1</th>\n",
       "      <td>NaN</td>\n",
       "      <td>0.0</td>\n",
       "      <td>20.0</td>\n",
       "    </tr>\n",
       "    <tr>\n",
       "      <th>CALM3</th>\n",
       "      <td>NaN</td>\n",
       "      <td>0.0</td>\n",
       "      <td>30.0</td>\n",
       "    </tr>\n",
       "    <tr>\n",
       "      <th>CANX</th>\n",
       "      <td>NaN</td>\n",
       "      <td>10.0</td>\n",
       "      <td>0.0</td>\n",
       "    </tr>\n",
       "    <tr>\n",
       "      <th>CASP1</th>\n",
       "      <td>20.0</td>\n",
       "      <td>10.0</td>\n",
       "      <td>10.0</td>\n",
       "    </tr>\n",
       "    <tr>\n",
       "      <th>CASP3</th>\n",
       "      <td>NaN</td>\n",
       "      <td>10.0</td>\n",
       "      <td>20.0</td>\n",
       "    </tr>\n",
       "    <tr>\n",
       "      <th>CASP8</th>\n",
       "      <td>NaN</td>\n",
       "      <td>10.0</td>\n",
       "      <td>30.0</td>\n",
       "    </tr>\n",
       "    <tr>\n",
       "      <th>CAV1</th>\n",
       "      <td>NaN</td>\n",
       "      <td>20.0</td>\n",
       "      <td>0.0</td>\n",
       "    </tr>\n",
       "    <tr>\n",
       "      <th>CBL</th>\n",
       "      <td>NaN</td>\n",
       "      <td>20.0</td>\n",
       "      <td>10.0</td>\n",
       "    </tr>\n",
       "    <tr>\n",
       "      <th>CBLB</th>\n",
       "      <td>30.0</td>\n",
       "      <td>20.0</td>\n",
       "      <td>20.0</td>\n",
       "    </tr>\n",
       "    <tr>\n",
       "      <th>CBX3</th>\n",
       "      <td>NaN</td>\n",
       "      <td>20.0</td>\n",
       "      <td>30.0</td>\n",
       "    </tr>\n",
       "    <tr>\n",
       "      <th>CBX5</th>\n",
       "      <td>NaN</td>\n",
       "      <td>30.0</td>\n",
       "      <td>0.0</td>\n",
       "    </tr>\n",
       "    <tr>\n",
       "      <th>CCNA2</th>\n",
       "      <td>30.0</td>\n",
       "      <td>30.0</td>\n",
       "      <td>10.0</td>\n",
       "    </tr>\n",
       "    <tr>\n",
       "      <th>CCNB1</th>\n",
       "      <td>30.0</td>\n",
       "      <td>30.0</td>\n",
       "      <td>20.0</td>\n",
       "    </tr>\n",
       "    <tr>\n",
       "      <th>CCND1</th>\n",
       "      <td>NaN</td>\n",
       "      <td>30.0</td>\n",
       "      <td>30.0</td>\n",
       "    </tr>\n",
       "    <tr>\n",
       "      <th>CCNE1</th>\n",
       "      <td>30.0</td>\n",
       "      <td>0.0</td>\n",
       "      <td>0.0</td>\n",
       "    </tr>\n",
       "    <tr>\n",
       "      <th>CD44</th>\n",
       "      <td>30.0</td>\n",
       "      <td>0.0</td>\n",
       "      <td>10.0</td>\n",
       "    </tr>\n",
       "  </tbody>\n",
       "</table>\n",
       "</div>"
      ],
      "text/plain": [
       "           x     y     z\n",
       "ABL1     0.0   0.0   0.0\n",
       "ACTA1    NaN   0.0  10.0\n",
       "ACTB     0.0   0.0  20.0\n",
       "AGO2     0.0   0.0  30.0\n",
       "AKT1     NaN  10.0   0.0\n",
       "AMFR     0.0  10.0  10.0\n",
       "APC      0.0  10.0  20.0\n",
       "APP      NaN  10.0  30.0\n",
       "AR       NaN  20.0   0.0\n",
       "ARRB1    0.0  20.0  10.0\n",
       "ARRB2    NaN  20.0  20.0\n",
       "ASH2L    0.0  20.0  30.0\n",
       "ATF2     0.0  30.0   0.0\n",
       "ATM      NaN  30.0  10.0\n",
       "ATR      NaN  30.0  20.0\n",
       "AURKA   10.0  30.0  30.0\n",
       "AURKB   10.0   0.0   0.0\n",
       "AXIN1    NaN   0.0  10.0\n",
       "BARD1    NaN   0.0  20.0\n",
       "BAX     10.0   0.0  30.0\n",
       "BCAR1    NaN  10.0   0.0\n",
       "BCL10   10.0  10.0  10.0\n",
       "BCL2     NaN  10.0  20.0\n",
       "BCL2L1   NaN  10.0  30.0\n",
       "BCR      NaN  20.0   0.0\n",
       "BECN1   10.0  20.0  10.0\n",
       "BIRC2    NaN  20.0  20.0\n",
       "BIRC3    NaN  20.0  30.0\n",
       "BLM     20.0  30.0   0.0\n",
       "BRCA1    NaN  30.0  10.0\n",
       "BRCA2    NaN  30.0  20.0\n",
       "BTK      NaN  30.0  30.0\n",
       "BTRC     NaN   0.0   0.0\n",
       "BUB1B    NaN   0.0  10.0\n",
       "CALM1    NaN   0.0  20.0\n",
       "CALM3    NaN   0.0  30.0\n",
       "CANX     NaN  10.0   0.0\n",
       "CASP1   20.0  10.0  10.0\n",
       "CASP3    NaN  10.0  20.0\n",
       "CASP8    NaN  10.0  30.0\n",
       "CAV1     NaN  20.0   0.0\n",
       "CBL      NaN  20.0  10.0\n",
       "CBLB    30.0  20.0  20.0\n",
       "CBX3     NaN  20.0  30.0\n",
       "CBX5     NaN  30.0   0.0\n",
       "CCNA2   30.0  30.0  10.0\n",
       "CCNB1   30.0  30.0  20.0\n",
       "CCND1    NaN  30.0  30.0\n",
       "CCNE1   30.0   0.0   0.0\n",
       "CD44    30.0   0.0  10.0"
      ]
     },
     "execution_count": 299,
     "metadata": {},
     "output_type": "execute_result"
    }
   ],
   "source": [
    "hub_loc.head(50)"
   ]
  },
  {
   "cell_type": "code",
   "execution_count": 290,
   "metadata": {
    "collapsed": false
   },
   "outputs": [
    {
     "data": {
      "text/plain": [
       "<mpl_toolkits.mplot3d.art3d.Path3DCollection at 0x12107c3c8>"
      ]
     },
     "execution_count": 290,
     "metadata": {},
     "output_type": "execute_result"
    },
    {
     "data": {
      "image/png": "[encoded data removed]",
      "text/plain": [
       "<https://urldefense.proofpoint.com/v2/url?u=http-3A__matplotlib.figure.Figureat0x1204f3f28&d=DwIGaQ&c=shNJtf5dKgNcPZ6Yh64b-A&r=FzzxHcpcdpeEl2SeS4RngXJfR5R4cEV8N2xULwaH8LE&m=H47AkOYhsWJidY3BTdZQzbIarlSka87imDJ8Qn9e6GY&s=xettMZsaCiu6gp1zggk3Jp91dwr9HaJH9uxnQE3Vp0A&e= >"
      ]
     },
     "metadata": {},
     "output_type": "display_data"
    }
   ],
   "source": [
    "fig = plt.figure()\n",
    "ax = fig.add_subplot(111, projection='3d')\n",
    "ax.scatter(hub_loc['x'], hub_loc['y'], hub_loc['z'])"
   ]
  },
  {
   "cell_type": "code",
   "execution_count": 228,
   "metadata": {
    "collapsed": false
   },
   "outputs": [],
   "source": [
    "#(np.arange(0, sample_per_side).tolist()*np.round(len(hub_loc.index)/sample_per_side))[0:len(hub_loc.index)].sort()\n",
    "#len(hub_loc.index)/sample_per_side\n",
    "#y_list"
   ]
  },
  {
   "cell_type": "markdown",
   "metadata": {},
   "source": [
    "## Get Network Stats"
   ]
  },
  {
   "cell_type": "code",
   "execution_count": 45,
   "metadata": {
    "collapsed": false
   },
   "outputs": [
    {
     "name": "stdout",
     "output_type": "stream",
     "text": [
      "The number of unique PubMed IDs is 34165\n"
     ]
    }
   ],
   "source": [
    "lst = []\n",
    "for pub in network_df['PubMed ID'].values.tolist():\n",
    "    lst.append(pub.split('|'))\n",
    "#lst = lst.flatten()\n",
    "lst = \n",
    "lst = set(lst)\n",
    "print('The number of unique PubMed IDs is ' + str(len(lst)))"
   ]
  },
  {
   "cell_type": "code",
   "execution_count": 46,
   "metadata": {
    "collapsed": false
   },
   "outputs": [
    {
     "name": "stdout",
     "output_type": "stream",
     "text": [
      "The number of unique Nodes is 10455\n"
     ]
    }
   ],
   "source": [
    "lst = []\n",
    "lst.append(network_df['Protein A (gene name)'].values.tolist()+network_df['Protein B (gene name)'].values.tolist())\n",
    "lst = [item for sublist in lst for item in sublist]\n",
    "lst = set(lst)\n",
    "print('The number of unique Nodes is ' + str(len(lst)))"
   ]
  },
  {
   "cell_type": "code",
   "execution_count": 47,
   "metadata": {
    "collapsed": false
   },
   "outputs": [
    {
     "name": "stdout",
     "output_type": "stream",
     "text": [
      "The number of unique links is 88006\n"
     ]
    }
   ],
   "source": [
    "print('The number of unique links is ' + str(network_df.shape[0]))"
   ]
  },
  {
   "cell_type": "markdown",
   "metadata": {},
   "source": [
    "## Plot Network Data (Histogram/LOGLOG)"
   ]
  },
  {
   "cell_type": "code",
   "execution_count": 48,
   "metadata": {
    "collapsed": false
   },
   "outputs": [
    {
     "name": "stdout",
     "output_type": "stream",
     "text": [
      " 10400 Out of 10455 "
     ]
    }
   ],
   "source": [
    "lst1 = []\n",
    "lst1.append(network_df['Protein A (gene name)'].values.tolist()+network_df['Protein B (gene name)'].values.tolist())\n",
    "lst1 = [item for sublist in lst1 for item in sublist]\n",
    "lst1 = set(lst1)\n",
    "lst1 = list(lst1)\n",
    "#lst1\n",
    "lst2 = []\n",
    "i = 1\n",
    "for name in lst1:\n",
    "    if i % 100 == 0:\n",
    "        print('\\r', str(i)+' Out of '+ str(len(lst1)), end=' ', flush=True)\n",
    "    lst2.append((network_df == name).sum()[0]+(network_df == name).sum()[1])\n",
    "    i += 1\n",
    "#lst2"
   ]
  },
  {
   "cell_type": "code",
   "execution_count": 49,
   "metadata": {
    "collapsed": false
   },
   "outputs": [
    {
     "data": {
      "text/plain": [
       "10455"
      ]
     },
     "execution_count": 49,
     "metadata": {},
     "output_type": "execute_result"
    }
   ],
   "source": [
    "len(lst1)"
   ]
  },
  {
   "cell_type": "code",
   "execution_count": 50,
   "metadata": {
    "collapsed": false
   },
   "outputs": [],
   "source": [
    "#dist['number of links'].max()\n",
    "#dist['number of links'].mean()"
   ]
  },
  {
   "cell_type": "code",
   "execution_count": 51,
   "metadata": {
    "collapsed": false
   },
   "outputs": [
    {
     "data": {
      "text/plain": [
       "<https://urldefense.proofpoint.com/v2/url?u=http-3A__matplotlib.collections.PathCollectionat0x117064fd0&d=DwIGaQ&c=shNJtf5dKgNcPZ6Yh64b-A&r=FzzxHcpcdpeEl2SeS4RngXJfR5R4cEV8N2xULwaH8LE&m=H47AkOYhsWJidY3BTdZQzbIarlSka87imDJ8Qn9e6GY&s=0xYkuVYHboFnRiOg1LgPq51bi2GNeUGoUhysxJgzXr4&e= >"
      ]
     },
     "execution_count": 51,
     "metadata": {},
     "output_type": "execute_result"
    },
    {
     "data": {
      "image/png": "[encoded data removed]",
      "text/plain": [
       "<https://urldefense.proofpoint.com/v2/url?u=http-3A__matplotlib.figure.Figureat0x1135d6908&d=DwIGaQ&c=shNJtf5dKgNcPZ6Yh64b-A&r=FzzxHcpcdpeEl2SeS4RngXJfR5R4cEV8N2xULwaH8LE&m=H47AkOYhsWJidY3BTdZQzbIarlSka87imDJ8Qn9e6GY&s=G1Ly2Z5IbtqG531VzaOu-Rb4GOl0Ba-E332YP96mMMU&e= >"
      ]
     },
     "metadata": {},
     "output_type": "display_data"
    }
   ],
   "source": [
    "gc.collect()\n",
    "d = {'genes':lst1, 'number of links':lst2}\n",
    "dist = pd.DataFrame(d)\n",
    "\n",
    "fig = plt.figure()\n",
    "\n",
    "# axes1 = fig.add_axes([-0.3, 0.1, 0.8, 0.8])\n",
    "# axes2 = fig.add_axes([0.6, 0.1, 0.8, 0.8])\n",
    "axes3 = fig.add_axes([-0.3, -0.9, 0.8, 0.8])\n",
    "\n",
    "# # main figure\n",
    "# dist['number of links'].hist(bins=100, normed=True, ax=axes1, linestyle='dashed',color='black')\n",
    "# # axes1.set_xlabel('x')\n",
    "# # axes1.set_ylabel('y')\n",
    "# axes1.set_title('total distribution');\n",
    "\n",
    "# # insert\n",
    "# dist['number of links'].hist(bins=500, normed=True, ax=axes2, linestyle='dashed', color='black')\n",
    "# axes2.set_xlim(0,100);\n",
    "# # axes2.set_xlabel('y')\n",
    "# # axes2.set_ylabel('x')\n",
    "# axes2.set_title('zoomed in');\n",
    "# #fig.tight_layout()\n",
    "\n",
    "\n",
    "axes3.set_yscale('log');\n",
    "axes3.set_xscale('log');\n",
    "count, division = np.histogram(dist['number of links'], bins=500);\n",
    "\n",
    "bincenters = 0.5*(division[1:]+division[:-1]);\n",
    "fit = np.polyfit(bincenters[0:500],count,0);\n",
    "fit_fn = np.poly1d(fit);\n",
    "#axes3.plot(division[0:500], fit_fn(division[0:500]))\n",
    "#axes3.scatter(division[0:500], count)\n",
    "newX = np.logspace(0, 4, base=10);\n",
    "def myExpFunc(x, a, b):\n",
    "    return a * np.power(x, b)\n",
    "popt, pcov = curve_fit(myExpFunc, bincenters[5:100], count[5:100]);\n",
    "tag = r\"$%.1f+E^{%.3f}$\" % (popt[0], popt[1])\n",
    "#str(int(popt[0]))+'*x**'+str(popt[1])\n",
    "#f\"{numvar:.9f}\"\n",
    "axes3.plot(newX, myExpFunc(newX, *popt), 'k-', label=tag)\n",
    "#axes3.set_title('LogLog Plot');\n",
    "axes3.legend(loc=1);\n",
    "count = count.astype(float)\n",
    "count[count==0] = np.nan\n",
    "axes3.scatter(division[0:500], count[0:500], c='black')\n",
    "\n",
    "# dist['number of links'].hist(bins=500, ax=axes4, linestyle='dashed', color='black')\n",
    "# axes4.set_xscale('log');\n",
    "# axes4.set_yscale('log');\n",
    "# axes4.set_xlim(1,100);\n",
    "# # slope, intercept, r_value, p_value, std_err = linregress(np.log10(division[0:3]), np.log10(count[0:3]))\n",
    "# # axes4.plot(division[0:3], division[0:3]*slope+intercept)\n",
    "# popt, pcov = curve_fit(myExpFunc, bincenters[5:100], count[5:100]);\n",
    "# tag = str(int(popt[0]))+'*x**'+str(popt[1])\n",
    "# axes4.plot(newX, myExpFunc(newX, *popt), 'k-', label=tag)\n",
    "# axes4.set_title('LogLog Plot Zoomed In');\n",
    "# axes4.legend(loc=1);"
   ]
  },
  {
   "cell_type": "code",
   "execution_count": 52,
   "metadata": {
    "collapsed": false
   },
   "outputs": [],
   "source": [
    "#count[count == 0] = 1"
   ]
  },
  {
   "cell_type": "code",
   "execution_count": 53,
   "metadata": {
    "collapsed": false
   },
   "outputs": [],
   "source": [
    "#count"
   ]
  },
  {
   "cell_type": "markdown",
   "metadata": {},
   "source": [
    "### Build Gene Set Library"
   ]
  },
  {
   "cell_type": "code",
   "execution_count": 56,
   "metadata": {
    "collapsed": true
   },
   "outputs": [],
   "source": [
    "df = pd.concat([human, mouse])"
   ]
  },
  {
   "cell_type": "code",
   "execution_count": 57,
   "metadata": {
    "collapsed": false
   },
   "outputs": [],
   "source": [
    "df = df[['Protein A (gene name)', 'Protein B (gene name)']]"
   ]
  },
  {
   "cell_type": "code",
   "execution_count": 58,
   "metadata": {
    "collapsed": false
   },
   "outputs": [],
   "source": [
    "df.drop_duplicates(inplace=True)"
   ]
  },
  {
   "cell_type": "code",
   "execution_count": 59,
   "metadata": {
    "collapsed": false
   },
   "outputs": [],
   "source": [
    "df.dropna(inplace=True)"
   ]
  },
  {
   "cell_type": "code",
   "execution_count": 60,
   "metadata": {
    "collapsed": false
   },
   "outputs": [
    {
     "name": "stdout",
     "output_type": "stream",
     "text": [
      " 10500 Out of 10557 "
     ]
    }
   ],
   "source": [
    "# build library\n",
    "\n",
    "i = 1\n",
    "\n",
    "genelist = set(df['Protein A (gene name)'].values.tolist() + df['Protein B (gene name)'].values.tolist())\n",
    "\n",
    "lib = pd.DataFrame()\n",
    "\n",
    "for gene in genelist:\n",
    "    if i % 100 == 0:\n",
    "        print('\\r', str(i)+' Out of '+ str(len(genelist)), end=' ', flush=True)\n",
    "    lst = set(df[df.values == gene].values.flatten().tolist())\n",
    "    lst.remove(gene)\n",
    "    lst = list(lst)\n",
    "    lst.insert(0, gene)\n",
    "    if len(lst) >= 50:\n",
    "        temp = pd.DataFrame(data=lst)\n",
    "        lib = pd.concat([lib, temp.T])\n",
    "    i += 1"
   ]
  },
  {
   "cell_type": "code",
   "execution_count": 61,
   "metadata": {
    "collapsed": false
   },
   "outputs": [
    {
     "data": {
      "text/html": [
       "<div>\n",
       "<table border=\"1\" class=\"dataframe\">\n",
       "  <thead>\n",
       "    <tr style=\"text-align: right;\">\n",
       "      <th></th>\n",
       "      <th>0</th>\n",
       "      <th>1</th>\n",
       "      <th>2</th>\n",
       "      <th>3</th>\n",
       "      <th>4</th>\n",
       "      <th>5</th>\n",
       "      <th>6</th>\n",
       "      <th>7</th>\n",
       "      <th>8</th>\n",
       "      <th>9</th>\n",
       "      <th>...</th>\n",
       "      <th>589</th>\n",
       "      <th>590</th>\n",
       "      <th>591</th>\n",
       "      <th>592</th>\n",
       "      <th>593</th>\n",
       "      <th>594</th>\n",
       "      <th>595</th>\n",
       "      <th>596</th>\n",
       "      <th>597</th>\n",
       "      <th>598</th>\n",
       "    </tr>\n",
       "  </thead>\n",
       "  <tbody>\n",
       "    <tr>\n",
       "      <th>0</th>\n",
       "      <td>TUBA1A</td>\n",
       "      <td>CYLD</td>\n",
       "      <td>ESR1</td>\n",
       "      <td>MDK</td>\n",
       "      <td>DNM1</td>\n",
       "      <td>YWHAQ</td>\n",
       "      <td>GZMB</td>\n",
       "      <td>SAV1</td>\n",
       "      <td>PPID</td>\n",
       "      <td>VHL</td>\n",
       "      <td>...</td>\n",
       "      <td>NaN</td>\n",
       "      <td>NaN</td>\n",
       "      <td>NaN</td>\n",
       "      <td>NaN</td>\n",
       "      <td>NaN</td>\n",
       "      <td>NaN</td>\n",
       "      <td>NaN</td>\n",
       "      <td>NaN</td>\n",
       "      <td>NaN</td>\n",
       "      <td>NaN</td>\n",
       "    </tr>\n",
       "    <tr>\n",
       "      <th>0</th>\n",
       "      <td>FOXO1</td>\n",
       "      <td>ESR1</td>\n",
       "      <td>PDGFRA</td>\n",
       "      <td>SIRT2</td>\n",
       "      <td>PRKACA</td>\n",
       "      <td>FOXP3</td>\n",
       "      <td>AKT1</td>\n",
       "      <td>CCNB1</td>\n",
       "      <td>IL7R</td>\n",
       "      <td>AR</td>\n",
       "      <td>...</td>\n",
       "      <td>NaN</td>\n",
       "      <td>NaN</td>\n",
       "      <td>NaN</td>\n",
       "      <td>NaN</td>\n",
       "      <td>NaN</td>\n",
       "      <td>NaN</td>\n",
       "      <td>NaN</td>\n",
       "      <td>NaN</td>\n",
       "      <td>NaN</td>\n",
       "      <td>NaN</td>\n",
       "    </tr>\n",
       "    <tr>\n",
       "      <th>0</th>\n",
       "      <td>ILK</td>\n",
       "      <td>ACACA</td>\n",
       "      <td>ITGB1</td>\n",
       "      <td>PRKDC</td>\n",
       "      <td>DPM1</td>\n",
       "      <td>PIP3</td>\n",
       "      <td>PXN</td>\n",
       "      <td>AKT1</td>\n",
       "      <td>SDF4</td>\n",
       "      <td>MTOR</td>\n",
       "      <td>...</td>\n",
       "      <td>NaN</td>\n",
       "      <td>NaN</td>\n",
       "      <td>NaN</td>\n",
       "      <td>NaN</td>\n",
       "      <td>NaN</td>\n",
       "      <td>NaN</td>\n",
       "      <td>NaN</td>\n",
       "      <td>NaN</td>\n",
       "      <td>NaN</td>\n",
       "      <td>NaN</td>\n",
       "    </tr>\n",
       "    <tr>\n",
       "      <th>0</th>\n",
       "      <td>SHC1</td>\n",
       "      <td>ITGB1</td>\n",
       "      <td>NTRK3</td>\n",
       "      <td>VAV3</td>\n",
       "      <td>SH2B2</td>\n",
       "      <td>EPHA2</td>\n",
       "      <td>JAK2</td>\n",
       "      <td>SHCBP1</td>\n",
       "      <td>AP2A1</td>\n",
       "      <td>FYN</td>\n",
       "      <td>...</td>\n",
       "      <td>NaN</td>\n",
       "      <td>NaN</td>\n",
       "      <td>NaN</td>\n",
       "      <td>NaN</td>\n",
       "      <td>NaN</td>\n",
       "      <td>NaN</td>\n",
       "      <td>NaN</td>\n",
       "      <td>NaN</td>\n",
       "      <td>NaN</td>\n",
       "      <td>NaN</td>\n",
       "    </tr>\n",
       "    <tr>\n",
       "      <th>0</th>\n",
       "      <td>NFKBIA</td>\n",
       "      <td>UFD1L</td>\n",
       "      <td>CSNK2B</td>\n",
       "      <td>ARRB2</td>\n",
       "      <td>CASP3</td>\n",
       "      <td>UBA2</td>\n",
       "      <td>TLR2</td>\n",
       "      <td>ABL1</td>\n",
       "      <td>BTRC</td>\n",
       "      <td>HOXD1</td>\n",
       "      <td>...</td>\n",
       "      <td>NaN</td>\n",
       "      <td>NaN</td>\n",
       "      <td>NaN</td>\n",
       "      <td>NaN</td>\n",
       "      <td>NaN</td>\n",
       "      <td>NaN</td>\n",
       "      <td>NaN</td>\n",
       "      <td>NaN</td>\n",
       "      <td>NaN</td>\n",
       "      <td>NaN</td>\n",
       "    </tr>\n",
       "    <tr>\n",
       "      <th>0</th>\n",
       "      <td>JAK1</td>\n",
       "      <td>PTPN2</td>\n",
       "      <td>SHB</td>\n",
       "      <td>IFNGR1</td>\n",
       "      <td>IL6ST</td>\n",
       "      <td>RNF125</td>\n",
       "      <td>HIST3H3</td>\n",
       "      <td>CABYR</td>\n",
       "      <td>IL5RA</td>\n",
       "      <td>TSHR</td>\n",
       "      <td>...</td>\n",
       "      <td>NaN</td>\n",
       "      <td>NaN</td>\n",
       "      <td>NaN</td>\n",
       "      <td>NaN</td>\n",
       "      <td>NaN</td>\n",
       "      <td>NaN</td>\n",
       "      <td>NaN</td>\n",
       "      <td>NaN</td>\n",
       "      <td>NaN</td>\n",
       "      <td>NaN</td>\n",
       "    </tr>\n",
       "    <tr>\n",
       "      <th>0</th>\n",
       "      <td>TRAF1</td>\n",
       "      <td>TNFRSF18</td>\n",
       "      <td>TMC8</td>\n",
       "      <td>SRC</td>\n",
       "      <td>CASP2</td>\n",
       "      <td>MAP3K14</td>\n",
       "      <td>CASP10</td>\n",
       "      <td>CD40</td>\n",
       "      <td>TANK</td>\n",
       "      <td>TNFRSF8</td>\n",
       "      <td>...</td>\n",
       "      <td>NaN</td>\n",
       "      <td>NaN</td>\n",
       "      <td>NaN</td>\n",
       "      <td>NaN</td>\n",
       "      <td>NaN</td>\n",
       "      <td>NaN</td>\n",
       "      <td>NaN</td>\n",
       "      <td>NaN</td>\n",
       "      <td>NaN</td>\n",
       "      <td>NaN</td>\n",
       "    </tr>\n",
       "    <tr>\n",
       "      <th>0</th>\n",
       "      <td>PXN</td>\n",
       "      <td>CRK</td>\n",
       "      <td>ITGB1</td>\n",
       "      <td>PKLR</td>\n",
       "      <td>TRIP6</td>\n",
       "      <td>PTPN12</td>\n",
       "      <td>LIMK2</td>\n",
       "      <td>SRC</td>\n",
       "      <td>DNM1</td>\n",
       "      <td>RET</td>\n",
       "      <td>...</td>\n",
       "      <td>NaN</td>\n",
       "      <td>NaN</td>\n",
       "      <td>NaN</td>\n",
       "      <td>NaN</td>\n",
       "      <td>NaN</td>\n",
       "      <td>NaN</td>\n",
       "      <td>NaN</td>\n",
       "      <td>NaN</td>\n",
       "      <td>NaN</td>\n",
       "      <td>NaN</td>\n",
       "    </tr>\n",
       "    <tr>\n",
       "      <th>0</th>\n",
       "      <td>RBBP4</td>\n",
       "      <td>GATAD2B</td>\n",
       "      <td>ESR1</td>\n",
       "      <td>CDK2AP1</td>\n",
       "      <td>HIC1</td>\n",
       "      <td>HIST1H3A</td>\n",
       "      <td>HDAC1</td>\n",
       "      <td>HIST1H4A</td>\n",
       "      <td>ING1</td>\n",
       "      <td>MBD2</td>\n",
       "      <td>...</td>\n",
       "      <td>NaN</td>\n",
       "      <td>NaN</td>\n",
       "      <td>NaN</td>\n",
       "      <td>NaN</td>\n",
       "      <td>NaN</td>\n",
       "      <td>NaN</td>\n",
       "      <td>NaN</td>\n",
       "      <td>NaN</td>\n",
       "      <td>NaN</td>\n",
       "      <td>NaN</td>\n",
       "    </tr>\n",
       "    <tr>\n",
       "      <th>0</th>\n",
       "      <td>PRKDC</td>\n",
       "      <td>HSF1</td>\n",
       "      <td>LMNA</td>\n",
       "      <td>NR1H4</td>\n",
       "      <td>AKT1</td>\n",
       "      <td>RPA1</td>\n",
       "      <td>ILF2</td>\n",
       "      <td>PCNA</td>\n",
       "      <td>CASP3</td>\n",
       "      <td>ABL1</td>\n",
       "      <td>...</td>\n",
       "      <td>NaN</td>\n",
       "      <td>NaN</td>\n",
       "      <td>NaN</td>\n",
       "      <td>NaN</td>\n",
       "      <td>NaN</td>\n",
       "      <td>NaN</td>\n",
       "      <td>NaN</td>\n",
       "      <td>NaN</td>\n",
       "      <td>NaN</td>\n",
       "      <td>NaN</td>\n",
       "    </tr>\n",
       "    <tr>\n",
       "      <th>0</th>\n",
       "      <td>ARRB2</td>\n",
       "      <td>ADRB1</td>\n",
       "      <td>AKT1</td>\n",
       "      <td>DUSP16</td>\n",
       "      <td>PTGDS</td>\n",
       "      <td>AP2B1</td>\n",
       "      <td>CLTC</td>\n",
       "      <td>HCRTR1</td>\n",
       "      <td>PPP2CA</td>\n",
       "      <td>SENP1</td>\n",
       "      <td>...</td>\n",
       "      <td>NaN</td>\n",
       "      <td>NaN</td>\n",
       "      <td>NaN</td>\n",
       "      <td>NaN</td>\n",
       "      <td>NaN</td>\n",
       "      <td>NaN</td>\n",
       "      <td>NaN</td>\n",
       "      <td>NaN</td>\n",
       "      <td>NaN</td>\n",
       "      <td>NaN</td>\n",
       "    </tr>\n",
       "    <tr>\n",
       "      <th>0</th>\n",
       "      <td>HTT</td>\n",
       "      <td>CTBP1</td>\n",
       "      <td>MID1</td>\n",
       "      <td>PACSIN1</td>\n",
       "      <td>PRPF40A</td>\n",
       "      <td>DYNC1I1</td>\n",
       "      <td>TUBA1A</td>\n",
       "      <td>PRPF40B</td>\n",
       "      <td>AKT1</td>\n",
       "      <td>RPS6KB1</td>\n",
       "      <td>...</td>\n",
       "      <td>NaN</td>\n",
       "      <td>NaN</td>\n",
       "      <td>NaN</td>\n",
       "      <td>NaN</td>\n",
       "      <td>NaN</td>\n",
       "      <td>NaN</td>\n",
       "      <td>NaN</td>\n",
       "      <td>NaN</td>\n",
       "      <td>NaN</td>\n",
       "      <td>NaN</td>\n",
       "    </tr>\n",
       "    <tr>\n",
       "      <th>0</th>\n",
       "      <td>CALM3</td>\n",
       "      <td>CSNK2B</td>\n",
       "      <td>SYT1</td>\n",
       "      <td>PTPRA</td>\n",
       "      <td>UTRN</td>\n",
       "      <td>SCLT1</td>\n",
       "      <td>TTN</td>\n",
       "      <td>JAK2</td>\n",
       "      <td>PTH2R</td>\n",
       "      <td>TCF4</td>\n",
       "      <td>...</td>\n",
       "      <td>NaN</td>\n",
       "      <td>NaN</td>\n",
       "      <td>NaN</td>\n",
       "      <td>NaN</td>\n",
       "      <td>NaN</td>\n",
       "      <td>NaN</td>\n",
       "      <td>NaN</td>\n",
       "      <td>NaN</td>\n",
       "      <td>NaN</td>\n",
       "      <td>NaN</td>\n",
       "    </tr>\n",
       "    <tr>\n",
       "      <th>0</th>\n",
       "      <td>PPP1CC</td>\n",
       "      <td>SERPINB2</td>\n",
       "      <td>BCL2</td>\n",
       "      <td>TLX1</td>\n",
       "      <td>ACTG1</td>\n",
       "      <td>C1QA</td>\n",
       "      <td>MDM4</td>\n",
       "      <td>PPP1R8</td>\n",
       "      <td>CAMK2A</td>\n",
       "      <td>AKAP11</td>\n",
       "      <td>...</td>\n",
       "      <td>NaN</td>\n",
       "      <td>NaN</td>\n",
       "      <td>NaN</td>\n",
       "      <td>NaN</td>\n",
       "      <td>NaN</td>\n",
       "      <td>NaN</td>\n",
       "      <td>NaN</td>\n",
       "      <td>NaN</td>\n",
       "      <td>NaN</td>\n",
       "      <td>NaN</td>\n",
       "    </tr>\n",
       "    <tr>\n",
       "      <th>0</th>\n",
       "      <td>RARA</td>\n",
       "      <td>TRIM32</td>\n",
       "      <td>ITGB1BP2</td>\n",
       "      <td>ARID1A</td>\n",
       "      <td>CCNH</td>\n",
       "      <td>AKT1</td>\n",
       "      <td>MMS19</td>\n",
       "      <td>SQSTM1</td>\n",
       "      <td>HDAC3</td>\n",
       "      <td>SUV39H1</td>\n",
       "      <td>...</td>\n",
       "      <td>NaN</td>\n",
       "      <td>NaN</td>\n",
       "      <td>NaN</td>\n",
       "      <td>NaN</td>\n",
       "      <td>NaN</td>\n",
       "      <td>NaN</td>\n",
       "      <td>NaN</td>\n",
       "      <td>NaN</td>\n",
       "      <td>NaN</td>\n",
       "      <td>NaN</td>\n",
       "    </tr>\n",
       "    <tr>\n",
       "      <th>0</th>\n",
       "      <td>IQGAP1</td>\n",
       "      <td>CYBB</td>\n",
       "      <td>SRC</td>\n",
       "      <td>PODXL</td>\n",
       "      <td>WHSC1</td>\n",
       "      <td>PRKACA</td>\n",
       "      <td>NPHS1</td>\n",
       "      <td>AKT1</td>\n",
       "      <td>EPS15</td>\n",
       "      <td>YAP1</td>\n",
       "      <td>...</td>\n",
       "      <td>NaN</td>\n",
       "      <td>NaN</td>\n",
       "      <td>NaN</td>\n",
       "      <td>NaN</td>\n",
       "      <td>NaN</td>\n",
       "      <td>NaN</td>\n",
       "      <td>NaN</td>\n",
       "      <td>NaN</td>\n",
       "      <td>NaN</td>\n",
       "      <td>NaN</td>\n",
       "    </tr>\n",
       "    <tr>\n",
       "      <th>0</th>\n",
       "      <td>BECN1</td>\n",
       "      <td>GLIPR2</td>\n",
       "      <td>DYNLL1</td>\n",
       "      <td>NLRP4</td>\n",
       "      <td>DYNC1I1</td>\n",
       "      <td>BCL2</td>\n",
       "      <td>EXOC2</td>\n",
       "      <td>AKT1</td>\n",
       "      <td>ZWINT</td>\n",
       "      <td>CUL4A</td>\n",
       "      <td>...</td>\n",
       "      <td>NaN</td>\n",
       "      <td>NaN</td>\n",
       "      <td>NaN</td>\n",
       "      <td>NaN</td>\n",
       "      <td>NaN</td>\n",
       "      <td>NaN</td>\n",
       "      <td>NaN</td>\n",
       "      <td>NaN</td>\n",
       "      <td>NaN</td>\n",
       "      <td>NaN</td>\n",
       "    </tr>\n",
       "    <tr>\n",
       "      <th>0</th>\n",
       "      <td>BCL2</td>\n",
       "      <td>BOP</td>\n",
       "      <td>RTN4</td>\n",
       "      <td>HSPA1A</td>\n",
       "      <td>SQSTM1</td>\n",
       "      <td>CASP3</td>\n",
       "      <td>AVEN</td>\n",
       "      <td>BAX</td>\n",
       "      <td>BID</td>\n",
       "      <td>BIK</td>\n",
       "      <td>...</td>\n",
       "      <td>NaN</td>\n",
       "      <td>NaN</td>\n",
       "      <td>NaN</td>\n",
       "      <td>NaN</td>\n",
       "      <td>NaN</td>\n",
       "      <td>NaN</td>\n",
       "      <td>NaN</td>\n",
       "      <td>NaN</td>\n",
       "      <td>NaN</td>\n",
       "      <td>NaN</td>\n",
       "    </tr>\n",
       "    <tr>\n",
       "      <th>0</th>\n",
       "      <td>HSPA1A</td>\n",
       "      <td>PLG</td>\n",
       "      <td>TP53</td>\n",
       "      <td>HSF1</td>\n",
       "      <td>HSP90AB1</td>\n",
       "      <td>LOX</td>\n",
       "      <td>SIRT2</td>\n",
       "      <td>APAF1</td>\n",
       "      <td>BCL2</td>\n",
       "      <td>APEX1</td>\n",
       "      <td>...</td>\n",
       "      <td>NaN</td>\n",
       "      <td>NaN</td>\n",
       "      <td>NaN</td>\n",
       "      <td>NaN</td>\n",
       "      <td>NaN</td>\n",
       "      <td>NaN</td>\n",
       "      <td>NaN</td>\n",
       "      <td>NaN</td>\n",
       "      <td>NaN</td>\n",
       "      <td>NaN</td>\n",
       "    </tr>\n",
       "    <tr>\n",
       "      <th>0</th>\n",
       "      <td>MDM4</td>\n",
       "      <td>MRE11A</td>\n",
       "      <td>YWHAB</td>\n",
       "      <td>PPP1CB</td>\n",
       "      <td>USP7</td>\n",
       "      <td>TP53</td>\n",
       "      <td>CHEK2</td>\n",
       "      <td>MKRN3</td>\n",
       "      <td>CHEK1</td>\n",
       "      <td>CSNK1A1</td>\n",
       "      <td>...</td>\n",
       "      <td>NaN</td>\n",
       "      <td>NaN</td>\n",
       "      <td>NaN</td>\n",
       "      <td>NaN</td>\n",
       "      <td>NaN</td>\n",
       "      <td>NaN</td>\n",
       "      <td>NaN</td>\n",
       "      <td>NaN</td>\n",
       "      <td>NaN</td>\n",
       "      <td>NaN</td>\n",
       "    </tr>\n",
       "  </tbody>\n",
       "</table>\n",
       "<p>20 rows × 599 columns</p>\n",
       "</div>"
      ],
      "text/plain": [
       "      0         1         2        3         4         5        6         7    \\\n",
       "0  TUBA1A      CYLD      ESR1      MDK      DNM1     YWHAQ     GZMB      SAV1   \n",
       "0   FOXO1      ESR1    PDGFRA    SIRT2    PRKACA     FOXP3     AKT1     CCNB1   \n",
       "0     ILK     ACACA     ITGB1    PRKDC      DPM1      PIP3      PXN      AKT1   \n",
       "0    SHC1     ITGB1     NTRK3     VAV3     SH2B2     EPHA2     JAK2    SHCBP1   \n",
       "0  NFKBIA     UFD1L    CSNK2B    ARRB2     CASP3      UBA2     TLR2      ABL1   \n",
       "0    JAK1     PTPN2       SHB   IFNGR1     IL6ST    RNF125  HIST3H3     CABYR   \n",
       "0   TRAF1  TNFRSF18      TMC8      SRC     CASP2   MAP3K14   CASP10      CD40   \n",
       "0     PXN       CRK     ITGB1     PKLR     TRIP6    PTPN12    LIMK2       SRC   \n",
       "0   RBBP4   GATAD2B      ESR1  CDK2AP1      HIC1  HIST1H3A    HDAC1  HIST1H4A   \n",
       "0   PRKDC      HSF1      LMNA    NR1H4      AKT1      RPA1     ILF2      PCNA   \n",
       "0   ARRB2     ADRB1      AKT1   DUSP16     PTGDS     AP2B1     CLTC    HCRTR1   \n",
       "0     HTT     CTBP1      MID1  PACSIN1   PRPF40A   DYNC1I1   TUBA1A   PRPF40B   \n",
       "0   CALM3    CSNK2B      SYT1    PTPRA      UTRN     SCLT1      TTN      JAK2   \n",
       "0  PPP1CC  SERPINB2      BCL2     TLX1     ACTG1      C1QA     MDM4    PPP1R8   \n",
       "0    RARA    TRIM32  ITGB1BP2   ARID1A      CCNH      AKT1    MMS19    SQSTM1   \n",
       "0  IQGAP1      CYBB       SRC    PODXL     WHSC1    PRKACA    NPHS1      AKT1   \n",
       "0   BECN1    GLIPR2    DYNLL1    NLRP4   DYNC1I1      BCL2    EXOC2      AKT1   \n",
       "0    BCL2       BOP      RTN4   HSPA1A    SQSTM1     CASP3     AVEN       BAX   \n",
       "0  HSPA1A       PLG      TP53     HSF1  HSP90AB1       LOX    SIRT2     APAF1   \n",
       "0    MDM4    MRE11A     YWHAB   PPP1CB      USP7      TP53    CHEK2     MKRN3   \n",
       "\n",
       "      8        9   ...   589  590  591  592  593  594  595  596  597  598  \n",
       "0    PPID      VHL ...   NaN  NaN  NaN  NaN  NaN  NaN  NaN  NaN  NaN  NaN  \n",
       "0    IL7R       AR ...   NaN  NaN  NaN  NaN  NaN  NaN  NaN  NaN  NaN  NaN  \n",
       "0    SDF4     MTOR ...   NaN  NaN  NaN  NaN  NaN  NaN  NaN  NaN  NaN  NaN  \n",
       "0   AP2A1      FYN ...   NaN  NaN  NaN  NaN  NaN  NaN  NaN  NaN  NaN  NaN  \n",
       "0    BTRC    HOXD1 ...   NaN  NaN  NaN  NaN  NaN  NaN  NaN  NaN  NaN  NaN  \n",
       "0   IL5RA     TSHR ...   NaN  NaN  NaN  NaN  NaN  NaN  NaN  NaN  NaN  NaN  \n",
       "0    TANK  TNFRSF8 ...   NaN  NaN  NaN  NaN  NaN  NaN  NaN  NaN  NaN  NaN  \n",
       "0    DNM1      RET ...   NaN  NaN  NaN  NaN  NaN  NaN  NaN  NaN  NaN  NaN  \n",
       "0    ING1     MBD2 ...   NaN  NaN  NaN  NaN  NaN  NaN  NaN  NaN  NaN  NaN  \n",
       "0   CASP3     ABL1 ...   NaN  NaN  NaN  NaN  NaN  NaN  NaN  NaN  NaN  NaN  \n",
       "0  PPP2CA    SENP1 ...   NaN  NaN  NaN  NaN  NaN  NaN  NaN  NaN  NaN  NaN  \n",
       "0    AKT1  RPS6KB1 ...   NaN  NaN  NaN  NaN  NaN  NaN  NaN  NaN  NaN  NaN  \n",
       "0   PTH2R     TCF4 ...   NaN  NaN  NaN  NaN  NaN  NaN  NaN  NaN  NaN  NaN  \n",
       "0  CAMK2A   AKAP11 ...   NaN  NaN  NaN  NaN  NaN  NaN  NaN  NaN  NaN  NaN  \n",
       "0   HDAC3  SUV39H1 ...   NaN  NaN  NaN  NaN  NaN  NaN  NaN  NaN  NaN  NaN  \n",
       "0   EPS15     YAP1 ...   NaN  NaN  NaN  NaN  NaN  NaN  NaN  NaN  NaN  NaN  \n",
       "0   ZWINT    CUL4A ...   NaN  NaN  NaN  NaN  NaN  NaN  NaN  NaN  NaN  NaN  \n",
       "0     BID      BIK ...   NaN  NaN  NaN  NaN  NaN  NaN  NaN  NaN  NaN  NaN  \n",
       "0    BCL2    APEX1 ...   NaN  NaN  NaN  NaN  NaN  NaN  NaN  NaN  NaN  NaN  \n",
       "0   CHEK1  CSNK1A1 ...   NaN  NaN  NaN  NaN  NaN  NaN  NaN  NaN  NaN  NaN  \n",
       "\n",
       "[20 rows x 599 columns]"
      ]
     },
     "execution_count": 61,
     "metadata": {},
     "output_type": "execute_result"
    }
   ],
   "source": [
    "lib.head(20)"
   ]
  },
  {
   "cell_type": "code",
   "execution_count": 62,
   "metadata": {
    "collapsed": false
   },
   "outputs": [
    {
     "data": {
      "text/plain": [
       "(442, 599)"
      ]
     },
     "execution_count": 62,
     "metadata": {},
     "output_type": "execute_result"
    }
   ],
   "source": [
    "lib.shape"
   ]
  },
  {
   "cell_type": "code",
   "execution_count": 65,
   "metadata": {
    "collapsed": true
   },
   "outputs": [],
   "source": [
    "filename = '/Users/moshesilverstein/Desktop/PPI Library/Output/gene_set_library_%s.gmt'% str(datetime.date.today()).replace('-', '_')\n",
    "lib.to_csv(filename, sep='\\t', index=False) "
   ]
  },
  {
   "cell_type": "code",
   "execution_count": 66,
   "metadata": {
    "collapsed": true
   },
   "outputs": [],
   "source": [
    "filename = '/Users/moshesilverstein/Desktop/PPI Library/Output/gene_set_library_%s.gmt.gz'% str(datetime.date.today()).replace('-', '_')\n",
    "lib.to_csv(filename, sep='\\t', index=False, compression='gzip') "
   ]
  },
  {
   "cell_type": "code",
   "execution_count": 62,
   "metadata": {
    "collapsed": false
   },
   "outputs": [
    {
     "data": {
      "text/html": [
       "<div>\n",
       "<table border=\"1\" class=\"dataframe\">\n",
       "  <thead>\n",
       "    <tr style=\"text-align: right;\">\n",
       "      <th></th>\n",
       "      <th>0</th>\n",
       "      <th>0</th>\n",
       "      <th>0</th>\n",
       "      <th>0</th>\n",
       "      <th>0</th>\n",
       "      <th>0</th>\n",
       "      <th>0</th>\n",
       "      <th>0</th>\n",
       "      <th>0</th>\n",
       "      <th>0</th>\n",
       "      <th>...</th>\n",
       "      <th>0</th>\n",
       "      <th>0</th>\n",
       "      <th>0</th>\n",
       "      <th>0</th>\n",
       "      <th>0</th>\n",
       "      <th>0</th>\n",
       "      <th>0</th>\n",
       "      <th>0</th>\n",
       "      <th>0</th>\n",
       "      <th>0</th>\n",
       "    </tr>\n",
       "  </thead>\n",
       "  <tbody>\n",
       "    <tr>\n",
       "      <th>count</th>\n",
       "      <td>121</td>\n",
       "      <td>88</td>\n",
       "      <td>143</td>\n",
       "      <td>53</td>\n",
       "      <td>133</td>\n",
       "      <td>110</td>\n",
       "      <td>94</td>\n",
       "      <td>87</td>\n",
       "      <td>63</td>\n",
       "      <td>52</td>\n",
       "      <td>...</td>\n",
       "      <td>61</td>\n",
       "      <td>123</td>\n",
       "      <td>113</td>\n",
       "      <td>71</td>\n",
       "      <td>110</td>\n",
       "      <td>63</td>\n",
       "      <td>122</td>\n",
       "      <td>83</td>\n",
       "      <td>66</td>\n",
       "      <td>73</td>\n",
       "    </tr>\n",
       "    <tr>\n",
       "      <th>unique</th>\n",
       "      <td>121</td>\n",
       "      <td>88</td>\n",
       "      <td>143</td>\n",
       "      <td>53</td>\n",
       "      <td>133</td>\n",
       "      <td>110</td>\n",
       "      <td>94</td>\n",
       "      <td>87</td>\n",
       "      <td>63</td>\n",
       "      <td>52</td>\n",
       "      <td>...</td>\n",
       "      <td>61</td>\n",
       "      <td>123</td>\n",
       "      <td>113</td>\n",
       "      <td>71</td>\n",
       "      <td>110</td>\n",
       "      <td>63</td>\n",
       "      <td>122</td>\n",
       "      <td>83</td>\n",
       "      <td>66</td>\n",
       "      <td>73</td>\n",
       "    </tr>\n",
       "    <tr>\n",
       "      <th>top</th>\n",
       "      <td>SAE1</td>\n",
       "      <td>TSC2</td>\n",
       "      <td>PRKDC</td>\n",
       "      <td>PSEN2</td>\n",
       "      <td>RNF122</td>\n",
       "      <td>CASP10</td>\n",
       "      <td>BMX</td>\n",
       "      <td>BCL3</td>\n",
       "      <td>BAG6</td>\n",
       "      <td>MSN</td>\n",
       "      <td>...</td>\n",
       "      <td>BTRC</td>\n",
       "      <td>GLI3</td>\n",
       "      <td>ASXL1</td>\n",
       "      <td>KLF10</td>\n",
       "      <td>MLANA</td>\n",
       "      <td>IL1B</td>\n",
       "      <td>MCM10</td>\n",
       "      <td>KATNA1</td>\n",
       "      <td>TSC2</td>\n",
       "      <td>PDGFRB</td>\n",
       "    </tr>\n",
       "    <tr>\n",
       "      <th>freq</th>\n",
       "      <td>1</td>\n",
       "      <td>1</td>\n",
       "      <td>1</td>\n",
       "      <td>1</td>\n",
       "      <td>1</td>\n",
       "      <td>1</td>\n",
       "      <td>1</td>\n",
       "      <td>1</td>\n",
       "      <td>1</td>\n",
       "      <td>1</td>\n",
       "      <td>...</td>\n",
       "      <td>1</td>\n",
       "      <td>1</td>\n",
       "      <td>1</td>\n",
       "      <td>1</td>\n",
       "      <td>1</td>\n",
       "      <td>1</td>\n",
       "      <td>1</td>\n",
       "      <td>1</td>\n",
       "      <td>1</td>\n",
       "      <td>1</td>\n",
       "    </tr>\n",
       "  </tbody>\n",
       "</table>\n",
       "<p>4 rows × 436 columns</p>\n",
       "</div>"
      ],
      "text/plain": [
       "           0     0      0      0       0       0    0     0     0    0  \\\n",
       "count    121    88    143     53     133     110   94    87    63   52   \n",
       "unique   121    88    143     53     133     110   94    87    63   52   \n",
       "top     SAE1  TSC2  PRKDC  PSEN2  RNF122  CASP10  BMX  BCL3  BAG6  MSN   \n",
       "freq       1     1      1      1       1       1    1     1     1    1   \n",
       "\n",
       "         ...       0     0      0      0      0     0      0       0     0  \\\n",
       "count    ...      61   123    113     71    110    63    122      83    66   \n",
       "unique   ...      61   123    113     71    110    63    122      83    66   \n",
       "top      ...    BTRC  GLI3  ASXL1  KLF10  MLANA  IL1B  MCM10  KATNA1  TSC2   \n",
       "freq     ...       1     1      1      1      1     1      1       1     1   \n",
       "\n",
       "             0  \n",
       "count       73  \n",
       "unique      73  \n",
       "top     PDGFRB  \n",
       "freq         1  \n",
       "\n",
       "[4 rows x 436 columns]"
      ]
     },
     "execution_count": 62,
     "metadata": {},
     "output_type": "execute_result"
    }
   ],
   "source": [
    "lib.T.describe()"
   ]
  },
  {
   "cell_type": "code",
   "execution_count": 63,
   "metadata": {
    "collapsed": false
   },
   "outputs": [],
   "source": [
    "#genelist"
   ]
  }
 ],
 "metadata": {
  "anaconda-cloud": {},
  "kernelspec": {
   "display_name": "Python [default]",
   "language": "python",
   "name": "python3"
  },
  "language_info": {
   "codemirror_mode": {
    "name": "ipython",
    "version": 3
   },
   "file_extension": ".py",
   "mimetype": "text/x-python",
   "name": "python",
   "nbconvert_exporter": "python",
   "pygments_lexer": "ipython3",
   "version": "3.5.2"
  }
 },
 "nbformat": 4,
 "nbformat_minor": 2
}
