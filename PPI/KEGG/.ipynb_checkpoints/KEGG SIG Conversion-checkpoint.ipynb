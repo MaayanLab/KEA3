{
 "cells": [
  {
   "cell_type": "markdown",
   "metadata": {},
   "source": [
    "# SIG to GMT Conversion\n",
    "This notebook will process .sig files related to protein-protein interactions into the alternate file format of a .gmt file. Date processed: July 6 2017"
   ]
  },
  {
   "cell_type": "markdown",
   "metadata": {},
   "source": [
    "## Import Scripts Necessary to Run this Notebook"
   ]
  },
  {
   "cell_type": "code",
   "execution_count": 1,
   "metadata": {
    "collapsed": true
   },
   "outputs": [],
   "source": [
    "%run /home/maayanlab/Desktop/Projects/KEA3/Scripts/init.ipy"
   ]
  },
  {
   "cell_type": "markdown",
   "metadata": {},
   "source": [
    "## Read in .SIG files corresponding to Database\n",
    "View each SIG file to ensure everything was downloaded in proper file format."
   ]
  },
  {
   "cell_type": "code",
   "execution_count": 2,
   "metadata": {
    "collapsed": true
   },
   "outputs": [],
   "source": [
    "KEGG_sig = pd.read_table(\"KEGGsig.txt\", header = None, sep = ' ')"
   ]
  },
  {
   "cell_type": "code",
   "execution_count": 3,
   "metadata": {},
   "outputs": [
    {
     "data": {
      "text/html": [
       "<div>\n",
       "<style>\n",
       "    .dataframe thead tr:only-child th {\n",
       "        text-align: right;\n",
       "    }\n",
       "\n",
       "    .dataframe thead th {\n",
       "        text-align: left;\n",
       "    }\n",
       "\n",
       "    .dataframe tbody tr th {\n",
       "        vertical-align: top;\n",
       "    }\n",
       "</style>\n",
       "<table border=\"1\" class=\"dataframe\">\n",
       "  <thead>\n",
       "    <tr style=\"text-align: right;\">\n",
       "      <th></th>\n",
       "      <th>0</th>\n",
       "      <th>1</th>\n",
       "      <th>2</th>\n",
       "      <th>3</th>\n",
       "      <th>4</th>\n",
       "      <th>5</th>\n",
       "      <th>6</th>\n",
       "      <th>7</th>\n",
       "      <th>8</th>\n",
       "      <th>9</th>\n",
       "      <th>10</th>\n",
       "      <th>11</th>\n",
       "      <th>12</th>\n",
       "    </tr>\n",
       "  </thead>\n",
       "  <tbody>\n",
       "    <tr>\n",
       "      <th>0</th>\n",
       "      <td>SRF</td>\n",
       "      <td>NaN</td>\n",
       "      <td>NaN</td>\n",
       "      <td>NaN</td>\n",
       "      <td>NaN</td>\n",
       "      <td>ELK1</td>\n",
       "      <td>NaN</td>\n",
       "      <td>NaN</td>\n",
       "      <td>NaN</td>\n",
       "      <td>NaN</td>\n",
       "      <td>0</td>\n",
       "      <td>binding</td>\n",
       "      <td>10592173</td>\n",
       "    </tr>\n",
       "    <tr>\n",
       "      <th>1</th>\n",
       "      <td>SRF</td>\n",
       "      <td>NaN</td>\n",
       "      <td>NaN</td>\n",
       "      <td>NaN</td>\n",
       "      <td>NaN</td>\n",
       "      <td>ELK4</td>\n",
       "      <td>NaN</td>\n",
       "      <td>NaN</td>\n",
       "      <td>NaN</td>\n",
       "      <td>NaN</td>\n",
       "      <td>0</td>\n",
       "      <td>binding</td>\n",
       "      <td>10592173</td>\n",
       "    </tr>\n",
       "    <tr>\n",
       "      <th>2</th>\n",
       "      <td>MKNK2</td>\n",
       "      <td>NaN</td>\n",
       "      <td>NaN</td>\n",
       "      <td>NaN</td>\n",
       "      <td>NaN</td>\n",
       "      <td>ATF4</td>\n",
       "      <td>NaN</td>\n",
       "      <td>NaN</td>\n",
       "      <td>NaN</td>\n",
       "      <td>NaN</td>\n",
       "      <td>0</td>\n",
       "      <td>phosphorylation</td>\n",
       "      <td>10592173</td>\n",
       "    </tr>\n",
       "    <tr>\n",
       "      <th>3</th>\n",
       "      <td>MKNK1</td>\n",
       "      <td>NaN</td>\n",
       "      <td>NaN</td>\n",
       "      <td>NaN</td>\n",
       "      <td>NaN</td>\n",
       "      <td>ATF4</td>\n",
       "      <td>NaN</td>\n",
       "      <td>NaN</td>\n",
       "      <td>NaN</td>\n",
       "      <td>NaN</td>\n",
       "      <td>0</td>\n",
       "      <td>phosphorylation</td>\n",
       "      <td>10592173</td>\n",
       "    </tr>\n",
       "    <tr>\n",
       "      <th>4</th>\n",
       "      <td>RPS6KA6</td>\n",
       "      <td>NaN</td>\n",
       "      <td>NaN</td>\n",
       "      <td>NaN</td>\n",
       "      <td>NaN</td>\n",
       "      <td>ATF4</td>\n",
       "      <td>NaN</td>\n",
       "      <td>NaN</td>\n",
       "      <td>NaN</td>\n",
       "      <td>NaN</td>\n",
       "      <td>0</td>\n",
       "      <td>phosphorylation</td>\n",
       "      <td>10592173</td>\n",
       "    </tr>\n",
       "  </tbody>\n",
       "</table>\n",
       "</div>"
      ],
      "text/plain": [
       "        0   1   2   3   4     5   6   7   8   9  10               11        12\n",
       "0      SRF NaN NaN NaN NaN  ELK1 NaN NaN NaN NaN  0          binding  10592173\n",
       "1      SRF NaN NaN NaN NaN  ELK4 NaN NaN NaN NaN  0          binding  10592173\n",
       "2    MKNK2 NaN NaN NaN NaN  ATF4 NaN NaN NaN NaN  0  phosphorylation  10592173\n",
       "3    MKNK1 NaN NaN NaN NaN  ATF4 NaN NaN NaN NaN  0  phosphorylation  10592173\n",
       "4  RPS6KA6 NaN NaN NaN NaN  ATF4 NaN NaN NaN NaN  0  phosphorylation  10592173"
      ]
     },
     "execution_count": 3,
     "metadata": {},
     "output_type": "execute_result"
    }
   ],
   "source": [
    "KEGG_sig.head()"
   ]
  },
  {
   "cell_type": "code",
   "execution_count": 4,
   "metadata": {
    "collapsed": true
   },
   "outputs": [],
   "source": [
    "#convert a SIG file to a GMT file\n",
    "#Create two versions of df 'd1' --> one flipped and one which is in original order\n",
    "d1 = {'protein_1': KEGG_sig[0], 'protein_2': KEGG_sig[5]}\n",
    "df = pd.DataFrame(data = d1)\n",
    "df.drop_duplicates(inplace = True)\n",
    "\n",
    "d2 = {'protein_1': KEGG_sig[5], 'protein_2': KEGG_sig[0]}\n",
    "df_flipped = pd.DataFrame(data = d2)\n",
    "df_flipped.drop_duplicates(inplace = True)\n",
    "\n",
    "#Make 'df' and 'df_flipped' into a single frame to account for opposite interactions\n",
    "extend = pd.concat([df, df_flipped])\n",
    "\n",
    "#Drop any duplicates and set index according to protein 1 so that we can aggregate \n",
    "#all interacting protein 2's by a shared interaction with protein one\n",
    "extend.drop_duplicates(inplace = True)\n",
    "extend.set_index('protein_1', inplace = True)\n",
    "\n",
    "gmt = extend.groupby('protein_1').agg(lambda x: tuple(x))\n",
    "\n",
    "# Create column representing counts of protein interactions per protein\n",
    "gmt['interactions'] = [int(len(lst)) for protein, lst in gmt['protein_2'].iteritems()]\n",
    "\n",
    "# Sort proteins from max to min according to number of protein iteractions\n",
    "gmt.sort_values(by = ['interactions'], ascending= False, inplace=True)\n",
    "\n",
    "#Gain indexes of gene sets with 5 or more proteins and less than 2000 protein interactions\n",
    "indices = [index for index, rowData in gmt.interactions.iteritems() if rowData >= 5 and rowData < 2000]\n",
    "\n",
    "#filter dataframe by these indices\n",
    "gmt = gmt.loc[indices]\n",
    "\n",
    "gmt_2 = gmt.copy()\n",
    "\n",
    "#reset index and insert a column for the description\n",
    "gmt_2.insert(0, 'Description', 'No Description')\n",
    "gmt_2.reset_index(inplace = True)\n",
    "\n",
    "#Drop columns not needed in GMT and join all protein interactions by a tab\n",
    "gmt_2['merged'] = ['\\t'.join(x) for x in gmt_2['protein_2']]\n",
    "gmt_2.drop('protein_2', axis = 1, inplace = True)\n",
    "gmt_2.drop('interactions', axis = 1, inplace = True)\n",
    "\n",
    "#create a dictionary and store in it rowData corresponding to each protein\n",
    "gmt_d = dict([(key, '') for key in gmt_2.index])\n",
    "\n",
    "# loop through rows with iterrows()\n",
    "for index, rowData in gmt_2.iterrows():\n",
    "    line = ('\\t'.join(rowData))\n",
    "    gmt_d[index] = line"
   ]
  },
  {
   "cell_type": "code",
   "execution_count": 5,
   "metadata": {
    "collapsed": true
   },
   "outputs": [],
   "source": [
    "#Transfer tab-separated info into a new gmt file\n",
    "with open('KEGG_ppi.gmt', 'w') as openfile:\n",
    "    for index in gmt_d:\n",
    "        openfile.write(str(gmt_d[index]) + '\\n')"
   ]
  },
  {
   "cell_type": "code",
   "execution_count": 6,
   "metadata": {},
   "outputs": [
    {
     "data": {
      "text/plain": [
       "879"
      ]
     },
     "execution_count": 6,
     "metadata": {},
     "output_type": "execute_result"
    }
   ],
   "source": [
    "genes_term = gmt.interactions\n",
    "\n",
    "len(genes_term)"
   ]
  },
  {
   "cell_type": "code",
   "execution_count": 7,
   "metadata": {},
   "outputs": [
    {
     "data": {
      "text/plain": [
       "16.118316268486918"
      ]
     },
     "execution_count": 7,
     "metadata": {},
     "output_type": "execute_result"
    }
   ],
   "source": [
    "avg_num_terms = genes_term.mean(axis = 0)\n",
    "avg_num_terms"
   ]
  },
  {
   "cell_type": "code",
   "execution_count": 8,
   "metadata": {},
   "outputs": [
    {
     "data": {
      "text/plain": [
       "1702"
      ]
     },
     "execution_count": 8,
     "metadata": {},
     "output_type": "execute_result"
    }
   ],
   "source": [
    "stat_df = extend.loc[indices]\n",
    "len(stat_df.protein_2.unique())"
   ]
  }
 ],
 "metadata": {
  "kernelspec": {
   "display_name": "Python 3",
   "language": "python",
   "name": "python3"
  },
  "language_info": {
   "codemirror_mode": {
    "name": "ipython",
    "version": 3
   },
   "file_extension": ".py",
   "mimetype": "text/x-python",
   "name": "python",
   "nbconvert_exporter": "python",
   "pygments_lexer": "ipython3",
   "version": "3.6.1"
  }
 },
 "nbformat": 4,
 "nbformat_minor": 2
}
