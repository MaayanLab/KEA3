{
 "cells": [
  {
   "cell_type": "code",
   "execution_count": 2,
   "metadata": {
    "collapsed": true
   },
   "outputs": [],
   "source": [
    "import numpy as np \n",
    "import pandas as pd\n",
    "import urllib.request \n",
    "import requests, io\n",
    "import urllib, re, string\n",
    "import datetime"
   ]
  },
  {
   "cell_type": "code",
   "execution_count": 2,
   "metadata": {
    "collapsed": true
   },
   "outputs": [],
   "source": [
    "pd.set_option('display.notebook_repr_html', True)\n",
    "\n",
    "def _repr_latex_(self):\n",
    "    return \"\\centering{%s}\" % self.to_latex()\n",
    "\n",
    "pd.DataFrame._repr_latex_ = _repr_latex_  # monkey patch pandas DataFrame"
   ]
  },
  {
   "cell_type": "markdown",
   "metadata": {},
   "source": [
    "Data Collected 1/23/2016  \n",
    "\n",
    "https://urldefense.proofpoint.com/v2/url?u=http-3A__mint.bio.uniroma2.it_mitab_MINT-5FMiTab.txt&d=DwIGaQ&c=shNJtf5dKgNcPZ6Yh64b-A&r=FzzxHcpcdpeEl2SeS4RngXJfR5R4cEV8N2xULwaH8LE&m=H47AkOYhsWJidY3BTdZQzbIarlSka87imDJ8Qn9e6GY&s=Bv-GMiHdQIC4fRHi4JERcK71UMdrk1EvTGoRMpquPiM&e=  (Mint) \n",
    "\n",
    "Data Collected 1/25/2016  \n",
    "\n",
    "https://urldefense.proofpoint.com/v2/url?u=https-3A__thebiogrid.org_downloads_archives_Release-2520Archive_BIOGRID-2D3.4.144_BIOGRID-2DALL-2D3.4.144.mitab.zip&d=DwIGaQ&c=shNJtf5dKgNcPZ6Yh64b-A&r=FzzxHcpcdpeEl2SeS4RngXJfR5R4cEV8N2xULwaH8LE&m=H47AkOYhsWJidY3BTdZQzbIarlSka87imDJ8Qn9e6GY&s=mI2tEi0k6-2vBnUAJ8GD2-TCPVdPWzpMbje_637goZs&e=  (BioGrid)  \n",
    "https://urldefense.proofpoint.com/v2/url?u=http-3A__www.innatedb.com_download_interactions_innatedb-5Fppi.mitab.gz&d=DwIGaQ&c=shNJtf5dKgNcPZ6Yh64b-A&r=FzzxHcpcdpeEl2SeS4RngXJfR5R4cEV8N2xULwaH8LE&m=H47AkOYhsWJidY3BTdZQzbIarlSka87imDJ8Qn9e6GY&s=M4I-F00djsSBy83R9CVNADb-OMwpiel94VVNTR-murY&e=  (InnateDB)  \n",
    "https://urldefense.proofpoint.com/v2/url?u=http-3A__dip.doe-2Dmbi.ucla.edu_dip_File.cgi-3FFN-3D2016_tab25_dip20160731.txt&d=DwIGaQ&c=shNJtf5dKgNcPZ6Yh64b-A&r=FzzxHcpcdpeEl2SeS4RngXJfR5R4cEV8N2xULwaH8LE&m=H47AkOYhsWJidY3BTdZQzbIarlSka87imDJ8Qn9e6GY&s=D7qKgclA4IbvfDjbxccL8LSG3UsPa7AU4ant8b8qXWo&e=  (DIP)\n",
    "\n",
    "Data Collected 1/26/2016   \n",
    "https://urldefense.proofpoint.com/v2/url?u=http-3A__mentha.uniroma2.it_doDownload.php-3Ffile-3Dorganisms_9606.zip&d=DwIGaQ&c=shNJtf5dKgNcPZ6Yh64b-A&r=FzzxHcpcdpeEl2SeS4RngXJfR5R4cEV8N2xULwaH8LE&m=H47AkOYhsWJidY3BTdZQzbIarlSka87imDJ8Qn9e6GY&s=RMnXZik8FZh0xdEL4OZPLacO9h0pmWzSKsHvkFp3Jt4&e=  (mentha)  \n",
    "https://urldefense.proofpoint.com/v2/url?u=http-3A__www.ebi.ac.uk_intact_downloads&d=DwIGaQ&c=shNJtf5dKgNcPZ6Yh64b-A&r=FzzxHcpcdpeEl2SeS4RngXJfR5R4cEV8N2xULwaH8LE&m=H47AkOYhsWJidY3BTdZQzbIarlSka87imDJ8Qn9e6GY&s=F7QsaA5RcDLVV_g_n7uDXIrPdh-SJk3JYZjYAE8HzO4&e=  (IntAct)  "
   ]
  },
  {
   "cell_type": "code",
   "execution_count": 3,
   "metadata": {
    "collapsed": true
   },
   "outputs": [],
   "source": [
    "def concatliketerms(df):\n",
    "    \n",
    "    df.sort_values(by='Protein A (gene name)', inplace=True)    \n",
    "    df.reset_index(inplace=True)\n",
    "    df.drop('index', axis=1, inplace=True)\n",
    "    oldSize = df.shape\n",
    "    newSize = 0\n",
    "    j = 1\n",
    "    while oldSize != newSize:\n",
    "        df.reset_index(inplace=True)\n",
    "        df.drop('index', axis=1, inplace=True)\n",
    "        df.sort_values(by='Protein A (gene name)', inplace=True) \n",
    "        # concattonate like terms and remove duplicates\n",
    "        i = 1\n",
    "        end = len(df.index)-1\n",
    "        for index in df.index:\n",
    "            if i % 100 == 0:\n",
    "                print('\\r', 'Loop '+ str(j)+': ' +str(i)+' Out of '+ str(len(df.index)), end=' ', flush=True)\n",
    "            if index in df.index.values and index != end:\n",
    "                if df.ix[index, 'Protein A (gene name)'] == df.ix[index+1, 'Protein A (gene name)']:\n",
    "                    if df.ix[index, 'Protein B (gene name)'] == df.ix[index+1, 'Protein B (gene name)']:\n",
    "                        df.ix[index, 'PubMed ID'] = str(df.ix[index, 'PubMed ID']) +'|'+str(df.ix[index+1, 'PubMed ID'])\n",
    "                        df.ix[index, 'Source databases'] = df.ix[index, 'Source databases'] +'|'+df.ix[index+1, 'Source databases']\n",
    "                        df.drop(index+1, axis=0, inplace=True)\n",
    "            i += 1\n",
    "        j += 1\n",
    "        oldSize = newSize\n",
    "        newSize = df.shape"
   ]
  },
  {
   "cell_type": "code",
   "execution_count": 4,
   "metadata": {
    "collapsed": true
   },
   "outputs": [],
   "source": [
    "# column identifiers for initial data (as taken from respective metadata)\n",
    "col_name = ['Unique identifier for interactor A',\n",
    "      'Unique identifier for interactor B',\n",
    "      'Alternative identifier for interactor A',\n",
    "      'Alternative identifier for interactor B',\n",
    "      'Protein A (gene name)',\n",
    "      'Protein B (gene name)',\n",
    "      'Interaction detection methods',\n",
    "      'First author',\n",
    "      'PubMed ID',\n",
    "      'NCBI Taxonomy identifier for interactor A',\n",
    "      'NCBI Taxonomy identifier for interactor B',\n",
    "      'Interaction types',\n",
    "      'Source databases', \n",
    "      'Interaction identifier(s)',\n",
    "      'Confidence score']"
   ]
  },
  {
   "cell_type": "markdown",
   "metadata": {},
   "source": [
    "#### Read mint data from url and creat file"
   ]
  },
  {
   "cell_type": "code",
   "execution_count": 4,
   "metadata": {},
   "outputs": [],
   "source": [
    "##read in data from Mint and write to file (only needs to be proformed once)\n",
    "# content=urllib.request.urlopen('https://urldefense.proofpoint.com/v2/url?u=http-3A__mint.bio.uniroma2.it_mitab_MINT-5FMiTab.txt&d=DwIGaQ&c=shNJtf5dKgNcPZ6Yh64b-A&r=FzzxHcpcdpeEl2SeS4RngXJfR5R4cEV8N2xULwaH8LE&m=H47AkOYhsWJidY3BTdZQzbIarlSka87imDJ8Qn9e6GY&s=Bv-GMiHdQIC4fRHi4JERcK71UMdrk1EvTGoRMpquPiM&e= ') \n",
    "\n",
    "# target = open('mint.tsv', 'wb')\n",
    "# for line in content:\n",
    "#     target.write(line)\n",
    "# target.close()"
   ]
  },
  {
   "cell_type": "markdown",
   "metadata": {},
   "source": [
    "## Mint Data"
   ]
  },
  {
   "cell_type": "code",
   "execution_count": 150,
   "metadata": {},
   "outputs": [],
   "source": [
    "mint_df = pd.read_csv('/Users/moshesilverstein/Desktop/PPI Library/Input/mint.tsv', sep='\\t', index_col=False, header=None)"
   ]
  },
  {
   "cell_type": "code",
   "execution_count": 151,
   "metadata": {},
   "outputs": [],
   "source": [
    "# assign names to columns from meta data\n",
    "for i in np.arange(len(col_name)):\n",
    "    mint_df.rename(columns={i:col_name[i]}, inplace=True)"
   ]
  },
  {
   "cell_type": "code",
   "execution_count": 152,
   "metadata": {},
   "outputs": [],
   "source": [
    "# get only human (or mouse) data\n",
    "n = mint_df['Protein A (gene name)'].values\n",
    "b = [i for i,item in enumerate(n) if \"mouse\" in item]\n",
    "mint_df = mint_df.ix[b]"
   ]
  },
  {
   "cell_type": "code",
   "execution_count": 153,
   "metadata": {
    "collapsed": true
   },
   "outputs": [],
   "source": [
    "mint_df =  mint_df.reset_index().drop('index', axis=1)\n",
    "\n",
    "# get only human (or mouse) data\n",
    "n = mint_df['Protein B (gene name)'].values\n",
    "b = [i for i,item in enumerate(n) if \"mouse\" in item]\n",
    "mint_df = mint_df.ix[b]"
   ]
  },
  {
   "cell_type": "code",
   "execution_count": 154,
   "metadata": {},
   "outputs": [],
   "source": [
    "# select only relevent data\n",
    "mint_df = mint_df[['Protein A (gene name)', 'Protein B (gene name)', 'PubMed ID', 'Source databases']]"
   ]
  },
  {
   "cell_type": "code",
   "execution_count": 155,
   "metadata": {},
   "outputs": [],
   "source": [
    "# change column one to just show gene name\n",
    "#i = 1\n",
    "lst = []\n",
    "for name in mint_df['Protein A (gene name)']:\n",
    "    #print('\\r', i, end=' ', flush=True)\n",
    "    name = str(name)\n",
    "    if '(gene name)' in name:\n",
    "        temp = name.split('|')\n",
    "        for ID in temp:\n",
    "            if '(gene name)' in ID:\n",
    "                lst.append(ID.split(':')[1].split('(')[0])\n",
    "                break\n",
    "\n",
    "    else:\n",
    "        lst.append(np.nan)\n",
    "    \n",
    "    #i += 1\n",
    "mint_df['Protein A (gene name)'] = lst"
   ]
  },
  {
   "cell_type": "code",
   "execution_count": 156,
   "metadata": {},
   "outputs": [],
   "source": [
    "# change column two to just show gene name\n",
    "#i = 1\n",
    "lst = []\n",
    "for name in mint_df['Protein B (gene name)']:\n",
    "    #print('\\r', i, end=' ', flush=True)\n",
    "    name = str(name)\n",
    "    if '(gene name)' in name:\n",
    "        temp = name.split('|')\n",
    "        for ID in temp:\n",
    "            if '(gene name)' in ID:\n",
    "                lst.append(ID.split(':')[1].split('(')[0])\n",
    "                break\n",
    "\n",
    "    else:\n",
    "        lst.append(np.nan)\n",
    "    \n",
    "    #i += 1\n",
    "mint_df['Protein B (gene name)'] = lst"
   ]
  },
  {
   "cell_type": "code",
   "execution_count": 157,
   "metadata": {},
   "outputs": [],
   "source": [
    "# drop data for which no gene name is provited (or ensamble ID)\n",
    "mint_df.dropna(how='any', inplace=True, axis=0)"
   ]
  },
  {
   "cell_type": "code",
   "execution_count": 158,
   "metadata": {},
   "outputs": [],
   "source": [
    "lst = []\n",
    "\n",
    "for pub in mint_df['PubMed ID']:\n",
    "    pub = str(pub)\n",
    "    pub = pub.split('|')[1].split(':')[1]\n",
    "    lst.append(pub)\n",
    "mint_df['PubMed ID'] = lst"
   ]
  },
  {
   "cell_type": "code",
   "execution_count": 159,
   "metadata": {},
   "outputs": [],
   "source": [
    "mint_df.drop_duplicates(inplace=True)"
   ]
  },
  {
   "cell_type": "code",
   "execution_count": 160,
   "metadata": {
    "collapsed": true
   },
   "outputs": [],
   "source": [
    "mint_uf_df = mint_df.copy()"
   ]
  },
  {
   "cell_type": "code",
   "execution_count": 161,
   "metadata": {},
   "outputs": [
    {
     "name": "stdout",
     "output_type": "stream",
     "text": [
      " Loop 6: 9400 Out of 9471 "
     ]
    }
   ],
   "source": [
    "concatliketerms(mint_uf_df)"
   ]
  },
  {
   "cell_type": "code",
   "execution_count": null,
   "metadata": {},
   "outputs": [],
   "source": []
  },
  {
   "cell_type": "code",
   "execution_count": 162,
   "metadata": {
    "collapsed": true
   },
   "outputs": [],
   "source": [
    "filename = '/Users/moshesilverstein/Desktop/PPI Library/Output/IndividualResources/Unfiltered/ppi_network_mint_mouse_unfiltered_%s.tsv'% str(datetime.date.today()).replace('-', '_')\n",
    "mint_df.to_csv(filename, sep='\\t', index=False) "
   ]
  },
  {
   "cell_type": "code",
   "execution_count": 163,
   "metadata": {
    "collapsed": true
   },
   "outputs": [],
   "source": [
    "filename = '/Users/moshesilverstein/Desktop/PPI Library/Output/IndividualResources/Unfiltered/ppi_network_mint_mouse_unfiltered_%s.tsv.gz'% str(datetime.date.today()).replace('-', '_')\n",
    "mint_df.to_csv(filename, sep='\\t', index=False, compression='gzip') "
   ]
  },
  {
   "cell_type": "code",
   "execution_count": 164,
   "metadata": {},
   "outputs": [
    {
     "name": "stdout",
     "output_type": "stream",
     "text": [
      " 9510 Out of 9510 "
     ]
    }
   ],
   "source": [
    "# drop any data that was published with more then 10 PPI's per publication\n",
    "i = 1\n",
    "lst = []\n",
    "for pub in mint_df['PubMed ID'].values:\n",
    "    print('\\r', str(i)+' Out of '+ str(len(mint_df['PubMed ID'].values)), end=' ', flush=True)\n",
    "    lst.append(mint_df[mint_df['PubMed ID'] == pub].shape[0] <= 10)\n",
    "    i +=1\n",
    "\n",
    "mint_df = mint_df[lst]"
   ]
  },
  {
   "cell_type": "code",
   "execution_count": 165,
   "metadata": {},
   "outputs": [],
   "source": [
    "# Drop data for which there is no PubMed ID\n",
    "lst = []\n",
    "for value in mint_df['PubMed ID']:\n",
    "    if 'unassigned' in value:\n",
    "        lst.append(True)\n",
    "    else:\n",
    "        lst.append(False)\n",
    "\n",
    "mint_df = mint_df.drop(mint_df[lst].index)"
   ]
  },
  {
   "cell_type": "code",
   "execution_count": 166,
   "metadata": {
    "collapsed": true
   },
   "outputs": [],
   "source": [
    "# Drop any data missing information\n",
    "mint_df.dropna(inplace=True)"
   ]
  },
  {
   "cell_type": "code",
   "execution_count": 167,
   "metadata": {},
   "outputs": [
    {
     "name": "stdout",
     "output_type": "stream",
     "text": [
      " Loop 5: 1500 Out of 1532 "
     ]
    }
   ],
   "source": [
    "concatliketerms(mint_df)"
   ]
  },
  {
   "cell_type": "code",
   "execution_count": 168,
   "metadata": {
    "collapsed": true
   },
   "outputs": [],
   "source": [
    "filename = '/Users/moshesilverstein/Desktop/PPI Library/Output/IndividualResources/Filtered/ppi_network_mint_mouse_filtered_%s.tsv'% strhttps://urldefense.proofpoint.com/v2/url?u=http-3A__-28datetime.date.today&d=DwIGaQ&c=shNJtf5dKgNcPZ6Yh64b-A&r=FzzxHcpcdpeEl2SeS4RngXJfR5R4cEV8N2xULwaH8LE&m=H47AkOYhsWJidY3BTdZQzbIarlSka87imDJ8Qn9e6GY&s=0AXIrr2R1Ws2uctDrGSv2BrKSII9GfdeCfYYet-im-Y&e= ()).replace('-', '_')\n",
    "mint_df.to_csv(filename, sep='\\t', index=False) "
   ]
  },
  {
   "cell_type": "code",
   "execution_count": 169,
   "metadata": {
    "collapsed": true
   },
   "outputs": [],
   "source": [
    "filename = '/Users/moshesilverstein/Desktop/PPI Library/Output/IndividualResources/Filtered/ppi_network_mint_mouse_filtered_%s.tsv.gz'% strhttps://urldefense.proofpoint.com/v2/url?u=http-3A__-28datetime.date.today&d=DwIGaQ&c=shNJtf5dKgNcPZ6Yh64b-A&r=FzzxHcpcdpeEl2SeS4RngXJfR5R4cEV8N2xULwaH8LE&m=H47AkOYhsWJidY3BTdZQzbIarlSka87imDJ8Qn9e6GY&s=0AXIrr2R1Ws2uctDrGSv2BrKSII9GfdeCfYYet-im-Y&e= ()).replace('-', '_')\n",
    "mint_df.to_csv(filename, sep='\\t', index=False, compression='gzip') "
   ]
  },
  {
   "cell_type": "markdown",
   "metadata": {},
   "source": [
    "## BioGrid Data"
   ]
  },
  {
   "cell_type": "code",
   "execution_count": 27,
   "metadata": {
    "collapsed": true
   },
   "outputs": [],
   "source": [
    "biogrid_df =https://urldefense.proofpoint.com/v2/url?u=http-3A__pd.re&d=DwIGaQ&c=shNJtf5dKgNcPZ6Yh64b-A&r=FzzxHcpcdpeEl2SeS4RngXJfR5R4cEV8N2xULwaH8LE&m=H47AkOYhsWJidY3BTdZQzbIarlSka87imDJ8Qn9e6GY&s=kUtB02_d29l-AX62DWgGfOrrMBgeV15cPbw0hAtCi7Y&e= ad_csv('/Users/moshesilverstein/Desktop/PPI Library/Input/BIOGRID-ALL-3.4.144.mitab.txt', sep='\\t', index_col=False)"
   ]
  },
  {
   "cell_type": "code",
   "execution_count": 28,
   "metadata": {
    "collapsed": true
   },
   "outputs": [],
   "source": [
    "# get only human (or mouse) data\n",
    "n = biogrid_df['Taxid Interactor A'].values\n",
    "b = [i for i,item in enumerate(n) if \"taxid:10090\" in item] #taxid:9606 for human, taxid:10090 for mouse\n",
    "biogrid_df = biogrid_df.ix[b]"
   ]
  },
  {
   "cell_type": "code",
   "execution_count": 29,
   "metadata": {
    "collapsed": true
   },
   "outputs": [],
   "source": [
    "biogrid_df =  biogrid_df.reset_index().drop('index', axis=1)\n",
    "\n",
    "# get only human (or mouse) data\n",
    "n = biogrid_df['Taxid Interactor B'].values\n",
    "b = [i for i,item in enumerate(n) if \"taxid:10090\" in item] #taxid:9606 for human, taxid:10090 for mouse\n",
    "biogrid_df = biogrid_df.ix[b]"
   ]
  },
  {
   "cell_type": "code",
   "execution_count": 30,
   "metadata": {},
   "outputs": [],
   "source": [
    "# select only relevent data\n",
    "biogrid_df = biogrid_df[['Alt IDs Interactor A', 'Alt IDs Interactor B', 'Publication Identifiers', 'Source Database']]"
   ]
  },
  {
   "cell_type": "code",
   "execution_count": 31,
   "metadata": {
    "collapsed": true
   },
   "outputs": [],
   "source": [
    "# rename columns for consistency\n",
    "biogrid_df.rename(columns={'Alt IDs Interactor A': 'Protein A (gene name)', 'Alt IDs Interactor B':'Protein B (gene name)', 'Publication Identifiers':'PubMed ID', 'Source Database':'Source databases'}, inplace=True)"
   ]
  },
  {
   "cell_type": "code",
   "execution_count": 32,
   "metadata": {},
   "outputs": [
    {
     "name": "stdout",
     "output_type": "stream",
     "text": [
      " 17700 "
     ]
    }
   ],
   "source": [
    "# change column one to just show gene name\n",
    "i = 1\n",
    "lst = []\n",
    "for name in biogrid_df['Protein A (gene name)']:\n",
    "    if i % 100 == 0:\n",
    "        print('\\r', i, end=' ', flush=True)\n",
    "    name = str(name) \n",
    "    if name != 'nan':\n",
    "        lst.append(name.split('|')[1].split(':')[1])\n",
    "    else:\n",
    "        lst.appendhttps://urldefense.proofpoint.com/v2/url?u=http-3A__-28np.na&d=DwIGaQ&c=shNJtf5dKgNcPZ6Yh64b-A&r=FzzxHcpcdpeEl2SeS4RngXJfR5R4cEV8N2xULwaH8LE&m=H47AkOYhsWJidY3BTdZQzbIarlSka87imDJ8Qn9e6GY&s=7WM6dIU5B2DmwOyR_-PTnzSdk60Ct63WnSExIongu-A&e= n)\n",
    "    i += 1\n",
    "biogrid_df['Protein A (gene name)'] = lst"
   ]
  },
  {
   "cell_type": "code",
   "execution_count": 33,
   "metadata": {},
   "outputs": [
    {
     "name": "stdout",
     "output_type": "stream",
     "text": [
      " 17700 "
     ]
    }
   ],
   "source": [
    "# change column two to just show gene name\n",
    "i = 1\n",
    "lst = []\n",
    "for name in biogrid_df['Protein B (gene name)']:\n",
    "    if i % 100 == 0:\n",
    "        print('\\r', i, end=' ', flush=True)\n",
    "    name = str(name) \n",
    "    if name != 'nan':\n",
    "        lst.append(name.split('|')[1].split(':')[1])\n",
    "    else:\n",
    "        lst.appendhttps://urldefense.proofpoint.com/v2/url?u=http-3A__-28np.na&d=DwIGaQ&c=shNJtf5dKgNcPZ6Yh64b-A&r=FzzxHcpcdpeEl2SeS4RngXJfR5R4cEV8N2xULwaH8LE&m=H47AkOYhsWJidY3BTdZQzbIarlSka87imDJ8Qn9e6GY&s=7WM6dIU5B2DmwOyR_-PTnzSdk60Ct63WnSExIongu-A&e= n)\n",
    "    i += 1\n",
    "biogrid_df['Protein B (gene name)'] = lst"
   ]
  },
  {
   "cell_type": "code",
   "execution_count": 34,
   "metadata": {
    "collapsed": true
   },
   "outputs": [],
   "source": [
    "# drop data for which no gene name is provited (or ensamble ID)\n",
    "biogrid_df.dropna(how='any', inplace=True, axis=0)"
   ]
  },
  {
   "cell_type": "code",
   "execution_count": 35,
   "metadata": {
    "collapsed": true
   },
   "outputs": [],
   "source": [
    "# Get Only PubMed ID for publication identifier\n",
    "lst = []\n",
    "\n",
    "for pub in biogrid_df['PubMed ID']:\n",
    "    pub = str(pub)\n",
    "    pub = pub.split(':')[1]\n",
    "    lst.append(pub)\n",
    "biogrid_df['PubMed ID'] = lst"
   ]
  },
  {
   "cell_type": "code",
   "execution_count": 36,
   "metadata": {
    "collapsed": true
   },
   "outputs": [],
   "source": [
    "biogrid_df.drop_duplicates(inplace=True)"
   ]
  },
  {
   "cell_type": "code",
   "execution_count": 37,
   "metadata": {
    "collapsed": true
   },
   "outputs": [],
   "source": [
    "# uf = unfiltered\n",
    "biogrid_uf_df = biogrid_df.copy()"
   ]
  },
  {
   "cell_type": "code",
   "execution_count": 38,
   "metadata": {},
   "outputs": [
    {
     "name": "stdout",
     "output_type": "stream",
     "text": [
      " Loop 44: 15700 Out of 15719 "
     ]
    }
   ],
   "source": [
    "concatliketerms(biogrid_uf_df)"
   ]
  },
  {
   "cell_type": "code",
   "execution_count": 39,
   "metadata": {
    "collapsed": true
   },
   "outputs": [],
   "source": [
    "filename = '/Users/moshesilverstein/Desktop/PPI Library/Output/IndividualResources/Unfiltered/ppi_network_biogrid_mouse_unfiltered_%s.tsv'% strhttps://urldefense.proofpoint.com/v2/url?u=http-3A__-28datetime.date.today&d=DwIGaQ&c=shNJtf5dKgNcPZ6Yh64b-A&r=FzzxHcpcdpeEl2SeS4RngXJfR5R4cEV8N2xULwaH8LE&m=H47AkOYhsWJidY3BTdZQzbIarlSka87imDJ8Qn9e6GY&s=0AXIrr2R1Ws2uctDrGSv2BrKSII9GfdeCfYYet-im-Y&e= ()).replace('-', '_')\n",
    "biogrid_uf_df.to_csv(filename, sep='\\t', index=False) "
   ]
  },
  {
   "cell_type": "code",
   "execution_count": 40,
   "metadata": {
    "collapsed": true
   },
   "outputs": [],
   "source": [
    "filename = '/Users/moshesilverstein/Desktop/PPI Library/Output/IndividualResources/Unfiltered/ppi_network_biogrid_mouse_unfiltered_%s.tsv.gz'% strhttps://urldefense.proofpoint.com/v2/url?u=http-3A__-28datetime.date.today&d=DwIGaQ&c=shNJtf5dKgNcPZ6Yh64b-A&r=FzzxHcpcdpeEl2SeS4RngXJfR5R4cEV8N2xULwaH8LE&m=H47AkOYhsWJidY3BTdZQzbIarlSka87imDJ8Qn9e6GY&s=0AXIrr2R1Ws2uctDrGSv2BrKSII9GfdeCfYYet-im-Y&e= ()).replace('-', '_')\n",
    "biogrid_uf_df.to_csv(filename, sep='\\t', index=False, compression='gzip')"
   ]
  },
  {
   "cell_type": "code",
   "execution_count": 41,
   "metadata": {},
   "outputs": [
    {
     "name": "stdout",
     "output_type": "stream",
     "text": [
      " 2900 Out of 2775 "
     ]
    }
   ],
   "source": [
    "# drop any data that was published with more then 10 PPI's per publication\n",
    "i = 1\n",
    "for pub in biogrid_df['PubMed ID'].unique():\n",
    "    if i % 100 == 0:\n",
    "        print('\\r', str(i)+' Out of '+ str(len(biogrid_df['PubMed ID'].unique())), end=' ', flush=True)\n",
    "    if biogrid_df[biogrid_df['PubMed ID'] == pub].shape[0] > 10:\n",
    "        biogrid_df.drop(biogrid_df[biogrid_df['PubMed ID'] == pub].index.tolist(), inplace=True)\n",
    "    i +=1"
   ]
  },
  {
   "cell_type": "code",
   "execution_count": 42,
   "metadata": {},
   "outputs": [
    {
     "data": {
      "text/plain": [
       "(7203, 4)"
      ]
     },
     "execution_count": 42,
     "metadata": {},
     "output_type": "execute_result"
    }
   ],
   "source": [
    "biogrid_df.shape"
   ]
  },
  {
   "cell_type": "code",
   "execution_count": 43,
   "metadata": {},
   "outputs": [],
   "source": [
    "lst = []\n",
    "for value in biogrid_df['PubMed ID']:\n",
    "    if 'unassigned' in value:\n",
    "        lst.append(True)\n",
    "    else:\n",
    "        lst.append(False)\n",
    "\n",
    "biogrid_df = biogrid_df.drop(biogrid_df[lst].index)"
   ]
  },
  {
   "cell_type": "code",
   "execution_count": 44,
   "metadata": {
    "collapsed": true
   },
   "outputs": [],
   "source": [
    "biogrid_df.dropna(inplace=True)"
   ]
  },
  {
   "cell_type": "code",
   "execution_count": 45,
   "metadata": {},
   "outputs": [
    {
     "name": "stdout",
     "output_type": "stream",
     "text": [
      " Loop 41: 6600 Out of 6650 "
     ]
    }
   ],
   "source": [
    "concatliketerms(biogrid_df)"
   ]
  },
  {
   "cell_type": "code",
   "execution_count": 46,
   "metadata": {
    "collapsed": true
   },
   "outputs": [],
   "source": [
    "filename = '/Users/moshesilverstein/Desktop/PPI Library/Output/IndividualResources/Filtered/ppi_network_biogrid_mouse_filtered_%s.tsv'% str(datetime.date.today()).replace('-', '_')\n",
    "biogrid_df.to_csv(filename, sep='\\t', index=False) "
   ]
  },
  {
   "cell_type": "code",
   "execution_count": 47,
   "metadata": {
    "collapsed": true
   },
   "outputs": [],
   "source": [
    "filename = '/Users/moshesilverstein/Desktop/PPI Library/Output/IndividualResources/Filtered/ppi_network_biogrid_mouse_filtered_%s.tsv.gz'% str(datetime.date.today()).replace('-', '_')\n",
    "biogrid_df.to_csv(filename, sep='\\t', index=False, compression='gzip')"
   ]
  },
  {
   "cell_type": "markdown",
   "metadata": {},
   "source": [
    "## InnateDB Data"
   ]
  },
  {
   "cell_type": "code",
   "execution_count": 48,
   "metadata": {},
   "outputs": [],
   "source": [
    "innatedb_df = pd.read_csv('/Users/moshesilverstein/Desktop/PPI Library/Input/innatedb_ppi.mitab', sep='\\t', index_col=False)"
   ]
  },
  {
   "cell_type": "code",
   "execution_count": 49,
   "metadata": {
    "collapsed": true
   },
   "outputs": [],
   "source": [
    "# get only human (or mouse) data\n",
    "n = innatedb_df['ncbi_taxid_A'].values\n",
    "b = [i for i,item in enumerate(n) if \"Mouse\" in item]\n",
    "innatedb_df = innatedb_df.ix[b]"
   ]
  },
  {
   "cell_type": "code",
   "execution_count": 50,
   "metadata": {},
   "outputs": [],
   "source": [
    "innatedb_df =  innatedb_df.reset_index().drop('index', axis=1)\n",
    "\n",
    "# get only human (or mouse) data\n",
    "n = innatedb_df['ncbi_taxid_B'].values\n",
    "b = [i for i,item in enumerate(n) if \"Mouse\" in item]\n",
    "innatedb_df = innatedb_df.ix[b]"
   ]
  },
  {
   "cell_type": "code",
   "execution_count": 51,
   "metadata": {},
   "outputs": [],
   "source": [
    "innatedb_df = innatedb_df[['alias_A', 'alias_B', 'pmid', 'source_database']]"
   ]
  },
  {
   "cell_type": "code",
   "execution_count": 52,
   "metadata": {
    "collapsed": true
   },
   "outputs": [],
   "source": [
    "innatedb_df.rename(columns={'alias_A': 'Protein A (gene name)', 'alias_B':'Protein B (gene name)', 'pmid':'PubMed ID', 'source_database':'Source databases'}, inplace=True)"
   ]
  },
  {
   "cell_type": "code",
   "execution_count": 53,
   "metadata": {},
   "outputs": [],
   "source": [
    "# change column one to just show gene name\n",
    "#i = 1\n",
    "lst = []\n",
    "for name in innatedb_df['Protein A (gene name)']:\n",
    "    #print('\\r', i, end=' ', flush=True)\n",
    "    name = str(name) \n",
    "    if name != 'nan':\n",
    "        lst.append(name.split('|')[-1].split(\":\")[1].split('(')[0])\n",
    "    else:\n",
    "        lst.append(np.nan)\n",
    "    #i += 1\n",
    "innatedb_df['Protein A (gene name)'] = lst"
   ]
  },
  {
   "cell_type": "code",
   "execution_count": 54,
   "metadata": {
    "collapsed": true
   },
   "outputs": [],
   "source": [
    "# change column two to just show gene name\n",
    "#i = 1\n",
    "lst = []\n",
    "for name in innatedb_df['Protein B (gene name)']:\n",
    "    #print('\\r', i, end=' ', flush=True)\n",
    "    name = str(name) \n",
    "    if name != 'nan':\n",
    "        lst.append(name.split('|')[-1].split(\":\")[1].split('(')[0])\n",
    "    else:\n",
    "        lst.append(np.nan)\n",
    "    #i += 1\n",
    "innatedb_df['Protein B (gene name)'] = lst"
   ]
  },
  {
   "cell_type": "code",
   "execution_count": 55,
   "metadata": {
    "collapsed": true
   },
   "outputs": [],
   "source": [
    "# drop data for which no gene name is provited (or ensamble ID)\n",
    "innatedb_df.dropna(how='any', inplace=True, axis=0)"
   ]
  },
  {
   "cell_type": "code",
   "execution_count": 56,
   "metadata": {
    "collapsed": true
   },
   "outputs": [],
   "source": [
    "lst = []\n",
    "\n",
    "for pub in innatedb_df['PubMed ID']:\n",
    "    pub = str(pub)\n",
    "    pub = pub.split(':')[1]\n",
    "    lst.append(pub)\n",
    "innatedb_df['PubMed ID'] = lst"
   ]
  },
  {
   "cell_type": "code",
   "execution_count": 57,
   "metadata": {
    "collapsed": true
   },
   "outputs": [],
   "source": [
    "innatedb_df.drop_duplicates(inplace=True)"
   ]
  },
  {
   "cell_type": "code",
   "execution_count": 58,
   "metadata": {
    "collapsed": true
   },
   "outputs": [],
   "source": [
    "innatedb_uf_df = innatedb_df.copy()"
   ]
  },
  {
   "cell_type": "code",
   "execution_count": 59,
   "metadata": {},
   "outputs": [
    {
     "name": "stdout",
     "output_type": "stream",
     "text": [
      " Loop 17: 2300 Out of 2360 "
     ]
    }
   ],
   "source": [
    "concatliketerms(innatedb_uf_df)"
   ]
  },
  {
   "cell_type": "code",
   "execution_count": 60,
   "metadata": {
    "collapsed": true
   },
   "outputs": [],
   "source": [
    "filename = '/Users/moshesilverstein/Desktop/PPI Library/Output/IndividualResources/Unfiltered/ppi_network_innatedb_mouse_unfiltered_%s.tsv'% str(datetime.date.today()).replace('-', '_')\n",
    "innatedb_uf_df.to_csv(filename, sep='\\t', index=False) "
   ]
  },
  {
   "cell_type": "code",
   "execution_count": 61,
   "metadata": {
    "collapsed": true
   },
   "outputs": [],
   "source": [
    "filename = '/Users/moshesilverstein/Desktop/PPI Library/Output/IndividualResources/Unfiltered/ppi_network_innatedb_mouse_unfiltered_%s.tsv.gz'% str(datetime.date.today()).replace('-', '_')\n",
    "innatedb_uf_df.to_csv(filename, sep='\\t', index=False, compression='gzip') "
   ]
  },
  {
   "cell_type": "code",
   "execution_count": 62,
   "metadata": {},
   "outputs": [
    {
     "data": {
      "text/plain": [
       "(2585, 4)"
      ]
     },
     "execution_count": 62,
     "metadata": {},
     "output_type": "execute_result"
    }
   ],
   "source": [
    "innatedb_df.shape"
   ]
  },
  {
   "cell_type": "code",
   "execution_count": 63,
   "metadata": {},
   "outputs": [
    {
     "name": "stdout",
     "output_type": "stream",
     "text": [
      " 900 Out of 921 "
     ]
    }
   ],
   "source": [
    "# drop any data that was published with more then 10 PPI's per publication\n",
    "i = 1\n",
    "for pub in innatedb_df['PubMed ID'].unique():\n",
    "    if i % 100 == 0:\n",
    "        print('\\r', str(i)+' Out of '+ str(len(innatedb_df['PubMed ID'].unique())), end=' ', flush=True)\n",
    "    if innatedb_df[innatedb_df['PubMed ID'] == pub].shape[0] > 10:\n",
    "        innatedb_df.drop(innatedb_df[innatedb_df['PubMed ID'] == pub].index.tolist(), inplace=True)\n",
    "    i +=1"
   ]
  },
  {
   "cell_type": "code",
   "execution_count": 64,
   "metadata": {},
   "outputs": [],
   "source": [
    "lst = []\n",
    "for value in innatedb_df['PubMed ID']:\n",
    "    if 'unassigned' in value:\n",
    "        lst.append(True)\n",
    "    else:\n",
    "        lst.append(False)\n",
    "\n",
    "innatedb_df = innatedb_df.drop(innatedb_df[lst].index)"
   ]
  },
  {
   "cell_type": "code",
   "execution_count": 65,
   "metadata": {
    "collapsed": true
   },
   "outputs": [],
   "source": [
    "innatedb_df.dropna(inplace=True)"
   ]
  },
  {
   "cell_type": "code",
   "execution_count": 66,
   "metadata": {},
   "outputs": [
    {
     "name": "stdout",
     "output_type": "stream",
     "text": [
      " Loop 20: 1700 Out of 1711 "
     ]
    }
   ],
   "source": [
    "concatliketerms(innatedb_df)"
   ]
  },
  {
   "cell_type": "code",
   "execution_count": 67,
   "metadata": {
    "collapsed": true
   },
   "outputs": [],
   "source": [
    "filename = '/Users/moshesilverstein/Desktop/PPI Library/Output/IndividualResources/Filtered/ppi_network_innatedb_mouse_filtered_%s.tsv'% str(datetime.date.today()).replace('-', '_')\n",
    "innatedb_df.to_csv(filename, sep='\\t', index=False) "
   ]
  },
  {
   "cell_type": "code",
   "execution_count": 68,
   "metadata": {
    "collapsed": true
   },
   "outputs": [],
   "source": [
    "filename = '/Users/moshesilverstein/Desktop/PPI Library/Output/IndividualResources/Filtered/ppi_network_innatedb_mouse_filtered_%s.tsv.gz'% str(datetime.date.today()).replace('-', '_')\n",
    "innatedb_df.to_csv(filename, sep='\\t', index=False, compression='gzip') "
   ]
  },
  {
   "cell_type": "markdown",
   "metadata": {},
   "source": [
    "## DIP DATA"
   ]
  },
  {
   "cell_type": "code",
   "execution_count": 70,
   "metadata": {},
   "outputs": [],
   "source": [
    "dip_df = pd.read_csv('/Users/moshesilverstein/Desktop/PPI Library/Input/dip20160731.txt', sep='\\t', index_col=False)"
   ]
  },
  {
   "cell_type": "code",
   "execution_count": 71,
   "metadata": {
    "collapsed": true
   },
   "outputs": [],
   "source": [
    "# get only human (or mouse) data\n",
    "n = dip_df['Taxid interactor A'].values\n",
    "b = [i for i,item in enumerate(n) if \"Mus musculus\" in item]\n",
    "dip_df = dip_df.ix[b]"
   ]
  },
  {
   "cell_type": "code",
   "execution_count": 72,
   "metadata": {
    "collapsed": true
   },
   "outputs": [],
   "source": [
    "dip_df =  dip_df.reset_index().drop('index', axis=1)\n",
    "\n",
    "# get only human (or mouse) data\n",
    "n = dip_df['Taxid interactor B'].values\n",
    "b = [i for i,item in enumerate(n) if \"Mus musculus\" in item]\n",
    "dip_df = dip_df.ix[b]"
   ]
  },
  {
   "cell_type": "code",
   "execution_count": 73,
   "metadata": {
    "collapsed": true
   },
   "outputs": [],
   "source": [
    "dip_df = dip_df[['ID interactor A', 'ID interactor B', 'Publication Identifier(s)', 'Source database(s)']]"
   ]
  },
  {
   "cell_type": "code",
   "execution_count": 74,
   "metadata": {
    "collapsed": true
   },
   "outputs": [],
   "source": [
    "dip_df.rename(columns={'ID interactor A': 'Protein A (gene name)', 'ID interactor B':'Protein B (gene name)', 'Publication Identifier(s)':'PubMed ID', 'Source database(s)':'Source databases'}, inplace=True)"
   ]
  },
  {
   "cell_type": "markdown",
   "metadata": {},
   "source": [
    "#### mapping table to convert labels from uniprot to ncbi names"
   ]
  },
  {
   "cell_type": "code",
   "execution_count": 75,
   "metadata": {},
   "outputs": [],
   "source": [
    "mapping_df = pd.read_csv('/Users/moshesilverstein/Desktop/PPI Library/Doc and Mapping/MOUSE_10090_idmapping.dat', sep='\\t', index_col=False, names=['UniProtKB-AC', 'ID_type', 'ID'])"
   ]
  },
  {
   "cell_type": "code",
   "execution_count": 76,
   "metadata": {
    "collapsed": true
   },
   "outputs": [],
   "source": [
    "mapping_df = mapping_df[mapping_df['ID_type']=='Gene_Name']"
   ]
  },
  {
   "cell_type": "code",
   "execution_count": 77,
   "metadata": {
    "collapsed": true
   },
   "outputs": [],
   "source": [
    "mapping_df.set_index('UniProtKB-AC', inplace=True)"
   ]
  },
  {
   "cell_type": "code",
   "execution_count": 78,
   "metadata": {},
   "outputs": [],
   "source": [
    "mapping_df = mapping_df[~mapping_df.index.duplicated(keep='first')]"
   ]
  },
  {
   "cell_type": "code",
   "execution_count": 79,
   "metadata": {},
   "outputs": [],
   "source": [
    "# change column one to just show gene name\n",
    "for index in dip_df.index:\n",
    "    found = re.search('uniprotkb:......', dip_df.ix[index, 'Protein A (gene name)'])\n",
    "    if found:\n",
    "        name = found.group(0).split(':')[1]\n",
    "        if name in mapping_df.index.values:\n",
    "            dip_df.ix[index, 'Protein A (gene name)'] = mapping_df.ix[name, 'ID']\n",
    "        else:\n",
    "            dip_df.ix[index, 'Protein A (gene name)'] = np.nan\n",
    "    else:\n",
    "        dip_df.ix[index, 'Protein A (gene name)'] = np.nan"
   ]
  },
  {
   "cell_type": "code",
   "execution_count": 80,
   "metadata": {
    "collapsed": true
   },
   "outputs": [],
   "source": [
    "# change column two to just show gene name\n",
    "for index in dip_df.index:\n",
    "    found = re.search('uniprotkb:......', dip_df.ix[index, 'Protein B (gene name)'])\n",
    "    if found:\n",
    "        name = found.group(0).split(':')[1]\n",
    "        if name in mapping_df.index.values:\n",
    "            dip_df.ix[index, 'Protein B (gene name)'] = mapping_df.ix[name, 'ID']\n",
    "        else:\n",
    "            dip_df.ix[index, 'Protein B (gene name)'] = np.nan\n",
    "    else:\n",
    "        dip_df.ix[index, 'Protein B (gene name)'] = np.nan"
   ]
  },
  {
   "cell_type": "code",
   "execution_count": 81,
   "metadata": {},
   "outputs": [],
   "source": [
    "lst = []\n",
    "\n",
    "for pub in dip_df['PubMed ID']:\n",
    "    pub = str(pub)\n",
    "    pub = pub.split('|')[0].split(':')[1]\n",
    "    lst.append(pub)\n",
    "dip_df['PubMed ID'] = lst"
   ]
  },
  {
   "cell_type": "code",
   "execution_count": 82,
   "metadata": {},
   "outputs": [],
   "source": [
    "dip_df.drop_duplicates(inplace=True)"
   ]
  },
  {
   "cell_type": "code",
   "execution_count": 83,
   "metadata": {
    "collapsed": true
   },
   "outputs": [],
   "source": [
    "dip_uf_df = dip_df.copy()"
   ]
  },
  {
   "cell_type": "code",
   "execution_count": 84,
   "metadata": {},
   "outputs": [
    {
     "name": "stdout",
     "output_type": "stream",
     "text": [
      " Loop 2: 1400 Out of 1443 "
     ]
    }
   ],
   "source": [
    "concatliketerms(dip_uf_df)"
   ]
  },
  {
   "cell_type": "code",
   "execution_count": 85,
   "metadata": {
    "collapsed": true
   },
   "outputs": [],
   "source": [
    "filename = '/Users/moshesilverstein/Desktop/PPI Library/Output/IndividualResources/Unfiltered/ppi_network_dip_mouse_unfiltered_%s.tsv'% str(datetime.date.today()).replace('-', '_')\n",
    "dip_uf_df.to_csv(filename, sep='\\t', index=False) "
   ]
  },
  {
   "cell_type": "code",
   "execution_count": 86,
   "metadata": {
    "collapsed": true
   },
   "outputs": [],
   "source": [
    "filename = '/Users/moshesilverstein/Desktop/PPI Library/Output/IndividualResources/Unfiltered/ppi_network_dip_mouse_unfiltered_%s.tsv.gz'% str(datetime.date.today()).replace('-', '_')\n",
    "dip_uf_df.to_csv(filename, sep='\\t', index=False, compression='gzip') "
   ]
  },
  {
   "cell_type": "code",
   "execution_count": 87,
   "metadata": {},
   "outputs": [
    {
     "name": "stdout",
     "output_type": "stream",
     "text": [
      " 600 Out of 626 "
     ]
    }
   ],
   "source": [
    "# drop any data that was published with more then 10 PPI's per publication\n",
    "i = 1\n",
    "for pub in dip_df['PubMed ID'].unique():\n",
    "    if i % 100 == 0:\n",
    "        print('\\r', str(i)+' Out of '+ str(len(dip_df['PubMed ID'].unique())), end=' ', flush=True)\n",
    "    if dip_df[dip_df['PubMed ID'] == pub].shape[0] > 10:\n",
    "        dip_df.drop(dip_df[dip_df['PubMed ID'] == pub].index.tolist(), inplace=True)\n",
    "    i +=1"
   ]
  },
  {
   "cell_type": "code",
   "execution_count": 88,
   "metadata": {},
   "outputs": [],
   "source": [
    "lst = []\n",
    "for value in dip_df['PubMed ID']:\n",
    "    if 'unassigned' in value:\n",
    "        lst.append(True)\n",
    "    else:\n",
    "        lst.append(False)\n",
    "\n",
    "dip_df = dip_df.drop(dip_df[lst].index)"
   ]
  },
  {
   "cell_type": "code",
   "execution_count": 89,
   "metadata": {
    "collapsed": true
   },
   "outputs": [],
   "source": [
    "dip_df.dropna(inplace=True)"
   ]
  },
  {
   "cell_type": "code",
   "execution_count": 69,
   "metadata": {},
   "outputs": [],
   "source": [
    "#mapping_df.head()"
   ]
  },
  {
   "cell_type": "code",
   "execution_count": 91,
   "metadata": {},
   "outputs": [
    {
     "name": "stdout",
     "output_type": "stream",
     "text": [
      " Loop 2: 1200 Out of 1210 "
     ]
    }
   ],
   "source": [
    "concatliketerms(dip_df)"
   ]
  },
  {
   "cell_type": "code",
   "execution_count": 92,
   "metadata": {
    "collapsed": true
   },
   "outputs": [],
   "source": [
    "filename = '/Users/moshesilverstein/Desktop/PPI Library/Output/IndividualResources/Filtered/ppi_network_dip_mouse_filtered_%s.tsv'% str(datetime.date.today()).replace('-', '_')\n",
    "dip_df.to_csv(filename, sep='\\t', index=False) "
   ]
  },
  {
   "cell_type": "code",
   "execution_count": 93,
   "metadata": {
    "collapsed": true
   },
   "outputs": [],
   "source": [
    "filename = '/Users/moshesilverstein/Desktop/PPI Library/Output/IndividualResources/Filtered/ppi_network_dip_mouse_filtered_%s.tsv.gz'% str(datetime.date.today()).replace('-', '_')\n",
    "dip_df.to_csv(filename, sep='\\t', index=False, compression='gzip')"
   ]
  },
  {
   "cell_type": "markdown",
   "metadata": {},
   "source": [
    "## mentha data"
   ]
  },
  {
   "cell_type": "code",
   "execution_count": 94,
   "metadata": {},
   "outputs": [],
   "source": [
    "mentha_df = pd.read_csv('/Users/moshesilverstein/Desktop/PPI Library/Input/mentha_mouse', sep=';')"
   ]
  },
  {
   "cell_type": "code",
   "execution_count": 95,
   "metadata": {},
   "outputs": [],
   "source": [
    "mentha_df = mentha_df[['Gene A', 'Gene B', 'PMID']]"
   ]
  },
  {
   "cell_type": "code",
   "execution_count": 96,
   "metadata": {},
   "outputs": [],
   "source": [
    "mentha_df['Source databases'] = '(mentha)'"
   ]
  },
  {
   "cell_type": "code",
   "execution_count": 97,
   "metadata": {
    "collapsed": true
   },
   "outputs": [],
   "source": [
    "mentha_df.rename(columns={'Gene A': 'Protein A (gene name)', 'Gene B':'Protein B (gene name)', 'PMID':'PubMed ID'}, inplace=True)"
   ]
  },
  {
   "cell_type": "code",
   "execution_count": 98,
   "metadata": {},
   "outputs": [
    {
     "name": "stdout",
     "output_type": "stream",
     "text": [
      " 26200 Out of 26282 "
     ]
    }
   ],
   "source": [
    "i = 1\n",
    "for index in mentha_df.index:\n",
    "    if i % 100 == 0:\n",
    "        print('\\r', str(i)+' Out of '+ str(len(mentha_df.index)), end=' ', flush=True)\n",
    "    mentha_df.ix[index, 'PubMed ID'] = '|'.join(mentha_df.ix[index, 'PubMed ID'].split(' ')[0:-1])\n",
    "    i +=1"
   ]
  },
  {
   "cell_type": "code",
   "execution_count": 99,
   "metadata": {
    "collapsed": true
   },
   "outputs": [],
   "source": [
    "mentha_df.drop_duplicates(inplace=True)"
   ]
  },
  {
   "cell_type": "code",
   "execution_count": 100,
   "metadata": {
    "collapsed": true
   },
   "outputs": [],
   "source": [
    "mentha_uf_df = mentha_df.copy()"
   ]
  },
  {
   "cell_type": "code",
   "execution_count": 101,
   "metadata": {},
   "outputs": [
    {
     "name": "stdout",
     "output_type": "stream",
     "text": [
      " Loop 4: 26100 Out of 26122 "
     ]
    }
   ],
   "source": [
    "concatliketerms(mentha_uf_df)"
   ]
  },
  {
   "cell_type": "code",
   "execution_count": 102,
   "metadata": {
    "collapsed": true
   },
   "outputs": [],
   "source": [
    "filename = '/Users/moshesilverstein/Desktop/PPI Library/Output/IndividualResources/Unfiltered/ppi_network_mentha_mouse_unfiltered_%s.tsv'% str(datetime.date.today()).replace('-', '_')\n",
    "mentha_uf_df.to_csv(filename, sep='\\t', index=False) "
   ]
  },
  {
   "cell_type": "code",
   "execution_count": 103,
   "metadata": {
    "collapsed": true
   },
   "outputs": [],
   "source": [
    "filename = '/Users/moshesilverstein/Desktop/PPI Library/Output/IndividualResources/Unfiltered/ppi_network_mentha_mouse_unfiltered_%s.tsv.gz'% str(datetime.date.today()).replace('-', '_')\n",
    "mentha_uf_df.to_csv(filename, sep='\\t', index=False, compression='gzip')"
   ]
  },
  {
   "cell_type": "code",
   "execution_count": 104,
   "metadata": {},
   "outputs": [
    {
     "name": "stdout",
     "output_type": "stream",
     "text": [
      " 4200 Out of 4139 "
     ]
    }
   ],
   "source": [
    "# drop any data that was published with more then 10 PPI's per publication\n",
    "i = 1\n",
    "for pub in mentha_df['PubMed ID'].unique():\n",
    "    if i % 100 == 0:\n",
    "        print('\\r', str(i)+' Out of '+ str(len(mentha_df['PubMed ID'].unique())), end=' ', flush=True)\n",
    "    if mentha_df[mentha_df['PubMed ID'] == pub].shape[0] > 10:\n",
    "        mentha_df.drop(mentha_df[mentha_df['PubMed ID'] == pub].index.tolist(), inplace=True)\n",
    "    i +=1"
   ]
  },
  {
   "cell_type": "code",
   "execution_count": 105,
   "metadata": {},
   "outputs": [],
   "source": [
    "lst = []\n",
    "for value in mentha_df['PubMed ID']:\n",
    "    if 'unassigned' in value:\n",
    "        lst.append(True)\n",
    "    else:\n",
    "        lst.append(False)\n",
    "\n",
    "mentha_df = mentha_df.drop(mentha_df[lst].index)"
   ]
  },
  {
   "cell_type": "code",
   "execution_count": 106,
   "metadata": {},
   "outputs": [],
   "source": [
    "mentha_df.dropna(inplace=True)"
   ]
  },
  {
   "cell_type": "code",
   "execution_count": 107,
   "metadata": {},
   "outputs": [
    {
     "data": {
      "text/plain": [
       "(7640, 4)"
      ]
     },
     "execution_count": 107,
     "metadata": {},
     "output_type": "execute_result"
    }
   ],
   "source": [
    "mentha_df.shape"
   ]
  },
  {
   "cell_type": "code",
   "execution_count": 108,
   "metadata": {},
   "outputs": [
    {
     "name": "stdout",
     "output_type": "stream",
     "text": [
      " Loop 4: 7600 Out of 7632 "
     ]
    }
   ],
   "source": [
    "concatliketerms(mentha_df)"
   ]
  },
  {
   "cell_type": "code",
   "execution_count": 109,
   "metadata": {},
   "outputs": [
    {
     "data": {
      "text/html": [
       "<div>\n",
       "<table border=\"1\" class=\"dataframe\">\n",
       "  <thead>\n",
       "    <tr style=\"text-align: right;\">\n",
       "      <th></th>\n",
       "      <th>Protein A (gene name)</th>\n",
       "      <th>Protein B (gene name)</th>\n",
       "      <th>PubMed ID</th>\n",
       "      <th>Source databases</th>\n",
       "    </tr>\n",
       "  </thead>\n",
       "  <tbody>\n",
       "    <tr>\n",
       "      <th>0</th>\n",
       "      <td>1700006A11RIK</td>\n",
       "      <td>BMPR1B</td>\n",
       "      <td>15761153</td>\n",
       "      <td>(mentha)</td>\n",
       "    </tr>\n",
       "    <tr>\n",
       "      <th>1</th>\n",
       "      <td>A2NTY6</td>\n",
       "      <td>A2NTU7</td>\n",
       "      <td>17418792</td>\n",
       "      <td>(mentha)</td>\n",
       "    </tr>\n",
       "    <tr>\n",
       "      <th>2</th>\n",
       "      <td>A6NAR8</td>\n",
       "      <td>A6NAR8</td>\n",
       "      <td>23986251</td>\n",
       "      <td>(mentha)</td>\n",
       "    </tr>\n",
       "    <tr>\n",
       "      <th>3</th>\n",
       "      <td>ABCA1</td>\n",
       "      <td>SPTLC1</td>\n",
       "      <td>18484747</td>\n",
       "      <td>(mentha)</td>\n",
       "    </tr>\n",
       "    <tr>\n",
       "      <th>4</th>\n",
       "      <td>ABCB10</td>\n",
       "      <td>ABCB10</td>\n",
       "      <td>15215243</td>\n",
       "      <td>(mentha)</td>\n",
       "    </tr>\n",
       "  </tbody>\n",
       "</table>\n",
       "</div>"
      ],
      "text/latex": [
       "\\centering{\\begin{tabular}{lllll}\n",
       "\\toprule\n",
       "{} & Protein A (gene name) & Protein B (gene name) & PubMed ID & Source databases \\\\\n",
       "\\midrule\n",
       "0 &         1700006A11RIK &                BMPR1B &  15761153 &         (mentha) \\\\\n",
       "1 &                A2NTY6 &                A2NTU7 &  17418792 &         (mentha) \\\\\n",
       "2 &                A6NAR8 &                A6NAR8 &  23986251 &         (mentha) \\\\\n",
       "3 &                 ABCA1 &                SPTLC1 &  18484747 &         (mentha) \\\\\n",
       "4 &                ABCB10 &                ABCB10 &  15215243 &         (mentha) \\\\\n",
       "\\bottomrule\n",
       "\\end{tabular}\n",
       "}"
      ],
      "text/plain": [
       "  Protein A (gene name) Protein B (gene name) PubMed ID Source databases\n",
       "0         1700006A11RIK                BMPR1B  15761153         (mentha)\n",
       "1                A2NTY6                A2NTU7  17418792         (mentha)\n",
       "2                A6NAR8                A6NAR8  23986251         (mentha)\n",
       "3                 ABCA1                SPTLC1  18484747         (mentha)\n",
       "4                ABCB10                ABCB10  15215243         (mentha)"
      ]
     },
     "execution_count": 109,
     "metadata": {},
     "output_type": "execute_result"
    }
   ],
   "source": [
    "mentha_df.head()"
   ]
  },
  {
   "cell_type": "code",
   "execution_count": 110,
   "metadata": {},
   "outputs": [],
   "source": [
    "filename = '/Users/moshesilverstein/Desktop/PPI Library/Output/IndividualResources/Filtered/ppi_network_mentha_mouse_filtered_%s.tsv'% str(datetime.date.today()).replace('-', '_')\n",
    "mentha_df.to_csv(filename, sep='\\t', index=False) "
   ]
  },
  {
   "cell_type": "code",
   "execution_count": 111,
   "metadata": {
    "collapsed": true
   },
   "outputs": [],
   "source": [
    "filename = '/Users/moshesilverstein/Desktop/PPI Library/Output/IndividualResources/Filtered/ppi_network_mentha_mouse_filtered_%s.tsv.gz'% str(datetime.date.today()).replace('-', '_')\n",
    "mentha_df.to_csv(filename, sep='\\t', index=False, compression='gzip')"
   ]
  },
  {
   "cell_type": "markdown",
   "metadata": {},
   "source": [
    "## IntAct Data "
   ]
  },
  {
   "cell_type": "code",
   "execution_count": 112,
   "metadata": {},
   "outputs": [
    {
     "name": "stderr",
     "output_type": "stream",
     "text": [
      "/Users/moshesilverstein/anaconda/lib/python3.5/site-packages/IPython/core/interactiveshell.py:2717: DtypeWarning: Columns (38,39) have mixed types. Specify dtype option on import or set low_memory=False.\n",
      "  interactivity=interactivity, compiler=compiler, result=result)\n"
     ]
    }
   ],
   "source": [
    "intact_df = pd.read_csv('/Users/moshesilverstein/Desktop/PPI Library/Input/intact.txt', sep='\\t')"
   ]
  },
  {
   "cell_type": "code",
   "execution_count": 82,
   "metadata": {
    "collapsed": true
   },
   "outputs": [],
   "source": [
    "#intact_negative_df = pd.read_csv('intact_negative.txt', sep='\\t')"
   ]
  },
  {
   "cell_type": "code",
   "execution_count": 83,
   "metadata": {},
   "outputs": [],
   "source": [
    "#intact_df = pd.concat([intact_df, intact_negative_df])"
   ]
  },
  {
   "cell_type": "code",
   "execution_count": 113,
   "metadata": {
    "collapsed": true
   },
   "outputs": [],
   "source": [
    "# get only human (or mouse) data\n",
    "n = intact_df['Taxid interactor A'].values\n",
    "b = [i for i,item in enumerate(n) if \"mouse\" in item]\n",
    "intact_df = intact_df.ix[b]"
   ]
  },
  {
   "cell_type": "code",
   "execution_count": 114,
   "metadata": {},
   "outputs": [],
   "source": [
    "intact_df =  intact_df.reset_index().drop('index', axis=1)\n",
    "\n",
    "# get only human (or mouse) data\n",
    "n = intact_df['Taxid interactor B'].values\n",
    "b = [i for i,item in enumerate(n) if \"mouse\" in item]\n",
    "intact_df = intact_df.ix[b]"
   ]
  },
  {
   "cell_type": "code",
   "execution_count": 86,
   "metadata": {},
   "outputs": [],
   "source": [
    "#intact_df.ix[0, 'Taxid interactor B']"
   ]
  },
  {
   "cell_type": "code",
   "execution_count": 115,
   "metadata": {},
   "outputs": [],
   "source": [
    "intact_df = intact_df[['Alias(es) interactor A', 'Alias(es) interactor B', 'Publication Identifier(s)', 'Source database(s)']]"
   ]
  },
  {
   "cell_type": "code",
   "execution_count": 116,
   "metadata": {},
   "outputs": [],
   "source": [
    "intact_df.rename(columns={'Alias(es) interactor A': 'Protein A (gene name)', 'Alias(es) interactor B':'Protein B (gene name)', 'Publication Identifier(s)':'PubMed ID', 'Source database(s)':'Source databases'}, inplace=True)"
   ]
  },
  {
   "cell_type": "code",
   "execution_count": 117,
   "metadata": {},
   "outputs": [],
   "source": [
    "# change column one to just show gene name\n",
    "#i = 1\n",
    "lst = []\n",
    "for name in intact_df['Protein A (gene name)']:\n",
    "    #print('\\r', i, end=' ', flush=True)\n",
    "    name = str(name)\n",
    "    if '(gene name)' in name:\n",
    "        temp = name.split('|')\n",
    "        for ID in temp:\n",
    "            if '(gene name)' in ID:\n",
    "                lst.append(ID.split(':')[1].split('(')[0])\n",
    "                break\n",
    "\n",
    "    else:\n",
    "        lst.append(np.nan)\n",
    "    \n",
    "    #i += 1\n",
    "intact_df['Protein A (gene name)'] = lst"
   ]
  },
  {
   "cell_type": "code",
   "execution_count": 118,
   "metadata": {
    "collapsed": true
   },
   "outputs": [],
   "source": [
    "# change column two to just show gene name\n",
    "#i = 1\n",
    "lst = []\n",
    "for name in intact_df['Protein B (gene name)']:\n",
    "    #print('\\r', i, end=' ', flush=True)\n",
    "    name = str(name)\n",
    "    if '(gene name)' in name:\n",
    "        temp = name.split('|')\n",
    "        for ID in temp:\n",
    "            if '(gene name)' in ID:\n",
    "                lst.append(ID.split(':')[1].split('(')[0])\n",
    "                break\n",
    "\n",
    "    else:\n",
    "        lst.append(np.nan)\n",
    "    \n",
    "    #i += 1\n",
    "intact_df['Protein B (gene name)'] = lst"
   ]
  },
  {
   "cell_type": "code",
   "execution_count": 119,
   "metadata": {
    "collapsed": true
   },
   "outputs": [],
   "source": [
    "# drop data for which no gene name is provited (or ensamble ID)\n",
    "intact_df.dropna(how='any', inplace=True, axis=0)"
   ]
  },
  {
   "cell_type": "code",
   "execution_count": 120,
   "metadata": {},
   "outputs": [],
   "source": [
    "lst = []\n",
    "\n",
    "for pub in intact_df['PubMed ID']:\n",
    "    pub = str(pub)\n",
    "    pub = pub.split('|')\n",
    "    for p in pub:\n",
    "        if 'pubmed' in p:\n",
    "            pub = p.split(':')[1]\n",
    "    lst.append(pub)\n",
    "intact_df['PubMed ID'] = lst"
   ]
  },
  {
   "cell_type": "code",
   "execution_count": 121,
   "metadata": {
    "collapsed": true
   },
   "outputs": [],
   "source": [
    "intact_df.drop_duplicates(inplace=True)"
   ]
  },
  {
   "cell_type": "code",
   "execution_count": 122,
   "metadata": {
    "collapsed": true
   },
   "outputs": [],
   "source": [
    "intact_uf_df = intact_df.copy()"
   ]
  },
  {
   "cell_type": "code",
   "execution_count": 123,
   "metadata": {},
   "outputs": [
    {
     "name": "stdout",
     "output_type": "stream",
     "text": [
      " Loop 25: 18800 Out of 18832 "
     ]
    }
   ],
   "source": [
    "concatliketerms(intact_uf_df)"
   ]
  },
  {
   "cell_type": "code",
   "execution_count": 124,
   "metadata": {
    "collapsed": true
   },
   "outputs": [],
   "source": [
    "filename = '/Users/moshesilverstein/Desktop/PPI Library/Output/IndividualResources/Unfiltered/ppi_network_intact_mouse_unfiltered_%s.tsv'% str(datetime.date.today()).replace('-', '_')\n",
    "intact_uf_df.to_csv(filename, sep='\\t', index=False) "
   ]
  },
  {
   "cell_type": "code",
   "execution_count": 125,
   "metadata": {
    "collapsed": true
   },
   "outputs": [],
   "source": [
    "filename = '/Users/moshesilverstein/Desktop/PPI Library/Output/IndividualResources/Unfiltered/ppi_network_intact_mouse_unfiltered_%s.tsv.gz'% str(datetime.date.today()).replace('-', '_')\n",
    "intact_uf_df.to_csv(filename, sep='\\t', index=False, compression='gzip')"
   ]
  },
  {
   "cell_type": "code",
   "execution_count": 126,
   "metadata": {},
   "outputs": [
    {
     "name": "stdout",
     "output_type": "stream",
     "text": [
      " 1700 Out of 1662 "
     ]
    }
   ],
   "source": [
    "# drop any data that was published with more then 10 PPI's per publication\n",
    "i = 1\n",
    "for pub in intact_df['PubMed ID'].unique():\n",
    "    if i % 100 == 0:\n",
    "        print('\\r', str(i)+' Out of '+ str(len(intact_df['PubMed ID'].unique())), end=' ', flush=True)\n",
    "    if intact_df[intact_df['PubMed ID'] == pub].shape[0] > 10:\n",
    "        intact_df.drop(intact_df[intact_df['PubMed ID'] == pub].index.tolist(), inplace=True)\n",
    "    i +=1\n"
   ]
  },
  {
   "cell_type": "code",
   "execution_count": 127,
   "metadata": {},
   "outputs": [
    {
     "data": {
      "text/plain": [
       "(4193, 4)"
      ]
     },
     "execution_count": 127,
     "metadata": {},
     "output_type": "execute_result"
    }
   ],
   "source": [
    "intact_df.shape"
   ]
  },
  {
   "cell_type": "code",
   "execution_count": 128,
   "metadata": {},
   "outputs": [],
   "source": [
    "lst = []\n",
    "for value in intact_df['PubMed ID']:\n",
    "    if 'unassigned' in value:\n",
    "        lst.append(True)\n",
    "    else:\n",
    "        lst.append(False)\n",
    "\n",
    "intact_df = intact_df.drop(intact_df[lst].index)"
   ]
  },
  {
   "cell_type": "code",
   "execution_count": 129,
   "metadata": {
    "collapsed": true
   },
   "outputs": [],
   "source": [
    "intact_df.dropna(inplace=True)"
   ]
  },
  {
   "cell_type": "code",
   "execution_count": 130,
   "metadata": {},
   "outputs": [
    {
     "data": {
      "text/html": [
       "<div>\n",
       "<table border=\"1\" class=\"dataframe\">\n",
       "  <thead>\n",
       "    <tr style=\"text-align: right;\">\n",
       "      <th></th>\n",
       "      <th>Protein A (gene name)</th>\n",
       "      <th>Protein B (gene name)</th>\n",
       "      <th>PubMed ID</th>\n",
       "      <th>Source databases</th>\n",
       "    </tr>\n",
       "  </thead>\n",
       "  <tbody>\n",
       "    <tr>\n",
       "      <th>1</th>\n",
       "      <td>Braf</td>\n",
       "      <td>Ywhah</td>\n",
       "      <td>8668348</td>\n",
       "      <td>psi-mi:\"MI:0471\"(MINT)</td>\n",
       "    </tr>\n",
       "    <tr>\n",
       "      <th>3</th>\n",
       "      <td>Braf</td>\n",
       "      <td>Hras</td>\n",
       "      <td>8668348</td>\n",
       "      <td>psi-mi:\"MI:0471\"(MINT)</td>\n",
       "    </tr>\n",
       "    <tr>\n",
       "      <th>4</th>\n",
       "      <td>Map2k1</td>\n",
       "      <td>Braf</td>\n",
       "      <td>8668348</td>\n",
       "      <td>psi-mi:\"MI:0471\"(MINT)</td>\n",
       "    </tr>\n",
       "    <tr>\n",
       "      <th>5</th>\n",
       "      <td>Braf</td>\n",
       "      <td>Map2k2</td>\n",
       "      <td>8668348</td>\n",
       "      <td>psi-mi:\"MI:0471\"(MINT)</td>\n",
       "    </tr>\n",
       "    <tr>\n",
       "      <th>9</th>\n",
       "      <td>Adam12</td>\n",
       "      <td>Grb2</td>\n",
       "      <td>11127814</td>\n",
       "      <td>psi-mi:\"MI:0471\"(MINT)</td>\n",
       "    </tr>\n",
       "  </tbody>\n",
       "</table>\n",
       "</div>"
      ],
      "text/latex": [
       "\\centering{\\begin{tabular}{lllll}\n",
       "\\toprule\n",
       "{} & Protein A (gene name) & Protein B (gene name) & PubMed ID &        Source databases \\\\\n",
       "\\midrule\n",
       "1 &                  Braf &                 Ywhah &   8668348 &  psi-mi:\"MI:0471\"(MINT) \\\\\n",
       "3 &                  Braf &                  Hras &   8668348 &  psi-mi:\"MI:0471\"(MINT) \\\\\n",
       "4 &                Map2k1 &                  Braf &   8668348 &  psi-mi:\"MI:0471\"(MINT) \\\\\n",
       "5 &                  Braf &                Map2k2 &   8668348 &  psi-mi:\"MI:0471\"(MINT) \\\\\n",
       "9 &                Adam12 &                  Grb2 &  11127814 &  psi-mi:\"MI:0471\"(MINT) \\\\\n",
       "\\bottomrule\n",
       "\\end{tabular}\n",
       "}"
      ],
      "text/plain": [
       "  Protein A (gene name) Protein B (gene name) PubMed ID  \\\n",
       "1                  Braf                 Ywhah   8668348   \n",
       "3                  Braf                  Hras   8668348   \n",
       "4                Map2k1                  Braf   8668348   \n",
       "5                  Braf                Map2k2   8668348   \n",
       "9                Adam12                  Grb2  11127814   \n",
       "\n",
       "         Source databases  \n",
       "1  psi-mi:\"MI:0471\"(MINT)  \n",
       "3  psi-mi:\"MI:0471\"(MINT)  \n",
       "4  psi-mi:\"MI:0471\"(MINT)  \n",
       "5  psi-mi:\"MI:0471\"(MINT)  \n",
       "9  psi-mi:\"MI:0471\"(MINT)  "
      ]
     },
     "execution_count": 130,
     "metadata": {},
     "output_type": "execute_result"
    }
   ],
   "source": [
    "intact_df.head()"
   ]
  },
  {
   "cell_type": "code",
   "execution_count": 99,
   "metadata": {},
   "outputs": [],
   "source": [
    "#intact_negative_df.head()"
   ]
  },
  {
   "cell_type": "code",
   "execution_count": 100,
   "metadata": {},
   "outputs": [],
   "source": [
    "# Alt. ID(s) interactor A\n",
    "#intact_df.ix[22, 'Aliases for A']"
   ]
  },
  {
   "cell_type": "code",
   "execution_count": 131,
   "metadata": {},
   "outputs": [
    {
     "name": "stdout",
     "output_type": "stream",
     "text": [
      " Loop 13: 3900 Out of 3997 "
     ]
    }
   ],
   "source": [
    "concatliketerms(intact_df)"
   ]
  },
  {
   "cell_type": "code",
   "execution_count": 132,
   "metadata": {
    "collapsed": true
   },
   "outputs": [],
   "source": [
    "filename = '/Users/moshesilverstein/Desktop/PPI Library/Output/IndividualResources/Filtered/ppi_network_intact_mouse_filtered_%s.tsv'% str(datetime.date.today()).replace('-', '_')\n",
    "intact_df.to_csv(filename, sep='\\t', index=False) "
   ]
  },
  {
   "cell_type": "code",
   "execution_count": 133,
   "metadata": {
    "collapsed": true
   },
   "outputs": [],
   "source": [
    "filename = '/Users/moshesilverstein/Desktop/PPI Library/Output/IndividualResources/Filtered/ppi_network_intact_mouse_filtered_%s.tsv.gz'% str(datetime.date.today()).replace('-', '_')\n",
    "intact_df.to_csv(filename, sep='\\t', index=False, compression='gzip')"
   ]
  },
  {
   "cell_type": "markdown",
   "metadata": {},
   "source": [
    "### Data Tables"
   ]
  },
  {
   "cell_type": "code",
   "execution_count": 170,
   "metadata": {},
   "outputs": [
    {
     "data": {
      "text/html": [
       "<div>\n",
       "<table border=\"1\" class=\"dataframe\">\n",
       "  <thead>\n",
       "    <tr style=\"text-align: right;\">\n",
       "      <th></th>\n",
       "      <th>Protein A (gene name)</th>\n",
       "      <th>Protein B (gene name)</th>\n",
       "      <th>PubMed ID</th>\n",
       "      <th>Source databases</th>\n",
       "    </tr>\n",
       "  </thead>\n",
       "  <tbody>\n",
       "    <tr>\n",
       "      <th>0</th>\n",
       "      <td>Abcb7</td>\n",
       "      <td>Fech</td>\n",
       "      <td>fj-09-0740</td>\n",
       "      <td>psi-mi:\"MI:0471\"(MINT)</td>\n",
       "    </tr>\n",
       "    <tr>\n",
       "      <th>1</th>\n",
       "      <td>Abcb7</td>\n",
       "      <td>Cox4i1</td>\n",
       "      <td>fj-09-0740</td>\n",
       "      <td>psi-mi:\"MI:0471\"(MINT)</td>\n",
       "    </tr>\n",
       "    <tr>\n",
       "      <th>2</th>\n",
       "      <td>Abcb7</td>\n",
       "      <td>Cyb5r3</td>\n",
       "      <td>fj-09-0740</td>\n",
       "      <td>psi-mi:\"MI:0471\"(MINT)</td>\n",
       "    </tr>\n",
       "    <tr>\n",
       "      <th>3</th>\n",
       "      <td>Abl1</td>\n",
       "      <td>Abi1</td>\n",
       "      <td>11163214</td>\n",
       "      <td>psi-mi:\"MI:0471\"(MINT)</td>\n",
       "    </tr>\n",
       "    <tr>\n",
       "      <th>4</th>\n",
       "      <td>Abl1</td>\n",
       "      <td>Sh3bp2</td>\n",
       "      <td>MINT-5220831</td>\n",
       "      <td>psi-mi:\"MI:0471\"(MINT)</td>\n",
       "    </tr>\n",
       "  </tbody>\n",
       "</table>\n",
       "</div>"
      ],
      "text/latex": [
       "\\centering{\\begin{tabular}{lllll}\n",
       "\\toprule\n",
       "{} & Protein A (gene name) & Protein B (gene name) &     PubMed ID &        Source databases \\\\\n",
       "\\midrule\n",
       "0 &                 Abcb7 &                  Fech &    fj-09-0740 &  psi-mi:\"MI:0471\"(MINT) \\\\\n",
       "1 &                 Abcb7 &                Cox4i1 &    fj-09-0740 &  psi-mi:\"MI:0471\"(MINT) \\\\\n",
       "2 &                 Abcb7 &                Cyb5r3 &    fj-09-0740 &  psi-mi:\"MI:0471\"(MINT) \\\\\n",
       "3 &                  Abl1 &                  Abi1 &      11163214 &  psi-mi:\"MI:0471\"(MINT) \\\\\n",
       "4 &                  Abl1 &                Sh3bp2 &  MINT-5220831 &  psi-mi:\"MI:0471\"(MINT) \\\\\n",
       "\\bottomrule\n",
       "\\end{tabular}\n",
       "}"
      ],
      "text/plain": [
       "  Protein A (gene name) Protein B (gene name)     PubMed ID  \\\n",
       "0                 Abcb7                  Fech    fj-09-0740   \n",
       "1                 Abcb7                Cox4i1    fj-09-0740   \n",
       "2                 Abcb7                Cyb5r3    fj-09-0740   \n",
       "3                  Abl1                  Abi1      11163214   \n",
       "4                  Abl1                Sh3bp2  MINT-5220831   \n",
       "\n",
       "         Source databases  \n",
       "0  psi-mi:\"MI:0471\"(MINT)  \n",
       "1  psi-mi:\"MI:0471\"(MINT)  \n",
       "2  psi-mi:\"MI:0471\"(MINT)  \n",
       "3  psi-mi:\"MI:0471\"(MINT)  \n",
       "4  psi-mi:\"MI:0471\"(MINT)  "
      ]
     },
     "execution_count": 170,
     "metadata": {},
     "output_type": "execute_result"
    }
   ],
   "source": [
    "mint_df.head()"
   ]
  },
  {
   "cell_type": "code",
   "execution_count": 148,
   "metadata": {},
   "outputs": [
    {
     "data": {
      "text/html": [
       "<div>\n",
       "<table border=\"1\" class=\"dataframe\">\n",
       "  <thead>\n",
       "    <tr style=\"text-align: right;\">\n",
       "      <th></th>\n",
       "      <th>Protein A (gene name)</th>\n",
       "      <th>Protein B (gene name)</th>\n",
       "      <th>PubMed ID</th>\n",
       "      <th>Source databases</th>\n",
       "    </tr>\n",
       "  </thead>\n",
       "  <tbody>\n",
       "    <tr>\n",
       "      <th>0</th>\n",
       "      <td>AF251705</td>\n",
       "      <td>Hcst</td>\n",
       "      <td>12893283</td>\n",
       "      <td>psi-mi:\"MI:0463\"(biogrid)</td>\n",
       "    </tr>\n",
       "    <tr>\n",
       "      <th>1</th>\n",
       "      <td>AF251705</td>\n",
       "      <td>Tyrobp</td>\n",
       "      <td>12893283</td>\n",
       "      <td>psi-mi:\"MI:0463\"(biogrid)</td>\n",
       "    </tr>\n",
       "    <tr>\n",
       "      <th>2</th>\n",
       "      <td>AF251705</td>\n",
       "      <td>Fcer1g</td>\n",
       "      <td>12893283</td>\n",
       "      <td>psi-mi:\"MI:0463\"(biogrid)</td>\n",
       "    </tr>\n",
       "    <tr>\n",
       "      <th>3</th>\n",
       "      <td>AI464131</td>\n",
       "      <td>Igf2</td>\n",
       "      <td>19706595</td>\n",
       "      <td>psi-mi:\"MI:0463\"(biogrid)</td>\n",
       "    </tr>\n",
       "    <tr>\n",
       "      <th>4</th>\n",
       "      <td>Aatf</td>\n",
       "      <td>Maged1</td>\n",
       "      <td>17488777</td>\n",
       "      <td>psi-mi:\"MI:0463\"(biogrid)</td>\n",
       "    </tr>\n",
       "  </tbody>\n",
       "</table>\n",
       "</div>"
      ],
      "text/latex": [
       "\\centering{\\begin{tabular}{lllll}\n",
       "\\toprule\n",
       "{} & Protein A (gene name) & Protein B (gene name) & PubMed ID &           Source databases \\\\\n",
       "\\midrule\n",
       "0 &              AF251705 &                  Hcst &  12893283 &  psi-mi:\"MI:0463\"(biogrid) \\\\\n",
       "1 &              AF251705 &                Tyrobp &  12893283 &  psi-mi:\"MI:0463\"(biogrid) \\\\\n",
       "2 &              AF251705 &                Fcer1g &  12893283 &  psi-mi:\"MI:0463\"(biogrid) \\\\\n",
       "3 &              AI464131 &                  Igf2 &  19706595 &  psi-mi:\"MI:0463\"(biogrid) \\\\\n",
       "4 &                  Aatf &                Maged1 &  17488777 &  psi-mi:\"MI:0463\"(biogrid) \\\\\n",
       "\\bottomrule\n",
       "\\end{tabular}\n",
       "}"
      ],
      "text/plain": [
       "  Protein A (gene name) Protein B (gene name) PubMed ID  \\\n",
       "0              AF251705                  Hcst  12893283   \n",
       "1              AF251705                Tyrobp  12893283   \n",
       "2              AF251705                Fcer1g  12893283   \n",
       "3              AI464131                  Igf2  19706595   \n",
       "4                  Aatf                Maged1  17488777   \n",
       "\n",
       "            Source databases  \n",
       "0  psi-mi:\"MI:0463\"(biogrid)  \n",
       "1  psi-mi:\"MI:0463\"(biogrid)  \n",
       "2  psi-mi:\"MI:0463\"(biogrid)  \n",
       "3  psi-mi:\"MI:0463\"(biogrid)  \n",
       "4  psi-mi:\"MI:0463\"(biogrid)  "
      ]
     },
     "execution_count": 148,
     "metadata": {},
     "output_type": "execute_result"
    }
   ],
   "source": [
    "biogrid_df.head()"
   ]
  },
  {
   "cell_type": "code",
   "execution_count": 147,
   "metadata": {},
   "outputs": [
    {
     "data": {
      "text/html": [
       "<div>\n",
       "<table border=\"1\" class=\"dataframe\">\n",
       "  <thead>\n",
       "    <tr style=\"text-align: right;\">\n",
       "      <th></th>\n",
       "      <th>Protein A (gene name)</th>\n",
       "      <th>Protein B (gene name)</th>\n",
       "      <th>PubMed ID</th>\n",
       "      <th>Source databases</th>\n",
       "    </tr>\n",
       "  </thead>\n",
       "  <tbody>\n",
       "    <tr>\n",
       "      <th>0</th>\n",
       "      <td>1700021K19Rik</td>\n",
       "      <td>Cyba</td>\n",
       "      <td>22423966</td>\n",
       "      <td>MI:0974(innatedb)</td>\n",
       "    </tr>\n",
       "    <tr>\n",
       "      <th>1</th>\n",
       "      <td>1700021K19Rik</td>\n",
       "      <td>Cybb</td>\n",
       "      <td>22423966</td>\n",
       "      <td>MI:0974(innatedb)</td>\n",
       "    </tr>\n",
       "    <tr>\n",
       "      <th>2</th>\n",
       "      <td>1700021K19Rik</td>\n",
       "      <td>Becn1</td>\n",
       "      <td>19270693</td>\n",
       "      <td>MI:0974(innatedb)</td>\n",
       "    </tr>\n",
       "    <tr>\n",
       "      <th>3</th>\n",
       "      <td>Abl1</td>\n",
       "      <td>Jun</td>\n",
       "      <td>19818398</td>\n",
       "      <td>MI:0974(innatedb)</td>\n",
       "    </tr>\n",
       "    <tr>\n",
       "      <th>4</th>\n",
       "      <td>Ackr2</td>\n",
       "      <td>Ccr3</td>\n",
       "      <td>9139699</td>\n",
       "      <td>MI:0974(innatedb)</td>\n",
       "    </tr>\n",
       "  </tbody>\n",
       "</table>\n",
       "</div>"
      ],
      "text/latex": [
       "\\centering{\\begin{tabular}{lllll}\n",
       "\\toprule\n",
       "{} & Protein A (gene name) & Protein B (gene name) & PubMed ID &   Source databases \\\\\n",
       "\\midrule\n",
       "0 &         1700021K19Rik &                  Cyba &  22423966 &  MI:0974(innatedb) \\\\\n",
       "1 &         1700021K19Rik &                  Cybb &  22423966 &  MI:0974(innatedb) \\\\\n",
       "2 &         1700021K19Rik &                 Becn1 &  19270693 &  MI:0974(innatedb) \\\\\n",
       "3 &                  Abl1 &                   Jun &  19818398 &  MI:0974(innatedb) \\\\\n",
       "4 &                 Ackr2 &                  Ccr3 &   9139699 &  MI:0974(innatedb) \\\\\n",
       "\\bottomrule\n",
       "\\end{tabular}\n",
       "}"
      ],
      "text/plain": [
       "  Protein A (gene name) Protein B (gene name) PubMed ID   Source databases\n",
       "0         1700021K19Rik                  Cyba  22423966  MI:0974(innatedb)\n",
       "1         1700021K19Rik                  Cybb  22423966  MI:0974(innatedb)\n",
       "2         1700021K19Rik                 Becn1  19270693  MI:0974(innatedb)\n",
       "3                  Abl1                   Jun  19818398  MI:0974(innatedb)\n",
       "4                 Ackr2                  Ccr3   9139699  MI:0974(innatedb)"
      ]
     },
     "execution_count": 147,
     "metadata": {},
     "output_type": "execute_result"
    }
   ],
   "source": [
    "innatedb_df.head()"
   ]
  },
  {
   "cell_type": "code",
   "execution_count": 146,
   "metadata": {},
   "outputs": [
    {
     "data": {
      "text/html": [
       "<div>\n",
       "<table border=\"1\" class=\"dataframe\">\n",
       "  <thead>\n",
       "    <tr style=\"text-align: right;\">\n",
       "      <th></th>\n",
       "      <th>Protein A (gene name)</th>\n",
       "      <th>Protein B (gene name)</th>\n",
       "      <th>PubMed ID</th>\n",
       "      <th>Source databases</th>\n",
       "    </tr>\n",
       "  </thead>\n",
       "  <tbody>\n",
       "    <tr>\n",
       "      <th>0</th>\n",
       "      <td>Abcc8</td>\n",
       "      <td>Ank2</td>\n",
       "      <td>19805355</td>\n",
       "      <td>MI:0465(dip)</td>\n",
       "    </tr>\n",
       "    <tr>\n",
       "      <th>1</th>\n",
       "      <td>Abhd5</td>\n",
       "      <td>Pnpla2</td>\n",
       "      <td>25961502</td>\n",
       "      <td>MI:0465(dip)</td>\n",
       "    </tr>\n",
       "    <tr>\n",
       "      <th>2</th>\n",
       "      <td>Abi2</td>\n",
       "      <td>Eps8</td>\n",
       "      <td>19564905</td>\n",
       "      <td>MI:0465(dip)</td>\n",
       "    </tr>\n",
       "    <tr>\n",
       "      <th>3</th>\n",
       "      <td>Acad9</td>\n",
       "      <td>Ecsit</td>\n",
       "      <td>21525932</td>\n",
       "      <td>MI:0465(dip)</td>\n",
       "    </tr>\n",
       "    <tr>\n",
       "      <th>4</th>\n",
       "      <td>Acd</td>\n",
       "      <td>Pot1b</td>\n",
       "      <td>17632522</td>\n",
       "      <td>MI:0465(dip)</td>\n",
       "    </tr>\n",
       "  </tbody>\n",
       "</table>\n",
       "</div>"
      ],
      "text/latex": [
       "\\centering{\\begin{tabular}{lllll}\n",
       "\\toprule\n",
       "{} & Protein A (gene name) & Protein B (gene name) & PubMed ID & Source databases \\\\\n",
       "\\midrule\n",
       "0 &                 Abcc8 &                  Ank2 &  19805355 &     MI:0465(dip) \\\\\n",
       "1 &                 Abhd5 &                Pnpla2 &  25961502 &     MI:0465(dip) \\\\\n",
       "2 &                  Abi2 &                  Eps8 &  19564905 &     MI:0465(dip) \\\\\n",
       "3 &                 Acad9 &                 Ecsit &  21525932 &     MI:0465(dip) \\\\\n",
       "4 &                   Acd &                 Pot1b &  17632522 &     MI:0465(dip) \\\\\n",
       "\\bottomrule\n",
       "\\end{tabular}\n",
       "}"
      ],
      "text/plain": [
       "  Protein A (gene name) Protein B (gene name) PubMed ID Source databases\n",
       "0                 Abcc8                  Ank2  19805355     MI:0465(dip)\n",
       "1                 Abhd5                Pnpla2  25961502     MI:0465(dip)\n",
       "2                  Abi2                  Eps8  19564905     MI:0465(dip)\n",
       "3                 Acad9                 Ecsit  21525932     MI:0465(dip)\n",
       "4                   Acd                 Pot1b  17632522     MI:0465(dip)"
      ]
     },
     "execution_count": 146,
     "metadata": {},
     "output_type": "execute_result"
    }
   ],
   "source": [
    "dip_df.head()"
   ]
  },
  {
   "cell_type": "code",
   "execution_count": 145,
   "metadata": {},
   "outputs": [
    {
     "data": {
      "text/html": [
       "<div>\n",
       "<table border=\"1\" class=\"dataframe\">\n",
       "  <thead>\n",
       "    <tr style=\"text-align: right;\">\n",
       "      <th></th>\n",
       "      <th>Protein A (gene name)</th>\n",
       "      <th>Protein B (gene name)</th>\n",
       "      <th>PubMed ID</th>\n",
       "      <th>Source databases</th>\n",
       "    </tr>\n",
       "  </thead>\n",
       "  <tbody>\n",
       "    <tr>\n",
       "      <th>0</th>\n",
       "      <td>1700006A11RIK</td>\n",
       "      <td>BMPR1B</td>\n",
       "      <td>15761153</td>\n",
       "      <td>(mentha)</td>\n",
       "    </tr>\n",
       "    <tr>\n",
       "      <th>1</th>\n",
       "      <td>A2NTY6</td>\n",
       "      <td>A2NTU7</td>\n",
       "      <td>17418792</td>\n",
       "      <td>(mentha)</td>\n",
       "    </tr>\n",
       "    <tr>\n",
       "      <th>2</th>\n",
       "      <td>A6NAR8</td>\n",
       "      <td>A6NAR8</td>\n",
       "      <td>23986251</td>\n",
       "      <td>(mentha)</td>\n",
       "    </tr>\n",
       "    <tr>\n",
       "      <th>3</th>\n",
       "      <td>ABCA1</td>\n",
       "      <td>SPTLC1</td>\n",
       "      <td>18484747</td>\n",
       "      <td>(mentha)</td>\n",
       "    </tr>\n",
       "    <tr>\n",
       "      <th>4</th>\n",
       "      <td>ABCB10</td>\n",
       "      <td>ABCB10</td>\n",
       "      <td>15215243</td>\n",
       "      <td>(mentha)</td>\n",
       "    </tr>\n",
       "  </tbody>\n",
       "</table>\n",
       "</div>"
      ],
      "text/latex": [
       "\\centering{\\begin{tabular}{lllll}\n",
       "\\toprule\n",
       "{} & Protein A (gene name) & Protein B (gene name) & PubMed ID & Source databases \\\\\n",
       "\\midrule\n",
       "0 &         1700006A11RIK &                BMPR1B &  15761153 &         (mentha) \\\\\n",
       "1 &                A2NTY6 &                A2NTU7 &  17418792 &         (mentha) \\\\\n",
       "2 &                A6NAR8 &                A6NAR8 &  23986251 &         (mentha) \\\\\n",
       "3 &                 ABCA1 &                SPTLC1 &  18484747 &         (mentha) \\\\\n",
       "4 &                ABCB10 &                ABCB10 &  15215243 &         (mentha) \\\\\n",
       "\\bottomrule\n",
       "\\end{tabular}\n",
       "}"
      ],
      "text/plain": [
       "  Protein A (gene name) Protein B (gene name) PubMed ID Source databases\n",
       "0         1700006A11RIK                BMPR1B  15761153         (mentha)\n",
       "1                A2NTY6                A2NTU7  17418792         (mentha)\n",
       "2                A6NAR8                A6NAR8  23986251         (mentha)\n",
       "3                 ABCA1                SPTLC1  18484747         (mentha)\n",
       "4                ABCB10                ABCB10  15215243         (mentha)"
      ]
     },
     "execution_count": 145,
     "metadata": {},
     "output_type": "execute_result"
    }
   ],
   "source": [
    "mentha_df.head()"
   ]
  },
  {
   "cell_type": "code",
   "execution_count": 144,
   "metadata": {},
   "outputs": [
    {
     "data": {
      "text/html": [
       "<div>\n",
       "<table border=\"1\" class=\"dataframe\">\n",
       "  <thead>\n",
       "    <tr style=\"text-align: right;\">\n",
       "      <th></th>\n",
       "      <th>Protein A (gene name)</th>\n",
       "      <th>Protein B (gene name)</th>\n",
       "      <th>PubMed ID</th>\n",
       "      <th>Source databases</th>\n",
       "    </tr>\n",
       "  </thead>\n",
       "  <tbody>\n",
       "    <tr>\n",
       "      <th>0</th>\n",
       "      <td>Aatk</td>\n",
       "      <td>Stk39</td>\n",
       "      <td>14563843</td>\n",
       "      <td>psi-mi:\"MI:0469\"(IntAct)</td>\n",
       "    </tr>\n",
       "    <tr>\n",
       "      <th>1</th>\n",
       "      <td>Abca1</td>\n",
       "      <td>Nr1h2</td>\n",
       "      <td>23931754</td>\n",
       "      <td>psi-mi:\"MI:1332\"(bhf-ucl)</td>\n",
       "    </tr>\n",
       "    <tr>\n",
       "      <th>2</th>\n",
       "      <td>Abca1</td>\n",
       "      <td>Abca12</td>\n",
       "      <td>23931754</td>\n",
       "      <td>psi-mi:\"MI:1332\"(bhf-ucl)</td>\n",
       "    </tr>\n",
       "    <tr>\n",
       "      <th>3</th>\n",
       "      <td>Abcb7</td>\n",
       "      <td>Fech</td>\n",
       "      <td>19691493</td>\n",
       "      <td>psi-mi:\"MI:0471\"(MINT)</td>\n",
       "    </tr>\n",
       "    <tr>\n",
       "      <th>4</th>\n",
       "      <td>Abcb7</td>\n",
       "      <td>Cyb5r3</td>\n",
       "      <td>19691493</td>\n",
       "      <td>psi-mi:\"MI:0471\"(MINT)</td>\n",
       "    </tr>\n",
       "  </tbody>\n",
       "</table>\n",
       "</div>"
      ],
      "text/latex": [
       "\\centering{\\begin{tabular}{lllll}\n",
       "\\toprule\n",
       "{} & Protein A (gene name) & Protein B (gene name) & PubMed ID &           Source databases \\\\\n",
       "\\midrule\n",
       "0 &                  Aatk &                 Stk39 &  14563843 &   psi-mi:\"MI:0469\"(IntAct) \\\\\n",
       "1 &                 Abca1 &                 Nr1h2 &  23931754 &  psi-mi:\"MI:1332\"(bhf-ucl) \\\\\n",
       "2 &                 Abca1 &                Abca12 &  23931754 &  psi-mi:\"MI:1332\"(bhf-ucl) \\\\\n",
       "3 &                 Abcb7 &                  Fech &  19691493 &     psi-mi:\"MI:0471\"(MINT) \\\\\n",
       "4 &                 Abcb7 &                Cyb5r3 &  19691493 &     psi-mi:\"MI:0471\"(MINT) \\\\\n",
       "\\bottomrule\n",
       "\\end{tabular}\n",
       "}"
      ],
      "text/plain": [
       "  Protein A (gene name) Protein B (gene name) PubMed ID  \\\n",
       "0                  Aatk                 Stk39  14563843   \n",
       "1                 Abca1                 Nr1h2  23931754   \n",
       "2                 Abca1                Abca12  23931754   \n",
       "3                 Abcb7                  Fech  19691493   \n",
       "4                 Abcb7                Cyb5r3  19691493   \n",
       "\n",
       "            Source databases  \n",
       "0   psi-mi:\"MI:0469\"(IntAct)  \n",
       "1  psi-mi:\"MI:1332\"(bhf-ucl)  \n",
       "2  psi-mi:\"MI:1332\"(bhf-ucl)  \n",
       "3     psi-mi:\"MI:0471\"(MINT)  \n",
       "4     psi-mi:\"MI:0471\"(MINT)  "
      ]
     },
     "execution_count": 144,
     "metadata": {},
     "output_type": "execute_result"
    }
   ],
   "source": [
    "intact_df.head()"
   ]
  },
  {
   "cell_type": "markdown",
   "metadata": {},
   "source": [
    "## Comparison and overlap"
   ]
  },
  {
   "cell_type": "code",
   "execution_count": 135,
   "metadata": {},
   "outputs": [
    {
     "data": {
      "text/html": [
       "<div>\n",
       "<table border=\"1\" class=\"dataframe\">\n",
       "  <thead>\n",
       "    <tr style=\"text-align: right;\">\n",
       "      <th>Overlap (Mouse)</th>\n",
       "      <th>mint</th>\n",
       "      <th>biogrid</th>\n",
       "      <th>innatedb</th>\n",
       "      <th>dip</th>\n",
       "      <th>mentha</th>\n",
       "      <th>intact</th>\n",
       "    </tr>\n",
       "  </thead>\n",
       "  <tbody>\n",
       "    <tr>\n",
       "      <th>mint</th>\n",
       "      <td>1543</td>\n",
       "      <td>312</td>\n",
       "      <td>120</td>\n",
       "      <td>52</td>\n",
       "      <td>18</td>\n",
       "      <td>1571</td>\n",
       "    </tr>\n",
       "    <tr>\n",
       "      <th>biogrid</th>\n",
       "      <td>312</td>\n",
       "      <td>6757</td>\n",
       "      <td>434</td>\n",
       "      <td>276</td>\n",
       "      <td>114</td>\n",
       "      <td>753</td>\n",
       "    </tr>\n",
       "    <tr>\n",
       "      <th>innatedb</th>\n",
       "      <td>120</td>\n",
       "      <td>434</td>\n",
       "      <td>1765</td>\n",
       "      <td>114</td>\n",
       "      <td>61</td>\n",
       "      <td>281</td>\n",
       "    </tr>\n",
       "    <tr>\n",
       "      <th>dip</th>\n",
       "      <td>52</td>\n",
       "      <td>276</td>\n",
       "      <td>114</td>\n",
       "      <td>1211</td>\n",
       "      <td>8</td>\n",
       "      <td>180</td>\n",
       "    </tr>\n",
       "    <tr>\n",
       "      <th>mentha</th>\n",
       "      <td>18</td>\n",
       "      <td>114</td>\n",
       "      <td>61</td>\n",
       "      <td>8</td>\n",
       "      <td>7639</td>\n",
       "      <td>70</td>\n",
       "    </tr>\n",
       "    <tr>\n",
       "      <th>intact</th>\n",
       "      <td>1571</td>\n",
       "      <td>753</td>\n",
       "      <td>281</td>\n",
       "      <td>180</td>\n",
       "      <td>70</td>\n",
       "      <td>4060</td>\n",
       "    </tr>\n",
       "  </tbody>\n",
       "</table>\n",
       "</div>"
      ],
      "text/latex": [
       "\\centering{\\begin{tabular}{lllllll}\n",
       "\\toprule\n",
       "Overlap (Mouse) &  mint & biogrid & innatedb &   dip & mentha & intact \\\\\n",
       "\\midrule\n",
       "mint     &  1543 &     312 &      120 &    52 &     18 &   1571 \\\\\n",
       "biogrid  &   312 &    6757 &      434 &   276 &    114 &    753 \\\\\n",
       "innatedb &   120 &     434 &     1765 &   114 &     61 &    281 \\\\\n",
       "dip      &    52 &     276 &      114 &  1211 &      8 &    180 \\\\\n",
       "mentha   &    18 &     114 &       61 &     8 &   7639 &     70 \\\\\n",
       "intact   &  1571 &     753 &      281 &   180 &     70 &   4060 \\\\\n",
       "\\bottomrule\n",
       "\\end{tabular}\n",
       "}"
      ],
      "text/plain": [
       "Overlap (Mouse)  mint biogrid innatedb   dip mentha intact\n",
       "mint             1543     312      120    52     18   1571\n",
       "biogrid           312    6757      434   276    114    753\n",
       "innatedb          120     434     1765   114     61    281\n",
       "dip                52     276      114  1211      8    180\n",
       "mentha             18     114       61     8   7639     70\n",
       "intact           1571     753      281   180     70   4060"
      ]
     },
     "execution_count": 135,
     "metadata": {},
     "output_type": "execute_result"
    }
   ],
   "source": [
    "data_sets= [mint_df, biogrid_df, innatedb_df, dip_df, mentha_df, intact_df]\n",
    "data_sets_names= ['mint', 'biogrid', 'innatedb', 'dip', 'mentha', 'intact']\n",
    "\n",
    "comp_df = pd.DataFrame(columns=data_sets_names, index=data_sets_names)\n",
    "comp_df.columns.name = 'Overlap (Mouse)'\n",
    "for i in np.arange(len(data_sets)):\n",
    "    for j in np.arange(len(data_sets)):\n",
    "        comp = pd.concat([data_sets[i][['Protein A (gene name)', 'Protein B (gene name)']], data_sets[j][['Protein A (gene name)', 'Protein B (gene name)']]])\n",
    "        comp_df.ix[data_sets_names[i], data_sets_names[j]] = comp.duplicated().sum()\n",
    "\n",
    "# mint_df[['Aliases for A', 'Aliases for B']].duplicated().sum()\n",
    "# biogrid_df[['Aliases for A', 'Aliases for B']].duplicated().sum()\n",
    "comp_df"
   ]
  },
  {
   "cell_type": "code",
   "execution_count": null,
   "metadata": {},
   "outputs": [],
   "source": []
  },
  {
   "cell_type": "markdown",
   "metadata": {},
   "source": [
    "## Merged Network Table"
   ]
  },
  {
   "cell_type": "code",
   "execution_count": 171,
   "metadata": {
    "collapsed": true
   },
   "outputs": [],
   "source": [
    "mint_df = pd.read_csv('/Users/moshesilverstein/Desktop/PPI Library/Output/IndividualResources/Filtered/ppi_network_mint_mouse_filtered_2017_02_15.tsv', sep='\\t')\n",
    "biogrid_df = pd.read_csv('/Users/moshesilverstein/Desktop/PPI Library/Output/IndividualResources/Filtered/ppi_network_biogrid_mouse_filtered_2017_02_15.tsv', sep='\\t')\n",
    "innatedb_df = pd.read_csv('/Users/moshesilverstein/Desktop/PPI Library/Output/IndividualResources/Filtered/ppi_network_innatedb_mouse_filtered_2017_02_15.tsv', sep='\\t')\n",
    "dip_df = pd.read_csv('/Users/moshesilverstein/Desktop/PPI Library/Output/IndividualResources/Filtered/ppi_network_dip_mouse_filtered_2017_02_15.tsv', sep='\\t')\n",
    "mentha_df = pd.read_csv('/Users/moshesilverstein/Desktop/PPI Library/Output/IndividualResources/Filtered/ppi_network_mentha_mouse_filtered_2017_02_15.tsv', sep='\\t')\n",
    "intact_df = pd.read_csv('/Users/moshesilverstein/Desktop/PPI Library/Output/IndividualResources/Filtered/ppi_network_intact_mouse_filtered_2017_02_15.tsv', sep='\\t')"
   ]
  },
  {
   "cell_type": "code",
   "execution_count": 172,
   "metadata": {},
   "outputs": [],
   "source": [
    "network_df = pd.concat([mint_df, biogrid_df, innatedb_df, dip_df, mentha_df, intact_df])"
   ]
  },
  {
   "cell_type": "code",
   "execution_count": 111,
   "metadata": {},
   "outputs": [],
   "source": [
    "#network_df.rename(columns={'Aliases for A':'Protein A (gene name)', 'Aliases for B':'Protein B (gene name)', 'Identifier of the publication':'PubMed ID'}, inplace=True)"
   ]
  },
  {
   "cell_type": "code",
   "execution_count": 173,
   "metadata": {},
   "outputs": [],
   "source": [
    "network_df.sort_values(['Protein A (gene name)', 'Protein B (gene name)'], inplace=True)"
   ]
  },
  {
   "cell_type": "code",
   "execution_count": 174,
   "metadata": {},
   "outputs": [],
   "source": [
    "network_df.reset_index(inplace=True)\n",
    "network_df.drop('index', axis=1, inplace=True)"
   ]
  },
  {
   "cell_type": "code",
   "execution_count": 175,
   "metadata": {},
   "outputs": [
    {
     "data": {
      "text/plain": [
       "(22732, 4)"
      ]
     },
     "execution_count": 175,
     "metadata": {},
     "output_type": "execute_result"
    }
   ],
   "source": [
    "network_df.shape"
   ]
  },
  {
   "cell_type": "code",
   "execution_count": 176,
   "metadata": {},
   "outputs": [
    {
     "name": "stdout",
     "output_type": "stream",
     "text": [
      " Loop 46: 19800 Out of 19866 "
     ]
    }
   ],
   "source": [
    "concatliketerms(network_df)"
   ]
  },
  {
   "cell_type": "code",
   "execution_count": 180,
   "metadata": {},
   "outputs": [],
   "source": [
    "filename = '/Users/moshesilverstein/Desktop/PPI Library/Output/Combined/Filtered/ppi_network_mouse_filtered_%s.tsv'% str(datetime.date.today()).replace('-', '_')\n",
    "network_df.to_csv(filename, sep='\\t', index=False) "
   ]
  },
  {
   "cell_type": "code",
   "execution_count": 181,
   "metadata": {
    "collapsed": true
   },
   "outputs": [],
   "source": [
    "filename = '/Users/moshesilverstein/Desktop/PPI Library/Output/Combined/Filtered/ppi_network_mouse_filtered_%s.tsv.gz'% str(datetime.date.today()).replace('-', '_')\n",
    "network_df.to_csv(filename, sep='\\t', index=False, compression='gzip')"
   ]
  },
  {
   "cell_type": "code",
   "execution_count": 179,
   "metadata": {},
   "outputs": [
    {
     "data": {
      "text/html": [
       "<div>\n",
       "<table border=\"1\" class=\"dataframe\">\n",
       "  <thead>\n",
       "    <tr style=\"text-align: right;\">\n",
       "      <th></th>\n",
       "      <th>Protein A (gene name)</th>\n",
       "      <th>Protein B (gene name)</th>\n",
       "      <th>PubMed ID</th>\n",
       "      <th>Source databases</th>\n",
       "    </tr>\n",
       "  </thead>\n",
       "  <tbody>\n",
       "    <tr>\n",
       "      <th>0</th>\n",
       "      <td>1700006A11RIK</td>\n",
       "      <td>BMPR1B</td>\n",
       "      <td>15761153</td>\n",
       "      <td>(mentha)</td>\n",
       "    </tr>\n",
       "    <tr>\n",
       "      <th>1</th>\n",
       "      <td>1700021K19Rik</td>\n",
       "      <td>Becn1</td>\n",
       "      <td>19270693</td>\n",
       "      <td>MI:0974(innatedb)</td>\n",
       "    </tr>\n",
       "    <tr>\n",
       "      <th>2</th>\n",
       "      <td>1700021K19Rik</td>\n",
       "      <td>Cyba</td>\n",
       "      <td>22423966</td>\n",
       "      <td>MI:0974(innatedb)</td>\n",
       "    </tr>\n",
       "    <tr>\n",
       "      <th>3</th>\n",
       "      <td>1700021K19Rik</td>\n",
       "      <td>Cybb</td>\n",
       "      <td>22423966</td>\n",
       "      <td>MI:0974(innatedb)</td>\n",
       "    </tr>\n",
       "    <tr>\n",
       "      <th>4</th>\n",
       "      <td>A2NTY6</td>\n",
       "      <td>A2NTU7</td>\n",
       "      <td>17418792</td>\n",
       "      <td>(mentha)</td>\n",
       "    </tr>\n",
       "  </tbody>\n",
       "</table>\n",
       "</div>"
      ],
      "text/latex": [
       "\\centering{\\begin{tabular}{lllll}\n",
       "\\toprule\n",
       "{} & Protein A (gene name) & Protein B (gene name) & PubMed ID &   Source databases \\\\\n",
       "\\midrule\n",
       "0 &         1700006A11RIK &                BMPR1B &  15761153 &           (mentha) \\\\\n",
       "1 &         1700021K19Rik &                 Becn1 &  19270693 &  MI:0974(innatedb) \\\\\n",
       "2 &         1700021K19Rik &                  Cyba &  22423966 &  MI:0974(innatedb) \\\\\n",
       "3 &         1700021K19Rik &                  Cybb &  22423966 &  MI:0974(innatedb) \\\\\n",
       "4 &                A2NTY6 &                A2NTU7 &  17418792 &           (mentha) \\\\\n",
       "\\bottomrule\n",
       "\\end{tabular}\n",
       "}"
      ],
      "text/plain": [
       "  Protein A (gene name) Protein B (gene name) PubMed ID   Source databases\n",
       "0         1700006A11RIK                BMPR1B  15761153           (mentha)\n",
       "1         1700021K19Rik                 Becn1  19270693  MI:0974(innatedb)\n",
       "2         1700021K19Rik                  Cyba  22423966  MI:0974(innatedb)\n",
       "3         1700021K19Rik                  Cybb  22423966  MI:0974(innatedb)\n",
       "4                A2NTY6                A2NTU7  17418792           (mentha)"
      ]
     },
     "execution_count": 179,
     "metadata": {},
     "output_type": "execute_result"
    }
   ],
   "source": [
    "network_df.head()"
   ]
  },
  {
   "cell_type": "code",
   "execution_count": 182,
   "metadata": {
    "collapsed": true
   },
   "outputs": [],
   "source": [
    "mint_uf_df = pd.read_csv('/Users/moshesilverstein/Desktop/PPI Library/Output/IndividualResources/Unfiltered/ppi_network_mint_mouse_unfiltered_2017_02_15.tsv', sep='\\t')\n",
    "biogrid_uf_df = pd.read_csv('/Users/moshesilverstein/Desktop/PPI Library/Output/IndividualResources/Unfiltered/ppi_network_biogrid_mouse_unfiltered_2017_02_15.tsv', sep='\\t')\n",
    "innatedb_uf_df = pd.read_csv('/Users/moshesilverstein/Desktop/PPI Library/Output/IndividualResources/Unfiltered/ppi_network_innatedb_mouse_unfiltered_2017_02_15.tsv', sep='\\t')\n",
    "dip_uf_df = pd.read_csv('/Users/moshesilverstein/Desktop/PPI Library/Output/IndividualResources/Unfiltered/ppi_network_dip_mouse_unfiltered_2017_02_15.tsv', sep='\\t')\n",
    "mentha_uf_df = pd.read_csv('/Users/moshesilverstein/Desktop/PPI Library/Output/IndividualResources/Unfiltered/ppi_network_mentha_mouse_unfiltered_2017_02_15.tsv', sep='\\t')\n",
    "intact_uf_df = pd.read_csv('/Users/moshesilverstein/Desktop/PPI Library/Output/IndividualResources/Unfiltered/ppi_network_intact_mouse_unfiltered_2017_02_15.tsv', sep='\\t')"
   ]
  },
  {
   "cell_type": "code",
   "execution_count": 183,
   "metadata": {
    "collapsed": true
   },
   "outputs": [],
   "source": [
    "network_uf_df = pd.concat([mint_uf_df, biogrid_uf_df, innatedb_uf_df, dip_uf_df, mentha_uf_df, intact_uf_df])"
   ]
  },
  {
   "cell_type": "code",
   "execution_count": 184,
   "metadata": {
    "collapsed": true
   },
   "outputs": [],
   "source": [
    "network_uf_df.sort_values(['Protein A (gene name)', 'Protein B (gene name)'], inplace=True)"
   ]
  },
  {
   "cell_type": "code",
   "execution_count": 185,
   "metadata": {
    "collapsed": true
   },
   "outputs": [],
   "source": [
    "network_uf_df.reset_index(inplace=True)\n",
    "network_uf_df.drop('index', axis=1, inplace=True)"
   ]
  },
  {
   "cell_type": "code",
   "execution_count": 186,
   "metadata": {},
   "outputs": [
    {
     "name": "stdout",
     "output_type": "stream",
     "text": [
      " Loop 74: 61900 Out of 61963 "
     ]
    }
   ],
   "source": [
    "concatliketerms(network_uf_df)"
   ]
  },
  {
   "cell_type": "code",
   "execution_count": 187,
   "metadata": {
    "collapsed": true
   },
   "outputs": [],
   "source": [
    "filename = '/Users/moshesilverstein/Desktop/PPI Library/Output/Combined/Unfiltered/ppi_network_mouse_unfiltered_%s.tsv'% str(datetime.date.today()).replace('-', '_')\n",
    "network_uf_df.to_csv(filename, sep='\\t', index=False) "
   ]
  },
  {
   "cell_type": "code",
   "execution_count": 188,
   "metadata": {
    "collapsed": true
   },
   "outputs": [],
   "source": [
    "filename = '/Users/moshesilverstein/Desktop/PPI Library/Output/Combined/Unfiltered/ppi_network_mouse_unfiltered_%s.tsv.gz'% str(datetime.date.today()).replace('-', '_')\n",
    "network_df.to_csv(filename, sep='\\t', index=False, compression='gzip')"
   ]
  },
  {
   "cell_type": "markdown",
   "metadata": {},
   "source": [
    "## Merged DataFrame "
   ]
  },
  {
   "cell_type": "code",
   "execution_count": 145,
   "metadata": {},
   "outputs": [],
   "source": [
    "# drop PPI to self for the DIP data \n",
    "for index in dip_df.index:\n",
    "    if dip_df.ix[index, 'Aliases for A'] == dip_df.ix[index, 'Aliases for B']:\n",
    "        dip_df.drop(index, inplace=True)"
   ]
  },
  {
   "cell_type": "code",
   "execution_count": 146,
   "metadata": {},
   "outputs": [],
   "source": [
    "df = pd.concat([mint_df, biogrid_df, innatedb_df, dip_df, mentha_df, intact_df])"
   ]
  },
  {
   "cell_type": "code",
   "execution_count": 147,
   "metadata": {
    "collapsed": true
   },
   "outputs": [],
   "source": [
    "df = df[['Aliases for A', 'Aliases for B']]"
   ]
  },
  {
   "cell_type": "code",
   "execution_count": 148,
   "metadata": {},
   "outputs": [
    {
     "data": {
      "text/plain": [
       "(20962, 2)"
      ]
     },
     "execution_count": 148,
     "metadata": {},
     "output_type": "execute_result"
    }
   ],
   "source": [
    "df.shape"
   ]
  },
  {
   "cell_type": "code",
   "execution_count": 149,
   "metadata": {
    "collapsed": true
   },
   "outputs": [],
   "source": [
    "df.drop_duplicates(['Aliases for A', 'Aliases for B'], inplace=True)"
   ]
  },
  {
   "cell_type": "code",
   "execution_count": 150,
   "metadata": {
    "collapsed": true
   },
   "outputs": [],
   "source": [
    "df.dropna(inplace=True)"
   ]
  },
  {
   "cell_type": "code",
   "execution_count": null,
   "metadata": {
    "collapsed": true
   },
   "outputs": [],
   "source": []
  },
  {
   "cell_type": "code",
   "execution_count": 151,
   "metadata": {},
   "outputs": [
    {
     "data": {
      "text/plain": [
       "(18704, 2)"
      ]
     },
     "execution_count": 151,
     "metadata": {},
     "output_type": "execute_result"
    }
   ],
   "source": [
    "df.shape"
   ]
  },
  {
   "cell_type": "code",
   "execution_count": 152,
   "metadata": {},
   "outputs": [
    {
     "data": {
      "text/html": [
       "<div>\n",
       "<table border=\"1\" class=\"dataframe\">\n",
       "  <thead>\n",
       "    <tr style=\"text-align: right;\">\n",
       "      <th></th>\n",
       "      <th>Aliases for A</th>\n",
       "      <th>Aliases for B</th>\n",
       "    </tr>\n",
       "  </thead>\n",
       "  <tbody>\n",
       "    <tr>\n",
       "      <th>0</th>\n",
       "      <td>Rgs12</td>\n",
       "      <td>Dlgap3</td>\n",
       "    </tr>\n",
       "    <tr>\n",
       "      <th>1</th>\n",
       "      <td>Rgs12</td>\n",
       "      <td>Map2k2</td>\n",
       "    </tr>\n",
       "    <tr>\n",
       "      <th>2</th>\n",
       "      <td>Epn1</td>\n",
       "      <td>Itsn1</td>\n",
       "    </tr>\n",
       "    <tr>\n",
       "      <th>7</th>\n",
       "      <td>Rgs12</td>\n",
       "      <td>Araf</td>\n",
       "    </tr>\n",
       "    <tr>\n",
       "      <th>9</th>\n",
       "      <td>Znf496</td>\n",
       "      <td>Jarid2</td>\n",
       "    </tr>\n",
       "  </tbody>\n",
       "</table>\n",
       "</div>"
      ],
      "text/latex": [
       "\\centering{\\begin{tabular}{lll}\n",
       "\\toprule\n",
       "{} & Aliases for A & Aliases for B \\\\\n",
       "\\midrule\n",
       "0 &         Rgs12 &        Dlgap3 \\\\\n",
       "1 &         Rgs12 &        Map2k2 \\\\\n",
       "2 &          Epn1 &         Itsn1 \\\\\n",
       "7 &         Rgs12 &          Araf \\\\\n",
       "9 &        Znf496 &        Jarid2 \\\\\n",
       "\\bottomrule\n",
       "\\end{tabular}\n",
       "}"
      ],
      "text/plain": [
       "  Aliases for A Aliases for B\n",
       "0         Rgs12        Dlgap3\n",
       "1         Rgs12        Map2k2\n",
       "2          Epn1         Itsn1\n",
       "7         Rgs12          Araf\n",
       "9        Znf496        Jarid2"
      ]
     },
     "execution_count": 152,
     "metadata": {},
     "output_type": "execute_result"
    }
   ],
   "source": [
    "df.head()"
   ]
  },
  {
   "cell_type": "markdown",
   "metadata": {},
   "source": [
    "## Gene Set Library"
   ]
  },
  {
   "cell_type": "code",
   "execution_count": 153,
   "metadata": {},
   "outputs": [
    {
     "name": "stdout",
     "output_type": "stream",
     "text": [
      " 8300 Out of 8354 "
     ]
    }
   ],
   "source": [
    "# build library\n",
    "\n",
    "i = 1\n",
    "\n",
    "genelist = set(df['Aliases for A'].values.tolist() + df['Aliases for B'].values.tolist())\n",
    "\n",
    "lib = pd.DataFrame()\n",
    "\n",
    "for gene in genelist:\n",
    "    if i % 100 == 0:\n",
    "        print('\\r', str(i)+' Out of '+ str(len(genelist)), end=' ', flush=True)\n",
    "    lst = set(df[df.values == gene].values.flatten().tolist())\n",
    "    lst.remove(gene)\n",
    "    lst = list(lst)\n",
    "    lst.insert(0, gene)\n",
    "    if len(lst) >= 50:\n",
    "        temp = pd.DataFrame(data=lst)\n",
    "        lib = pd.concat([lib, temp.T])\n",
    "    i += 1"
   ]
  },
  {
   "cell_type": "code",
   "execution_count": 154,
   "metadata": {},
   "outputs": [],
   "source": [
    "lib.to_csv('PPI_MOUSE.gmt', sep='\\t', header=None, index=False)"
   ]
  },
  {
   "cell_type": "code",
   "execution_count": null,
   "metadata": {},
   "outputs": [],
   "source": []
  },
  {
   "cell_type": "code",
   "execution_count": null,
   "metadata": {},
   "outputs": [],
   "source": []
  },
  {
   "cell_type": "code",
   "execution_count": 109,
   "metadata": {},
   "outputs": [
    {
     "data": {
      "text/html": [
       "<div>\n",
       "<table border=\"1\" class=\"dataframe\">\n",
       "  <thead>\n",
       "    <tr style=\"text-align: right;\">\n",
       "      <th></th>\n",
       "      <th>0</th>\n",
       "      <th>1</th>\n",
       "      <th>2</th>\n",
       "      <th>3</th>\n",
       "      <th>4</th>\n",
       "      <th>5</th>\n",
       "      <th>6</th>\n",
       "      <th>7</th>\n",
       "      <th>8</th>\n",
       "      <th>9</th>\n",
       "      <th>...</th>\n",
       "      <th>190</th>\n",
       "      <th>191</th>\n",
       "      <th>192</th>\n",
       "      <th>193</th>\n",
       "      <th>194</th>\n",
       "      <th>195</th>\n",
       "      <th>196</th>\n",
       "      <th>197</th>\n",
       "      <th>198</th>\n",
       "      <th>199</th>\n",
       "    </tr>\n",
       "  </thead>\n",
       "  <tbody>\n",
       "    <tr>\n",
       "      <th>0</th>\n",
       "      <td>Src</td>\n",
       "      <td>S1pr1</td>\n",
       "      <td>Ptk2</td>\n",
       "      <td>Diap1</td>\n",
       "      <td>Bcar1</td>\n",
       "      <td>Traf6</td>\n",
       "      <td>Shc1</td>\n",
       "      <td>Akt1</td>\n",
       "      <td>Pdcd6ip</td>\n",
       "      <td>Csn2</td>\n",
       "      <td>...</td>\n",
       "      <td>NaN</td>\n",
       "      <td>NaN</td>\n",
       "      <td>NaN</td>\n",
       "      <td>NaN</td>\n",
       "      <td>NaN</td>\n",
       "      <td>NaN</td>\n",
       "      <td>NaN</td>\n",
       "      <td>NaN</td>\n",
       "      <td>NaN</td>\n",
       "      <td>NaN</td>\n",
       "    </tr>\n",
       "    <tr>\n",
       "      <th>0</th>\n",
       "      <td>HDAC1</td>\n",
       "      <td>EZH2</td>\n",
       "      <td>BRMS1</td>\n",
       "      <td>ETS1</td>\n",
       "      <td>MAD1L1</td>\n",
       "      <td>RCOR1</td>\n",
       "      <td>EED</td>\n",
       "      <td>PPIA</td>\n",
       "      <td>WHSC1</td>\n",
       "      <td>HNF1B</td>\n",
       "      <td>...</td>\n",
       "      <td>NaN</td>\n",
       "      <td>NaN</td>\n",
       "      <td>NaN</td>\n",
       "      <td>NaN</td>\n",
       "      <td>NaN</td>\n",
       "      <td>NaN</td>\n",
       "      <td>NaN</td>\n",
       "      <td>NaN</td>\n",
       "      <td>NaN</td>\n",
       "      <td>NaN</td>\n",
       "    </tr>\n",
       "    <tr>\n",
       "      <th>0</th>\n",
       "      <td>Hdac1</td>\n",
       "      <td>Ccne1</td>\n",
       "      <td>Sp3</td>\n",
       "      <td>Brms1</td>\n",
       "      <td>Jdp2</td>\n",
       "      <td>Pdx1</td>\n",
       "      <td>Ifrd1</td>\n",
       "      <td>Mad1l1</td>\n",
       "      <td>Smyd1</td>\n",
       "      <td>Kdm1a</td>\n",
       "      <td>...</td>\n",
       "      <td>NaN</td>\n",
       "      <td>NaN</td>\n",
       "      <td>NaN</td>\n",
       "      <td>NaN</td>\n",
       "      <td>NaN</td>\n",
       "      <td>NaN</td>\n",
       "      <td>NaN</td>\n",
       "      <td>NaN</td>\n",
       "      <td>NaN</td>\n",
       "      <td>NaN</td>\n",
       "    </tr>\n",
       "    <tr>\n",
       "      <th>0</th>\n",
       "      <td>Pik3r1</td>\n",
       "      <td>Ptk2</td>\n",
       "      <td>Ncor1</td>\n",
       "      <td>Ank3</td>\n",
       "      <td>Klrk1</td>\n",
       "      <td>Thrb</td>\n",
       "      <td>Tnfrsf11a</td>\n",
       "      <td>Ptpn11</td>\n",
       "      <td>Ep300</td>\n",
       "      <td>Akt1</td>\n",
       "      <td>...</td>\n",
       "      <td>NaN</td>\n",
       "      <td>NaN</td>\n",
       "      <td>NaN</td>\n",
       "      <td>NaN</td>\n",
       "      <td>NaN</td>\n",
       "      <td>NaN</td>\n",
       "      <td>NaN</td>\n",
       "      <td>NaN</td>\n",
       "      <td>NaN</td>\n",
       "      <td>NaN</td>\n",
       "    </tr>\n",
       "    <tr>\n",
       "      <th>0</th>\n",
       "      <td>TP53</td>\n",
       "      <td>PIAS2</td>\n",
       "      <td>MAPK8</td>\n",
       "      <td>PIN1</td>\n",
       "      <td>UBE2N</td>\n",
       "      <td>GSK3B</td>\n",
       "      <td>ZBTB7C</td>\n",
       "      <td>RPS26</td>\n",
       "      <td>NDN</td>\n",
       "      <td>BACH1</td>\n",
       "      <td>...</td>\n",
       "      <td>NaN</td>\n",
       "      <td>NaN</td>\n",
       "      <td>NaN</td>\n",
       "      <td>NaN</td>\n",
       "      <td>NaN</td>\n",
       "      <td>NaN</td>\n",
       "      <td>NaN</td>\n",
       "      <td>NaN</td>\n",
       "      <td>NaN</td>\n",
       "      <td>NaN</td>\n",
       "    </tr>\n",
       "    <tr>\n",
       "      <th>0</th>\n",
       "      <td>Cbl</td>\n",
       "      <td>Spta1</td>\n",
       "      <td>Sh2b2</td>\n",
       "      <td>Fgr</td>\n",
       "      <td>Zap70</td>\n",
       "      <td>Dok3</td>\n",
       "      <td>Src</td>\n",
       "      <td>Pik3r1</td>\n",
       "      <td>Traf6</td>\n",
       "      <td>Tnfrsf11a</td>\n",
       "      <td>...</td>\n",
       "      <td>NaN</td>\n",
       "      <td>NaN</td>\n",
       "      <td>NaN</td>\n",
       "      <td>NaN</td>\n",
       "      <td>NaN</td>\n",
       "      <td>NaN</td>\n",
       "      <td>NaN</td>\n",
       "      <td>NaN</td>\n",
       "      <td>NaN</td>\n",
       "      <td>NaN</td>\n",
       "    </tr>\n",
       "    <tr>\n",
       "      <th>0</th>\n",
       "      <td>NANOG</td>\n",
       "      <td>MAPK1</td>\n",
       "      <td>PIN1</td>\n",
       "      <td>POGZ</td>\n",
       "      <td>WHSC1</td>\n",
       "      <td>MAPK3</td>\n",
       "      <td>SMARCA2</td>\n",
       "      <td>KDM1A</td>\n",
       "      <td>ZMYM2</td>\n",
       "      <td>TRIM28</td>\n",
       "      <td>...</td>\n",
       "      <td>NaN</td>\n",
       "      <td>NaN</td>\n",
       "      <td>NaN</td>\n",
       "      <td>NaN</td>\n",
       "      <td>NaN</td>\n",
       "      <td>NaN</td>\n",
       "      <td>NaN</td>\n",
       "      <td>NaN</td>\n",
       "      <td>NaN</td>\n",
       "      <td>NaN</td>\n",
       "    </tr>\n",
       "    <tr>\n",
       "      <th>0</th>\n",
       "      <td>CTNNB1</td>\n",
       "      <td>HTT</td>\n",
       "      <td>MAPK8</td>\n",
       "      <td>LEF1</td>\n",
       "      <td>PIN1</td>\n",
       "      <td>TNIK</td>\n",
       "      <td>GSK3B</td>\n",
       "      <td>JUN</td>\n",
       "      <td>CTNNA1</td>\n",
       "      <td>KIFAP3</td>\n",
       "      <td>...</td>\n",
       "      <td>NaN</td>\n",
       "      <td>NaN</td>\n",
       "      <td>NaN</td>\n",
       "      <td>NaN</td>\n",
       "      <td>NaN</td>\n",
       "      <td>NaN</td>\n",
       "      <td>NaN</td>\n",
       "      <td>NaN</td>\n",
       "      <td>NaN</td>\n",
       "      <td>NaN</td>\n",
       "    </tr>\n",
       "    <tr>\n",
       "      <th>0</th>\n",
       "      <td>TRAF6</td>\n",
       "      <td>UBE2D3</td>\n",
       "      <td>UBE2N</td>\n",
       "      <td>MAP3K7</td>\n",
       "      <td>SQSTM1</td>\n",
       "      <td>RIPK1</td>\n",
       "      <td>TNFRSF19</td>\n",
       "      <td>TAB2</td>\n",
       "      <td>MYSM1</td>\n",
       "      <td>UBC</td>\n",
       "      <td>...</td>\n",
       "      <td>NaN</td>\n",
       "      <td>NaN</td>\n",
       "      <td>NaN</td>\n",
       "      <td>NaN</td>\n",
       "      <td>NaN</td>\n",
       "      <td>NaN</td>\n",
       "      <td>NaN</td>\n",
       "      <td>NaN</td>\n",
       "      <td>NaN</td>\n",
       "      <td>NaN</td>\n",
       "    </tr>\n",
       "    <tr>\n",
       "      <th>0</th>\n",
       "      <td>Smarca4</td>\n",
       "      <td>Smarcc1</td>\n",
       "      <td>Klf4</td>\n",
       "      <td>Nf1</td>\n",
       "      <td>Arid1b</td>\n",
       "      <td>Polr2a</td>\n",
       "      <td>Actl6b</td>\n",
       "      <td>Nr1h4</td>\n",
       "      <td>Hdac3</td>\n",
       "      <td>Nkx2-1</td>\n",
       "      <td>...</td>\n",
       "      <td>NaN</td>\n",
       "      <td>NaN</td>\n",
       "      <td>NaN</td>\n",
       "      <td>NaN</td>\n",
       "      <td>NaN</td>\n",
       "      <td>NaN</td>\n",
       "      <td>NaN</td>\n",
       "      <td>NaN</td>\n",
       "      <td>NaN</td>\n",
       "      <td>NaN</td>\n",
       "    </tr>\n",
       "    <tr>\n",
       "      <th>0</th>\n",
       "      <td>CBL</td>\n",
       "      <td>INPP5D</td>\n",
       "      <td>NCK1</td>\n",
       "      <td>SH2B2</td>\n",
       "      <td>FYN</td>\n",
       "      <td>PIK3CG</td>\n",
       "      <td>ABL1</td>\n",
       "      <td>UBC</td>\n",
       "      <td>GRB2</td>\n",
       "      <td>DLG1</td>\n",
       "      <td>...</td>\n",
       "      <td>NaN</td>\n",
       "      <td>NaN</td>\n",
       "      <td>NaN</td>\n",
       "      <td>NaN</td>\n",
       "      <td>NaN</td>\n",
       "      <td>NaN</td>\n",
       "      <td>NaN</td>\n",
       "      <td>NaN</td>\n",
       "      <td>NaN</td>\n",
       "      <td>NaN</td>\n",
       "    </tr>\n",
       "    <tr>\n",
       "      <th>0</th>\n",
       "      <td>DLG4</td>\n",
       "      <td>TCERG1</td>\n",
       "      <td>ASIC2</td>\n",
       "      <td>NETO1</td>\n",
       "      <td>LRP1</td>\n",
       "      <td>FZD4</td>\n",
       "      <td>SEMA4G</td>\n",
       "      <td>VAC14</td>\n",
       "      <td>MAP2</td>\n",
       "      <td>PCDH10</td>\n",
       "      <td>...</td>\n",
       "      <td>NaN</td>\n",
       "      <td>NaN</td>\n",
       "      <td>NaN</td>\n",
       "      <td>NaN</td>\n",
       "      <td>NaN</td>\n",
       "      <td>NaN</td>\n",
       "      <td>NaN</td>\n",
       "      <td>NaN</td>\n",
       "      <td>NaN</td>\n",
       "      <td>NaN</td>\n",
       "    </tr>\n",
       "    <tr>\n",
       "      <th>0</th>\n",
       "      <td>UBC</td>\n",
       "      <td>BID</td>\n",
       "      <td>TARDBP</td>\n",
       "      <td>BAX</td>\n",
       "      <td>JUN</td>\n",
       "      <td>SQSTM1</td>\n",
       "      <td>TRIM71</td>\n",
       "      <td>PRKCSH</td>\n",
       "      <td>IKBKE</td>\n",
       "      <td>MYSM1</td>\n",
       "      <td>...</td>\n",
       "      <td>DDX39B</td>\n",
       "      <td>ARHGEF15</td>\n",
       "      <td>IDO1</td>\n",
       "      <td>GATA4</td>\n",
       "      <td>TAB3</td>\n",
       "      <td>FANCD2</td>\n",
       "      <td>PSMB3</td>\n",
       "      <td>SIRT1</td>\n",
       "      <td>NOTCH1</td>\n",
       "      <td>EGFR</td>\n",
       "    </tr>\n",
       "    <tr>\n",
       "      <th>0</th>\n",
       "      <td>Trp53</td>\n",
       "      <td>Wwox</td>\n",
       "      <td>Huwe1</td>\n",
       "      <td>Axin1</td>\n",
       "      <td>Smyd1</td>\n",
       "      <td>Rchy1</td>\n",
       "      <td>Pias2</td>\n",
       "      <td>Trp73</td>\n",
       "      <td>Pias4</td>\n",
       "      <td>Cdkn2a</td>\n",
       "      <td>...</td>\n",
       "      <td>NaN</td>\n",
       "      <td>NaN</td>\n",
       "      <td>NaN</td>\n",
       "      <td>NaN</td>\n",
       "      <td>NaN</td>\n",
       "      <td>NaN</td>\n",
       "      <td>NaN</td>\n",
       "      <td>NaN</td>\n",
       "      <td>NaN</td>\n",
       "      <td>NaN</td>\n",
       "    </tr>\n",
       "    <tr>\n",
       "      <th>0</th>\n",
       "      <td>Traf6</td>\n",
       "      <td>Tnfrsf19</td>\n",
       "      <td>Ngfr</td>\n",
       "      <td>Dok3</td>\n",
       "      <td>Zfp110</td>\n",
       "      <td>Src</td>\n",
       "      <td>Eda2r</td>\n",
       "      <td>Irf8</td>\n",
       "      <td>Tnfrsf11a</td>\n",
       "      <td>Mavs</td>\n",
       "      <td>...</td>\n",
       "      <td>NaN</td>\n",
       "      <td>NaN</td>\n",
       "      <td>NaN</td>\n",
       "      <td>NaN</td>\n",
       "      <td>NaN</td>\n",
       "      <td>NaN</td>\n",
       "      <td>NaN</td>\n",
       "      <td>NaN</td>\n",
       "      <td>NaN</td>\n",
       "      <td>NaN</td>\n",
       "    </tr>\n",
       "    <tr>\n",
       "      <th>0</th>\n",
       "      <td>SMARCA4</td>\n",
       "      <td>KDM4B</td>\n",
       "      <td>ARID1B</td>\n",
       "      <td>ARID1A</td>\n",
       "      <td>SMARCC2</td>\n",
       "      <td>NKX2-1</td>\n",
       "      <td>HNRNPU</td>\n",
       "      <td>WHSC1</td>\n",
       "      <td>KDM6B</td>\n",
       "      <td>SMARCB1</td>\n",
       "      <td>...</td>\n",
       "      <td>NaN</td>\n",
       "      <td>NaN</td>\n",
       "      <td>NaN</td>\n",
       "      <td>NaN</td>\n",
       "      <td>NaN</td>\n",
       "      <td>NaN</td>\n",
       "      <td>NaN</td>\n",
       "      <td>NaN</td>\n",
       "      <td>NaN</td>\n",
       "      <td>NaN</td>\n",
       "    </tr>\n",
       "    <tr>\n",
       "      <th>0</th>\n",
       "      <td>Crebbp</td>\n",
       "      <td>Gpbp1</td>\n",
       "      <td>Pcmt1</td>\n",
       "      <td>Traf3</td>\n",
       "      <td>Nfe2l2</td>\n",
       "      <td>Cited4</td>\n",
       "      <td>Tp53</td>\n",
       "      <td>Kat2a</td>\n",
       "      <td>Ets1</td>\n",
       "      <td>Rxrg</td>\n",
       "      <td>...</td>\n",
       "      <td>NaN</td>\n",
       "      <td>NaN</td>\n",
       "      <td>NaN</td>\n",
       "      <td>NaN</td>\n",
       "      <td>NaN</td>\n",
       "      <td>NaN</td>\n",
       "      <td>NaN</td>\n",
       "      <td>NaN</td>\n",
       "      <td>NaN</td>\n",
       "      <td>NaN</td>\n",
       "    </tr>\n",
       "    <tr>\n",
       "      <th>0</th>\n",
       "      <td>Foxp3</td>\n",
       "      <td>Runx3</td>\n",
       "      <td>Tet2</td>\n",
       "      <td>Dnmt3b</td>\n",
       "      <td>Sin3a</td>\n",
       "      <td>Igsf3</td>\n",
       "      <td>Npr1</td>\n",
       "      <td>Egr1</td>\n",
       "      <td>Ep300</td>\n",
       "      <td>Ets1</td>\n",
       "      <td>...</td>\n",
       "      <td>NaN</td>\n",
       "      <td>NaN</td>\n",
       "      <td>NaN</td>\n",
       "      <td>NaN</td>\n",
       "      <td>NaN</td>\n",
       "      <td>NaN</td>\n",
       "      <td>NaN</td>\n",
       "      <td>NaN</td>\n",
       "      <td>NaN</td>\n",
       "      <td>NaN</td>\n",
       "    </tr>\n",
       "    <tr>\n",
       "      <th>0</th>\n",
       "      <td>Ep300</td>\n",
       "      <td>Pitx2</td>\n",
       "      <td>Rarb</td>\n",
       "      <td>Usf1</td>\n",
       "      <td>Nr1h4</td>\n",
       "      <td>Pik3r1</td>\n",
       "      <td>Nupr1</td>\n",
       "      <td>Kat2a</td>\n",
       "      <td>Stat2</td>\n",
       "      <td>Tp53</td>\n",
       "      <td>...</td>\n",
       "      <td>NaN</td>\n",
       "      <td>NaN</td>\n",
       "      <td>NaN</td>\n",
       "      <td>NaN</td>\n",
       "      <td>NaN</td>\n",
       "      <td>NaN</td>\n",
       "      <td>NaN</td>\n",
       "      <td>NaN</td>\n",
       "      <td>NaN</td>\n",
       "      <td>NaN</td>\n",
       "    </tr>\n",
       "    <tr>\n",
       "      <th>0</th>\n",
       "      <td>Ubc</td>\n",
       "      <td>Slc12a3</td>\n",
       "      <td>Ccne1</td>\n",
       "      <td>Vcp</td>\n",
       "      <td>Fam175b</td>\n",
       "      <td>Tnks</td>\n",
       "      <td>Bid</td>\n",
       "      <td>Ripk2</td>\n",
       "      <td>Notch1</td>\n",
       "      <td>Msx2</td>\n",
       "      <td>...</td>\n",
       "      <td>Rela</td>\n",
       "      <td>Sirt1</td>\n",
       "      <td>Bcl2l11</td>\n",
       "      <td>Ago2</td>\n",
       "      <td>NaN</td>\n",
       "      <td>NaN</td>\n",
       "      <td>NaN</td>\n",
       "      <td>NaN</td>\n",
       "      <td>NaN</td>\n",
       "      <td>NaN</td>\n",
       "    </tr>\n",
       "  </tbody>\n",
       "</table>\n",
       "<p>20 rows × 200 columns</p>\n",
       "</div>"
      ],
      "text/latex": [
       "\\centering{\\begin{tabular}{lllllllllllllllllllllllllllllllllllllllllllllllllllllllllllllllllllllllllllllllllllllllllllllllllllllllllllllllllllllllllllllllllllllllllllllllllllllllllllllllllllllllllllllllllllllllllllllllllllllllll}\n",
       "\\toprule\n",
       "{} &      0   &       1   &     2   &     3   &      4   &     5   &        6   &     7   &        8   &        9   &      10  &      11  &     12  &      13  &       14  &      15  &      16  &       17  &      18  &       19  &      20  &     21  &     22  &     23  &      24  &     25  &      26  &       27  &       28  &       29  &      30  &        31  &       32  &       33  &      34  &      35  &      36  &     37  &       38  &       39  &      40  &        41  &       42  &       43  &      44  &       45  &       46  &      47  &      48  &      49  &                                                50  &      51  &      52  &       53  &      54  &      55  &      56  &     57  &     58  &       59  &        60  &       61  &      62  &      63  &    64  &    65  &     66  &     67  &       68  &      69  &     70  &     71  &     72  &      73  &        74  &        75  &    76  &    77  &    78  &    79  &    80  &     81  &    82  &      83  &    84  &   85  &   86  &     87  &    88  &    89  &    90  &   91  &    92  &     93  &    94  &     95  &    96  &   97  &    98  &    99  &    100 &     101 &     102 &    103 &    104 &    105 &    106 &   107 &    108 &    109 &    110 &      111 &      112 &     113 &   114 &   115 &    116 &     117 &     118 &    119 &    120 &    121 &   122 &    123 &    124 &     125 &      126 &    127 &   128 &     129 &   130 &     131 &    132 &     133 &     134 &    135 &    136 &     137 &   138 &    139 &   140 &     141 &    142 &       143 &     144 &    145 &     146 &     147 &    148 &      149 &    150 &      151 &    152 &    153 &      154 &    155 &      156 &   157 &   158 &      159 &    160 &    161 &     162 &    163 &    164 &    165 &    166 &     167 &       168 &    169 &    170 &    171 &     172 &      173 &     174 &   175 &     176 &      177 &    178 &     179 &    180 &      181 &    182 &    183 &     184 &     185 &    186 &     187 &    188 &   189 &     190 &       191 &      192 &    193 &   194 &     195 &    196 &    197 &     198 &   199 \\\\\n",
       "\\midrule\n",
       "0 &      Src &     S1pr1 &    Ptk2 &   Diap1 &    Bcar1 &   Traf6 &       Shc1 &    Akt1 &    Pdcd6ip &       Csn2 &    Trpc6 &     Krt5 &    Dvl2 &    Trpc4 &       Syk &    Krt6a &     Egfr &      Eno1 &      Efs &       Kdr &     Gja1 &  Srcin1 &   Ptk2b &   Ephb2 &    Ptpra &  Sh3bp2 &  Khdrbs1 &      Dab1 &       Ret &      Esr1 &    Atxn2 &      Prkce &      Jak2 &     Krt14 &    Adrb3 &     Shc2 &    Itgb3 &   Itga2 &     Csf1r &       Was &    Stat3 &      Trpc2 &       Cbl &    Nfatc1 &   Prkaca &     Trpc5 &      Skp2 &    Trpc1 &     Insr &  Pik3c2a &                                                Pxn &     Enah &     Dok2 &  Map1lc3b &    Krt16 &     Cav3 &     Shc3 &   Krt17 &    Htr4 &      Gab1 &        NaN &       NaN &      NaN &      NaN &    NaN &    NaN &     NaN &     NaN &       NaN &      NaN &     NaN &     NaN &     NaN &      NaN &        NaN &        NaN &    NaN &    NaN &    NaN &    NaN &    NaN &     NaN &    NaN &      NaN &    NaN &   NaN &   NaN &     NaN &    NaN &    NaN &    NaN &   NaN &    NaN &     NaN &    NaN &     NaN &    NaN &   NaN &    NaN &    NaN &    NaN &     NaN &     NaN &    NaN &    NaN &    NaN &    NaN &   NaN &    NaN &    NaN &    NaN &      NaN &      NaN &     NaN &   NaN &   NaN &    NaN &     NaN &     NaN &    NaN &    NaN &    NaN &   NaN &    NaN &    NaN &     NaN &      NaN &    NaN &   NaN &     NaN &   NaN &     NaN &    NaN &     NaN &     NaN &    NaN &    NaN &     NaN &   NaN &    NaN &   NaN &     NaN &    NaN &       NaN &     NaN &    NaN &     NaN &     NaN &    NaN &      NaN &    NaN &      NaN &    NaN &    NaN &      NaN &    NaN &      NaN &   NaN &   NaN &      NaN &    NaN &    NaN &     NaN &    NaN &    NaN &    NaN &    NaN &     NaN &       NaN &    NaN &    NaN &    NaN &     NaN &      NaN &     NaN &   NaN &     NaN &      NaN &    NaN &     NaN &    NaN &      NaN &    NaN &    NaN &     NaN &     NaN &    NaN &     NaN &    NaN &   NaN &     NaN &       NaN &      NaN &    NaN &   NaN &     NaN &    NaN &    NaN &     NaN &   NaN \\\\\n",
       "0 &    HDAC1 &      EZH2 &   BRMS1 &    ETS1 &   MAD1L1 &   RCOR1 &        EED &    PPIA &      WHSC1 &      HNF1B &     KLF5 &    SIN3B &    E2F1 &      MNT &       SP3 &    KIF2A &     PDX1 &     GON4L &    GFI1B &     IFRD1 &  SUV39H1 &    RBL2 &     GSC &  ZBTB7A &    FOXP3 &     RB1 &    KDM5B &     CCNE1 &     SMYD1 &     SIN3A &    NANOG &      PHF12 &      SOX2 &     SMAD4 &    MYOD1 &    DNMT1 &     PHB2 &   ZFPM1 &     CEBPB &     SATB2 &     TLE1 &     ZNF431 &     SAP30 &       SP1 &     MSX2 &     RBBP4 &     SKOR1 &    MECP2 &  MYBBP1A &     XPO1 &                                               MTA2 &  MORF4L1 &     RERE &     TCF21 &    DZIP3 &  HIST4H4 &    HDAC2 &   BACH1 &   PPARG &   BHLHE40 &       TP53 &      CRY1 &   TCF7L2 &     SS18 &  APEX1 &  CCND1 &   HDAC9 &    TAL1 &       YY1 &     CHD5 &    RELA &  STAT5A &    CREM &     JDP2 &       MTA1 &      KLF13 &  NFKB1 &    NaN &    NaN &    NaN &    NaN &     NaN &    NaN &      NaN &    NaN &   NaN &   NaN &     NaN &    NaN &    NaN &    NaN &   NaN &    NaN &     NaN &    NaN &     NaN &    NaN &   NaN &    NaN &    NaN &    NaN &     NaN &     NaN &    NaN &    NaN &    NaN &    NaN &   NaN &    NaN &    NaN &    NaN &      NaN &      NaN &     NaN &   NaN &   NaN &    NaN &     NaN &     NaN &    NaN &    NaN &    NaN &   NaN &    NaN &    NaN &     NaN &      NaN &    NaN &   NaN &     NaN &   NaN &     NaN &    NaN &     NaN &     NaN &    NaN &    NaN &     NaN &   NaN &    NaN &   NaN &     NaN &    NaN &       NaN &     NaN &    NaN &     NaN &     NaN &    NaN &      NaN &    NaN &      NaN &    NaN &    NaN &      NaN &    NaN &      NaN &   NaN &   NaN &      NaN &    NaN &    NaN &     NaN &    NaN &    NaN &    NaN &    NaN &     NaN &       NaN &    NaN &    NaN &    NaN &     NaN &      NaN &     NaN &   NaN &     NaN &      NaN &    NaN &     NaN &    NaN &      NaN &    NaN &    NaN &     NaN &     NaN &    NaN &     NaN &    NaN &   NaN &     NaN &       NaN &      NaN &    NaN &   NaN &     NaN &    NaN &    NaN &     NaN &   NaN \\\\\n",
       "0 &    Hdac1 &     Ccne1 &     Sp3 &   Brms1 &     Jdp2 &    Pdx1 &      Ifrd1 &  Mad1l1 &      Smyd1 &      Kdm1a &   Tcf7l2 &    Sin3b &   Sin3a &    Bach1 &      Tp53 &    Phf12 &    Ccnd1 &      Ets1 &    Ciart &   Smarca4 &     Daxx &    Ppia &   Hnf1b &     Yy1 &    Tcf21 &    Msx2 &      Sp1 &     Sall1 &      Tal1 &     Rcor1 &    Pparg &       Cry1 &     Apex1 &    Znf431 &  Mybbp1a &      Mnt &    Myod1 &   Klf13 &    Zbtb7a &     Whsc1 &    Satb2 &    Morf4l1 &     Rbbp4 &      Mta1 &    Cebpa &     Hdac2 &     Gon4l &     Hopx &   Stat5a &    Nfkb1 &                                               Phb2 &     Rbl2 &  Bhlhe40 &     Mecp2 &    Smad4 &   Tcf7l1 &     Rere &   Stat3 &    Ubtf &     Dzip3 &       Sox2 &     Kif2a &     Chd4 &     Per2 &  Kdm5b &   Chd5 &    Crem &   Skor1 &      Rela &      Gsc &    Klf6 &   Hdac9 &  Zbtb16 &  Suv39h1 &       Klf5 &       Xpo1 &  Gfi1b &  Dnmt1 &  Cebpb &   Mta2 &   Ezh2 &  Zfp932 &   E2f1 &  Hist4h4 &    Rb1 &   NaN &   NaN &     NaN &    NaN &    NaN &    NaN &   NaN &    NaN &     NaN &    NaN &     NaN &    NaN &   NaN &    NaN &    NaN &    NaN &     NaN &     NaN &    NaN &    NaN &    NaN &    NaN &   NaN &    NaN &    NaN &    NaN &      NaN &      NaN &     NaN &   NaN &   NaN &    NaN &     NaN &     NaN &    NaN &    NaN &    NaN &   NaN &    NaN &    NaN &     NaN &      NaN &    NaN &   NaN &     NaN &   NaN &     NaN &    NaN &     NaN &     NaN &    NaN &    NaN &     NaN &   NaN &    NaN &   NaN &     NaN &    NaN &       NaN &     NaN &    NaN &     NaN &     NaN &    NaN &      NaN &    NaN &      NaN &    NaN &    NaN &      NaN &    NaN &      NaN &   NaN &   NaN &      NaN &    NaN &    NaN &     NaN &    NaN &    NaN &    NaN &    NaN &     NaN &       NaN &    NaN &    NaN &    NaN &     NaN &      NaN &     NaN &   NaN &     NaN &      NaN &    NaN &     NaN &    NaN &      NaN &    NaN &    NaN &     NaN &     NaN &    NaN &     NaN &    NaN &   NaN &     NaN &       NaN &      NaN &    NaN &   NaN &     NaN &    NaN &    NaN &     NaN &   NaN \\\\\n",
       "0 &   Pik3r1 &      Ptk2 &   Ncor1 &    Ank3 &    Klrk1 &    Thrb &  Tnfrsf11a &  Ptpn11 &      Ep300 &       Akt1 &     Cd28 &   Pdgfrb &    Irs1 &    Mertk &     Il2rg &    Erbb2 &    Grb10 &       Lyn &   Pik3cb &      Hras &     Cdh1 &    Abi1 &    Spp1 &     Fyn &     Rac1 &  Inpp5d &    Pa2g4 &      Araf &      Epor &   Pik3ap1 &   Ctnnb1 &       Jak2 &      Cd40 &      Cdh2 &   Pik3cd &      Tek &    Tirap &     Was &      Irs2 &     Csf1r &      Fos &      Psen1 &      Eps8 &       Cbl &      Btk &     Epha2 &      Snx9 &    Sirpa &      Kit &      Jup &                                               Grb2 &     Tie1 &     Cd19 &       Blk &   Pik3ca &      Lck &      Crk &    Gab1 &    Tlr2 &       NaN &        NaN &       NaN &      NaN &      NaN &    NaN &    NaN &     NaN &     NaN &       NaN &      NaN &     NaN &     NaN &     NaN &      NaN &        NaN &        NaN &    NaN &    NaN &    NaN &    NaN &    NaN &     NaN &    NaN &      NaN &    NaN &   NaN &   NaN &     NaN &    NaN &    NaN &    NaN &   NaN &    NaN &     NaN &    NaN &     NaN &    NaN &   NaN &    NaN &    NaN &    NaN &     NaN &     NaN &    NaN &    NaN &    NaN &    NaN &   NaN &    NaN &    NaN &    NaN &      NaN &      NaN &     NaN &   NaN &   NaN &    NaN &     NaN &     NaN &    NaN &    NaN &    NaN &   NaN &    NaN &    NaN &     NaN &      NaN &    NaN &   NaN &     NaN &   NaN &     NaN &    NaN &     NaN &     NaN &    NaN &    NaN &     NaN &   NaN &    NaN &   NaN &     NaN &    NaN &       NaN &     NaN &    NaN &     NaN &     NaN &    NaN &      NaN &    NaN &      NaN &    NaN &    NaN &      NaN &    NaN &      NaN &   NaN &   NaN &      NaN &    NaN &    NaN &     NaN &    NaN &    NaN &    NaN &    NaN &     NaN &       NaN &    NaN &    NaN &    NaN &     NaN &      NaN &     NaN &   NaN &     NaN &      NaN &    NaN &     NaN &    NaN &      NaN &    NaN &    NaN &     NaN &     NaN &    NaN &     NaN &    NaN &   NaN &     NaN &       NaN &      NaN &    NaN &   NaN &     NaN &    NaN &    NaN &     NaN &   NaN \\\\\n",
       "0 &     TP53 &     PIAS2 &   MAPK8 &    PIN1 &    UBE2N &   GSK3B &     ZBTB7C &   RPS26 &        NDN &      BACH1 &    PIAS4 &   CDKN2A &     UBC &     NPM1 &     KMT2E &     DDB1 &    RPL11 &     AXIN1 &  SMARCD1 &      CDK2 &   HSPA1L &    REV1 &    WWOX &   SMYD1 &    HDAC1 &   UBA52 &    PTK2B &     NCOR1 &     HUWE1 &    BRINP1 &     YBX1 &    SMARCA4 &      PPIF &     EP300 &    RCHY1 &   CDKN1A &    PRKDC &  MAPK14 &      DAXX &  MAPKAPK5 &   HSPA1B &      HMGB1 &       SP1 &     APBB1 &    SUMO1 &      TP63 &      PAX3 &   BCL2L1 &    BARD1 &     SKIL &  HERC2 \\{ECO:0000312|EMBL:AAD08658.1, ECO:000031... &     TP73 &    PARK7 &      MAFK &    CCNG1 &     MDM2 &   RNF128 &   PIAS1 &  TOPORS &  PPP1R13L &       PTEN &    TWIST1 &    SIRT1 &     MDM4 &   GFI1 &  HIPK2 &     NaN &     NaN &       NaN &      NaN &     NaN &     NaN &     NaN &      NaN &        NaN &        NaN &    NaN &    NaN &    NaN &    NaN &    NaN &     NaN &    NaN &      NaN &    NaN &   NaN &   NaN &     NaN &    NaN &    NaN &    NaN &   NaN &    NaN &     NaN &    NaN &     NaN &    NaN &   NaN &    NaN &    NaN &    NaN &     NaN &     NaN &    NaN &    NaN &    NaN &    NaN &   NaN &    NaN &    NaN &    NaN &      NaN &      NaN &     NaN &   NaN &   NaN &    NaN &     NaN &     NaN &    NaN &    NaN &    NaN &   NaN &    NaN &    NaN &     NaN &      NaN &    NaN &   NaN &     NaN &   NaN &     NaN &    NaN &     NaN &     NaN &    NaN &    NaN &     NaN &   NaN &    NaN &   NaN &     NaN &    NaN &       NaN &     NaN &    NaN &     NaN &     NaN &    NaN &      NaN &    NaN &      NaN &    NaN &    NaN &      NaN &    NaN &      NaN &   NaN &   NaN &      NaN &    NaN &    NaN &     NaN &    NaN &    NaN &    NaN &    NaN &     NaN &       NaN &    NaN &    NaN &    NaN &     NaN &      NaN &     NaN &   NaN &     NaN &      NaN &    NaN &     NaN &    NaN &      NaN &    NaN &    NaN &     NaN &     NaN &    NaN &     NaN &    NaN &   NaN &     NaN &       NaN &      NaN &    NaN &   NaN &     NaN &    NaN &    NaN &     NaN &   NaN \\\\\n",
       "0 &      Cbl &     Spta1 &   Sh2b2 &     Fgr &    Zap70 &    Dok3 &        Src &  Pik3r1 &      Traf6 &  Tnfrsf11a &     Synm &     Shc1 &  Pdgfrb &    Itsn1 &       Sla &     Abl1 &  Rapgef1 &    Pik3cg &    Erbb2 &       Hck &      Syk &    Cblb &    Egfr &     Lyn &  Siglecg &     Met &     Flt1 &       Fyn &    Themis &    Sh3bp2 &    Atxn2 &       Cd40 &    Sorbs1 &      Crkl &     Eps8 &    Cd2ap &    Csf1r &  Nfatc1 &       Itk &       Ubc &    Nedd4 &       Nck1 &       Kit &       Pxn &     Grb2 &  Map1lc3b &  Serpinb9 &  Sh3kbp1 &     Sla2 &      Lck &                                             Sorbs2 &      Crk &    Plcg1 &       NaN &      NaN &      NaN &      NaN &     NaN &     NaN &       NaN &        NaN &       NaN &      NaN &      NaN &    NaN &    NaN &     NaN &     NaN &       NaN &      NaN &     NaN &     NaN &     NaN &      NaN &        NaN &        NaN &    NaN &    NaN &    NaN &    NaN &    NaN &     NaN &    NaN &      NaN &    NaN &   NaN &   NaN &     NaN &    NaN &    NaN &    NaN &   NaN &    NaN &     NaN &    NaN &     NaN &    NaN &   NaN &    NaN &    NaN &    NaN &     NaN &     NaN &    NaN &    NaN &    NaN &    NaN &   NaN &    NaN &    NaN &    NaN &      NaN &      NaN &     NaN &   NaN &   NaN &    NaN &     NaN &     NaN &    NaN &    NaN &    NaN &   NaN &    NaN &    NaN &     NaN &      NaN &    NaN &   NaN &     NaN &   NaN &     NaN &    NaN &     NaN &     NaN &    NaN &    NaN &     NaN &   NaN &    NaN &   NaN &     NaN &    NaN &       NaN &     NaN &    NaN &     NaN &     NaN &    NaN &      NaN &    NaN &      NaN &    NaN &    NaN &      NaN &    NaN &      NaN &   NaN &   NaN &      NaN &    NaN &    NaN &     NaN &    NaN &    NaN &    NaN &    NaN &     NaN &       NaN &    NaN &    NaN &    NaN &     NaN &      NaN &     NaN &   NaN &     NaN &      NaN &    NaN &     NaN &    NaN &      NaN &    NaN &    NaN &     NaN &     NaN &    NaN &     NaN &    NaN &   NaN &     NaN &       NaN &      NaN &    NaN &   NaN &     NaN &    NaN &    NaN &     NaN &   NaN \\\\\n",
       "0 &    NANOG &     MAPK1 &    PIN1 &    POGZ &    WHSC1 &   MAPK3 &    SMARCA2 &   KDM1A &      ZMYM2 &     TRIM28 &     MBD3 &   ZNF281 &   FBXW4 &  GATAD2B &     NFKB2 &  SKIV2L2 &    BRCA2 &     LMNB1 &    NR0B1 &     SIN3A &   ARID3B &  CTNNB1 &    SOX2 &   ESRRB &  SMARCA4 &   HDAC1 &     RELB &      EMSY &     NCOR2 &    POU5F1 &    FBXW8 &     HNRNPM &     FBXW5 &     NACC1 &    WAPAL &      PML &   ZNF609 &    MTA2 &      TET1 &   HIST4H4 &   JMJD1C &      SALL4 &   GATAD2A &     WDR18 &    HDAC2 &      RIF1 &      SMC3 &     MTA3 &     RELA &    RBBP7 &                                               MTA1 &      NaN &      NaN &       NaN &      NaN &      NaN &      NaN &     NaN &     NaN &       NaN &        NaN &       NaN &      NaN &      NaN &    NaN &    NaN &     NaN &     NaN &       NaN &      NaN &     NaN &     NaN &     NaN &      NaN &        NaN &        NaN &    NaN &    NaN &    NaN &    NaN &    NaN &     NaN &    NaN &      NaN &    NaN &   NaN &   NaN &     NaN &    NaN &    NaN &    NaN &   NaN &    NaN &     NaN &    NaN &     NaN &    NaN &   NaN &    NaN &    NaN &    NaN &     NaN &     NaN &    NaN &    NaN &    NaN &    NaN &   NaN &    NaN &    NaN &    NaN &      NaN &      NaN &     NaN &   NaN &   NaN &    NaN &     NaN &     NaN &    NaN &    NaN &    NaN &   NaN &    NaN &    NaN &     NaN &      NaN &    NaN &   NaN &     NaN &   NaN &     NaN &    NaN &     NaN &     NaN &    NaN &    NaN &     NaN &   NaN &    NaN &   NaN &     NaN &    NaN &       NaN &     NaN &    NaN &     NaN &     NaN &    NaN &      NaN &    NaN &      NaN &    NaN &    NaN &      NaN &    NaN &      NaN &   NaN &   NaN &      NaN &    NaN &    NaN &     NaN &    NaN &    NaN &    NaN &    NaN &     NaN &       NaN &    NaN &    NaN &    NaN &     NaN &      NaN &     NaN &   NaN &     NaN &      NaN &    NaN &     NaN &    NaN &      NaN &    NaN &    NaN &     NaN &     NaN &    NaN &     NaN &    NaN &   NaN &     NaN &       NaN &      NaN &    NaN &   NaN &     NaN &    NaN &    NaN &     NaN &   NaN \\\\\n",
       "0 &   CTNNB1 &       HTT &   MAPK8 &    LEF1 &     PIN1 &    TNIK &      GSK3B &     JUN &     CTNNA1 &     KIFAP3 &    USP9X &    COPS2 &   HMGB2 &  TAX1BP3 &      ESR1 &     CDH2 &     BTRC &     PTPRF &    AXIN1 &     PSEN1 &    CASP3 &   NANOG &  TCF7L1 &    SOX2 &  SMARCA4 &    CDH1 &      DCX &     AXIN2 &    CTNND1 &    POU5F1 &     RARA &      FOXM1 &     PROP1 &    CSNK1E &     CDH5 &     PAX3 &    CUL4A &    NUMB &       NF2 &     MAPK9 &     RAC1 &       TCF4 &  ARHGAP32 &    PECAM1 &   TCF7L2 &     LRRK2 &      ACP1 &   CREBBP &    CARM1 &    PTH1R &                                              KIF3B &     RELA &    NR5A1 &  CTNNBIP1 &      NaN &      NaN &      NaN &     NaN &     NaN &       NaN &        NaN &       NaN &      NaN &      NaN &    NaN &    NaN &     NaN &     NaN &       NaN &      NaN &     NaN &     NaN &     NaN &      NaN &        NaN &        NaN &    NaN &    NaN &    NaN &    NaN &    NaN &     NaN &    NaN &      NaN &    NaN &   NaN &   NaN &     NaN &    NaN &    NaN &    NaN &   NaN &    NaN &     NaN &    NaN &     NaN &    NaN &   NaN &    NaN &    NaN &    NaN &     NaN &     NaN &    NaN &    NaN &    NaN &    NaN &   NaN &    NaN &    NaN &    NaN &      NaN &      NaN &     NaN &   NaN &   NaN &    NaN &     NaN &     NaN &    NaN &    NaN &    NaN &   NaN &    NaN &    NaN &     NaN &      NaN &    NaN &   NaN &     NaN &   NaN &     NaN &    NaN &     NaN &     NaN &    NaN &    NaN &     NaN &   NaN &    NaN &   NaN &     NaN &    NaN &       NaN &     NaN &    NaN &     NaN &     NaN &    NaN &      NaN &    NaN &      NaN &    NaN &    NaN &      NaN &    NaN &      NaN &   NaN &   NaN &      NaN &    NaN &    NaN &     NaN &    NaN &    NaN &    NaN &    NaN &     NaN &       NaN &    NaN &    NaN &    NaN &     NaN &      NaN &     NaN &   NaN &     NaN &      NaN &    NaN &     NaN &    NaN &      NaN &    NaN &    NaN &     NaN &     NaN &    NaN &     NaN &    NaN &   NaN &     NaN &       NaN &      NaN &    NaN &   NaN &     NaN &    NaN &    NaN &     NaN &   NaN \\\\\n",
       "0 &    TRAF6 &    UBE2D3 &   UBE2N &  MAP3K7 &   SQSTM1 &   RIPK1 &   TNFRSF19 &    TAB2 &      MYSM1 &        UBC &    MALT1 &    RNF41 &  MAP3K3 &  TNFAIP3 &      IRF4 &     WWP1 &    NLRX1 &      IRF5 &   TRAFD1 &     RNF11 &    NTRK1 &   EDA2R &   RIPK2 &    AKT1 &    UBA52 &   ECSIT &    ITGB1 &       SYK &      ERN1 &  PPP1R15A &  TAX1BP1 &      IKBKG &     ARRB2 &     NRIF1 &     MST4 &    STUB1 &    RSAD2 &  HSPA1B &     IRAK3 &       CBL &    IRAK1 &  TNFRSF11A &     ARRB1 &  TRAF3IP2 &     DOK3 &     TRAF3 &    IL17RB &     TLR4 &     FHL2 &     IRF7 &                                            PLEKHO1 &     MTOR &     ITCH &     LIMD1 &    NR0B2 &     MAVS &     TAB3 &  IL17RA &  TICAM1 &      CYLD &  TNFRSF13C &      CD40 &     TIFA &     SRA1 &    NaN &    NaN &     NaN &     NaN &       NaN &      NaN &     NaN &     NaN &     NaN &      NaN &        NaN &        NaN &    NaN &    NaN &    NaN &    NaN &    NaN &     NaN &    NaN &      NaN &    NaN &   NaN &   NaN &     NaN &    NaN &    NaN &    NaN &   NaN &    NaN &     NaN &    NaN &     NaN &    NaN &   NaN &    NaN &    NaN &    NaN &     NaN &     NaN &    NaN &    NaN &    NaN &    NaN &   NaN &    NaN &    NaN &    NaN &      NaN &      NaN &     NaN &   NaN &   NaN &    NaN &     NaN &     NaN &    NaN &    NaN &    NaN &   NaN &    NaN &    NaN &     NaN &      NaN &    NaN &   NaN &     NaN &   NaN &     NaN &    NaN &     NaN &     NaN &    NaN &    NaN &     NaN &   NaN &    NaN &   NaN &     NaN &    NaN &       NaN &     NaN &    NaN &     NaN &     NaN &    NaN &      NaN &    NaN &      NaN &    NaN &    NaN &      NaN &    NaN &      NaN &   NaN &   NaN &      NaN &    NaN &    NaN &     NaN &    NaN &    NaN &    NaN &    NaN &     NaN &       NaN &    NaN &    NaN &    NaN &     NaN &      NaN &     NaN &   NaN &     NaN &      NaN &    NaN &     NaN &    NaN &      NaN &    NaN &    NaN &     NaN &     NaN &    NaN &     NaN &    NaN &   NaN &     NaN &       NaN &      NaN &    NaN &   NaN &     NaN &    NaN &    NaN &     NaN &   NaN \\\\\n",
       "0 &  Smarca4 &   Smarcc1 &    Klf4 &     Nf1 &   Arid1b &  Polr2a &     Actl6b &   Nr1h4 &      Hdac3 &     Nkx2-1 &    Tbx20 &  Smarce1 &    Ets2 &     Add1 &       Yy1 &    Stat6 &   Notch1 &     Kdm6b &   Arid1a &   Smarcd2 &     Tbx5 &   Creb1 &    Cdx2 &   Mysm1 &    Olig2 &  Ctnnb1 &     Brd7 &     Hdac2 &      Pax6 &       Myc &    Parp1 &     Nkx2-5 &     Tbx21 &      Myog &  Rps6ka5 &   Hnrnpu &  Smarcc2 &   Hdac1 &     Gata4 &      Rbpj &    Kdm6a &      Hdac9 &     Trp53 &     Brwd1 &    Top2a &    Trim28 &   Smarcb1 &    Prmt5 &     Ddx5 &     E2f1 &                                                Rb1 &      NaN &      NaN &       NaN &      NaN &      NaN &      NaN &     NaN &     NaN &       NaN &        NaN &       NaN &      NaN &      NaN &    NaN &    NaN &     NaN &     NaN &       NaN &      NaN &     NaN &     NaN &     NaN &      NaN &        NaN &        NaN &    NaN &    NaN &    NaN &    NaN &    NaN &     NaN &    NaN &      NaN &    NaN &   NaN &   NaN &     NaN &    NaN &    NaN &    NaN &   NaN &    NaN &     NaN &    NaN &     NaN &    NaN &   NaN &    NaN &    NaN &    NaN &     NaN &     NaN &    NaN &    NaN &    NaN &    NaN &   NaN &    NaN &    NaN &    NaN &      NaN &      NaN &     NaN &   NaN &   NaN &    NaN &     NaN &     NaN &    NaN &    NaN &    NaN &   NaN &    NaN &    NaN &     NaN &      NaN &    NaN &   NaN &     NaN &   NaN &     NaN &    NaN &     NaN &     NaN &    NaN &    NaN &     NaN &   NaN &    NaN &   NaN &     NaN &    NaN &       NaN &     NaN &    NaN &     NaN &     NaN &    NaN &      NaN &    NaN &      NaN &    NaN &    NaN &      NaN &    NaN &      NaN &   NaN &   NaN &      NaN &    NaN &    NaN &     NaN &    NaN &    NaN &    NaN &    NaN &     NaN &       NaN &    NaN &    NaN &    NaN &     NaN &      NaN &     NaN &   NaN &     NaN &      NaN &    NaN &     NaN &    NaN &      NaN &    NaN &    NaN &     NaN &     NaN &    NaN &     NaN &    NaN &   NaN &     NaN &       NaN &      NaN &    NaN &   NaN &     NaN &    NaN &    NaN &     NaN &   NaN \\\\\n",
       "0 &      CBL &    INPP5D &    NCK1 &   SH2B2 &      FYN &  PIK3CG &       ABL1 &     UBC &       GRB2 &       DLG1 &     SYNM &    DDX58 &  SORBS2 &      LYN &  MAP1LC3B &     SHC1 &    ATXN2 &       FGR &      SYK &     PLCG1 &   SORBS1 &    CBLB &  PTPN11 &   CD2AP &   PIK3R1 &   CSF1R &    ITSN1 &      FLT1 &     SPTA1 &       CRK &      LCK &  TNFRSF11A &      EGFR &     ERBB2 &     DOK3 &      SLA &    TRAF6 &     HCK &     NEDD4 &       KIT &      PXN &        SRC &      SLA2 &       MET &     EPS8 &   SH3KBP1 &     ZAP70 &      ITK &   PDGFRB &  SIGLECG &                                               CD40 &     CRKL &      NaN &       NaN &      NaN &      NaN &      NaN &     NaN &     NaN &       NaN &        NaN &       NaN &      NaN &      NaN &    NaN &    NaN &     NaN &     NaN &       NaN &      NaN &     NaN &     NaN &     NaN &      NaN &        NaN &        NaN &    NaN &    NaN &    NaN &    NaN &    NaN &     NaN &    NaN &      NaN &    NaN &   NaN &   NaN &     NaN &    NaN &    NaN &    NaN &   NaN &    NaN &     NaN &    NaN &     NaN &    NaN &   NaN &    NaN &    NaN &    NaN &     NaN &     NaN &    NaN &    NaN &    NaN &    NaN &   NaN &    NaN &    NaN &    NaN &      NaN &      NaN &     NaN &   NaN &   NaN &    NaN &     NaN &     NaN &    NaN &    NaN &    NaN &   NaN &    NaN &    NaN &     NaN &      NaN &    NaN &   NaN &     NaN &   NaN &     NaN &    NaN &     NaN &     NaN &    NaN &    NaN &     NaN &   NaN &    NaN &   NaN &     NaN &    NaN &       NaN &     NaN &    NaN &     NaN &     NaN &    NaN &      NaN &    NaN &      NaN &    NaN &    NaN &      NaN &    NaN &      NaN &   NaN &   NaN &      NaN &    NaN &    NaN &     NaN &    NaN &    NaN &    NaN &    NaN &     NaN &       NaN &    NaN &    NaN &    NaN &     NaN &      NaN &     NaN &   NaN &     NaN &      NaN &    NaN &     NaN &    NaN &      NaN &    NaN &    NaN &     NaN &     NaN &    NaN &     NaN &    NaN &   NaN &     NaN &       NaN &      NaN &    NaN &   NaN &     NaN &    NaN &    NaN &     NaN &   NaN \\\\\n",
       "0 &     DLG4 &    TCERG1 &   ASIC2 &   NETO1 &     LRP1 &    FZD4 &     SEMA4G &   VAC14 &       MAP2 &     PCDH10 &     BAI1 &    GRIN1 &  SEMA4F &     LRP8 &      FZD2 &     FZD1 &    YWHAE &    ATP1A1 &      GDA &     KCNA2 &   HOMER2 &   SSTR2 &   SSTR4 &  GRIN2A &      APP &   ERBB4 &   GRIN2D &    GRIN2C &   SLC17A7 &      DRD2 &    KCND2 &     SEMA4B &     NTRK2 &     GRIA2 &   ADAM22 &     LGI1 &    DAPK1 &     CNP &      THY1 &    GRIN2B &      ARC &      NRCAM &     SSTR1 &     KCNA1 &     ALS2 &  ARHGAP32 &     KCNA4 &    AP2B1 &     FZD7 &     MDM2 &                                            SH3KBP1 &   KCNAB2 &    LRFN2 &    SEMA4C &  PIK3C2A &      NaN &      NaN &     NaN &     NaN &       NaN &        NaN &       NaN &      NaN &      NaN &    NaN &    NaN &     NaN &     NaN &       NaN &      NaN &     NaN &     NaN &     NaN &      NaN &        NaN &        NaN &    NaN &    NaN &    NaN &    NaN &    NaN &     NaN &    NaN &      NaN &    NaN &   NaN &   NaN &     NaN &    NaN &    NaN &    NaN &   NaN &    NaN &     NaN &    NaN &     NaN &    NaN &   NaN &    NaN &    NaN &    NaN &     NaN &     NaN &    NaN &    NaN &    NaN &    NaN &   NaN &    NaN &    NaN &    NaN &      NaN &      NaN &     NaN &   NaN &   NaN &    NaN &     NaN &     NaN &    NaN &    NaN &    NaN &   NaN &    NaN &    NaN &     NaN &      NaN &    NaN &   NaN &     NaN &   NaN &     NaN &    NaN &     NaN &     NaN &    NaN &    NaN &     NaN &   NaN &    NaN &   NaN &     NaN &    NaN &       NaN &     NaN &    NaN &     NaN &     NaN &    NaN &      NaN &    NaN &      NaN &    NaN &    NaN &      NaN &    NaN &      NaN &   NaN &   NaN &      NaN &    NaN &    NaN &     NaN &    NaN &    NaN &    NaN &    NaN &     NaN &       NaN &    NaN &    NaN &    NaN &     NaN &      NaN &     NaN &   NaN &     NaN &      NaN &    NaN &     NaN &    NaN &      NaN &    NaN &    NaN &     NaN &     NaN &    NaN &     NaN &    NaN &   NaN &     NaN &       NaN &      NaN &    NaN &   NaN &     NaN &    NaN &    NaN &     NaN &   NaN \\\\\n",
       "0 &      UBC &       BID &  TARDBP &     BAX &      JUN &  SQSTM1 &     TRIM71 &  PRKCSH &      IKBKE &      MYSM1 &    KEAP1 &    PELI1 &   DUSP1 &    HIF1A &       FOS &     IRF5 &   TRIM32 &    SH3GL2 &    STAM2 &      GLI2 &     CD86 &    SHC1 &    TBK1 &     HGS &      BCR &    ULK1 &    NRIF1 &     CSF1R &  HSP90AA1 &     PELI3 &    UCHL1 &       MYH3 &     PSMD4 &  ARHGAP35 &     TBX6 &     TLR4 &     TBX5 &   PPARG &       KIT &      POLK &     TCP1 &       TCF3 &     CAMK1 &      POLI &     MAPT &     RUNX2 &     CCAR1 &   PDGFRB &     PTEN &    FANCI &                                               GCH1 &     USP2 &   RNF115 &      TNK2 &   UBE2G1 &    HSPA8 &    TRAF2 &     FYN &   HDAC6 &     UFD1L &       MYCN &     VEGFA &    PIAS4 &  ANKRD37 &   MITF &    GSC &   PSMB5 &  SNCAIP &      USP8 &     SOX2 &  SCNN1B &   ITPR1 &   PSMA7 &    GATA6 &      VPS36 &    SLC12A3 &   SOD1 &    LCK &   BCL2 &  MYD88 &   IRF8 &   SMAD3 &    VCP &    SOCS1 &  CEBPA &  DLG3 &  PER2 &   FCHO2 &   BCL3 &  IIGP1 &   GLI3 &  PAX6 &   NOS2 &  NFKBIA &   JUNB &   SMAD1 &  PSMA6 &  IRS4 &  UBE2N &  PSMB4 &   TPM1 &    AGO2 &  NKX2-5 &  NLRX1 &  HSPD1 &  CFLAR &   REG1 &  TMF1 &  NTRK1 &  CASP3 &   PKD2 &    RIPK2 &     CDH1 &  DIAPH2 &  CBLB &   MPL &  IKBKG &   PARK2 &   CDC34 &   CTTN &  PSMB2 &   MYOG &   CBL &  IRAK1 &   MSX2 &  CSNK1E &    CD79A &  TRAF6 &  SKIL &  H2-AB1 &  TP53 &    ITCH &  SDCBP &  SLC2A4 &    MDM2 &   TNKS &    B2M &   NGLY1 &  RELA &  NR5A1 &  MDM4 &  STAT5A &  SMAD2 &  EIF4EBP1 &    MCL1 &  ARNTL &    SNCA &   CASP8 &  UIMC1 &    BECN1 &  RIPK1 &  BCL2L11 &   TAB2 &  IGF1R &  TNFAIP3 &   NBR1 &  FAM175B &   VIM &   LYN &  PDCD6IP &   EGR2 &  AXIN1 &  NFE2L2 &  ATXN3 &   REV1 &  CCNE1 &  PSMA1 &  SCNN1G &     FCGR2 &    SYK &  UBE2K &   TERT &  RNF123 &    MYOD1 &  CDKN1A &  MC4R &   DNMT1 &  TAX1BP1 &  CEBPB &   FOXO3 &  NTRK2 &  SLC38A2 &  ITGA5 &  PSMA2 &  SMURF1 &   ADRM1 &  HSPB1 &  SHCBP1 &  NCSTN &  CRY1 &  DDX39B &  ARHGEF15 &     IDO1 &  GATA4 &  TAB3 &  FANCD2 &  PSMB3 &  SIRT1 &  NOTCH1 &  EGFR \\\\\n",
       "0 &    Trp53 &      Wwox &   Huwe1 &   Axin1 &    Smyd1 &   Rchy1 &      Pias2 &   Trp73 &      Pias4 &     Cdkn2a &  Pla2g2a &    Ep300 &   Ube2n &    Hipk2 &      Daxx &    Mapk8 &  Smarca4 &       Sp1 &  Smarcd1 &  Trp53bp1 &     Mdm4 &    Mdm2 &  Topors &     Ndn &    Kmt2e &   Ptk2b &    Prkdc &    Hspa1b &    Mapk14 &     Stat1 &     Ddb1 &       Nde1 &     Rps26 &    Rnf128 &     Strm &    Herc2 &   Crebbp &   Setd8 &       Apc &      Cdk2 &     Skil &     Zbtb7c &      Mcm4 &     Bard1 &     Pten &      Npm1 &     Rpl11 &    Pias1 &     Cul9 &    Park7 &                                              Gsk3b &    Ccng1 &      Ubc &    Bcl2l1 &    Sumo1 &     Tsc2 &     Rela &   Trp63 &   Sirt1 &       Mif &       Rev1 &    Twist1 &   Cdkn1a &   Brinp1 &    NaN &    NaN &     NaN &     NaN &       NaN &      NaN &     NaN &     NaN &     NaN &      NaN &        NaN &        NaN &    NaN &    NaN &    NaN &    NaN &    NaN &     NaN &    NaN &      NaN &    NaN &   NaN &   NaN &     NaN &    NaN &    NaN &    NaN &   NaN &    NaN &     NaN &    NaN &     NaN &    NaN &   NaN &    NaN &    NaN &    NaN &     NaN &     NaN &    NaN &    NaN &    NaN &    NaN &   NaN &    NaN &    NaN &    NaN &      NaN &      NaN &     NaN &   NaN &   NaN &    NaN &     NaN &     NaN &    NaN &    NaN &    NaN &   NaN &    NaN &    NaN &     NaN &      NaN &    NaN &   NaN &     NaN &   NaN &     NaN &    NaN &     NaN &     NaN &    NaN &    NaN &     NaN &   NaN &    NaN &   NaN &     NaN &    NaN &       NaN &     NaN &    NaN &     NaN &     NaN &    NaN &      NaN &    NaN &      NaN &    NaN &    NaN &      NaN &    NaN &      NaN &   NaN &   NaN &      NaN &    NaN &    NaN &     NaN &    NaN &    NaN &    NaN &    NaN &     NaN &       NaN &    NaN &    NaN &    NaN &     NaN &      NaN &     NaN &   NaN &     NaN &      NaN &    NaN &     NaN &    NaN &      NaN &    NaN &    NaN &     NaN &     NaN &    NaN &     NaN &    NaN &   NaN &     NaN &       NaN &      NaN &    NaN &   NaN &     NaN &    NaN &    NaN &     NaN &   NaN \\\\\n",
       "0 &    Traf6 &  Tnfrsf19 &    Ngfr &    Dok3 &   Zfp110 &     Src &      Eda2r &    Irf8 &  Tnfrsf11a &       Mavs &     Akt1 &   Ptpn11 &   Prkcz &    Arrb1 &     Becn1 &    Ripk2 &   Map3k3 &     Ecsit &    Nr0b2 &      Irf7 &    Ptpn6 &  Map3k7 &   Irak1 &   Rnf41 &   Ticam1 &     Syk &     Cyld &  Traf3ip2 &      Wwp1 &     Nlrx1 &    Itgb1 &       Itch &    Trafd1 &   Plekho1 &   Il17rb &  Tax1bp1 &    Irak3 &   Malt1 &     Traip &    Hspa1b &    Myd88 &      Irak2 &      Tifa &     Ikbkg &   Il17ra &     Stub1 &      Cd40 &     Irf4 &     Usp4 &   Sqstm1 &                                             Rps27a &    Ripk1 &    Arrb2 &     Ntrk1 &     Ern1 &      thd &   Card11 &     Cbl &   Stk26 &     Usp25 &       Sra1 &       Ubc &  Tnfaip3 &    Rptor &   Tlr4 &   Mtor &  Il17re &   Casp8 &  Ppp1r15a &  Mapkbp1 &   Rsad2 &    Msr1 &    Fhl2 &     Irf5 &  Tnfrsf13c &  Tnfrsf13b &  Limd1 &    NaN &    NaN &    NaN &    NaN &     NaN &    NaN &      NaN &    NaN &   NaN &   NaN &     NaN &    NaN &    NaN &    NaN &   NaN &    NaN &     NaN &    NaN &     NaN &    NaN &   NaN &    NaN &    NaN &    NaN &     NaN &     NaN &    NaN &    NaN &    NaN &    NaN &   NaN &    NaN &    NaN &    NaN &      NaN &      NaN &     NaN &   NaN &   NaN &    NaN &     NaN &     NaN &    NaN &    NaN &    NaN &   NaN &    NaN &    NaN &     NaN &      NaN &    NaN &   NaN &     NaN &   NaN &     NaN &    NaN &     NaN &     NaN &    NaN &    NaN &     NaN &   NaN &    NaN &   NaN &     NaN &    NaN &       NaN &     NaN &    NaN &     NaN &     NaN &    NaN &      NaN &    NaN &      NaN &    NaN &    NaN &      NaN &    NaN &      NaN &   NaN &   NaN &      NaN &    NaN &    NaN &     NaN &    NaN &    NaN &    NaN &    NaN &     NaN &       NaN &    NaN &    NaN &    NaN &     NaN &      NaN &     NaN &   NaN &     NaN &      NaN &    NaN &     NaN &    NaN &      NaN &    NaN &    NaN &     NaN &     NaN &    NaN &     NaN &    NaN &   NaN &     NaN &       NaN &      NaN &    NaN &   NaN &     NaN &    NaN &    NaN &     NaN &   NaN \\\\\n",
       "0 &  SMARCA4 &     KDM4B &  ARID1B &  ARID1A &  SMARCC2 &  NKX2-1 &     HNRNPU &   WHSC1 &      KDM6B &    SMARCB1 &     E2F1 &    MYSM1 &  NKX2-5 &    GATA1 &      SIX1 &     CDX2 &  RPS6KA5 &    POLR2A &      RB1 &    CTNNB1 &    NANOG &     NF1 &   FOXA2 &   KDM6A &    CREB1 &   BRWD1 &      MYC &   SMARCC1 &     H2AFZ &     MYOD1 &     KLF4 &       ADD1 &      MYOG &     TBX21 &    STAT6 &    KDM4C &   ACTL6B &   OLIG2 &      TBX5 &   SMARCE1 &     ETS2 &      NR1H4 &      TP53 &      SS18 &    KDM4A &       YY1 &     GATA4 &     PAX6 &  SMARCD2 &  SMARCD3 &                                               EYA1 &   ACTL6A &    PRMT5 &       NaN &      NaN &      NaN &      NaN &     NaN &     NaN &       NaN &        NaN &       NaN &      NaN &      NaN &    NaN &    NaN &     NaN &     NaN &       NaN &      NaN &     NaN &     NaN &     NaN &      NaN &        NaN &        NaN &    NaN &    NaN &    NaN &    NaN &    NaN &     NaN &    NaN &      NaN &    NaN &   NaN &   NaN &     NaN &    NaN &    NaN &    NaN &   NaN &    NaN &     NaN &    NaN &     NaN &    NaN &   NaN &    NaN &    NaN &    NaN &     NaN &     NaN &    NaN &    NaN &    NaN &    NaN &   NaN &    NaN &    NaN &    NaN &      NaN &      NaN &     NaN &   NaN &   NaN &    NaN &     NaN &     NaN &    NaN &    NaN &    NaN &   NaN &    NaN &    NaN &     NaN &      NaN &    NaN &   NaN &     NaN &   NaN &     NaN &    NaN &     NaN &     NaN &    NaN &    NaN &     NaN &   NaN &    NaN &   NaN &     NaN &    NaN &       NaN &     NaN &    NaN &     NaN &     NaN &    NaN &      NaN &    NaN &      NaN &    NaN &    NaN &      NaN &    NaN &      NaN &   NaN &   NaN &      NaN &    NaN &    NaN &     NaN &    NaN &    NaN &    NaN &    NaN &     NaN &       NaN &    NaN &    NaN &    NaN &     NaN &      NaN &     NaN &   NaN &     NaN &      NaN &    NaN &     NaN &    NaN &      NaN &    NaN &    NaN &     NaN &     NaN &    NaN &     NaN &    NaN &   NaN &     NaN &       NaN &      NaN &    NaN &   NaN &     NaN &    NaN &    NaN &     NaN &   NaN \\\\\n",
       "0 &   Crebbp &     Gpbp1 &   Pcmt1 &   Traf3 &   Nfe2l2 &  Cited4 &       Tp53 &   Kat2a &       Ets1 &       Rxrg &     Ets2 &    Prkcz &   Foxo4 &    Hnf1b &  Hist3h2a &    Stat6 &      Lyn &     Gabpa &      Maf &     Cse1l &    Arntl &   Wwtr1 &   Myod1 &   Creb1 &     Chuk &  Ifnar2 &    Kat2b &     Gtf2b &       Myb &     Nup93 &  Rps6ka3 &    Khdrbs1 &    Ctnnb1 &       Csk &    Clock &   Arntl2 &      Wt1 &    Pten &      Mitf &      Hes1 &  Sertad2 &      Hoxa9 &      Spi1 &   Sertad3 &  Sertad1 &      Matk &      Rela &    Trp53 &    Hoxd4 &   Trim28 &                                              Ncoa3 &     E2f1 &    Socs1 &     Gata1 &      NaN &      NaN &      NaN &     NaN &     NaN &       NaN &        NaN &       NaN &      NaN &      NaN &    NaN &    NaN &     NaN &     NaN &       NaN &      NaN &     NaN &     NaN &     NaN &      NaN &        NaN &        NaN &    NaN &    NaN &    NaN &    NaN &    NaN &     NaN &    NaN &      NaN &    NaN &   NaN &   NaN &     NaN &    NaN &    NaN &    NaN &   NaN &    NaN &     NaN &    NaN &     NaN &    NaN &   NaN &    NaN &    NaN &    NaN &     NaN &     NaN &    NaN &    NaN &    NaN &    NaN &   NaN &    NaN &    NaN &    NaN &      NaN &      NaN &     NaN &   NaN &   NaN &    NaN &     NaN &     NaN &    NaN &    NaN &    NaN &   NaN &    NaN &    NaN &     NaN &      NaN &    NaN &   NaN &     NaN &   NaN &     NaN &    NaN &     NaN &     NaN &    NaN &    NaN &     NaN &   NaN &    NaN &   NaN &     NaN &    NaN &       NaN &     NaN &    NaN &     NaN &     NaN &    NaN &      NaN &    NaN &      NaN &    NaN &    NaN &      NaN &    NaN &      NaN &   NaN &   NaN &      NaN &    NaN &    NaN &     NaN &    NaN &    NaN &    NaN &    NaN &     NaN &       NaN &    NaN &    NaN &    NaN &     NaN &      NaN &     NaN &   NaN &     NaN &      NaN &    NaN &     NaN &    NaN &      NaN &    NaN &    NaN &     NaN &     NaN &    NaN &     NaN &    NaN &   NaN &     NaN &       NaN &      NaN &    NaN &   NaN &     NaN &    NaN &    NaN &     NaN &   NaN \\\\\n",
       "0 &    Foxp3 &     Runx3 &    Tet2 &  Dnmt3b &    Sin3a &   Igsf3 &       Npr1 &    Egr1 &      Ep300 &       Ets1 &    Med12 &     Cbx1 &     Tbp &     Ifng &     Tgfb1 &    Foxo1 &    Pparg &       Sp1 &    Stat6 &    Hspa1a &     Klf2 &   Smad3 &  Tfap2a &   Gata3 &     Mbd2 &    Rorc &    Hdac7 &      Kat5 &    Hspa1b &     Kat2b &      Il2 &      Creb1 &     Nipbl &     Ikzf4 &    Stub1 &     Irf4 &    Foxo3 &  Nfatc2 &  Hist1h4h &     Klf14 &     Irf1 &      Runx2 &      Tcf3 &     Nfkb1 &    Mecp2 &     Ctla4 &     Stat3 &   Ptpn22 &      Il6 &   Nfatc1 &                                               Tet1 &      Rel &   Dnmt3a &     Runx1 &    Uba52 &    Dnmt1 &  Suv39h1 &   Klf10 &   Ikzf2 &      Cbx3 &      Cd101 &      Ezh2 &   Bcl11b &      NaN &    NaN &    NaN &     NaN &     NaN &       NaN &      NaN &     NaN &     NaN &     NaN &      NaN &        NaN &        NaN &    NaN &    NaN &    NaN &    NaN &    NaN &     NaN &    NaN &      NaN &    NaN &   NaN &   NaN &     NaN &    NaN &    NaN &    NaN &   NaN &    NaN &     NaN &    NaN &     NaN &    NaN &   NaN &    NaN &    NaN &    NaN &     NaN &     NaN &    NaN &    NaN &    NaN &    NaN &   NaN &    NaN &    NaN &    NaN &      NaN &      NaN &     NaN &   NaN &   NaN &    NaN &     NaN &     NaN &    NaN &    NaN &    NaN &   NaN &    NaN &    NaN &     NaN &      NaN &    NaN &   NaN &     NaN &   NaN &     NaN &    NaN &     NaN &     NaN &    NaN &    NaN &     NaN &   NaN &    NaN &   NaN &     NaN &    NaN &       NaN &     NaN &    NaN &     NaN &     NaN &    NaN &      NaN &    NaN &      NaN &    NaN &    NaN &      NaN &    NaN &      NaN &   NaN &   NaN &      NaN &    NaN &    NaN &     NaN &    NaN &    NaN &    NaN &    NaN &     NaN &       NaN &    NaN &    NaN &    NaN &     NaN &      NaN &     NaN &   NaN &     NaN &      NaN &    NaN &     NaN &    NaN &      NaN &    NaN &    NaN &     NaN &     NaN &    NaN &     NaN &    NaN &   NaN &     NaN &       NaN &      NaN &    NaN &   NaN &     NaN &    NaN &    NaN &     NaN &   NaN \\\\\n",
       "0 &    Ep300 &     Pitx2 &    Rarb &    Usf1 &    Nr1h4 &  Pik3r1 &      Nupr1 &   Kat2a &      Stat2 &       Tp53 &    Il17a &     Epc1 &   Ncoa3 &     Etv4 &  Hist3h2a &      Yy1 &    Hif1a &      Rarg &     Mdm2 &     Arntl &    Myod1 &   Foxp3 &   Creb1 &   Kat2b &   Ifnar2 &  Ctnnb1 &    Cebpa &     Foxo3 &    Ifnar1 &     Tcf12 &   Arntl2 &      Snip1 &     Mecp2 &     Nr1h3 &    Il17f &     Rara &     Ubtf &    Chd4 &    Nfatc1 &      Irf3 &    Myocd &       Spi1 &     Gata4 &     Runx1 &     Rela &     Trp53 &      Xbp1 &    Sirt1 &    Cebpb &     Atf2 &                                             Zbtb7b &   Bcl11b &    Ncoa1 &       NaN &      NaN &      NaN &      NaN &     NaN &     NaN &       NaN &        NaN &       NaN &      NaN &      NaN &    NaN &    NaN &     NaN &     NaN &       NaN &      NaN &     NaN &     NaN &     NaN &      NaN &        NaN &        NaN &    NaN &    NaN &    NaN &    NaN &    NaN &     NaN &    NaN &      NaN &    NaN &   NaN &   NaN &     NaN &    NaN &    NaN &    NaN &   NaN &    NaN &     NaN &    NaN &     NaN &    NaN &   NaN &    NaN &    NaN &    NaN &     NaN &     NaN &    NaN &    NaN &    NaN &    NaN &   NaN &    NaN &    NaN &    NaN &      NaN &      NaN &     NaN &   NaN &   NaN &    NaN &     NaN &     NaN &    NaN &    NaN &    NaN &   NaN &    NaN &    NaN &     NaN &      NaN &    NaN &   NaN &     NaN &   NaN &     NaN &    NaN &     NaN &     NaN &    NaN &    NaN &     NaN &   NaN &    NaN &   NaN &     NaN &    NaN &       NaN &     NaN &    NaN &     NaN &     NaN &    NaN &      NaN &    NaN &      NaN &    NaN &    NaN &      NaN &    NaN &      NaN &   NaN &   NaN &      NaN &    NaN &    NaN &     NaN &    NaN &    NaN &    NaN &    NaN &     NaN &       NaN &    NaN &    NaN &    NaN &     NaN &      NaN &     NaN &   NaN &     NaN &      NaN &    NaN &     NaN &    NaN &      NaN &    NaN &    NaN &     NaN &     NaN &    NaN &     NaN &    NaN &   NaN &     NaN &       NaN &      NaN &    NaN &   NaN &     NaN &    NaN &    NaN &     NaN &   NaN \\\\\n",
       "0 &      Ubc &   Slc12a3 &   Ccne1 &     Vcp &  Fam175b &    Tnks &        Bid &   Ripk2 &     Notch1 &       Msx2 &    Irak1 &    Pparg &    Cblb &     Mdm2 &     Traf2 &    Cdc34 &    Myod1 &  Eif4ebp1 &    Fcho2 &     Stat1 &    Ntrk1 &   Parp1 &   Ube2k &  Rnf115 &     Gli3 &    Mc4r &    Peli1 &    Nfatc1 &    Smurf1 &     Cflar &    Casp8 &        Bax &  Arhgef15 &    Filip1 &      Mpl &     Ido1 &    Socs1 &  Trim32 &     Ngly1 &      Irf8 &    Itga5 &      Traf6 &    Sncaip &    Nfe2l2 &    Gata6 &     Psmb2 &      Bcl3 &   Scnn1g &    Hspb1 &   Tardbp &                                               Ulk1 &      Jun &      Ski &     Iigp1 &     Mdm4 &      B2m &      Lyn &  Ddx39b &    Polk &      Cdh1 &      Fanci &  Hsp90aa1 &    Ikbkg &    Cebpa &   Reg1 &  Diap2 &    Tert &   Cd79a &      Bcl2 &     Egr2 &  Fancd2 &   Csf1r &     Fos &    Casp3 &       Mitf &       Myog &   Sox2 &  Psmd4 &   Sod1 &   Tbk1 &  Uchl1 &   Psmb5 &  Trp53 &     Gch1 &  Cebpb &  Irf5 &  Rev1 &  Cdkn1a &  Dusp1 &   Gli2 &  Axin1 &  Snca &  Ncstn &  H2-Ab1 &  Pias4 &  Shcbp1 &   Mapt &  Cttn &    Bcr &  Nr3c2 &  Psmb3 &  Ube2g1 &   Hdac6 &  Psma6 &  Uimc1 &    Syk &  Keap1 &  Egfr &  Vegfa &  Smad3 &  Nlrx1 &  Tax1bp1 &  Slc38a2 &   Psma7 &  Poli &  Pax6 &  Nr5a1 &  Sqstm1 &  Stat5a &  Runx2 &   Myh3 &  Atxn3 &  Tbx6 &   Pten &  Psma2 &     Cbl &  Tnfaip3 &   Pkd2 &   Htt &   Psmb4 &   Hgs &  Fcgr2b &    Kit &   Ufd1l &  Trim71 &  Igf1r &  Dnmt1 &  Map3k2 &   Lck &   Nbr1 &  Usp8 &    Ngfr &  Itpr1 &     Vps36 &  Zfp110 &   Shc1 &  Scnn1b &  Pdgfrb &  Sdcbp &  Pdcd6ip &   Junb &    Stam2 &  Camk1 &  Becn1 &   Prkcsh &  Adrm1 &     Nos2 &  Tnk2 &  Tpm1 &    Peli3 &  Hif1a &  Ikbke &   Hdac5 &   Itch &  Smad2 &   Mycn &    Fyn &    Tbx5 &  Arhgap35 &  Foxo3 &  Hspd1 &  Ripk1 &    Irs4 &  Ankrd37 &   Ntrk2 &  Tcf3 &  Nkx2-5 &     Fmr1 &   Skil &  Slc2a4 &  Ccar1 &     Tmf1 &  Smad1 &   Mcl1 &    Per2 &  Nfkbia &   Tlr4 &   Gata4 &   Cd86 &   Gsc &    Rela &     Sirt1 &  Bcl2l11 &   Ago2 &   NaN &     NaN &    NaN &    NaN &     NaN &   NaN \\\\\n",
       "\\bottomrule\n",
       "\\end{tabular}\n",
       "}"
      ],
      "text/plain": [
       "       0         1       2       3        4       5          6       7    \\\n",
       "0      Src     S1pr1    Ptk2   Diap1    Bcar1   Traf6       Shc1    Akt1   \n",
       "0    HDAC1      EZH2   BRMS1    ETS1   MAD1L1   RCOR1        EED    PPIA   \n",
       "0    Hdac1     Ccne1     Sp3   Brms1     Jdp2    Pdx1      Ifrd1  Mad1l1   \n",
       "0   Pik3r1      Ptk2   Ncor1    Ank3    Klrk1    Thrb  Tnfrsf11a  Ptpn11   \n",
       "0     TP53     PIAS2   MAPK8    PIN1    UBE2N   GSK3B     ZBTB7C   RPS26   \n",
       "0      Cbl     Spta1   Sh2b2     Fgr    Zap70    Dok3        Src  Pik3r1   \n",
       "0    NANOG     MAPK1    PIN1    POGZ    WHSC1   MAPK3    SMARCA2   KDM1A   \n",
       "0   CTNNB1       HTT   MAPK8    LEF1     PIN1    TNIK      GSK3B     JUN   \n",
       "0    TRAF6    UBE2D3   UBE2N  MAP3K7   SQSTM1   RIPK1   TNFRSF19    TAB2   \n",
       "0  Smarca4   Smarcc1    Klf4     Nf1   Arid1b  Polr2a     Actl6b   Nr1h4   \n",
       "0      CBL    INPP5D    NCK1   SH2B2      FYN  PIK3CG       ABL1     UBC   \n",
       "0     DLG4    TCERG1   ASIC2   NETO1     LRP1    FZD4     SEMA4G   VAC14   \n",
       "0      UBC       BID  TARDBP     BAX      JUN  SQSTM1     TRIM71  PRKCSH   \n",
       "0    Trp53      Wwox   Huwe1   Axin1    Smyd1   Rchy1      Pias2   Trp73   \n",
       "0    Traf6  Tnfrsf19    Ngfr    Dok3   Zfp110     Src      Eda2r    Irf8   \n",
       "0  SMARCA4     KDM4B  ARID1B  ARID1A  SMARCC2  NKX2-1     HNRNPU   WHSC1   \n",
       "0   Crebbp     Gpbp1   Pcmt1   Traf3   Nfe2l2  Cited4       Tp53   Kat2a   \n",
       "0    Foxp3     Runx3    Tet2  Dnmt3b    Sin3a   Igsf3       Npr1    Egr1   \n",
       "0    Ep300     Pitx2    Rarb    Usf1    Nr1h4  Pik3r1      Nupr1   Kat2a   \n",
       "0      Ubc   Slc12a3   Ccne1     Vcp  Fam175b    Tnks        Bid   Ripk2   \n",
       "\n",
       "         8          9    ...      190       191      192    193   194     195  \\\n",
       "0    Pdcd6ip       Csn2  ...      NaN       NaN      NaN    NaN   NaN     NaN   \n",
       "0      WHSC1      HNF1B  ...      NaN       NaN      NaN    NaN   NaN     NaN   \n",
       "0      Smyd1      Kdm1a  ...      NaN       NaN      NaN    NaN   NaN     NaN   \n",
       "0      Ep300       Akt1  ...      NaN       NaN      NaN    NaN   NaN     NaN   \n",
       "0        NDN      BACH1  ...      NaN       NaN      NaN    NaN   NaN     NaN   \n",
       "0      Traf6  Tnfrsf11a  ...      NaN       NaN      NaN    NaN   NaN     NaN   \n",
       "0      ZMYM2     TRIM28  ...      NaN       NaN      NaN    NaN   NaN     NaN   \n",
       "0     CTNNA1     KIFAP3  ...      NaN       NaN      NaN    NaN   NaN     NaN   \n",
       "0      MYSM1        UBC  ...      NaN       NaN      NaN    NaN   NaN     NaN   \n",
       "0      Hdac3     Nkx2-1  ...      NaN       NaN      NaN    NaN   NaN     NaN   \n",
       "0       GRB2       DLG1  ...      NaN       NaN      NaN    NaN   NaN     NaN   \n",
       "0       MAP2     PCDH10  ...      NaN       NaN      NaN    NaN   NaN     NaN   \n",
       "0      IKBKE      MYSM1  ...   DDX39B  ARHGEF15     IDO1  GATA4  TAB3  FANCD2   \n",
       "0      Pias4     Cdkn2a  ...      NaN       NaN      NaN    NaN   NaN     NaN   \n",
       "0  Tnfrsf11a       Mavs  ...      NaN       NaN      NaN    NaN   NaN     NaN   \n",
       "0      KDM6B    SMARCB1  ...      NaN       NaN      NaN    NaN   NaN     NaN   \n",
       "0       Ets1       Rxrg  ...      NaN       NaN      NaN    NaN   NaN     NaN   \n",
       "0      Ep300       Ets1  ...      NaN       NaN      NaN    NaN   NaN     NaN   \n",
       "0      Stat2       Tp53  ...      NaN       NaN      NaN    NaN   NaN     NaN   \n",
       "0     Notch1       Msx2  ...     Rela     Sirt1  Bcl2l11   Ago2   NaN     NaN   \n",
       "\n",
       "     196    197     198   199  \n",
       "0    NaN    NaN     NaN   NaN  \n",
       "0    NaN    NaN     NaN   NaN  \n",
       "0    NaN    NaN     NaN   NaN  \n",
       "0    NaN    NaN     NaN   NaN  \n",
       "0    NaN    NaN     NaN   NaN  \n",
       "0    NaN    NaN     NaN   NaN  \n",
       "0    NaN    NaN     NaN   NaN  \n",
       "0    NaN    NaN     NaN   NaN  \n",
       "0    NaN    NaN     NaN   NaN  \n",
       "0    NaN    NaN     NaN   NaN  \n",
       "0    NaN    NaN     NaN   NaN  \n",
       "0    NaN    NaN     NaN   NaN  \n",
       "0  PSMB3  SIRT1  NOTCH1  EGFR  \n",
       "0    NaN    NaN     NaN   NaN  \n",
       "0    NaN    NaN     NaN   NaN  \n",
       "0    NaN    NaN     NaN   NaN  \n",
       "0    NaN    NaN     NaN   NaN  \n",
       "0    NaN    NaN     NaN   NaN  \n",
       "0    NaN    NaN     NaN   NaN  \n",
       "0    NaN    NaN     NaN   NaN  \n",
       "\n",
       "[20 rows x 200 columns]"
      ]
     },
     "execution_count": 109,
     "metadata": {},
     "output_type": "execute_result"
    }
   ],
   "source": [
    "lib.head(20)"
   ]
  },
  {
   "cell_type": "code",
   "execution_count": 220,
   "metadata": {},
   "outputs": [
    {
     "data": {
      "text/plain": [
       "(392, 589)"
      ]
     },
     "execution_count": 220,
     "metadata": {},
     "output_type": "execute_result"
    }
   ],
   "source": [
    "lib.shape"
   ]
  },
  {
   "cell_type": "markdown",
   "metadata": {},
   "source": [
    "## Protein Count"
   ]
  },
  {
   "cell_type": "code",
   "execution_count": 4,
   "metadata": {},
   "outputs": [],
   "source": [
    "mint_df = pd.read_csv('/Users/moshesilverstein/Documents/Harmonizome/PPI Library/Output/IndividualResources/Filtered/ppi_network_mint_mouse_filtered_2017_02_15.tsv', sep='\\t')\n",
    "biogrid_df = pd.read_csv('/Users/moshesilverstein/Documents/Harmonizome/PPI Library/Output/IndividualResources/Filtered/ppi_network_biogrid_mouse_filtered_2017_02_15.tsv', sep='\\t')\n",
    "innatedb_df = pd.read_csv('/Users/moshesilverstein/Documents/Harmonizome/PPI Library/Output/IndividualResources/Filtered/ppi_network_innatedb_mouse_filtered_2017_02_15.tsv', sep='\\t')\n",
    "dip_df = pd.read_csv('/Users/moshesilverstein/Documents/Harmonizome/PPI Library/Output/IndividualResources/Filtered/ppi_network_dip_mouse_filtered_2017_02_15.tsv', sep='\\t')\n",
    "mentha_df = pd.read_csv('/Users/moshesilverstein/Documents/Harmonizome/PPI Library/Output/IndividualResources/Filtered/ppi_network_mentha_mouse_filtered_2017_02_15.tsv', sep='\\t')\n",
    "intact_df = pd.read_csv('/Users/moshesilverstein/Documents/Harmonizome/PPI Library/Output/IndividualResources/Filtered/ppi_network_intact_mouse_filtered_2017_02_15.tsv', sep='\\t')"
   ]
  },
  {
   "cell_type": "code",
   "execution_count": 5,
   "metadata": {},
   "outputs": [
    {
     "data": {
      "text/plain": [
       "1232"
      ]
     },
     "execution_count": 5,
     "metadata": {},
     "output_type": "execute_result"
    }
   ],
   "source": [
    "len(set(mint_df['Protein A (gene name)'].tolist()+mint_df['Protein B (gene name)'].tolist()))"
   ]
  },
  {
   "cell_type": "code",
   "execution_count": 6,
   "metadata": {},
   "outputs": [
    {
     "data": {
      "text/plain": [
       "3100"
      ]
     },
     "execution_count": 6,
     "metadata": {},
     "output_type": "execute_result"
    }
   ],
   "source": [
    "len(set(biogrid_df['Protein A (gene name)'].tolist()+biogrid_df['Protein B (gene name)'].tolist()))"
   ]
  },
  {
   "cell_type": "code",
   "execution_count": 7,
   "metadata": {},
   "outputs": [
    {
     "data": {
      "text/plain": [
       "1011"
      ]
     },
     "execution_count": 7,
     "metadata": {},
     "output_type": "execute_result"
    }
   ],
   "source": [
    "len(set(innatedb_df['Protein A (gene name)'].tolist()+innatedb_df['Protein B (gene name)'].tolist()))"
   ]
  },
  {
   "cell_type": "code",
   "execution_count": 8,
   "metadata": {},
   "outputs": [
    {
     "data": {
      "text/plain": [
       "1135"
      ]
     },
     "execution_count": 8,
     "metadata": {},
     "output_type": "execute_result"
    }
   ],
   "source": [
    "len(set(dip_df['Protein A (gene name)'].tolist()+dip_df['Protein B (gene name)'].tolist()))"
   ]
  },
  {
   "cell_type": "code",
   "execution_count": 9,
   "metadata": {},
   "outputs": [
    {
     "data": {
      "text/plain": [
       "3901"
      ]
     },
     "execution_count": 9,
     "metadata": {},
     "output_type": "execute_result"
    }
   ],
   "source": [
    "len(set(mentha_df['Protein A (gene name)'].tolist()+mentha_df['Protein B (gene name)'].tolist()))"
   ]
  },
  {
   "cell_type": "code",
   "execution_count": 10,
   "metadata": {},
   "outputs": [
    {
     "data": {
      "text/plain": [
       "2352"
      ]
     },
     "execution_count": 10,
     "metadata": {},
     "output_type": "execute_result"
    }
   ],
   "source": [
    "len(set(intact_df['Protein A (gene name)'].tolist()+intact_df['Protein B (gene name)'].tolist()))"
   ]
  },
  {
   "cell_type": "code",
   "execution_count": null,
   "metadata": {
    "collapsed": true
   },
   "outputs": [],
   "source": []
  }
 ],
 "metadata": {
  "anaconda-cloud": {},
  "kernelspec": {
   "display_name": "Python [conda root]",
   "language": "python",
   "name": "conda-root-py"
  },
  "language_info": {
   "codemirror_mode": {
    "name": "ipython",
    "version": 3
   },
   "file_extension": ".py",
   "mimetype": "text/x-python",
   "name": "python",
   "nbconvert_exporter": "python",
   "pygments_lexer": "ipython3",
   "version": "3.5.2"
  }
 },
 "nbformat": 4,
 "nbformat_minor": 2
}
