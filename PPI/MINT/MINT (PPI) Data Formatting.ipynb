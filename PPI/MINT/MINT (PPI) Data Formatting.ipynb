{
 "cells": [
  {
   "cell_type": "markdown",
   "metadata": {},
   "source": [
    "# MINT Data Formatting (PPI) to SIG and GMT"
   ]
  },
  {
   "cell_type": "markdown",
   "metadata": {},
   "source": [
    "# Formatting Data of Human Samples"
   ]
  },
  {
   "cell_type": "code",
   "execution_count": null,
   "metadata": {
    "collapsed": true
   },
   "outputs": [],
   "source": [
    "import numpy as np \n",
    "import pandas as pd\n",
    "import urllib.request \n",
    "import requests, io\n",
    "import urllib, re, string\n",
    "import sys, datetime"
   ]
  },
  {
   "cell_type": "code",
   "execution_count": null,
   "metadata": {
    "collapsed": true
   },
   "outputs": [],
   "source": [
    "pd.set_option('display.notebook_repr_html', True)\n",
    "\n",
    "def _repr_latex_(self):\n",
    "    return \"\\centering{%s}\" % self.to_latex()\n",
    "\n",
    "pd.DataFrame._repr_latex_ = _repr_latex_  # monkey patch pandas DataFrame"
   ]
  },
  {
   "cell_type": "code",
   "execution_count": null,
   "metadata": {
    "collapsed": true
   },
   "outputs": [],
   "source": [
    "def concatliketerms(df):\n",
    "    \n",
    "    df.sort_values(by=['Protein A (gene name)', 'Protein B (gene name)'], inplace=True)    \n",
    "    df.reset_index(inplace=True)\n",
    "    df.drop('index', axis=1, inplace=True)\n",
    "    oldSize = df.shape\n",
    "    newSize = 0\n",
    "    j = 1\n",
    "    while oldSize != newSize:\n",
    "        df.reset_index(inplace=True)\n",
    "        df.drop('index', axis=1, inplace=True)\n",
    "        df.sort_values(by=['Protein A (gene name)', 'Protein B (gene name)'], inplace=True) \n",
    "        # concattonate like terms and remove duplicates\n",
    "        i = 1\n",
    "        end = len(df.index)-1\n",
    "        for index in df.index:\n",
    "            if i % 1000 == 0:\n",
    "                print('\\r', 'Loop '+ str(j)+': ' +str(i)+' Out of '+ str(len(df.index)), end=' ', flush=True)\n",
    "            if index in df.index.values and index != end:\n",
    "                if df.ix[index, 'Protein A (gene name)'] == df.ix[index+1, 'Protein A (gene name)']:\n",
    "                    if df.ix[index, 'Protein B (gene name)'] == df.ix[index+1, 'Protein B (gene name)']:\n",
    "                        df.ix[index, 'PubMed ID'] = str(df.ix[index, 'PubMed ID']) +'|'+str(df.ix[index+1, 'PubMed ID'])\n",
    "                        df.ix[index, 'Source databases'] = df.ix[index, 'Source databases'] +'|'+df.ix[index+1, 'Source databases']\n",
    "                        df.drop(index+1, axis=0, inplace=True)\n",
    "                        \n",
    "            i += 1\n",
    "        j += 1\n",
    "        oldSize = newSize\n",
    "        newSize = df.shape"
   ]
  },
  {
   "cell_type": "code",
   "execution_count": null,
   "metadata": {
    "collapsed": true
   },
   "outputs": [],
   "source": [
    "# column identifiers for initial data (as taken from respective metadata)\n",
    "col_name = ['Unique identifier for interactor A',\n",
    "      'Unique identifier for interactor B',\n",
    "      'Alternative identifier for interactor A',\n",
    "      'Alternative identifier for interactor B',\n",
    "      'Protein A (gene name)',\n",
    "      'Protein B (gene name)',\n",
    "      'Interaction detection methods',\n",
    "      'First author',\n",
    "      'PubMed ID',\n",
    "      'NCBI Taxonomy identifier for interactor A',\n",
    "      'NCBI Taxonomy identifier for interactor B',\n",
    "      'Interaction types',\n",
    "      'Source databases', \n",
    "      'Interaction identifier(s)',\n",
    "      'Confidence score']"
   ]
  },
  {
   "cell_type": "code",
   "execution_count": null,
   "metadata": {
    "collapsed": true
   },
   "outputs": [],
   "source": [
    "##read in data from Mint and write to file (only needs to be proformed once)\n",
    "# content=urllib.request.urlopen('https://urldefense.proofpoint.com/v2/url?u=http-3A__mint.bio.uniroma2.it_mitab_MINT-5FMiTab.txt&d=DwIGAg&c=shNJtf5dKgNcPZ6Yh64b-A&r=FzzxHcpcdpeEl2SeS4RngXJfR5R4cEV8N2xULwaH8LE&m=H47AkOYhsWJidY3BTdZQzbIarlSka87imDJ8Qn9e6GY&s=Bv-GMiHdQIC4fRHi4JERcK71UMdrk1EvTGoRMpquPiM&e= ') \n",
    "\n",
    "# target = open('mint.tsv', 'wb')\n",
    "# for line in content:\n",
    "#     target.write(line)\n",
    "# target.close()"
   ]
  },
  {
   "cell_type": "code",
   "execution_count": null,
   "metadata": {
    "collapsed": true
   },
   "outputs": [],
   "source": [
    "mint_df = pd.read_csv('/Users/moshesilverstein/Desktop/PPI Library/Input/mint.tsv', sep='\\t', index_col=False, header=None)"
   ]
  },
  {
   "cell_type": "code",
   "execution_count": null,
   "metadata": {
    "collapsed": true
   },
   "outputs": [],
   "source": [
    "# assign names to columns from meta data\n",
    "for i in np.arange(len(col_name)):\n",
    "    mint_df.rename(columns={i:col_name[i]}, inplace=True)"
   ]
  },
  {
   "cell_type": "code",
   "execution_count": null,
   "metadata": {
    "collapsed": true
   },
   "outputs": [],
   "source": [
    "# get only human (or mouse) data (first protein)\n",
    "n = mint_df['Protein A (gene name)'].values\n",
    "b = [i for i,item in enumerate(n) if \"human\" in item]\n",
    "mint_df = mint_df.ix[b]"
   ]
  },
  {
   "cell_type": "code",
   "execution_count": null,
   "metadata": {
    "collapsed": true
   },
   "outputs": [],
   "source": [
    "mint_df =  mint_df.reset_index().drop('index', axis=1)\n",
    "\n",
    "# get only human (or mouse) data (second protein)\n",
    "n = mint_df['Protein B (gene name)'].values\n",
    "b = [i for i,item in enumerate(n) if \"human\" in item]\n",
    "mint_df = mint_df.ix[b]"
   ]
  },
  {
   "cell_type": "code",
   "execution_count": null,
   "metadata": {
    "collapsed": true
   },
   "outputs": [],
   "source": [
    "# select only relevent data\n",
    "mint_df = mint_df[['Protein A (gene name)', 'Protein B (gene name)', 'PubMed ID', 'Source databases']]"
   ]
  },
  {
   "cell_type": "code",
   "execution_count": null,
   "metadata": {
    "collapsed": true
   },
   "outputs": [],
   "source": [
    "# change column one to just show gene name\n",
    "#i = 1\n",
    "lst = []\n",
    "for name in mint_df['Protein A (gene name)']:\n",
    "    #print('\\r', i, end=' ', flush=True)\n",
    "    name = str(name)\n",
    "    if '(gene name)' in name:\n",
    "        temp = name.split('|')\n",
    "        for ID in temp:\n",
    "            if '(gene name)' in ID:\n",
    "                lst.append(ID.split(':')[1].split('(')[0])\n",
    "                break\n",
    "\n",
    "    else:\n",
    "        lst.append(np.nan)\n",
    "    \n",
    "    #i += 1\n",
    "mint_df['Protein A (gene name)'] = lst"
   ]
  },
  {
   "cell_type": "code",
   "execution_count": null,
   "metadata": {
    "collapsed": true
   },
   "outputs": [],
   "source": [
    "# change column two to just show gene name\n",
    "#i = 1\n",
    "lst = []\n",
    "for name in mint_df['Protein B (gene name)']:\n",
    "    #print('\\r', i, end=' ', flush=True)\n",
    "    name = str(name)\n",
    "    if '(gene name)' in name:\n",
    "        temp = name.split('|')\n",
    "        for ID in temp:\n",
    "            if '(gene name)' in ID:\n",
    "                lst.append(ID.split(':')[1].split('(')[0])\n",
    "                break\n",
    "\n",
    "    else:\n",
    "        lst.append(np.nan)\n",
    "    \n",
    "    #i += 1\n",
    "mint_df['Protein B (gene name)'] = lst"
   ]
  },
  {
   "cell_type": "code",
   "execution_count": null,
   "metadata": {
    "collapsed": true
   },
   "outputs": [],
   "source": [
    "# drop data for which no gene name is provited (or ensamble ID)\n",
    "mint_df.dropna(how='any', inplace=True, axis=0)"
   ]
  },
  {
   "cell_type": "code",
   "execution_count": null,
   "metadata": {
    "collapsed": true
   },
   "outputs": [],
   "source": [
    "# Get Only PubMed ID for publication identifier\n",
    "lst = []\n",
    "\n",
    "for pub in mint_df['PubMed ID']:\n",
    "    pub = str(pub)\n",
    "    pub = pub.split('|')[1].split(':')[1]\n",
    "    lst.append(pub)\n",
    "mint_df['PubMed ID'] = lst"
   ]
  },
  {
   "cell_type": "code",
   "execution_count": null,
   "metadata": {
    "collapsed": true
   },
   "outputs": [],
   "source": [
    "mint_uf_df = mint_df.copy()"
   ]
  },
  {
   "cell_type": "code",
   "execution_count": null,
   "metadata": {
    "collapsed": true
   },
   "outputs": [],
   "source": [
    "concatliketerms(mint_uf_df)"
   ]
  },
  {
   "cell_type": "code",
   "execution_count": null,
   "metadata": {
    "collapsed": true
   },
   "outputs": [],
   "source": [
    "mint_uf_df.head()"
   ]
  },
  {
   "cell_type": "code",
   "execution_count": null,
   "metadata": {
    "collapsed": true
   },
   "outputs": [],
   "source": [
    "filename = '/Users/moshesilverstein/Desktop/PPI Library/Output/IndividualResources/Unfiltered/ppi_network_mint_human_unfiltered_%s.tsv'% str(datetime.date.today()).replace('-', '_')\n",
    "mint_df.to_csv(filename, sep='\\t', index=False) "
   ]
  },
  {
   "cell_type": "code",
   "execution_count": null,
   "metadata": {
    "collapsed": true
   },
   "outputs": [],
   "source": [
    "filename = '/Users/moshesilverstein/Desktop/PPI Library/Output/IndividualResources/Unfiltered/ppi_network_mint_human_unfiltered_%s.tsv.gz'% str(datetime.date.today()).replace('-', '_')\n",
    "mint_df.to_csv(filename, sep='\\t', index=False, compression='gzip') "
   ]
  },
  {
   "cell_type": "code",
   "execution_count": null,
   "metadata": {
    "collapsed": true
   },
   "outputs": [],
   "source": [
    "# drop any data that was published with more then 10 PPI's per publication\n",
    "i = 1\n",
    "lst = []\n",
    "for pub in mint_df['PubMed ID'].values:\n",
    "    print('\\r', str(i)+' Out of '+ str(len(mint_df['PubMed ID'].values)), end=' ', flush=True)\n",
    "    lst.append(mint_df[mint_df['PubMed ID'] == pub].shape[0] <= 10)\n",
    "    i +=1\n",
    "\n",
    "mint_df = mint_df[lst]"
   ]
  },
  {
   "cell_type": "code",
   "execution_count": null,
   "metadata": {
    "collapsed": true
   },
   "outputs": [],
   "source": [
    "# Drop data for which there is no PubMed ID\n",
    "lst = []\n",
    "for value in mint_df['PubMed ID']:\n",
    "    if 'unassigned' in value:\n",
    "        lst.append(True)\n",
    "    else:\n",
    "        lst.append(False)\n",
    "\n",
    "mint_df = mint_df.drop(mint_df[lst].index)"
   ]
  },
  {
   "cell_type": "code",
   "execution_count": null,
   "metadata": {
    "collapsed": true
   },
   "outputs": [],
   "source": [
    "# Drop any data missing information\n",
    "mint_df.dropna(inplace=True)"
   ]
  },
  {
   "cell_type": "code",
   "execution_count": null,
   "metadata": {
    "collapsed": true
   },
   "outputs": [],
   "source": [
    "concatliketerms(mint_df)"
   ]
  },
  {
   "cell_type": "code",
   "execution_count": null,
   "metadata": {
    "collapsed": true
   },
   "outputs": [],
   "source": [
    "mint_df.shape"
   ]
  },
  {
   "cell_type": "code",
   "execution_count": null,
   "metadata": {
    "collapsed": true
   },
   "outputs": [],
   "source": [
    "filename = '/Users/moshesilverstein/Desktop/PPI Library/Output/IndividualResources/Filtered/ppi_network_mint_human_filtered_%s.tsv'% strhttps://urldefense.proofpoint.com/v2/url?u=http-3A__-28datetime.date.today&d=DwIGAg&c=shNJtf5dKgNcPZ6Yh64b-A&r=FzzxHcpcdpeEl2SeS4RngXJfR5R4cEV8N2xULwaH8LE&m=H47AkOYhsWJidY3BTdZQzbIarlSka87imDJ8Qn9e6GY&s=0AXIrr2R1Ws2uctDrGSv2BrKSII9GfdeCfYYet-im-Y&e= ()).replace('-', '_')\n",
    "mint_df.to_csv(filename, sep='\\t', index=False) "
   ]
  },
  {
   "cell_type": "code",
   "execution_count": null,
   "metadata": {
    "collapsed": true
   },
   "outputs": [],
   "source": [
    "filename = '/Users/moshesilverstein/Desktop/PPI Library/Output/IndividualResources/Filtered/ppi_network_mint_human_filtered_%s.tsv.gz'% strhttps://urldefense.proofpoint.com/v2/url?u=http-3A__-28datetime.date.today&d=DwIGAg&c=shNJtf5dKgNcPZ6Yh64b-A&r=FzzxHcpcdpeEl2SeS4RngXJfR5R4cEV8N2xULwaH8LE&m=H47AkOYhsWJidY3BTdZQzbIarlSka87imDJ8Qn9e6GY&s=0AXIrr2R1Ws2uctDrGSv2BrKSII9GfdeCfYYet-im-Y&e= ()).replace('-', '_')\n",
    "mint_df.to_csv(filename, sep='\\t', index=False, compression='gzip') "
   ]
  },
  {
   "cell_type": "markdown",
   "metadata": {},
   "source": [
    "# Formatting Data of Mouse Samples"
   ]
  },
  {
   "cell_type": "code",
   "execution_count": null,
   "metadata": {
    "collapsed": true
   },
   "outputs": [],
   "source": [
    "mint_df = pd.read_csv('/Users/moshesilverstein/Desktop/PPI Library/Input/mint.tsv', sep='\\t', index_col=False, header=None)"
   ]
  },
  {
   "cell_type": "code",
   "execution_count": null,
   "metadata": {
    "collapsed": true
   },
   "outputs": [],
   "source": [
    "# assign names to columns from meta data\n",
    "for i in np.arange(len(col_name)):\n",
    "    mint_df.rename(columns={i:col_name[i]}, inplace=True)"
   ]
  },
  {
   "cell_type": "code",
   "execution_count": null,
   "metadata": {
    "collapsed": true
   },
   "outputs": [],
   "source": [
    "# get only human (or mouse) data\n",
    "n = mint_df['Protein A (gene name)'].values\n",
    "b = [i for i,item in enumerate(n) if \"mouse\" in item]\n",
    "mint_df = mint_df.ix[b]"
   ]
  },
  {
   "cell_type": "code",
   "execution_count": null,
   "metadata": {
    "collapsed": true
   },
   "outputs": [],
   "source": [
    "mint_df =  mint_df.reset_index().drop('index', axis=1)\n",
    "\n",
    "# get only human (or mouse) data\n",
    "n = mint_df['Protein B (gene name)'].values\n",
    "b = [i for i,item in enumerate(n) if \"mouse\" in item]\n",
    "mint_df = mint_df.ix[b]"
   ]
  },
  {
   "cell_type": "code",
   "execution_count": null,
   "metadata": {
    "collapsed": true
   },
   "outputs": [],
   "source": [
    "# select only relevent data\n",
    "mint_df = mint_df[['Protein A (gene name)', 'Protein B (gene name)', 'PubMed ID', 'Source databases']]"
   ]
  },
  {
   "cell_type": "code",
   "execution_count": null,
   "metadata": {
    "collapsed": true
   },
   "outputs": [],
   "source": [
    "# change column one to just show gene name\n",
    "#i = 1\n",
    "lst = []\n",
    "for name in mint_df['Protein A (gene name)']:\n",
    "    #print('\\r', i, end=' ', flush=True)\n",
    "    name = str(name)\n",
    "    if '(gene name)' in name:\n",
    "        temp = name.split('|')\n",
    "        for ID in temp:\n",
    "            if '(gene name)' in ID:\n",
    "                lst.append(ID.split(':')[1].split('(')[0])\n",
    "                break\n",
    "\n",
    "    else:\n",
    "        lst.append(np.nan)\n",
    "    \n",
    "    #i += 1\n",
    "mint_df['Protein A (gene name)'] = lst"
   ]
  },
  {
   "cell_type": "code",
   "execution_count": null,
   "metadata": {
    "collapsed": true
   },
   "outputs": [],
   "source": [
    "# change column two to just show gene name\n",
    "#i = 1\n",
    "lst = []\n",
    "for name in mint_df['Protein B (gene name)']:\n",
    "    #print('\\r', i, end=' ', flush=True)\n",
    "    name = str(name)\n",
    "    if '(gene name)' in name:\n",
    "        temp = name.split('|')\n",
    "        for ID in temp:\n",
    "            if '(gene name)' in ID:\n",
    "                lst.append(ID.split(':')[1].split('(')[0])\n",
    "                break\n",
    "\n",
    "    else:\n",
    "        lst.append(np.nan)\n",
    "    \n",
    "    #i += 1\n",
    "mint_df['Protein B (gene name)'] = lst"
   ]
  },
  {
   "cell_type": "code",
   "execution_count": null,
   "metadata": {
    "collapsed": true
   },
   "outputs": [],
   "source": [
    "# drop data for which no gene name is provited (or ensamble ID)\n",
    "mint_df.dropna(how='any', inplace=True, axis=0)"
   ]
  },
  {
   "cell_type": "code",
   "execution_count": null,
   "metadata": {
    "collapsed": true
   },
   "outputs": [],
   "source": [
    "lst = []\n",
    "\n",
    "for pub in mint_df['PubMed ID']:\n",
    "    pub = str(pub)\n",
    "    pub = pub.split('|')[1].split(':')[1]\n",
    "    lst.append(pub)\n",
    "mint_df['PubMed ID'] = lst"
   ]
  },
  {
   "cell_type": "code",
   "execution_count": null,
   "metadata": {
    "collapsed": true
   },
   "outputs": [],
   "source": [
    "mint_df.drop_duplicates(inplace=True)"
   ]
  },
  {
   "cell_type": "code",
   "execution_count": null,
   "metadata": {
    "collapsed": true
   },
   "outputs": [],
   "source": [
    "mint_uf_df = mint_df.copy()"
   ]
  },
  {
   "cell_type": "code",
   "execution_count": null,
   "metadata": {
    "collapsed": true
   },
   "outputs": [],
   "source": [
    "concatliketerms(mint_uf_df)"
   ]
  },
  {
   "cell_type": "code",
   "execution_count": null,
   "metadata": {
    "collapsed": true
   },
   "outputs": [],
   "source": [
    "filename = '/Users/moshesilverstein/Desktop/PPI Library/Output/IndividualResources/Unfiltered/ppi_network_mint_mouse_unfiltered_%s.tsv'% str(datetime.date.today()).replace('-', '_')\n",
    "mint_df.to_csv(filename, sep='\\t', index=False) "
   ]
  },
  {
   "cell_type": "code",
   "execution_count": null,
   "metadata": {
    "collapsed": true
   },
   "outputs": [],
   "source": [
    "filename = '/Users/moshesilverstein/Desktop/PPI Library/Output/IndividualResources/Unfiltered/ppi_network_mint_mouse_unfiltered_%s.tsv.gz'% str(datetime.date.today()).replace('-', '_')\n",
    "mint_df.to_csv(filename, sep='\\t', index=False, compression='gzip') "
   ]
  },
  {
   "cell_type": "code",
   "execution_count": null,
   "metadata": {
    "collapsed": true
   },
   "outputs": [],
   "source": [
    "# drop any data that was published with more then 10 PPI's per publication\n",
    "i = 1\n",
    "lst = []\n",
    "for pub in mint_df['PubMed ID'].values:\n",
    "    print('\\r', str(i)+' Out of '+ str(len(mint_df['PubMed ID'].values)), end=' ', flush=True)\n",
    "    lst.append(mint_df[mint_df['PubMed ID'] == pub].shape[0] <= 10)\n",
    "    i +=1\n",
    "\n",
    "mint_df = mint_df[lst]"
   ]
  },
  {
   "cell_type": "code",
   "execution_count": null,
   "metadata": {
    "collapsed": true
   },
   "outputs": [],
   "source": [
    "# Drop data for which there is no PubMed ID\n",
    "lst = []\n",
    "for value in mint_df['PubMed ID']:\n",
    "    if 'unassigned' in value:\n",
    "        lst.append(True)\n",
    "    else:\n",
    "        lst.append(False)\n",
    "\n",
    "mint_df = mint_df.drop(mint_df[lst].index)"
   ]
  },
  {
   "cell_type": "code",
   "execution_count": null,
   "metadata": {
    "collapsed": true
   },
   "outputs": [],
   "source": [
    "# Drop any data missing information\n",
    "mint_df.dropna(inplace=True)"
   ]
  },
  {
   "cell_type": "code",
   "execution_count": null,
   "metadata": {
    "collapsed": true
   },
   "outputs": [],
   "source": [
    "concatliketerms(mint_df)"
   ]
  },
  {
   "cell_type": "code",
   "execution_count": null,
   "metadata": {
    "collapsed": true
   },
   "outputs": [],
   "source": [
    "filename = '/Users/moshesilverstein/Desktop/PPI Library/Output/IndividualResources/Filtered/ppi_network_mint_mouse_filtered_%s.tsv'% strhttps://urldefense.proofpoint.com/v2/url?u=http-3A__-28datetime.date.today&d=DwIGaQ&c=shNJtf5dKgNcPZ6Yh64b-A&r=FzzxHcpcdpeEl2SeS4RngXJfR5R4cEV8N2xULwaH8LE&m=H47AkOYhsWJidY3BTdZQzbIarlSka87imDJ8Qn9e6GY&s=0AXIrr2R1Ws2uctDrGSv2BrKSII9GfdeCfYYet-im-Y&e= ()).replace('-', '_')\n",
    "mint_df.to_csv(filename, sep='\\t', index=False) "
   ]
  },
  {
   "cell_type": "code",
   "execution_count": null,
   "metadata": {
    "collapsed": true
   },
   "outputs": [],
   "source": [
    "filename = '/Users/moshesilverstein/Desktop/PPI Library/Output/IndividualResources/Filtered/ppi_network_mint_mouse_filtered_%s.tsv.gz'% strhttps://urldefense.proofpoint.com/v2/url?u=http-3A__-28datetime.date.today&d=DwIGaQ&c=shNJtf5dKgNcPZ6Yh64b-A&r=FzzxHcpcdpeEl2SeS4RngXJfR5R4cEV8N2xULwaH8LE&m=H47AkOYhsWJidY3BTdZQzbIarlSka87imDJ8Qn9e6GY&s=0AXIrr2R1Ws2uctDrGSv2BrKSII9GfdeCfYYet-im-Y&e= ()).replace('-', '_')\n",
    "mint_df.to_csv(filename, sep='\\t', index=False, compression='gzip') "
   ]
  },
  {
   "cell_type": "markdown",
   "metadata": {},
   "source": [
    "# Create SIG File"
   ]
  },
  {
   "cell_type": "code",
   "execution_count": null,
   "metadata": {
    "collapsed": true
   },
   "outputs": [],
   "source": [
    "sig_col = ['Source Name', 'Source Human Accession', 'Source Mouse Accession',\n",
    "          'Source Type', 'Source Location', 'Target Name',\n",
    "          'Target Human Accession', 'Target Mouse Accession', 'Target Type',\n",
    "          'Target Location', 'Effect', 'Type of Interaction',\n",
    "          'PubMed IDs']"
   ]
  },
  {
   "cell_type": "code",
   "execution_count": null,
   "metadata": {
    "collapsed": true
   },
   "outputs": [],
   "source": [
    "path = '~/./Documents/Harmonizome/PPI Library/Output/IndividualResources/Filtered/'"
   ]
  },
  {
   "cell_type": "code",
   "execution_count": null,
   "metadata": {
    "collapsed": true
   },
   "outputs": [],
   "source": [
    "# HOMOLOGENE\n",
    "mapping_path = '~/./Documents/Harmonizome/PPI Library/Doc and Mapping/HomoloGene.tsv'\n",
    "mapping = pd.read_csv(mapping_path, sep='\\t', header=None)"
   ]
  },
  {
   "cell_type": "code",
   "execution_count": null,
   "metadata": {
    "collapsed": true
   },
   "outputs": [],
   "source": [
    "mapping.set_index([0, 1], inplace=True)"
   ]
  },
  {
   "cell_type": "code",
   "execution_count": null,
   "metadata": {
    "collapsed": true
   },
   "outputs": [],
   "source": [
    "mapping.head()"
   ]
  },
  {
   "cell_type": "code",
   "execution_count": null,
   "metadata": {
    "collapsed": true
   },
   "outputs": [],
   "source": [
    "mint_human = pd.read_csv(path+'ppi_network_mint_human_filtered_2017_02_16.tsv', sep='\\t')"
   ]
  },
  {
   "cell_type": "code",
   "execution_count": null,
   "metadata": {
    "collapsed": true
   },
   "outputs": [],
   "source": [
    "mint_mouse = pd.read_csv(path+'ppi_network_mint_mouse_filtered_2017_02_15.tsv', sep='\\t')"
   ]
  },
  {
   "cell_type": "code",
   "execution_count": null,
   "metadata": {
    "collapsed": true
   },
   "outputs": [],
   "source": [
    "lst = []\n",
    "\n",
    "for i, index in enumerate(mint_mouse.index):\n",
    "    \n",
    "    progressPercent = ((i+1)/len(mint_mouse.index))*100\n",
    "\n",
    "    sys.stdout.write(\"Progress: %d%%  %d Out of %d   \\r\" % (progressPercent, (i+1), len(mint_mouse.index)))\n",
    "    sys.stdout.flush()\n",
    "    \n",
    "    gene = mint_mouse.ix[index, 'Protein A (gene name)']\n",
    "    if gene in mapping[3].values:\n",
    "        number = mapping[mapping[3] == gene].index\n",
    "        if (number[0][0], 9606) in mapping.index:\n",
    "            if type(mapping.ix[(number[0][0], 9606), 3]) == str:\n",
    "                lst.append(mapping.ix[(number[0][0], 9606), 3])\n",
    "            else:\n",
    "                lst.append(np.nan)  # insert nan if gene maps tp more than one human gene  \n",
    "        else:\n",
    "            lst.append(np.nan)  # insert nan if gene dooesnt map to human gene       \n",
    "    else:\n",
    "        lst.append(np.nan) # insert nan if gene not found in the HOMOLOGENE\n",
    "\n",
    "mint_mouse['Protein A (gene name)'] = lst"
   ]
  },
  {
   "cell_type": "code",
   "execution_count": null,
   "metadata": {
    "collapsed": true
   },
   "outputs": [],
   "source": [
    "lst = []\n",
    "\n",
    "for i, index in enumerate(mint_mouse.index):\n",
    "    \n",
    "    progressPercent = ((i+1)/len(mint_mouse.index))*100\n",
    "\n",
    "    sys.stdout.write(\"Progress: %d%%  %d Out of %d   \\r\" % (progressPercent, (i+1), len(mint_mouse.index)))\n",
    "    sys.stdout.flush()\n",
    "    \n",
    "    gene = mint_mouse.ix[index, 'Protein B (gene name)']\n",
    "    if gene in mapping[3].values:\n",
    "        number = mapping[mapping[3] == gene].index\n",
    "        if (number[0][0], 9606) in mapping.index:\n",
    "            if type(mapping.ix[(number[0][0], 9606), 3]) == str:\n",
    "                lst.append(mapping.ix[(number[0][0], 9606), 3])\n",
    "            else:\n",
    "                lst.append(np.nan)  # insert nan if gene maps tp more than one human gene  \n",
    "        else:\n",
    "            lst.append(np.nan)  # insert nan if gene dooesnt map to human gene       \n",
    "    else:\n",
    "        lst.append(np.nan) # insert nan if gene not found in the HOMOLOGENE\n",
    "\n",
    "mint_mouse['Protein B (gene name)'] = lst"
   ]
  },
  {
   "cell_type": "code",
   "execution_count": null,
   "metadata": {
    "collapsed": true
   },
   "outputs": [],
   "source": [
    "mint_mouse.shape"
   ]
  },
  {
   "cell_type": "code",
   "execution_count": null,
   "metadata": {
    "collapsed": true
   },
   "outputs": [],
   "source": [
    "mint_mouse.dropna(how='any', inplace=True)"
   ]
  },
  {
   "cell_type": "code",
   "execution_count": null,
   "metadata": {
    "collapsed": true
   },
   "outputs": [],
   "source": [
    "mint_mouse.shape"
   ]
  },
  {
   "cell_type": "code",
   "execution_count": null,
   "metadata": {
    "collapsed": true
   },
   "outputs": [],
   "source": [
    "mint = mint_human.copy()\n",
    "\n",
    "for i, index in enumerate(mint_mouse.index):\n",
    "    \n",
    "    progressPercent = ((i+1)/len(mint_mouse.index))*100\n",
    "\n",
    "    sys.stdout.write(\"Progress: %d%%  %d Out of %d   \\r\" % (progressPercent, (i+1), len(mint_mouse.index)))\n",
    "    sys.stdout.flush()\n",
    "    \n",
    "    mouse_interaction = mint_mouse.ix[index, ['Protein A (gene name)', 'Protein B (gene name)']].values.tolist()\n",
    "    if mouse_interaction in mint_human[['Protein A (gene name)', 'Protein B (gene name)']].values.tolist():\n",
    "        human_index = mint_human[(mint_human['Protein A (gene name)'] == mouse_interaction[0]) & (mint_human['Protein B (gene name)'] == mouse_interaction[1])].index\n",
    "        mouse_ref = mint_mouse.ix[index, 'PubMed ID']\n",
    "        human_ref = mint_human.ix[index, 'PubMed ID']\n",
    "        ref = ('|').join([mouse_ref, human_ref])\n",
    "        mint.ix[human_index, 'PubMed ID'] = ref\n",
    "    else:\n",
    "        mint.append(mint_mouse.ix[index])"
   ]
  },
  {
   "cell_type": "code",
   "execution_count": null,
   "metadata": {
    "collapsed": true
   },
   "outputs": [],
   "source": [
    "lst = []\n",
    "for index in mint.index:\n",
    "    lst.append(tuple(sorted(tuple((mint.ix[index,'Protein A (gene name)'], mint.ix[index, 'Protein B (gene name)'])))))\n",
    "mint['ppi'] = lst\n",
    "\n",
    "for i,ppi in enumerate(mint['ppi'].unique()):\n",
    "    \n",
    "    progressPercent = ((i+1)/len(mint['ppi'].unique()))*100\n",
    "\n",
    "    sys.stdout.write(\"Progress: %d%%  %d Out of %d   \\r\" % (progressPercent, (i+1), len(mint['ppi'].unique())))\n",
    "    sys.stdout.flush()\n",
    "    \n",
    "    ref = ('|').join(mint.ix[mint[mint['ppi'] == ppi].index, 'PubMed ID'])\n",
    "    mint.ix[mint[mint['ppi'] == ppi].index[0], 'PubMed ID'] = ref\n",
    "    mint.drop(mint[mint['ppi'] == ppi].index[1:], inplace=True)"
   ]
  },
  {
   "cell_type": "code",
   "execution_count": null,
   "metadata": {
    "collapsed": true
   },
   "outputs": [],
   "source": [
    "mint_sig_df = pd.DataFrame(columns=sig_col)\n",
    "\n",
    "mint_sig_df['Source Name'] = mint['Protein A (gene name)']\n",
    "\n",
    "mint_sig_df['Target Name'] = mint['Protein B (gene name)']\n",
    "\n",
    "mint_sig_df['PubMed IDs'] = mint['PubMed ID']\n",
    "\n",
    "mint_sig_df.replace(np.nan, 'NA', inplace=True)\n",
    "\n",
    "mint_ppiSIG = path+'mint_ppi_%s.sig'% str(datetime.date.today()).replace('-', '_')\n",
    "mint_sig_df.to_csv(mint_ppiSIG, index=None, header=None, sep='\\t')"
   ]
  },
  {
   "cell_type": "markdown",
   "metadata": {},
   "source": [
    "# Create GMT File"
   ]
  },
  {
   "cell_type": "code",
   "execution_count": 1,
   "metadata": {
    "collapsed": true
   },
   "outputs": [],
   "source": [
    "#Define function 'sig_to_gmt' that converts a SIG file to a GMT file\n",
    "def sig_to_gmt(sig_df):\n",
    "    #Create two versions of df 'd1' --> one flipped and one which is in original order\n",
    "    d1 = {'protein_1': sig_df[0], 'protein_2': sig_df[5]}\n",
    "    df = pd.DataFrame(data = d1)\n",
    "    df.drop_duplicates(inplace = True)\n",
    "\n",
    "    d2 = {'protein_1': sig_df[5], 'protein_2': sig_df[0]}\n",
    "    df_flipped = pd.DataFrame(data = d2)\n",
    "    df_flipped.drop_duplicates(inplace = True)\n",
    "\n",
    "    #Make 'df' and 'df_flipped' into a single frame to account for opposite interactions\n",
    "    extend = pd.concat([df, df_flipped])\n",
    "\n",
    "    #Drop any duplicates and set index according to protein 1 so that we can aggregate \n",
    "    #all interacting protein 2's by a shared interaction with protein one\n",
    "    extend.drop_duplicates(inplace = True)\n",
    "    extend.set_index('protein_1', inplace = True)\n",
    "\n",
    "    gmt = extend.groupby('protein_1').agg(lambda x: tuple(x))\n",
    "\n",
    "    # Create column representing counts of protein interactions per protein\n",
    "    gmt['interactions'] = [int(len(lst)) for protein, lst in gmt['protein_2'].iteritems()]\n",
    "\n",
    "    # Sort proteins from max to min according to number of protein iteractions\n",
    "    gmt.sort_values(by = ['interactions'], ascending= False, inplace=True)\n",
    "\n",
    "    #Gain indexes of gene sets with 5 or more proteins and less than 2000 protein interactions\n",
    "    indices = [index for index, rowData in gmt.interactions.iteritems() if rowData >= 5 and rowData < 2000]\n",
    "\n",
    "    #filter dataframe by these indices\n",
    "    gmt = gmt.loc[indices]\n",
    "\n",
    "    #reset index and insert a column for the description\n",
    "    gmt.insert(0, 'Description', 'No Description')\n",
    "    gmt.reset_index(inplace = True)\n",
    "\n",
    "    #Drop columns not needed in GMT and join all protein interactions by a tab\n",
    "    gmt['merged'] = ['\\t'.join(x) for x in gmt['protein_2']]\n",
    "    gmt.drop('protein_2', axis = 1, inplace = True)\n",
    "    gmt.drop('interactions', axis = 1, inplace = True)\n",
    "\n",
    "    #create a dictionary and store in it rowData corresponding to each protein\n",
    "    gmt_d = dict([(key, '') for key in gmt.index])\n",
    "\n",
    "    # loop through rows with iterrows()\n",
    "    for index, rowData in gmt.iterrows():\n",
    "        line = ('\\t'.join(rowData))\n",
    "        gmt_d[index] = line\n",
    "    return gmt_d"
   ]
  },
  {
   "cell_type": "code",
   "execution_count": 2,
   "metadata": {},
   "outputs": [
    {
     "ename": "NameError",
     "evalue": "name 'mint_sig_df' is not defined",
     "output_type": "error",
     "traceback": [
      "\u001b[0;31m---------------------------------------------------------------------------\u001b[0m",
      "\u001b[0;31mNameError\u001b[0m                                 Traceback (most recent call last)",
      "\u001b[0;32m<ipython-input-2-5b3289bde549>\u001b[0m in \u001b[0;36m<module>\u001b[0;34m()\u001b[0m\n\u001b[1;32m      1\u001b[0m \u001b[0;31m#Use function to obtain dictionary of the data\u001b[0m\u001b[0;34m\u001b[0m\u001b[0;34m\u001b[0m\u001b[0m\n\u001b[0;32m----> 2\u001b[0;31m \u001b[0mmint_dict\u001b[0m \u001b[0;34m=\u001b[0m \u001b[0msig_to_gmt\u001b[0m\u001b[0;34m(\u001b[0m\u001b[0mmint_sig_df\u001b[0m\u001b[0;34m)\u001b[0m\u001b[0;34m\u001b[0m\u001b[0m\n\u001b[0m\u001b[1;32m      3\u001b[0m \u001b[0;34m\u001b[0m\u001b[0m\n\u001b[1;32m      4\u001b[0m \u001b[0;31m#Transfer tab-separated info into a new gmt file\u001b[0m\u001b[0;34m\u001b[0m\u001b[0;34m\u001b[0m\u001b[0m\n\u001b[1;32m      5\u001b[0m \u001b[0;32mwith\u001b[0m \u001b[0mopen\u001b[0m\u001b[0;34m(\u001b[0m\u001b[0;34m'mint_ppi.gmt'\u001b[0m\u001b[0;34m,\u001b[0m \u001b[0;34m'w'\u001b[0m\u001b[0;34m)\u001b[0m \u001b[0;32mas\u001b[0m \u001b[0mopenfile\u001b[0m\u001b[0;34m:\u001b[0m\u001b[0;34m\u001b[0m\u001b[0m\n",
      "\u001b[0;31mNameError\u001b[0m: name 'mint_sig_df' is not defined"
     ]
    }
   ],
   "source": [
    "#Use function to obtain dictionary of the data\n",
    "mint_dict = sig_to_gmt(mint_sig_df)\n",
    "\n",
    "#Transfer tab-separated info into a new gmt file\n",
    "with open('mint_ppi.gmt', 'w') as openfile:\n",
    "    for index in mint_dict:\n",
    "        openfile.write(str(mint_dict[index]) + '\\n')"
   ]
  },
  {
   "cell_type": "code",
   "execution_count": null,
   "metadata": {
    "collapsed": true
   },
   "outputs": [],
   "source": []
  }
 ],
 "metadata": {
  "kernelspec": {
   "display_name": "Python 3",
   "language": "python",
   "name": "python3"
  },
  "language_info": {
   "codemirror_mode": {
    "name": "ipython",
    "version": 3
   },
   "file_extension": ".py",
   "mimetype": "text/x-python",
   "name": "python",
   "nbconvert_exporter": "python",
   "pygments_lexer": "ipython3",
   "version": "3.6.1"
  }
 },
 "nbformat": 4,
 "nbformat_minor": 2
}
