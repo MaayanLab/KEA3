{
 "cells": [
  {
   "cell_type": "markdown",
   "metadata": {},
   "source": [
    "# MINT"
   ]
  },
  {
   "cell_type": "markdown",
   "metadata": {},
   "source": [
    "Author: Moshe C. Silverstein  \n",
    "Date: 07-2017"
   ]
  },
  {
   "cell_type": "code",
   "execution_count": 1,
   "metadata": {
    "collapsed": true
   },
   "outputs": [],
   "source": [
    "import sys\n",
    "import numpy as np\n",
    "import pandas as pd\n",
    "import Utilities\n",
    "from Utilities import *\n",
    "from importlib import reload"
   ]
  },
  {
   "cell_type": "markdown",
   "metadata": {},
   "source": [
    "# Load Data"
   ]
  },
  {
   "cell_type": "markdown",
   "metadata": {},
   "source": [
    "Data Retrieved 1/23/2017  \n",
    "\n",
    "http://mint.bio.uniroma2.it/mitab/MINT_MiTab.txt (Mint)"
   ]
  },
  {
   "cell_type": "code",
   "execution_count": 2,
   "metadata": {
    "collapsed": true
   },
   "outputs": [],
   "source": [
    "mint_df = pd.read_csv('/Users/moshesilverstein/Documents/Harmonizome/PPI Library/Input/mint.tsv', sep='\\t', index_col=False, header=None)"
   ]
  },
  {
   "cell_type": "markdown",
   "metadata": {},
   "source": [
    "# Load Gene Mapping File"
   ]
  },
  {
   "cell_type": "code",
   "execution_count": 3,
   "metadata": {
    "collapsed": true
   },
   "outputs": [],
   "source": [
    "mappingFile = pd.read_csv('/Users/moshesilverstein/Documents/Harmonizome/PPI Library/Doc and Mapping/mappingFile_2017.txt', sep='\\t', header=None, index_col=0)"
   ]
  },
  {
   "cell_type": "markdown",
   "metadata": {},
   "source": [
    "# Select Relevent Data"
   ]
  },
  {
   "cell_type": "code",
   "execution_count": 4,
   "metadata": {
    "collapsed": true
   },
   "outputs": [],
   "source": [
    "# column identifiers for initial data (as taken from respective metadata)\n",
    "col_name = ['Unique identifier for interactor A',\n",
    "      'Unique identifier for interactor B',\n",
    "      'Alternative identifier for interactor A',\n",
    "      'Alternative identifier for interactor B',\n",
    "      'Protein A (gene name)',\n",
    "      'Protein B (gene name)',\n",
    "      'Interaction detection methods',\n",
    "      'First author',\n",
    "      'PubMed ID',\n",
    "      'NCBI Taxonomy identifier for interactor A',\n",
    "      'NCBI Taxonomy identifier for interactor B',\n",
    "      'Interaction types',\n",
    "      'Source databases', \n",
    "      'Interaction identifier(s)',\n",
    "      'Confidence score']"
   ]
  },
  {
   "cell_type": "code",
   "execution_count": 5,
   "metadata": {
    "collapsed": true
   },
   "outputs": [],
   "source": [
    "# assign names to columns from meta data\n",
    "for i in np.arange(len(col_name)):\n",
    "    mint_df.rename(columns={i:col_name[i]}, inplace=True)"
   ]
  },
  {
   "cell_type": "code",
   "execution_count": 6,
   "metadata": {
    "collapsed": true
   },
   "outputs": [],
   "source": [
    "# get only human and mouse data \n",
    "\n",
    "n = mint_df['Protein A (gene name)'].values\n",
    "b = [i for i,item in enumerate(n) if \"human\" in item or \"mouse\" in item]\n",
    "mint_df = mint_df.ix[b]\n",
    "\n",
    "mint_df =  mint_df.reset_index().drop('index', axis=1)\n",
    "\n",
    "n = mint_df['Protein B (gene name)'].values\n",
    "b = [i for i,item in enumerate(n) if \"human\" in item or \"mouse\" in item]\n",
    "mint_df = mint_df.ix[b]"
   ]
  },
  {
   "cell_type": "code",
   "execution_count": 7,
   "metadata": {
    "collapsed": true
   },
   "outputs": [],
   "source": [
    "# select only relevent data\n",
    "mint_df = mint_df[['Protein A (gene name)', 'Protein B (gene name)', 'PubMed ID', 'Source databases']]"
   ]
  },
  {
   "cell_type": "code",
   "execution_count": 8,
   "metadata": {},
   "outputs": [
    {
     "name": "stdout",
     "output_type": "stream",
     "text": [
      "Progress: 100%  54480 Out of 54480   \r"
     ]
    }
   ],
   "source": [
    "# change columns to just show gene name\n",
    "changePPIToShowGeneName(mint_df)"
   ]
  },
  {
   "cell_type": "code",
   "execution_count": 9,
   "metadata": {},
   "outputs": [
    {
     "data": {
      "text/html": [
       "<div>\n",
       "<table border=\"1\" class=\"dataframe\">\n",
       "  <thead>\n",
       "    <tr style=\"text-align: right;\">\n",
       "      <th></th>\n",
       "      <th>Protein A (gene name)</th>\n",
       "      <th>Protein B (gene name)</th>\n",
       "      <th>PubMed ID</th>\n",
       "      <th>Source databases</th>\n",
       "    </tr>\n",
       "  </thead>\n",
       "  <tbody>\n",
       "    <tr>\n",
       "      <th>0</th>\n",
       "      <td>Rgs12</td>\n",
       "      <td>Dlgap3</td>\n",
       "      <td>mint:MINT-5219791|pubmed:17380122|imex:IM-11437</td>\n",
       "      <td>psi-mi:\"MI:0471\"(MINT)</td>\n",
       "    </tr>\n",
       "    <tr>\n",
       "      <th>1</th>\n",
       "      <td>FBXO5</td>\n",
       "      <td>SKP1</td>\n",
       "      <td>mint:MINT-5219791|pubmed:17380122|imex:IM-11437</td>\n",
       "      <td>psi-mi:\"MI:0471\"(MINT)</td>\n",
       "    </tr>\n",
       "    <tr>\n",
       "      <th>2</th>\n",
       "      <td>Rgs12</td>\n",
       "      <td>Map2k2</td>\n",
       "      <td>mint:MINT-5219791|pubmed:17380122|imex:IM-11437</td>\n",
       "      <td>psi-mi:\"MI:0471\"(MINT)</td>\n",
       "    </tr>\n",
       "    <tr>\n",
       "      <th>3</th>\n",
       "      <td>Epn1</td>\n",
       "      <td>Itsn1</td>\n",
       "      <td>mint:MINT-5219791|pubmed:17380122|imex:IM-11437</td>\n",
       "      <td>psi-mi:\"MI:0471\"(MINT)</td>\n",
       "    </tr>\n",
       "    <tr>\n",
       "      <th>4</th>\n",
       "      <td>Rgs12</td>\n",
       "      <td>Map2k2</td>\n",
       "      <td>mint:MINT-5219791|pubmed:17380122|imex:IM-11437</td>\n",
       "      <td>psi-mi:\"MI:0471\"(MINT)</td>\n",
       "    </tr>\n",
       "  </tbody>\n",
       "</table>\n",
       "</div>"
      ],
      "text/plain": [
       "  Protein A (gene name) Protein B (gene name)  \\\n",
       "0                 Rgs12                Dlgap3   \n",
       "1                 FBXO5                  SKP1   \n",
       "2                 Rgs12                Map2k2   \n",
       "3                  Epn1                 Itsn1   \n",
       "4                 Rgs12                Map2k2   \n",
       "\n",
       "                                         PubMed ID        Source databases  \n",
       "0  mint:MINT-5219791|pubmed:17380122|imex:IM-11437  psi-mi:\"MI:0471\"(MINT)  \n",
       "1  mint:MINT-5219791|pubmed:17380122|imex:IM-11437  psi-mi:\"MI:0471\"(MINT)  \n",
       "2  mint:MINT-5219791|pubmed:17380122|imex:IM-11437  psi-mi:\"MI:0471\"(MINT)  \n",
       "3  mint:MINT-5219791|pubmed:17380122|imex:IM-11437  psi-mi:\"MI:0471\"(MINT)  \n",
       "4  mint:MINT-5219791|pubmed:17380122|imex:IM-11437  psi-mi:\"MI:0471\"(MINT)  "
      ]
     },
     "execution_count": 9,
     "metadata": {},
     "output_type": "execute_result"
    }
   ],
   "source": [
    "mint_df.head()"
   ]
  },
  {
   "cell_type": "markdown",
   "metadata": {},
   "source": [
    "# Map Gene to human and updated approved symbols"
   ]
  },
  {
   "cell_type": "code",
   "execution_count": 10,
   "metadata": {},
   "outputs": [
    {
     "name": "stdout",
     "output_type": "stream",
     "text": [
      "Progeres: 100%  54480 Out of 54480   \r"
     ]
    }
   ],
   "source": [
    "mapgenesymbols(mint_df, mappingFile, 'Protein A (gene name)', 'Protein B (gene name)')"
   ]
  },
  {
   "cell_type": "code",
   "execution_count": 11,
   "metadata": {},
   "outputs": [
    {
     "data": {
      "text/plain": [
       "(52031, 4)"
      ]
     },
     "execution_count": 11,
     "metadata": {},
     "output_type": "execute_result"
    }
   ],
   "source": [
    "mint_df.shape"
   ]
  },
  {
   "cell_type": "markdown",
   "metadata": {},
   "source": [
    "# Get PubMed Ids"
   ]
  },
  {
   "cell_type": "code",
   "execution_count": 12,
   "metadata": {
    "collapsed": true
   },
   "outputs": [],
   "source": [
    "# Get Only PubMed ID for publication identifier\n",
    "getPubMedIds(mint_df, 'PubMed ID')"
   ]
  },
  {
   "cell_type": "markdown",
   "metadata": {},
   "source": [
    "# Unfiltered"
   ]
  },
  {
   "cell_type": "code",
   "execution_count": 13,
   "metadata": {
    "collapsed": true
   },
   "outputs": [],
   "source": [
    "# uf = unfiltered\n",
    "mint_uf_df = mint_df.copy()"
   ]
  },
  {
   "cell_type": "markdown",
   "metadata": {},
   "source": [
    "### Combine duplicate ppis while concatanatig referances"
   ]
  },
  {
   "cell_type": "code",
   "execution_count": 14,
   "metadata": {},
   "outputs": [
    {
     "name": "stdout",
     "output_type": "stream",
     "text": [
      "Progress: 100%  25468 Out of 25468   \r"
     ]
    }
   ],
   "source": [
    "combineDupPPIs(mint_uf_df)"
   ]
  },
  {
   "cell_type": "markdown",
   "metadata": {},
   "source": [
    "### Create .sig File"
   ]
  },
  {
   "cell_type": "code",
   "execution_count": 15,
   "metadata": {
    "collapsed": true
   },
   "outputs": [],
   "source": [
    "pathU = '~/./Documents/Harmonizome/PPI Library/Output/IndividualResources/Unfiltered/'\n",
    "\n",
    "createSigFile(mint_uf_df, pathU, 'mint', False)"
   ]
  },
  {
   "cell_type": "markdown",
   "metadata": {},
   "source": [
    "# Filtered"
   ]
  },
  {
   "cell_type": "code",
   "execution_count": 16,
   "metadata": {
    "collapsed": true
   },
   "outputs": [],
   "source": [
    "mint_f_df = mint_df.copy()"
   ]
  },
  {
   "cell_type": "code",
   "execution_count": 17,
   "metadata": {},
   "outputs": [
    {
     "name": "stdout",
     "output_type": "stream",
     "text": [
      "Progress: 116%  3639 Out of 3129   \r"
     ]
    }
   ],
   "source": [
    "# drop any data that was published with more then 10 PPI's per publication or doesnt have a ppi\n",
    "filterPPIbyPubmed(mint_f_df, 10)"
   ]
  },
  {
   "cell_type": "markdown",
   "metadata": {},
   "source": [
    "### Combine duplicate ppis while concatanatig referances"
   ]
  },
  {
   "cell_type": "code",
   "execution_count": 18,
   "metadata": {},
   "outputs": [
    {
     "name": "stdout",
     "output_type": "stream",
     "text": [
      "Progress: 100%  5103 Out of 5103   \r"
     ]
    }
   ],
   "source": [
    "combineDupPPIs(mint_f_df)"
   ]
  },
  {
   "cell_type": "markdown",
   "metadata": {},
   "source": [
    "### Create .sig File"
   ]
  },
  {
   "cell_type": "code",
   "execution_count": 19,
   "metadata": {
    "collapsed": true
   },
   "outputs": [],
   "source": [
    "pathF = '~/./Documents/Harmonizome/PPI Library/Output/IndividualResources/Filtered/'\n",
    "\n",
    "createSigFile(mint_f_df, pathF, 'mint', True)"
   ]
  }
 ],
 "metadata": {
  "kernelspec": {
   "display_name": "Python [default]",
   "language": "python",
   "name": "python3"
  },
  "language_info": {
   "codemirror_mode": {
    "name": "ipython",
    "version": 3
   },
   "file_extension": ".py",
   "mimetype": "text/x-python",
   "name": "python",
   "nbconvert_exporter": "python",
   "pygments_lexer": "ipython3",
   "version": "3.5.2"
  }
 },
 "nbformat": 4,
 "nbformat_minor": 2
}
