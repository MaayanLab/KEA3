{
 "cells": [
  {
   "cell_type": "markdown",
   "metadata": {},
   "source": [
    "# MINT"
   ]
  },
  {
   "cell_type": "markdown",
   "metadata": {},
   "source": [
    "Author: Moshe C. Silverstein  \n",
    "Date: 07-2017"
   ]
  },
  {
   "cell_type": "code",
   "execution_count": 1,
   "metadata": {
    "collapsed": true
   },
   "outputs": [],
   "source": [
    "import sys\n",
    "import numpy as np\n",
    "import pandas as pd\n",
    "import Utilities\n",
    "from Utilities import *\n",
    "from importlib import reload"
   ]
  },
  {
   "cell_type": "markdown",
   "metadata": {},
   "source": [
    "# Load Data"
   ]
  },
  {
   "cell_type": "markdown",
   "metadata": {},
   "source": [
    "Data Retrieved 1/23/2017  \n",
    "\n",
    "http://mint.bio.uniroma2.it/mitab/MINT_MiTab.txt (Mint)"
   ]
  },
  {
   "cell_type": "code",
   "execution_count": 2,
   "metadata": {
    "collapsed": true
   },
   "outputs": [],
   "source": [
    "mint_df = pd.read_csv('/Users/moshesilverstein/Documents/Harmonizome/PPI Library/Input/mint.tsv', sep='\\t', index_col=False, header=None)"
   ]
  },
  {
   "cell_type": "markdown",
   "metadata": {},
   "source": [
    "# Load Gene Mapping File"
   ]
  },
  {
   "cell_type": "code",
   "execution_count": 3,
   "metadata": {
    "collapsed": true
   },
   "outputs": [],
   "source": [
    "mappingFile = pd.read_csv('/Users/moshesilverstein/Documents/Harmonizome/PPI Library/Doc and Mapping/mappingFile_2017.txt', sep='\\t', header=None, index_col=0)"
   ]
  },
  {
   "cell_type": "markdown",
   "metadata": {},
   "source": [
    "# Select Relevent Data"
   ]
  },
  {
   "cell_type": "code",
   "execution_count": 4,
   "metadata": {
    "collapsed": true
   },
   "outputs": [],
   "source": [
    "# column identifiers for initial data (as taken from respective metadata)\n",
    "col_name = ['Unique identifier for interactor A',\n",
    "      'Unique identifier for interactor B',\n",
    "      'Alternative identifier for interactor A',\n",
    "      'Alternative identifier for interactor B',\n",
    "      'Protein A (gene name)',\n",
    "      'Protein B (gene name)',\n",
    "      'Interaction detection methods',\n",
    "      'First author',\n",
    "      'PubMed ID',\n",
    "      'NCBI Taxonomy identifier for interactor A',\n",
    "      'NCBI Taxonomy identifier for interactor B',\n",
    "      'Interaction types',\n",
    "      'Source databases', \n",
    "      'Interaction identifier(s)',\n",
    "      'Confidence score']"
   ]
  },
  {
   "cell_type": "code",
   "execution_count": 5,
   "metadata": {
    "collapsed": true
   },
   "outputs": [],
   "source": [
    "# assign names to columns from meta data\n",
    "for i in np.arange(len(col_name)):\n",
    "    mint_df.rename(columns={i:col_name[i]}, inplace=True)"
   ]
  },
  {
   "cell_type": "code",
   "execution_count": 6,
   "metadata": {
    "collapsed": true
   },
   "outputs": [],
   "source": [
    "# get only human and mouse data \n",
    "\n",
    "n = mint_df['Protein A (gene name)'].values\n",
    "b = [i for i,item in enumerate(n) if \"human\" in item or \"mouse\" in item]\n",
    "mint_df = mint_df.ix[b]\n",
    "\n",
    "mint_df =  mint_df.reset_index().drop('index', axis=1)\n",
    "\n",
    "n = mint_df['Protein B (gene name)'].values\n",
    "b = [i for i,item in enumerate(n) if \"human\" in item or \"mouse\" in item]\n",
    "mint_df = mint_df.ix[b]"
   ]
  },
  {
   "cell_type": "code",
   "execution_count": 7,
   "metadata": {
    "collapsed": true
   },
   "outputs": [],
   "source": [
    "# select only relevent data\n",
    "mint_df = mint_df[['Protein A (gene name)', 'Protein B (gene name)', 'PubMed ID', 'Source databases']]"
   ]
  },
  {
   "cell_type": "code",
   "execution_count": 8,
   "metadata": {},
   "outputs": [
    {
     "name": "stdout",
     "output_type": "stream",
     "text": [
      "Progress: 100%  54480 Out of 54480   \r"
     ]
    }
   ],
   "source": [
    "# change columns to just show gene name\n",
    "changePPIToShowGeneName(mint_df)"
   ]
  },
  {
   "cell_type": "code",
   "execution_count": 9,
   "metadata": {},
   "outputs": [
    {
     "data": {
      "text/html": [
       "<div>\n",
       "<table border=\"1\" class=\"dataframe\">\n",
       "  <thead>\n",
       "    <tr style=\"text-align: right;\">\n",
       "      <th></th>\n",
       "      <th>Protein A (gene name)</th>\n",
       "      <th>Protein B (gene name)</th>\n",
       "      <th>PubMed ID</th>\n",
       "      <th>Source databases</th>\n",
       "    </tr>\n",
       "  </thead>\n",
       "  <tbody>\n",
       "    <tr>\n",
       "      <th>0</th>\n",
       "      <td>Rgs12</td>\n",
       "      <td>Dlgap3</td>\n",
       "      <td>mint:MINT-5219791|pubmed:17380122|imex:IM-11437</td>\n",
       "      <td>psi-mi:\"MI:0471\"(MINT)</td>\n",
       "    </tr>\n",
       "    <tr>\n",
       "      <th>1</th>\n",
       "      <td>FBXO5</td>\n",
       "      <td>SKP1</td>\n",
       "      <td>mint:MINT-5219791|pubmed:17380122|imex:IM-11437</td>\n",
       "      <td>psi-mi:\"MI:0471\"(MINT)</td>\n",
       "    </tr>\n",
       "    <tr>\n",
       "      <th>2</th>\n",
       "      <td>Rgs12</td>\n",
       "      <td>Map2k2</td>\n",
       "      <td>mint:MINT-5219791|pubmed:17380122|imex:IM-11437</td>\n",
       "      <td>psi-mi:\"MI:0471\"(MINT)</td>\n",
       "    </tr>\n",
       "    <tr>\n",
       "      <th>3</th>\n",
       "      <td>Epn1</td>\n",
       "      <td>Itsn1</td>\n",
       "      <td>mint:MINT-5219791|pubmed:17380122|imex:IM-11437</td>\n",
       "      <td>psi-mi:\"MI:0471\"(MINT)</td>\n",
       "    </tr>\n",
       "    <tr>\n",
       "      <th>4</th>\n",
       "      <td>Rgs12</td>\n",
       "      <td>Map2k2</td>\n",
       "      <td>mint:MINT-5219791|pubmed:17380122|imex:IM-11437</td>\n",
       "      <td>psi-mi:\"MI:0471\"(MINT)</td>\n",
       "    </tr>\n",
       "  </tbody>\n",
       "</table>\n",
       "</div>"
      ],
      "text/plain": [
       "  Protein A (gene name) Protein B (gene name)  \\\n",
       "0                 Rgs12                Dlgap3   \n",
       "1                 FBXO5                  SKP1   \n",
       "2                 Rgs12                Map2k2   \n",
       "3                  Epn1                 Itsn1   \n",
       "4                 Rgs12                Map2k2   \n",
       "\n",
       "                                         PubMed ID        Source databases  \n",
       "0  mint:MINT-5219791|pubmed:17380122|imex:IM-11437  psi-mi:\"MI:0471\"(MINT)  \n",
       "1  mint:MINT-5219791|pubmed:17380122|imex:IM-11437  psi-mi:\"MI:0471\"(MINT)  \n",
       "2  mint:MINT-5219791|pubmed:17380122|imex:IM-11437  psi-mi:\"MI:0471\"(MINT)  \n",
       "3  mint:MINT-5219791|pubmed:17380122|imex:IM-11437  psi-mi:\"MI:0471\"(MINT)  \n",
       "4  mint:MINT-5219791|pubmed:17380122|imex:IM-11437  psi-mi:\"MI:0471\"(MINT)  "
      ]
     },
     "execution_count": 9,
     "metadata": {},
     "output_type": "execute_result"
    }
   ],
   "source": [
    "mint_df.head()"
   ]
  },
  {
   "cell_type": "markdown",
   "metadata": {},
   "source": [
    "# Map Gene to human and updated approved symbols"
   ]
  },
  {
   "cell_type": "code",
   "execution_count": 10,
   "metadata": {},
   "outputs": [
    {
     "name": "stdout",
     "output_type": "stream",
     "text": [
      "Progeres: 100%  54480 Out of 54480   \r"
     ]
    }
   ],
   "source": [
    "mapgenesymbols(mint_df, mappingFile, 'Protein A (gene name)', 'Protein B (gene name)')"
   ]
  },
  {
   "cell_type": "code",
   "execution_count": 11,
   "metadata": {},
   "outputs": [
    {
     "data": {
      "text/plain": [
       "(52031, 4)"
      ]
     },
     "execution_count": 11,
     "metadata": {},
     "output_type": "execute_result"
    }
   ],
   "source": [
    "mint_df.shape"
   ]
  },
  {
   "cell_type": "markdown",
   "metadata": {},
   "source": [
    "# Get PubMed Ids"
   ]
  },
  {
   "cell_type": "code",
   "execution_count": 12,
   "metadata": {
    "collapsed": true
   },
   "outputs": [],
   "source": [
    "# Get Only PubMed ID for publication identifier\n",
    "getPubMedIds(mint_df, 'PubMed ID')"
   ]
  },
  {
   "cell_type": "markdown",
   "metadata": {},
   "source": [
    "# Unfiltered"
   ]
  },
  {
   "cell_type": "code",
   "execution_count": 13,
   "metadata": {
    "collapsed": true
   },
   "outputs": [],
   "source": [
    "# uf = unfiltered\n",
    "mint_uf_df = mint_df.copy()"
   ]
  },
  {
   "cell_type": "markdown",
   "metadata": {},
   "source": [
    "### Combine duplicate ppis while concatanatig referances"
   ]
  },
  {
   "cell_type": "code",
   "execution_count": 14,
   "metadata": {},
   "outputs": [
    {
     "name": "stdout",
     "output_type": "stream",
     "text": [
      "Progress: 100%  25468 Out of 25468   \r"
     ]
    }
   ],
   "source": [
    "combineDupPPIs(mint_uf_df)"
   ]
  },
  {
   "cell_type": "markdown",
   "metadata": {},
   "source": [
    "### Create .sig File"
   ]
  },
  {
   "cell_type": "code",
   "execution_count": 15,
   "metadata": {
    "collapsed": true
   },
   "outputs": [],
   "source": [
    "pathU = '~/./Documents/Harmonizome/PPI Library/Output/IndividualResources/Unfiltered/'\n",
    "\n",
    "createSigFile(mint_uf_df, pathU, 'mint', False)"
   ]
  },
  {
   "cell_type": "markdown",
   "metadata": {},
   "source": [
    "# Filtered"
   ]
  },
  {
   "cell_type": "code",
   "execution_count": 16,
   "metadata": {
    "collapsed": true
   },
   "outputs": [],
   "source": [
    "mint_f_df = mint_df.copy()"
   ]
  },
  {
   "cell_type": "code",
   "execution_count": 17,
   "metadata": {},
   "outputs": [
    {
     "name": "stdout",
     "output_type": "stream",
     "text": [
      "Progress: 116%  3639 Out of 3129   \r"
     ]
    }
   ],
   "source": [
    "# drop any data that was published with more then 10 PPI's per publication or doesnt have a ppi\n",
    "filterPPIbyPubmed(mint_f_df, 10)"
   ]
  },
  {
   "cell_type": "markdown",
   "metadata": {},
   "source": [
    "### Combine duplicate ppis while concatanatig referances"
   ]
  },
  {
   "cell_type": "code",
   "execution_count": 18,
   "metadata": {},
   "outputs": [
    {
     "name": "stdout",
     "output_type": "stream",
     "text": [
      "Progress: 100%  5103 Out of 5103   \r"
     ]
    }
   ],
   "source": [
    "combineDupPPIs(mint_f_df)"
   ]
  },
  {
   "cell_type": "markdown",
   "metadata": {},
   "source": [
    "### Create .sig File"
   ]
  },
  {
   "cell_type": "code",
   "execution_count": 19,
   "metadata": {
    "collapsed": true
   },
   "outputs": [],
   "source": [
    "pathF = '~/./Documents/Harmonizome/PPI Library/Output/IndividualResources/Filtered/'\n",
    "\n",
    "createSigFile(mint_f_df, pathF, 'mint', True)"
   ]
  },
  {
   "cell_type": "markdown",
   "metadata": {},
   "source": [
    "## Create .gmt File"
   ]
  },
  {
<<<<<<< HEAD:PPI/MINT/MINT (PPI) Data Formatting.ipynb
   "cell_type": "code",
   "execution_count": 13,
=======
   "cell_type": "markdown",
   "metadata": {},
   "source": [
    "Code Below Written By: Marina Latif"
   ]
  },
  {
   "cell_type": "code",
   "execution_count": 24,
>>>>>>> working:PPI/MINT/.ipynb_checkpoints/MINT_(PPI)_Data_Formatting-checkpoint.ipynb
   "metadata": {
    "collapsed": true
   },
   "outputs": [],
   "source": [
    "# Download both filtered and unfiltered SIG files\n",
    "\n",
    "#Download UNFILTERED data\n",
    "#mint_sig = pd.read_table(\"~/Desktop/Projects/KEA3/PPI/MINT/mint_unfiltered_ppi_2017_07_12.sig\", header = None)\n",
    "\n",
    "#Download FILTERED data\n",
    "mint_sig = pd.read_table(\"~/Desktop/Projects/KEA3/PPI/MINT/mint_filtered_ppi_2017_07_12.sig\", header = None)"
   ]
  },
  {
   "cell_type": "code",
<<<<<<< HEAD:PPI/MINT/MINT (PPI) Data Formatting.ipynb
   "execution_count": 14,
=======
   "execution_count": 25,
>>>>>>> working:PPI/MINT/.ipynb_checkpoints/MINT_(PPI)_Data_Formatting-checkpoint.ipynb
   "metadata": {
    "collapsed": true
   },
   "outputs": [],
   "source": [
    "#convert a SIG file to a GMT file\n",
    "#Create two versions of df 'd1' --> one flipped and one which is in original order\n",
    "d1 = {'protein_1': mint_sig[0], 'protein_2': mint_sig[5]}\n",
    "df = pd.DataFrame(data = d1)\n",
<<<<<<< HEAD:PPI/MINT/MINT (PPI) Data Formatting.ipynb
=======
    "df.drop_duplicates(inplace = True)"
   ]
  },
  {
   "cell_type": "code",
   "execution_count": 26,
   "metadata": {},
   "outputs": [
    {
     "data": {
      "text/html": [
       "<div>\n",
       "<style>\n",
       "    .dataframe thead tr:only-child th {\n",
       "        text-align: right;\n",
       "    }\n",
       "\n",
       "    .dataframe thead th {\n",
       "        text-align: left;\n",
       "    }\n",
       "\n",
       "    .dataframe tbody tr th {\n",
       "        vertical-align: top;\n",
       "    }\n",
       "</style>\n",
       "<table border=\"1\" class=\"dataframe\">\n",
       "  <thead>\n",
       "    <tr style=\"text-align: right;\">\n",
       "      <th></th>\n",
       "      <th>protein_2</th>\n",
       "      <th>interactions</th>\n",
       "    </tr>\n",
       "    <tr>\n",
       "      <th>protein_1</th>\n",
       "      <th></th>\n",
       "      <th></th>\n",
       "    </tr>\n",
       "  </thead>\n",
       "  <tbody>\n",
       "    <tr>\n",
       "      <th>UBC</th>\n",
       "      <td>(IKBKG, MDM2, DTX1, MYC, GRK2, FTH1, ICAM1, SR...</td>\n",
       "      <td>97</td>\n",
       "    </tr>\n",
       "    <tr>\n",
       "      <th>TP53</th>\n",
       "      <td>(EGR1, GSK3B, BHLHE40, HIPK2, XPO1, UBC, TOPOR...</td>\n",
       "      <td>87</td>\n",
       "    </tr>\n",
       "    <tr>\n",
       "      <th>YWHAZ</th>\n",
       "      <td>(KRT19, KRT18, IL9R, PKP2, TPD52L1, CDC25B, RA...</td>\n",
       "      <td>74</td>\n",
       "    </tr>\n",
       "    <tr>\n",
       "      <th>SRC</th>\n",
       "      <td>(EFNB2, PTK2, FYN, SRC, LNX1, EGFR, ESR1, DOK2...</td>\n",
       "      <td>59</td>\n",
       "    </tr>\n",
       "    <tr>\n",
       "      <th>GRB2</th>\n",
       "      <td>(VAV1, SOS1, EGFR, MAP2, GAB2, PIK3R1, SOS2, D...</td>\n",
       "      <td>52</td>\n",
       "    </tr>\n",
       "  </tbody>\n",
       "</table>\n",
       "</div>"
      ],
      "text/plain": [
       "                                                   protein_2  interactions\n",
       "protein_1                                                                 \n",
       "UBC        (IKBKG, MDM2, DTX1, MYC, GRK2, FTH1, ICAM1, SR...            97\n",
       "TP53       (EGR1, GSK3B, BHLHE40, HIPK2, XPO1, UBC, TOPOR...            87\n",
       "YWHAZ      (KRT19, KRT18, IL9R, PKP2, TPD52L1, CDC25B, RA...            74\n",
       "SRC        (EFNB2, PTK2, FYN, SRC, LNX1, EGFR, ESR1, DOK2...            59\n",
       "GRB2       (VAV1, SOS1, EGFR, MAP2, GAB2, PIK3R1, SOS2, D...            52"
      ]
     },
     "execution_count": 26,
     "metadata": {},
     "output_type": "execute_result"
    }
   ],
   "source": [
    "#convert a SIG file to a GMT file\n",
    "#Create two versions of df 'd1' --> one flipped and one which is in original order\n",
    "d1 = {'protein_1': mint_sig[0], 'protein_2': mint_sig[5]}\n",
    "df = pd.DataFrame(data = d1)\n",
>>>>>>> working:PPI/MINT/.ipynb_checkpoints/MINT_(PPI)_Data_Formatting-checkpoint.ipynb
    "df.drop_duplicates(inplace = True)\n",
    "\n",
    "d2 = {'protein_1': mint_sig[5], 'protein_2': mint_sig[0]}\n",
    "df_flipped = pd.DataFrame(data = d2)\n",
    "df_flipped.drop_duplicates(inplace = True)\n",
    "\n",
    "#Make 'df' and 'df_flipped' into a single frame to account for opposite interactions\n",
    "extend = pd.concat([df, df_flipped])\n",
    "\n",
    "#Drop any duplicates and set index according to protein 1 so that we can aggregate \n",
    "#all interacting protein 2's by a shared interaction with protein one\n",
    "extend.drop_duplicates(inplace = True)\n",
<<<<<<< HEAD:PPI/MINT/MINT (PPI) Data Formatting.ipynb
=======
    "extend.dropna(how=\"any\", inplace = True)\n",
>>>>>>> working:PPI/MINT/.ipynb_checkpoints/MINT_(PPI)_Data_Formatting-checkpoint.ipynb
    "extend.set_index('protein_1', inplace = True)\n",
    "\n",
    "gmt = extend.groupby('protein_1').agg(lambda x: tuple(x))\n",
    "\n",
    "# Create column representing counts of protein interactions per protein\n",
    "gmt['interactions'] = [int(len(lst)) for protein, lst in gmt['protein_2'].iteritems()]\n",
    "\n",
    "# Sort proteins from max to min according to number of protein iteractions\n",
    "gmt.sort_values(by = ['interactions'], ascending= False, inplace=True)\n",
    "\n",
    "#Gain indexes of gene sets with 5 or more proteins and less than 2000 protein interactions\n",
    "indices = [index for index, rowData in gmt.interactions.iteritems() if rowData >= 5 and rowData < 2000]\n",
    "\n",
    "#filter dataframe by these indices\n",
    "gmt = gmt.loc[indices]\n",
    "\n",
    "gmt_2 = gmt.copy()\n",
    "\n",
<<<<<<< HEAD:PPI/MINT/MINT (PPI) Data Formatting.ipynb
    "#reset index and insert a column for the description\n",
    "gmt_2.insert(0, 'Description', 'No Description')\n",
=======
    "gmt.head()"
   ]
  },
  {
   "cell_type": "code",
   "execution_count": 27,
   "metadata": {
    "collapsed": true
   },
   "outputs": [],
   "source": [
    "#reset index and insert a column for the description\n",
    "gmt_2.insert(0, 'Description', 'MINT')\n",
>>>>>>> working:PPI/MINT/.ipynb_checkpoints/MINT_(PPI)_Data_Formatting-checkpoint.ipynb
    "gmt_2.reset_index(inplace = True)\n",
    "\n",
    "#Drop columns not needed in GMT and join all protein interactions by a tab\n",
    "gmt_2['merged'] = ['\\t'.join(x) for x in gmt_2['protein_2']]\n",
    "gmt_2.drop('protein_2', axis = 1, inplace = True)\n",
    "gmt_2.drop('interactions', axis = 1, inplace = True)\n",
    "\n",
    "#create a dictionary and store in it rowData corresponding to each protein\n",
    "gmt_d = dict([(key, '') for key in gmt_2.index])\n",
    "\n",
    "# loop through rows with iterrows()\n",
    "for index, rowData in gmt_2.iterrows():\n",
    "    line = ('\\t'.join(rowData))\n",
    "    gmt_d[index] = line"
   ]
  },
  {
   "cell_type": "markdown",
   "metadata": {},
   "source": [
    "## Print GMT to File and Gather Statistics"
   ]
  },
  {
   "cell_type": "code",
<<<<<<< HEAD:PPI/MINT/MINT (PPI) Data Formatting.ipynb
   "execution_count": 15,
=======
   "execution_count": 28,
>>>>>>> working:PPI/MINT/.ipynb_checkpoints/MINT_(PPI)_Data_Formatting-checkpoint.ipynb
   "metadata": {},
   "outputs": [
    {
     "data": {
      "text/plain": [
       "554"
      ]
     },
<<<<<<< HEAD:PPI/MINT/MINT (PPI) Data Formatting.ipynb
     "execution_count": 15,
=======
     "execution_count": 28,
>>>>>>> working:PPI/MINT/.ipynb_checkpoints/MINT_(PPI)_Data_Formatting-checkpoint.ipynb
     "metadata": {},
     "output_type": "execute_result"
    }
   ],
   "source": [
    "genes_term = gmt.interactions\n",
    "\n",
    "len(genes_term)"
   ]
  },
  {
   "cell_type": "code",
<<<<<<< HEAD:PPI/MINT/MINT (PPI) Data Formatting.ipynb
   "execution_count": 16,
=======
   "execution_count": 29,
>>>>>>> working:PPI/MINT/.ipynb_checkpoints/MINT_(PPI)_Data_Formatting-checkpoint.ipynb
   "metadata": {},
   "outputs": [
    {
     "data": {
      "text/plain": [
       "5517"
      ]
     },
<<<<<<< HEAD:PPI/MINT/MINT (PPI) Data Formatting.ipynb
     "execution_count": 16,
=======
     "execution_count": 29,
>>>>>>> working:PPI/MINT/.ipynb_checkpoints/MINT_(PPI)_Data_Formatting-checkpoint.ipynb
     "metadata": {},
     "output_type": "execute_result"
    }
   ],
   "source": [
    "sum(genes_term)"
   ]
  },
  {
   "cell_type": "code",
<<<<<<< HEAD:PPI/MINT/MINT (PPI) Data Formatting.ipynb
   "execution_count": 17,
=======
   "execution_count": 30,
>>>>>>> working:PPI/MINT/.ipynb_checkpoints/MINT_(PPI)_Data_Formatting-checkpoint.ipynb
   "metadata": {},
   "outputs": [
    {
     "data": {
      "text/plain": [
       "9.958483754512635"
      ]
     },
<<<<<<< HEAD:PPI/MINT/MINT (PPI) Data Formatting.ipynb
     "execution_count": 17,
=======
     "execution_count": 30,
>>>>>>> working:PPI/MINT/.ipynb_checkpoints/MINT_(PPI)_Data_Formatting-checkpoint.ipynb
     "metadata": {},
     "output_type": "execute_result"
    }
   ],
   "source": [
    "avg_num_terms = genes_term.mean(axis = 0)\n",
    "avg_num_terms"
   ]
  },
  {
   "cell_type": "code",
<<<<<<< HEAD:PPI/MINT/MINT (PPI) Data Formatting.ipynb
   "execution_count": 18,
=======
   "execution_count": 31,
>>>>>>> working:PPI/MINT/.ipynb_checkpoints/MINT_(PPI)_Data_Formatting-checkpoint.ipynb
   "metadata": {},
   "outputs": [
    {
     "data": {
      "text/plain": [
       "2203"
      ]
     },
<<<<<<< HEAD:PPI/MINT/MINT (PPI) Data Formatting.ipynb
     "execution_count": 18,
=======
     "execution_count": 31,
>>>>>>> working:PPI/MINT/.ipynb_checkpoints/MINT_(PPI)_Data_Formatting-checkpoint.ipynb
     "metadata": {},
     "output_type": "execute_result"
    }
   ],
   "source": [
    "#For inclusion on website as a statistic, calculate \n",
    "#the total number of unique terms for the dataset\n",
    "stat_df = extend.loc[indices]\n",
    "\n",
    "stat_df.reset_index(inplace=True)\n",
    "\n",
    "all_terms = pd.concat([stat_df.protein_1, stat_df.protein_2], axis = 0)\n",
    "len(all_terms.unique())"
   ]
  },
  {
   "cell_type": "code",
<<<<<<< HEAD:PPI/MINT/MINT (PPI) Data Formatting.ipynb
   "execution_count": 19,
=======
   "execution_count": 33,
>>>>>>> working:PPI/MINT/.ipynb_checkpoints/MINT_(PPI)_Data_Formatting-checkpoint.ipynb
   "metadata": {
    "collapsed": true
   },
   "outputs": [],
   "source": [
    "#Transfer tab-separated info into a new gmt file\n",
    "with open('mint_ppi_filtered.gmt', 'w') as openfile:\n",
    "    for index in gmt_d:\n",
    "        openfile.write(str(gmt_d[index]) + '\\n')"
   ]
  }
 ],
 "metadata": {
  "kernelspec": {
   "display_name": "Python 3",
   "language": "python",
   "name": "python3"
  },
  "language_info": {
   "codemirror_mode": {
    "name": "ipython",
    "version": 3
   },
   "file_extension": ".py",
   "mimetype": "text/x-python",
   "name": "python",
   "nbconvert_exporter": "python",
   "pygments_lexer": "ipython3",
   "version": "3.6.1"
  }
 },
 "nbformat": 4,
 "nbformat_minor": 2
}
