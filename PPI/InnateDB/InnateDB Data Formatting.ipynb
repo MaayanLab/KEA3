{
 "cells": [
  {
   "cell_type": "markdown",
   "metadata": {},
   "source": [
    "# InnateDm"
   ]
  },
  {
   "cell_type": "markdown",
   "metadata": {},
   "source": [
    "Author: Moshe C. Silverstein  \n",
    "Date: 07-2017"
   ]
  },
  {
   "cell_type": "code",
   "execution_count": 1,
   "metadata": {
    "collapsed": true
   },
   "outputs": [],
   "source": [
    "import sys\n",
    "import numpy as np\n",
    "import pandas as pd\n",
    "import Utilities\n",
    "from Utilities import *\n",
    "from importlib import reload"
   ]
  },
  {
   "cell_type": "markdown",
   "metadata": {},
   "source": [
    "# Load Data"
   ]
  },
  {
   "cell_type": "markdown",
   "metadata": {},
   "source": [
    "Data Retrieved 1/25/2017\n",
    "\n",
    "http://www.innatedb.com/download/interactions/innatedb_ppi.mitab.gz (InnateDB)"
   ]
  },
  {
   "cell_type": "code",
   "execution_count": 2,
   "metadata": {
    "collapsed": true
   },
   "outputs": [],
   "source": [
    "innatedb_df = pd.read_csv('/Users/moshesilverstein/Documents/Harmonizome/PPI Library/Input/innatedb_ppi.mitab', sep='\\t', index_col=False)"
   ]
  },
  {
   "cell_type": "markdown",
   "metadata": {},
   "source": [
    "# Load Gene Mapping File"
   ]
  },
  {
   "cell_type": "code",
   "execution_count": 3,
   "metadata": {
    "collapsed": true
   },
   "outputs": [],
   "source": [
    "mappingFile = pd.read_csv('/Users/moshesilverstein/Documents/Harmonizome/PPI Library/Doc and Mapping/mappingFile_2017.txt', sep='\\t', header=None, index_col=0)"
   ]
  },
  {
   "cell_type": "markdown",
   "metadata": {},
   "source": [
    "# Select Relevent Data"
   ]
  },
  {
   "cell_type": "code",
   "execution_count": 4,
   "metadata": {
    "collapsed": true
   },
   "outputs": [],
   "source": [
    "# get only human and mouse data\n",
    "n = innatedb_df['ncbi_taxid_A'].values\n",
    "b = [i for i,item in enumerate(n) if \"Human\" in item]\n",
    "innatedb_df = innatedb_df.ix[b]\n",
    "\n",
    "innatedb_df =  innatedb_df.reset_index().drop('index', axis=1)\n",
    "\n",
    "n = innatedb_df['ncbi_taxid_B'].values\n",
    "b = [i for i,item in enumerate(n) if \"Human\" in item]\n",
    "innatedb_df = innatedb_df.ix[b]"
   ]
  },
  {
   "cell_type": "code",
   "execution_count": 5,
   "metadata": {
    "collapsed": true
   },
   "outputs": [],
   "source": [
    "innatedb_df = innatedb_df[['alias_A', 'alias_B', 'pmid', 'source_database']]"
   ]
  },
  {
   "cell_type": "code",
   "execution_count": 6,
   "metadata": {
    "collapsed": true
   },
   "outputs": [],
   "source": [
    "innatedb_df.rename(columns={'alias_A': 'Protein A (gene name)', 'alias_B':'Protein B (gene name)', 'pmid':'PubMed ID', 'source_database':'Source databases'}, inplace=True)"
   ]
  },
  {
   "cell_type": "code",
   "execution_count": 7,
   "metadata": {},
   "outputs": [
    {
     "name": "stdout",
     "output_type": "stream",
     "text": [
      "Progress: 99%  19011 Out of 19036   \r"
     ]
    }
   ],
   "source": [
    "# change columns to just show gene name\n",
    "changePPIToShowGeneName(innatedb_df)"
   ]
  },
  {
   "cell_type": "code",
   "execution_count": 8,
   "metadata": {
    "collapsed": true
   },
   "outputs": [],
   "source": [
    "innatedb_df.head()"
   ]
  },
  {
   "cell_type": "markdown",
   "metadata": {},
   "source": [
    "# Map Gene to human and updated approved symbols"
   ]
  },
  {
   "cell_type": "code",
   "execution_count": 9,
   "metadata": {},
   "outputs": [
    {
     "name": "stdout",
     "output_type": "stream",
     "text": [
      "Progeres: 91%  17452 Out of 19036   \r"
     ]
    }
   ],
   "source": [
    "mapgenesymbols(innatedb_df, mappingFile, 'Protein A (gene name)', 'Protein B (gene name)')"
   ]
  },
  {
   "cell_type": "code",
   "execution_count": 10,
   "metadata": {
    "collapsed": true
   },
   "outputs": [],
   "source": [
    "innatedb_df.shape"
   ]
  },
  {
   "cell_type": "markdown",
   "metadata": {},
   "source": [
    "# Get PubMed Ids"
   ]
  },
  {
   "cell_type": "code",
   "execution_count": 11,
   "metadata": {
    "collapsed": true
   },
   "outputs": [],
   "source": [
    "# Get Only PubMed ID for publication identifier\n",
    "getPubMedIds(innatedb_df, 'PubMed ID')"
   ]
  },
  {
   "cell_type": "markdown",
   "metadata": {},
   "source": [
    "# Unfiltered"
   ]
  },
  {
   "cell_type": "code",
   "execution_count": 12,
   "metadata": {
    "collapsed": true
   },
   "outputs": [],
   "source": [
    "# uf = unfiltered\n",
    "innatedb_uf_df = innatedb_df.copy()"
   ]
  },
  {
   "cell_type": "markdown",
   "metadata": {},
   "source": [
    "### Combine duplicate ppis while concatanatig referances"
   ]
  },
  {
   "cell_type": "code",
   "execution_count": 13,
   "metadata": {},
   "outputs": [
    {
     "name": "stdout",
     "output_type": "stream",
     "text": [
      "Progress: 100%  10268 Out of 10268   \r"
     ]
    }
   ],
   "source": [
    "combineDupPPIs(innatedb_uf_df)"
   ]
  },
  {
   "cell_type": "markdown",
   "metadata": {},
   "source": [
    "### Create .sig File"
   ]
  },
  {
   "cell_type": "code",
   "execution_count": 14,
   "metadata": {
    "collapsed": true
   },
   "outputs": [],
   "source": [
    "pathU = '~/./Documents/Harmonizome/PPI Library/Output/IndividualResources/Unfiltered/'\n",
    "\n",
    "createSigFile(innatedb_uf_df, pathU, 'innateDB', False)"
   ]
  },
  {
   "cell_type": "markdown",
   "metadata": {},
   "source": [
    "# Filtered"
   ]
  },
  {
   "cell_type": "code",
   "execution_count": 15,
   "metadata": {
    "collapsed": true
   },
   "outputs": [],
   "source": [
    "innatedb_f_df = innatedb_df.copy()"
   ]
  },
  {
   "cell_type": "code",
   "execution_count": 16,
   "metadata": {},
   "outputs": [
    {
     "data": {
      "text/plain": [
       "(19035, 4)"
      ]
     },
     "execution_count": 16,
     "metadata": {},
     "output_type": "execute_result"
    }
   ],
   "source": [
    "innatedb_f_df.shape"
   ]
  },
  {
   "cell_type": "code",
   "execution_count": 17,
   "metadata": {},
   "outputs": [
    {
     "name": "stdout",
     "output_type": "stream",
     "text": [
      "Progress: 106%  3069 Out of 2873   \r"
     ]
    }
   ],
   "source": [
    "# drop any data that was published with more then 10 PPI's per publication or doesnt have a ppi\n",
    "filterPPIbyPubmed(innatedb_f_df, 10)"
   ]
  },
  {
   "cell_type": "markdown",
   "metadata": {},
   "source": [
    "### Combine duplicate ppis while concatanatig referances"
   ]
  },
  {
   "cell_type": "code",
   "execution_count": 18,
   "metadata": {},
   "outputs": [
    {
     "name": "stdout",
     "output_type": "stream",
     "text": [
      "Progress: 100%  4576 Out of 4576   \r"
     ]
    }
   ],
   "source": [
    "combineDupPPIs(innatedb_f_df)"
   ]
  },
  {
   "cell_type": "markdown",
   "metadata": {},
   "source": [
    "### Create .sig File"
   ]
  },
  {
   "cell_type": "code",
   "execution_count": 19,
   "metadata": {
    "collapsed": true
   },
   "outputs": [],
   "source": [
    "pathF = '~/./Documents/Harmonizome/PPI Library/Output/IndividualResources/Filtered/'\n",
    "\n",
    "createSigFile(innatedb_f_df, pathF, 'innateDB', True)"
   ]
  }
 ],
 "metadata": {
  "kernelspec": {
   "display_name": "Python [default]",
   "language": "python",
   "name": "python3"
  },
  "language_info": {
   "codemirror_mode": {
    "name": "ipython",
    "version": 3
   },
   "file_extension": ".py",
   "mimetype": "text/x-python",
   "name": "python",
   "nbconvert_exporter": "python",
   "pygments_lexer": "ipython3",
   "version": "3.5.2"
  }
 },
 "nbformat": 4,
 "nbformat_minor": 2
}
