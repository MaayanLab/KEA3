{
 "cells": [
  {
   "cell_type": "markdown",
   "metadata": {},
   "source": [
    "# InnateDm"
   ]
  },
  {
   "cell_type": "markdown",
   "metadata": {},
   "source": [
    "Author: Moshe C. Silverstein  \n",
    "Date: 07-2017"
   ]
  },
  {
   "cell_type": "code",
   "execution_count": 1,
   "metadata": {
    "collapsed": true
   },
   "outputs": [],
   "source": [
    "import sys\n",
    "import numpy as np\n",
    "import pandas as pd\n",
    "import Utilities\n",
    "from Utilities import *\n",
    "from importlib import reload"
   ]
  },
  {
   "cell_type": "markdown",
   "metadata": {},
   "source": [
    "# Load Data"
   ]
  },
  {
   "cell_type": "markdown",
   "metadata": {},
   "source": [
    "Data Retrieved 1/25/2017\n",
    "\n",
    "http://www.innatedb.com/download/interactions/innatedb_ppi.mitab.gz (InnateDB)"
   ]
  },
  {
   "cell_type": "code",
   "execution_count": 2,
   "metadata": {
    "collapsed": true
   },
   "outputs": [],
   "source": [
    "innatedb_df = pd.read_csv('/Users/moshesilverstein/Documents/Harmonizome/PPI Library/Input/innatedb_ppi.mitab', sep='\\t', index_col=False)"
   ]
  },
  {
   "cell_type": "markdown",
   "metadata": {},
   "source": [
    "# Load Gene Mapping File"
   ]
  },
  {
   "cell_type": "code",
   "execution_count": 3,
   "metadata": {
    "collapsed": true
   },
   "outputs": [],
   "source": [
    "mappingFile = pd.read_csv('/Users/moshesilverstein/Documents/Harmonizome/PPI Library/Doc and Mapping/mappingFile_2017.txt', sep='\\t', header=None, index_col=0)"
   ]
  },
  {
   "cell_type": "markdown",
   "metadata": {},
   "source": [
    "# Select Relevent Data"
   ]
  },
  {
   "cell_type": "code",
   "execution_count": 4,
   "metadata": {
    "collapsed": true
   },
   "outputs": [],
   "source": [
    "# get only human and mouse data\n",
    "n = innatedb_df['ncbi_taxid_A'].values\n",
    "b = [i for i,item in enumerate(n) if \"Human\" in item]\n",
    "innatedb_df = innatedb_df.ix[b]\n",
    "\n",
    "innatedb_df =  innatedb_df.reset_index().drop('index', axis=1)\n",
    "\n",
    "n = innatedb_df['ncbi_taxid_B'].values\n",
    "b = [i for i,item in enumerate(n) if \"Human\" in item]\n",
    "innatedb_df = innatedb_df.ix[b]"
   ]
  },
  {
   "cell_type": "code",
   "execution_count": 5,
   "metadata": {
    "collapsed": true
   },
   "outputs": [],
   "source": [
    "innatedb_df = innatedb_df[['alias_A', 'alias_B', 'pmid', 'source_database']]"
   ]
  },
  {
   "cell_type": "code",
   "execution_count": 6,
   "metadata": {
    "collapsed": true
   },
   "outputs": [],
   "source": [
    "innatedb_df.rename(columns={'alias_A': 'Protein A (gene name)', 'alias_B':'Protein B (gene name)', 'pmid':'PubMed ID', 'source_database':'Source databases'}, inplace=True)"
   ]
  },
  {
   "cell_type": "code",
   "execution_count": 7,
   "metadata": {},
   "outputs": [
    {
     "name": "stdout",
     "output_type": "stream",
     "text": [
      "Progress: 99%  19011 Out of 19036   \r"
     ]
    }
   ],
   "source": [
    "# change columns to just show gene name\n",
    "changePPIToShowGeneName(innatedb_df)"
   ]
  },
  {
   "cell_type": "code",
   "execution_count": 8,
   "metadata": {
    "collapsed": true
   },
   "outputs": [],
   "source": [
    "innatedb_df.head()"
   ]
  },
  {
   "cell_type": "markdown",
   "metadata": {},
   "source": [
    "# Map Gene to human and updated approved symbols"
   ]
  },
  {
   "cell_type": "code",
   "execution_count": 9,
   "metadata": {},
   "outputs": [
    {
     "name": "stdout",
     "output_type": "stream",
     "text": [
      "Progeres: 91%  17452 Out of 19036   \r"
     ]
    }
   ],
   "source": [
    "mapgenesymbols(innatedb_df, mappingFile, 'Protein A (gene name)', 'Protein B (gene name)')"
   ]
  },
  {
   "cell_type": "code",
   "execution_count": 10,
   "metadata": {
    "collapsed": true
   },
   "outputs": [],
   "source": [
    "innatedb_df.shape"
   ]
  },
  {
   "cell_type": "markdown",
   "metadata": {},
   "source": [
    "# Get PubMed Ids"
   ]
  },
  {
   "cell_type": "code",
   "execution_count": 11,
   "metadata": {
    "collapsed": true
   },
   "outputs": [],
   "source": [
    "# Get Only PubMed ID for publication identifier\n",
    "getPubMedIds(innatedb_df, 'PubMed ID')"
   ]
  },
  {
   "cell_type": "markdown",
   "metadata": {},
   "source": [
    "# Unfiltered"
   ]
  },
  {
   "cell_type": "code",
   "execution_count": 12,
   "metadata": {
    "collapsed": true
   },
   "outputs": [],
   "source": [
    "# uf = unfiltered\n",
    "innatedb_uf_df = innatedb_df.copy()"
   ]
  },
  {
   "cell_type": "markdown",
   "metadata": {},
   "source": [
    "### Combine duplicate ppis while concatanatig referances"
   ]
  },
  {
   "cell_type": "code",
   "execution_count": 13,
   "metadata": {},
   "outputs": [
    {
     "name": "stdout",
     "output_type": "stream",
     "text": [
      "Progress: 100%  10268 Out of 10268   \r"
     ]
    }
   ],
   "source": [
    "combineDupPPIs(innatedb_uf_df)"
   ]
  },
  {
   "cell_type": "markdown",
   "metadata": {},
   "source": [
    "### Create .sig File"
   ]
  },
  {
   "cell_type": "code",
   "execution_count": 14,
   "metadata": {
    "collapsed": true
   },
   "outputs": [],
   "source": [
    "pathU = '~/./Documents/Harmonizome/PPI Library/Output/IndividualResources/Unfiltered/'\n",
    "\n",
    "createSigFile(innatedb_uf_df, pathU, 'innateDB', False)"
   ]
  },
  {
   "cell_type": "markdown",
   "metadata": {},
   "source": [
    "# Filtered"
   ]
  },
  {
   "cell_type": "code",
   "execution_count": 15,
   "metadata": {
    "collapsed": true
   },
   "outputs": [],
   "source": [
    "innatedb_f_df = innatedb_df.copy()"
   ]
  },
  {
   "cell_type": "code",
   "execution_count": 16,
   "metadata": {},
   "outputs": [
    {
     "data": {
      "text/plain": [
       "(19035, 4)"
      ]
     },
     "execution_count": 16,
     "metadata": {},
     "output_type": "execute_result"
    }
   ],
   "source": [
    "innatedb_f_df.shape"
   ]
  },
  {
   "cell_type": "code",
   "execution_count": 17,
   "metadata": {},
   "outputs": [
    {
     "name": "stdout",
     "output_type": "stream",
     "text": [
      "Progress: 106%  3069 Out of 2873   \r"
     ]
    }
   ],
   "source": [
    "# drop any data that was published with more then 10 PPI's per publication or doesnt have a ppi\n",
    "filterPPIbyPubmed(innatedb_f_df, 10)"
   ]
  },
  {
   "cell_type": "markdown",
   "metadata": {},
   "source": [
    "### Combine duplicate ppis while concatanatig referances"
   ]
  },
  {
   "cell_type": "code",
   "execution_count": 18,
   "metadata": {},
   "outputs": [
    {
     "name": "stdout",
     "output_type": "stream",
     "text": [
      "Progress: 100%  4576 Out of 4576   \r"
     ]
    }
   ],
   "source": [
    "combineDupPPIs(innatedb_f_df)"
   ]
  },
  {
   "cell_type": "markdown",
   "metadata": {},
   "source": [
    "### Create .sig File"
   ]
  },
  {
   "cell_type": "code",
   "execution_count": 19,
   "metadata": {
    "collapsed": true
   },
   "outputs": [],
   "source": [
    "pathF = '~/./Documents/Harmonizome/PPI Library/Output/IndividualResources/Filtered/'\n",
    "\n",
    "createSigFile(innatedb_f_df, pathF, 'innateDB', True)"
   ]
  },
  {
   "cell_type": "markdown",
   "metadata": {},
   "source": [
    "## Create .gmt File"
   ]
  },
  {
   "cell_type": "code",
   "execution_count": 2,
   "metadata": {
    "collapsed": true
   },
   "outputs": [],
   "source": [
    "# Download both filtered and unfiltered SIG files\n",
    "\n",
    "#Download UNFILTERED data\n",
    "innatedb_sig = pd.read_table(\"~/Desktop/Projects/KEA3/PPI/InnateDB/innateDB_unfiltered_ppi_2017_07_12.sig\", header = None)\n",
    "\n",
    "#Download FILTERED data\n",
    "#innatedb_sig = pd.read_table(\"~/Desktop/Projects/KEA3/PPI/InnateDB/innateDB_filtered_ppi_2017_07_12.sig\", header = None)"
   ]
  },
  {
   "cell_type": "code",
   "execution_count": 3,
   "metadata": {
    "collapsed": true
   },
   "outputs": [],
   "source": [
    "#convert a SIG file to a GMT file\n",
    "#Create two versions of df 'd1' --> one flipped and one which is in original order\n",
    "d1 = {'protein_1': innatedb_sig[0], 'protein_2': innatedb_sig[5]}\n",
    "df = pd.DataFrame(data = d1)\n",
    "df.drop_duplicates(inplace = True)\n",
    "\n",
    "d2 = {'protein_1': innatedb_sig[5], 'protein_2': innatedb_sig[0]}\n",
    "df_flipped = pd.DataFrame(data = d2)\n",
    "df_flipped.drop_duplicates(inplace = True)\n",
    "\n",
    "#Make 'df' and 'df_flipped' into a single frame to account for opposite interactions\n",
    "extend = pd.concat([df, df_flipped])\n",
    "\n",
    "#Drop any duplicates and set index according to protein 1 so that we can aggregate \n",
    "#all interacting protein 2's by a shared interaction with protein one\n",
    "extend.drop_duplicates(inplace = True)\n",
    "extend.set_index('protein_1', inplace = True)\n",
    "\n",
    "gmt = extend.groupby('protein_1').agg(lambda x: tuple(x))\n",
    "\n",
    "# Create column representing counts of protein interactions per protein\n",
    "gmt['interactions'] = [int(len(lst)) for protein, lst in gmt['protein_2'].iteritems()]\n",
    "\n",
    "# Sort proteins from max to min according to number of protein iteractions\n",
    "gmt.sort_values(by = ['interactions'], ascending= False, inplace=True)\n",
    "\n",
    "#Gain indexes of gene sets with 5 or more proteins and less than 2000 protein interactions\n",
    "indices = [index for index, rowData in gmt.interactions.iteritems() if rowData >= 5 and rowData < 2000]\n",
    "\n",
    "#filter dataframe by these indices\n",
    "gmt = gmt.loc[indices]\n",
    "\n",
    "gmt_2 = gmt.copy()\n",
    "\n",
    "#reset index and insert a column for the description\n",
    "gmt_2.insert(0, 'Description', 'No Description')\n",
    "gmt_2.reset_index(inplace = True)\n",
    "\n",
    "#Drop columns not needed in GMT and join all protein interactions by a tab\n",
    "gmt_2['merged'] = ['\\t'.join(x) for x in gmt_2['protein_2']]\n",
    "gmt_2.drop('protein_2', axis = 1, inplace = True)\n",
    "gmt_2.drop('interactions', axis = 1, inplace = True)\n",
    "\n",
    "#create a dictionary and store in it rowData corresponding to each protein\n",
    "gmt_d = dict([(key, '') for key in gmt_2.index])\n",
    "\n",
    "# loop through rows with iterrows()\n",
    "for index, rowData in gmt_2.iterrows():\n",
    "    line = ('\\t'.join(rowData))\n",
    "    gmt_d[index] = line"
   ]
  },
  {
   "cell_type": "markdown",
   "metadata": {},
   "source": [
    "## Print GMT to File and Gather Statistics"
   ]
  },
  {
   "cell_type": "code",
   "execution_count": 4,
   "metadata": {},
   "outputs": [
    {
     "data": {
      "text/plain": [
       "879"
      ]
     },
     "execution_count": 4,
     "metadata": {},
     "output_type": "execute_result"
    }
   ],
   "source": [
    "genes_term = gmt.interactions\n",
    "\n",
    "len(genes_term)"
   ]
  },
  {
   "cell_type": "code",
   "execution_count": 5,
   "metadata": {},
   "outputs": [
    {
     "data": {
      "text/plain": [
       "13876"
      ]
     },
     "execution_count": 5,
     "metadata": {},
     "output_type": "execute_result"
    }
   ],
   "source": [
    "sum(genes_term)"
   ]
  },
  {
   "cell_type": "code",
   "execution_count": 6,
   "metadata": {},
   "outputs": [
    {
     "data": {
      "text/plain": [
       "15.786120591581343"
      ]
     },
     "execution_count": 6,
     "metadata": {},
     "output_type": "execute_result"
    }
   ],
   "source": [
    "avg_num_terms = genes_term.mean(axis = 0)\n",
    "avg_num_terms"
   ]
  },
  {
   "cell_type": "code",
   "execution_count": 7,
   "metadata": {},
   "outputs": [
    {
     "data": {
      "text/plain": [
       "4378"
      ]
     },
     "execution_count": 7,
     "metadata": {},
     "output_type": "execute_result"
    }
   ],
   "source": [
    "#For inclusion on website as a statistic, calculate \n",
    "#the total number of unique terms for the dataset\n",
    "stat_df = extend.loc[indices]\n",
    "\n",
    "stat_df.reset_index(inplace=True)\n",
    "\n",
    "all_terms = pd.concat([stat_df.protein_1, stat_df.protein_2], axis = 0)\n",
    "len(all_terms.unique())"
   ]
  },
  {
   "cell_type": "code",
   "execution_count": 16,
   "metadata": {
    "collapsed": true
   },
   "outputs": [],
   "source": [
    "#Transfer tab-separated info into a new gmt file\n",
    "with open('innatedb_ppi_filtered.gmt', 'w') as openfile:\n",
    "    for index in gmt_d:\n",
    "        openfile.write(str(gmt_d[index]) + '\\n')"
   ]
  }
 ],
 "metadata": {
  "kernelspec": {
   "display_name": "Python 3",
   "language": "python",
   "name": "python3"
  },
  "language_info": {
   "codemirror_mode": {
    "name": "ipython",
    "version": 3
   },
   "file_extension": ".py",
   "mimetype": "text/x-python",
   "name": "python",
   "nbconvert_exporter": "python",
   "pygments_lexer": "ipython3",
   "version": "3.6.1"
  }
 },
 "nbformat": 4,
 "nbformat_minor": 2
}
