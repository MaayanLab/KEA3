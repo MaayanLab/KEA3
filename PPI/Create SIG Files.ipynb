{
 "cells": [
  {
   "cell_type": "code",
   "execution_count": 181,
   "metadata": {
    "collapsed": true
   },
   "outputs": [],
   "source": [
    "import numpy as np\n",
    "import pandas as pd\n",
    "import sys, datetime"
   ]
  },
  {
   "cell_type": "code",
   "execution_count": 179,
   "metadata": {
    "collapsed": true
   },
   "outputs": [],
   "source": [
    "sig_col = ['Source Name', 'Source Human Accession', 'Source Mouse Accession',\n",
    "          'Source Type', 'Source Location', 'Target Name',\n",
    "          'Target Human Accession', 'Target Mouse Accession', 'Target Type',\n",
    "          'Target Location', 'Effect', 'Type of Interaction',\n",
    "          'PubMed IDs']"
   ]
  },
  {
   "cell_type": "code",
   "execution_count": 53,
   "metadata": {
    "collapsed": true
   },
   "outputs": [],
   "source": [
    "path = '~/./Documents/Harmonizome/PPI Library/Output/IndividualResources/Filtered/'"
   ]
  },
  {
   "cell_type": "code",
   "execution_count": 54,
   "metadata": {
    "collapsed": true
   },
   "outputs": [],
   "source": [
    "# HOMOLOGENE\n",
    "mapping_path = '~/./Documents/Harmonizome/PPI Library/Doc and Mapping/HomoloGene.tsv'\n",
    "mapping = pd.read_csv(mapping_path, sep='\\t', header=None)"
   ]
  },
  {
   "cell_type": "code",
   "execution_count": 55,
   "metadata": {},
   "outputs": [],
   "source": [
    "mapping.set_index([0, 1], inplace=True)"
   ]
  },
  {
   "cell_type": "code",
   "execution_count": 56,
   "metadata": {},
   "outputs": [
    {
     "data": {
      "text/html": [
       "<div>\n",
       "<table border=\"1\" class=\"dataframe\">\n",
       "  <thead>\n",
       "    <tr style=\"text-align: right;\">\n",
       "      <th></th>\n",
       "      <th></th>\n",
       "      <th>2</th>\n",
       "      <th>3</th>\n",
       "      <th>4</th>\n",
       "      <th>5</th>\n",
       "    </tr>\n",
       "    <tr>\n",
       "      <th>0</th>\n",
       "      <th>1</th>\n",
       "      <th></th>\n",
       "      <th></th>\n",
       "      <th></th>\n",
       "      <th></th>\n",
       "    </tr>\n",
       "  </thead>\n",
       "  <tbody>\n",
       "    <tr>\n",
       "      <th rowspan=\"5\" valign=\"top\">3</th>\n",
       "      <th>9606</th>\n",
       "      <td>34</td>\n",
       "      <td>ACADM</td>\n",
       "      <td>4557231</td>\n",
       "      <td>NP_000007.1</td>\n",
       "    </tr>\n",
       "    <tr>\n",
       "      <th>9598</th>\n",
       "      <td>469356</td>\n",
       "      <td>ACADM</td>\n",
       "      <td>160961497</td>\n",
       "      <td>NP_001104286.1</td>\n",
       "    </tr>\n",
       "    <tr>\n",
       "      <th>9544</th>\n",
       "      <td>705168</td>\n",
       "      <td>ACADM</td>\n",
       "      <td>109008502</td>\n",
       "      <td>XP_001101274.1</td>\n",
       "    </tr>\n",
       "    <tr>\n",
       "      <th>9615</th>\n",
       "      <td>490207</td>\n",
       "      <td>ACADM</td>\n",
       "      <td>545503811</td>\n",
       "      <td>XP_005622188.1</td>\n",
       "    </tr>\n",
       "    <tr>\n",
       "      <th>9913</th>\n",
       "      <td>505968</td>\n",
       "      <td>ACADM</td>\n",
       "      <td>115497690</td>\n",
       "      <td>NP_001068703.1</td>\n",
       "    </tr>\n",
       "  </tbody>\n",
       "</table>\n",
       "</div>"
      ],
      "text/plain": [
       "             2      3          4               5\n",
       "0 1                                             \n",
       "3 9606      34  ACADM    4557231     NP_000007.1\n",
       "  9598  469356  ACADM  160961497  NP_001104286.1\n",
       "  9544  705168  ACADM  109008502  XP_001101274.1\n",
       "  9615  490207  ACADM  545503811  XP_005622188.1\n",
       "  9913  505968  ACADM  115497690  NP_001068703.1"
      ]
     },
     "execution_count": 56,
     "metadata": {},
     "output_type": "execute_result"
    }
   ],
   "source": [
    "mapping.head()"
   ]
  },
  {
   "cell_type": "markdown",
   "metadata": {},
   "source": [
    "### BioGridm"
   ]
  },
  {
   "cell_type": "code",
   "execution_count": 23,
   "metadata": {},
   "outputs": [],
   "source": [
    "bioGrid_human = pd.read_csv(path+'ppi_network_biogrid_human_filtered_2017_02_15.tsv', sep='\\t')"
   ]
  },
  {
   "cell_type": "code",
   "execution_count": 25,
   "metadata": {},
   "outputs": [
    {
     "data": {
      "text/html": [
       "<div>\n",
       "<table border=\"1\" class=\"dataframe\">\n",
       "  <thead>\n",
       "    <tr style=\"text-align: right;\">\n",
       "      <th></th>\n",
       "      <th>Protein A (gene name)</th>\n",
       "      <th>Protein B (gene name)</th>\n",
       "      <th>PubMed ID</th>\n",
       "      <th>Source databases</th>\n",
       "    </tr>\n",
       "  </thead>\n",
       "  <tbody>\n",
       "    <tr>\n",
       "      <th>0</th>\n",
       "      <td>A1CF</td>\n",
       "      <td>APOBEC1</td>\n",
       "      <td>10669759|11134005</td>\n",
       "      <td>psi-mi:\"MI:0463\"(biogrid)|psi-mi:\"MI:0463\"(bio...</td>\n",
       "    </tr>\n",
       "    <tr>\n",
       "      <th>1</th>\n",
       "      <td>A1CF</td>\n",
       "      <td>SYNCRIP</td>\n",
       "      <td>11134005</td>\n",
       "      <td>psi-mi:\"MI:0463\"(biogrid)</td>\n",
       "    </tr>\n",
       "    <tr>\n",
       "      <th>2</th>\n",
       "      <td>A1CF</td>\n",
       "      <td>KHSRP</td>\n",
       "      <td>10781591</td>\n",
       "      <td>psi-mi:\"MI:0463\"(biogrid)</td>\n",
       "    </tr>\n",
       "    <tr>\n",
       "      <th>3</th>\n",
       "      <td>A2M</td>\n",
       "      <td>APOE</td>\n",
       "      <td>9831625</td>\n",
       "      <td>psi-mi:\"MI:0463\"(biogrid)</td>\n",
       "    </tr>\n",
       "    <tr>\n",
       "      <th>4</th>\n",
       "      <td>A2M</td>\n",
       "      <td>IL10</td>\n",
       "      <td>10714547</td>\n",
       "      <td>psi-mi:\"MI:0463\"(biogrid)</td>\n",
       "    </tr>\n",
       "  </tbody>\n",
       "</table>\n",
       "</div>"
      ],
      "text/plain": [
       "  Protein A (gene name) Protein B (gene name)          PubMed ID  \\\n",
       "0                  A1CF               APOBEC1  10669759|11134005   \n",
       "1                  A1CF               SYNCRIP           11134005   \n",
       "2                  A1CF                 KHSRP           10781591   \n",
       "3                   A2M                  APOE            9831625   \n",
       "4                   A2M                  IL10           10714547   \n",
       "\n",
       "                                    Source databases  \n",
       "0  psi-mi:\"MI:0463\"(biogrid)|psi-mi:\"MI:0463\"(bio...  \n",
       "1                          psi-mi:\"MI:0463\"(biogrid)  \n",
       "2                          psi-mi:\"MI:0463\"(biogrid)  \n",
       "3                          psi-mi:\"MI:0463\"(biogrid)  \n",
       "4                          psi-mi:\"MI:0463\"(biogrid)  "
      ]
     },
     "execution_count": 25,
     "metadata": {},
     "output_type": "execute_result"
    }
   ],
   "source": [
    "bioGrid_human.head()"
   ]
  },
  {
   "cell_type": "code",
   "execution_count": 166,
   "metadata": {
    "collapsed": true
   },
   "outputs": [],
   "source": [
    "bioGrid_mouse = pd.read_csv(path+'ppi_network_biogrid_mouse_filtered_2017_02_15.tsv', sep='\\t')"
   ]
  },
  {
   "cell_type": "code",
   "execution_count": 167,
   "metadata": {},
   "outputs": [
    {
     "data": {
      "text/html": [
       "<div>\n",
       "<table border=\"1\" class=\"dataframe\">\n",
       "  <thead>\n",
       "    <tr style=\"text-align: right;\">\n",
       "      <th></th>\n",
       "      <th>Protein A (gene name)</th>\n",
       "      <th>Protein B (gene name)</th>\n",
       "      <th>PubMed ID</th>\n",
       "      <th>Source databases</th>\n",
       "    </tr>\n",
       "  </thead>\n",
       "  <tbody>\n",
       "    <tr>\n",
       "      <th>0</th>\n",
       "      <td>AF251705</td>\n",
       "      <td>Hcst</td>\n",
       "      <td>12893283</td>\n",
       "      <td>psi-mi:\"MI:0463\"(biogrid)</td>\n",
       "    </tr>\n",
       "    <tr>\n",
       "      <th>1</th>\n",
       "      <td>AF251705</td>\n",
       "      <td>Tyrobp</td>\n",
       "      <td>12893283</td>\n",
       "      <td>psi-mi:\"MI:0463\"(biogrid)</td>\n",
       "    </tr>\n",
       "    <tr>\n",
       "      <th>2</th>\n",
       "      <td>AF251705</td>\n",
       "      <td>Fcer1g</td>\n",
       "      <td>12893283</td>\n",
       "      <td>psi-mi:\"MI:0463\"(biogrid)</td>\n",
       "    </tr>\n",
       "    <tr>\n",
       "      <th>3</th>\n",
       "      <td>AI464131</td>\n",
       "      <td>Igf2</td>\n",
       "      <td>19706595</td>\n",
       "      <td>psi-mi:\"MI:0463\"(biogrid)</td>\n",
       "    </tr>\n",
       "    <tr>\n",
       "      <th>4</th>\n",
       "      <td>Aatf</td>\n",
       "      <td>Maged1</td>\n",
       "      <td>17488777</td>\n",
       "      <td>psi-mi:\"MI:0463\"(biogrid)</td>\n",
       "    </tr>\n",
       "  </tbody>\n",
       "</table>\n",
       "</div>"
      ],
      "text/plain": [
       "  Protein A (gene name) Protein B (gene name) PubMed ID  \\\n",
       "0              AF251705                  Hcst  12893283   \n",
       "1              AF251705                Tyrobp  12893283   \n",
       "2              AF251705                Fcer1g  12893283   \n",
       "3              AI464131                  Igf2  19706595   \n",
       "4                  Aatf                Maged1  17488777   \n",
       "\n",
       "            Source databases  \n",
       "0  psi-mi:\"MI:0463\"(biogrid)  \n",
       "1  psi-mi:\"MI:0463\"(biogrid)  \n",
       "2  psi-mi:\"MI:0463\"(biogrid)  \n",
       "3  psi-mi:\"MI:0463\"(biogrid)  \n",
       "4  psi-mi:\"MI:0463\"(biogrid)  "
      ]
     },
     "execution_count": 167,
     "metadata": {},
     "output_type": "execute_result"
    }
   ],
   "source": [
    "bioGrid_mouse.head()"
   ]
  },
  {
   "cell_type": "code",
   "execution_count": 169,
   "metadata": {},
   "outputs": [
    {
     "name": "stdout",
     "output_type": "stream",
     "text": [
      "Progress: 0%  4 Out of 6650   \r"
     ]
    },
    {
     "name": "stderr",
     "output_type": "stream",
     "text": [
      "/Users/moshesilverstein/anaconda/lib/python3.5/site-packages/ipykernel/kernelbase.py:235: PerformanceWarning: indexing past lexsort depth may impact performance.\n",
      "  handler(stream, idents, msg)\n"
     ]
    },
    {
     "name": "stdout",
     "output_type": "stream",
     "text": [
      "Progress: 33%  2252 Out of 6650   \r"
     ]
    },
    {
     "name": "stderr",
     "output_type": "stream",
     "text": [
      "/Users/moshesilverstein/anaconda/lib/python3.5/site-packages/pandas/core/indexing.py:84: PerformanceWarning: indexing past lexsort depth may impact performance.\n",
      "  return self._getitem_tuple(key)\n"
     ]
    },
    {
     "name": "stdout",
     "output_type": "stream",
     "text": [
      "Progress: 100%  6650 Out of 6650   \r"
     ]
    }
   ],
   "source": [
    "lst = []\n",
    "\n",
    "for i, index in enumerate(bioGrid_mouse.index):\n",
    "    \n",
    "    progressPercent = ((i+1)/len(bioGrid_mouse.index))*100\n",
    "\n",
    "    sys.stdout.write(\"Progress: %d%%  %d Out of %d   \\r\" % (progressPercent, (i+1), len(bioGrid_mouse.index)))\n",
    "    sys.stdout.flush()\n",
    "    \n",
    "    gene = bioGrid_mouse.ix[index, 'Protein A (gene name)']\n",
    "    if gene in mapping[3].values:\n",
    "        number = mapping[mapping[3] == gene].index\n",
    "        if (number[0][0], 9606) in mapping.index:\n",
    "            if type(mapping.ix[(number[0][0], 9606), 3]) == str:\n",
    "                lst.append(mapping.ix[(number[0][0], 9606), 3])\n",
    "            else:\n",
    "                lst.append(np.nan)  # insert nan if gene maps tp more than one human gene  \n",
    "        else:\n",
    "            lst.append(np.nan)  # insert nan if gene dooesnt map to human gene       \n",
    "    else:\n",
    "        lst.append(np.nan) # insert nan if gene not found in the HOMOLOGENE\n",
    "\n",
    "bioGrid_mouse['Protein A (gene name)'] = lst"
   ]
  },
  {
   "cell_type": "code",
   "execution_count": 170,
   "metadata": {},
   "outputs": [
    {
     "data": {
      "text/html": [
       "<div>\n",
       "<table border=\"1\" class=\"dataframe\">\n",
       "  <thead>\n",
       "    <tr style=\"text-align: right;\">\n",
       "      <th></th>\n",
       "      <th>Protein A (gene name)</th>\n",
       "      <th>Protein B (gene name)</th>\n",
       "      <th>PubMed ID</th>\n",
       "      <th>Source databases</th>\n",
       "    </tr>\n",
       "  </thead>\n",
       "  <tbody>\n",
       "    <tr>\n",
       "      <th>0</th>\n",
       "      <td>CD300C</td>\n",
       "      <td>Hcst</td>\n",
       "      <td>12893283</td>\n",
       "      <td>psi-mi:\"MI:0463\"(biogrid)</td>\n",
       "    </tr>\n",
       "    <tr>\n",
       "      <th>1</th>\n",
       "      <td>CD300C</td>\n",
       "      <td>Tyrobp</td>\n",
       "      <td>12893283</td>\n",
       "      <td>psi-mi:\"MI:0463\"(biogrid)</td>\n",
       "    </tr>\n",
       "    <tr>\n",
       "      <th>2</th>\n",
       "      <td>CD300C</td>\n",
       "      <td>Fcer1g</td>\n",
       "      <td>12893283</td>\n",
       "      <td>psi-mi:\"MI:0463\"(biogrid)</td>\n",
       "    </tr>\n",
       "    <tr>\n",
       "      <th>3</th>\n",
       "      <td>KIAA1161</td>\n",
       "      <td>Igf2</td>\n",
       "      <td>19706595</td>\n",
       "      <td>psi-mi:\"MI:0463\"(biogrid)</td>\n",
       "    </tr>\n",
       "    <tr>\n",
       "      <th>4</th>\n",
       "      <td>AATF</td>\n",
       "      <td>Maged1</td>\n",
       "      <td>17488777</td>\n",
       "      <td>psi-mi:\"MI:0463\"(biogrid)</td>\n",
       "    </tr>\n",
       "  </tbody>\n",
       "</table>\n",
       "</div>"
      ],
      "text/plain": [
       "  Protein A (gene name) Protein B (gene name) PubMed ID  \\\n",
       "0                CD300C                  Hcst  12893283   \n",
       "1                CD300C                Tyrobp  12893283   \n",
       "2                CD300C                Fcer1g  12893283   \n",
       "3              KIAA1161                  Igf2  19706595   \n",
       "4                  AATF                Maged1  17488777   \n",
       "\n",
       "            Source databases  \n",
       "0  psi-mi:\"MI:0463\"(biogrid)  \n",
       "1  psi-mi:\"MI:0463\"(biogrid)  \n",
       "2  psi-mi:\"MI:0463\"(biogrid)  \n",
       "3  psi-mi:\"MI:0463\"(biogrid)  \n",
       "4  psi-mi:\"MI:0463\"(biogrid)  "
      ]
     },
     "execution_count": 170,
     "metadata": {},
     "output_type": "execute_result"
    }
   ],
   "source": [
    "bioGrid_mouse.head()"
   ]
  },
  {
   "cell_type": "code",
   "execution_count": 171,
   "metadata": {},
   "outputs": [
    {
     "name": "stdout",
     "output_type": "stream",
     "text": [
      "Progress: 0%  4 Out of 6650   \r"
     ]
    },
    {
     "name": "stderr",
     "output_type": "stream",
     "text": [
      "/Users/moshesilverstein/anaconda/lib/python3.5/site-packages/ipykernel/kernelbase.py:235: PerformanceWarning: indexing past lexsort depth may impact performance.\n",
      "  handler(stream, idents, msg)\n"
     ]
    },
    {
     "name": "stdout",
     "output_type": "stream",
     "text": [
      "Progress: 5%  377 Out of 6650   \r"
     ]
    },
    {
     "name": "stderr",
     "output_type": "stream",
     "text": [
      "/Users/moshesilverstein/anaconda/lib/python3.5/site-packages/pandas/core/indexing.py:84: PerformanceWarning: indexing past lexsort depth may impact performance.\n",
      "  return self._getitem_tuple(key)\n"
     ]
    },
    {
     "name": "stdout",
     "output_type": "stream",
     "text": [
      "Progress: 100%  6650 Out of 6650   \r"
     ]
    }
   ],
   "source": [
    "lst = []\n",
    "\n",
    "for i, index in enumerate(bioGrid_mouse.index):\n",
    "    \n",
    "    progressPercent = ((i+1)/len(bioGrid_mouse.index))*100\n",
    "\n",
    "    sys.stdout.write(\"Progress: %d%%  %d Out of %d   \\r\" % (progressPercent, (i+1), len(bioGrid_mouse.index)))\n",
    "    sys.stdout.flush()\n",
    "    \n",
    "    gene = bioGrid_mouse.ix[index, 'Protein B (gene name)']\n",
    "    if gene in mapping[3].values:\n",
    "        number = mapping[mapping[3] == gene].index\n",
    "        if (number[0][0], 9606) in mapping.index:\n",
    "            if type(mapping.ix[(number[0][0], 9606), 3]) == str:\n",
    "                lst.append(mapping.ix[(number[0][0], 9606), 3])\n",
    "            else:\n",
    "                lst.append(np.nan)  # insert nan if gene maps tp more than one human gene  \n",
    "        else:\n",
    "            lst.append(np.nan)  # insert nan if gene doesnt map to human gene       \n",
    "    else:\n",
    "        lst.append(np.nan) # insert nan if gene not found in the HOMOLOGENE\n",
    "\n",
    "bioGrid_mouse['Protein B (gene name)'] = lst"
   ]
  },
  {
   "cell_type": "code",
   "execution_count": 172,
   "metadata": {},
   "outputs": [
    {
     "data": {
      "text/plain": [
       "(6650, 4)"
      ]
     },
     "execution_count": 172,
     "metadata": {},
     "output_type": "execute_result"
    }
   ],
   "source": [
    "bioGrid_mouse.shape"
   ]
  },
  {
   "cell_type": "code",
   "execution_count": 173,
   "metadata": {
    "collapsed": true
   },
   "outputs": [],
   "source": [
    "bioGrid_mouse.dropna(how='any', inplace=True)"
   ]
  },
  {
   "cell_type": "code",
   "execution_count": 174,
   "metadata": {},
   "outputs": [
    {
     "data": {
      "text/plain": [
       "(6205, 4)"
      ]
     },
     "execution_count": 174,
     "metadata": {},
     "output_type": "execute_result"
    }
   ],
   "source": [
    "bioGrid_mouse.shape"
   ]
  },
  {
   "cell_type": "code",
   "execution_count": 175,
   "metadata": {},
   "outputs": [
    {
     "name": "stdout",
     "output_type": "stream",
     "text": [
      "Progress: 100%  6205 Out of 6205   \r"
     ]
    }
   ],
   "source": [
    "bioGrid = bioGrid_human.copy()\n",
    "\n",
    "for i, index in enumerate(bioGrid_mouse.index):\n",
    "    \n",
    "    progressPercent = ((i+1)/len(bioGrid_mouse.index))*100\n",
    "\n",
    "    sys.stdout.write(\"Progress: %d%%  %d Out of %d   \\r\" % (progressPercent, (i+1), len(bioGrid_mouse.index)))\n",
    "    sys.stdout.flush()\n",
    "    \n",
    "    mouse_interaction = bioGrid_mouse.ix[index, ['Protein A (gene name)', 'Protein B (gene name)']].values.tolist()\n",
    "    if mouse_interaction in bioGrid_human[['Protein A (gene name)', 'Protein B (gene name)']].values.tolist():\n",
    "        human_index = bioGrid_human[(bioGrid_human['Protein A (gene name)'] == mouse_interaction[0]) & (bioGrid_human['Protein B (gene name)'] == mouse_interaction[1])].index\n",
    "        mouse_ref = bioGrid_mouse.ix[index, 'PubMed ID']\n",
    "        human_ref = bioGrid_human.ix[index, 'PubMed ID']\n",
    "        ref = ('|').join([mouse_ref, human_ref])\n",
    "        bioGrid.ix[human_index, 'PubMed ID'] = ref\n",
    "    else:\n",
    "        bioGrid.append(bioGid_mouse.ix[index])"
   ]
  },
  {
   "cell_type": "code",
   "execution_count": 176,
   "metadata": {},
   "outputs": [
    {
     "data": {
      "text/html": [
       "<div>\n",
       "<table border=\"1\" class=\"dataframe\">\n",
       "  <thead>\n",
       "    <tr style=\"text-align: right;\">\n",
       "      <th></th>\n",
       "      <th>Protein A (gene name)</th>\n",
       "      <th>Protein B (gene name)</th>\n",
       "      <th>PubMed ID</th>\n",
       "      <th>Source databases</th>\n",
       "    </tr>\n",
       "  </thead>\n",
       "  <tbody>\n",
       "    <tr>\n",
       "      <th>0</th>\n",
       "      <td>A1CF</td>\n",
       "      <td>APOBEC1</td>\n",
       "      <td>10669759|11134005</td>\n",
       "      <td>psi-mi:\"MI:0463\"(biogrid)|psi-mi:\"MI:0463\"(bio...</td>\n",
       "    </tr>\n",
       "    <tr>\n",
       "      <th>1</th>\n",
       "      <td>A1CF</td>\n",
       "      <td>SYNCRIP</td>\n",
       "      <td>11134005</td>\n",
       "      <td>psi-mi:\"MI:0463\"(biogrid)</td>\n",
       "    </tr>\n",
       "    <tr>\n",
       "      <th>2</th>\n",
       "      <td>A1CF</td>\n",
       "      <td>KHSRP</td>\n",
       "      <td>10781591</td>\n",
       "      <td>psi-mi:\"MI:0463\"(biogrid)</td>\n",
       "    </tr>\n",
       "    <tr>\n",
       "      <th>3</th>\n",
       "      <td>A2M</td>\n",
       "      <td>APOE</td>\n",
       "      <td>9831625</td>\n",
       "      <td>psi-mi:\"MI:0463\"(biogrid)</td>\n",
       "    </tr>\n",
       "    <tr>\n",
       "      <th>4</th>\n",
       "      <td>A2M</td>\n",
       "      <td>IL10</td>\n",
       "      <td>10714547</td>\n",
       "      <td>psi-mi:\"MI:0463\"(biogrid)</td>\n",
       "    </tr>\n",
       "  </tbody>\n",
       "</table>\n",
       "</div>"
      ],
      "text/plain": [
       "  Protein A (gene name) Protein B (gene name)          PubMed ID  \\\n",
       "0                  A1CF               APOBEC1  10669759|11134005   \n",
       "1                  A1CF               SYNCRIP           11134005   \n",
       "2                  A1CF                 KHSRP           10781591   \n",
       "3                   A2M                  APOE            9831625   \n",
       "4                   A2M                  IL10           10714547   \n",
       "\n",
       "                                    Source databases  \n",
       "0  psi-mi:\"MI:0463\"(biogrid)|psi-mi:\"MI:0463\"(bio...  \n",
       "1                          psi-mi:\"MI:0463\"(biogrid)  \n",
       "2                          psi-mi:\"MI:0463\"(biogrid)  \n",
       "3                          psi-mi:\"MI:0463\"(biogrid)  \n",
       "4                          psi-mi:\"MI:0463\"(biogrid)  "
      ]
     },
     "execution_count": 176,
     "metadata": {},
     "output_type": "execute_result"
    }
   ],
   "source": [
    "bioGrid.head()"
   ]
  },
  {
   "cell_type": "markdown",
   "metadata": {},
   "source": [
    "Create SIG File"
   ]
  },
  {
   "cell_type": "code",
   "execution_count": 182,
   "metadata": {},
   "outputs": [],
   "source": [
    "bio_sig_df = pd.DataFrame(columns=sig_col)\n",
    "\n",
    "bio_sig_df['Source Name'] = bioGrid['Protein A (gene name)']\n",
    "\n",
    "bio_sig_df['Target Name'] = bioGrid['Protein B (gene name)']\n",
    "\n",
    "bio_sig_df['PubMed IDs'] = bioGrid['PubMed ID']\n",
    "\n",
    "bio_sig_df.replace(np.nan, 'NA', inplace=True)\n",
    "\n",
    "bio_ppiSIG = path+'biogrid_ppi_%s.sig'% str(datetime.date.today()).replace('-', '_')\n",
    "bio_sig_df.to_csv(bio_ppiSIG, index=None, header=None, sep='\\t')"
   ]
  },
  {
   "cell_type": "code",
   "execution_count": 183,
   "metadata": {},
   "outputs": [
    {
     "data": {
      "text/html": [
       "<div>\n",
       "<table border=\"1\" class=\"dataframe\">\n",
       "  <thead>\n",
       "    <tr style=\"text-align: right;\">\n",
       "      <th></th>\n",
       "      <th>Source Name</th>\n",
       "      <th>Source Human Accession</th>\n",
       "      <th>Source Mouse Accession</th>\n",
       "      <th>Source Type</th>\n",
       "      <th>Source Location</th>\n",
       "      <th>Target Name</th>\n",
       "      <th>Target Human Accession</th>\n",
       "      <th>Target Mouse Accession</th>\n",
       "      <th>Target Type</th>\n",
       "      <th>Target Location</th>\n",
       "      <th>Effect</th>\n",
       "      <th>Type of Interaction</th>\n",
       "      <th>PubMed IDs</th>\n",
       "    </tr>\n",
       "  </thead>\n",
       "  <tbody>\n",
       "    <tr>\n",
       "      <th>0</th>\n",
       "      <td>A1CF</td>\n",
       "      <td>NA</td>\n",
       "      <td>NA</td>\n",
       "      <td>NA</td>\n",
       "      <td>NA</td>\n",
       "      <td>APOBEC1</td>\n",
       "      <td>NA</td>\n",
       "      <td>NA</td>\n",
       "      <td>NA</td>\n",
       "      <td>NA</td>\n",
       "      <td>NA</td>\n",
       "      <td>NA</td>\n",
       "      <td>10669759|11134005</td>\n",
       "    </tr>\n",
       "    <tr>\n",
       "      <th>1</th>\n",
       "      <td>A1CF</td>\n",
       "      <td>NA</td>\n",
       "      <td>NA</td>\n",
       "      <td>NA</td>\n",
       "      <td>NA</td>\n",
       "      <td>SYNCRIP</td>\n",
       "      <td>NA</td>\n",
       "      <td>NA</td>\n",
       "      <td>NA</td>\n",
       "      <td>NA</td>\n",
       "      <td>NA</td>\n",
       "      <td>NA</td>\n",
       "      <td>11134005</td>\n",
       "    </tr>\n",
       "    <tr>\n",
       "      <th>2</th>\n",
       "      <td>A1CF</td>\n",
       "      <td>NA</td>\n",
       "      <td>NA</td>\n",
       "      <td>NA</td>\n",
       "      <td>NA</td>\n",
       "      <td>KHSRP</td>\n",
       "      <td>NA</td>\n",
       "      <td>NA</td>\n",
       "      <td>NA</td>\n",
       "      <td>NA</td>\n",
       "      <td>NA</td>\n",
       "      <td>NA</td>\n",
       "      <td>10781591</td>\n",
       "    </tr>\n",
       "    <tr>\n",
       "      <th>3</th>\n",
       "      <td>A2M</td>\n",
       "      <td>NA</td>\n",
       "      <td>NA</td>\n",
       "      <td>NA</td>\n",
       "      <td>NA</td>\n",
       "      <td>APOE</td>\n",
       "      <td>NA</td>\n",
       "      <td>NA</td>\n",
       "      <td>NA</td>\n",
       "      <td>NA</td>\n",
       "      <td>NA</td>\n",
       "      <td>NA</td>\n",
       "      <td>9831625</td>\n",
       "    </tr>\n",
       "    <tr>\n",
       "      <th>4</th>\n",
       "      <td>A2M</td>\n",
       "      <td>NA</td>\n",
       "      <td>NA</td>\n",
       "      <td>NA</td>\n",
       "      <td>NA</td>\n",
       "      <td>IL10</td>\n",
       "      <td>NA</td>\n",
       "      <td>NA</td>\n",
       "      <td>NA</td>\n",
       "      <td>NA</td>\n",
       "      <td>NA</td>\n",
       "      <td>NA</td>\n",
       "      <td>10714547</td>\n",
       "    </tr>\n",
       "  </tbody>\n",
       "</table>\n",
       "</div>"
      ],
      "text/plain": [
       "  Source Name Source Human Accession Source Mouse Accession Source Type  \\\n",
       "0        A1CF                     NA                     NA          NA   \n",
       "1        A1CF                     NA                     NA          NA   \n",
       "2        A1CF                     NA                     NA          NA   \n",
       "3         A2M                     NA                     NA          NA   \n",
       "4         A2M                     NA                     NA          NA   \n",
       "\n",
       "  Source Location Target Name Target Human Accession Target Mouse Accession  \\\n",
       "0              NA     APOBEC1                     NA                     NA   \n",
       "1              NA     SYNCRIP                     NA                     NA   \n",
       "2              NA       KHSRP                     NA                     NA   \n",
       "3              NA        APOE                     NA                     NA   \n",
       "4              NA        IL10                     NA                     NA   \n",
       "\n",
       "  Target Type Target Location Effect Type of Interaction         PubMed IDs  \n",
       "0          NA              NA     NA                  NA  10669759|11134005  \n",
       "1          NA              NA     NA                  NA           11134005  \n",
       "2          NA              NA     NA                  NA           10781591  \n",
       "3          NA              NA     NA                  NA            9831625  \n",
       "4          NA              NA     NA                  NA           10714547  "
      ]
     },
     "execution_count": 183,
     "metadata": {},
     "output_type": "execute_result"
    }
   ],
   "source": [
    "bio_sig_df.head()"
   ]
  },
  {
   "cell_type": "markdown",
   "metadata": {},
   "source": [
    "### DIP"
   ]
  },
  {
   "cell_type": "code",
   "execution_count": 214,
   "metadata": {
    "collapsed": true
   },
   "outputs": [],
   "source": [
    "dip_human = pd.read_csv(path+'ppi_network_dip_human_filtered_2017_02_15.tsv', sep='\\t')"
   ]
  },
  {
   "cell_type": "code",
   "execution_count": 215,
   "metadata": {},
   "outputs": [
    {
     "data": {
      "text/html": [
       "<div>\n",
       "<table border=\"1\" class=\"dataframe\">\n",
       "  <thead>\n",
       "    <tr style=\"text-align: right;\">\n",
       "      <th></th>\n",
       "      <th>Protein A (gene name)</th>\n",
       "      <th>Protein B (gene name)</th>\n",
       "      <th>PubMed ID</th>\n",
       "      <th>Source databases</th>\n",
       "    </tr>\n",
       "  </thead>\n",
       "  <tbody>\n",
       "    <tr>\n",
       "      <th>0</th>\n",
       "      <td>A2M</td>\n",
       "      <td>APP</td>\n",
       "      <td>9501253</td>\n",
       "      <td>MI:0465(dip)</td>\n",
       "    </tr>\n",
       "    <tr>\n",
       "      <th>1</th>\n",
       "      <td>ABCA1</td>\n",
       "      <td>SPTLC1</td>\n",
       "      <td>25170080</td>\n",
       "      <td>MI:0465(dip)</td>\n",
       "    </tr>\n",
       "    <tr>\n",
       "      <th>2</th>\n",
       "      <td>ABCA1</td>\n",
       "      <td>KIF11</td>\n",
       "      <td>25170080</td>\n",
       "      <td>MI:0465(dip)</td>\n",
       "    </tr>\n",
       "    <tr>\n",
       "      <th>3</th>\n",
       "      <td>ABCA1</td>\n",
       "      <td>FLNA</td>\n",
       "      <td>25170080</td>\n",
       "      <td>MI:0465(dip)</td>\n",
       "    </tr>\n",
       "    <tr>\n",
       "      <th>4</th>\n",
       "      <td>ABCC8</td>\n",
       "      <td>KCNJ11</td>\n",
       "      <td>19805355</td>\n",
       "      <td>MI:0465(dip)</td>\n",
       "    </tr>\n",
       "  </tbody>\n",
       "</table>\n",
       "</div>"
      ],
      "text/plain": [
       "  Protein A (gene name) Protein B (gene name) PubMed ID Source databases\n",
       "0                   A2M                   APP   9501253     MI:0465(dip)\n",
       "1                 ABCA1                SPTLC1  25170080     MI:0465(dip)\n",
       "2                 ABCA1                 KIF11  25170080     MI:0465(dip)\n",
       "3                 ABCA1                  FLNA  25170080     MI:0465(dip)\n",
       "4                 ABCC8                KCNJ11  19805355     MI:0465(dip)"
      ]
     },
     "execution_count": 215,
     "metadata": {},
     "output_type": "execute_result"
    }
   ],
   "source": [
    "dip_human.head()"
   ]
  },
  {
   "cell_type": "code",
   "execution_count": 216,
   "metadata": {
    "collapsed": true
   },
   "outputs": [],
   "source": [
    "dip_mouse = pd.read_csv(path+'ppi_network_dip_mouse_filtered_2017_02_15.tsv', sep='\\t')"
   ]
  },
  {
   "cell_type": "code",
   "execution_count": 217,
   "metadata": {},
   "outputs": [
    {
     "data": {
      "text/html": [
       "<div>\n",
       "<table border=\"1\" class=\"dataframe\">\n",
       "  <thead>\n",
       "    <tr style=\"text-align: right;\">\n",
       "      <th></th>\n",
       "      <th>Protein A (gene name)</th>\n",
       "      <th>Protein B (gene name)</th>\n",
       "      <th>PubMed ID</th>\n",
       "      <th>Source databases</th>\n",
       "    </tr>\n",
       "  </thead>\n",
       "  <tbody>\n",
       "    <tr>\n",
       "      <th>0</th>\n",
       "      <td>Abcc8</td>\n",
       "      <td>Ank2</td>\n",
       "      <td>19805355</td>\n",
       "      <td>MI:0465(dip)</td>\n",
       "    </tr>\n",
       "    <tr>\n",
       "      <th>1</th>\n",
       "      <td>Abhd5</td>\n",
       "      <td>Pnpla2</td>\n",
       "      <td>25961502</td>\n",
       "      <td>MI:0465(dip)</td>\n",
       "    </tr>\n",
       "    <tr>\n",
       "      <th>2</th>\n",
       "      <td>Abi2</td>\n",
       "      <td>Eps8</td>\n",
       "      <td>19564905</td>\n",
       "      <td>MI:0465(dip)</td>\n",
       "    </tr>\n",
       "    <tr>\n",
       "      <th>3</th>\n",
       "      <td>Acad9</td>\n",
       "      <td>Ecsit</td>\n",
       "      <td>21525932</td>\n",
       "      <td>MI:0465(dip)</td>\n",
       "    </tr>\n",
       "    <tr>\n",
       "      <th>4</th>\n",
       "      <td>Acd</td>\n",
       "      <td>Pot1b</td>\n",
       "      <td>17632522</td>\n",
       "      <td>MI:0465(dip)</td>\n",
       "    </tr>\n",
       "  </tbody>\n",
       "</table>\n",
       "</div>"
      ],
      "text/plain": [
       "  Protein A (gene name) Protein B (gene name) PubMed ID Source databases\n",
       "0                 Abcc8                  Ank2  19805355     MI:0465(dip)\n",
       "1                 Abhd5                Pnpla2  25961502     MI:0465(dip)\n",
       "2                  Abi2                  Eps8  19564905     MI:0465(dip)\n",
       "3                 Acad9                 Ecsit  21525932     MI:0465(dip)\n",
       "4                   Acd                 Pot1b  17632522     MI:0465(dip)"
      ]
     },
     "execution_count": 217,
     "metadata": {},
     "output_type": "execute_result"
    }
   ],
   "source": [
    "dip_mouse.head()"
   ]
  },
  {
   "cell_type": "code",
   "execution_count": 218,
   "metadata": {},
   "outputs": [
    {
     "name": "stdout",
     "output_type": "stream",
     "text": [
      "Progress: 0%  4 Out of 1210   \r"
     ]
    },
    {
     "name": "stderr",
     "output_type": "stream",
     "text": [
      "/Users/moshesilverstein/anaconda/lib/python3.5/site-packages/ipykernel/kernelbase.py:235: PerformanceWarning: indexing past lexsort depth may impact performance.\n",
      "  handler(stream, idents, msg)\n"
     ]
    },
    {
     "name": "stdout",
     "output_type": "stream",
     "text": [
      "Progress: 100%  1210 Out of 1210   \r"
     ]
    }
   ],
   "source": [
    "lst = []\n",
    "\n",
    "for i, index in enumerate(dip_mouse.index):\n",
    "    \n",
    "    progressPercent = ((i+1)/len(dip_mouse.index))*100\n",
    "\n",
    "    sys.stdout.write(\"Progress: %d%%  %d Out of %d   \\r\" % (progressPercent, (i+1), len(dip_mouse.index)))\n",
    "    sys.stdout.flush()\n",
    "    \n",
    "    gene = dip_mouse.ix[index, 'Protein A (gene name)']\n",
    "    if gene in mapping[3].values:\n",
    "        number = mapping[mapping[3] == gene].index\n",
    "        if (number[0][0], 9606) in mapping.index:\n",
    "            if type(mapping.ix[(number[0][0], 9606), 3]) == str:\n",
    "                lst.append(mapping.ix[(number[0][0], 9606), 3])\n",
    "            else:\n",
    "                lst.append(np.nan)  # insert nan if gene maps tp more than one human gene  \n",
    "        else:\n",
    "            lst.append(np.nan)  # insert nan if gene dooesnt map to human gene       \n",
    "    else:\n",
    "        lst.append(np.nan) # insert nan if gene not found in the HOMOLOGENE\n",
    "\n",
    "dip_mouse['Protein A (gene name)'] = lst"
   ]
  },
  {
   "cell_type": "code",
   "execution_count": 219,
   "metadata": {},
   "outputs": [
    {
     "name": "stdout",
     "output_type": "stream",
     "text": [
      "Progress: 0%  4 Out of 1210   \r"
     ]
    },
    {
     "name": "stderr",
     "output_type": "stream",
     "text": [
      "/Users/moshesilverstein/anaconda/lib/python3.5/site-packages/ipykernel/kernelbase.py:235: PerformanceWarning: indexing past lexsort depth may impact performance.\n",
      "  handler(stream, idents, msg)\n"
     ]
    },
    {
     "name": "stdout",
     "output_type": "stream",
     "text": [
      "Progress: 28%  341 Out of 1210   \r"
     ]
    },
    {
     "name": "stderr",
     "output_type": "stream",
     "text": [
      "/Users/moshesilverstein/anaconda/lib/python3.5/site-packages/pandas/core/indexing.py:84: PerformanceWarning: indexing past lexsort depth may impact performance.\n",
      "  return self._getitem_tuple(key)\n"
     ]
    },
    {
     "name": "stdout",
     "output_type": "stream",
     "text": [
      "Progress: 100%  1210 Out of 1210   \r"
     ]
    }
   ],
   "source": [
    "lst = []\n",
    "\n",
    "for i, index in enumerate(dip_mouse.index):\n",
    "    \n",
    "    progressPercent = ((i+1)/len(dip_mouse.index))*100\n",
    "\n",
    "    sys.stdout.write(\"Progress: %d%%  %d Out of %d   \\r\" % (progressPercent, (i+1), len(dip_mouse.index)))\n",
    "    sys.stdout.flush()\n",
    "    \n",
    "    gene = dip_mouse.ix[index, 'Protein B (gene name)']\n",
    "    if gene in mapping[3].values:\n",
    "        number = mapping[mapping[3] == gene].index\n",
    "        if (number[0][0], 9606) in mapping.index:\n",
    "            if type(mapping.ix[(number[0][0], 9606), 3]) == str:\n",
    "                lst.append(mapping.ix[(number[0][0], 9606), 3])\n",
    "            else:\n",
    "                lst.append(np.nan)  # insert nan if gene maps tp more than one human gene  \n",
    "        else:\n",
    "            lst.append(np.nan)  # insert nan if gene doesnt map to human gene       \n",
    "    else:\n",
    "        lst.append(np.nan) # insert nan if gene not found in the HOMOLOGENE\n",
    "\n",
    "dip_mouse['Protein B (gene name)'] = lst"
   ]
  },
  {
   "cell_type": "code",
   "execution_count": 220,
   "metadata": {},
   "outputs": [
    {
     "data": {
      "text/plain": [
       "(1210, 4)"
      ]
     },
     "execution_count": 220,
     "metadata": {},
     "output_type": "execute_result"
    }
   ],
   "source": [
    "dip_mouse.shape"
   ]
  },
  {
   "cell_type": "code",
   "execution_count": 221,
   "metadata": {
    "collapsed": true
   },
   "outputs": [],
   "source": [
    "dip_mouse.dropna(how='any', inplace=True)"
   ]
  },
  {
   "cell_type": "code",
   "execution_count": 222,
   "metadata": {},
   "outputs": [
    {
     "data": {
      "text/plain": [
       "(1154, 4)"
      ]
     },
     "execution_count": 222,
     "metadata": {},
     "output_type": "execute_result"
    }
   ],
   "source": [
    "dip_mouse.shape"
   ]
  },
  {
   "cell_type": "code",
   "execution_count": 223,
   "metadata": {},
   "outputs": [
    {
     "name": "stdout",
     "output_type": "stream",
     "text": [
      "Progress: 100%  1154 Out of 1154   \r"
     ]
    }
   ],
   "source": [
    "dip = dip_human.copy()\n",
    "\n",
    "for i, index in enumerate(dip_mouse.index):\n",
    "    \n",
    "    progressPercent = ((i+1)/len(dip_mouse.index))*100\n",
    "\n",
    "    sys.stdout.write(\"Progress: %d%%  %d Out of %d   \\r\" % (progressPercent, (i+1), len(dip_mouse.index)))\n",
    "    sys.stdout.flush()\n",
    "    \n",
    "    mouse_interaction = dip_mouse.ix[index, ['Protein A (gene name)', 'Protein B (gene name)']].values.tolist()\n",
    "    if mouse_interaction in dip_human[['Protein A (gene name)', 'Protein B (gene name)']].values.tolist():\n",
    "        human_index = dip_human[(dip_human['Protein A (gene name)'] == mouse_interaction[0]) & (dip_human['Protein B (gene name)'] == mouse_interaction[1])].index\n",
    "        mouse_ref = dip_mouse.ix[index, 'PubMed ID']\n",
    "        human_ref = dip_human.ix[index, 'PubMed ID']\n",
    "        ref = ('|').join([mouse_ref, human_ref])\n",
    "        dip.ix[human_index, 'PubMed ID'] = ref\n",
    "    else:\n",
    "        dip.append(dip_mouse.ix[index])"
   ]
  },
  {
   "cell_type": "code",
   "execution_count": 224,
   "metadata": {
    "collapsed": true
   },
   "outputs": [],
   "source": [
    "dip_sig_df = pd.DataFrame(columns=sig_col)\n",
    "\n",
    "dip_sig_df['Source Name'] = dip['Protein A (gene name)']\n",
    "\n",
    "dip_sig_df['Target Name'] = dip['Protein B (gene name)']\n",
    "\n",
    "dip_sig_df['PubMed IDs'] = dip['PubMed ID']\n",
    "\n",
    "dip_sig_df.replace(np.nan, 'NA', inplace=True)\n",
    "\n",
    "dip_ppiSIG = path+'dip_ppi_%s.sig'% str(datetime.date.today()).replace('-', '_')\n",
    "dip_sig_df.to_csv(dip_ppiSIG, index=None, header=None, sep='\\t')"
   ]
  },
  {
   "cell_type": "markdown",
   "metadata": {},
   "source": [
    "# MINT"
   ]
  },
  {
   "cell_type": "code",
   "execution_count": 225,
   "metadata": {
    "collapsed": true
   },
   "outputs": [],
   "source": [
    "mint_human = pd.read_csv(path+'ppi_network_mint_human_filtered_2017_02_16.tsv', sep='\\t')"
   ]
  },
  {
   "cell_type": "code",
   "execution_count": 226,
   "metadata": {
    "collapsed": true
   },
   "outputs": [],
   "source": [
    "mint_mouse = pd.read_csv(path+'ppi_network_mint_mouse_filtered_2017_02_15.tsv', sep='\\t')"
   ]
  },
  {
   "cell_type": "code",
   "execution_count": 227,
   "metadata": {},
   "outputs": [
    {
     "name": "stdout",
     "output_type": "stream",
     "text": [
      "Progress: 0%  4 Out of 1532   \r"
     ]
    },
    {
     "name": "stderr",
     "output_type": "stream",
     "text": [
      "/Users/moshesilverstein/anaconda/lib/python3.5/site-packages/ipykernel/kernelbase.py:235: PerformanceWarning: indexing past lexsort depth may impact performance.\n",
      "  handler(stream, idents, msg)\n"
     ]
    },
    {
     "name": "stdout",
     "output_type": "stream",
     "text": [
      "Progress: 57%  884 Out of 1532   \r"
     ]
    },
    {
     "name": "stderr",
     "output_type": "stream",
     "text": [
      "/Users/moshesilverstein/anaconda/lib/python3.5/site-packages/pandas/core/indexing.py:84: PerformanceWarning: indexing past lexsort depth may impact performance.\n",
      "  return self._getitem_tuple(key)\n"
     ]
    },
    {
     "name": "stdout",
     "output_type": "stream",
     "text": [
      "Progress: 100%  1532 Out of 1532   \r"
     ]
    }
   ],
   "source": [
    "lst = []\n",
    "\n",
    "for i, index in enumerate(mint_mouse.index):\n",
    "    \n",
    "    progressPercent = ((i+1)/len(mint_mouse.index))*100\n",
    "\n",
    "    sys.stdout.write(\"Progress: %d%%  %d Out of %d   \\r\" % (progressPercent, (i+1), len(mint_mouse.index)))\n",
    "    sys.stdout.flush()\n",
    "    \n",
    "    gene = mint_mouse.ix[index, 'Protein A (gene name)']\n",
    "    if gene in mapping[3].values:\n",
    "        number = mapping[mapping[3] == gene].index\n",
    "        if (number[0][0], 9606) in mapping.index:\n",
    "            if type(mapping.ix[(number[0][0], 9606), 3]) == str:\n",
    "                lst.append(mapping.ix[(number[0][0], 9606), 3])\n",
    "            else:\n",
    "                lst.append(np.nan)  # insert nan if gene maps tp more than one human gene  \n",
    "        else:\n",
    "            lst.append(np.nan)  # insert nan if gene dooesnt map to human gene       \n",
    "    else:\n",
    "        lst.append(np.nan) # insert nan if gene not found in the HOMOLOGENE\n",
    "\n",
    "mint_mouse['Protein A (gene name)'] = lst"
   ]
  },
  {
   "cell_type": "code",
   "execution_count": 228,
   "metadata": {},
   "outputs": [
    {
     "name": "stdout",
     "output_type": "stream",
     "text": [
      "Progress: 0%  4 Out of 1532   \r"
     ]
    },
    {
     "name": "stderr",
     "output_type": "stream",
     "text": [
      "/Users/moshesilverstein/anaconda/lib/python3.5/site-packages/ipykernel/kernelbase.py:235: PerformanceWarning: indexing past lexsort depth may impact performance.\n",
      "  handler(stream, idents, msg)\n"
     ]
    },
    {
     "name": "stdout",
     "output_type": "stream",
     "text": [
      "Progress: 28%  439 Out of 1532   \r"
     ]
    },
    {
     "name": "stderr",
     "output_type": "stream",
     "text": [
      "/Users/moshesilverstein/anaconda/lib/python3.5/site-packages/pandas/core/indexing.py:84: PerformanceWarning: indexing past lexsort depth may impact performance.\n",
      "  return self._getitem_tuple(key)\n"
     ]
    },
    {
     "name": "stdout",
     "output_type": "stream",
     "text": [
      "Progress: 100%  1532 Out of 1532   \r"
     ]
    }
   ],
   "source": [
    "lst = []\n",
    "\n",
    "for i, index in enumerate(mint_mouse.index):\n",
    "    \n",
    "    progressPercent = ((i+1)/len(mint_mouse.index))*100\n",
    "\n",
    "    sys.stdout.write(\"Progress: %d%%  %d Out of %d   \\r\" % (progressPercent, (i+1), len(mint_mouse.index)))\n",
    "    sys.stdout.flush()\n",
    "    \n",
    "    gene = mint_mouse.ix[index, 'Protein B (gene name)']\n",
    "    if gene in mapping[3].values:\n",
    "        number = mapping[mapping[3] == gene].index\n",
    "        if (number[0][0], 9606) in mapping.index:\n",
    "            if type(mapping.ix[(number[0][0], 9606), 3]) == str:\n",
    "                lst.append(mapping.ix[(number[0][0], 9606), 3])\n",
    "            else:\n",
    "                lst.append(np.nan)  # insert nan if gene maps tp more than one human gene  \n",
    "        else:\n",
    "            lst.append(np.nan)  # insert nan if gene dooesnt map to human gene       \n",
    "    else:\n",
    "        lst.append(np.nan) # insert nan if gene not found in the HOMOLOGENE\n",
    "\n",
    "mint_mouse['Protein B (gene name)'] = lst"
   ]
  },
  {
   "cell_type": "code",
   "execution_count": 229,
   "metadata": {},
   "outputs": [
    {
     "data": {
      "text/plain": [
       "(1532, 4)"
      ]
     },
     "execution_count": 229,
     "metadata": {},
     "output_type": "execute_result"
    }
   ],
   "source": [
    "mint_mouse.shape"
   ]
  },
  {
   "cell_type": "code",
   "execution_count": 230,
   "metadata": {
    "collapsed": true
   },
   "outputs": [],
   "source": [
    "mint_mouse.dropna(how='any', inplace=True)"
   ]
  },
  {
   "cell_type": "code",
   "execution_count": 231,
   "metadata": {},
   "outputs": [
    {
     "data": {
      "text/plain": [
       "(1456, 4)"
      ]
     },
     "execution_count": 231,
     "metadata": {},
     "output_type": "execute_result"
    }
   ],
   "source": [
    "mint_mouse.shape"
   ]
  },
  {
   "cell_type": "code",
   "execution_count": 232,
   "metadata": {},
   "outputs": [
    {
     "name": "stdout",
     "output_type": "stream",
     "text": [
      "Progress: 100%  1456 Out of 1456   \r"
     ]
    }
   ],
   "source": [
    "mint = mint_human.copy()\n",
    "\n",
    "for i, index in enumerate(mint_mouse.index):\n",
    "    \n",
    "    progressPercent = ((i+1)/len(mint_mouse.index))*100\n",
    "\n",
    "    sys.stdout.write(\"Progress: %d%%  %d Out of %d   \\r\" % (progressPercent, (i+1), len(mint_mouse.index)))\n",
    "    sys.stdout.flush()\n",
    "    \n",
    "    mouse_interaction = mint_mouse.ix[index, ['Protein A (gene name)', 'Protein B (gene name)']].values.tolist()\n",
    "    if mouse_interaction in mint_human[['Protein A (gene name)', 'Protein B (gene name)']].values.tolist():\n",
    "        human_index = mint_human[(mint_human['Protein A (gene name)'] == mouse_interaction[0]) & (mint_human['Protein B (gene name)'] == mouse_interaction[1])].index\n",
    "        mouse_ref = mint_mouse.ix[index, 'PubMed ID']\n",
    "        human_ref = mint_human.ix[index, 'PubMed ID']\n",
    "        ref = ('|').join([mouse_ref, human_ref])\n",
    "        mint.ix[human_index, 'PubMed ID'] = ref\n",
    "    else:\n",
    "        mint.append(mint_mouse.ix[index])"
   ]
  },
  {
   "cell_type": "code",
   "execution_count": 233,
   "metadata": {
    "collapsed": true
   },
   "outputs": [],
   "source": [
    "mint_sig_df = pd.DataFrame(columns=sig_col)\n",
    "\n",
    "mint_sig_df['Source Name'] = mint['Protein A (gene name)']\n",
    "\n",
    "mint_sig_df['Target Name'] = mint['Protein B (gene name)']\n",
    "\n",
    "mint_sig_df['PubMed IDs'] = mint['PubMed ID']\n",
    "\n",
    "mint_sig_df.replace(np.nan, 'NA', inplace=True)\n",
    "\n",
    "mint_ppiSIG = path+'mint_ppi_%s.sig'% str(datetime.date.today()).replace('-', '_')\n",
    "mint_sig_df.to_csv(mint_ppiSIG, index=None, header=None, sep='\\t')"
   ]
  },
  {
   "cell_type": "markdown",
   "metadata": {},
   "source": [
    "# InnateDB"
   ]
  },
  {
   "cell_type": "code",
   "execution_count": 234,
   "metadata": {
    "collapsed": true
   },
   "outputs": [],
   "source": [
    "innatedb_human = pd.read_csv(path+'ppi_network_innatedb_human_filtered_2017_02_15.tsv', sep='\\t')"
   ]
  },
  {
   "cell_type": "code",
   "execution_count": 235,
   "metadata": {
    "collapsed": true
   },
   "outputs": [],
   "source": [
    "innatedb_mouse = pd.read_csv(path+'ppi_network_innatedb_mouse_filtered_2017_02_15.tsv', sep='\\t')"
   ]
  },
  {
   "cell_type": "code",
   "execution_count": 236,
   "metadata": {},
   "outputs": [
    {
     "name": "stdout",
     "output_type": "stream",
     "text": [
      "Progress: 0%  3 Out of 1711   \r"
     ]
    },
    {
     "name": "stderr",
     "output_type": "stream",
     "text": [
      "/Users/moshesilverstein/anaconda/lib/python3.5/site-packages/ipykernel/kernelbase.py:235: PerformanceWarning: indexing past lexsort depth may impact performance.\n",
      "  handler(stream, idents, msg)\n"
     ]
    },
    {
     "name": "stdout",
     "output_type": "stream",
     "text": [
      "Progress: 14%  254 Out of 1711   \r"
     ]
    },
    {
     "name": "stderr",
     "output_type": "stream",
     "text": [
      "/Users/moshesilverstein/anaconda/lib/python3.5/site-packages/pandas/core/indexing.py:84: PerformanceWarning: indexing past lexsort depth may impact performance.\n",
      "  return self._getitem_tuple(key)\n"
     ]
    },
    {
     "name": "stdout",
     "output_type": "stream",
     "text": [
      "Progress: 100%  1711 Out of 1711   \r"
     ]
    }
   ],
   "source": [
    "lst = []\n",
    "\n",
    "for i, index in enumerate(innatedb_mouse.index):\n",
    "    \n",
    "    progressPercent = ((i+1)/len(innatedb_mouse.index))*100\n",
    "\n",
    "    sys.stdout.write(\"Progress: %d%%  %d Out of %d   \\r\" % (progressPercent, (i+1), len(innatedb_mouse.index)))\n",
    "    sys.stdout.flush()\n",
    "    \n",
    "    gene = innatedb_mouse.ix[index, 'Protein A (gene name)']\n",
    "    if gene in mapping[3].values:\n",
    "        number = mapping[mapping[3] == gene].index\n",
    "        if (number[0][0], 9606) in mapping.index:\n",
    "            if type(mapping.ix[(number[0][0], 9606), 3]) == str:\n",
    "                lst.append(mapping.ix[(number[0][0], 9606), 3])\n",
    "            else:\n",
    "                lst.append(np.nan)  # insert nan if gene maps tp more than one human gene  \n",
    "        else:\n",
    "            lst.append(np.nan)  # insert nan if gene dooesnt map to human gene       \n",
    "    else:\n",
    "        lst.append(np.nan) # insert nan if gene not found in the HOMOLOGENE\n",
    "\n",
    "innatedb_mouse['Protein A (gene name)'] = lst"
   ]
  },
  {
   "cell_type": "code",
   "execution_count": 237,
   "metadata": {},
   "outputs": [
    {
     "name": "stdout",
     "output_type": "stream",
     "text": [
      "Progress: 0%  4 Out of 1711   \r"
     ]
    },
    {
     "name": "stderr",
     "output_type": "stream",
     "text": [
      "/Users/moshesilverstein/anaconda/lib/python3.5/site-packages/ipykernel/kernelbase.py:235: PerformanceWarning: indexing past lexsort depth may impact performance.\n",
      "  handler(stream, idents, msg)\n"
     ]
    },
    {
     "name": "stdout",
     "output_type": "stream",
     "text": [
      "Progress: 100%  1711 Out of 1711   \r"
     ]
    }
   ],
   "source": [
    "lst = []\n",
    "\n",
    "for i, index in enumerate(innatedb_mouse.index):\n",
    "    \n",
    "    progressPercent = ((i+1)/len(innatedb_mouse.index))*100\n",
    "\n",
    "    sys.stdout.write(\"Progress: %d%%  %d Out of %d   \\r\" % (progressPercent, (i+1), len(innatedb_mouse.index)))\n",
    "    sys.stdout.flush()\n",
    "    \n",
    "    gene = innatedb_mouse.ix[index, 'Protein B (gene name)']\n",
    "    if gene in mapping[3].values:\n",
    "        number = mapping[mapping[3] == gene].index\n",
    "        if (number[0][0], 9606) in mapping.index:\n",
    "            if type(mapping.ix[(number[0][0], 9606), 3]) == str:\n",
    "                lst.append(mapping.ix[(number[0][0], 9606), 3])\n",
    "            else:\n",
    "                lst.append(np.nan)  # insert nan if gene maps tp more than one human gene  \n",
    "        else:\n",
    "            lst.append(np.nan)  # insert nan if gene dooesnt map to human gene       \n",
    "    else:\n",
    "        lst.append(np.nan) # insert nan if gene not found in the HOMOLOGENE\n",
    "\n",
    "innatedb_mouse['Protein B (gene name)'] = lst"
   ]
  },
  {
   "cell_type": "code",
   "execution_count": 238,
   "metadata": {},
   "outputs": [
    {
     "data": {
      "text/plain": [
       "(1711, 4)"
      ]
     },
     "execution_count": 238,
     "metadata": {},
     "output_type": "execute_result"
    }
   ],
   "source": [
    "innatedb_mouse.shape"
   ]
  },
  {
   "cell_type": "code",
   "execution_count": 239,
   "metadata": {
    "collapsed": true
   },
   "outputs": [],
   "source": [
    "innatedb_mouse.dropna(how='any', inplace=True)"
   ]
  },
  {
   "cell_type": "code",
   "execution_count": 240,
   "metadata": {},
   "outputs": [
    {
     "data": {
      "text/plain": [
       "(1610, 4)"
      ]
     },
     "execution_count": 240,
     "metadata": {},
     "output_type": "execute_result"
    }
   ],
   "source": [
    "innatedb_mouse.shape"
   ]
  },
  {
   "cell_type": "code",
   "execution_count": 241,
   "metadata": {},
   "outputs": [
    {
     "name": "stdout",
     "output_type": "stream",
     "text": [
      "Progress: 100%  1610 Out of 1610   \r"
     ]
    }
   ],
   "source": [
    "innatedb = innatedb_human.copy()\n",
    "\n",
    "for i, index in enumerate(innatedb_mouse.index):\n",
    "    \n",
    "    progressPercent = ((i+1)/len(innatedb_mouse.index))*100\n",
    "\n",
    "    sys.stdout.write(\"Progress: %d%%  %d Out of %d   \\r\" % (progressPercent, (i+1), len(innatedb_mouse.index)))\n",
    "    sys.stdout.flush()\n",
    "    \n",
    "    mouse_interaction = innatedb_mouse.ix[index, ['Protein A (gene name)', 'Protein B (gene name)']].values.tolist()\n",
    "    if mouse_interaction in innatedb_human[['Protein A (gene name)', 'Protein B (gene name)']].values.tolist():\n",
    "        human_index = innatedb_human[(innatedb_human['Protein A (gene name)'] == mouse_interaction[0]) & (innatedb_human['Protein B (gene name)'] == mouse_interaction[1])].index\n",
    "        mouse_ref = innatedb_mouse.ix[index, 'PubMed ID']\n",
    "        human_ref = innatedb_human.ix[index, 'PubMed ID']\n",
    "        ref = ('|').join([mouse_ref, human_ref])\n",
    "        innatedb.ix[human_index, 'PubMed ID'] = ref\n",
    "    else:\n",
    "        innatedb.append(innatedb_mouse.ix[index])"
   ]
  },
  {
   "cell_type": "code",
   "execution_count": 242,
   "metadata": {
    "collapsed": true
   },
   "outputs": [],
   "source": [
    "innatedb_sig_df = pd.DataFrame(columns=sig_col)\n",
    "\n",
    "innatedb_sig_df['Source Name'] = innatedb['Protein A (gene name)']\n",
    "\n",
    "innatedb_sig_df['Target Name'] = innatedb['Protein B (gene name)']\n",
    "\n",
    "innatedb_sig_df['PubMed IDs'] = innatedb['PubMed ID']\n",
    "\n",
    "innatedb_sig_df.replace(np.nan, 'NA', inplace=True)\n",
    "\n",
    "innatedb_ppiSIG = path+'innatedb_ppi_%s.sig'% str(datetime.date.today()).replace('-', '_')\n",
    "innatedb_sig_df.to_csv(innatedb_ppiSIG, index=None, header=None, sep='\\t')"
   ]
  },
  {
   "cell_type": "markdown",
   "metadata": {},
   "source": [
    "# Intact"
   ]
  },
  {
   "cell_type": "code",
   "execution_count": 255,
   "metadata": {},
   "outputs": [],
   "source": [
    "intact_human = pd.read_csv(path+'ppi_network_intact_human_filtered_2017_02_16.tsv', sep='\\t')"
   ]
  },
  {
   "cell_type": "code",
   "execution_count": 256,
   "metadata": {
    "collapsed": true
   },
   "outputs": [],
   "source": [
    "intact_mouse = pd.read_csv(path+'ppi_network_intact_mouse_filtered_2017_02_15.tsv', sep='\\t')"
   ]
  },
  {
   "cell_type": "code",
   "execution_count": 257,
   "metadata": {},
   "outputs": [
    {
     "name": "stdout",
     "output_type": "stream",
     "text": [
      "Progress: 0%  3 Out of 3997   \r"
     ]
    },
    {
     "name": "stderr",
     "output_type": "stream",
     "text": [
      "/Users/moshesilverstein/anaconda/lib/python3.5/site-packages/ipykernel/kernelbase.py:235: PerformanceWarning: indexing past lexsort depth may impact performance.\n",
      "  handler(stream, idents, msg)\n"
     ]
    },
    {
     "name": "stdout",
     "output_type": "stream",
     "text": [
      "Progress: 40%  1608 Out of 3997   \r"
     ]
    },
    {
     "name": "stderr",
     "output_type": "stream",
     "text": [
      "/Users/moshesilverstein/anaconda/lib/python3.5/site-packages/pandas/core/indexing.py:84: PerformanceWarning: indexing past lexsort depth may impact performance.\n",
      "  return self._getitem_tuple(key)\n"
     ]
    },
    {
     "name": "stdout",
     "output_type": "stream",
     "text": [
      "Progress: 100%  3997 Out of 3997   \r"
     ]
    }
   ],
   "source": [
    "lst = []\n",
    "\n",
    "for i, index in enumerate(intact_mouse.index):\n",
    "    \n",
    "    progressPercent = ((i+1)/len(intact_mouse.index))*100\n",
    "\n",
    "    sys.stdout.write(\"Progress: %d%%  %d Out of %d   \\r\" % (progressPercent, (i+1), len(intact_mouse.index)))\n",
    "    sys.stdout.flush()\n",
    "    \n",
    "    gene = intact_mouse.ix[index, 'Protein A (gene name)']\n",
    "    if gene in mapping[3].values:\n",
    "        number = mapping[mapping[3] == gene].index\n",
    "        if (number[0][0], 9606) in mapping.index:\n",
    "            if type(mapping.ix[(number[0][0], 9606), 3]) == str:\n",
    "                lst.append(mapping.ix[(number[0][0], 9606), 3])\n",
    "            else:\n",
    "                lst.append(np.nan)  # insert nan if gene maps tp more than one human gene  \n",
    "        else:\n",
    "            lst.append(np.nan)  # insert nan if gene dooesnt map to human gene       \n",
    "    else:\n",
    "        lst.append(np.nan) # insert nan if gene not found in the HOMOLOGENE\n",
    "\n",
    "intact_mouse['Protein A (gene name)'] = lst"
   ]
  },
  {
   "cell_type": "code",
   "execution_count": 258,
   "metadata": {},
   "outputs": [
    {
     "name": "stdout",
     "output_type": "stream",
     "text": [
      "Progress: 0%  4 Out of 3997   \r"
     ]
    },
    {
     "name": "stderr",
     "output_type": "stream",
     "text": [
      "/Users/moshesilverstein/anaconda/lib/python3.5/site-packages/ipykernel/kernelbase.py:235: PerformanceWarning: indexing past lexsort depth may impact performance.\n",
      "  handler(stream, idents, msg)\n"
     ]
    },
    {
     "name": "stdout",
     "output_type": "stream",
     "text": [
      "Progress: 29%  1168 Out of 3997   \r"
     ]
    },
    {
     "name": "stderr",
     "output_type": "stream",
     "text": [
      "/Users/moshesilverstein/anaconda/lib/python3.5/site-packages/pandas/core/indexing.py:84: PerformanceWarning: indexing past lexsort depth may impact performance.\n",
      "  return self._getitem_tuple(key)\n"
     ]
    },
    {
     "name": "stdout",
     "output_type": "stream",
     "text": [
      "Progress: 100%  3997 Out of 3997   \r"
     ]
    }
   ],
   "source": [
    "lst = []\n",
    "\n",
    "for i, index in enumerate(intact_mouse.index):\n",
    "    \n",
    "    progressPercent = ((i+1)/len(intact_mouse.index))*100\n",
    "\n",
    "    sys.stdout.write(\"Progress: %d%%  %d Out of %d   \\r\" % (progressPercent, (i+1), len(intact_mouse.index)))\n",
    "    sys.stdout.flush()\n",
    "    \n",
    "    gene = intact_mouse.ix[index, 'Protein B (gene name)']\n",
    "    if gene in mapping[3].values:\n",
    "        number = mapping[mapping[3] == gene].index\n",
    "        if (number[0][0], 9606) in mapping.index:\n",
    "            if type(mapping.ix[(number[0][0], 9606), 3]) == str:\n",
    "                lst.append(mapping.ix[(number[0][0], 9606), 3])\n",
    "            else:\n",
    "                lst.append(np.nan)  # insert nan if gene maps tp more than one human gene  \n",
    "        else:\n",
    "            lst.append(np.nan)  # insert nan if gene dooesnt map to human gene       \n",
    "    else:\n",
    "        lst.append(np.nan) # insert nan if gene not found in the HOMOLOGENE\n",
    "\n",
    "intact_mouse['Protein B (gene name)'] = lst"
   ]
  },
  {
   "cell_type": "code",
   "execution_count": 259,
   "metadata": {},
   "outputs": [
    {
     "data": {
      "text/plain": [
       "(3997, 4)"
      ]
     },
     "execution_count": 259,
     "metadata": {},
     "output_type": "execute_result"
    }
   ],
   "source": [
    "intact_mouse.shape"
   ]
  },
  {
   "cell_type": "code",
   "execution_count": 260,
   "metadata": {
    "collapsed": true
   },
   "outputs": [],
   "source": [
    "intact_mouse.dropna(how='any', inplace=True)"
   ]
  },
  {
   "cell_type": "code",
   "execution_count": 261,
   "metadata": {},
   "outputs": [
    {
     "data": {
      "text/plain": [
       "(3752, 4)"
      ]
     },
     "execution_count": 261,
     "metadata": {},
     "output_type": "execute_result"
    }
   ],
   "source": [
    "intact_mouse.shape"
   ]
  },
  {
   "cell_type": "code",
   "execution_count": 262,
   "metadata": {},
   "outputs": [
    {
     "name": "stdout",
     "output_type": "stream",
     "text": [
      "Progress: 100%  3752 Out of 3752   \r"
     ]
    }
   ],
   "source": [
    "intact = intact_human.copy()\n",
    "\n",
    "for i, index in enumerate(intact_mouse.index):\n",
    "    \n",
    "    progressPercent = ((i+1)/len(intact_mouse.index))*100\n",
    "\n",
    "    sys.stdout.write(\"Progress: %d%%  %d Out of %d   \\r\" % (progressPercent, (i+1), len(intact_mouse.index)))\n",
    "    sys.stdout.flush()\n",
    "    \n",
    "    mouse_interaction = intact_mouse.ix[index, ['Protein A (gene name)', 'Protein B (gene name)']].values.tolist()\n",
    "    if mouse_interaction in intact_human[['Protein A (gene name)', 'Protein B (gene name)']].values.tolist():\n",
    "        human_index = intact_human[(intact_human['Protein A (gene name)'] == mouse_interaction[0]) & (intact_human['Protein B (gene name)'] == mouse_interaction[1])].index\n",
    "        mouse_ref = intact_mouse.ix[index, 'PubMed ID']\n",
    "        human_ref = intact_human.ix[index, 'PubMed ID']\n",
    "        ref = ('|').join([mouse_ref, human_ref])\n",
    "        intact.ix[human_index, 'PubMed ID'] = ref\n",
    "    else:\n",
    "        intact.append(intact_mouse.ix[index])"
   ]
  },
  {
   "cell_type": "code",
   "execution_count": 263,
   "metadata": {
    "collapsed": true
   },
   "outputs": [],
   "source": [
    "intact_sig_df = pd.DataFrame(columns=sig_col)\n",
    "\n",
    "intact_sig_df['Source Name'] = intact['Protein A (gene name)']\n",
    "\n",
    "intact_sig_df['Target Name'] = intact['Protein B (gene name)']\n",
    "\n",
    "intact_sig_df['PubMed IDs'] = intact['PubMed ID']\n",
    "\n",
    "intact_sig_df.replace(np.nan, 'NA', inplace=True)\n",
    "\n",
    "intact_ppiSIG = path+'intact_ppi_%s.sig'% str(datetime.date.today()).replace('-', '_')\n",
    "intact_sig_df.to_csv(intact_ppiSIG, index=None, header=None, sep='\\t')"
   ]
  },
  {
   "cell_type": "markdown",
   "metadata": {},
   "source": [
    "# Mentha"
   ]
  },
  {
   "cell_type": "code",
   "execution_count": 265,
   "metadata": {},
   "outputs": [],
   "source": [
    "mentha_human = pd.read_csv(path+'ppi_network_mentha_human_filtered_2017_02_15.tsv', sep='\\t')"
   ]
  },
  {
   "cell_type": "code",
   "execution_count": 266,
   "metadata": {
    "collapsed": true
   },
   "outputs": [],
   "source": [
    "mentha_mouse = pd.read_csv(path+'ppi_network_mentha_mouse_filtered_2017_02_15.tsv', sep='\\t')"
   ]
  },
  {
   "cell_type": "code",
   "execution_count": 267,
   "metadata": {},
   "outputs": [
    {
     "name": "stdout",
     "output_type": "stream",
     "text": [
      "Progress: 0%  7 Out of 7632   \r"
     ]
    },
    {
     "name": "stderr",
     "output_type": "stream",
     "text": [
      "/Users/moshesilverstein/anaconda/lib/python3.5/site-packages/ipykernel/kernelbase.py:235: PerformanceWarning: indexing past lexsort depth may impact performance.\n",
      "  handler(stream, idents, msg)\n"
     ]
    },
    {
     "name": "stdout",
     "output_type": "stream",
     "text": [
      "Progress: 32%  2477 Out of 7632   \r"
     ]
    },
    {
     "name": "stderr",
     "output_type": "stream",
     "text": [
      "/Users/moshesilverstein/anaconda/lib/python3.5/site-packages/pandas/core/indexing.py:84: PerformanceWarning: indexing past lexsort depth may impact performance.\n",
      "  return self._getitem_tuple(key)\n"
     ]
    },
    {
     "name": "stdout",
     "output_type": "stream",
     "text": [
      "Progress: 100%  7632 Out of 7632   \r"
     ]
    }
   ],
   "source": [
    "lst = []\n",
    "\n",
    "for i, index in enumerate(mentha_mouse.index):\n",
    "    \n",
    "    progressPercent = ((i+1)/len(mentha_mouse.index))*100\n",
    "\n",
    "    sys.stdout.write(\"Progress: %d%%  %d Out of %d   \\r\" % (progressPercent, (i+1), len(mentha_mouse.index)))\n",
    "    sys.stdout.flush()\n",
    "    \n",
    "    gene = mentha_mouse.ix[index, 'Protein A (gene name)']\n",
    "    if gene in mapping[3].values:\n",
    "        number = mapping[mapping[3] == gene].index\n",
    "        if (number[0][0], 9606) in mapping.index:\n",
    "            if type(mapping.ix[(number[0][0], 9606), 3]) == str:\n",
    "                lst.append(mapping.ix[(number[0][0], 9606), 3])\n",
    "            else:\n",
    "                lst.append(np.nan)  # insert nan if gene maps tp more than one human gene  \n",
    "        else:\n",
    "            lst.append(np.nan)  # insert nan if gene dooesnt map to human gene       \n",
    "    else:\n",
    "        lst.append(np.nan) # insert nan if gene not found in the HOMOLOGENE\n",
    "\n",
    "mentha_mouse['Protein A (gene name)'] = lst"
   ]
  },
  {
   "cell_type": "code",
   "execution_count": 268,
   "metadata": {},
   "outputs": [
    {
     "name": "stdout",
     "output_type": "stream",
     "text": [
      "Progress: 0%  5 Out of 7632   \r"
     ]
    },
    {
     "name": "stderr",
     "output_type": "stream",
     "text": [
      "/Users/moshesilverstein/anaconda/lib/python3.5/site-packages/ipykernel/kernelbase.py:235: PerformanceWarning: indexing past lexsort depth may impact performance.\n",
      "  handler(stream, idents, msg)\n"
     ]
    },
    {
     "name": "stdout",
     "output_type": "stream",
     "text": [
      "Progress: 5%  435 Out of 7632   \r"
     ]
    },
    {
     "name": "stderr",
     "output_type": "stream",
     "text": [
      "/Users/moshesilverstein/anaconda/lib/python3.5/site-packages/pandas/core/indexing.py:84: PerformanceWarning: indexing past lexsort depth may impact performance.\n",
      "  return self._getitem_tuple(key)\n"
     ]
    },
    {
     "name": "stdout",
     "output_type": "stream",
     "text": [
      "Progress: 100%  7632 Out of 7632   \r"
     ]
    }
   ],
   "source": [
    "lst = []\n",
    "\n",
    "for i, index in enumerate(mentha_mouse.index):\n",
    "    \n",
    "    progressPercent = ((i+1)/len(mentha_mouse.index))*100\n",
    "\n",
    "    sys.stdout.write(\"Progress: %d%%  %d Out of %d   \\r\" % (progressPercent, (i+1), len(mentha_mouse.index)))\n",
    "    sys.stdout.flush()\n",
    "    \n",
    "    gene = mentha_mouse.ix[index, 'Protein B (gene name)']\n",
    "    if gene in mapping[3].values:\n",
    "        number = mapping[mapping[3] == gene].index\n",
    "        if (number[0][0], 9606) in mapping.index:\n",
    "            if type(mapping.ix[(number[0][0], 9606), 3]) == str:\n",
    "                lst.append(mapping.ix[(number[0][0], 9606), 3])\n",
    "            else:\n",
    "                lst.append(np.nan)  # insert nan if gene maps tp more than one human gene  \n",
    "        else:\n",
    "            lst.append(np.nan)  # insert nan if gene dooesnt map to human gene       \n",
    "    else:\n",
    "        lst.append(np.nan) # insert nan if gene not found in the HOMOLOGENE\n",
    "\n",
    "mentha_mouse['Protein B (gene name)'] = lst"
   ]
  },
  {
   "cell_type": "code",
   "execution_count": 269,
   "metadata": {},
   "outputs": [
    {
     "data": {
      "text/plain": [
       "(7632, 4)"
      ]
     },
     "execution_count": 269,
     "metadata": {},
     "output_type": "execute_result"
    }
   ],
   "source": [
    "mentha_mouse.shape"
   ]
  },
  {
   "cell_type": "code",
   "execution_count": 270,
   "metadata": {
    "collapsed": true
   },
   "outputs": [],
   "source": [
    "mentha_mouse.dropna(how='any', inplace=True)"
   ]
  },
  {
   "cell_type": "code",
   "execution_count": 271,
   "metadata": {},
   "outputs": [
    {
     "data": {
      "text/plain": [
       "(7088, 4)"
      ]
     },
     "execution_count": 271,
     "metadata": {},
     "output_type": "execute_result"
    }
   ],
   "source": [
    "mentha_mouse.shape"
   ]
  },
  {
   "cell_type": "code",
   "execution_count": 273,
   "metadata": {},
   "outputs": [
    {
     "name": "stdout",
     "output_type": "stream",
     "text": [
      "Progress: 100%  7088 Out of 7088   \r"
     ]
    }
   ],
   "source": [
    "mentha = mentha_human.copy()\n",
    "\n",
    "for i, index in enumerate(mentha_mouse.index):\n",
    "    \n",
    "    progressPercent = ((i+1)/len(mentha_mouse.index))*100\n",
    "\n",
    "    sys.stdout.write(\"Progress: %d%%  %d Out of %d   \\r\" % (progressPercent, (i+1), len(mentha_mouse.index)))\n",
    "    sys.stdout.flush()\n",
    "    \n",
    "    mouse_interaction = mentha_mouse.ix[index, ['Protein A (gene name)', 'Protein B (gene name)']].values.tolist()\n",
    "    if mouse_interaction in mentha_human[['Protein A (gene name)', 'Protein B (gene name)']].values.tolist():\n",
    "        human_index = mentha_human[(mentha_human['Protein A (gene name)'] == mouse_interaction[0]) & (mentha_human['Protein B (gene name)'] == mouse_interaction[1])].index\n",
    "        mouse_ref = mentha_mouse.ix[index, 'PubMed ID']\n",
    "        human_ref = mentha_human.ix[index, 'PubMed ID']\n",
    "        ref = ('|').join([mouse_ref, human_ref])\n",
    "        mentha.ix[human_index, 'PubMed ID'] = ref\n",
    "    else:\n",
    "        mentha.append(mentha_mouse.ix[index])"
   ]
  },
  {
   "cell_type": "code",
   "execution_count": 274,
   "metadata": {
    "collapsed": true
   },
   "outputs": [],
   "source": [
    "mentha_sig_df = pd.DataFrame(columns=sig_col)\n",
    "\n",
    "mentha_sig_df['Source Name'] = mentha['Protein A (gene name)']\n",
    "\n",
    "mentha_sig_df['Target Name'] = mentha['Protein B (gene name)']\n",
    "\n",
    "mentha_sig_df['PubMed IDs'] = mentha['PubMed ID']\n",
    "\n",
    "mentha_sig_df.replace(np.nan, 'NA', inplace=True)\n",
    "\n",
    "mentha_ppiSIG = path+'mentha_ppi_%s.sig'% str(datetime.date.today()).replace('-', '_')\n",
    "mentha_sig_df.to_csv(mentha_ppiSIG, index=None, header=None, sep='\\t')"
   ]
  },
  {
   "cell_type": "markdown",
   "metadata": {},
   "source": [
    "# Kea"
   ]
  },
  {
   "cell_type": "code",
   "execution_count": 275,
   "metadata": {
    "collapsed": true
   },
   "outputs": [],
   "source": [
    "kea_human = pd.read_csv(path+'ppi_network_kea_human_filtered_2017_02_16.tsv', sep='\\t')"
   ]
  },
  {
   "cell_type": "code",
   "execution_count": 278,
   "metadata": {
    "collapsed": true
   },
   "outputs": [],
   "source": [
    "kea = kea_human.copy()"
   ]
  },
  {
   "cell_type": "code",
   "execution_count": 279,
   "metadata": {},
   "outputs": [],
   "source": [
    "kea_sig_df = pd.DataFrame(columns=sig_col)\n",
    "\n",
    "kea_sig_df['Source Name'] = kea['Protein A (gene name)']\n",
    "\n",
    "kea_sig_df['Target Name'] = kea['Protein B (gene name)']\n",
    "\n",
    "kea_sig_df['PubMed IDs'] = kea['PubMed ID']\n",
    "\n",
    "kea_sig_df.replace(np.nan, 'NA', inplace=True)\n",
    "\n",
    "kea_ppiSIG = path+'kea_ppi_%s.sig'% str(datetime.date.today()).replace('-', '_')\n",
    "kea_sig_df.to_csv(kea_ppiSIG, index=None, header=None, sep='\\t')"
   ]
  },
  {
   "cell_type": "markdown",
   "metadata": {},
   "source": [
    "# Savi"
   ]
  },
  {
   "cell_type": "code",
   "execution_count": 280,
   "metadata": {
    "collapsed": true
   },
   "outputs": [],
   "source": [
    "savi_human = pd.read_csv(path+'ppi_network_savi_human_filtered_2017_02_16.tsv', sep='\\t')"
   ]
  },
  {
   "cell_type": "code",
   "execution_count": 281,
   "metadata": {
    "collapsed": true
   },
   "outputs": [],
   "source": [
    "savi = savi_human.copy()"
   ]
  },
  {
   "cell_type": "code",
   "execution_count": 282,
   "metadata": {
    "collapsed": true
   },
   "outputs": [],
   "source": [
    "savi_sig_df = pd.DataFrame(columns=sig_col)\n",
    "\n",
    "savi_sig_df['Source Name'] = savi['Protein A (gene name)']\n",
    "\n",
    "savi_sig_df['Target Name'] = savi['Protein B (gene name)']\n",
    "\n",
    "savi_sig_df['PubMed IDs'] = savi['PubMed ID']\n",
    "\n",
    "savi_sig_df.replace(np.nan, 'NA', inplace=True)\n",
    "\n",
    "savi_ppiSIG = path+'savi_ppi_%s.sig'% str(datetime.date.today()).replace('-', '_')\n",
    "savi_sig_df.to_csv(savi_ppiSIG, index=None, header=None, sep='\\t')"
   ]
  }
 ],
 "metadata": {
  "kernelspec": {
   "display_name": "Python [default]",
   "language": "python",
   "name": "python3"
  },
  "language_info": {
   "codemirror_mode": {
    "name": "ipython",
    "version": 3
   },
   "file_extension": ".py",
   "mimetype": "text/x-python",
   "name": "python",
   "nbconvert_exporter": "python",
   "pygments_lexer": "ipython3",
   "version": "3.5.2"
  }
 },
 "nbformat": 4,
 "nbformat_minor": 2
}
