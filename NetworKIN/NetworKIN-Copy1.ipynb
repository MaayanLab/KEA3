{
 "cells": [
  {
   "cell_type": "markdown",
   "metadata": {
    "collapsed": true
   },
   "source": [
    "# NetworKIN Data Formatting\n",
    "\n",
    "This file takes data regarding kinase-protein interactions from the NetworKIN database and converts the data into the .gmt format. The data was retrieved from the NetworKIN database on Wed, Jun 7 2017 14:55:39. This data will be added to enhance the KEA2 database and will be suitably formatted for use by the ENRICHR and X2K tools."
   ]
  },
  {
   "cell_type": "markdown",
   "metadata": {},
   "source": [
    "## Import packages necessary for following program"
   ]
  },
  {
   "cell_type": "code",
   "execution_count": 49,
   "metadata": {
    "collapsed": true
   },
   "outputs": [],
   "source": [
    "%run /home/maayanlab/Desktop/Projects/Scripts/init.ipy"
   ]
  },
  {
   "cell_type": "markdown",
   "metadata": {},
   "source": [
    "## Create a dataframe from a file containing NetworKIN data"
   ]
  },
  {
   "cell_type": "code",
   "execution_count": 50,
   "metadata": {},
   "outputs": [
    {
     "data": {
      "text/html": [
       "<div>\n",
       "<style>\n",
       "    .dataframe thead tr:only-child th {\n",
       "        text-align: right;\n",
       "    }\n",
       "\n",
       "    .dataframe thead th {\n",
       "        text-align: left;\n",
       "    }\n",
       "\n",
       "    .dataframe tbody tr th {\n",
       "        vertical-align: top;\n",
       "    }\n",
       "</style>\n",
       "<table border=\"1\" class=\"dataframe\">\n",
       "  <thead>\n",
       "    <tr style=\"text-align: right;\">\n",
       "      <th></th>\n",
       "      <th>#substrate</th>\n",
       "      <th>position</th>\n",
       "      <th>id</th>\n",
       "      <th>networkin_score</th>\n",
       "      <th>tree</th>\n",
       "      <th>netphorest_group</th>\n",
       "      <th>netphorest_score</th>\n",
       "      <th>string_identifier</th>\n",
       "      <th>string_score</th>\n",
       "      <th>substrate_name</th>\n",
       "      <th>sequence</th>\n",
       "      <th>string_path</th>\n",
       "    </tr>\n",
       "  </thead>\n",
       "  <tbody>\n",
       "    <tr>\n",
       "      <th>0</th>\n",
       "      <td>A1CF (ENSP00000363105)</td>\n",
       "      <td>154</td>\n",
       "      <td>ACTR2</td>\n",
       "      <td>0.1659</td>\n",
       "      <td>KIN</td>\n",
       "      <td>ACTR2_ACTR2B_TGFbR2_group</td>\n",
       "      <td>0.0485</td>\n",
       "      <td>ENSP00000282641</td>\n",
       "      <td>0.0860</td>\n",
       "      <td>A1CF</td>\n",
       "      <td>REEILsEMKKV</td>\n",
       "      <td>ENSP00000241416, 0.5192 ENSP00000256759, 0.480...</td>\n",
       "    </tr>\n",
       "    <tr>\n",
       "      <th>1</th>\n",
       "      <td>A1CF (ENSP00000363105)</td>\n",
       "      <td>154</td>\n",
       "      <td>ACTR2B</td>\n",
       "      <td>0.1659</td>\n",
       "      <td>KIN</td>\n",
       "      <td>ACTR2_ACTR2B_TGFbR2_group</td>\n",
       "      <td>0.0485</td>\n",
       "      <td>ENSP00000282641</td>\n",
       "      <td>0.0837</td>\n",
       "      <td>A1CF</td>\n",
       "      <td>REEILsEMKKV</td>\n",
       "      <td>ENSP00000340361, 0.5192 ENSP00000256759, 0.480...</td>\n",
       "    </tr>\n",
       "    <tr>\n",
       "      <th>2</th>\n",
       "      <td>A1CF (ENSP00000363105)</td>\n",
       "      <td>154</td>\n",
       "      <td>AMPKa1</td>\n",
       "      <td>0.0145</td>\n",
       "      <td>KIN</td>\n",
       "      <td>AMPK_group</td>\n",
       "      <td>0.0061</td>\n",
       "      <td>ENSP00000282641</td>\n",
       "      <td>0.0960</td>\n",
       "      <td>A1CF</td>\n",
       "      <td>REEILsEMKKV</td>\n",
       "      <td>ENSP00000346148, 0.6272 ENSP00000233242, 0.213...</td>\n",
       "    </tr>\n",
       "    <tr>\n",
       "      <th>3</th>\n",
       "      <td>A1CF (ENSP00000363105)</td>\n",
       "      <td>154</td>\n",
       "      <td>AMPKa2</td>\n",
       "      <td>0.0145</td>\n",
       "      <td>KIN</td>\n",
       "      <td>AMPK_group</td>\n",
       "      <td>0.0061</td>\n",
       "      <td>ENSP00000282641</td>\n",
       "      <td>0.1564</td>\n",
       "      <td>A1CF</td>\n",
       "      <td>REEILsEMKKV</td>\n",
       "      <td>ENSP00000360290, 0.7304 ENSP00000385269, 0.675...</td>\n",
       "    </tr>\n",
       "    <tr>\n",
       "      <th>4</th>\n",
       "      <td>A1CF (ENSP00000363105)</td>\n",
       "      <td>154</td>\n",
       "      <td>ARAF</td>\n",
       "      <td>0.2307</td>\n",
       "      <td>KIN</td>\n",
       "      <td>ARAF_BRAF_RAF1_group</td>\n",
       "      <td>0.0877</td>\n",
       "      <td>ENSP00000282641</td>\n",
       "      <td>0.1414</td>\n",
       "      <td>A1CF</td>\n",
       "      <td>REEILsEMKKV</td>\n",
       "      <td>ENSP00000366244, 0.76 ENSP00000356520, 0.688 E...</td>\n",
       "    </tr>\n",
       "  </tbody>\n",
       "</table>\n",
       "</div>"
      ],
      "text/plain": [
       "               #substrate  position      id  networkin_score tree  \\\n",
       "0  A1CF (ENSP00000363105)       154   ACTR2           0.1659  KIN   \n",
       "1  A1CF (ENSP00000363105)       154  ACTR2B           0.1659  KIN   \n",
       "2  A1CF (ENSP00000363105)       154  AMPKa1           0.0145  KIN   \n",
       "3  A1CF (ENSP00000363105)       154  AMPKa2           0.0145  KIN   \n",
       "4  A1CF (ENSP00000363105)       154    ARAF           0.2307  KIN   \n",
       "\n",
       "            netphorest_group  netphorest_score string_identifier  \\\n",
       "0  ACTR2_ACTR2B_TGFbR2_group            0.0485   ENSP00000282641   \n",
       "1  ACTR2_ACTR2B_TGFbR2_group            0.0485   ENSP00000282641   \n",
       "2                 AMPK_group            0.0061   ENSP00000282641   \n",
       "3                 AMPK_group            0.0061   ENSP00000282641   \n",
       "4       ARAF_BRAF_RAF1_group            0.0877   ENSP00000282641   \n",
       "\n",
       "   string_score substrate_name     sequence  \\\n",
       "0        0.0860           A1CF  REEILsEMKKV   \n",
       "1        0.0837           A1CF  REEILsEMKKV   \n",
       "2        0.0960           A1CF  REEILsEMKKV   \n",
       "3        0.1564           A1CF  REEILsEMKKV   \n",
       "4        0.1414           A1CF  REEILsEMKKV   \n",
       "\n",
       "                                         string_path  \n",
       "0  ENSP00000241416, 0.5192 ENSP00000256759, 0.480...  \n",
       "1  ENSP00000340361, 0.5192 ENSP00000256759, 0.480...  \n",
       "2  ENSP00000346148, 0.6272 ENSP00000233242, 0.213...  \n",
       "3  ENSP00000360290, 0.7304 ENSP00000385269, 0.675...  \n",
       "4  ENSP00000366244, 0.76 ENSP00000356520, 0.688 E...  "
      ]
     },
     "execution_count": 50,
     "metadata": {},
     "output_type": "execute_result"
    }
   ],
   "source": [
    "#read data from tsv file into dataframe 'networkin_human_predictions.tsv'\n",
    "#None of the yeast data was downloaded or included from the NetworKIN site\n",
    "net_df = pd.read_table('~/Desktop/Projects/KEA3/networkin_human_predictions.tsv')\n",
    "\n",
    "#View dataframe\n",
    "net_df.head()"
   ]
  },
  {
   "cell_type": "markdown",
   "metadata": {},
   "source": [
    "### Some Notes Regarding NetworKIN scoring methods [useful for future data analyses]\n",
    "\n",
    "The STRING netwrok score was assigned based on network proximity, and the Netphorest classifiers became Netphorest probability scores based on the peptide sequences. Combining both using an algorithim resulted in the networkin_score shown below. Calculations were also meant to account for bias of over-study in algorithm calculations."
   ]
  },
  {
   "cell_type": "code",
   "execution_count": 55,
   "metadata": {},
   "outputs": [
    {
     "name": "stderr",
     "output_type": "stream",
     "text": [
      "/home/maayanlab/anaconda3/lib/python3.6/site-packages/ipykernel_launcher.py:7: SettingWithCopyWarning: \n",
      "A value is trying to be set on a copy of a slice from a DataFrame\n",
      "\n",
      "See the caveats in the documentation: http://pandas.pydata.org/pandas-docs/stable/indexing.html#indexing-view-versus-copy\n",
      "  import sys\n"
     ]
    },
    {
     "data": {
      "text/plain": [
       "5193537"
      ]
     },
     "execution_count": 55,
     "metadata": {},
     "output_type": "execute_result"
    }
   ],
   "source": [
    "#select columns necessary for .gmt format and filter into new dataframe 'df'\n",
    "#should this be 'id' or 'substrate name'\n",
    "df = net_df[['substrate_name', 'id', 'networkin_score']]\n",
    "\n",
    "# Sort kinases ('id') from max to min \n",
    "#according to networKIN score\n",
    "df.sort_values(by = ['networkin_score'], ascending= False, inplace=True)\n",
    "\n",
    "len(df)"
   ]
  },
  {
   "cell_type": "code",
   "execution_count": 52,
   "metadata": {},
   "outputs": [
    {
     "data": {
      "text/html": [
       "<div>\n",
       "<style>\n",
       "    .dataframe thead tr:only-child th {\n",
       "        text-align: right;\n",
       "    }\n",
       "\n",
       "    .dataframe thead th {\n",
       "        text-align: left;\n",
       "    }\n",
       "\n",
       "    .dataframe tbody tr th {\n",
       "        vertical-align: top;\n",
       "    }\n",
       "</style>\n",
       "<table border=\"1\" class=\"dataframe\">\n",
       "  <thead>\n",
       "    <tr style=\"text-align: right;\">\n",
       "      <th></th>\n",
       "      <th>substrate_name</th>\n",
       "      <th>id</th>\n",
       "      <th>networkin_score</th>\n",
       "    </tr>\n",
       "  </thead>\n",
       "  <tbody>\n",
       "    <tr>\n",
       "      <th>4723867</th>\n",
       "      <td>TP53BP1</td>\n",
       "      <td>ATM</td>\n",
       "      <td>228.1415</td>\n",
       "    </tr>\n",
       "    <tr>\n",
       "      <th>510447</th>\n",
       "      <td>BRCA1</td>\n",
       "      <td>ATM</td>\n",
       "      <td>228.1415</td>\n",
       "    </tr>\n",
       "    <tr>\n",
       "      <th>2769794</th>\n",
       "      <td>NBN</td>\n",
       "      <td>ATM</td>\n",
       "      <td>228.1415</td>\n",
       "    </tr>\n",
       "    <tr>\n",
       "      <th>867745</th>\n",
       "      <td>CHEK1</td>\n",
       "      <td>ATM</td>\n",
       "      <td>228.1415</td>\n",
       "    </tr>\n",
       "    <tr>\n",
       "      <th>3664250</th>\n",
       "      <td>RBBP8</td>\n",
       "      <td>ATM</td>\n",
       "      <td>228.1415</td>\n",
       "    </tr>\n",
       "    <tr>\n",
       "      <th>1506690</th>\n",
       "      <td>FANCD2</td>\n",
       "      <td>ATM</td>\n",
       "      <td>228.1415</td>\n",
       "    </tr>\n",
       "    <tr>\n",
       "      <th>2677357</th>\n",
       "      <td>MRE11A</td>\n",
       "      <td>ATM</td>\n",
       "      <td>228.1415</td>\n",
       "    </tr>\n",
       "    <tr>\n",
       "      <th>1798770</th>\n",
       "      <td>H2AFX</td>\n",
       "      <td>ATM</td>\n",
       "      <td>228.1415</td>\n",
       "    </tr>\n",
       "    <tr>\n",
       "      <th>4173643</th>\n",
       "      <td>SMC1A</td>\n",
       "      <td>ATM</td>\n",
       "      <td>228.1415</td>\n",
       "    </tr>\n",
       "    <tr>\n",
       "      <th>4722616</th>\n",
       "      <td>TP53</td>\n",
       "      <td>ATM</td>\n",
       "      <td>228.1415</td>\n",
       "    </tr>\n",
       "    <tr>\n",
       "      <th>4568893</th>\n",
       "      <td>TERF2</td>\n",
       "      <td>ATM</td>\n",
       "      <td>228.1415</td>\n",
       "    </tr>\n",
       "    <tr>\n",
       "      <th>350772</th>\n",
       "      <td>ATM</td>\n",
       "      <td>ATM</td>\n",
       "      <td>226.3452</td>\n",
       "    </tr>\n",
       "    <tr>\n",
       "      <th>1093820</th>\n",
       "      <td>DCLRE1C</td>\n",
       "      <td>ATM</td>\n",
       "      <td>221.0716</td>\n",
       "    </tr>\n",
       "    <tr>\n",
       "      <th>2551564</th>\n",
       "      <td>MDM4</td>\n",
       "      <td>ATM</td>\n",
       "      <td>210.6901</td>\n",
       "    </tr>\n",
       "    <tr>\n",
       "      <th>1264873</th>\n",
       "      <td>E2F1</td>\n",
       "      <td>ATM</td>\n",
       "      <td>208.6403</td>\n",
       "    </tr>\n",
       "    <tr>\n",
       "      <th>1958774</th>\n",
       "      <td>IKBKG</td>\n",
       "      <td>ATM</td>\n",
       "      <td>202.4911</td>\n",
       "    </tr>\n",
       "    <tr>\n",
       "      <th>3587928</th>\n",
       "      <td>RAD17</td>\n",
       "      <td>ATM</td>\n",
       "      <td>195.8736</td>\n",
       "    </tr>\n",
       "    <tr>\n",
       "      <th>1508993</th>\n",
       "      <td>FANCI</td>\n",
       "      <td>ATM</td>\n",
       "      <td>184.2893</td>\n",
       "    </tr>\n",
       "    <tr>\n",
       "      <th>3592909</th>\n",
       "      <td>RAD50</td>\n",
       "      <td>ATM</td>\n",
       "      <td>167.8008</td>\n",
       "    </tr>\n",
       "    <tr>\n",
       "      <th>4526963</th>\n",
       "      <td>TAOK3</td>\n",
       "      <td>ATM</td>\n",
       "      <td>150.1592</td>\n",
       "    </tr>\n",
       "  </tbody>\n",
       "</table>\n",
       "</div>"
      ],
      "text/plain": [
       "        substrate_name   id  networkin_score\n",
       "4723867        TP53BP1  ATM         228.1415\n",
       "510447           BRCA1  ATM         228.1415\n",
       "2769794            NBN  ATM         228.1415\n",
       "867745           CHEK1  ATM         228.1415\n",
       "3664250          RBBP8  ATM         228.1415\n",
       "1506690         FANCD2  ATM         228.1415\n",
       "2677357         MRE11A  ATM         228.1415\n",
       "1798770          H2AFX  ATM         228.1415\n",
       "4173643          SMC1A  ATM         228.1415\n",
       "4722616           TP53  ATM         228.1415\n",
       "4568893          TERF2  ATM         228.1415\n",
       "350772             ATM  ATM         226.3452\n",
       "1093820        DCLRE1C  ATM         221.0716\n",
       "2551564           MDM4  ATM         210.6901\n",
       "1264873           E2F1  ATM         208.6403\n",
       "1958774          IKBKG  ATM         202.4911\n",
       "3587928          RAD17  ATM         195.8736\n",
       "1508993          FANCI  ATM         184.2893\n",
       "3592909          RAD50  ATM         167.8008\n",
       "4526963          TAOK3  ATM         150.1592"
      ]
     },
     "execution_count": 52,
     "metadata": {},
     "output_type": "execute_result"
    }
   ],
   "source": [
    "#drop duplicate rows in the dataframe\n",
    "df.drop_duplicates(['substrate_name', 'id'], inplace = True)\n",
    "\n",
    "#View Dataframe\n",
    "df.head(20)"
   ]
  },
  {
   "cell_type": "code",
   "execution_count": 65,
   "metadata": {},
   "outputs": [
    {
     "data": {
      "text/plain": [
       "284242"
      ]
     },
     "execution_count": 65,
     "metadata": {},
     "output_type": "execute_result"
    }
   ],
   "source": [
    "indices = [index for index, rowData in df.networkin_score.iteritems()\n",
    "           if rowData > 0.7385229]\n",
    "\n",
    "nk = df.loc[indices]\n",
    "\n",
    "nk.sort_values(by = 'networkin_score', ascending = True, inplace = True)\n",
    "\n",
    "len(nk)"
   ]
  },
  {
   "cell_type": "code",
   "execution_count": 56,
   "metadata": {},
   "outputs": [
    {
     "data": {
      "image/png": "[encoded data removed]",
      "text/plain": [
       "<matplotlib.figure.Figure at 0x7f13d07d6518>"
      ]
     },
     "metadata": {},
     "output_type": "display_data"
    }
   ],
   "source": [
    "# Create histogram displaying the distribution of the number\n",
    "#targets per kinase\n",
    "df.plot.hist(by = 'networkin_score', bins = 20)\n",
    "\n",
    "#Show histogram\n",
    "plt.show()"
   ]
  },
  {
   "cell_type": "code",
   "execution_count": 57,
   "metadata": {},
   "outputs": [
    {
     "data": {
      "image/png": "[encoded data removed]",
      "text/plain": [
       "<matplotlib.figure.Figure at 0x7f1425bad2e8>"
      ]
     },
     "metadata": {},
     "output_type": "display_data"
    }
   ],
   "source": [
    "# Create histogram displaying the distribution of the number\n",
    "#targets per kinase\n",
    "df['networkin_score'].plot.hist(by = 'networkin_score', bins = 20)\n",
    "\n",
    "#Show histogram\n",
    "plt.show()"
   ]
  },
  {
   "cell_type": "code",
   "execution_count": 60,
   "metadata": {},
   "outputs": [
    {
     "data": {
      "text/plain": [
       "2.4651999999999998"
      ]
     },
     "execution_count": 60,
     "metadata": {},
     "output_type": "execute_result"
    }
   ],
   "source": [
    "percent = np.percentile(df.networkin_score, 99)\n",
    "percent"
   ]
  },
  {
   "cell_type": "markdown",
   "metadata": {},
   "source": [
    "## Sort Dataframe by its NetworKIN score"
   ]
  },
  {
   "cell_type": "markdown",
   "metadata": {},
   "source": [
    "## Specify Species of Kinases"
   ]
  },
  {
   "cell_type": "code",
   "execution_count": null,
   "metadata": {},
   "outputs": [],
   "source": [
    "#Join kinase names with species name 'Homo sapiens'\n",
    "df.insert(0, 'kinase_organism', 'None')\n",
    "\n",
    "#Specify species as Homo sapiens \n",
    "for index, rowData in df.id.iteritems():\n",
    "    df.kinase_organism[index] = '_'.join([rowData, 'Homo sapiens'])\n",
    "\n",
    "#View dataframe\n",
    "df.head()"
   ]
  },
  {
   "cell_type": "markdown",
   "metadata": {},
   "source": [
    "## Set Index to 'Kinase_Organism' and Aggregate Kinase Targets"
   ]
  },
  {
   "cell_type": "code",
   "execution_count": null,
   "metadata": {
    "collapsed": true
   },
   "outputs": [],
   "source": [
    "#Set index to 'kinase_organism'\n",
    "df.set_index('kinase_organism')\n",
    "\n",
    "#Group kinases in dataframe 'kin'\n",
    "#Aggregate data in 'kin' according to kinase groups\n",
    "kin = df.groupby('kinase_organism').agg(lambda x: tuple(x))\n",
    "\n",
    "#Create a new column 'NetworKIN' as description of data\n",
    "kin.insert(0, 'Description', 'NetworKIN')\n",
    "\n",
    "#Visualize Data\n",
    "kin.head()"
   ]
  },
  {
   "cell_type": "markdown",
   "metadata": {},
   "source": [
    "# Exploratory Data Analysis"
   ]
  },
  {
   "cell_type": "markdown",
   "metadata": {},
   "source": [
    "## Calculate Number of Protein targets for each kinase\n",
    "Create new column with the number of substrates related to each kinase, and sort the dataframe by this column."
   ]
  },
  {
   "cell_type": "code",
   "execution_count": null,
   "metadata": {
    "collapsed": true
   },
   "outputs": [],
   "source": [
    "# Create column representing counts of protein targets per kinase\n",
    "kin['kinase_substrate_num'] = [len(lst) for kinase, lst in kin['substrate_name'].iteritems()]\n",
    "\n",
    "# Sort kinases from max to min according to number of protein targets each has\n",
    "kin.sort_values(by = ['kinase_substrate_num'], ascending= False, inplace=True)\n",
    "\n",
    "# View dataframe\n",
    "kin.head()"
   ]
  },
  {
   "cell_type": "markdown",
   "metadata": {},
   "source": [
    "## Create Histogram to display distribution  of number of targets per kinase"
   ]
  },
  {
   "cell_type": "code",
   "execution_count": null,
   "metadata": {
    "collapsed": true
   },
   "outputs": [],
   "source": [
    "# Create histogram displaying the distribution of the number\n",
    "#targets per kinase\n",
    "kin.plot.hist(by = 'kinase_substrate_num', bins = 63)\n",
    "\n",
    "#Show histogram\n",
    "plt.show()"
   ]
  },
  {
   "cell_type": "markdown",
   "metadata": {},
   "source": [
    "# Creation of Final .GMT File"
   ]
  },
  {
   "cell_type": "markdown",
   "metadata": {},
   "source": [
    "## Create Dictionary of Tab-Separated Rows of the Dataframe"
   ]
  },
  {
   "cell_type": "code",
   "execution_count": null,
   "metadata": {
    "collapsed": true
   },
   "outputs": [],
   "source": [
    "#Reset index of the dataframe\n",
    "kin.reset_index(inplace = True)\n",
    "\n",
    "#create column 'acc_merged' in which all 'acc' elements are joined by a \\t symbol\n",
    "kin['substrates_merged'] = ['\\t'.join(x) for x in kin['substrate_name']]\n",
    "\n",
    "#drop the now-unneccesary column 'Substrates'\n",
    "kin.drop('substrate_name', axis=1, inplace = True)\n",
    "\n",
    "#also drop the data-exploratory column 'kinase_substrate_num'\n",
    "kin.drop('kinase_substrate_num', axis=1, inplace = True)\n",
    "\n",
    "#Create dictionary 'PhosphoSite' with index numbers as keys\n",
    "NetworKIN_num = dict([(key, '') for key in kin.index])\n",
    "\n",
    "# loop through rows with iterrows()\n",
    "for index, rowData in kin.iterrows():\n",
    "    line = ('\\t'.join(rowData))\n",
    "    NetworKIN_num[index] = line"
   ]
  },
  {
   "cell_type": "markdown",
   "metadata": {},
   "source": [
    "## Write Info from Dictionary into .GMT File"
   ]
  },
  {
   "cell_type": "code",
   "execution_count": null,
   "metadata": {
    "collapsed": true
   },
   "outputs": [],
   "source": [
    "#Transfer tab-separated info into a new txt file\n",
    "with open('NetworKIN.gmt', 'w') as openfile:\n",
    "    for index in NetworKIN_num:\n",
    "        openfile.write(str(NetworKIN_num[index]) + '\\n')"
   ]
  }
 ],
 "metadata": {
  "kernelspec": {
   "display_name": "Python 3",
   "language": "python",
   "name": "python3"
  },
  "language_info": {
   "codemirror_mode": {
    "name": "ipython",
    "version": 3
   },
   "file_extension": ".py",
   "mimetype": "text/x-python",
   "name": "python",
   "nbconvert_exporter": "python",
   "pygments_lexer": "ipython3",
   "version": "3.6.1"
  }
 },
 "nbformat": 4,
 "nbformat_minor": 2
}
