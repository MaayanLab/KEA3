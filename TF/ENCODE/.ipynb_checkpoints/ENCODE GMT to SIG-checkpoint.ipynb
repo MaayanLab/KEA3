{
 "cells": [
  {
   "cell_type": "markdown",
   "metadata": {},
   "source": [
    "## ENCODE GMT to SIG File Conversion\n",
    "\n",
    "This script will take an input of an ENCODE (from any year) and transform it into the SIG file format. Make sure to carefully match the ENCODE version you are using to the SIG file version you are outputting."
   ]
  },
  {
   "cell_type": "code",
   "execution_count": null,
   "metadata": {
    "collapsed": true
   },
   "outputs": [],
   "source": [
    "%run /home/maayanlab/Desktop/Projects/KEA3/Scripts/init.ipy"
   ]
  },
  {
   "cell_type": "code",
   "execution_count": null,
   "metadata": {},
   "outputs": [],
   "source": [
    "#this maximum set according to the max column value indicated to me by Ariel\n",
    "colnames = ['']*7001\n",
    "colnames\n",
    "\n",
    "ENCODE = pd.read_table('ENCODE_TF_ChIP-seq_2014.txt', names = colnames)\n",
    "\n",
    "subset = ENCODE.copy()\n",
    "\n",
    "subset.dropna(how = 'all', inplace = True)\n",
    "\n",
    "subset.replace(np.nan, '', inplace = True)\n",
    "\n",
    "subset.head()"
   ]
  },
  {
   "cell_type": "code",
   "execution_count": null,
   "metadata": {},
   "outputs": [],
   "source": [
    "for column in subset:\n",
    "    for index, row in subset['%s' %column].iteritems():\n",
    "        s = row\n",
    "        if ',' in s:\n",
    "            s = s.split(',', 1)[0]\n",
    "        subset.loc[index, '%s' %column] = s\n",
    "\n",
    "subset.head()"
   ]
  },
  {
   "cell_type": "code",
   "execution_count": null,
   "metadata": {},
   "outputs": [],
   "source": [
    "#loop through each row of the data frame\n",
    "#make the index ('') the dataframe's key\n",
    "#make each item of rowData into part of a list\n",
    "#store this list as a value for the index key of the dictionary\n",
    "\n",
    "\n",
    "#Once the dictionary is completed, we can use the dictionary to drop values which are NaN from the\n",
    "#list (or can have used list comprehension beforehand to filter the list and \n",
    "#keep NaNs from becoming values in the dataframe)\n",
    "\n",
    "subset.set_index('', inplace = True)\n",
    "\n",
    "d = {}\n",
    "\n",
    "for index, rowData in subset.iterrows():\n",
    "    lst = []\n",
    "    sr = pd.Series(rowData)\n",
    "    for i in range(0, len(sr)):\n",
    "        if sr[i] == '':\n",
    "            lst = lst + [i]\n",
    "    sr.drop(sr.index[lst], inplace = True)\n",
    "    d[index] = [sr.values]\n",
    "\n",
    "d"
   ]
  },
  {
   "cell_type": "code",
   "execution_count": null,
   "metadata": {},
   "outputs": [],
   "source": [
    "#Create an empty dataframe to house entries from the dictionary\n",
    "#for each key, list value pairs\n",
    "df = pd.DataFrame(columns = ['Transcription_Factor', 'Target'])\n",
    "df"
   ]
  },
  {
   "cell_type": "code",
   "execution_count": null,
   "metadata": {
    "collapsed": true
   },
   "outputs": [],
   "source": [
    "for key, value in d.items():\n",
    "    lst = value[0]\n",
    "    for i in range(0, len(lst)):\n",
    "        term = lst[i]\n",
    "        df2 = pd.DataFrame([[key, term]], \n",
    "                            columns = ['Transcription_Factor', 'Target'])\n",
    "        df = df.append(df2)"
   ]
  },
  {
   "cell_type": "code",
   "execution_count": null,
   "metadata": {},
   "outputs": [],
   "source": [
    "df"
   ]
  },
  {
   "cell_type": "code",
   "execution_count": null,
   "metadata": {},
   "outputs": [],
   "source": [
    "df.reset_index(drop = True, inplace = True)\n",
    "\n",
    "df"
   ]
  },
  {
   "cell_type": "code",
   "execution_count": null,
   "metadata": {
    "collapsed": true
   },
   "outputs": [],
   "source": [
    "df['PubMed_ID'] = ' 15499007'"
   ]
  },
  {
   "cell_type": "code",
   "execution_count": null,
   "metadata": {},
   "outputs": [],
   "source": [
    "#Insert first four columns for .sig file format (NaNs)\n",
    "df.insert(1, 'NA-1', str(np.nan))\n",
    "df.insert(2, 'NA-2', str(np.nan))\n",
    "df.insert(3, 'NA-3', str(np.nan))\n",
    "df.insert(4, 'NA-4', str(np.nan))\n",
    "\n",
    "#Insert first four columns for .sig file format (NaNs)\n",
    "df.insert(6, 'NA-5', str(np.nan))\n",
    "df.insert(7, 'NA-6', str(np.nan))\n",
    "df.insert(8, 'NA-7', str(np.nan))\n",
    "df.insert(9, 'NA-8', str(np.nan))\n",
    "\n",
    "#Insert column corresponding to sign \n",
    "df.insert(10, 'Sign', str(np.nan))\n",
    "\n",
    "#Insert column specifying interaction type as unknown\n",
    "df.insert(11, 'Interaction', str(np.nan))\n",
    "\n",
    "#View dataframe\n",
    "df.head()"
   ]
  },
  {
   "cell_type": "code",
   "execution_count": null,
   "metadata": {
    "collapsed": true
   },
   "outputs": [],
   "source": [
    "#Create dictionary 'sigd' with index numbers as keys\n",
    "sigd = dict([(key, '') for key in df.index])\n",
    "\n",
    "# loop through rows with iterrows()\n",
    "for index, rowData in df.iterrows():\n",
    "    line = ('\\t'.join(rowData))\n",
    "    sigd[index] = line\n",
    "    \n",
    "#Transfer tab-separated info into a new txt file\n",
    "#Make sure to include in ReadMe corresponding column names\n",
    "with open('ENCODE_2014.sig', 'w') as openfile:\n",
    "    for index in sigd:\n",
    "        openfile.write(str(sigd[index]) + '\\n')"
   ]
  }
 ],
 "metadata": {
  "kernelspec": {
   "display_name": "Python 3",
   "language": "python",
   "name": "python3"
  },
  "language_info": {
   "codemirror_mode": {
    "name": "ipython",
    "version": 3
   },
   "file_extension": ".py",
   "mimetype": "text/x-python",
   "name": "python",
   "nbconvert_exporter": "python",
   "pygments_lexer": "ipython3",
   "version": "3.6.1"
  }
 },
 "nbformat": 4,
 "nbformat_minor": 2
}
