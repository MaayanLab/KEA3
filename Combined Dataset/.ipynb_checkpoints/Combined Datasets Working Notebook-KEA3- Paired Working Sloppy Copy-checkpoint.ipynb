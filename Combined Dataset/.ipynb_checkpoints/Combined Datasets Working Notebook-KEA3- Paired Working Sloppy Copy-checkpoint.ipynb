{
 "cells": [
  {
   "cell_type": "markdown",
   "metadata": {},
   "source": [
    "# Combined .GMT File\n",
    "This notebook contains code that will concatenate all of the .gmt files created for seven databases (RegPhos, NetworKIN, Swiss-Prot, PhosphoELM, PhosphoSite, HPRD, and MINT) into a single .gmt file. It will also show a distribution for the number of targets per kinase for this combined file. For the reference column of this file, citations to the paper corresponding to the database will be provided in cases during which the data does not have a pubmed id number. Otherwise, the PubMed id will be displayed."
   ]
  },
  {
   "cell_type": "markdown",
   "metadata": {},
   "source": [
    "## Import and Run Necessary Files"
   ]
  },
  {
   "cell_type": "code",
   "execution_count": null,
   "metadata": {
    "collapsed": true,
    "scrolled": true
   },
   "outputs": [],
   "source": [
    "%run /home/maayanlab/Desktop/Projects/KEA3/Scripts/init.ipy\n",
    "import csv\n",
    "import os\n",
    "import pickle\n",
    "import numpy as np\n",
    "import pandas as pd\n",
    "import matplotlib.pyplot as plt\n",
    "import scipy.stats as stats\n",
    "from joblib import Parallel, delayed"
   ]
  },
  {
   "cell_type": "markdown",
   "metadata": {},
   "source": [
    "## Retrieving and Downloading all .GMT files"
   ]
  },
  {
   "cell_type": "code",
   "execution_count": null,
   "metadata": {
    "collapsed": true,
    "scrolled": true
   },
   "outputs": [],
   "source": [
    "HPRD = pd.read_table(\"~/Desktop/Projects/KEA3/HPRD/Uncondensed_HPRD.txt\", header = None)\n",
    "\n",
    "MINT = pd.read_table(\"~/Desktop/Projects/KEA3/MINT/Uncondensed_MINT.txt\", header = None)\n",
    "\n",
    "NetworKIN = pd.read_table(\"~/Desktop/Projects/KEA3/NetworKIN/Uncondensed_NetworKIN.txt\", header = None)\n",
    "\n",
    "PhosphoELM = pd.read_table(\"~/Desktop/Projects/KEA3/PhosphoELM/Uncondensed_PhosphoELM.txt\", header = None)\n",
    "\n",
    "PhosphoSite = pd.read_table(\"~/Desktop/Projects/KEA3/PhosphoSite/Uncondensed_PhosphoSite.txt\", header = None)\n",
    "\n",
    "RP_Hum = pd.read_table(\"~/Desktop/Projects/KEA3/RegPhos/Uncondensed_RegPhos_human.txt\", header = None)\n",
    "\n",
    "RP_Mouse = pd.read_table(\"~/Desktop/Projects/KEA3/RegPhos/Uncondensed_RegPhos_mouse.txt\", header = None)\n",
    "\n",
    "SP_E = pd.read_table(\"~/Desktop/Projects/KEA3/SwissProt/Uncondensed_SwissProtE.txt\", header = None)\n",
    "\n",
    "SP_P = pd.read_table(\"~/Desktop/Projects/KEA3/SwissProt/Uncondensed_SwissProt_Put.txt\", header = None)"
   ]
  },
  {
   "cell_type": "markdown",
   "metadata": {},
   "source": [
    "## Concatenate all GMT Dataframes into a Single Dataframe\n",
    "Also removes any duplicates or NAs that may be present in the newly created dataframe."
   ]
  },
  {
   "cell_type": "code",
   "execution_count": null,
   "metadata": {
    "collapsed": true,
    "scrolled": true
   },
   "outputs": [],
   "source": [
    "#Create a list of all of the dataframe\n",
    "c = [HPRD, MINT, NetworKIN, PhosphoELM, PhosphoELM, RP_Hum, RP_Mouse, SP_E, SP_P]\n",
    "\n",
    "#Concatenate all of the rows in the dataframes\n",
    "combined = pd.concat(c)\n",
    "\n",
    "#Assign column names\n",
    "combined.columns = ['kinase_organism', 'substrate', 'reference']\n",
    "\n",
    "#Drop any duplicate rows in the dataframe\n",
    "combined.drop_duplicates(['kinase_organism', 'substrate'], inplace = True)\n",
    "combined.dropna(inplace = True)"
   ]
  },
  {
   "cell_type": "code",
   "execution_count": null,
   "metadata": {
    "scrolled": false
   },
   "outputs": [],
   "source": [
    "#View dataframe of combined kinase-substrate interactions\n",
    "combined"
   ]
  },
  {
   "cell_type": "markdown",
   "metadata": {},
   "source": [
    "## Set Index by 'kinase_organism' Column and Group Proteins by Kinase\n",
    "Also, creating a copy of 'combined' to be used later in also creating a combined .SIG file"
   ]
  },
  {
   "cell_type": "code",
   "execution_count": null,
   "metadata": {
    "scrolled": true
   },
   "outputs": [],
   "source": [
    "#Create a dataframe copy of 'combined' known as 'df'\n",
    "df = combined.copy()\n",
    "\n",
    "combined.drop(\"reference\", axis = 1, inplace = True)\n",
    "\n",
    "#Set index of the dataframe as 'kinase_organism'\n",
    "combined.set_index('kinase_organism', inplace = True)\n",
    "\n",
    "#Combine rows according to same index 'kinase_organism'\n",
    "kin = combined.groupby('kinase_organism').agg(lambda x: tuple(x))"
   ]
  },
  {
   "cell_type": "code",
   "execution_count": null,
   "metadata": {},
   "outputs": [],
   "source": [
    "#Confirm that 'df' is a copy of 'combined' and is unchanged by setting the index\n",
    "df.head()"
   ]
  },
  {
   "cell_type": "code",
   "execution_count": null,
   "metadata": {
    "scrolled": true
   },
   "outputs": [],
   "source": [
    "#View new dataframe\n",
    "kin"
   ]
  },
  {
   "cell_type": "markdown",
   "metadata": {},
   "source": [
    "# Exploratory Data Analysis"
   ]
  },
  {
   "cell_type": "markdown",
   "metadata": {},
   "source": [
    "## Calculate Number of Protein Targets for each Kinase and Sort in Descending Order"
   ]
  },
  {
   "cell_type": "code",
   "execution_count": null,
   "metadata": {},
   "outputs": [],
   "source": [
    "# Create column representing counts of protein targets per kinase\n",
    "kin['kinase_substrate_num'] = [len(lst) for kinase, lst in kin['substrate'].iteritems()]\n",
    "\n",
    "# Sort kinases from max to min according to number of protein targets each has\n",
    "kin.sort_values(by = ['kinase_substrate_num'], ascending= False, inplace=True)\n",
    "\n",
    "# View dataframe\n",
    "kin.head()"
   ]
  },
  {
   "cell_type": "markdown",
   "metadata": {},
   "source": [
    "## Display a Histogram Showing the Distribution of the Number of Kinase Targets"
   ]
  },
  {
   "cell_type": "code",
   "execution_count": null,
   "metadata": {},
   "outputs": [],
   "source": [
    "# Create histogram displaying the distribution of the number\n",
    "#targets per kinase\n",
    "kin.plot.hist(by = 'kinase_substrate_num', bins = 100)\n",
    "\n",
    "#Show histogram\n",
    "plt.show()"
   ]
  },
  {
   "cell_type": "markdown",
   "metadata": {},
   "source": [
    "## Filter Kinases by the Number of Kinase Targets They Have\n",
    "If they have fewer than five or more than 2000, they will be filtered out of the dataframe."
   ]
  },
  {
   "cell_type": "code",
   "execution_count": null,
   "metadata": {
    "collapsed": true
   },
   "outputs": [],
   "source": [
    "#Create list of indexes(kinase names) for kinases with fewer than five substrates\n",
    "sig_key = [index for index, rowData in kin.kinase_substrate_num.iteritems() if rowData < 5 or rowData > 2000]\n",
    "\n",
    "#Set indices for dataframe 'kin' of kinases with five or more substrates\n",
    "#indices will also filter out kinases with more than 2000 substrates\n",
    "indices = [index for index in kin.index if index not in sig_key]\n",
    "\n",
    "#Create dataframe of only kinases with five or more substrates\n",
    "#or 2000 or fewer substrates\n",
    "sig = df.set_index('kinase_organism').loc[indices]\n",
    "\n",
    "#Reset index of new dataframe\n",
    "sig.reset_index(inplace = True)\n",
    "\n",
    "#Rename columns of this dataframe to match .sig format\n",
    "colnames = ['Source', 'Substrate', 'Reference']\n",
    "sig.columns = colnames"
   ]
  },
  {
   "cell_type": "code",
   "execution_count": null,
   "metadata": {
    "collapsed": true
   },
   "outputs": [],
   "source": [
    "#Remove kinases with fewer than five substrates or \n",
    "#more than 2000 substrates in 'kin'\n",
    "kin = kin.loc[indices]"
   ]
  },
  {
   "cell_type": "code",
   "execution_count": null,
   "metadata": {},
   "outputs": [],
   "source": [
    "indices"
   ]
  },
  {
   "cell_type": "markdown",
   "metadata": {},
   "source": [
    "## Create .SIG File by Formatting 'df' to sig file format"
   ]
  },
  {
   "cell_type": "code",
   "execution_count": null,
   "metadata": {},
   "outputs": [],
   "source": [
    "#Insert first four columns for .sig file format (NaNs)\n",
    "sig.insert(1, 'NA-1', str(np.nan))\n",
    "sig.insert(2, 'NA-2', str(np.nan))\n",
    "sig.insert(3, 'NA-3', str(np.nan))\n",
    "sig.insert(4, 'NA-4', str(np.nan))\n",
    "\n",
    "#Insert column corresponding to sign (with '?' because it is unknown)\n",
    "sig.insert(6, 'Sign', '?')\n",
    "\n",
    "#Insert column specifying interaction type as phosphorylation\n",
    "sig.insert(7, 'Interaction', 'Phosphorylation')\n",
    "\n",
    "#View dataframe\n",
    "sig.head()"
   ]
  },
  {
   "cell_type": "code",
   "execution_count": null,
   "metadata": {
    "collapsed": true
   },
   "outputs": [],
   "source": [
    "#Create dictionary 'sigd' with index numbers as keys\n",
    "sigd = dict([(key, '') for key in sig.index])\n",
    "\n",
    "# loop through rows with iterrows()\n",
    "for index, rowData in sig.iterrows():\n",
    "    if type(rowData) != type('Hello'):\n",
    "        rowData = str(rowData)\n",
    "    line = ('\\t'.join(rowData))\n",
    "    sigd[index] = line\n",
    "    \n",
    "#Transfer tab-separated info into a new txt file\n",
    "#Make sure to include in ReadMe corresponding column names\n",
    "with open('Combinedsig.txt', 'w') as openfile:\n",
    "    for index in sigd:\n",
    "        openfile.write(sigd[index] + '\\n')"
   ]
  },
  {
   "cell_type": "markdown",
   "metadata": {},
   "source": [
    "## Create Dictionary to be Used Later in CO-Occurence GMT Creation\n",
    "Once the rowData and index is reset in the following block of code, the dictionary will be filled with the relevant rowData."
   ]
  },
  {
   "cell_type": "code",
   "execution_count": null,
   "metadata": {},
   "outputs": [],
   "source": [
    "#Create dictionary 'Combined_kin' with kinases as keys\n",
    "Combined_kin = dict([(key, '') for key in kin.index])"
   ]
  },
  {
   "cell_type": "markdown",
   "metadata": {},
   "source": [
    "# Create Combined .GMT File"
   ]
  },
  {
   "cell_type": "markdown",
   "metadata": {},
   "source": [
    "## Create Dictionary of Row Data to be Included in the Final .GMT"
   ]
  },
  {
   "cell_type": "code",
   "execution_count": null,
   "metadata": {
    "collapsed": true
   },
   "outputs": [],
   "source": [
    "#Reset index of the dataframe\n",
    "kin.reset_index(inplace = True)\n",
    "\n",
    "#create column 'acc_merged' in which all 'acc' elements are joined by a \\t symbol\n",
    "kin['substrates_merged'] = ['\\t'.join(x) for x in kin['substrate']]\n",
    "\n",
    "#drop the now-unneccesary column 'Substrates'\n",
    "kin.drop('substrate', axis=1, inplace = True)\n",
    "\n",
    "#also drop the data-exploratory column 'kinase_substrate_num'\n",
    "kin.drop('kinase_substrate_num', axis=1, inplace = True)\n",
    "\n",
    "#Create dictionary 'Combined_num' with index numbers as keys\n",
    "Combined_num = dict([(key, '') for key in kin.index])\n",
    "\n",
    "# loop through rows with iterrows()\n",
    "for index, rowData in kin.iterrows():\n",
    "    line = ('\\t'.join(rowData))\n",
    "    Combined_num[index] = line\n",
    "    \n",
    "#loop through rows with iterrows()\n",
    "for index, rowData in kin.iterrows():\n",
    "    line = (', '.join(rowData))\n",
    "    Combined_kin[index] = line"
   ]
  },
  {
   "cell_type": "markdown",
   "metadata": {},
   "source": [
    "## Write info into a separate GMT file"
   ]
  },
  {
   "cell_type": "code",
   "execution_count": null,
   "metadata": {
    "collapsed": true
   },
   "outputs": [],
   "source": [
    "#Transfer tab-separated info into a new txt file\n",
    "with open('Combined.gmt', 'w') as openfile:\n",
    "    for index in Combined_num:\n",
    "        openfile.write(str(Combined_num[index]) + '\\n')"
   ]
  },
  {
   "cell_type": "markdown",
   "metadata": {},
   "source": [
    "## Define Functions Needed to Make a Co-Occurence GMT File"
   ]
  },
  {
   "cell_type": "code",
   "execution_count": null,
   "metadata": {
    "collapsed": true
   },
   "outputs": [],
   "source": [
    "def get_p_vals(i, lib1_i, lib2, cooc):\n",
    "    print('getting p values for ' + i)\n",
    "    p_vals = {}\n",
    "    for j in lib2:\n",
    "        print(j)\n",
    "        if not cooc or i <= j:\n",
    "            a = len(set(lib1_i) & set(lib2[j]))\n",
    "            b = len(lib1_i) - a\n",
    "            c = len(lib2[j]) - a\n",
    "            d = 20000 - a - b - c\n",
    "            o, p = stats.fisher_exact([[a,b],[c,d]], alternative='greater')\n",
    "            p_vals[i + ',' + j] = p\n",
    "    return p_vals"
   ]
  },
  {
   "cell_type": "code",
   "execution_count": null,
   "metadata": {},
   "outputs": [],
   "source": [
    "def from_p_matrix_to_cooc_matrix(p_matrix):\n",
    "    p_list = p_matrix.stack()\n",
    "    p_cutoff = np.percentile(p_list, 20)\n",
    "    p_filtered = [[i[0],i[1],p_list[i[0]][i[1]]] for i in p_list.index.values if p_list[i[0]][i[1]] < p_cutoff]\n",
    "\n",
    "if __name__ == '__main__': #this mysterious statement here is necessary for parallel processing\n",
    "    lib1_name = 'Combined.gmt' \n",
    "    lib2_name = 'Combined.gmt' \n",
    "    cooc =  lib1_name == lib2_name\n",
    "    if cooc: \n",
    "        output_fname = lib1_name.replace('.txt','') + '_coo_fisher_p_vals.csv'\n",
    "    else: \n",
    "        output_fname = lib1_name.replace('.txt','') + '_' + lib2_name.replace('.txt','') + '_fisher_p_vals.csv'\n",
    "    if os.path.isfile(output_fname):\n",
    "        print('Re-using old fisher p value matrix')\n",
    "        with open(output_fname, 'rb') as f:\n",
    "            p_df = pd.read_csv(output_fname, header=0, index_col=0, sep='\\t')\n",
    "    else:\n",
    "        print('Creating fisher p value matrix')\n",
    "        if cooc:\n",
    "            print('Libraries are the same: the matrix will be a co-occurance matrix')\n",
    "        lib1, lib2 = Combined_kin,Combined_kin \n",
    "        lib1_tfs, lib2_tfs = list(lib1.keys()), list(lib2.keys())\n",
    "        p_dicts = Parallel(n_jobs=7)(delayed(get_p_vals)(i, lib1[i], lib2, cooc) for i in lib1)\n",
    "        print(\"yes\")\n",
    "        print('combining p value dicts into single dict')\n",
    "        p_combined_dict = { k: v for d in p_dicts for k, v in d.items() }\n",
    "        print('creating and saving DataFrame from the dict')\n",
    "        p_df = pd.DataFrame(index=lib1_tfs, columns = lib2_tfs)\n",
    "        for x in p_combined_dict:\n",
    "            gs1 = x.partition(',')[0]\n",
    "            gs2 = x.partition(',')[2]\n",
    "            p_df.at[gs1,gs2] = p_combined_dict[x]\n",
    "        p_df.to_csv(output_fname, sep='\\t')\n",
    "    p_list = p_df.stack()\n",
    "    #create cutoff and apply as necessary"
   ]
  },
  {
   "cell_type": "code",
   "execution_count": null,
   "metadata": {},
   "outputs": [],
   "source": [
    "for j in Combined_kin:\n",
    "    print(j)"
   ]
  },
  {
   "cell_type": "code",
   "execution_count": null,
   "metadata": {
    "collapsed": true
   },
   "outputs": [],
   "source": []
  }
 ],
 "metadata": {
  "kernelspec": {
   "display_name": "Python 3",
   "language": "python",
   "name": "python3"
  },
  "language_info": {
   "codemirror_mode": {
    "name": "ipython",
    "version": 3
   },
   "file_extension": ".py",
   "mimetype": "text/x-python",
   "name": "python",
   "nbconvert_exporter": "python",
   "pygments_lexer": "ipython3",
   "version": "3.6.1"
  }
 },
 "nbformat": 4,
 "nbformat_minor": 2
}
