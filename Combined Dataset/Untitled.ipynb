{
 "cells": [
  {
   "cell_type": "markdown",
   "metadata": {},
   "source": [
    "# Combined .GMT File\n",
    "This notebook contains code that will concatenate all of the .gmt files created for seven databases (RegPhos, NetworKIN, Swiss-Prot, PhosphoELM, PhosphoSite, HPRD, and MINT) into a single .gmt file. It will also show a distribution for the number of targets per kinase for this combined file."
   ]
  },
  {
   "cell_type": "markdown",
   "metadata": {},
   "source": [
    "## Import and Run Necessary Files"
   ]
  },
  {
   "cell_type": "code",
   "execution_count": 1,
   "metadata": {
    "collapsed": true
   },
   "outputs": [],
   "source": [
    "%run /home/maayanlab/Desktop/Projects/Scripts/init.ipy"
   ]
  },
  {
   "cell_type": "markdown",
   "metadata": {},
   "source": [
    "## Retrieving and Downloading all .GMT files"
   ]
  },
  {
   "cell_type": "code",
   "execution_count": 8,
   "metadata": {
    "collapsed": true
   },
   "outputs": [],
   "source": [
    "HPRD = pd.read_table(\"~/Desktop/Projects/KEA3/HPRD/Uncondensed_HPRD.txt\", header = None)\n",
    "\n",
    "MINT = pd.read_table(\"~/Desktop/Projects/KEA3/MINT/Uncondensed_MINT.txt\", header = None)\n",
    "\n",
    "#Add NetworKIN file\n",
    "\n",
    "PhosphoELM = pd.read_table(\"~/Desktop/Projects/KEA3/PhosphoELM/Uncondensed_PhosphoELM.txt\", header = None)\n",
    "\n",
    "PhosphoSite = pd.read_table(\"~/Desktop/Projects/KEA3/PhosphoSite/Uncondensed_PhosphoSite.txt\", header = None)\n",
    "\n",
    "RP_Hum = pd.read_table(\"~/Desktop/Projects/KEA3/RegPhos/Uncondensed_RegPhos_human.txt\", header = None)\n",
    "\n",
    "RP_Mouse = pd.read_table(\"~/Desktop/Projects/KEA3/RegPhos/Uncondensed_RegPhos_mouse.txt\", header = None)\n",
    "\n",
    "SP_E = pd.read_table(\"~/Desktop/Projects/KEA3/SwissProt/Uncondensed_SwissProtE.txt\", header = None)\n",
    "\n",
    "SP_P = pd.read_table(\"~/Desktop/Projects/KEA3/SwissProt/Uncondensed_SwissProt_Put.txt\", header = None)"
   ]
  },
  {
   "cell_type": "code",
   "execution_count": null,
   "metadata": {
    "collapsed": true
   },
   "outputs": [],
   "source": []
  }
 ],
 "metadata": {
  "kernelspec": {
   "display_name": "Python 3",
   "language": "python",
   "name": "python3"
  },
  "language_info": {
   "codemirror_mode": {
    "name": "ipython",
    "version": 3
   },
   "file_extension": ".py",
   "mimetype": "text/x-python",
   "name": "python",
   "nbconvert_exporter": "python",
   "pygments_lexer": "ipython3",
   "version": "3.6.1"
  }
 },
 "nbformat": 4,
 "nbformat_minor": 2
}
