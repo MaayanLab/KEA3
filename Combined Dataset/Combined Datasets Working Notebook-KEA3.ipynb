{
 "cells": [
  {
   "cell_type": "markdown",
   "metadata": {},
   "source": [
    "# Combined .GMT File\n",
    "This notebook contains code that will concatenate all of the .gmt files created for seven databases (RegPhos, NetworKIN, Swiss-Prot, PhosphoELM, PhosphoSite, HPRD, and MINT) into a single .gmt file. It will also show a distribution for the number of targets per kinase for this combined file. For the reference column of this file, citations to the paper corresponding to the database will be provided in cases during which the data does not have a pubmed id number. Otherwise, the PubMed id will be displayed."
   ]
  },
  {
   "cell_type": "markdown",
   "metadata": {},
   "source": [
    "## Import and Run Necessary Files"
   ]
  },
  {
   "cell_type": "code",
   "execution_count": null,
   "metadata": {
    "collapsed": true,
    "scrolled": true
   },
   "outputs": [],
   "source": [
    "%run /home/maayanlab/Desktop/Projects/KEA3/Scripts/init.ipy"
   ]
  },
  {
   "cell_type": "markdown",
   "metadata": {},
   "source": [
    "## Retrieving and Downloading all .GMT files"
   ]
  },
  {
   "cell_type": "code",
   "execution_count": null,
   "metadata": {
    "collapsed": true,
    "scrolled": true
   },
   "outputs": [],
   "source": [
    "HPRD = pd.read_table(\"~/Desktop/Projects/KEA3/HPRD/Uncondensed_HPRD.txt\", header = None)\n",
    "\n",
    "MINT = pd.read_table(\"~/Desktop/Projects/KEA3/MINT/Uncondensed_MINT.txt\", header = None)\n",
    "\n",
    "NetworKIN = pd.read_table(\"~/Desktop/Projects/KEA3/NetworKIN/Uncondensed_NetworKIN.txt\", header = None)\n",
    "\n",
    "PhosphoELM = pd.read_table(\"~/Desktop/Projects/KEA3/PhosphoELM/Uncondensed_PhosphoELM.txt\", header = None)\n",
    "\n",
    "PhosphoSite = pd.read_table(\"~/Desktop/Projects/KEA3/PhosphoSite/Uncondensed_PhosphoSite.txt\", header = None)\n",
    "\n",
    "RP_Hum = pd.read_table(\"~/Desktop/Projects/KEA3/RegPhos/Uncondensed_RegPhos_human.txt\", header = None)\n",
    "\n",
    "RP_Mouse = pd.read_table(\"~/Desktop/Projects/KEA3/RegPhos/Uncondensed_RegPhos_mouse.txt\", header = None)\n",
    "\n",
    "SP_E = pd.read_table(\"~/Desktop/Projects/KEA3/SwissProt/Uncondensed_SwissProtE.txt\", header = None)\n",
    "\n",
    "SP_P = pd.read_table(\"~/Desktop/Projects/KEA3/SwissProt/Uncondensed_SwissProt_Put.txt\", header = None)"
   ]
  },
  {
   "cell_type": "markdown",
   "metadata": {},
   "source": [
    "## Concatenate all GMT Dataframes into a Single Dataframe\n",
    "Also removes any duplicates or NAs that may be present in the newly created dataframe."
   ]
  },
  {
   "cell_type": "code",
   "execution_count": null,
   "metadata": {
    "collapsed": true,
    "scrolled": true
   },
   "outputs": [],
   "source": [
    "#Create a list of all of the dataframe\n",
    "c = [HPRD, MINT, NetworKIN, PhosphoELM, PhosphoELM, RP_Hum, RP_Mouse, SP_E, SP_P]\n",
    "\n",
    "#Concatenate all of the rows in the dataframes\n",
    "combined = pd.concat(c)\n",
    "\n",
    "#Assign column names\n",
    "combined.columns = ['kinase_organism', 'substrate', 'pubmed_id']\n",
    "\n",
    "#Drop any duplicate rows in the dataframe\n",
    "combined.drop_duplicates(inplace = True)\n",
    "\n",
    "combined.dropna(inplace = True)"
   ]
  },
  {
   "cell_type": "code",
   "execution_count": null,
   "metadata": {
    "collapsed": true,
    "scrolled": false
   },
   "outputs": [],
   "source": [
    "#View dataframe of combined kinase-substrate interactions\n",
    "combined"
   ]
  },
  {
   "cell_type": "markdown",
   "metadata": {},
   "source": [
    "## Set Index by 'kinase_organism' Column and Group Proteins by Kinase\n",
    "Also, creating a copy of 'combined' to be used later in also creating a combined .SIG file"
   ]
  },
  {
   "cell_type": "code",
   "execution_count": null,
   "metadata": {
    "collapsed": true,
    "scrolled": true
   },
   "outputs": [],
   "source": [
    "#Create a dataframe copy of 'combined' known as 'df'\n",
    "df = combined.copy()\n",
    "\n",
    "combined.drop(\"pubmed_id\", axis = 1, inplace = True)\n",
    "\n",
    "combined.drop_duplicates(inplace = True)\n",
    "\n",
    "#Set index of the dataframe as 'kinase_organism'\n",
    "combined.set_index('kinase_organism', inplace = True)\n",
    "\n",
    "#Combine rows according to same index 'kinase_organism'\n",
    "kin = combined.groupby('kinase_organism').agg(lambda x: tuple(x))"
   ]
  },
  {
   "cell_type": "code",
   "execution_count": null,
   "metadata": {
    "collapsed": true
   },
   "outputs": [],
   "source": [
    "#Confirm that 'df' is a copy of 'combined' and is unchanged by setting the index\n",
    "df.head()"
   ]
  },
  {
   "cell_type": "code",
   "execution_count": null,
   "metadata": {
    "collapsed": true,
    "scrolled": true
   },
   "outputs": [],
   "source": [
    "#View new dataframe\n",
    "kin"
   ]
  },
  {
   "cell_type": "markdown",
   "metadata": {},
   "source": [
    "# Exploratory Data Analysis"
   ]
  },
  {
   "cell_type": "markdown",
   "metadata": {},
   "source": [
    "## Calculate Number of Protein Targets for each Kinase and Sort in Descending Order"
   ]
  },
  {
   "cell_type": "code",
   "execution_count": null,
   "metadata": {
    "collapsed": true
   },
   "outputs": [],
   "source": [
    "# Create column representing counts of protein targets per kinase\n",
    "kin['kinase_substrate_num'] = [len(lst) for kinase, lst in kin['substrate'].iteritems()]\n",
    "\n",
    "# Sort kinases from max to min according to number of protein targets each has\n",
    "kin.sort_values(by = ['kinase_substrate_num'], ascending= False, inplace=True)\n",
    "\n",
    "# View dataframe\n",
    "kin.head()"
   ]
  },
  {
   "cell_type": "markdown",
   "metadata": {},
   "source": [
    "## Display a Histogram Showing the Distribution of the Number of Kinase Targets"
   ]
  },
  {
   "cell_type": "code",
   "execution_count": null,
   "metadata": {
    "collapsed": true
   },
   "outputs": [],
   "source": [
    "# Create histogram displaying the distribution of the number\n",
    "#targets per kinase\n",
    "kin.plot.hist(by = 'kinase_substrate_num', bins = 100)\n",
    "\n",
    "#Show histogram\n",
    "plt.show()"
   ]
  },
  {
   "cell_type": "markdown",
   "metadata": {},
   "source": [
    "## Filter Kinases by the Number of Kinase Targets They Have\n",
    "If they have fewer than five or more than 2000, they will be filtered out of the dataframe."
   ]
  },
  {
   "cell_type": "code",
   "execution_count": null,
   "metadata": {
    "collapsed": true
   },
   "outputs": [],
   "source": [
    "#Create list of indexes(kinase names) for kinases with fewer than five substrates\n",
    "sig_key = [index for index, rowData in kin.kinase_substrate_num.iteritems() if rowData < 5 or rowData > 2000]\n",
    "\n",
    "#Set indices for dataframe 'kin' of kinases with five or more substrates\n",
    "#indices will also filter out kinases with more than 2000 substrates\n",
    "indices = [index for index in kin.index if index not in sig_key]\n",
    "\n",
    "#Create dataframe of all kinases\n",
    "sig = df.set_index('kinase_organism')\n",
    "\n",
    "#Reset index of new dataframe\n",
    "sig.reset_index(inplace = True)\n",
    "\n",
    "#Rename columns of this dataframe to match .sig format\n",
    "colnames = ['Source', 'Substrate', 'PubMed_ID']\n",
    "sig.columns = colnames"
   ]
  },
  {
   "cell_type": "code",
   "execution_count": null,
   "metadata": {
    "collapsed": true
   },
   "outputs": [],
   "source": [
    "#Remove kinases with fewer than five substrates or \n",
    "#more than 2000 substrates in 'kin'\n",
    "kin = kin.loc[indices]"
   ]
  },
  {
   "cell_type": "markdown",
   "metadata": {},
   "source": [
    "## Create .SIG File by Formatting 'df' to sig file format"
   ]
  },
  {
   "cell_type": "code",
   "execution_count": null,
   "metadata": {
    "collapsed": true
   },
   "outputs": [],
   "source": [
    "lst = []\n",
    "for index in sig.index:\n",
    "    lst.append(tuple(sorted(tuple((sig.ix[index,'Source'], sig.ix[index, 'Substrate'])))))\n",
    "sig['interactions'] = lst\n",
    "\n",
    "for i,interact in enumerate(sig['interactions'].unique()):\n",
    "    \n",
    "    ref = (',').join(sig.ix[sig[sig['interactions'] == interact].index, 'PubMed_ID'])\n",
    "    sig.ix[sig[sig['interactions'] == interact].index[0], 'PubMed_ID'] = ref\n",
    "    sig.drop(sig[sig['interactions'] == interact].index[1:], inplace=True)\n",
    "    \n",
    "sig.drop('interactions', axis = 1, inplace = True)\n",
    "sig.head()"
   ]
  },
  {
   "cell_type": "code",
   "execution_count": null,
   "metadata": {
    "collapsed": true
   },
   "outputs": [],
   "source": [
    "#Insert first four columns for .sig file format (NaNs)\n",
    "sig.insert(1, 'NA-1', str(np.nan))\n",
    "sig.insert(2, 'NA-2', str(np.nan))\n",
    "sig.insert(3, 'NA-3', str(np.nan))\n",
    "sig.insert(4, 'NA-4', str(np.nan))\n",
    "\n",
    "#Insert column corresponding to sign (with '?' because it is unknown)\n",
    "sig.insert(6, 'Sign', '?')\n",
    "\n",
    "#Insert column specifying interaction type as phosphorylation\n",
    "sig.insert(7, 'Interaction', 'Phosphorylation')\n",
    "\n",
    "#View dataframe\n",
    "sig.head()"
   ]
  },
  {
   "cell_type": "code",
   "execution_count": null,
   "metadata": {
    "collapsed": true
   },
   "outputs": [],
   "source": [
    "#Create dictionary 'sigd' with index numbers as keys\n",
    "sigd = dict([(key, '') for key in sig.index])\n",
    "\n",
    "# loop through rows with iterrows()\n",
    "for index, rowData in sig.iterrows():\n",
    "    if type(rowData) != type('Hello'):\n",
    "        rowData = str(rowData)\n",
    "    line = ('\\t'.join(rowData))\n",
    "    sigd[index] = line\n",
    "    \n",
    "#Transfer tab-separated info into a new txt file\n",
    "#Make sure to include in ReadMe corresponding column names\n",
    "with open('Combinedsig.txt', 'w') as openfile:\n",
    "    for index in sigd:\n",
    "        openfile.write(sigd[index] + '\\n')"
   ]
  },
  {
   "cell_type": "markdown",
   "metadata": {},
   "source": [
    "# Create Combined .GMT File"
   ]
  },
  {
   "cell_type": "markdown",
   "metadata": {},
   "source": [
    "## Create Dictionary of Row Data to be Included in the Final .GMT"
   ]
  },
  {
   "cell_type": "code",
   "execution_count": null,
   "metadata": {
    "collapsed": true
   },
   "outputs": [],
   "source": [
    "#Reset index of the dataframe\n",
    "kin.reset_index(inplace = True)\n",
    "\n",
    "#create column 'acc_merged' in which all 'acc' elements are joined by a \\t symbol\n",
    "kin['substrates_merged'] = ['\\t'.join(x) for x in kin['substrate']]\n",
    "\n",
    "#drop the now-unneccesary column 'Substrates'\n",
    "kin.drop('substrate', axis=1, inplace = True)\n",
    "\n",
    "#also drop the data-exploratory column 'kinase_substrate_num'\n",
    "kin.drop('kinase_substrate_num', axis=1, inplace = True)\n",
    "\n",
    "#Create dictionary 'PhosphoSite' with index numbers as keys\n",
    "Combined_num = dict([(key, '') for key in kin.index])\n",
    "\n",
    "# loop through rows with iterrows()\n",
    "for index, rowData in kin.iterrows():\n",
    "    line = ('\\t'.join(rowData))\n",
    "    Combined_num[index] = line"
   ]
  },
  {
   "cell_type": "markdown",
   "metadata": {},
   "source": [
    "## Write info into a separate GMT file"
   ]
  },
  {
   "cell_type": "code",
   "execution_count": null,
   "metadata": {
    "collapsed": true
   },
   "outputs": [],
   "source": [
    "#Transfer tab-separated info into a new txt file\n",
    "with open('Combined.gmt', 'w') as openfile:\n",
    "    for index in Combined_num:\n",
    "        openfile.write(str(Combined_num[index]) + '\\n')"
   ]
  },
  {
   "cell_type": "markdown",
   "metadata": {},
   "source": [
    "# Separate GMT into a Combined_Mouse and Combined_Human format\n",
    "This separation is necessary for later creation of a GMT file that ranks the genes associated with each kinase according to their level of co-expression. The code to perform this process relies on the use of separate expression matrices for the human and mouse samples, which therefore requires that the human and mouse samples be separated here."
   ]
  },
  {
   "cell_type": "code",
   "execution_count": null,
   "metadata": {
    "collapsed": true
   },
   "outputs": [],
   "source": [
    "human_indices = []\n",
    "\n",
    "for index, rowData in kin.kinase_organism.iteritems():\n",
    "    if rowData.split('_', 2)[1] == 'Homo sapiens':\n",
    "        human_indices = human_indices + [index]\n",
    "\n",
    "human = kin.loc[human_indices]\n",
    "\n",
    "Combined_hum = dict([(key, '') for key in human.index])\n",
    "\n",
    "for index, rowData in human.iterrows():\n",
    "    line = ('\\t'.join(rowData))\n",
    "    Combined_hum[index] = line\n",
    "    \n",
    "with open('Combined_human.gmt', 'w') as openfile:\n",
    "    for index in Combined_hum:\n",
    "        openfile.write(str(Combined_hum[index]) + '\\n')"
   ]
  },
  {
   "cell_type": "code",
   "execution_count": null,
   "metadata": {
    "collapsed": true
   },
   "outputs": [],
   "source": [
    "mouse_indices = []\n",
    "\n",
    "for index, rowData in kin.kinase_organism.iteritems():\n",
    "    if rowData.split('_', 2)[1] == 'Mus musculus':\n",
    "        mouse_indices = mouse_indices + [index]\n",
    "\n",
    "mouse = kin.loc[mouse_indices]\n",
    "\n",
    "Combined_m = dict([(key, '') for key in mouse.index])\n",
    "\n",
    "for index, rowData in mouse.iterrows():\n",
    "    line = ('\\t'.join(rowData))\n",
    "    Combined_m[index] = line\n",
    "    \n",
    "with open('Combined_mouse.gmt', 'w') as openfile:\n",
    "    for index in Combined_m:\n",
    "        openfile.write(str(Combined_m[index]) + '\\n')"
   ]
  }
 ],
 "metadata": {
  "kernelspec": {
   "display_name": "Python 3",
   "language": "python",
   "name": "python3"
  },
  "language_info": {
   "codemirror_mode": {
    "name": "ipython",
    "version": 3
   },
   "file_extension": ".py",
   "mimetype": "text/x-python",
   "name": "python",
   "nbconvert_exporter": "python",
   "pygments_lexer": "ipython3",
   "version": "3.6.1"
  }
 },
 "nbformat": 4,
 "nbformat_minor": 2
}
